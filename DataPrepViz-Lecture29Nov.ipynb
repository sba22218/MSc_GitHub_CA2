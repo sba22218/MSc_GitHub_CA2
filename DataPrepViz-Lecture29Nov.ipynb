{
 "cells": [
  {
   "cell_type": "code",
   "execution_count": 11,
   "id": "214b62f2",
   "metadata": {},
   "outputs": [],
   "source": [
    " # Executable Dashboards "
   ]
  },
  {
   "cell_type": "code",
   "execution_count": 3,
   "id": "4069f1e1",
   "metadata": {},
   "outputs": [],
   "source": [
    "import pandas as pd\n",
    "\n"
   ]
  },
  {
   "cell_type": "code",
   "execution_count": 4,
   "id": "da743b37",
   "metadata": {},
   "outputs": [],
   "source": [
    "# pip install RISE"
   ]
  },
  {
   "cell_type": "code",
   "execution_count": 5,
   "id": "7229b0c1",
   "metadata": {},
   "outputs": [],
   "source": [
    "# pip install pyinstaller"
   ]
  },
  {
   "cell_type": "code",
   "execution_count": 8,
   "id": "48f124bb",
   "metadata": {},
   "outputs": [
    {
     "ename": "SyntaxError",
     "evalue": "positional argument follows keyword argument (3516920230.py, line 7)",
     "output_type": "error",
     "traceback": [
      "\u001b[1;36m  Input \u001b[1;32mIn [8]\u001b[1;36m\u001b[0m\n\u001b[1;33m    fg='green', font='arial',12,'bold'))\u001b[0m\n\u001b[1;37m                                      ^\u001b[0m\n\u001b[1;31mSyntaxError\u001b[0m\u001b[1;31m:\u001b[0m positional argument follows keyword argument\n"
     ]
    }
   ],
   "source": [
    "import tkinter as tk\n",
    "root = tk.TK()\n",
    "canvas1=tk.Canvas(root, width=300, height=300)\n",
    "canvas1.pack()\n",
    "def hello():\n",
    "    label1=tk.Label(root,text=\"Hello All\",\n",
    "    fg='green', font='arial',12,'bold'))\n",
    "    canvas1.create_window(150,200,window=label1)\n",
    "button1= tk.Button(text=\"Click Me\", command=hello,\n",
    "bg=\"brown\", fg=\"white\")\n",
    "canvas1.create_window(150,150, window=button1)\n",
    "root.mainloop()"
   ]
  },
  {
   "cell_type": "code",
   "execution_count": null,
   "id": "5aa7d444",
   "metadata": {},
   "outputs": [],
   "source": [
    "# Hide code in Jupyter Notebook\n",
    "\n",
    "# Using Code\n",
    "# just insert this code into the first cell and run it!\n",
    "# Can hide code for slideshows and RISE slides \n",
    "from IPython.display import HTML\n",
    "\n",
    "HTML('''<script>\n",
    "\n",
    "code_show=true; \n",
    "\n",
    "function code_toggle() {\n",
    "\n",
    " if (code_show){\n",
    "\n",
    " $('div.input').hide();\n",
    "\n",
    " } else {\n",
    "\n",
    " $('div.input').show();\n",
    "\n",
    " }\n",
    "\n",
    " code_show = !code_show\n",
    "\n",
    "} \n",
    "\n",
    "$( document ).ready(code_toggle);\n",
    "\n",
    "</script>\n",
    "\n",
    "<form action=\"javascript:code_toggle()\"><input type=\"submit\" value=\"Click here to toggle on/off the raw code.\"></form>''')"
   ]
  },
  {
   "cell_type": "code",
   "execution_count": 9,
   "id": "03eb931c",
   "metadata": {},
   "outputs": [],
   "source": [
    " # Executable Dashboards \n",
    "## notes on moodle - Executable Dashboards \n",
    "\n",
    "# To create and share an app or dashboard. \n",
    "# 1. Download Jupyter notebook as Python.  \n",
    "# 3. Step 3: Create the Executable using Pyinstaller\n",
    "# Now you’ll be able to create the executable from the Python script using\n",
    "# pyinstaller.\n",
    "# Simply go to the Command Prompt, and then type:\n",
    "# cd followed by the location where your Python script is stored\n",
    "# In my case, I typed the following in the command prompt:\n",
    "# cd C:\\Users\\dmak\\Desktop\\MyPython\n",
    "# (don’t forget to press Enter after you typed the location where the Python\n",
    "# script is stored on your computer):\n",
    "# Next, use the following template to create the executable:\n",
    "# pyinstaller --onefile pythonScriptName.py\n",
    "# Since in our example, the pythonScriptName is ‘hello‘, then the command\n",
    "# to create the executable is:\n",
    "# pyinstaller --onefile hello.py\n",
    "# Once you’re done, press Enter for the last time.\n",
    "# Step 4: Run the Executable\n",
    "# Your executable should now get created at the location that you specified.\n",
    "# In my case, I went back to the location where I originally stored the ‘hello’\n",
    "# script (C:\\Users\\dmak\\Desktop\\MyPython). Few additional files got created\n",
    "# at that location. To find the executable file, open the dist folder: \n"
   ]
  },
  {
   "cell_type": "code",
   "execution_count": null,
   "id": "aa19dbeb",
   "metadata": {},
   "outputs": [],
   "source": []
  },
  {
   "cell_type": "code",
   "execution_count": null,
   "id": "55a0768a",
   "metadata": {
    "slideshow": {
     "slide_type": "slide"
    }
   },
   "outputs": [],
   "source": []
  },
  {
   "cell_type": "code",
   "execution_count": null,
   "id": "5a74990b",
   "metadata": {
    "slideshow": {
     "slide_type": "slide"
    }
   },
   "outputs": [],
   "source": []
  },
  {
   "cell_type": "code",
   "execution_count": null,
   "id": "174884fb",
   "metadata": {
    "slideshow": {
     "slide_type": "slide"
    }
   },
   "outputs": [],
   "source": []
  },
  {
   "cell_type": "code",
   "execution_count": null,
   "id": "61e0e49b",
   "metadata": {},
   "outputs": [],
   "source": []
  }
 ],
 "metadata": {
  "kernelspec": {
   "display_name": "Python 3 (ipykernel)",
   "language": "python",
   "name": "python3"
  },
  "language_info": {
   "codemirror_mode": {
    "name": "ipython",
    "version": 3
   },
   "file_extension": ".py",
   "mimetype": "text/x-python",
   "name": "python",
   "nbconvert_exporter": "python",
   "pygments_lexer": "ipython3",
   "version": "3.9.12"
  }
 },
 "nbformat": 4,
 "nbformat_minor": 5
}
