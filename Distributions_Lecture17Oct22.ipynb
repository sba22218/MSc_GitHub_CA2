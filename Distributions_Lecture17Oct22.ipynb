{
 "cells": [
  {
   "cell_type": "markdown",
   "id": "949aa06c",
   "metadata": {},
   "source": [
    "## Prob Distribtions calculations"
   ]
  },
  {
   "cell_type": "code",
   "execution_count": 51,
   "id": "4955365e",
   "metadata": {},
   "outputs": [],
   "source": [
    "import numpy as np\n",
    "import pandas as pd\n",
    "import statistics as stats\n",
    "from scipy.stats import poisson"
   ]
  },
  {
   "cell_type": "markdown",
   "id": "a583b0d7",
   "metadata": {},
   "source": [
    "## Poisson "
   ]
  },
  {
   "cell_type": "code",
   "execution_count": 52,
   "id": "5a44f12e",
   "metadata": {},
   "outputs": [],
   "source": [
    "# # Poisson has only 1 paratmeter, Lambda ( = average = mean) "
   ]
  },
  {
   "cell_type": "code",
   "execution_count": 53,
   "id": "a63a183e",
   "metadata": {},
   "outputs": [],
   "source": [
    "## These are the same as we did the the probability distribution app, but in Python. See lecture notes if required. "
   ]
  },
  {
   "cell_type": "code",
   "execution_count": 54,
   "id": "9d1a263a",
   "metadata": {},
   "outputs": [
    {
     "data": {
      "text/plain": [
       "0.18044704431548356"
      ]
     },
     "execution_count": 54,
     "metadata": {},
     "output_type": "execute_result"
    }
   ],
   "source": [
    "# What is the probability of exactly 3 accidents happening in 1 day (poisson becasue it's the number of elements (accidents) happening in a time period) \n",
    "\n",
    "# EXACT NUMBER \n",
    "\n",
    "\n",
    "# k = number we are looking for, i.e. number of accidents, \n",
    "# mu = expected value = lambda = average \n",
    "poisson.pmf(k = 3, mu = 2)"
   ]
  },
  {
   "cell_type": "code",
   "execution_count": 55,
   "id": "a819aaba",
   "metadata": {},
   "outputs": [
    {
     "data": {
      "text/plain": [
       "0.6766764161830634"
      ]
     },
     "execution_count": 55,
     "metadata": {},
     "output_type": "execute_result"
    }
   ],
   "source": [
    "# The probability of less than 3 accidents happening in one day \n",
    "# We need to do less or equal than 2\n",
    "# LESS OR EQUALS \n",
    "\n",
    "poisson.cdf(k = 2, mu = 2) # c STANDS FOR CUMULATIVE "
   ]
  },
  {
   "cell_type": "code",
   "execution_count": 56,
   "id": "c22598d8",
   "metadata": {},
   "outputs": [
    {
     "data": {
      "text/plain": [
       "0.32332358381693654"
      ]
     },
     "execution_count": 56,
     "metadata": {},
     "output_type": "execute_result"
    }
   ],
   "source": [
    "# The probability of more than 2 accidents happening in one day \n",
    "\n",
    "# MORE \n",
    "# S stands for superior, ie. more than \n",
    "\n",
    "poisson.sf(k=2, mu =2)"
   ]
  },
  {
   "cell_type": "code",
   "execution_count": 57,
   "id": "df0e2734",
   "metadata": {},
   "outputs": [
    {
     "data": {
      "text/plain": [
       "0.5774305418095476"
      ]
     },
     "execution_count": 57,
     "metadata": {},
     "output_type": "execute_result"
    }
   ],
   "source": [
    "# The probability of between 2 and 5 ccidents inclusice \n",
    "poisson.cdf( k = 5, mu = 2) - poisson.cdf(k = 1, mu =2)"
   ]
  },
  {
   "cell_type": "markdown",
   "id": "d8454cb4",
   "metadata": {},
   "source": [
    "## Binomial "
   ]
  },
  {
   "cell_type": "code",
   "execution_count": 58,
   "id": "ed02cda4",
   "metadata": {},
   "outputs": [],
   "source": [
    "# Binomial has 2 parameters, n (sample size) amd p (probability) "
   ]
  },
  {
   "cell_type": "code",
   "execution_count": 59,
   "id": "4471757f",
   "metadata": {},
   "outputs": [],
   "source": [
    "# p = probability of any random variable to have the charastic "
   ]
  },
  {
   "cell_type": "code",
   "execution_count": 60,
   "id": "cbce3d25",
   "metadata": {},
   "outputs": [],
   "source": [
    "from scipy.stats import binom"
   ]
  },
  {
   "cell_type": "code",
   "execution_count": 61,
   "id": "232192ee",
   "metadata": {},
   "outputs": [
    {
     "data": {
      "text/plain": [
       "0.20132659199999992"
      ]
     },
     "execution_count": 61,
     "metadata": {},
     "output_type": "execute_result"
    }
   ],
   "source": [
    "#The probability that there are exactly 3, when n=10 and p=0.20\n",
    "binom.pmf(k = 3, n = 10, p = 0.20 )"
   ]
  },
  {
   "cell_type": "code",
   "execution_count": 62,
   "id": "fb68cc83",
   "metadata": {},
   "outputs": [
    {
     "data": {
      "text/plain": [
       "0.6777995263999999"
      ]
     },
     "execution_count": 62,
     "metadata": {},
     "output_type": "execute_result"
    }
   ],
   "source": [
    "# The probability of less or equals than 2, where n=10 and p =0.20 \n",
    "binom.cdf(k=2, n =10, p = 0.2)"
   ]
  },
  {
   "cell_type": "code",
   "execution_count": 63,
   "id": "2a39eec7",
   "metadata": {},
   "outputs": [
    {
     "data": {
      "text/plain": [
       "0.12087388160000007"
      ]
     },
     "execution_count": 63,
     "metadata": {},
     "output_type": "execute_result"
    }
   ],
   "source": [
    "# The probability of more than 3, when n = 10 and p = 0.20\n",
    "binom.sf( k = 3, n = 10, p = 0.20)"
   ]
  },
  {
   "cell_type": "code",
   "execution_count": 64,
   "id": "2ce916e8",
   "metadata": {},
   "outputs": [],
   "source": [
    "\n",
    "# Homework - Read - "
   ]
  },
  {
   "cell_type": "markdown",
   "id": "32936cb2",
   "metadata": {},
   "source": [
    "## Homework"
   ]
  },
  {
   "cell_type": "code",
   "execution_count": 69,
   "id": "27c81cfa",
   "metadata": {},
   "outputs": [],
   "source": [
    "# Tasks\n",
    "# Q1. How can you transform discrete variables into continiou ones? \n",
    "# Q2: See combined exercises on Moodle \n",
    "# 3 Read ## Check out the Introductory Statistics book on Moodle. Marion loves it. Easy lanugaue.  "
   ]
  },
  {
   "cell_type": "code",
   "execution_count": 76,
   "id": "b49e40ba",
   "metadata": {},
   "outputs": [],
   "source": [
    "# Lecturer Marina Iantorno - Statistics\n",
    "# Poisson Distribution\n",
    "# Exercise 1.\n",
    "# In a rolling process occurs, in average, one fault every 10 metres. The sheets are cut into 5 metre pieces.\n",
    "# a) What is the probability that a piece will not have any faulty? Answer: 0.6065\n",
    "# b) What is the probability that a piece has more than 2 defects? Answer: 0.0143\n",
    "# Exercise 2.\n",
    "# A computer presents, in average, 2 interruptions per hour. Usually, the computer performs all its\n",
    "# functions correctly when there are at most 7 interruptions in 3 hours of work. Calculate the probability\n",
    "# of this happening. Answer: 0.7439\n",
    "# Exercise 3.\n",
    "# A printer company that works with magazines suppose that the average of spelling mistakes per page\n",
    "# is 0.5. If we pick a magazine with 30 pages,\n",
    "# a) What is the probability to find more than 5 mistakes? Answer: 0.9972\n",
    "# b) What is the probability to find at most 10 mistakes? Answer: 0.1185\n",
    "# c) What is the probability to find 20 mistakes? Answer: 0.0418\n",
    "# d) How many mistakes do we expect to find in the selected magazine? Answer: 15 mistakes\n",
    "# Exercise 4.\n",
    "# A pizzeria receives, in average, 4 calls for delivery per hour. On Saturdays, the store works 5 hours. If\n",
    "# we pick a random Saturday,\n",
    "# a) What is the probability that the pizzeria receives at least 10 calls for delivery? Answer: 0.995\n",
    "# b) What is the probability that the pizzeria receives more than 12 calls for delivery? Answer: 0.9609\n",
    "# c) What is the probability that the pizzeria receives at most 15 calls for delivery? Answer: 0.1565\n",
    "# Lecturer Marina Iantorno - Statistics\n",
    "# Combined Exercises.\n",
    "# Exercise 1\n",
    "# The coils of rope in a port have an average of 2 knots per metre. If 10 coils of 5 metres each are\n",
    "# inspected,\n",
    "# a) What is the probability to find 2 coils with more than 8 knots? Answer: 0.0035\n",
    "# b) What is the probability to find 5 coils with more than 8 knots? Answer: 0.1434\n",
    "# c) How many coils with more than 8 knots do we expect to find within these 10 that are inspected?\n",
    "# Answer: 6.6 coils.\n",
    "# Exercise 2\n",
    "# In a wire control process, it is known that the number of faults every 10 metres follows a Poisson\n",
    "# distribution with variance of 1. What is the probability that, inspecting 20 wires of 10 metres each, we\n",
    "# find at least one fault in more than 10 of them? Answer: 0.8349"
   ]
  },
  {
   "cell_type": "markdown",
   "id": "052aac29",
   "metadata": {},
   "source": [
    "## MY POISSON NOTES & EXAMPLES"
   ]
  },
  {
   "cell_type": "code",
   "execution_count": 80,
   "id": "81a7d1f2",
   "metadata": {},
   "outputs": [
    {
     "data": {
      "text/plain": [
       "0.5774305418095476"
      ]
     },
     "execution_count": 80,
     "metadata": {},
     "output_type": "execute_result"
    }
   ],
   "source": [
    "\n",
    "\n",
    "# My notes: Poisson is for the number of elements (accidents) happening in a time period \n",
    "\n",
    "# k = number we are looking for, i.e. number of accidents, \n",
    "# mu = expected value = lambda = average \n",
    "\n",
    "# POISSON - EXACT NUMBER  \n",
    "poisson.pmf(k = 3, mu = 2)\n",
    "\n",
    "# POISSON - LESS OR EQUALS \n",
    "poisson.cdf(k = 2, mu = 2) # c STANDS FOR CUMULATIVE \n",
    "\n",
    "# # MORE \n",
    "# S stands for superior, ie. more than \n",
    "\n",
    "poisson.sf(k=2, mu =2)\n",
    "\n",
    "# The probability of between 2 and 5 ccidents inclusice \n",
    "poisson.cdf( k = 5, mu = 2) - poisson.cdf(k = 1, mu =2)\n",
    "\n",
    "\n"
   ]
  },
  {
   "cell_type": "code",
   "execution_count": 90,
   "id": "e4313ded",
   "metadata": {},
   "outputs": [
    {
     "data": {
      "text/plain": [
       "0.01438767796697068"
      ]
     },
     "execution_count": 90,
     "metadata": {},
     "output_type": "execute_result"
    }
   ],
   "source": [
    "# Lecturer Marina Iantorno - Statistics\n",
    "# Poisson Distribution\n",
    "# Exercise 1.\n",
    "###### In a rolling process occurs, in average, one fault every 10 metres. The sheets are cut into 5 metre pieces.\n",
    "#### a) What is the probability that a piece will not have any faulty? Answer: 0.6065\n",
    "# POISSON - EXACT NUMBER  \n",
    "poisson.pmf(k = 0, mu = (5/10))\n",
    "# 5/ 10 becasue we're looking for the average falt per piece. \n",
    "\n",
    "#### b) What is the probability that a piece has more than 2 defects? Answer: 0.0143\n",
    "\n",
    "\n",
    "\n",
    "# be careful here because sometimes  the question is '2 OR more' but the formula is 'greater than (not euqual to or greater than)' But that's not the case in this example\n",
    "# # MORE \n",
    "# S stands for superior, ie. more than \n",
    "\n",
    "poisson.sf(k=2, mu = (5/10)) \n",
    "\n",
    "\n",
    "\n"
   ]
  },
  {
   "cell_type": "code",
   "execution_count": 117,
   "id": "25f58e0d",
   "metadata": {},
   "outputs": [
    {
     "data": {
      "text/plain": [
       "0.743979760453717"
      ]
     },
     "execution_count": 117,
     "metadata": {},
     "output_type": "execute_result"
    }
   ],
   "source": [
    "# Exercise 2.\n",
    "# A computer presents, in average, 2 interruptions per hour. Usually, the computer performs all its\n",
    "# functions correctly when there are at most 7 interruptions in 3 hours of work. Calculate the probability\n",
    "# of this happening. \n",
    "\n",
    "# Answer = 0.7439\n",
    "\n",
    "# my intereperttion of the above: what's the P of getting 7 or less inturruptions in 3 hours? \n",
    "## mu = 2 interuptions x 3 hours \n",
    "mu = 2 * 3\n",
    "mu\n",
    "k = 7 \n",
    "k\n",
    "\n",
    "# Be careful becasue the below is lees than OR EQUAL, but the question is 'less than or equal so it's okay in this case, \n",
    "# # POISSON - LESS OR EQUALS \n",
    "(poisson.cdf(k, mu)) # c STANDS FOR CUMULATIVE \n",
    "\n",
    "\n"
   ]
  },
  {
   "cell_type": "code",
   "execution_count": 119,
   "id": "68ba3192",
   "metadata": {},
   "outputs": [
    {
     "data": {
      "text/plain": [
       "0.997207570667299"
      ]
     },
     "execution_count": 119,
     "metadata": {},
     "output_type": "execute_result"
    }
   ],
   "source": [
    "# Exercise 3.\n",
    "# A printer company that works with magazines suppose that the average of spelling mistakes per page\n",
    "# is 0.5. If we pick a magazine with 30 pages,\n",
    "# a) What is the probability to find more than 5 mistakes? Answer: 0.9972\n",
    "\n",
    "# # MORE \n",
    "# S stands for superior, ie. more than \n",
    "\n",
    "poisson.sf(k=5, mu =(0.5*30))\n",
    "\n",
    "\n"
   ]
  },
  {
   "cell_type": "code",
   "execution_count": 122,
   "id": "04ce8c3c",
   "metadata": {},
   "outputs": [
    {
     "data": {
      "text/plain": [
       "0.11846441152901499"
      ]
     },
     "execution_count": 122,
     "metadata": {},
     "output_type": "execute_result"
    }
   ],
   "source": [
    "# b) What is the probability to find at most 10 mistakes? Answer: 0.1185\n",
    "\n",
    "# POISSON - LESS OR EQUALS \n",
    "poisson.cdf(k = 10, mu = (0.5*30)) # c STANDS FOR CUMULATIVE \n"
   ]
  },
  {
   "cell_type": "code",
   "execution_count": 123,
   "id": "98dec24a",
   "metadata": {},
   "outputs": [
    {
     "data": {
      "text/plain": [
       "0.04181030500106466"
      ]
     },
     "execution_count": 123,
     "metadata": {},
     "output_type": "execute_result"
    }
   ],
   "source": [
    "# c) What is the probability to find 20 mistakes? Answer: 0.0418\n",
    "\n",
    "# POISSON - EXACT NUMBER  \n",
    "poisson.pmf(k = 20, mu = 0.5*30)\n"
   ]
  },
  {
   "cell_type": "code",
   "execution_count": 125,
   "id": "8be9c490",
   "metadata": {},
   "outputs": [
    {
     "data": {
      "text/plain": [
       "15.0"
      ]
     },
     "execution_count": 125,
     "metadata": {},
     "output_type": "execute_result"
    }
   ],
   "source": [
    "# d) How many mistakes do we expect to find in the selected magazine? Answer: 15 mistakes \n",
    "# 30 pages, .5 misteakes per page -> \n",
    "answer = 30 *.5\n",
    "answer"
   ]
  },
  {
   "cell_type": "code",
   "execution_count": 73,
   "id": "31c2d3dc",
   "metadata": {},
   "outputs": [],
   "source": [
    "# Exercise 4.\n",
    "# A pizzeria receives, in average, 4 calls for delivery per hour. On Saturdays, the store works 5 hours. If\n",
    "# we pick a random Saturday,\n",
    "# a) What is the probability that the pizzeria receives at least 10 calls for delivery? Answer: 0.995\n",
    "\n",
    "\n",
    "# b) What is the probability that the pizzeria receives more than 12 calls for delivery? Answer: 0.9609\n",
    "# c) What is the probability that the pizzeria receives at most 15 calls for delivery? Answer: 0.1565\n",
    "# Lecturer Marina Iantorno - Statistics\n"
   ]
  },
  {
   "cell_type": "code",
   "execution_count": 74,
   "id": "18ad0634",
   "metadata": {},
   "outputs": [],
   "source": [
    "# Combined Exercises.\n",
    "# Exercise 1\n",
    "# The coils of rope in a port have an average of 2 knots per metre. If 10 coils of 5 metres each are\n",
    "# inspected,\n",
    "# a) What is the probability to find 2 coils with more than 8 knots? Answer: 0.0035\n",
    "# b) What is the probability to find 5 coils with more than 8 knots? Answer: 0.1434\n",
    "# c) How many coils with more than 8 knots do we expect to find within these 10 that are inspected?\n",
    "# Answer: 6.6 coils.\n"
   ]
  },
  {
   "cell_type": "code",
   "execution_count": 75,
   "id": "0f351350",
   "metadata": {},
   "outputs": [],
   "source": [
    "# Exercise 2\n",
    "# In a wire control process, it is known that the number of faults every 10 metres follows a Poisson\n",
    "# distribution with variance of 1. What is the probability that, inspecting 20 wires of 10 metres each, we\n",
    "# find at least one fault in more than 10 of them? Answer: 0.8349"
   ]
  },
  {
   "cell_type": "code",
   "execution_count": null,
   "id": "8d9becca",
   "metadata": {},
   "outputs": [],
   "source": []
  }
 ],
 "metadata": {
  "kernelspec": {
   "display_name": "Python 3 (ipykernel)",
   "language": "python",
   "name": "python3"
  },
  "language_info": {
   "codemirror_mode": {
    "name": "ipython",
    "version": 3
   },
   "file_extension": ".py",
   "mimetype": "text/x-python",
   "name": "python",
   "nbconvert_exporter": "python",
   "pygments_lexer": "ipython3",
   "version": "3.9.12"
  }
 },
 "nbformat": 4,
 "nbformat_minor": 5
}
