{
 "cells": [
  {
   "cell_type": "code",
   "execution_count": 15,
   "id": "5db80cdf",
   "metadata": {},
   "outputs": [],
   "source": [
    "# IMPORT PANDAS / DATA MANIPULATION MODULES\n",
    "import pandas as pd\n",
    "import numpy as np\n",
    "import os\n",
    "# import glob\n",
    "import csv\n",
    "import math\n",
    "import datetime"
   ]
  },
  {
   "cell_type": "code",
   "execution_count": 16,
   "id": "3b693eac",
   "metadata": {},
   "outputs": [],
   "source": [
    "# IMPORT CHARTING\n",
    "import seaborn as sns\n",
    "import matplotlib.pyplot as plt\n",
    "import panel as pn"
   ]
  },
  {
   "cell_type": "code",
   "execution_count": 17,
   "id": "c98185a5",
   "metadata": {},
   "outputs": [],
   "source": [
    "# INITIALIZE PANEL\n",
    "# pn.extension(sizing_mode='stretch_width')\n",
    "pn.extension('tabulator', sizing_mode='stretch_width')\n",
    "import hvplot.pandas"
   ]
  },
  {
   "cell_type": "code",
   "execution_count": 18,
   "id": "a3155fb2",
   "metadata": {},
   "outputs": [],
   "source": [
    "# ADDING TO HIDE RED SQUARES\n",
    "import warnings\n",
    "from pandas.core.common import SettingWithCopyWarning\n",
    "warnings.simplefilter(action=\"ignore\", category=SettingWithCopyWarning)"
   ]
  },
  {
   "cell_type": "code",
   "execution_count": 19,
   "id": "ad7733b6",
   "metadata": {},
   "outputs": [],
   "source": [
    "# IMPORT FOR FORMATTING\n",
    "from bokeh.models.widgets.tables import NumberFormatter, BooleanFormatter, StringFormatter\n",
    "# https://panel.holoviz.org/reference/widgets/Tabulator.html\n",
    "# FORMATTING: https://panel.holoviz.org/reference/widgets/Tabulator.html#formatters\n",
    "# https://tabulator.info/docs/4.9/format#format-builtin"
   ]
  },
  {
   "cell_type": "markdown",
   "id": "c3c30b93",
   "metadata": {},
   "source": [
    "# Data Import and Cleanup"
   ]
  },
  {
   "cell_type": "code",
   "execution_count": 20,
   "id": "21e12c99",
   "metadata": {},
   "outputs": [],
   "source": [
    "# IMPORT DATA\n",
    "# FILE PATH\n",
    "path = './DATAOUTPUTS/df_all_gdp_ppi.csv'\n",
    "# IMPORT\n",
    "df_gdp_ppi_import = pd.read_csv(path)"
   ]
  },
  {
   "cell_type": "code",
   "execution_count": 21,
   "id": "2bab953d",
   "metadata": {},
   "outputs": [
    {
     "data": {
      "text/html": [
       "<div>\n",
       "<style scoped>\n",
       "    .dataframe tbody tr th:only-of-type {\n",
       "        vertical-align: middle;\n",
       "    }\n",
       "\n",
       "    .dataframe tbody tr th {\n",
       "        vertical-align: top;\n",
       "    }\n",
       "\n",
       "    .dataframe thead th {\n",
       "        text-align: right;\n",
       "    }\n",
       "</style>\n",
       "<table border=\"1\" class=\"dataframe\">\n",
       "  <thead>\n",
       "    <tr style=\"text-align: right;\">\n",
       "      <th></th>\n",
       "      <th>LOCATION</th>\n",
       "      <th>INDICATOR</th>\n",
       "      <th>SUBJECT</th>\n",
       "      <th>MEASURE</th>\n",
       "      <th>FREQUENCY</th>\n",
       "      <th>TIME</th>\n",
       "      <th>GDP</th>\n",
       "      <th>Flag Codes</th>\n",
       "      <th>Lookup Area</th>\n",
       "      <th>Lookup M49</th>\n",
       "      <th>...</th>\n",
       "      <th>Item Code (CPC)</th>\n",
       "      <th>Item</th>\n",
       "      <th>Element Code</th>\n",
       "      <th>Element</th>\n",
       "      <th>Months Code</th>\n",
       "      <th>Months</th>\n",
       "      <th>Unit</th>\n",
       "      <th>YEAR</th>\n",
       "      <th>wheat_PPI</th>\n",
       "      <th>YEAR_INT</th>\n",
       "    </tr>\n",
       "  </thead>\n",
       "  <tbody>\n",
       "    <tr>\n",
       "      <th>0</th>\n",
       "      <td>AUT</td>\n",
       "      <td>GDP</td>\n",
       "      <td>TOT</td>\n",
       "      <td>USD_CAP</td>\n",
       "      <td>A</td>\n",
       "      <td>2000</td>\n",
       "      <td>29380.031110</td>\n",
       "      <td>NaN</td>\n",
       "      <td>Austria</td>\n",
       "      <td>40.0</td>\n",
       "      <td>...</td>\n",
       "      <td>'0111</td>\n",
       "      <td>Wheat</td>\n",
       "      <td>5539</td>\n",
       "      <td>Producer Price Index (2014-2016 = 100)</td>\n",
       "      <td>7021</td>\n",
       "      <td>Annual value</td>\n",
       "      <td>NaN</td>\n",
       "      <td>Y2000</td>\n",
       "      <td>85.69</td>\n",
       "      <td>2000</td>\n",
       "    </tr>\n",
       "    <tr>\n",
       "      <th>1</th>\n",
       "      <td>AUT</td>\n",
       "      <td>GDP</td>\n",
       "      <td>TOT</td>\n",
       "      <td>USD_CAP</td>\n",
       "      <td>A</td>\n",
       "      <td>2001</td>\n",
       "      <td>29707.462264</td>\n",
       "      <td>NaN</td>\n",
       "      <td>Austria</td>\n",
       "      <td>40.0</td>\n",
       "      <td>...</td>\n",
       "      <td>'0111</td>\n",
       "      <td>Wheat</td>\n",
       "      <td>5539</td>\n",
       "      <td>Producer Price Index (2014-2016 = 100)</td>\n",
       "      <td>7021</td>\n",
       "      <td>Annual value</td>\n",
       "      <td>NaN</td>\n",
       "      <td>Y2001</td>\n",
       "      <td>82.98</td>\n",
       "      <td>2001</td>\n",
       "    </tr>\n",
       "  </tbody>\n",
       "</table>\n",
       "<p>2 rows × 26 columns</p>\n",
       "</div>"
      ],
      "text/plain": [
       "  LOCATION INDICATOR SUBJECT  MEASURE FREQUENCY  TIME           GDP  \\\n",
       "0      AUT       GDP     TOT  USD_CAP         A  2000  29380.031110   \n",
       "1      AUT       GDP     TOT  USD_CAP         A  2001  29707.462264   \n",
       "\n",
       "  Flag Codes Lookup Area  Lookup M49  ... Item Code (CPC)   Item Element Code  \\\n",
       "0        NaN     Austria        40.0  ...           '0111  Wheat         5539   \n",
       "1        NaN     Austria        40.0  ...           '0111  Wheat         5539   \n",
       "\n",
       "                                  Element  Months Code        Months Unit  \\\n",
       "0  Producer Price Index (2014-2016 = 100)         7021  Annual value  NaN   \n",
       "1  Producer Price Index (2014-2016 = 100)         7021  Annual value  NaN   \n",
       "\n",
       "    YEAR  wheat_PPI YEAR_INT  \n",
       "0  Y2000      85.69     2000  \n",
       "1  Y2001      82.98     2001  \n",
       "\n",
       "[2 rows x 26 columns]"
      ]
     },
     "execution_count": 21,
     "metadata": {},
     "output_type": "execute_result"
    }
   ],
   "source": [
    "df_gdp_ppi_import.head(2)"
   ]
  },
  {
   "cell_type": "code",
   "execution_count": 22,
   "id": "9e589880",
   "metadata": {},
   "outputs": [
    {
     "name": "stdout",
     "output_type": "stream",
     "text": [
      "<class 'pandas.core.frame.DataFrame'>\n",
      "RangeIndex: 682 entries, 0 to 681\n",
      "Data columns (total 26 columns):\n",
      " #   Column           Non-Null Count  Dtype  \n",
      "---  ------           --------------  -----  \n",
      " 0   LOCATION         682 non-null    object \n",
      " 1   INDICATOR        682 non-null    object \n",
      " 2   SUBJECT          682 non-null    object \n",
      " 3   MEASURE          682 non-null    object \n",
      " 4   FREQUENCY        682 non-null    object \n",
      " 5   TIME             682 non-null    int64  \n",
      " 6   GDP              682 non-null    float64\n",
      " 7   Flag Codes       37 non-null     object \n",
      " 8   Lookup Area      682 non-null    object \n",
      " 9   Lookup M49       682 non-null    float64\n",
      " 10  Lookup iso       682 non-null    object \n",
      " 11  Area Code        682 non-null    int64  \n",
      " 12  Area Code (M49)  682 non-null    object \n",
      " 13  Area             682 non-null    object \n",
      " 14  eu_member        682 non-null    int64  \n",
      " 15  Item Code        682 non-null    int64  \n",
      " 16  Item Code (CPC)  682 non-null    object \n",
      " 17  Item             682 non-null    object \n",
      " 18  Element Code     682 non-null    int64  \n",
      " 19  Element          682 non-null    object \n",
      " 20  Months Code      682 non-null    int64  \n",
      " 21  Months           682 non-null    object \n",
      " 22  Unit             0 non-null      float64\n",
      " 23  YEAR             682 non-null    object \n",
      " 24  wheat_PPI        682 non-null    float64\n",
      " 25  YEAR_INT         682 non-null    int64  \n",
      "dtypes: float64(4), int64(7), object(15)\n",
      "memory usage: 138.7+ KB\n"
     ]
    }
   ],
   "source": [
    "df_gdp_ppi_import.info()"
   ]
  },
  {
   "cell_type": "code",
   "execution_count": 23,
   "id": "02c73288",
   "metadata": {},
   "outputs": [
    {
     "data": {
      "text/plain": [
       "Index(['LOCATION', 'INDICATOR', 'SUBJECT', 'MEASURE', 'FREQUENCY', 'TIME',\n",
       "       'GDP', 'Flag Codes', 'Lookup Area', 'Lookup M49', 'Lookup iso',\n",
       "       'Area Code', 'Area Code (M49)', 'Area', 'eu_member', 'Item Code',\n",
       "       'Item Code (CPC)', 'Item', 'Element Code', 'Element', 'Months Code',\n",
       "       'Months', 'Unit', 'YEAR', 'wheat_PPI', 'YEAR_INT'],\n",
       "      dtype='object')"
      ]
     },
     "execution_count": 23,
     "metadata": {},
     "output_type": "execute_result"
    }
   ],
   "source": [
    "df_gdp_ppi_import.columns"
   ]
  },
  {
   "cell_type": "code",
   "execution_count": 24,
   "id": "0500ef55",
   "metadata": {},
   "outputs": [],
   "source": [
    "# REMOVE DUPLICATE FIELDS\n",
    "df_gdp_ppi_removing_columns = df_gdp_ppi_import[['LOCATION', 'INDICATOR', 'SUBJECT', 'MEASURE', 'FREQUENCY', 'TIME', 'GDP', 'Flag Codes', 'Lookup iso','Area Code', 'Area Code (M49)', 'Area', 'eu_member', 'Item Code', 'Item Code (CPC)', 'Item', 'Element Code', 'Element', 'Months Code', 'Months', 'Unit', 'wheat_PPI'                                          ]]\n",
    "# "
   ]
  },
  {
   "cell_type": "code",
   "execution_count": 25,
   "id": "97a49218",
   "metadata": {},
   "outputs": [
    {
     "data": {
      "text/plain": [
       "Index(['LOCATION', 'INDICATOR', 'SUBJECT', 'MEASURE', 'FREQUENCY', 'TIME',\n",
       "       'GDP', 'Flag Codes', 'Lookup iso', 'Area Code', 'Area Code (M49)',\n",
       "       'Area', 'eu_member', 'Item Code', 'Item Code (CPC)', 'Item',\n",
       "       'Element Code', 'Element', 'Months Code', 'Months', 'Unit',\n",
       "       'wheat_PPI'],\n",
       "      dtype='object')"
      ]
     },
     "execution_count": 25,
     "metadata": {},
     "output_type": "execute_result"
    }
   ],
   "source": [
    "# PRINT UGLY COLUMNS\n",
    "df_gdp_ppi_removing_columns.columns\n",
    "# "
   ]
  },
  {
   "cell_type": "code",
   "execution_count": 26,
   "id": "012ab8d3",
   "metadata": {},
   "outputs": [
    {
     "data": {
      "text/plain": [
       "Index(['LOCATION', 'INDICATOR', 'SUBJECT', 'MEASURE', 'FREQUENCY', 'YEAR',\n",
       "       'GDP', 'FLAG_CODES', 'LOOKUP_ISO', 'AREA_CODE', 'AREA_CODE_M49', 'AREA',\n",
       "       'EU_MEMBER', 'ITEM_CODE', 'ITEM_CODE_CPC', 'ITEM', 'ELEMENT_CODE',\n",
       "       'ELEMENT', 'MONTHS_CODE', 'MONTHS', 'UNIT', 'WHEAT_PPI', 'EU_STRING'],\n",
       "      dtype='object')"
      ]
     },
     "execution_count": 26,
     "metadata": {},
     "output_type": "execute_result"
    }
   ],
   "source": [
    "# RENAME COLUMNS\n",
    "df_gdp_ppi_removing_columns.columns = df_gdp_ppi_removing_columns.columns.str.upper()\n",
    "df_gdp_ppi_removing_columns.columns = df_gdp_ppi_removing_columns.columns.str.replace(\" \", \"_\")\n",
    "df_gdp_ppi_removing_columns.columns = df_gdp_ppi_removing_columns.columns.str.replace(\"(\", \"\", regex=True)\n",
    "df_gdp_ppi_removing_columns.columns = df_gdp_ppi_removing_columns.columns.str.replace(\")\", \"\", regex=True)\n",
    "df_gdp_ppi_removing_columns.rename(columns = {'TIME':'YEAR'}, inplace = True)\n",
    "df_gdp_ppi_removing_columns['EU_STRING'] = np.where(df_gdp_ppi_removing_columns['EU_MEMBER'] == 1, \"EU\", \"NON-EU\")\n",
    "# df_gdp_ppi_removing_columns['YEAR'] = df_gdp_ppi_removing_columns['TIME']\n",
    "df_gdp_ppi_removing_columns.columns"
   ]
  },
  {
   "cell_type": "code",
   "execution_count": 27,
   "id": "96731233",
   "metadata": {},
   "outputs": [],
   "source": [
    "# df_gdp_ppi_removing_columns.head(2)"
   ]
  },
  {
   "cell_type": "code",
   "execution_count": 28,
   "id": "92e0da4f",
   "metadata": {},
   "outputs": [
    {
     "data": {
      "text/html": [
       "<div>\n",
       "<style scoped>\n",
       "    .dataframe tbody tr th:only-of-type {\n",
       "        vertical-align: middle;\n",
       "    }\n",
       "\n",
       "    .dataframe tbody tr th {\n",
       "        vertical-align: top;\n",
       "    }\n",
       "\n",
       "    .dataframe thead th {\n",
       "        text-align: right;\n",
       "    }\n",
       "</style>\n",
       "<table border=\"1\" class=\"dataframe\">\n",
       "  <thead>\n",
       "    <tr style=\"text-align: right;\">\n",
       "      <th></th>\n",
       "      <th>LOCATION</th>\n",
       "      <th>INDICATOR</th>\n",
       "      <th>SUBJECT</th>\n",
       "      <th>MEASURE</th>\n",
       "      <th>FREQUENCY</th>\n",
       "      <th>YEAR</th>\n",
       "      <th>GDP</th>\n",
       "      <th>FLAG_CODES</th>\n",
       "      <th>LOOKUP_ISO</th>\n",
       "      <th>AREA_CODE</th>\n",
       "      <th>...</th>\n",
       "      <th>ITEM_CODE</th>\n",
       "      <th>ITEM_CODE_CPC</th>\n",
       "      <th>ITEM</th>\n",
       "      <th>ELEMENT_CODE</th>\n",
       "      <th>ELEMENT</th>\n",
       "      <th>MONTHS_CODE</th>\n",
       "      <th>MONTHS</th>\n",
       "      <th>UNIT</th>\n",
       "      <th>WHEAT_PPI</th>\n",
       "      <th>EU_STRING</th>\n",
       "    </tr>\n",
       "  </thead>\n",
       "  <tbody>\n",
       "    <tr>\n",
       "      <th>0</th>\n",
       "      <td>AUT</td>\n",
       "      <td>GDP</td>\n",
       "      <td>TOT</td>\n",
       "      <td>USD_CAP</td>\n",
       "      <td>A</td>\n",
       "      <td>2000</td>\n",
       "      <td>29380.031110</td>\n",
       "      <td>NaN</td>\n",
       "      <td>AUT</td>\n",
       "      <td>11</td>\n",
       "      <td>...</td>\n",
       "      <td>15</td>\n",
       "      <td>'0111</td>\n",
       "      <td>Wheat</td>\n",
       "      <td>5539</td>\n",
       "      <td>Producer Price Index (2014-2016 = 100)</td>\n",
       "      <td>7021</td>\n",
       "      <td>Annual value</td>\n",
       "      <td>NaN</td>\n",
       "      <td>85.69</td>\n",
       "      <td>EU</td>\n",
       "    </tr>\n",
       "    <tr>\n",
       "      <th>1</th>\n",
       "      <td>AUT</td>\n",
       "      <td>GDP</td>\n",
       "      <td>TOT</td>\n",
       "      <td>USD_CAP</td>\n",
       "      <td>A</td>\n",
       "      <td>2001</td>\n",
       "      <td>29707.462264</td>\n",
       "      <td>NaN</td>\n",
       "      <td>AUT</td>\n",
       "      <td>11</td>\n",
       "      <td>...</td>\n",
       "      <td>15</td>\n",
       "      <td>'0111</td>\n",
       "      <td>Wheat</td>\n",
       "      <td>5539</td>\n",
       "      <td>Producer Price Index (2014-2016 = 100)</td>\n",
       "      <td>7021</td>\n",
       "      <td>Annual value</td>\n",
       "      <td>NaN</td>\n",
       "      <td>82.98</td>\n",
       "      <td>EU</td>\n",
       "    </tr>\n",
       "  </tbody>\n",
       "</table>\n",
       "<p>2 rows × 23 columns</p>\n",
       "</div>"
      ],
      "text/plain": [
       "  LOCATION INDICATOR SUBJECT  MEASURE FREQUENCY  YEAR           GDP  \\\n",
       "0      AUT       GDP     TOT  USD_CAP         A  2000  29380.031110   \n",
       "1      AUT       GDP     TOT  USD_CAP         A  2001  29707.462264   \n",
       "\n",
       "  FLAG_CODES LOOKUP_ISO  AREA_CODE  ... ITEM_CODE ITEM_CODE_CPC   ITEM  \\\n",
       "0        NaN        AUT         11  ...        15         '0111  Wheat   \n",
       "1        NaN        AUT         11  ...        15         '0111  Wheat   \n",
       "\n",
       "   ELEMENT_CODE                                 ELEMENT MONTHS_CODE  \\\n",
       "0          5539  Producer Price Index (2014-2016 = 100)        7021   \n",
       "1          5539  Producer Price Index (2014-2016 = 100)        7021   \n",
       "\n",
       "         MONTHS UNIT  WHEAT_PPI EU_STRING  \n",
       "0  Annual value  NaN      85.69        EU  \n",
       "1  Annual value  NaN      82.98        EU  \n",
       "\n",
       "[2 rows x 23 columns]"
      ]
     },
     "execution_count": 28,
     "metadata": {},
     "output_type": "execute_result"
    }
   ],
   "source": [
    "# FINAL DATAFRAME == df_gdp_ppi\n",
    "df_gdp_ppi = df_gdp_ppi_removing_columns\n",
    "# \n",
    "df_gdp_ppi.head(2)"
   ]
  },
  {
   "cell_type": "markdown",
   "id": "4cab4e14",
   "metadata": {},
   "source": [
    "# CREATING VIS PANELS"
   ]
  },
  {
   "cell_type": "markdown",
   "id": "58386fb6",
   "metadata": {},
   "source": [
    "Modern farming has a great dependence on technology and relies upon visualizations to communicate information, this includes web based, mobile based and many other digital transmission formats. Develop an interactive dashboard tailored to modern farmers, using tufts principles, to showcase the information/evidence gathered following your Machine Learning Analysis. Detail the rationale for approach and visualisation choices made during development. Note you may not use Powerbi, rapidminer, tableau or other such tools to accomplish this (at this stage)"
   ]
  },
  {
   "cell_type": "code",
   "execution_count": 29,
   "id": "13288dd6",
   "metadata": {},
   "outputs": [],
   "source": [
    "# VIS TO CREATE\n",
    "# \n",
    "# BREAKDOWN BY COUNTRY\n",
    "# "
   ]
  },
  {
   "cell_type": "code",
   "execution_count": 30,
   "id": "5d0d7402",
   "metadata": {},
   "outputs": [
    {
     "data": {},
     "metadata": {},
     "output_type": "display_data"
    },
    {
     "data": {
      "application/vnd.holoviews_exec.v0+json": "",
      "text/html": [
       "<div id='1002'>\n",
       "\n",
       "\n",
       "\n",
       "\n",
       "\n",
       "  <div class=\"bk-root\" id=\"29b5a362-d517-4061-b2cb-d7b1dd0ef3aa\" data-root-id=\"1002\"></div>\n",
       "</div>\n",
       "<script type=\"application/javascript\">(function(root) {\n",
       "  function embed_document(root) {\n",
       "    var docs_json = {\"09af9dd6-48d0-4e34-9057-6739f78b5c7e\":{\"defs\":[{\"extends\":null,\"module\":null,\"name\":\"ReactiveHTML1\",\"overrides\":[],\"properties\":[]},{\"extends\":null,\"module\":null,\"name\":\"FlexBox1\",\"overrides\":[],\"properties\":[{\"default\":\"flex-start\",\"kind\":null,\"name\":\"align_content\"},{\"default\":\"flex-start\",\"kind\":null,\"name\":\"align_items\"},{\"default\":\"row\",\"kind\":null,\"name\":\"flex_direction\"},{\"default\":\"wrap\",\"kind\":null,\"name\":\"flex_wrap\"},{\"default\":\"flex-start\",\"kind\":null,\"name\":\"justify_content\"}]},{\"extends\":null,\"module\":null,\"name\":\"GridStack1\",\"overrides\":[],\"properties\":[{\"default\":\"warn\",\"kind\":null,\"name\":\"mode\"},{\"default\":null,\"kind\":null,\"name\":\"ncols\"},{\"default\":null,\"kind\":null,\"name\":\"nrows\"},{\"default\":true,\"kind\":null,\"name\":\"allow_resize\"},{\"default\":true,\"kind\":null,\"name\":\"allow_drag\"},{\"default\":[],\"kind\":null,\"name\":\"state\"}]},{\"extends\":null,\"module\":null,\"name\":\"click1\",\"overrides\":[],\"properties\":[{\"default\":\"\",\"kind\":null,\"name\":\"terminal_output\"},{\"default\":\"\",\"kind\":null,\"name\":\"debug_name\"},{\"default\":0,\"kind\":null,\"name\":\"clears\"}]},{\"extends\":null,\"module\":null,\"name\":\"TemplateActions1\",\"overrides\":[],\"properties\":[{\"default\":0,\"kind\":null,\"name\":\"open_modal\"},{\"default\":0,\"kind\":null,\"name\":\"close_modal\"}]},{\"extends\":null,\"module\":null,\"name\":\"MaterialTemplateActions1\",\"overrides\":[],\"properties\":[{\"default\":0,\"kind\":null,\"name\":\"open_modal\"},{\"default\":0,\"kind\":null,\"name\":\"close_modal\"}]}],\"roots\":{\"references\":[{\"attributes\":{\"children\":[{\"id\":\"1004\"},{\"id\":\"1005\"}],\"margin\":[0,0,0,0],\"name\":\"Column01558\",\"sizing_mode\":\"stretch_width\"},\"id\":\"1003\",\"type\":\"Column\"},{\"attributes\":{\"margin\":[0,0,0,0],\"name\":\"Column01559\",\"sizing_mode\":\"stretch_width\"},\"id\":\"1006\",\"type\":\"Column\"},{\"attributes\":{\"client_comm_id\":\"8125e6c387e64a179864df16727d4a41\",\"comm_id\":\"1e236e9cbe04418ea22d4b387c5cadb8\",\"plot_id\":\"1002\"},\"id\":\"1007\",\"type\":\"panel.models.comm_manager.CommManager\"},{\"attributes\":{\"reload\":false},\"id\":\"1008\",\"type\":\"panel.models.location.Location\"},{\"attributes\":{\"children\":[{\"id\":\"1003\"},{\"id\":\"1006\"}],\"margin\":[0,0,0,0],\"name\":\"Row01560\",\"sizing_mode\":\"stretch_width\"},\"id\":\"1002\",\"type\":\"Row\"},{\"attributes\":{\"margin\":[5,10,5,10],\"options\":[\"Austria\",\"Belgium\",\"Canada\",\"Czechia\",\"Denmark\",\"Finland\",\"France\",\"Germany\",\"Greece\",\"Hungary\",\"Ireland\",\"Italy\",\"Japan\",\"Luxembourg\",\"Netherlands\",\"Poland\",\"Portugal\",\"Slovakia\",\"Spain\",\"Sweden\",\"United Kingdom of Great Britain and Northern Ireland\",\"United States of America\",\"Estonia\",\"Slovenia\",\"Latvia\",\"Lithuania\",\"Bulgaria\",\"Croatia\",\"Cyprus\",\"Malta\",\"Romania\"],\"sizing_mode\":\"stretch_width\",\"value\":\"Ireland\"},\"id\":\"1005\",\"type\":\"panel.models.widgets.CustomSelect\"},{\"attributes\":{\"css_classes\":[\"markdown\"],\"margin\":[5,5,5,5],\"name\":\"Markdown01556\",\"sizing_mode\":\"stretch_width\",\"text\":\"&lt;h4&gt;Select Country&lt;/h4&gt;\"},\"id\":\"1004\",\"type\":\"panel.models.markup.HTML\"}],\"root_ids\":[\"1002\",\"1007\",\"1008\"]},\"title\":\"Bokeh Application\",\"version\":\"2.4.2\"}};\n",
       "    var render_items = [{\"docid\":\"09af9dd6-48d0-4e34-9057-6739f78b5c7e\",\"root_ids\":[\"1002\"],\"roots\":{\"1002\":\"29b5a362-d517-4061-b2cb-d7b1dd0ef3aa\"}}];\n",
       "    root.Bokeh.embed.embed_items_notebook(docs_json, render_items);\n",
       "  }\n",
       "  if (root.Bokeh !== undefined && root.Bokeh.Panel !== undefined && ( root['Tabulator'] !== undefined)) {\n",
       "    embed_document(root);\n",
       "  } else {\n",
       "    var attempts = 0;\n",
       "    var timer = setInterval(function(root) {\n",
       "      if (root.Bokeh !== undefined && root.Bokeh.Panel !== undefined && (root['Tabulator'] !== undefined)) {\n",
       "        clearInterval(timer);\n",
       "        embed_document(root);\n",
       "      } else if (document.readyState == \"complete\") {\n",
       "        attempts++;\n",
       "        if (attempts > 200) {\n",
       "          clearInterval(timer);\n",
       "          console.log(\"Bokeh: ERROR: Unable to run BokehJS code because BokehJS library is missing\");\n",
       "        }\n",
       "      }\n",
       "    }, 25, root)\n",
       "  }\n",
       "})(window);</script>"
      ],
      "text/plain": [
       "Row(sizing_mode='stretch_width')\n",
       "    [0] Column(sizing_mode='stretch_width')\n",
       "        [0] Markdown(str, sizing_mode='stretch_width')\n",
       "        [1] Select(options=['Austria', 'Belgium', ...], sizing_mode='stretch_width', value='Ireland')\n",
       "    [1] Column(sizing_mode='stretch_width')"
      ]
     },
     "execution_count": 30,
     "metadata": {
      "application/vnd.holoviews_exec.v0+json": {
       "id": "1002"
      }
     },
     "output_type": "execute_result"
    }
   ],
   "source": [
    "# GET COUNTRY (AREA) LIST\n",
    "# df_gdp_ppi.AREA.unique().tolist()\n",
    "# DEFAULT COUNTRY\n",
    "default_country = \"Ireland\"\n",
    "# COUNTRY SELECTOR FROM DATA\n",
    "country_selector = pn.widgets.Select(value=default_country, options=df_gdp_ppi.AREA.unique().tolist(),)\n",
    "# DISPLAY TEMPORARILY\n",
    "pn.Row(pn.Column('#### Select Country', country_selector ), pn.Column())"
   ]
  },
  {
   "cell_type": "code",
   "execution_count": 31,
   "id": "a5e2f438",
   "metadata": {},
   "outputs": [],
   "source": [
    "# SELECTED COLUMNS\n",
    "# print(df_gdp_ppi.columns)\n",
    "# REARRANGE COLUMNS\n",
    "# ['LOCATION', \n",
    "# 'INDICATOR', \n",
    "# 'SUBJECT', \n",
    "# 'MEASURE', \n",
    "# 'FREQUENCY',\n",
    "# 'YEAR',\n",
    "# 'GDP',\n",
    "# 'FLAG_CODES',\n",
    "# 'LOOKUP_ISO',\n",
    "# 'AREA_CODE',\n",
    "# 'AREA_CODE_M49',\n",
    "# 'AREA',\n",
    "# 'EU_MEMBER',\n",
    "# 'ITEM_CODE',\n",
    "# 'ITEM_CODE_CPC', \n",
    "# 'ITEM', \n",
    "# 'ELEMENT_CODE',\n",
    "# 'ELEMENT', \n",
    "# 'MONTHS_CODE', \n",
    "# 'MONTHS', \n",
    "# 'UNIT', \n",
    "# 'WHEAT_PPI', \n",
    "# 'EU_STRING']\n",
    "df_gdp_ppi_reordered = df_gdp_ppi[[\n",
    "    'YEAR',\n",
    "    'LOCATION', \n",
    "    'FLAG_CODES',\n",
    "    'LOOKUP_ISO',\n",
    "    'AREA_CODE',\n",
    "    'AREA_CODE_M49',\n",
    "    'AREA',\n",
    "    'INDICATOR', \n",
    "    'SUBJECT', \n",
    "    'MEASURE', \n",
    "    'FREQUENCY',\n",
    "    'EU_MEMBER',\n",
    "    'EU_STRING',\n",
    "    'ITEM_CODE',\n",
    "    'ITEM_CODE_CPC', \n",
    "    'ITEM', \n",
    "    'ELEMENT_CODE',\n",
    "    'ELEMENT', \n",
    "    'MONTHS_CODE', \n",
    "    'MONTHS', \n",
    "    'UNIT', \n",
    "    'WHEAT_PPI',\n",
    "    'GDP',\n",
    "]]\n",
    "# MAKE INTERACTIVE\n",
    "idf_gdp_ppi = df_gdp_ppi_reordered.interactive()"
   ]
  },
  {
   "cell_type": "code",
   "execution_count": 32,
   "id": "24456a90",
   "metadata": {},
   "outputs": [],
   "source": [
    "# GDP | WHEAT PPI PER YEAR BY COUNTRY\n",
    "# \n",
    "gdp_ppi_pipeline = (\n",
    "    idf_gdp_ppi[\n",
    "        (idf_gdp_ppi.AREA == country_selector )\n",
    "    ]\n",
    "    .sort_values(by='YEAR',)\n",
    "    .reset_index(drop=True)\n",
    ")\n",
    "# "
   ]
  },
  {
   "cell_type": "code",
   "execution_count": 33,
   "id": "38687e82",
   "metadata": {},
   "outputs": [
    {
     "data": {},
     "metadata": {},
     "output_type": "display_data"
    },
    {
     "data": {
      "application/vnd.holoviews_exec.v0+json": "",
      "text/html": [
       "<div id='1009'>\n",
       "\n",
       "\n",
       "\n",
       "\n",
       "\n",
       "  <div class=\"bk-root\" id=\"6247cca2-1a57-4795-bf5e-a6a6206acf95\" data-root-id=\"1009\"></div>\n",
       "</div>\n",
       "<script type=\"application/javascript\">(function(root) {\n",
       "  function embed_document(root) {\n",
       "    var docs_json = {\"4e4f6c00-348d-43c7-8787-7a68964cd321\":{\"defs\":[{\"extends\":null,\"module\":null,\"name\":\"ReactiveHTML1\",\"overrides\":[],\"properties\":[]},{\"extends\":null,\"module\":null,\"name\":\"FlexBox1\",\"overrides\":[],\"properties\":[{\"default\":\"flex-start\",\"kind\":null,\"name\":\"align_content\"},{\"default\":\"flex-start\",\"kind\":null,\"name\":\"align_items\"},{\"default\":\"row\",\"kind\":null,\"name\":\"flex_direction\"},{\"default\":\"wrap\",\"kind\":null,\"name\":\"flex_wrap\"},{\"default\":\"flex-start\",\"kind\":null,\"name\":\"justify_content\"}]},{\"extends\":null,\"module\":null,\"name\":\"GridStack1\",\"overrides\":[],\"properties\":[{\"default\":\"warn\",\"kind\":null,\"name\":\"mode\"},{\"default\":null,\"kind\":null,\"name\":\"ncols\"},{\"default\":null,\"kind\":null,\"name\":\"nrows\"},{\"default\":true,\"kind\":null,\"name\":\"allow_resize\"},{\"default\":true,\"kind\":null,\"name\":\"allow_drag\"},{\"default\":[],\"kind\":null,\"name\":\"state\"}]},{\"extends\":null,\"module\":null,\"name\":\"click1\",\"overrides\":[],\"properties\":[{\"default\":\"\",\"kind\":null,\"name\":\"terminal_output\"},{\"default\":\"\",\"kind\":null,\"name\":\"debug_name\"},{\"default\":0,\"kind\":null,\"name\":\"clears\"}]},{\"extends\":null,\"module\":null,\"name\":\"TemplateActions1\",\"overrides\":[],\"properties\":[{\"default\":0,\"kind\":null,\"name\":\"open_modal\"},{\"default\":0,\"kind\":null,\"name\":\"close_modal\"}]},{\"extends\":null,\"module\":null,\"name\":\"MaterialTemplateActions1\",\"overrides\":[],\"properties\":[{\"default\":0,\"kind\":null,\"name\":\"open_modal\"},{\"default\":0,\"kind\":null,\"name\":\"close_modal\"}]}],\"roots\":{\"references\":[{\"attributes\":{\"children\":[{\"id\":\"1012\"},{\"id\":\"1014\"}],\"margin\":[0,0,0,0],\"name\":\"Row01796\",\"sizing_mode\":\"stretch_width\"},\"id\":\"1011\",\"type\":\"Row\"},{\"attributes\":{\"children\":[{\"id\":\"1013\"}],\"margin\":[0,0,0,0],\"name\":\"Column01754\",\"sizing_mode\":\"stretch_width\"},\"id\":\"1012\",\"type\":\"Column\"},{\"attributes\":{\"margin\":[5,5,5,5],\"name\":\"DataFrame01793\",\"sizing_mode\":\"stretch_width\",\"text\":\"&lt;table border=&quot;0&quot; class=&quot;dataframe panel-df&quot;&gt;\\n  &lt;thead&gt;\\n    &lt;tr style=&quot;text-align: right;&quot;&gt;\\n      &lt;th&gt;&lt;/th&gt;\\n      &lt;th&gt;YEAR&lt;/th&gt;\\n      &lt;th&gt;LOCATION&lt;/th&gt;\\n      &lt;th&gt;FLAG_CODES&lt;/th&gt;\\n      &lt;th&gt;LOOKUP_ISO&lt;/th&gt;\\n      &lt;th&gt;AREA_CODE&lt;/th&gt;\\n      &lt;th&gt;AREA_CODE_M49&lt;/th&gt;\\n      &lt;th&gt;AREA&lt;/th&gt;\\n      &lt;th&gt;INDICATOR&lt;/th&gt;\\n      &lt;th&gt;SUBJECT&lt;/th&gt;\\n      &lt;th&gt;MEASURE&lt;/th&gt;\\n      &lt;th&gt;FREQUENCY&lt;/th&gt;\\n      &lt;th&gt;EU_MEMBER&lt;/th&gt;\\n      &lt;th&gt;EU_STRING&lt;/th&gt;\\n      &lt;th&gt;ITEM_CODE&lt;/th&gt;\\n      &lt;th&gt;ITEM_CODE_CPC&lt;/th&gt;\\n      &lt;th&gt;ITEM&lt;/th&gt;\\n      &lt;th&gt;ELEMENT_CODE&lt;/th&gt;\\n      &lt;th&gt;ELEMENT&lt;/th&gt;\\n      &lt;th&gt;MONTHS_CODE&lt;/th&gt;\\n      &lt;th&gt;MONTHS&lt;/th&gt;\\n      &lt;th&gt;UNIT&lt;/th&gt;\\n      &lt;th&gt;WHEAT_PPI&lt;/th&gt;\\n      &lt;th&gt;GDP&lt;/th&gt;\\n    &lt;/tr&gt;\\n  &lt;/thead&gt;\\n  &lt;tbody&gt;\\n    &lt;tr&gt;\\n      &lt;th&gt;0&lt;/th&gt;\\n      &lt;td&gt;2000&lt;/td&gt;\\n      &lt;td&gt;IRL&lt;/td&gt;\\n      &lt;td&gt;NaN&lt;/td&gt;\\n      &lt;td&gt;IRL&lt;/td&gt;\\n      &lt;td&gt;104&lt;/td&gt;\\n      &lt;td&gt;&#x27;372&lt;/td&gt;\\n      &lt;td&gt;Ireland&lt;/td&gt;\\n      &lt;td&gt;GDP&lt;/td&gt;\\n      &lt;td&gt;TOT&lt;/td&gt;\\n      &lt;td&gt;USD_CAP&lt;/td&gt;\\n      &lt;td&gt;A&lt;/td&gt;\\n      &lt;td&gt;1&lt;/td&gt;\\n      &lt;td&gt;EU&lt;/td&gt;\\n      &lt;td&gt;15&lt;/td&gt;\\n      &lt;td&gt;&#x27;0111&lt;/td&gt;\\n      &lt;td&gt;Wheat&lt;/td&gt;\\n      &lt;td&gt;5539&lt;/td&gt;\\n      &lt;td&gt;Producer Price Index (2014-2016 = 100)&lt;/td&gt;\\n      &lt;td&gt;7021&lt;/td&gt;\\n      &lt;td&gt;Annual value&lt;/td&gt;\\n      &lt;td&gt;NaN&lt;/td&gt;\\n      &lt;td&gt;66.29&lt;/td&gt;\\n      &lt;td&gt;30217.135247&lt;/td&gt;\\n    &lt;/tr&gt;\\n    &lt;tr&gt;\\n      &lt;th&gt;1&lt;/th&gt;\\n      &lt;td&gt;2001&lt;/td&gt;\\n      &lt;td&gt;IRL&lt;/td&gt;\\n      &lt;td&gt;NaN&lt;/td&gt;\\n      &lt;td&gt;IRL&lt;/td&gt;\\n      &lt;td&gt;104&lt;/td&gt;\\n      &lt;td&gt;&#x27;372&lt;/td&gt;\\n      &lt;td&gt;Ireland&lt;/td&gt;\\n      &lt;td&gt;GDP&lt;/td&gt;\\n      &lt;td&gt;TOT&lt;/td&gt;\\n      &lt;td&gt;USD_CAP&lt;/td&gt;\\n      &lt;td&gt;A&lt;/td&gt;\\n      &lt;td&gt;1&lt;/td&gt;\\n      &lt;td&gt;EU&lt;/td&gt;\\n      &lt;td&gt;15&lt;/td&gt;\\n      &lt;td&gt;&#x27;0111&lt;/td&gt;\\n      &lt;td&gt;Wheat&lt;/td&gt;\\n      &lt;td&gt;5539&lt;/td&gt;\\n      &lt;td&gt;Producer Price Index (2014-2016 = 100)&lt;/td&gt;\\n      &lt;td&gt;7021&lt;/td&gt;\\n      &lt;td&gt;Annual value&lt;/td&gt;\\n      &lt;td&gt;NaN&lt;/td&gt;\\n      &lt;td&gt;76.11&lt;/td&gt;\\n      &lt;td&gt;32592.934780&lt;/td&gt;\\n    &lt;/tr&gt;\\n    &lt;tr&gt;\\n      &lt;th&gt;2&lt;/th&gt;\\n      &lt;td&gt;2002&lt;/td&gt;\\n      &lt;td&gt;IRL&lt;/td&gt;\\n      &lt;td&gt;NaN&lt;/td&gt;\\n      &lt;td&gt;IRL&lt;/td&gt;\\n      &lt;td&gt;104&lt;/td&gt;\\n      &lt;td&gt;&#x27;372&lt;/td&gt;\\n      &lt;td&gt;Ireland&lt;/td&gt;\\n      &lt;td&gt;GDP&lt;/td&gt;\\n      &lt;td&gt;TOT&lt;/td&gt;\\n      &lt;td&gt;USD_CAP&lt;/td&gt;\\n      &lt;td&gt;A&lt;/td&gt;\\n      &lt;td&gt;1&lt;/td&gt;\\n      &lt;td&gt;EU&lt;/td&gt;\\n      &lt;td&gt;15&lt;/td&gt;\\n      &lt;td&gt;&#x27;0111&lt;/td&gt;\\n      &lt;td&gt;Wheat&lt;/td&gt;\\n      &lt;td&gt;5539&lt;/td&gt;\\n      &lt;td&gt;Producer Price Index (2014-2016 = 100)&lt;/td&gt;\\n      &lt;td&gt;7021&lt;/td&gt;\\n      &lt;td&gt;Annual value&lt;/td&gt;\\n      &lt;td&gt;NaN&lt;/td&gt;\\n      &lt;td&gt;62.52&lt;/td&gt;\\n      &lt;td&gt;35222.881959&lt;/td&gt;\\n    &lt;/tr&gt;\\n    &lt;tr&gt;\\n      &lt;th&gt;3&lt;/th&gt;\\n      &lt;td&gt;2003&lt;/td&gt;\\n      &lt;td&gt;IRL&lt;/td&gt;\\n      &lt;td&gt;NaN&lt;/td&gt;\\n      &lt;td&gt;IRL&lt;/td&gt;\\n      &lt;td&gt;104&lt;/td&gt;\\n      &lt;td&gt;&#x27;372&lt;/td&gt;\\n      &lt;td&gt;Ireland&lt;/td&gt;\\n      &lt;td&gt;GDP&lt;/td&gt;\\n      &lt;td&gt;TOT&lt;/td&gt;\\n      &lt;td&gt;USD_CAP&lt;/td&gt;\\n      &lt;td&gt;A&lt;/td&gt;\\n      &lt;td&gt;1&lt;/td&gt;\\n      &lt;td&gt;EU&lt;/td&gt;\\n      &lt;td&gt;15&lt;/td&gt;\\n      &lt;td&gt;&#x27;0111&lt;/td&gt;\\n      &lt;td&gt;Wheat&lt;/td&gt;\\n      &lt;td&gt;5539&lt;/td&gt;\\n      &lt;td&gt;Producer Price Index (2014-2016 = 100)&lt;/td&gt;\\n      &lt;td&gt;7021&lt;/td&gt;\\n      &lt;td&gt;Annual value&lt;/td&gt;\\n      &lt;td&gt;NaN&lt;/td&gt;\\n      &lt;td&gt;77.34&lt;/td&gt;\\n      &lt;td&gt;36280.363177&lt;/td&gt;\\n    &lt;/tr&gt;\\n    &lt;tr&gt;\\n      &lt;th&gt;4&lt;/th&gt;\\n      &lt;td&gt;2004&lt;/td&gt;\\n      &lt;td&gt;IRL&lt;/td&gt;\\n      &lt;td&gt;NaN&lt;/td&gt;\\n      &lt;td&gt;IRL&lt;/td&gt;\\n      &lt;td&gt;104&lt;/td&gt;\\n      &lt;td&gt;&#x27;372&lt;/td&gt;\\n      &lt;td&gt;Ireland&lt;/td&gt;\\n      &lt;td&gt;GDP&lt;/td&gt;\\n      &lt;td&gt;TOT&lt;/td&gt;\\n      &lt;td&gt;USD_CAP&lt;/td&gt;\\n      &lt;td&gt;A&lt;/td&gt;\\n      &lt;td&gt;1&lt;/td&gt;\\n      &lt;td&gt;EU&lt;/td&gt;\\n      &lt;td&gt;15&lt;/td&gt;\\n      &lt;td&gt;&#x27;0111&lt;/td&gt;\\n      &lt;td&gt;Wheat&lt;/td&gt;\\n      &lt;td&gt;5539&lt;/td&gt;\\n      &lt;td&gt;Producer Price Index (2014-2016 = 100)&lt;/td&gt;\\n      &lt;td&gt;7021&lt;/td&gt;\\n      &lt;td&gt;Annual value&lt;/td&gt;\\n      &lt;td&gt;NaN&lt;/td&gt;\\n      &lt;td&gt;69.61&lt;/td&gt;\\n      &lt;td&gt;38761.602107&lt;/td&gt;\\n    &lt;/tr&gt;\\n    &lt;tr&gt;\\n      &lt;th&gt;5&lt;/th&gt;\\n      &lt;td&gt;2005&lt;/td&gt;\\n      &lt;td&gt;IRL&lt;/td&gt;\\n      &lt;td&gt;NaN&lt;/td&gt;\\n      &lt;td&gt;IRL&lt;/td&gt;\\n      &lt;td&gt;104&lt;/td&gt;\\n      &lt;td&gt;&#x27;372&lt;/td&gt;\\n      &lt;td&gt;Ireland&lt;/td&gt;\\n      &lt;td&gt;GDP&lt;/td&gt;\\n      &lt;td&gt;TOT&lt;/td&gt;\\n      &lt;td&gt;USD_CAP&lt;/td&gt;\\n      &lt;td&gt;A&lt;/td&gt;\\n      &lt;td&gt;1&lt;/td&gt;\\n      &lt;td&gt;EU&lt;/td&gt;\\n      &lt;td&gt;15&lt;/td&gt;\\n      &lt;td&gt;&#x27;0111&lt;/td&gt;\\n      &lt;td&gt;Wheat&lt;/td&gt;\\n      &lt;td&gt;5539&lt;/td&gt;\\n      &lt;td&gt;Producer Price Index (2014-2016 = 100)&lt;/td&gt;\\n      &lt;td&gt;7021&lt;/td&gt;\\n      &lt;td&gt;Annual value&lt;/td&gt;\\n      &lt;td&gt;NaN&lt;/td&gt;\\n      &lt;td&gt;67.68&lt;/td&gt;\\n      &lt;td&gt;40465.540236&lt;/td&gt;\\n    &lt;/tr&gt;\\n    &lt;tr&gt;\\n      &lt;th&gt;6&lt;/th&gt;\\n      &lt;td&gt;2006&lt;/td&gt;\\n      &lt;td&gt;IRL&lt;/td&gt;\\n      &lt;td&gt;NaN&lt;/td&gt;\\n      &lt;td&gt;IRL&lt;/td&gt;\\n      &lt;td&gt;104&lt;/td&gt;\\n      &lt;td&gt;&#x27;372&lt;/td&gt;\\n      &lt;td&gt;Ireland&lt;/td&gt;\\n      &lt;td&gt;GDP&lt;/td&gt;\\n      &lt;td&gt;TOT&lt;/td&gt;\\n      &lt;td&gt;USD_CAP&lt;/td&gt;\\n      &lt;td&gt;A&lt;/td&gt;\\n      &lt;td&gt;1&lt;/td&gt;\\n      &lt;td&gt;EU&lt;/td&gt;\\n      &lt;td&gt;15&lt;/td&gt;\\n      &lt;td&gt;&#x27;0111&lt;/td&gt;\\n      &lt;td&gt;Wheat&lt;/td&gt;\\n      &lt;td&gt;5539&lt;/td&gt;\\n      &lt;td&gt;Producer Price Index (2014-2016 = 100)&lt;/td&gt;\\n      &lt;td&gt;7021&lt;/td&gt;\\n      &lt;td&gt;Annual value&lt;/td&gt;\\n      &lt;td&gt;NaN&lt;/td&gt;\\n      &lt;td&gt;78.63&lt;/td&gt;\\n      &lt;td&gt;44264.939920&lt;/td&gt;\\n    &lt;/tr&gt;\\n    &lt;tr&gt;\\n      &lt;th&gt;7&lt;/th&gt;\\n      &lt;td&gt;2007&lt;/td&gt;\\n      &lt;td&gt;IRL&lt;/td&gt;\\n      &lt;td&gt;NaN&lt;/td&gt;\\n      &lt;td&gt;IRL&lt;/td&gt;\\n      &lt;td&gt;104&lt;/td&gt;\\n      &lt;td&gt;&#x27;372&lt;/td&gt;\\n      &lt;td&gt;Ireland&lt;/td&gt;\\n      &lt;td&gt;GDP&lt;/td&gt;\\n      &lt;td&gt;TOT&lt;/td&gt;\\n      &lt;td&gt;USD_CAP&lt;/td&gt;\\n      &lt;td&gt;A&lt;/td&gt;\\n      &lt;td&gt;1&lt;/td&gt;\\n      &lt;td&gt;EU&lt;/td&gt;\\n      &lt;td&gt;15&lt;/td&gt;\\n      &lt;td&gt;&#x27;0111&lt;/td&gt;\\n      &lt;td&gt;Wheat&lt;/td&gt;\\n      &lt;td&gt;5539&lt;/td&gt;\\n      &lt;td&gt;Producer Price Index (2014-2016 = 100)&lt;/td&gt;\\n      &lt;td&gt;7021&lt;/td&gt;\\n      &lt;td&gt;Annual value&lt;/td&gt;\\n      &lt;td&gt;NaN&lt;/td&gt;\\n      &lt;td&gt;129.55&lt;/td&gt;\\n      &lt;td&gt;46765.460776&lt;/td&gt;\\n    &lt;/tr&gt;\\n    &lt;tr&gt;\\n      &lt;th&gt;8&lt;/th&gt;\\n      &lt;td&gt;2008&lt;/td&gt;\\n      &lt;td&gt;IRL&lt;/td&gt;\\n      &lt;td&gt;NaN&lt;/td&gt;\\n      &lt;td&gt;IRL&lt;/td&gt;\\n      &lt;td&gt;104&lt;/td&gt;\\n      &lt;td&gt;&#x27;372&lt;/td&gt;\\n      &lt;td&gt;Ireland&lt;/td&gt;\\n      &lt;td&gt;GDP&lt;/td&gt;\\n      &lt;td&gt;TOT&lt;/td&gt;\\n      &lt;td&gt;USD_CAP&lt;/td&gt;\\n      &lt;td&gt;A&lt;/td&gt;\\n      &lt;td&gt;1&lt;/td&gt;\\n      &lt;td&gt;EU&lt;/td&gt;\\n      &lt;td&gt;15&lt;/td&gt;\\n      &lt;td&gt;&#x27;0111&lt;/td&gt;\\n      &lt;td&gt;Wheat&lt;/td&gt;\\n      &lt;td&gt;5539&lt;/td&gt;\\n      &lt;td&gt;Producer Price Index (2014-2016 = 100)&lt;/td&gt;\\n      &lt;td&gt;7021&lt;/td&gt;\\n      &lt;td&gt;Annual value&lt;/td&gt;\\n      &lt;td&gt;NaN&lt;/td&gt;\\n      &lt;td&gt;88.30&lt;/td&gt;\\n      &lt;td&gt;44105.305617&lt;/td&gt;\\n    &lt;/tr&gt;\\n    &lt;tr&gt;\\n      &lt;th&gt;9&lt;/th&gt;\\n      &lt;td&gt;2009&lt;/td&gt;\\n      &lt;td&gt;IRL&lt;/td&gt;\\n      &lt;td&gt;NaN&lt;/td&gt;\\n      &lt;td&gt;IRL&lt;/td&gt;\\n      &lt;td&gt;104&lt;/td&gt;\\n      &lt;td&gt;&#x27;372&lt;/td&gt;\\n      &lt;td&gt;Ireland&lt;/td&gt;\\n      &lt;td&gt;GDP&lt;/td&gt;\\n      &lt;td&gt;TOT&lt;/td&gt;\\n      &lt;td&gt;USD_CAP&lt;/td&gt;\\n      &lt;td&gt;A&lt;/td&gt;\\n      &lt;td&gt;1&lt;/td&gt;\\n      &lt;td&gt;EU&lt;/td&gt;\\n      &lt;td&gt;15&lt;/td&gt;\\n      &lt;td&gt;&#x27;0111&lt;/td&gt;\\n      &lt;td&gt;Wheat&lt;/td&gt;\\n      &lt;td&gt;5539&lt;/td&gt;\\n      &lt;td&gt;Producer Price Index (2014-2016 = 100)&lt;/td&gt;\\n      &lt;td&gt;7021&lt;/td&gt;\\n      &lt;td&gt;Annual value&lt;/td&gt;\\n      &lt;td&gt;NaN&lt;/td&gt;\\n      &lt;td&gt;67.68&lt;/td&gt;\\n      &lt;td&gt;41438.863041&lt;/td&gt;\\n    &lt;/tr&gt;\\n    &lt;tr&gt;\\n      &lt;th&gt;10&lt;/th&gt;\\n      &lt;td&gt;2010&lt;/td&gt;\\n      &lt;td&gt;IRL&lt;/td&gt;\\n      &lt;td&gt;NaN&lt;/td&gt;\\n      &lt;td&gt;IRL&lt;/td&gt;\\n      &lt;td&gt;104&lt;/td&gt;\\n      &lt;td&gt;&#x27;372&lt;/td&gt;\\n      &lt;td&gt;Ireland&lt;/td&gt;\\n      &lt;td&gt;GDP&lt;/td&gt;\\n      &lt;td&gt;TOT&lt;/td&gt;\\n      &lt;td&gt;USD_CAP&lt;/td&gt;\\n      &lt;td&gt;A&lt;/td&gt;\\n      &lt;td&gt;1&lt;/td&gt;\\n      &lt;td&gt;EU&lt;/td&gt;\\n      &lt;td&gt;15&lt;/td&gt;\\n      &lt;td&gt;&#x27;0111&lt;/td&gt;\\n      &lt;td&gt;Wheat&lt;/td&gt;\\n      &lt;td&gt;5539&lt;/td&gt;\\n      &lt;td&gt;Producer Price Index (2014-2016 = 100)&lt;/td&gt;\\n      &lt;td&gt;7021&lt;/td&gt;\\n      &lt;td&gt;Annual value&lt;/td&gt;\\n      &lt;td&gt;NaN&lt;/td&gt;\\n      &lt;td&gt;102.52&lt;/td&gt;\\n      &lt;td&gt;43213.491477&lt;/td&gt;\\n    &lt;/tr&gt;\\n    &lt;tr&gt;\\n      &lt;th&gt;11&lt;/th&gt;\\n      &lt;td&gt;2011&lt;/td&gt;\\n      &lt;td&gt;IRL&lt;/td&gt;\\n      &lt;td&gt;NaN&lt;/td&gt;\\n      &lt;td&gt;IRL&lt;/td&gt;\\n      &lt;td&gt;104&lt;/td&gt;\\n      &lt;td&gt;&#x27;372&lt;/td&gt;\\n      &lt;td&gt;Ireland&lt;/td&gt;\\n      &lt;td&gt;GDP&lt;/td&gt;\\n      &lt;td&gt;TOT&lt;/td&gt;\\n      &lt;td&gt;USD_CAP&lt;/td&gt;\\n      &lt;td&gt;A&lt;/td&gt;\\n      &lt;td&gt;1&lt;/td&gt;\\n      &lt;td&gt;EU&lt;/td&gt;\\n      &lt;td&gt;15&lt;/td&gt;\\n      &lt;td&gt;&#x27;0111&lt;/td&gt;\\n      &lt;td&gt;Wheat&lt;/td&gt;\\n      &lt;td&gt;5539&lt;/td&gt;\\n      &lt;td&gt;Producer Price Index (2014-2016 = 100)&lt;/td&gt;\\n      &lt;td&gt;7021&lt;/td&gt;\\n      &lt;td&gt;Annual value&lt;/td&gt;\\n      &lt;td&gt;NaN&lt;/td&gt;\\n      &lt;td&gt;105.42&lt;/td&gt;\\n      &lt;td&gt;45100.566928&lt;/td&gt;\\n    &lt;/tr&gt;\\n    &lt;tr&gt;\\n      &lt;th&gt;12&lt;/th&gt;\\n      &lt;td&gt;2012&lt;/td&gt;\\n      &lt;td&gt;IRL&lt;/td&gt;\\n      &lt;td&gt;NaN&lt;/td&gt;\\n      &lt;td&gt;IRL&lt;/td&gt;\\n      &lt;td&gt;104&lt;/td&gt;\\n      &lt;td&gt;&#x27;372&lt;/td&gt;\\n      &lt;td&gt;Ireland&lt;/td&gt;\\n      &lt;td&gt;GDP&lt;/td&gt;\\n      &lt;td&gt;TOT&lt;/td&gt;\\n      &lt;td&gt;USD_CAP&lt;/td&gt;\\n      &lt;td&gt;A&lt;/td&gt;\\n      &lt;td&gt;1&lt;/td&gt;\\n      &lt;td&gt;EU&lt;/td&gt;\\n      &lt;td&gt;15&lt;/td&gt;\\n      &lt;td&gt;&#x27;0111&lt;/td&gt;\\n      &lt;td&gt;Wheat&lt;/td&gt;\\n      &lt;td&gt;5539&lt;/td&gt;\\n      &lt;td&gt;Producer Price Index (2014-2016 = 100)&lt;/td&gt;\\n      &lt;td&gt;7021&lt;/td&gt;\\n      &lt;td&gt;Annual value&lt;/td&gt;\\n      &lt;td&gt;NaN&lt;/td&gt;\\n      &lt;td&gt;142.18&lt;/td&gt;\\n      &lt;td&gt;46409.682400&lt;/td&gt;\\n    &lt;/tr&gt;\\n    &lt;tr&gt;\\n      &lt;th&gt;13&lt;/th&gt;\\n      &lt;td&gt;2013&lt;/td&gt;\\n      &lt;td&gt;IRL&lt;/td&gt;\\n      &lt;td&gt;NaN&lt;/td&gt;\\n      &lt;td&gt;IRL&lt;/td&gt;\\n      &lt;td&gt;104&lt;/td&gt;\\n      &lt;td&gt;&#x27;372&lt;/td&gt;\\n      &lt;td&gt;Ireland&lt;/td&gt;\\n      &lt;td&gt;GDP&lt;/td&gt;\\n      &lt;td&gt;TOT&lt;/td&gt;\\n      &lt;td&gt;USD_CAP&lt;/td&gt;\\n      &lt;td&gt;A&lt;/td&gt;\\n      &lt;td&gt;1&lt;/td&gt;\\n      &lt;td&gt;EU&lt;/td&gt;\\n      &lt;td&gt;15&lt;/td&gt;\\n      &lt;td&gt;&#x27;0111&lt;/td&gt;\\n      &lt;td&gt;Wheat&lt;/td&gt;\\n      &lt;td&gt;5539&lt;/td&gt;\\n      &lt;td&gt;Producer Price Index (2014-2016 = 100)&lt;/td&gt;\\n      &lt;td&gt;7021&lt;/td&gt;\\n      &lt;td&gt;Annual value&lt;/td&gt;\\n      &lt;td&gt;NaN&lt;/td&gt;\\n      &lt;td&gt;100.78&lt;/td&gt;\\n      &lt;td&gt;47882.067704&lt;/td&gt;\\n    &lt;/tr&gt;\\n    &lt;tr&gt;\\n      &lt;th&gt;14&lt;/th&gt;\\n      &lt;td&gt;2014&lt;/td&gt;\\n      &lt;td&gt;IRL&lt;/td&gt;\\n      &lt;td&gt;NaN&lt;/td&gt;\\n      &lt;td&gt;IRL&lt;/td&gt;\\n      &lt;td&gt;104&lt;/td&gt;\\n      &lt;td&gt;&#x27;372&lt;/td&gt;\\n      &lt;td&gt;Ireland&lt;/td&gt;\\n      &lt;td&gt;GDP&lt;/td&gt;\\n      &lt;td&gt;TOT&lt;/td&gt;\\n      &lt;td&gt;USD_CAP&lt;/td&gt;\\n      &lt;td&gt;A&lt;/td&gt;\\n      &lt;td&gt;1&lt;/td&gt;\\n      &lt;td&gt;EU&lt;/td&gt;\\n      &lt;td&gt;15&lt;/td&gt;\\n      &lt;td&gt;&#x27;0111&lt;/td&gt;\\n      &lt;td&gt;Wheat&lt;/td&gt;\\n      &lt;td&gt;5539&lt;/td&gt;\\n      &lt;td&gt;Producer Price Index (2014-2016 = 100)&lt;/td&gt;\\n      &lt;td&gt;7021&lt;/td&gt;\\n      &lt;td&gt;Annual value&lt;/td&gt;\\n      &lt;td&gt;NaN&lt;/td&gt;\\n      &lt;td&gt;126.75&lt;/td&gt;\\n      &lt;td&gt;51195.991955&lt;/td&gt;\\n    &lt;/tr&gt;\\n    &lt;tr&gt;\\n      &lt;th&gt;15&lt;/th&gt;\\n      &lt;td&gt;2015&lt;/td&gt;\\n      &lt;td&gt;IRL&lt;/td&gt;\\n      &lt;td&gt;NaN&lt;/td&gt;\\n      &lt;td&gt;IRL&lt;/td&gt;\\n      &lt;td&gt;104&lt;/td&gt;\\n      &lt;td&gt;&#x27;372&lt;/td&gt;\\n      &lt;td&gt;Ireland&lt;/td&gt;\\n      &lt;td&gt;GDP&lt;/td&gt;\\n      &lt;td&gt;TOT&lt;/td&gt;\\n      &lt;td&gt;USD_CAP&lt;/td&gt;\\n      &lt;td&gt;A&lt;/td&gt;\\n      &lt;td&gt;1&lt;/td&gt;\\n      &lt;td&gt;EU&lt;/td&gt;\\n      &lt;td&gt;15&lt;/td&gt;\\n      &lt;td&gt;&#x27;0111&lt;/td&gt;\\n      &lt;td&gt;Wheat&lt;/td&gt;\\n      &lt;td&gt;5539&lt;/td&gt;\\n      &lt;td&gt;Producer Price Index (2014-2016 = 100)&lt;/td&gt;\\n      &lt;td&gt;7021&lt;/td&gt;\\n      &lt;td&gt;Annual value&lt;/td&gt;\\n      &lt;td&gt;NaN&lt;/td&gt;\\n      &lt;td&gt;83.18&lt;/td&gt;\\n      &lt;td&gt;69165.900652&lt;/td&gt;\\n    &lt;/tr&gt;\\n    &lt;tr&gt;\\n      &lt;th&gt;16&lt;/th&gt;\\n      &lt;td&gt;2016&lt;/td&gt;\\n      &lt;td&gt;IRL&lt;/td&gt;\\n      &lt;td&gt;NaN&lt;/td&gt;\\n      &lt;td&gt;IRL&lt;/td&gt;\\n      &lt;td&gt;104&lt;/td&gt;\\n      &lt;td&gt;&#x27;372&lt;/td&gt;\\n      &lt;td&gt;Ireland&lt;/td&gt;\\n      &lt;td&gt;GDP&lt;/td&gt;\\n      &lt;td&gt;TOT&lt;/td&gt;\\n      &lt;td&gt;USD_CAP&lt;/td&gt;\\n      &lt;td&gt;A&lt;/td&gt;\\n      &lt;td&gt;1&lt;/td&gt;\\n      &lt;td&gt;EU&lt;/td&gt;\\n      &lt;td&gt;15&lt;/td&gt;\\n      &lt;td&gt;&#x27;0111&lt;/td&gt;\\n      &lt;td&gt;Wheat&lt;/td&gt;\\n      &lt;td&gt;5539&lt;/td&gt;\\n      &lt;td&gt;Producer Price Index (2014-2016 = 100)&lt;/td&gt;\\n      &lt;td&gt;7021&lt;/td&gt;\\n      &lt;td&gt;Annual value&lt;/td&gt;\\n      &lt;td&gt;NaN&lt;/td&gt;\\n      &lt;td&gt;90.07&lt;/td&gt;\\n      &lt;td&gt;71633.128805&lt;/td&gt;\\n    &lt;/tr&gt;\\n    &lt;tr&gt;\\n      &lt;th&gt;17&lt;/th&gt;\\n      &lt;td&gt;2017&lt;/td&gt;\\n      &lt;td&gt;IRL&lt;/td&gt;\\n      &lt;td&gt;NaN&lt;/td&gt;\\n      &lt;td&gt;IRL&lt;/td&gt;\\n      &lt;td&gt;104&lt;/td&gt;\\n      &lt;td&gt;&#x27;372&lt;/td&gt;\\n      &lt;td&gt;Ireland&lt;/td&gt;\\n      &lt;td&gt;GDP&lt;/td&gt;\\n      &lt;td&gt;TOT&lt;/td&gt;\\n      &lt;td&gt;USD_CAP&lt;/td&gt;\\n      &lt;td&gt;A&lt;/td&gt;\\n      &lt;td&gt;1&lt;/td&gt;\\n      &lt;td&gt;EU&lt;/td&gt;\\n      &lt;td&gt;15&lt;/td&gt;\\n      &lt;td&gt;&#x27;0111&lt;/td&gt;\\n      &lt;td&gt;Wheat&lt;/td&gt;\\n      &lt;td&gt;5539&lt;/td&gt;\\n      &lt;td&gt;Producer Price Index (2014-2016 = 100)&lt;/td&gt;\\n      &lt;td&gt;7021&lt;/td&gt;\\n      &lt;td&gt;Annual value&lt;/td&gt;\\n      &lt;td&gt;NaN&lt;/td&gt;\\n      &lt;td&gt;95.99&lt;/td&gt;\\n      &lt;td&gt;78051.654251&lt;/td&gt;\\n    &lt;/tr&gt;\\n    &lt;tr&gt;\\n      &lt;th&gt;18&lt;/th&gt;\\n      &lt;td&gt;2018&lt;/td&gt;\\n      &lt;td&gt;IRL&lt;/td&gt;\\n      &lt;td&gt;NaN&lt;/td&gt;\\n      &lt;td&gt;IRL&lt;/td&gt;\\n      &lt;td&gt;104&lt;/td&gt;\\n      &lt;td&gt;&#x27;372&lt;/td&gt;\\n      &lt;td&gt;Ireland&lt;/td&gt;\\n      &lt;td&gt;GDP&lt;/td&gt;\\n      &lt;td&gt;TOT&lt;/td&gt;\\n      &lt;td&gt;USD_CAP&lt;/td&gt;\\n      &lt;td&gt;A&lt;/td&gt;\\n      &lt;td&gt;1&lt;/td&gt;\\n      &lt;td&gt;EU&lt;/td&gt;\\n      &lt;td&gt;15&lt;/td&gt;\\n      &lt;td&gt;&#x27;0111&lt;/td&gt;\\n      &lt;td&gt;Wheat&lt;/td&gt;\\n      &lt;td&gt;5539&lt;/td&gt;\\n      &lt;td&gt;Producer Price Index (2014-2016 = 100)&lt;/td&gt;\\n      &lt;td&gt;7021&lt;/td&gt;\\n      &lt;td&gt;Annual value&lt;/td&gt;\\n      &lt;td&gt;NaN&lt;/td&gt;\\n      &lt;td&gt;131.16&lt;/td&gt;\\n      &lt;td&gt;84824.352993&lt;/td&gt;\\n    &lt;/tr&gt;\\n    &lt;tr&gt;\\n      &lt;th&gt;19&lt;/th&gt;\\n      &lt;td&gt;2019&lt;/td&gt;\\n      &lt;td&gt;IRL&lt;/td&gt;\\n      &lt;td&gt;NaN&lt;/td&gt;\\n      &lt;td&gt;IRL&lt;/td&gt;\\n      &lt;td&gt;104&lt;/td&gt;\\n      &lt;td&gt;&#x27;372&lt;/td&gt;\\n      &lt;td&gt;Ireland&lt;/td&gt;\\n      &lt;td&gt;GDP&lt;/td&gt;\\n      &lt;td&gt;TOT&lt;/td&gt;\\n      &lt;td&gt;USD_CAP&lt;/td&gt;\\n      &lt;td&gt;A&lt;/td&gt;\\n      &lt;td&gt;1&lt;/td&gt;\\n      &lt;td&gt;EU&lt;/td&gt;\\n      &lt;td&gt;15&lt;/td&gt;\\n      &lt;td&gt;&#x27;0111&lt;/td&gt;\\n      &lt;td&gt;Wheat&lt;/td&gt;\\n      &lt;td&gt;5539&lt;/td&gt;\\n      &lt;td&gt;Producer Price Index (2014-2016 = 100)&lt;/td&gt;\\n      &lt;td&gt;7021&lt;/td&gt;\\n      &lt;td&gt;Annual value&lt;/td&gt;\\n      &lt;td&gt;NaN&lt;/td&gt;\\n      &lt;td&gt;96.00&lt;/td&gt;\\n      &lt;td&gt;89846.272208&lt;/td&gt;\\n    &lt;/tr&gt;\\n    &lt;tr&gt;\\n      &lt;th&gt;20&lt;/th&gt;\\n      &lt;td&gt;2020&lt;/td&gt;\\n      &lt;td&gt;IRL&lt;/td&gt;\\n      &lt;td&gt;NaN&lt;/td&gt;\\n      &lt;td&gt;IRL&lt;/td&gt;\\n      &lt;td&gt;104&lt;/td&gt;\\n      &lt;td&gt;&#x27;372&lt;/td&gt;\\n      &lt;td&gt;Ireland&lt;/td&gt;\\n      &lt;td&gt;GDP&lt;/td&gt;\\n      &lt;td&gt;TOT&lt;/td&gt;\\n      &lt;td&gt;USD_CAP&lt;/td&gt;\\n      &lt;td&gt;A&lt;/td&gt;\\n      &lt;td&gt;1&lt;/td&gt;\\n      &lt;td&gt;EU&lt;/td&gt;\\n      &lt;td&gt;15&lt;/td&gt;\\n      &lt;td&gt;&#x27;0111&lt;/td&gt;\\n      &lt;td&gt;Wheat&lt;/td&gt;\\n      &lt;td&gt;5539&lt;/td&gt;\\n      &lt;td&gt;Producer Price Index (2014-2016 = 100)&lt;/td&gt;\\n      &lt;td&gt;7021&lt;/td&gt;\\n      &lt;td&gt;Annual value&lt;/td&gt;\\n      &lt;td&gt;NaN&lt;/td&gt;\\n      &lt;td&gt;111.38&lt;/td&gt;\\n      &lt;td&gt;94028.901163&lt;/td&gt;\\n    &lt;/tr&gt;\\n    &lt;tr&gt;\\n      &lt;th&gt;21&lt;/th&gt;\\n      &lt;td&gt;2021&lt;/td&gt;\\n      &lt;td&gt;IRL&lt;/td&gt;\\n      &lt;td&gt;NaN&lt;/td&gt;\\n      &lt;td&gt;IRL&lt;/td&gt;\\n      &lt;td&gt;104&lt;/td&gt;\\n      &lt;td&gt;&#x27;372&lt;/td&gt;\\n      &lt;td&gt;Ireland&lt;/td&gt;\\n      &lt;td&gt;GDP&lt;/td&gt;\\n      &lt;td&gt;TOT&lt;/td&gt;\\n      &lt;td&gt;USD_CAP&lt;/td&gt;\\n      &lt;td&gt;A&lt;/td&gt;\\n      &lt;td&gt;1&lt;/td&gt;\\n      &lt;td&gt;EU&lt;/td&gt;\\n      &lt;td&gt;15&lt;/td&gt;\\n      &lt;td&gt;&#x27;0111&lt;/td&gt;\\n      &lt;td&gt;Wheat&lt;/td&gt;\\n      &lt;td&gt;5539&lt;/td&gt;\\n      &lt;td&gt;Producer Price Index (2014-2016 = 100)&lt;/td&gt;\\n      &lt;td&gt;7021&lt;/td&gt;\\n      &lt;td&gt;Annual value&lt;/td&gt;\\n      &lt;td&gt;NaN&lt;/td&gt;\\n      &lt;td&gt;119.68&lt;/td&gt;\\n      &lt;td&gt;106852.122229&lt;/td&gt;\\n    &lt;/tr&gt;\\n  &lt;/tbody&gt;\\n&lt;/table&gt;\"},\"id\":\"1016\",\"type\":\"panel.models.markup.HTML\"},{\"attributes\":{\"margin\":[5,10,5,10],\"options\":[\"Austria\",\"Belgium\",\"Canada\",\"Czechia\",\"Denmark\",\"Finland\",\"France\",\"Germany\",\"Greece\",\"Hungary\",\"Ireland\",\"Italy\",\"Japan\",\"Luxembourg\",\"Netherlands\",\"Poland\",\"Portugal\",\"Slovakia\",\"Spain\",\"Sweden\",\"United Kingdom of Great Britain and Northern Ireland\",\"United States of America\",\"Estonia\",\"Slovenia\",\"Latvia\",\"Lithuania\",\"Bulgaria\",\"Croatia\",\"Cyprus\",\"Malta\",\"Romania\"],\"sizing_mode\":\"stretch_width\",\"value\":\"Ireland\"},\"id\":\"1013\",\"type\":\"panel.models.widgets.CustomSelect\"},{\"attributes\":{\"client_comm_id\":\"e3dbfaa352404d1a888ae90d2dc5c2b6\",\"comm_id\":\"7e20260badb2464a9966e12b9a52a918\",\"plot_id\":\"1009\"},\"id\":\"1017\",\"type\":\"panel.models.comm_manager.CommManager\"},{\"attributes\":{\"margin\":[5,5,5,5],\"name\":\"HSpacer01795\",\"sizing_mode\":\"stretch_width\"},\"id\":\"1014\",\"type\":\"Spacer\"},{\"attributes\":{\"children\":[{\"id\":\"1016\"}],\"margin\":[0,0,0,0],\"name\":\"Row01759\",\"sizing_mode\":\"stretch_width\"},\"id\":\"1015\",\"type\":\"Row\"},{\"attributes\":{\"children\":[{\"id\":\"1010\"}],\"margin\":[0,0,0,0],\"name\":\"Row01798\",\"sizing_mode\":\"stretch_width\"},\"id\":\"1009\",\"type\":\"Row\"},{\"attributes\":{\"children\":[{\"id\":\"1011\"},{\"id\":\"1015\"}],\"margin\":[0,0,0,0],\"name\":\"Column01797\",\"sizing_mode\":\"stretch_width\"},\"id\":\"1010\",\"type\":\"Column\"}],\"root_ids\":[\"1009\",\"1017\"]},\"title\":\"Bokeh Application\",\"version\":\"2.4.2\"}};\n",
       "    var render_items = [{\"docid\":\"4e4f6c00-348d-43c7-8787-7a68964cd321\",\"root_ids\":[\"1009\"],\"roots\":{\"1009\":\"6247cca2-1a57-4795-bf5e-a6a6206acf95\"}}];\n",
       "    root.Bokeh.embed.embed_items_notebook(docs_json, render_items);\n",
       "  }\n",
       "  if (root.Bokeh !== undefined && root.Bokeh.Panel !== undefined && ( root['Tabulator'] !== undefined)) {\n",
       "    embed_document(root);\n",
       "  } else {\n",
       "    var attempts = 0;\n",
       "    var timer = setInterval(function(root) {\n",
       "      if (root.Bokeh !== undefined && root.Bokeh.Panel !== undefined && (root['Tabulator'] !== undefined)) {\n",
       "        clearInterval(timer);\n",
       "        embed_document(root);\n",
       "      } else if (document.readyState == \"complete\") {\n",
       "        attempts++;\n",
       "        if (attempts > 200) {\n",
       "          clearInterval(timer);\n",
       "          console.log(\"Bokeh: ERROR: Unable to run BokehJS code because BokehJS library is missing\");\n",
       "        }\n",
       "      }\n",
       "    }, 25, root)\n",
       "  }\n",
       "})(window);</script>"
      ],
      "text/plain": [
       "<hvplot.interactive.Interactive at 0x1d72e1879d0>"
      ]
     },
     "execution_count": 33,
     "metadata": {
      "application/vnd.holoviews_exec.v0+json": {
       "id": "1009"
      }
     },
     "output_type": "execute_result"
    }
   ],
   "source": [
    "gdp_ppi_pipeline\n",
    "# pn.Row(\n",
    "#     pn.pane.Str(background='#f0f0f0', height=100, sizing_mode='stretch_width'),\n",
    "#     width_policy='max', height=200,   \n",
    "# )"
   ]
  },
  {
   "cell_type": "code",
   "execution_count": 34,
   "id": "9424a5b9",
   "metadata": {},
   "outputs": [],
   "source": [
    "# CREATE TABLE TO DISPLAY\n",
    "# https://panel.holoviz.org/reference/widgets/Tabulator.html\n",
    "# FORMATTING: https://panel.holoviz.org/reference/widgets/Tabulator.html#formatters\n",
    "# =====\n",
    "# SOMETIMES THE PIPELINE NEEDS TO RECREATED - NOT SURE WHY\n",
    "# =====\n",
    "# columns_to_show = ['AREA', 'LOOKUP_ISO', 'YEAR', 'GDP', 'WHEAT_PPI']\n",
    "# \n",
    "gdp_ppi_table = gdp_ppi_pipeline.pipe(pn.widgets.Tabulator, \n",
    "                                      sizing_mode='stretch_width', \n",
    "                                      theme='bulma',\n",
    "                                      hidden_columns=[\n",
    "                                        'LOCATION', \n",
    "                                        'INDICATOR', \n",
    "                                        'SUBJECT', \n",
    "                                        'MEASURE', \n",
    "                                        'FREQUENCY', \n",
    "                                        'FLAG_CODES',\n",
    "                                        'LOOKUP_ISO', \n",
    "                                        'AREA_CODE', \n",
    "                                        'AREA_CODE_M49', \n",
    "                                        'EU_MEMBER', \n",
    "                                        'ITEM_CODE', \n",
    "                                        'ITEM_CODE_CPC', \n",
    "                                        'ITEM', \n",
    "                                        'ELEMENT_CODE',\n",
    "                                        'ELEMENT', \n",
    "                                        'MONTHS_CODE', \n",
    "                                        'MONTHS', \n",
    "                                        'UNIT',\n",
    "                                        'EU_STRING'\n",
    "                                      ],\n",
    "                                      formatters={\n",
    "                                          'YEAR': StringFormatter(), \n",
    "                                          'GDP': NumberFormatter(format='$0,0.00')\n",
    "                                      },\n",
    "                                      show_index=False) "
   ]
  },
  {
   "cell_type": "code",
   "execution_count": 35,
   "id": "6033bc45",
   "metadata": {},
   "outputs": [
    {
     "data": {},
     "metadata": {},
     "output_type": "display_data"
    },
    {
     "data": {
      "application/vnd.holoviews_exec.v0+json": "",
      "text/html": [
       "<div id='1020'>\n",
       "\n",
       "\n",
       "\n",
       "\n",
       "\n",
       "  <div class=\"bk-root\" id=\"6813a015-a652-4fc4-8717-e39f665b546b\" data-root-id=\"1020\"></div>\n",
       "</div>\n",
       "<script type=\"application/javascript\">(function(root) {\n",
       "  function embed_document(root) {\n",
       "    var docs_json = {\"1b6af672-3406-4094-b74d-35b0de662f92\":{\"defs\":[{\"extends\":null,\"module\":null,\"name\":\"ReactiveHTML1\",\"overrides\":[],\"properties\":[]},{\"extends\":null,\"module\":null,\"name\":\"FlexBox1\",\"overrides\":[],\"properties\":[{\"default\":\"flex-start\",\"kind\":null,\"name\":\"align_content\"},{\"default\":\"flex-start\",\"kind\":null,\"name\":\"align_items\"},{\"default\":\"row\",\"kind\":null,\"name\":\"flex_direction\"},{\"default\":\"wrap\",\"kind\":null,\"name\":\"flex_wrap\"},{\"default\":\"flex-start\",\"kind\":null,\"name\":\"justify_content\"}]},{\"extends\":null,\"module\":null,\"name\":\"GridStack1\",\"overrides\":[],\"properties\":[{\"default\":\"warn\",\"kind\":null,\"name\":\"mode\"},{\"default\":null,\"kind\":null,\"name\":\"ncols\"},{\"default\":null,\"kind\":null,\"name\":\"nrows\"},{\"default\":true,\"kind\":null,\"name\":\"allow_resize\"},{\"default\":true,\"kind\":null,\"name\":\"allow_drag\"},{\"default\":[],\"kind\":null,\"name\":\"state\"}]},{\"extends\":null,\"module\":null,\"name\":\"click1\",\"overrides\":[],\"properties\":[{\"default\":\"\",\"kind\":null,\"name\":\"terminal_output\"},{\"default\":\"\",\"kind\":null,\"name\":\"debug_name\"},{\"default\":0,\"kind\":null,\"name\":\"clears\"}]},{\"extends\":null,\"module\":null,\"name\":\"TemplateActions1\",\"overrides\":[],\"properties\":[{\"default\":0,\"kind\":null,\"name\":\"open_modal\"},{\"default\":0,\"kind\":null,\"name\":\"close_modal\"}]},{\"extends\":null,\"module\":null,\"name\":\"MaterialTemplateActions1\",\"overrides\":[],\"properties\":[{\"default\":0,\"kind\":null,\"name\":\"open_modal\"},{\"default\":0,\"kind\":null,\"name\":\"close_modal\"}]}],\"roots\":{\"references\":[{\"attributes\":{\"text_align\":\"right\"},\"id\":\"1120\",\"type\":\"NumberFormatter\"},{\"attributes\":{},\"id\":\"1121\",\"type\":\"IntEditor\"},{\"attributes\":{},\"id\":\"1046\",\"type\":\"StringEditor\"},{\"attributes\":{},\"id\":\"1035\",\"type\":\"StringFormatter\"},{\"attributes\":{\"editor\":{\"id\":\"1121\"},\"field\":\"MONTHS_CODE\",\"formatter\":{\"id\":\"1120\"},\"title\":\"MONTHS_CODE\",\"width\":0},\"id\":\"1122\",\"type\":\"TableColumn\"},{\"attributes\":{\"editor\":{\"id\":\"1096\"},\"field\":\"ITEM_CODE\",\"formatter\":{\"id\":\"1095\"},\"title\":\"ITEM_CODE\",\"width\":0},\"id\":\"1097\",\"type\":\"TableColumn\"},{\"attributes\":{},\"id\":\"1125\",\"type\":\"StringFormatter\"},{\"attributes\":{},\"id\":\"1076\",\"type\":\"StringEditor\"},{\"attributes\":{},\"id\":\"1126\",\"type\":\"StringEditor\"},{\"attributes\":{\"editor\":{\"id\":\"1126\"},\"field\":\"MONTHS\",\"formatter\":{\"id\":\"1125\"},\"title\":\"MONTHS\",\"width\":0},\"id\":\"1127\",\"type\":\"TableColumn\"},{\"attributes\":{\"editor\":{\"id\":\"1061\"},\"field\":\"AREA\",\"formatter\":{\"id\":\"1060\"},\"title\":\"AREA\",\"width\":0},\"id\":\"1062\",\"type\":\"TableColumn\"},{\"attributes\":{},\"id\":\"1075\",\"type\":\"StringFormatter\"},{\"attributes\":{\"children\":[{\"id\":\"1021\"}],\"margin\":[0,0,0,0],\"name\":\"Row01878\",\"sizing_mode\":\"stretch_width\"},\"id\":\"1020\",\"type\":\"Row\"},{\"attributes\":{},\"id\":\"1070\",\"type\":\"StringFormatter\"},{\"attributes\":{\"indices\":[]},\"id\":\"1028\",\"type\":\"Selection\"},{\"attributes\":{\"columns\":[{\"id\":\"1032\"},{\"id\":\"1037\"},{\"id\":\"1042\"},{\"id\":\"1047\"},{\"id\":\"1052\"},{\"id\":\"1057\"},{\"id\":\"1062\"},{\"id\":\"1067\"},{\"id\":\"1072\"},{\"id\":\"1077\"},{\"id\":\"1082\"},{\"id\":\"1087\"},{\"id\":\"1092\"},{\"id\":\"1097\"},{\"id\":\"1102\"},{\"id\":\"1107\"},{\"id\":\"1112\"},{\"id\":\"1117\"},{\"id\":\"1122\"},{\"id\":\"1127\"},{\"id\":\"1132\"},{\"id\":\"1137\"},{\"id\":\"1143\"}],\"configuration\":{\"columns\":[{\"field\":\"YEAR\"},{\"field\":\"LOCATION\"},{\"field\":\"FLAG_CODES\"},{\"field\":\"LOOKUP_ISO\"},{\"field\":\"AREA_CODE\"},{\"field\":\"AREA_CODE_M49\"},{\"field\":\"AREA\"},{\"field\":\"INDICATOR\"},{\"field\":\"SUBJECT\"},{\"field\":\"MEASURE\"},{\"field\":\"FREQUENCY\"},{\"field\":\"EU_MEMBER\"},{\"field\":\"EU_STRING\"},{\"field\":\"ITEM_CODE\"},{\"field\":\"ITEM_CODE_CPC\"},{\"field\":\"ITEM\"},{\"field\":\"ELEMENT_CODE\"},{\"field\":\"ELEMENT\"},{\"field\":\"MONTHS_CODE\"},{\"field\":\"MONTHS\"},{\"field\":\"UNIT\"},{\"field\":\"WHEAT_PPI\"},{\"field\":\"GDP\"}],\"dataTree\":false,\"selectable\":true},\"hidden_columns\":[\"LOCATION\",\"INDICATOR\",\"SUBJECT\",\"MEASURE\",\"FREQUENCY\",\"FLAG_CODES\",\"LOOKUP_ISO\",\"AREA_CODE\",\"AREA_CODE_M49\",\"EU_MEMBER\",\"ITEM_CODE\",\"ITEM_CODE_CPC\",\"ITEM\",\"ELEMENT_CODE\",\"ELEMENT\",\"MONTHS_CODE\",\"MONTHS\",\"UNIT\",\"EU_STRING\"],\"layout\":\"fit_data_table\",\"margin\":[5,10,5,10],\"name\":\"\",\"page\":1,\"page_size\":20,\"select_mode\":true,\"selectable_rows\":null,\"sizing_mode\":\"stretch_width\",\"source\":{\"id\":\"1027\"},\"styles\":{\"data\":{},\"id\":\"65a0bf70d4e84709846476ea846c0df9\"},\"subscribed_events\":[\"table-edit\",\"cell-click\"],\"theme\":\"bulma\",\"theme_url\":\"https://unpkg.com/tabulator-tables@4.9.3/dist/css/bulma/\"},\"id\":\"1146\",\"type\":\"panel.models.tabulator.DataTabulator\"},{\"attributes\":{},\"id\":\"1061\",\"type\":\"StringEditor\"},{\"attributes\":{},\"id\":\"1148\",\"type\":\"UnionRenderers\"},{\"attributes\":{\"format\":\"0,0.0[00000]\",\"text_align\":\"right\"},\"id\":\"1130\",\"type\":\"NumberFormatter\"},{\"attributes\":{\"children\":[{\"id\":\"1022\"},{\"id\":\"1026\"}],\"margin\":[0,0,0,0],\"name\":\"Column01877\",\"sizing_mode\":\"stretch_width\"},\"id\":\"1021\",\"type\":\"Column\"},{\"attributes\":{},\"id\":\"1100\",\"type\":\"StringFormatter\"},{\"attributes\":{},\"id\":\"1131\",\"type\":\"NumberEditor\"},{\"attributes\":{\"margin\":[5,5,5,5],\"name\":\"HSpacer01875\",\"sizing_mode\":\"stretch_width\"},\"id\":\"1025\",\"type\":\"Spacer\"},{\"attributes\":{},\"id\":\"1040\",\"type\":\"StringFormatter\"},{\"attributes\":{\"children\":[{\"id\":\"1024\"}],\"margin\":[0,0,0,0],\"name\":\"Column01835\",\"sizing_mode\":\"stretch_width\"},\"id\":\"1023\",\"type\":\"Column\"},{\"attributes\":{\"editor\":{\"id\":\"1081\"},\"field\":\"FREQUENCY\",\"formatter\":{\"id\":\"1080\"},\"title\":\"FREQUENCY\",\"width\":0},\"id\":\"1082\",\"type\":\"TableColumn\"},{\"attributes\":{\"children\":[{\"id\":\"1023\"},{\"id\":\"1025\"}],\"margin\":[0,0,0,0],\"name\":\"Row01876\",\"sizing_mode\":\"stretch_width\"},\"id\":\"1022\",\"type\":\"Row\"},{\"attributes\":{\"editor\":{\"id\":\"1056\"},\"field\":\"AREA_CODE_M49\",\"formatter\":{\"id\":\"1055\"},\"title\":\"AREA_CODE_M49\",\"width\":0},\"id\":\"1057\",\"type\":\"TableColumn\"},{\"attributes\":{\"children\":[{\"id\":\"1146\"}],\"margin\":[0,0,0,0],\"name\":\"Row01840\",\"sizing_mode\":\"stretch_width\"},\"id\":\"1026\",\"type\":\"Row\"},{\"attributes\":{\"data\":{\"AREA\":[\"Ireland\",\"Ireland\",\"Ireland\",\"Ireland\",\"Ireland\",\"Ireland\",\"Ireland\",\"Ireland\",\"Ireland\",\"Ireland\",\"Ireland\",\"Ireland\",\"Ireland\",\"Ireland\",\"Ireland\",\"Ireland\",\"Ireland\",\"Ireland\",\"Ireland\",\"Ireland\",\"Ireland\",\"Ireland\"],\"AREA_CODE\":[104,104,104,104,104,104,104,104,104,104,104,104,104,104,104,104,104,104,104,104,104,104],\"AREA_CODE_M49\":[\"'372\",\"'372\",\"'372\",\"'372\",\"'372\",\"'372\",\"'372\",\"'372\",\"'372\",\"'372\",\"'372\",\"'372\",\"'372\",\"'372\",\"'372\",\"'372\",\"'372\",\"'372\",\"'372\",\"'372\",\"'372\",\"'372\"],\"ELEMENT\":[\"Producer Price Index (2014-2016 = 100)\",\"Producer Price Index (2014-2016 = 100)\",\"Producer Price Index (2014-2016 = 100)\",\"Producer Price Index (2014-2016 = 100)\",\"Producer Price Index (2014-2016 = 100)\",\"Producer Price Index (2014-2016 = 100)\",\"Producer Price Index (2014-2016 = 100)\",\"Producer Price Index (2014-2016 = 100)\",\"Producer Price Index (2014-2016 = 100)\",\"Producer Price Index (2014-2016 = 100)\",\"Producer Price Index (2014-2016 = 100)\",\"Producer Price Index (2014-2016 = 100)\",\"Producer Price Index (2014-2016 = 100)\",\"Producer Price Index (2014-2016 = 100)\",\"Producer Price Index (2014-2016 = 100)\",\"Producer Price Index (2014-2016 = 100)\",\"Producer Price Index (2014-2016 = 100)\",\"Producer Price Index (2014-2016 = 100)\",\"Producer Price Index (2014-2016 = 100)\",\"Producer Price Index (2014-2016 = 100)\",\"Producer Price Index (2014-2016 = 100)\",\"Producer Price Index (2014-2016 = 100)\"],\"ELEMENT_CODE\":[5539,5539,5539,5539,5539,5539,5539,5539,5539,5539,5539,5539,5539,5539,5539,5539,5539,5539,5539,5539,5539,5539],\"EU_MEMBER\":[1,1,1,1,1,1,1,1,1,1,1,1,1,1,1,1,1,1,1,1,1,1],\"EU_STRING\":[\"EU\",\"EU\",\"EU\",\"EU\",\"EU\",\"EU\",\"EU\",\"EU\",\"EU\",\"EU\",\"EU\",\"EU\",\"EU\",\"EU\",\"EU\",\"EU\",\"EU\",\"EU\",\"EU\",\"EU\",\"EU\",\"EU\"],\"FLAG_CODES\":[\"NaN\",\"NaN\",\"NaN\",\"NaN\",\"NaN\",\"NaN\",\"NaN\",\"NaN\",\"NaN\",\"NaN\",\"NaN\",\"NaN\",\"NaN\",\"NaN\",\"NaN\",\"NaN\",\"NaN\",\"NaN\",\"NaN\",\"NaN\",\"NaN\",\"NaN\"],\"FREQUENCY\":[\"A\",\"A\",\"A\",\"A\",\"A\",\"A\",\"A\",\"A\",\"A\",\"A\",\"A\",\"A\",\"A\",\"A\",\"A\",\"A\",\"A\",\"A\",\"A\",\"A\",\"A\",\"A\"],\"GDP\":{\"__ndarray__\":\"eAjjp0iC3UA9fm/TO9TfQK0UAjncMuFANV8lnwu34UA25nVEM+3iQAQCnUkxwuNAmxvTEx6d5UBZT62+rtXmQINNnccpieVAwygInts75EA4+S26rxnlQGYwRiSSBeZAWYY41jWp5kA6lKEqQmHnQINpGL5//+hAURISad7i8EDp1JUPEn3xQIblz3c6DvNA6/zbpYW19ECbxvZaZO/1QNbkKWvO9PZAWmWm9EEW+kA=\",\"dtype\":\"float64\",\"order\":\"little\",\"shape\":[22]},\"INDICATOR\":[\"GDP\",\"GDP\",\"GDP\",\"GDP\",\"GDP\",\"GDP\",\"GDP\",\"GDP\",\"GDP\",\"GDP\",\"GDP\",\"GDP\",\"GDP\",\"GDP\",\"GDP\",\"GDP\",\"GDP\",\"GDP\",\"GDP\",\"GDP\",\"GDP\",\"GDP\"],\"ITEM\":[\"Wheat\",\"Wheat\",\"Wheat\",\"Wheat\",\"Wheat\",\"Wheat\",\"Wheat\",\"Wheat\",\"Wheat\",\"Wheat\",\"Wheat\",\"Wheat\",\"Wheat\",\"Wheat\",\"Wheat\",\"Wheat\",\"Wheat\",\"Wheat\",\"Wheat\",\"Wheat\",\"Wheat\",\"Wheat\"],\"ITEM_CODE\":[15,15,15,15,15,15,15,15,15,15,15,15,15,15,15,15,15,15,15,15,15,15],\"ITEM_CODE_CPC\":[\"'0111\",\"'0111\",\"'0111\",\"'0111\",\"'0111\",\"'0111\",\"'0111\",\"'0111\",\"'0111\",\"'0111\",\"'0111\",\"'0111\",\"'0111\",\"'0111\",\"'0111\",\"'0111\",\"'0111\",\"'0111\",\"'0111\",\"'0111\",\"'0111\",\"'0111\"],\"LOCATION\":[\"IRL\",\"IRL\",\"IRL\",\"IRL\",\"IRL\",\"IRL\",\"IRL\",\"IRL\",\"IRL\",\"IRL\",\"IRL\",\"IRL\",\"IRL\",\"IRL\",\"IRL\",\"IRL\",\"IRL\",\"IRL\",\"IRL\",\"IRL\",\"IRL\",\"IRL\"],\"LOOKUP_ISO\":[\"IRL\",\"IRL\",\"IRL\",\"IRL\",\"IRL\",\"IRL\",\"IRL\",\"IRL\",\"IRL\",\"IRL\",\"IRL\",\"IRL\",\"IRL\",\"IRL\",\"IRL\",\"IRL\",\"IRL\",\"IRL\",\"IRL\",\"IRL\",\"IRL\",\"IRL\"],\"MEASURE\":[\"USD_CAP\",\"USD_CAP\",\"USD_CAP\",\"USD_CAP\",\"USD_CAP\",\"USD_CAP\",\"USD_CAP\",\"USD_CAP\",\"USD_CAP\",\"USD_CAP\",\"USD_CAP\",\"USD_CAP\",\"USD_CAP\",\"USD_CAP\",\"USD_CAP\",\"USD_CAP\",\"USD_CAP\",\"USD_CAP\",\"USD_CAP\",\"USD_CAP\",\"USD_CAP\",\"USD_CAP\"],\"MONTHS\":[\"Annual value\",\"Annual value\",\"Annual value\",\"Annual value\",\"Annual value\",\"Annual value\",\"Annual value\",\"Annual value\",\"Annual value\",\"Annual value\",\"Annual value\",\"Annual value\",\"Annual value\",\"Annual value\",\"Annual value\",\"Annual value\",\"Annual value\",\"Annual value\",\"Annual value\",\"Annual value\",\"Annual value\",\"Annual value\"],\"MONTHS_CODE\":[7021,7021,7021,7021,7021,7021,7021,7021,7021,7021,7021,7021,7021,7021,7021,7021,7021,7021,7021,7021,7021,7021],\"SUBJECT\":[\"TOT\",\"TOT\",\"TOT\",\"TOT\",\"TOT\",\"TOT\",\"TOT\",\"TOT\",\"TOT\",\"TOT\",\"TOT\",\"TOT\",\"TOT\",\"TOT\",\"TOT\",\"TOT\",\"TOT\",\"TOT\",\"TOT\",\"TOT\",\"TOT\",\"TOT\"],\"UNIT\":{\"__ndarray__\":\"AAAAAAAA+H8AAAAAAAD4fwAAAAAAAPh/AAAAAAAA+H8AAAAAAAD4fwAAAAAAAPh/AAAAAAAA+H8AAAAAAAD4fwAAAAAAAPh/AAAAAAAA+H8AAAAAAAD4fwAAAAAAAPh/AAAAAAAA+H8AAAAAAAD4fwAAAAAAAPh/AAAAAAAA+H8AAAAAAAD4fwAAAAAAAPh/AAAAAAAA+H8AAAAAAAD4fwAAAAAAAPh/AAAAAAAA+H8=\",\"dtype\":\"float64\",\"order\":\"little\",\"shape\":[22]},\"WHEAT_PPI\":{\"__ndarray__\":\"w/UoXI+SUEDXo3A9CgdTQMP1KFyPQk9A9ihcj8JVU0DXo3A9CmdRQOxRuB6F61BAuB6F61GoU0CamZmZmTFgQDMzMzMzE1ZA7FG4HoXrUEDhehSuR6FZQHsUrkfhWlpA9ihcj8LFYUBSuB6F6zFZQAAAAAAAsF9A7FG4HoXLVEAUrkfheoRWQI/C9Shc/1dAhetRuB5lYEAAAAAAAABYQLgehetR2FtA7FG4HoXrXUA=\",\"dtype\":\"float64\",\"order\":\"little\",\"shape\":[22]},\"YEAR\":[2000,2001,2002,2003,2004,2005,2006,2007,2008,2009,2010,2011,2012,2013,2014,2015,2016,2017,2018,2019,2020,2021]},\"selected\":{\"id\":\"1028\"},\"selection_policy\":{\"id\":\"1148\"}},\"id\":\"1027\",\"type\":\"ColumnDataSource\"},{\"attributes\":{\"editor\":{\"id\":\"1041\"},\"field\":\"FLAG_CODES\",\"formatter\":{\"id\":\"1040\"},\"title\":\"FLAG_CODES\",\"width\":0},\"id\":\"1042\",\"type\":\"TableColumn\"},{\"attributes\":{\"margin\":[5,10,5,10],\"options\":[\"Austria\",\"Belgium\",\"Canada\",\"Czechia\",\"Denmark\",\"Finland\",\"France\",\"Germany\",\"Greece\",\"Hungary\",\"Ireland\",\"Italy\",\"Japan\",\"Luxembourg\",\"Netherlands\",\"Poland\",\"Portugal\",\"Slovakia\",\"Spain\",\"Sweden\",\"United Kingdom of Great Britain and Northern Ireland\",\"United States of America\",\"Estonia\",\"Slovenia\",\"Latvia\",\"Lithuania\",\"Bulgaria\",\"Croatia\",\"Cyprus\",\"Malta\",\"Romania\"],\"sizing_mode\":\"stretch_width\",\"value\":\"Ireland\"},\"id\":\"1024\",\"type\":\"panel.models.widgets.CustomSelect\"},{\"attributes\":{},\"id\":\"1091\",\"type\":\"StringEditor\"},{\"attributes\":{},\"id\":\"1056\",\"type\":\"StringEditor\"},{\"attributes\":{\"editor\":{\"id\":\"1086\"},\"field\":\"EU_MEMBER\",\"formatter\":{\"id\":\"1085\"},\"title\":\"EU_MEMBER\",\"width\":0},\"id\":\"1087\",\"type\":\"TableColumn\"},{\"attributes\":{\"editor\":{\"id\":\"1051\"},\"field\":\"AREA_CODE\",\"formatter\":{\"id\":\"1050\"},\"title\":\"AREA_CODE\",\"width\":0},\"id\":\"1052\",\"type\":\"TableColumn\"},{\"attributes\":{\"format\":\"$0,0.00\"},\"id\":\"1142\",\"type\":\"NumberFormatter\"},{\"attributes\":{\"editor\":{\"id\":\"1101\"},\"field\":\"ITEM_CODE_CPC\",\"formatter\":{\"id\":\"1100\"},\"title\":\"ITEM_CODE_CPC\",\"width\":0},\"id\":\"1102\",\"type\":\"TableColumn\"},{\"attributes\":{},\"id\":\"1060\",\"type\":\"StringFormatter\"},{\"attributes\":{},\"id\":\"1101\",\"type\":\"StringEditor\"},{\"attributes\":{},\"id\":\"1090\",\"type\":\"StringFormatter\"},{\"attributes\":{},\"id\":\"1055\",\"type\":\"StringFormatter\"},{\"attributes\":{},\"id\":\"1111\",\"type\":\"IntEditor\"},{\"attributes\":{},\"id\":\"1045\",\"type\":\"StringFormatter\"},{\"attributes\":{\"editor\":{\"id\":\"1030\"},\"field\":\"YEAR\",\"formatter\":{\"id\":\"1031\"},\"title\":\"YEAR\",\"width\":0},\"id\":\"1032\",\"type\":\"TableColumn\"},{\"attributes\":{\"editor\":{\"id\":\"1111\"},\"field\":\"ELEMENT_CODE\",\"formatter\":{\"id\":\"1110\"},\"title\":\"ELEMENT_CODE\",\"width\":0},\"id\":\"1112\",\"type\":\"TableColumn\"},{\"attributes\":{},\"id\":\"1106\",\"type\":\"StringEditor\"},{\"attributes\":{},\"id\":\"1071\",\"type\":\"StringEditor\"},{\"attributes\":{\"client_comm_id\":\"fd55859cd323451cbb513b3820c339f7\",\"comm_id\":\"71b2a8e0fd9b4f6bb67eb71409cf4952\",\"plot_id\":\"1020\"},\"id\":\"1154\",\"type\":\"panel.models.comm_manager.CommManager\"},{\"attributes\":{\"text_align\":\"right\"},\"id\":\"1110\",\"type\":\"NumberFormatter\"},{\"attributes\":{},\"id\":\"1031\",\"type\":\"StringFormatter\"},{\"attributes\":{},\"id\":\"1105\",\"type\":\"StringFormatter\"},{\"attributes\":{\"editor\":{\"id\":\"1106\"},\"field\":\"ITEM\",\"formatter\":{\"id\":\"1105\"},\"title\":\"ITEM\",\"width\":0},\"id\":\"1107\",\"type\":\"TableColumn\"},{\"attributes\":{},\"id\":\"1036\",\"type\":\"StringEditor\"},{\"attributes\":{},\"id\":\"1115\",\"type\":\"StringFormatter\"},{\"attributes\":{\"editor\":{\"id\":\"1046\"},\"field\":\"LOOKUP_ISO\",\"formatter\":{\"id\":\"1045\"},\"title\":\"LOOKUP_ISO\",\"width\":0},\"id\":\"1047\",\"type\":\"TableColumn\"},{\"attributes\":{\"editor\":{\"id\":\"1066\"},\"field\":\"INDICATOR\",\"formatter\":{\"id\":\"1065\"},\"title\":\"INDICATOR\",\"width\":0},\"id\":\"1067\",\"type\":\"TableColumn\"},{\"attributes\":{},\"id\":\"1096\",\"type\":\"IntEditor\"},{\"attributes\":{\"editor\":{\"id\":\"1141\"},\"field\":\"GDP\",\"formatter\":{\"id\":\"1142\"},\"title\":\"GDP\",\"width\":0},\"id\":\"1143\",\"type\":\"TableColumn\"},{\"attributes\":{},\"id\":\"1066\",\"type\":\"StringEditor\"},{\"attributes\":{},\"id\":\"1141\",\"type\":\"NumberEditor\"},{\"attributes\":{\"editor\":{\"id\":\"1076\"},\"field\":\"MEASURE\",\"formatter\":{\"id\":\"1075\"},\"title\":\"MEASURE\",\"width\":0},\"id\":\"1077\",\"type\":\"TableColumn\"},{\"attributes\":{\"editor\":{\"id\":\"1036\"},\"field\":\"LOCATION\",\"formatter\":{\"id\":\"1035\"},\"title\":\"LOCATION\",\"width\":0},\"id\":\"1037\",\"type\":\"TableColumn\"},{\"attributes\":{\"text_align\":\"right\"},\"id\":\"1085\",\"type\":\"NumberFormatter\"},{\"attributes\":{},\"id\":\"1041\",\"type\":\"StringEditor\"},{\"attributes\":{},\"id\":\"1065\",\"type\":\"StringFormatter\"},{\"attributes\":{},\"id\":\"1136\",\"type\":\"NumberEditor\"},{\"attributes\":{},\"id\":\"1080\",\"type\":\"StringFormatter\"},{\"attributes\":{\"editor\":{\"id\":\"1136\"},\"field\":\"WHEAT_PPI\",\"formatter\":{\"id\":\"1135\"},\"title\":\"WHEAT_PPI\",\"width\":0},\"id\":\"1137\",\"type\":\"TableColumn\"},{\"attributes\":{},\"id\":\"1051\",\"type\":\"IntEditor\"},{\"attributes\":{},\"id\":\"1086\",\"type\":\"IntEditor\"},{\"attributes\":{},\"id\":\"1116\",\"type\":\"StringEditor\"},{\"attributes\":{},\"id\":\"1030\",\"type\":\"IntEditor\"},{\"attributes\":{\"editor\":{\"id\":\"1116\"},\"field\":\"ELEMENT\",\"formatter\":{\"id\":\"1115\"},\"title\":\"ELEMENT\",\"width\":0},\"id\":\"1117\",\"type\":\"TableColumn\"},{\"attributes\":{},\"id\":\"1081\",\"type\":\"StringEditor\"},{\"attributes\":{\"editor\":{\"id\":\"1071\"},\"field\":\"SUBJECT\",\"formatter\":{\"id\":\"1070\"},\"title\":\"SUBJECT\",\"width\":0},\"id\":\"1072\",\"type\":\"TableColumn\"},{\"attributes\":{\"format\":\"0,0.0[00000]\",\"text_align\":\"right\"},\"id\":\"1135\",\"type\":\"NumberFormatter\"},{\"attributes\":{\"editor\":{\"id\":\"1091\"},\"field\":\"EU_STRING\",\"formatter\":{\"id\":\"1090\"},\"title\":\"EU_STRING\",\"width\":0},\"id\":\"1092\",\"type\":\"TableColumn\"},{\"attributes\":{\"text_align\":\"right\"},\"id\":\"1095\",\"type\":\"NumberFormatter\"},{\"attributes\":{\"text_align\":\"right\"},\"id\":\"1050\",\"type\":\"NumberFormatter\"},{\"attributes\":{\"editor\":{\"id\":\"1131\"},\"field\":\"UNIT\",\"formatter\":{\"id\":\"1130\"},\"title\":\"UNIT\",\"width\":0},\"id\":\"1132\",\"type\":\"TableColumn\"}],\"root_ids\":[\"1020\",\"1154\"]},\"title\":\"Bokeh Application\",\"version\":\"2.4.2\"}};\n",
       "    var render_items = [{\"docid\":\"1b6af672-3406-4094-b74d-35b0de662f92\",\"root_ids\":[\"1020\"],\"roots\":{\"1020\":\"6813a015-a652-4fc4-8717-e39f665b546b\"}}];\n",
       "    root.Bokeh.embed.embed_items_notebook(docs_json, render_items);\n",
       "  }\n",
       "  if (root.Bokeh !== undefined && root.Bokeh.Panel !== undefined && ( root['Tabulator'] !== undefined)) {\n",
       "    embed_document(root);\n",
       "  } else {\n",
       "    var attempts = 0;\n",
       "    var timer = setInterval(function(root) {\n",
       "      if (root.Bokeh !== undefined && root.Bokeh.Panel !== undefined && (root['Tabulator'] !== undefined)) {\n",
       "        clearInterval(timer);\n",
       "        embed_document(root);\n",
       "      } else if (document.readyState == \"complete\") {\n",
       "        attempts++;\n",
       "        if (attempts > 200) {\n",
       "          clearInterval(timer);\n",
       "          console.log(\"Bokeh: ERROR: Unable to run BokehJS code because BokehJS library is missing\");\n",
       "        }\n",
       "      }\n",
       "    }, 25, root)\n",
       "  }\n",
       "})(window);</script>"
      ],
      "text/plain": [
       "<hvplot.interactive.Interactive at 0x1d72e1d9310>"
      ]
     },
     "execution_count": 35,
     "metadata": {
      "application/vnd.holoviews_exec.v0+json": {
       "id": "1020"
      }
     },
     "output_type": "execute_result"
    }
   ],
   "source": [
    "# DISPLAY TABLE\n",
    "gdp_ppi_table"
   ]
  },
  {
   "cell_type": "code",
   "execution_count": 36,
   "id": "9cf0bde3",
   "metadata": {},
   "outputs": [],
   "source": [
    "ppi_type_plot = gdp_ppi_pipeline.hvplot(kind='bar', \n",
    "                                             x='YEAR', \n",
    "                                             y=\"WHEAT_PPI\", \n",
    "                                             title='Wheat PPI Breakdown')"
   ]
  },
  {
   "cell_type": "code",
   "execution_count": 37,
   "id": "58bdb7f5",
   "metadata": {
    "scrolled": false
   },
   "outputs": [
    {
     "data": {},
     "metadata": {},
     "output_type": "display_data"
    },
    {
     "data": {},
     "metadata": {},
     "output_type": "display_data"
    },
    {
     "data": {
      "application/vnd.holoviews_exec.v0+json": "",
      "text/html": [
       "<div id='1165'>\n",
       "\n",
       "\n",
       "\n",
       "\n",
       "\n",
       "  <div class=\"bk-root\" id=\"5f538301-aa32-4591-b188-f07b9662f82c\" data-root-id=\"1165\"></div>\n",
       "</div>\n",
       "<script type=\"application/javascript\">(function(root) {\n",
       "  function embed_document(root) {\n",
       "    var docs_json = {\"e82a5112-8ec0-458f-a96c-0929a6f131ea\":{\"defs\":[{\"extends\":null,\"module\":null,\"name\":\"ReactiveHTML1\",\"overrides\":[],\"properties\":[]},{\"extends\":null,\"module\":null,\"name\":\"FlexBox1\",\"overrides\":[],\"properties\":[{\"default\":\"flex-start\",\"kind\":null,\"name\":\"align_content\"},{\"default\":\"flex-start\",\"kind\":null,\"name\":\"align_items\"},{\"default\":\"row\",\"kind\":null,\"name\":\"flex_direction\"},{\"default\":\"wrap\",\"kind\":null,\"name\":\"flex_wrap\"},{\"default\":\"flex-start\",\"kind\":null,\"name\":\"justify_content\"}]},{\"extends\":null,\"module\":null,\"name\":\"GridStack1\",\"overrides\":[],\"properties\":[{\"default\":\"warn\",\"kind\":null,\"name\":\"mode\"},{\"default\":null,\"kind\":null,\"name\":\"ncols\"},{\"default\":null,\"kind\":null,\"name\":\"nrows\"},{\"default\":true,\"kind\":null,\"name\":\"allow_resize\"},{\"default\":true,\"kind\":null,\"name\":\"allow_drag\"},{\"default\":[],\"kind\":null,\"name\":\"state\"}]},{\"extends\":null,\"module\":null,\"name\":\"click1\",\"overrides\":[],\"properties\":[{\"default\":\"\",\"kind\":null,\"name\":\"terminal_output\"},{\"default\":\"\",\"kind\":null,\"name\":\"debug_name\"},{\"default\":0,\"kind\":null,\"name\":\"clears\"}]},{\"extends\":null,\"module\":null,\"name\":\"TemplateActions1\",\"overrides\":[],\"properties\":[{\"default\":0,\"kind\":null,\"name\":\"open_modal\"},{\"default\":0,\"kind\":null,\"name\":\"close_modal\"}]},{\"extends\":null,\"module\":null,\"name\":\"MaterialTemplateActions1\",\"overrides\":[],\"properties\":[{\"default\":0,\"kind\":null,\"name\":\"open_modal\"},{\"default\":0,\"kind\":null,\"name\":\"close_modal\"}]}],\"roots\":{\"references\":[{\"attributes\":{\"fill_color\":{\"value\":\"#30a2da\"},\"hatch_color\":{\"value\":\"#30a2da\"},\"top\":{\"field\":\"WHEAT_PPI\"},\"width\":{\"value\":0.8},\"x\":{\"field\":\"YEAR\"}},\"id\":\"1207\",\"type\":\"VBar\"},{\"attributes\":{},\"id\":\"1195\",\"type\":\"ResetTool\"},{\"attributes\":{},\"id\":\"1185\",\"type\":\"CategoricalTicker\"},{\"attributes\":{\"bottom_units\":\"screen\",\"coordinates\":null,\"fill_alpha\":0.5,\"fill_color\":\"lightgrey\",\"group\":null,\"left_units\":\"screen\",\"level\":\"overlay\",\"line_alpha\":1.0,\"line_color\":\"black\",\"line_dash\":[4,4],\"line_width\":2,\"right_units\":\"screen\",\"syncable\":false,\"top_units\":\"screen\"},\"id\":\"1196\",\"type\":\"BoxAnnotation\"},{\"attributes\":{\"children\":[{\"id\":\"1166\"}],\"margin\":[0,0,0,0],\"name\":\"Row02151\",\"sizing_mode\":\"stretch_width\"},\"id\":\"1165\",\"type\":\"Row\"},{\"attributes\":{\"margin\":[5,5,5,5],\"name\":\"HSpacer02148\",\"sizing_mode\":\"stretch_width\"},\"id\":\"1170\",\"type\":\"Spacer\"},{\"attributes\":{\"children\":[{\"id\":\"1168\"},{\"id\":\"1170\"}],\"margin\":[0,0,0,0],\"name\":\"Row02149\",\"sizing_mode\":\"stretch_width\"},\"id\":\"1167\",\"type\":\"Row\"},{\"attributes\":{\"end\":150.14600000000002,\"reset_end\":150.14600000000002,\"reset_start\":0.0,\"tags\":[[[\"WHEAT_PPI\",\"WHEAT_PPI\",null]]]},\"id\":\"1173\",\"type\":\"Range1d\"},{\"attributes\":{\"fill_alpha\":{\"value\":0.1},\"fill_color\":{\"value\":\"#30a2da\"},\"hatch_alpha\":{\"value\":0.1},\"hatch_color\":{\"value\":\"#30a2da\"},\"line_alpha\":{\"value\":0.1},\"top\":{\"field\":\"WHEAT_PPI\"},\"width\":{\"value\":0.8},\"x\":{\"field\":\"YEAR\"}},\"id\":\"1208\",\"type\":\"VBar\"},{\"attributes\":{\"children\":[{\"id\":\"1167\"},{\"id\":\"1171\"}],\"margin\":[0,0,0,0],\"name\":\"Column02150\",\"sizing_mode\":\"stretch_width\"},\"id\":\"1166\",\"type\":\"Column\"},{\"attributes\":{},\"id\":\"1214\",\"type\":\"CategoricalTickFormatter\"},{\"attributes\":{\"axis\":{\"id\":\"1184\"},\"coordinates\":null,\"grid_line_color\":null,\"group\":null,\"ticker\":null},\"id\":\"1186\",\"type\":\"Grid\"},{\"attributes\":{},\"id\":\"1218\",\"type\":\"AllLabels\"},{\"attributes\":{\"tools\":[{\"id\":\"1174\"},{\"id\":\"1191\"},{\"id\":\"1192\"},{\"id\":\"1193\"},{\"id\":\"1194\"},{\"id\":\"1195\"}]},\"id\":\"1197\",\"type\":\"Toolbar\"},{\"attributes\":{\"coordinates\":null,\"group\":null,\"text\":\"Wheat PPI Breakdown\",\"text_color\":\"black\",\"text_font_size\":\"12pt\"},\"id\":\"1176\",\"type\":\"Title\"},{\"attributes\":{},\"id\":\"1180\",\"type\":\"CategoricalScale\"},{\"attributes\":{\"bottom\":{\"value\":0},\"fill_alpha\":{\"value\":1.0},\"fill_color\":{\"value\":\"#30a2da\"},\"hatch_alpha\":{\"value\":1.0},\"hatch_color\":{\"value\":\"#30a2da\"},\"hatch_scale\":{\"value\":12.0},\"hatch_weight\":{\"value\":1.0},\"line_alpha\":{\"value\":1.0},\"line_cap\":{\"value\":\"butt\"},\"line_color\":{\"value\":\"black\"},\"line_dash\":{\"value\":[]},\"line_dash_offset\":{\"value\":0},\"line_join\":{\"value\":\"bevel\"},\"line_width\":{\"value\":1},\"top\":{\"field\":\"WHEAT_PPI\"},\"width\":{\"value\":0.8},\"x\":{\"field\":\"YEAR\"}},\"id\":\"1212\",\"type\":\"VBar\"},{\"attributes\":{\"children\":[{\"id\":\"1175\"}],\"margin\":[0,0,0,0],\"name\":\"Row02014\",\"sizing_mode\":\"stretch_width\"},\"id\":\"1171\",\"type\":\"Row\"},{\"attributes\":{\"below\":[{\"id\":\"1184\"}],\"center\":[{\"id\":\"1186\"},{\"id\":\"1190\"}],\"height\":300,\"left\":[{\"id\":\"1187\"}],\"margin\":[5,5,5,5],\"min_border_bottom\":10,\"min_border_left\":10,\"min_border_right\":10,\"min_border_top\":10,\"renderers\":[{\"id\":\"1210\"}],\"sizing_mode\":\"stretch_width\",\"title\":{\"id\":\"1176\"},\"toolbar\":{\"id\":\"1197\"},\"width\":700,\"x_range\":{\"id\":\"1172\"},\"x_scale\":{\"id\":\"1180\"},\"y_range\":{\"id\":\"1173\"},\"y_scale\":{\"id\":\"1182\"}},\"id\":\"1175\",\"subtype\":\"Figure\",\"type\":\"Plot\"},{\"attributes\":{\"children\":[{\"id\":\"1169\"}],\"margin\":[0,0,0,0],\"name\":\"Column02009\",\"sizing_mode\":\"stretch_width\"},\"id\":\"1168\",\"type\":\"Column\"},{\"attributes\":{},\"id\":\"1182\",\"type\":\"LinearScale\"},{\"attributes\":{},\"id\":\"1217\",\"type\":\"BasicTickFormatter\"},{\"attributes\":{\"callback\":null,\"renderers\":[{\"id\":\"1210\"}],\"tags\":[\"hv_created\"],\"tooltips\":[[\"YEAR\",\"@{YEAR}\"],[\"WHEAT_PPI\",\"@{WHEAT_PPI}\"]]},\"id\":\"1174\",\"type\":\"HoverTool\"},{\"attributes\":{\"fill_alpha\":{\"value\":0.2},\"fill_color\":{\"value\":\"#30a2da\"},\"hatch_alpha\":{\"value\":0.2},\"hatch_color\":{\"value\":\"#30a2da\"},\"line_alpha\":{\"value\":0.2},\"top\":{\"field\":\"WHEAT_PPI\"},\"width\":{\"value\":0.8},\"x\":{\"field\":\"YEAR\"}},\"id\":\"1209\",\"type\":\"VBar\"},{\"attributes\":{\"margin\":[5,10,5,10],\"options\":[\"Austria\",\"Belgium\",\"Canada\",\"Czechia\",\"Denmark\",\"Finland\",\"France\",\"Germany\",\"Greece\",\"Hungary\",\"Ireland\",\"Italy\",\"Japan\",\"Luxembourg\",\"Netherlands\",\"Poland\",\"Portugal\",\"Slovakia\",\"Spain\",\"Sweden\",\"United Kingdom of Great Britain and Northern Ireland\",\"United States of America\",\"Estonia\",\"Slovenia\",\"Latvia\",\"Lithuania\",\"Bulgaria\",\"Croatia\",\"Cyprus\",\"Malta\",\"Romania\"],\"sizing_mode\":\"stretch_width\",\"value\":\"Ireland\"},\"id\":\"1169\",\"type\":\"panel.models.widgets.CustomSelect\"},{\"attributes\":{},\"id\":\"1205\",\"type\":\"Selection\"},{\"attributes\":{\"factors\":[\"2000\",\"2001\",\"2002\",\"2003\",\"2004\",\"2005\",\"2006\",\"2007\",\"2008\",\"2009\",\"2010\",\"2011\",\"2012\",\"2013\",\"2014\",\"2015\",\"2016\",\"2017\",\"2018\",\"2019\",\"2020\",\"2021\"],\"tags\":[[[\"YEAR\",\"YEAR\",null]]]},\"id\":\"1172\",\"type\":\"FactorRange\"},{\"attributes\":{},\"id\":\"1191\",\"type\":\"SaveTool\"},{\"attributes\":{\"source\":{\"id\":\"1204\"}},\"id\":\"1211\",\"type\":\"CDSView\"},{\"attributes\":{\"axis_label\":\"YEAR\",\"coordinates\":null,\"formatter\":{\"id\":\"1214\"},\"group\":null,\"major_label_policy\":{\"id\":\"1215\"},\"ticker\":{\"id\":\"1185\"}},\"id\":\"1184\",\"type\":\"CategoricalAxis\"},{\"attributes\":{\"axis\":{\"id\":\"1187\"},\"coordinates\":null,\"dimension\":1,\"grid_line_color\":null,\"group\":null,\"ticker\":null},\"id\":\"1190\",\"type\":\"Grid\"},{\"attributes\":{},\"id\":\"1215\",\"type\":\"AllLabels\"},{\"attributes\":{},\"id\":\"1193\",\"type\":\"WheelZoomTool\"},{\"attributes\":{},\"id\":\"1226\",\"type\":\"UnionRenderers\"},{\"attributes\":{\"client_comm_id\":\"89a438b866d340dd8406e5a7fe2beefb\",\"comm_id\":\"0815fb04314443d18458e73ac50e9e96\",\"plot_id\":\"1165\"},\"id\":\"1269\",\"type\":\"panel.models.comm_manager.CommManager\"},{\"attributes\":{\"axis_label\":\"WHEAT_PPI\",\"coordinates\":null,\"formatter\":{\"id\":\"1217\"},\"group\":null,\"major_label_policy\":{\"id\":\"1218\"},\"ticker\":{\"id\":\"1188\"}},\"id\":\"1187\",\"type\":\"LinearAxis\"},{\"attributes\":{\"coordinates\":null,\"data_source\":{\"id\":\"1204\"},\"glyph\":{\"id\":\"1207\"},\"group\":null,\"hover_glyph\":null,\"muted_glyph\":{\"id\":\"1209\"},\"nonselection_glyph\":{\"id\":\"1208\"},\"selection_glyph\":{\"id\":\"1212\"},\"view\":{\"id\":\"1211\"}},\"id\":\"1210\",\"type\":\"GlyphRenderer\"},{\"attributes\":{},\"id\":\"1188\",\"type\":\"BasicTicker\"},{\"attributes\":{},\"id\":\"1192\",\"type\":\"PanTool\"},{\"attributes\":{\"data\":{\"WHEAT_PPI\":{\"__ndarray__\":\"w/UoXI+SUEDXo3A9CgdTQMP1KFyPQk9A9ihcj8JVU0DXo3A9CmdRQOxRuB6F61BAuB6F61GoU0CamZmZmTFgQDMzMzMzE1ZA7FG4HoXrUEDhehSuR6FZQHsUrkfhWlpA9ihcj8LFYUBSuB6F6zFZQAAAAAAAsF9A7FG4HoXLVEAUrkfheoRWQI/C9Shc/1dAhetRuB5lYEAAAAAAAABYQLgehetR2FtA7FG4HoXrXUA=\",\"dtype\":\"float64\",\"order\":\"little\",\"shape\":[22]},\"YEAR\":[\"2000\",\"2001\",\"2002\",\"2003\",\"2004\",\"2005\",\"2006\",\"2007\",\"2008\",\"2009\",\"2010\",\"2011\",\"2012\",\"2013\",\"2014\",\"2015\",\"2016\",\"2017\",\"2018\",\"2019\",\"2020\",\"2021\"]},\"selected\":{\"id\":\"1205\"},\"selection_policy\":{\"id\":\"1226\"}},\"id\":\"1204\",\"type\":\"ColumnDataSource\"},{\"attributes\":{\"overlay\":{\"id\":\"1196\"}},\"id\":\"1194\",\"type\":\"BoxZoomTool\"}],\"root_ids\":[\"1165\",\"1269\"]},\"title\":\"Bokeh Application\",\"version\":\"2.4.2\"}};\n",
       "    var render_items = [{\"docid\":\"e82a5112-8ec0-458f-a96c-0929a6f131ea\",\"root_ids\":[\"1165\"],\"roots\":{\"1165\":\"5f538301-aa32-4591-b188-f07b9662f82c\"}}];\n",
       "    root.Bokeh.embed.embed_items_notebook(docs_json, render_items);\n",
       "  }\n",
       "  if (root.Bokeh !== undefined && root.Bokeh.Panel !== undefined && ( root['Tabulator'] !== undefined)) {\n",
       "    embed_document(root);\n",
       "  } else {\n",
       "    var attempts = 0;\n",
       "    var timer = setInterval(function(root) {\n",
       "      if (root.Bokeh !== undefined && root.Bokeh.Panel !== undefined && (root['Tabulator'] !== undefined)) {\n",
       "        clearInterval(timer);\n",
       "        embed_document(root);\n",
       "      } else if (document.readyState == \"complete\") {\n",
       "        attempts++;\n",
       "        if (attempts > 200) {\n",
       "          clearInterval(timer);\n",
       "          console.log(\"Bokeh: ERROR: Unable to run BokehJS code because BokehJS library is missing\");\n",
       "        }\n",
       "      }\n",
       "    }, 25, root)\n",
       "  }\n",
       "})(window);</script>"
      ],
      "text/plain": [
       "<hvplot.interactive.Interactive at 0x1d72dc19ac0>"
      ]
     },
     "execution_count": 37,
     "metadata": {
      "application/vnd.holoviews_exec.v0+json": {
       "id": "1165"
      }
     },
     "output_type": "execute_result"
    }
   ],
   "source": [
    "ppi_type_plot"
   ]
  },
  {
   "cell_type": "code",
   "execution_count": 38,
   "id": "aee58188",
   "metadata": {},
   "outputs": [],
   "source": [
    "gdp_type_plot = gdp_ppi_pipeline.hvplot(kind='scatter', \n",
    "                                             x='WHEAT_PPI', \n",
    "                                             y=\"GDP\", \n",
    "                                             title='GDP Breakdown')"
   ]
  },
  {
   "cell_type": "code",
   "execution_count": 39,
   "id": "c6638d2b",
   "metadata": {},
   "outputs": [
    {
     "data": {},
     "metadata": {},
     "output_type": "display_data"
    },
    {
     "data": {},
     "metadata": {},
     "output_type": "display_data"
    },
    {
     "data": {
      "application/vnd.holoviews_exec.v0+json": "",
      "text/html": [
       "<div id='1320'>\n",
       "\n",
       "\n",
       "\n",
       "\n",
       "\n",
       "  <div class=\"bk-root\" id=\"68f17176-bf26-473e-8f2f-1a5cc106a2d6\" data-root-id=\"1320\"></div>\n",
       "</div>\n",
       "<script type=\"application/javascript\">(function(root) {\n",
       "  function embed_document(root) {\n",
       "    var docs_json = {\"2c6f8c44-fb00-461b-a094-15afd930e5ec\":{\"defs\":[{\"extends\":null,\"module\":null,\"name\":\"ReactiveHTML1\",\"overrides\":[],\"properties\":[]},{\"extends\":null,\"module\":null,\"name\":\"FlexBox1\",\"overrides\":[],\"properties\":[{\"default\":\"flex-start\",\"kind\":null,\"name\":\"align_content\"},{\"default\":\"flex-start\",\"kind\":null,\"name\":\"align_items\"},{\"default\":\"row\",\"kind\":null,\"name\":\"flex_direction\"},{\"default\":\"wrap\",\"kind\":null,\"name\":\"flex_wrap\"},{\"default\":\"flex-start\",\"kind\":null,\"name\":\"justify_content\"}]},{\"extends\":null,\"module\":null,\"name\":\"GridStack1\",\"overrides\":[],\"properties\":[{\"default\":\"warn\",\"kind\":null,\"name\":\"mode\"},{\"default\":null,\"kind\":null,\"name\":\"ncols\"},{\"default\":null,\"kind\":null,\"name\":\"nrows\"},{\"default\":true,\"kind\":null,\"name\":\"allow_resize\"},{\"default\":true,\"kind\":null,\"name\":\"allow_drag\"},{\"default\":[],\"kind\":null,\"name\":\"state\"}]},{\"extends\":null,\"module\":null,\"name\":\"click1\",\"overrides\":[],\"properties\":[{\"default\":\"\",\"kind\":null,\"name\":\"terminal_output\"},{\"default\":\"\",\"kind\":null,\"name\":\"debug_name\"},{\"default\":0,\"kind\":null,\"name\":\"clears\"}]},{\"extends\":null,\"module\":null,\"name\":\"TemplateActions1\",\"overrides\":[],\"properties\":[{\"default\":0,\"kind\":null,\"name\":\"open_modal\"},{\"default\":0,\"kind\":null,\"name\":\"close_modal\"}]},{\"extends\":null,\"module\":null,\"name\":\"MaterialTemplateActions1\",\"overrides\":[],\"properties\":[{\"default\":0,\"kind\":null,\"name\":\"open_modal\"},{\"default\":0,\"kind\":null,\"name\":\"close_modal\"}]}],\"roots\":{\"references\":[{\"attributes\":{\"children\":[{\"id\":\"1321\"}],\"margin\":[0,0,0,0],\"name\":\"Row02492\",\"sizing_mode\":\"stretch_width\"},\"id\":\"1320\",\"type\":\"Row\"},{\"attributes\":{\"children\":[{\"id\":\"1324\"}],\"margin\":[0,0,0,0],\"name\":\"Column02350\",\"sizing_mode\":\"stretch_width\"},\"id\":\"1323\",\"type\":\"Column\"},{\"attributes\":{},\"id\":\"1335\",\"type\":\"LinearScale\"},{\"attributes\":{\"margin\":[5,5,5,5],\"name\":\"HSpacer02489\",\"sizing_mode\":\"stretch_width\"},\"id\":\"1325\",\"type\":\"Spacer\"},{\"attributes\":{\"callback\":null,\"renderers\":[{\"id\":\"1366\"}],\"tags\":[\"hv_created\"],\"tooltips\":[[\"WHEAT_PPI\",\"@{WHEAT_PPI}\"],[\"GDP\",\"@{GDP}\"]]},\"id\":\"1329\",\"type\":\"HoverTool\"},{\"attributes\":{},\"id\":\"1337\",\"type\":\"LinearScale\"},{\"attributes\":{\"coordinates\":null,\"group\":null,\"text\":\"GDP Breakdown\",\"text_color\":\"black\",\"text_font_size\":\"12pt\"},\"id\":\"1331\",\"type\":\"Title\"},{\"attributes\":{\"fill_alpha\":{\"value\":0.2},\"fill_color\":{\"value\":\"#30a2da\"},\"hatch_alpha\":{\"value\":0.2},\"hatch_color\":{\"value\":\"#30a2da\"},\"line_alpha\":{\"value\":0.2},\"line_color\":{\"value\":\"#30a2da\"},\"size\":{\"value\":5.477225575051661},\"x\":{\"field\":\"WHEAT_PPI\"},\"y\":{\"field\":\"GDP\"}},\"id\":\"1365\",\"type\":\"Scatter\"},{\"attributes\":{\"below\":[{\"id\":\"1339\"}],\"center\":[{\"id\":\"1342\"},{\"id\":\"1346\"}],\"height\":300,\"left\":[{\"id\":\"1343\"}],\"margin\":[5,5,5,5],\"min_border_bottom\":10,\"min_border_left\":10,\"min_border_right\":10,\"min_border_top\":10,\"renderers\":[{\"id\":\"1366\"}],\"sizing_mode\":\"stretch_width\",\"title\":{\"id\":\"1331\"},\"toolbar\":{\"id\":\"1353\"},\"width\":700,\"x_range\":{\"id\":\"1327\"},\"x_scale\":{\"id\":\"1335\"},\"y_range\":{\"id\":\"1328\"},\"y_scale\":{\"id\":\"1337\"}},\"id\":\"1330\",\"subtype\":\"Figure\",\"type\":\"Plot\"},{\"attributes\":{\"children\":[{\"id\":\"1330\"}],\"margin\":[0,0,0,0],\"name\":\"Row02355\",\"sizing_mode\":\"stretch_width\"},\"id\":\"1326\",\"type\":\"Row\"},{\"attributes\":{},\"id\":\"1340\",\"type\":\"BasicTicker\"},{\"attributes\":{\"margin\":[5,10,5,10],\"options\":[\"Austria\",\"Belgium\",\"Canada\",\"Czechia\",\"Denmark\",\"Finland\",\"France\",\"Germany\",\"Greece\",\"Hungary\",\"Ireland\",\"Italy\",\"Japan\",\"Luxembourg\",\"Netherlands\",\"Poland\",\"Portugal\",\"Slovakia\",\"Spain\",\"Sweden\",\"United Kingdom of Great Britain and Northern Ireland\",\"United States of America\",\"Estonia\",\"Slovenia\",\"Latvia\",\"Lithuania\",\"Bulgaria\",\"Croatia\",\"Cyprus\",\"Malta\",\"Romania\"],\"sizing_mode\":\"stretch_width\",\"value\":\"Ireland\"},\"id\":\"1324\",\"type\":\"panel.models.widgets.CustomSelect\"},{\"attributes\":{\"axis\":{\"id\":\"1339\"},\"coordinates\":null,\"grid_line_color\":null,\"group\":null,\"ticker\":null},\"id\":\"1342\",\"type\":\"Grid\"},{\"attributes\":{},\"id\":\"1374\",\"type\":\"AllLabels\"},{\"attributes\":{\"angle\":{\"value\":0.0},\"fill_alpha\":{\"value\":1.0},\"fill_color\":{\"value\":\"#30a2da\"},\"hatch_alpha\":{\"value\":1.0},\"hatch_color\":{\"value\":\"#30a2da\"},\"hatch_scale\":{\"value\":12.0},\"hatch_weight\":{\"value\":1.0},\"line_alpha\":{\"value\":1.0},\"line_cap\":{\"value\":\"butt\"},\"line_color\":{\"value\":\"#30a2da\"},\"line_dash\":{\"value\":[]},\"line_dash_offset\":{\"value\":0},\"line_join\":{\"value\":\"bevel\"},\"line_width\":{\"value\":1},\"marker\":{\"value\":\"circle\"},\"size\":{\"value\":5.477225575051661},\"x\":{\"field\":\"WHEAT_PPI\"},\"y\":{\"field\":\"GDP\"}},\"id\":\"1368\",\"type\":\"Scatter\"},{\"attributes\":{\"axis_label\":\"WHEAT_PPI\",\"coordinates\":null,\"formatter\":{\"id\":\"1370\"},\"group\":null,\"major_label_policy\":{\"id\":\"1371\"},\"ticker\":{\"id\":\"1340\"}},\"id\":\"1339\",\"type\":\"LinearAxis\"},{\"attributes\":{\"axis\":{\"id\":\"1343\"},\"coordinates\":null,\"dimension\":1,\"grid_line_color\":null,\"group\":null,\"ticker\":null},\"id\":\"1346\",\"type\":\"Grid\"},{\"attributes\":{},\"id\":\"1373\",\"type\":\"BasicTickFormatter\"},{\"attributes\":{},\"id\":\"1361\",\"type\":\"Selection\"},{\"attributes\":{},\"id\":\"1348\",\"type\":\"PanTool\"},{\"attributes\":{\"axis_label\":\"GDP\",\"coordinates\":null,\"formatter\":{\"id\":\"1373\"},\"group\":null,\"major_label_policy\":{\"id\":\"1374\"},\"ticker\":{\"id\":\"1344\"}},\"id\":\"1343\",\"type\":\"LinearAxis\"},{\"attributes\":{\"data\":{\"GDP\":{\"__ndarray__\":\"eAjjp0iC3UA9fm/TO9TfQK0UAjncMuFANV8lnwu34UA25nVEM+3iQAQCnUkxwuNAmxvTEx6d5UBZT62+rtXmQINNnccpieVAwygInts75EA4+S26rxnlQGYwRiSSBeZAWYY41jWp5kA6lKEqQmHnQINpGL5//+hAURISad7i8EDp1JUPEn3xQIblz3c6DvNA6/zbpYW19ECbxvZaZO/1QNbkKWvO9PZAWmWm9EEW+kA=\",\"dtype\":\"float64\",\"order\":\"little\",\"shape\":[22]},\"WHEAT_PPI\":{\"__ndarray__\":\"w/UoXI+SUEDXo3A9CgdTQMP1KFyPQk9A9ihcj8JVU0DXo3A9CmdRQOxRuB6F61BAuB6F61GoU0CamZmZmTFgQDMzMzMzE1ZA7FG4HoXrUEDhehSuR6FZQHsUrkfhWlpA9ihcj8LFYUBSuB6F6zFZQAAAAAAAsF9A7FG4HoXLVEAUrkfheoRWQI/C9Shc/1dAhetRuB5lYEAAAAAAAABYQLgehetR2FtA7FG4HoXrXUA=\",\"dtype\":\"float64\",\"order\":\"little\",\"shape\":[22]}},\"selected\":{\"id\":\"1361\"},\"selection_policy\":{\"id\":\"1382\"}},\"id\":\"1360\",\"type\":\"ColumnDataSource\"},{\"attributes\":{},\"id\":\"1344\",\"type\":\"BasicTicker\"},{\"attributes\":{\"source\":{\"id\":\"1360\"}},\"id\":\"1367\",\"type\":\"CDSView\"},{\"attributes\":{},\"id\":\"1382\",\"type\":\"UnionRenderers\"},{\"attributes\":{},\"id\":\"1349\",\"type\":\"WheelZoomTool\"},{\"attributes\":{\"coordinates\":null,\"data_source\":{\"id\":\"1360\"},\"glyph\":{\"id\":\"1363\"},\"group\":null,\"hover_glyph\":null,\"muted_glyph\":{\"id\":\"1365\"},\"nonselection_glyph\":{\"id\":\"1364\"},\"selection_glyph\":{\"id\":\"1368\"},\"view\":{\"id\":\"1367\"}},\"id\":\"1366\",\"type\":\"GlyphRenderer\"},{\"attributes\":{},\"id\":\"1347\",\"type\":\"SaveTool\"},{\"attributes\":{},\"id\":\"1371\",\"type\":\"AllLabels\"},{\"attributes\":{\"overlay\":{\"id\":\"1352\"}},\"id\":\"1350\",\"type\":\"BoxZoomTool\"},{\"attributes\":{},\"id\":\"1351\",\"type\":\"ResetTool\"},{\"attributes\":{},\"id\":\"1370\",\"type\":\"BasicTickFormatter\"},{\"attributes\":{\"client_comm_id\":\"5c9068b733fb45e6ba1d1b23e58967e2\",\"comm_id\":\"6349d052a9ce426a9f04fe42f05f431e\",\"plot_id\":\"1320\"},\"id\":\"1425\",\"type\":\"panel.models.comm_manager.CommManager\"},{\"attributes\":{\"bottom_units\":\"screen\",\"coordinates\":null,\"fill_alpha\":0.5,\"fill_color\":\"lightgrey\",\"group\":null,\"left_units\":\"screen\",\"level\":\"overlay\",\"line_alpha\":1.0,\"line_color\":\"black\",\"line_dash\":[4,4],\"line_width\":2,\"right_units\":\"screen\",\"syncable\":false,\"top_units\":\"screen\"},\"id\":\"1352\",\"type\":\"BoxAnnotation\"},{\"attributes\":{\"end\":114515.6209272,\"reset_end\":114515.6209272,\"reset_start\":22553.636548799997,\"start\":22553.636548799997,\"tags\":[[[\"GDP\",\"GDP\",null]]]},\"id\":\"1328\",\"type\":\"Range1d\"},{\"attributes\":{\"children\":[{\"id\":\"1322\"},{\"id\":\"1326\"}],\"margin\":[0,0,0,0],\"name\":\"Column02491\",\"sizing_mode\":\"stretch_width\"},\"id\":\"1321\",\"type\":\"Column\"},{\"attributes\":{\"children\":[{\"id\":\"1323\"},{\"id\":\"1325\"}],\"margin\":[0,0,0,0],\"name\":\"Row02490\",\"sizing_mode\":\"stretch_width\"},\"id\":\"1322\",\"type\":\"Row\"},{\"attributes\":{\"fill_color\":{\"value\":\"#30a2da\"},\"hatch_color\":{\"value\":\"#30a2da\"},\"line_color\":{\"value\":\"#30a2da\"},\"size\":{\"value\":5.477225575051661},\"x\":{\"field\":\"WHEAT_PPI\"},\"y\":{\"field\":\"GDP\"}},\"id\":\"1363\",\"type\":\"Scatter\"},{\"attributes\":{\"end\":145.594,\"reset_end\":145.594,\"reset_start\":59.106,\"start\":59.106,\"tags\":[[[\"WHEAT_PPI\",\"WHEAT_PPI\",null]]]},\"id\":\"1327\",\"type\":\"Range1d\"},{\"attributes\":{\"fill_alpha\":{\"value\":0.1},\"fill_color\":{\"value\":\"#30a2da\"},\"hatch_alpha\":{\"value\":0.1},\"hatch_color\":{\"value\":\"#30a2da\"},\"line_alpha\":{\"value\":0.1},\"line_color\":{\"value\":\"#30a2da\"},\"size\":{\"value\":5.477225575051661},\"x\":{\"field\":\"WHEAT_PPI\"},\"y\":{\"field\":\"GDP\"}},\"id\":\"1364\",\"type\":\"Scatter\"},{\"attributes\":{\"tools\":[{\"id\":\"1329\"},{\"id\":\"1347\"},{\"id\":\"1348\"},{\"id\":\"1349\"},{\"id\":\"1350\"},{\"id\":\"1351\"}]},\"id\":\"1353\",\"type\":\"Toolbar\"}],\"root_ids\":[\"1320\",\"1425\"]},\"title\":\"Bokeh Application\",\"version\":\"2.4.2\"}};\n",
       "    var render_items = [{\"docid\":\"2c6f8c44-fb00-461b-a094-15afd930e5ec\",\"root_ids\":[\"1320\"],\"roots\":{\"1320\":\"68f17176-bf26-473e-8f2f-1a5cc106a2d6\"}}];\n",
       "    root.Bokeh.embed.embed_items_notebook(docs_json, render_items);\n",
       "  }\n",
       "  if (root.Bokeh !== undefined && root.Bokeh.Panel !== undefined && ( root['Tabulator'] !== undefined)) {\n",
       "    embed_document(root);\n",
       "  } else {\n",
       "    var attempts = 0;\n",
       "    var timer = setInterval(function(root) {\n",
       "      if (root.Bokeh !== undefined && root.Bokeh.Panel !== undefined && (root['Tabulator'] !== undefined)) {\n",
       "        clearInterval(timer);\n",
       "        embed_document(root);\n",
       "      } else if (document.readyState == \"complete\") {\n",
       "        attempts++;\n",
       "        if (attempts > 200) {\n",
       "          clearInterval(timer);\n",
       "          console.log(\"Bokeh: ERROR: Unable to run BokehJS code because BokehJS library is missing\");\n",
       "        }\n",
       "      }\n",
       "    }, 25, root)\n",
       "  }\n",
       "})(window);</script>"
      ],
      "text/plain": [
       "<hvplot.interactive.Interactive at 0x1d72e32a730>"
      ]
     },
     "execution_count": 39,
     "metadata": {
      "application/vnd.holoviews_exec.v0+json": {
       "id": "1320"
      }
     },
     "output_type": "execute_result"
    }
   ],
   "source": [
    "gdp_type_plot"
   ]
  },
  {
   "cell_type": "code",
   "execution_count": null,
   "id": "47e12790",
   "metadata": {},
   "outputs": [],
   "source": []
  },
  {
   "cell_type": "code",
   "execution_count": 40,
   "id": "104b6fee",
   "metadata": {},
   "outputs": [],
   "source": [
    "#  INLINE DASHBOARD"
   ]
  },
  {
   "cell_type": "code",
   "execution_count": 41,
   "id": "52b937ab",
   "metadata": {},
   "outputs": [
    {
     "data": {},
     "metadata": {},
     "output_type": "display_data"
    },
    {
     "data": {},
     "metadata": {},
     "output_type": "display_data"
    },
    {
     "data": {
      "application/vnd.holoviews_exec.v0+json": "",
      "text/html": [
       "<div id='1476'>\n",
       "\n",
       "\n",
       "\n",
       "\n",
       "\n",
       "  <div class=\"bk-root\" id=\"edc19004-4177-4dd8-bc08-114a82546d6a\" data-root-id=\"1476\"></div>\n",
       "</div>\n",
       "<script type=\"application/javascript\">(function(root) {\n",
       "  function embed_document(root) {\n",
       "    var docs_json = {\"12aa4992-8061-4e05-97c2-d043313fd1bf\":{\"defs\":[{\"extends\":null,\"module\":null,\"name\":\"ReactiveHTML1\",\"overrides\":[],\"properties\":[]},{\"extends\":null,\"module\":null,\"name\":\"FlexBox1\",\"overrides\":[],\"properties\":[{\"default\":\"flex-start\",\"kind\":null,\"name\":\"align_content\"},{\"default\":\"flex-start\",\"kind\":null,\"name\":\"align_items\"},{\"default\":\"row\",\"kind\":null,\"name\":\"flex_direction\"},{\"default\":\"wrap\",\"kind\":null,\"name\":\"flex_wrap\"},{\"default\":\"flex-start\",\"kind\":null,\"name\":\"justify_content\"}]},{\"extends\":null,\"module\":null,\"name\":\"GridStack1\",\"overrides\":[],\"properties\":[{\"default\":\"warn\",\"kind\":null,\"name\":\"mode\"},{\"default\":null,\"kind\":null,\"name\":\"ncols\"},{\"default\":null,\"kind\":null,\"name\":\"nrows\"},{\"default\":true,\"kind\":null,\"name\":\"allow_resize\"},{\"default\":true,\"kind\":null,\"name\":\"allow_drag\"},{\"default\":[],\"kind\":null,\"name\":\"state\"}]},{\"extends\":null,\"module\":null,\"name\":\"click1\",\"overrides\":[],\"properties\":[{\"default\":\"\",\"kind\":null,\"name\":\"terminal_output\"},{\"default\":\"\",\"kind\":null,\"name\":\"debug_name\"},{\"default\":0,\"kind\":null,\"name\":\"clears\"}]},{\"extends\":null,\"module\":null,\"name\":\"TemplateActions1\",\"overrides\":[],\"properties\":[{\"default\":0,\"kind\":null,\"name\":\"open_modal\"},{\"default\":0,\"kind\":null,\"name\":\"close_modal\"}]},{\"extends\":null,\"module\":null,\"name\":\"MaterialTemplateActions1\",\"overrides\":[],\"properties\":[{\"default\":0,\"kind\":null,\"name\":\"open_modal\"},{\"default\":0,\"kind\":null,\"name\":\"close_modal\"}]}],\"roots\":{\"references\":[{\"attributes\":{\"children\":[{\"id\":\"1481\"},{\"id\":\"1483\"}],\"margin\":[0,0,0,0],\"name\":\"Row02733\",\"sizing_mode\":\"stretch_width\"},\"id\":\"1480\",\"type\":\"Row\"},{\"attributes\":{},\"id\":\"1528\",\"type\":\"BasicTickFormatter\"},{\"attributes\":{},\"id\":\"1570\",\"type\":\"LinearScale\"},{\"attributes\":{\"callback\":null,\"renderers\":[{\"id\":\"1524\"}],\"tags\":[\"hv_created\"],\"tooltips\":[[\"WHEAT_PPI\",\"@{WHEAT_PPI}\"],[\"GDP\",\"@{GDP}\"]]},\"id\":\"1487\",\"type\":\"HoverTool\"},{\"attributes\":{\"children\":[{\"id\":\"1477\"}],\"margin\":[0,0,0,0],\"name\":\"Row02882\",\"sizing_mode\":\"stretch_width\"},\"id\":\"1476\",\"type\":\"Row\"},{\"attributes\":{},\"id\":\"1606\",\"type\":\"AllLabels\"},{\"attributes\":{\"coordinates\":null,\"group\":null,\"text\":\"Wheat PPI Breakdown\",\"text_color\":\"black\",\"text_font_size\":\"12pt\"},\"id\":\"1564\",\"type\":\"Title\"},{\"attributes\":{\"children\":[{\"id\":\"1482\"}],\"margin\":[0,0,0,0],\"name\":\"Column02593\",\"sizing_mode\":\"stretch_width\"},\"id\":\"1481\",\"type\":\"Column\"},{\"attributes\":{\"coordinates\":null,\"group\":null,\"text\":\"GDP Breakdown\",\"text_color\":\"black\",\"text_font_size\":\"12pt\"},\"id\":\"1489\",\"type\":\"Title\"},{\"attributes\":{},\"id\":\"1573\",\"type\":\"CategoricalTicker\"},{\"attributes\":{\"end\":114515.6209272,\"reset_end\":114515.6209272,\"reset_start\":22553.636548799997,\"start\":22553.636548799997,\"tags\":[[[\"GDP\",\"GDP\",null]]]},\"id\":\"1486\",\"type\":\"Range1d\"},{\"attributes\":{\"axis\":{\"id\":\"1572\"},\"coordinates\":null,\"grid_line_color\":null,\"group\":null,\"ticker\":null},\"id\":\"1574\",\"type\":\"Grid\"},{\"attributes\":{\"children\":[{\"id\":\"1478\"},{\"id\":\"1553\"}],\"margin\":[0,0,0,0],\"name\":\"Column02881\",\"sizing_mode\":\"stretch_width\"},\"id\":\"1477\",\"type\":\"Column\"},{\"attributes\":{},\"id\":\"1580\",\"type\":\"PanTool\"},{\"attributes\":{\"client_comm_id\":\"669dfe479fa4474186a0e17646729d04\",\"comm_id\":\"53f1e76f294049b2b83d3bd4de009fa2\",\"plot_id\":\"1476\"},\"id\":\"1687\",\"type\":\"panel.models.comm_manager.CommManager\"},{\"attributes\":{\"children\":[{\"id\":\"1488\"}],\"margin\":[0,0,0,0],\"name\":\"Row02598\",\"sizing_mode\":\"stretch_width\"},\"id\":\"1484\",\"type\":\"Row\"},{\"attributes\":{\"axis_label\":\"YEAR\",\"coordinates\":null,\"formatter\":{\"id\":\"1602\"},\"group\":null,\"major_label_policy\":{\"id\":\"1603\"},\"ticker\":{\"id\":\"1573\"}},\"id\":\"1572\",\"type\":\"CategoricalAxis\"},{\"attributes\":{},\"id\":\"1532\",\"type\":\"AllLabels\"},{\"attributes\":{\"end\":145.594,\"reset_end\":145.594,\"reset_start\":59.106,\"start\":59.106,\"tags\":[[[\"WHEAT_PPI\",\"WHEAT_PPI\",null]]]},\"id\":\"1485\",\"type\":\"Range1d\"},{\"attributes\":{\"axis\":{\"id\":\"1575\"},\"coordinates\":null,\"dimension\":1,\"grid_line_color\":null,\"group\":null,\"ticker\":null},\"id\":\"1578\",\"type\":\"Grid\"},{\"attributes\":{\"fill_color\":{\"value\":\"#30a2da\"},\"hatch_color\":{\"value\":\"#30a2da\"},\"top\":{\"field\":\"WHEAT_PPI\"},\"width\":{\"value\":0.8},\"x\":{\"field\":\"YEAR\"}},\"id\":\"1595\",\"type\":\"VBar\"},{\"attributes\":{},\"id\":\"1493\",\"type\":\"LinearScale\"},{\"attributes\":{},\"id\":\"1498\",\"type\":\"BasicTicker\"},{\"attributes\":{\"children\":[{\"id\":\"1479\"}],\"margin\":[5,5,5,5],\"name\":\"Row02735\",\"sizing_mode\":\"stretch_width\"},\"id\":\"1478\",\"type\":\"Row\"},{\"attributes\":{\"below\":[{\"id\":\"1497\"}],\"center\":[{\"id\":\"1500\"},{\"id\":\"1504\"}],\"height\":300,\"left\":[{\"id\":\"1501\"}],\"margin\":[5,5,5,5],\"min_border_bottom\":10,\"min_border_left\":10,\"min_border_right\":10,\"min_border_top\":10,\"renderers\":[{\"id\":\"1524\"}],\"sizing_mode\":\"stretch_width\",\"title\":{\"id\":\"1489\"},\"toolbar\":{\"id\":\"1511\"},\"width\":700,\"x_range\":{\"id\":\"1485\"},\"x_scale\":{\"id\":\"1493\"},\"y_range\":{\"id\":\"1486\"},\"y_scale\":{\"id\":\"1495\"}},\"id\":\"1488\",\"subtype\":\"Figure\",\"type\":\"Plot\"},{\"attributes\":{\"axis_label\":\"WHEAT_PPI\",\"coordinates\":null,\"formatter\":{\"id\":\"1605\"},\"group\":null,\"major_label_policy\":{\"id\":\"1606\"},\"ticker\":{\"id\":\"1576\"}},\"id\":\"1575\",\"type\":\"LinearAxis\"},{\"attributes\":{\"children\":[{\"id\":\"1554\"}],\"margin\":[5,5,5,5],\"name\":\"Row02880\",\"sizing_mode\":\"stretch_width\"},\"id\":\"1553\",\"type\":\"Row\"},{\"attributes\":{},\"id\":\"1605\",\"type\":\"BasicTickFormatter\"},{\"attributes\":{},\"id\":\"1576\",\"type\":\"BasicTicker\"},{\"attributes\":{\"children\":[{\"id\":\"1480\"},{\"id\":\"1484\"}],\"margin\":[0,0,0,0],\"name\":\"Column02734\",\"sizing_mode\":\"stretch_width\"},\"id\":\"1479\",\"type\":\"Column\"},{\"attributes\":{},\"id\":\"1495\",\"type\":\"LinearScale\"},{\"attributes\":{},\"id\":\"1581\",\"type\":\"WheelZoomTool\"},{\"attributes\":{\"axis\":{\"id\":\"1497\"},\"coordinates\":null,\"grid_line_color\":null,\"group\":null,\"ticker\":null},\"id\":\"1500\",\"type\":\"Grid\"},{\"attributes\":{},\"id\":\"1579\",\"type\":\"SaveTool\"},{\"attributes\":{\"data\":{\"GDP\":{\"__ndarray__\":\"eAjjp0iC3UA9fm/TO9TfQK0UAjncMuFANV8lnwu34UA25nVEM+3iQAQCnUkxwuNAmxvTEx6d5UBZT62+rtXmQINNnccpieVAwygInts75EA4+S26rxnlQGYwRiSSBeZAWYY41jWp5kA6lKEqQmHnQINpGL5//+hAURISad7i8EDp1JUPEn3xQIblz3c6DvNA6/zbpYW19ECbxvZaZO/1QNbkKWvO9PZAWmWm9EEW+kA=\",\"dtype\":\"float64\",\"order\":\"little\",\"shape\":[22]},\"WHEAT_PPI\":{\"__ndarray__\":\"w/UoXI+SUEDXo3A9CgdTQMP1KFyPQk9A9ihcj8JVU0DXo3A9CmdRQOxRuB6F61BAuB6F61GoU0CamZmZmTFgQDMzMzMzE1ZA7FG4HoXrUEDhehSuR6FZQHsUrkfhWlpA9ihcj8LFYUBSuB6F6zFZQAAAAAAAsF9A7FG4HoXLVEAUrkfheoRWQI/C9Shc/1dAhetRuB5lYEAAAAAAAABYQLgehetR2FtA7FG4HoXrXUA=\",\"dtype\":\"float64\",\"order\":\"little\",\"shape\":[22]}},\"selected\":{\"id\":\"1519\"},\"selection_policy\":{\"id\":\"1540\"}},\"id\":\"1518\",\"type\":\"ColumnDataSource\"},{\"attributes\":{\"overlay\":{\"id\":\"1584\"}},\"id\":\"1582\",\"type\":\"BoxZoomTool\"},{\"attributes\":{},\"id\":\"1519\",\"type\":\"Selection\"},{\"attributes\":{},\"id\":\"1583\",\"type\":\"ResetTool\"},{\"attributes\":{\"axis_label\":\"WHEAT_PPI\",\"coordinates\":null,\"formatter\":{\"id\":\"1528\"},\"group\":null,\"major_label_policy\":{\"id\":\"1529\"},\"ticker\":{\"id\":\"1498\"}},\"id\":\"1497\",\"type\":\"LinearAxis\"},{\"attributes\":{\"axis\":{\"id\":\"1501\"},\"coordinates\":null,\"dimension\":1,\"grid_line_color\":null,\"group\":null,\"ticker\":null},\"id\":\"1504\",\"type\":\"Grid\"},{\"attributes\":{\"bottom_units\":\"screen\",\"coordinates\":null,\"fill_alpha\":0.5,\"fill_color\":\"lightgrey\",\"group\":null,\"left_units\":\"screen\",\"level\":\"overlay\",\"line_alpha\":1.0,\"line_color\":\"black\",\"line_dash\":[4,4],\"line_width\":2,\"right_units\":\"screen\",\"syncable\":false,\"top_units\":\"screen\"},\"id\":\"1584\",\"type\":\"BoxAnnotation\"},{\"attributes\":{},\"id\":\"1506\",\"type\":\"PanTool\"},{\"attributes\":{},\"id\":\"1529\",\"type\":\"AllLabels\"},{\"attributes\":{\"axis_label\":\"GDP\",\"coordinates\":null,\"formatter\":{\"id\":\"1531\"},\"group\":null,\"major_label_policy\":{\"id\":\"1532\"},\"ticker\":{\"id\":\"1502\"}},\"id\":\"1501\",\"type\":\"LinearAxis\"},{\"attributes\":{\"fill_color\":{\"value\":\"#30a2da\"},\"hatch_color\":{\"value\":\"#30a2da\"},\"line_color\":{\"value\":\"#30a2da\"},\"size\":{\"value\":5.477225575051661},\"x\":{\"field\":\"WHEAT_PPI\"},\"y\":{\"field\":\"GDP\"}},\"id\":\"1521\",\"type\":\"Scatter\"},{\"attributes\":{},\"id\":\"1502\",\"type\":\"BasicTicker\"},{\"attributes\":{},\"id\":\"1507\",\"type\":\"WheelZoomTool\"},{\"attributes\":{},\"id\":\"1593\",\"type\":\"Selection\"},{\"attributes\":{\"children\":[{\"id\":\"1556\"},{\"id\":\"1558\"}],\"margin\":[0,0,0,0],\"name\":\"Row02878\",\"sizing_mode\":\"stretch_width\"},\"id\":\"1555\",\"type\":\"Row\"},{\"attributes\":{},\"id\":\"1531\",\"type\":\"BasicTickFormatter\"},{\"attributes\":{},\"id\":\"1505\",\"type\":\"SaveTool\"},{\"attributes\":{\"overlay\":{\"id\":\"1510\"}},\"id\":\"1508\",\"type\":\"BoxZoomTool\"},{\"attributes\":{},\"id\":\"1509\",\"type\":\"ResetTool\"},{\"attributes\":{\"children\":[{\"id\":\"1555\"},{\"id\":\"1559\"}],\"margin\":[0,0,0,0],\"name\":\"Column02879\",\"sizing_mode\":\"stretch_width\"},\"id\":\"1554\",\"type\":\"Column\"},{\"attributes\":{\"children\":[{\"id\":\"1557\"}],\"margin\":[0,0,0,0],\"name\":\"Column02738\",\"sizing_mode\":\"stretch_width\"},\"id\":\"1556\",\"type\":\"Column\"},{\"attributes\":{\"bottom_units\":\"screen\",\"coordinates\":null,\"fill_alpha\":0.5,\"fill_color\":\"lightgrey\",\"group\":null,\"left_units\":\"screen\",\"level\":\"overlay\",\"line_alpha\":1.0,\"line_color\":\"black\",\"line_dash\":[4,4],\"line_width\":2,\"right_units\":\"screen\",\"syncable\":false,\"top_units\":\"screen\"},\"id\":\"1510\",\"type\":\"BoxAnnotation\"},{\"attributes\":{\"margin\":[5,10,5,10],\"options\":[\"Austria\",\"Belgium\",\"Canada\",\"Czechia\",\"Denmark\",\"Finland\",\"France\",\"Germany\",\"Greece\",\"Hungary\",\"Ireland\",\"Italy\",\"Japan\",\"Luxembourg\",\"Netherlands\",\"Poland\",\"Portugal\",\"Slovakia\",\"Spain\",\"Sweden\",\"United Kingdom of Great Britain and Northern Ireland\",\"United States of America\",\"Estonia\",\"Slovenia\",\"Latvia\",\"Lithuania\",\"Bulgaria\",\"Croatia\",\"Cyprus\",\"Malta\",\"Romania\"],\"sizing_mode\":\"stretch_width\",\"value\":\"Ireland\"},\"id\":\"1557\",\"type\":\"panel.models.widgets.CustomSelect\"},{\"attributes\":{\"margin\":[5,5,5,5],\"name\":\"HSpacer02877\",\"sizing_mode\":\"stretch_width\"},\"id\":\"1558\",\"type\":\"Spacer\"},{\"attributes\":{\"fill_alpha\":{\"value\":0.2},\"fill_color\":{\"value\":\"#30a2da\"},\"hatch_alpha\":{\"value\":0.2},\"hatch_color\":{\"value\":\"#30a2da\"},\"line_alpha\":{\"value\":0.2},\"line_color\":{\"value\":\"#30a2da\"},\"size\":{\"value\":5.477225575051661},\"x\":{\"field\":\"WHEAT_PPI\"},\"y\":{\"field\":\"GDP\"}},\"id\":\"1523\",\"type\":\"Scatter\"},{\"attributes\":{\"children\":[{\"id\":\"1563\"}],\"margin\":[0,0,0,0],\"name\":\"Row02743\",\"sizing_mode\":\"stretch_width\"},\"id\":\"1559\",\"type\":\"Row\"},{\"attributes\":{\"coordinates\":null,\"data_source\":{\"id\":\"1518\"},\"glyph\":{\"id\":\"1521\"},\"group\":null,\"hover_glyph\":null,\"muted_glyph\":{\"id\":\"1523\"},\"nonselection_glyph\":{\"id\":\"1522\"},\"selection_glyph\":{\"id\":\"1526\"},\"view\":{\"id\":\"1525\"}},\"id\":\"1524\",\"type\":\"GlyphRenderer\"},{\"attributes\":{\"angle\":{\"value\":0.0},\"fill_alpha\":{\"value\":1.0},\"fill_color\":{\"value\":\"#30a2da\"},\"hatch_alpha\":{\"value\":1.0},\"hatch_color\":{\"value\":\"#30a2da\"},\"hatch_scale\":{\"value\":12.0},\"hatch_weight\":{\"value\":1.0},\"line_alpha\":{\"value\":1.0},\"line_cap\":{\"value\":\"butt\"},\"line_color\":{\"value\":\"#30a2da\"},\"line_dash\":{\"value\":[]},\"line_dash_offset\":{\"value\":0},\"line_join\":{\"value\":\"bevel\"},\"line_width\":{\"value\":1},\"marker\":{\"value\":\"circle\"},\"size\":{\"value\":5.477225575051661},\"x\":{\"field\":\"WHEAT_PPI\"},\"y\":{\"field\":\"GDP\"}},\"id\":\"1526\",\"type\":\"Scatter\"},{\"attributes\":{},\"id\":\"1602\",\"type\":\"CategoricalTickFormatter\"},{\"attributes\":{\"source\":{\"id\":\"1518\"}},\"id\":\"1525\",\"type\":\"CDSView\"},{\"attributes\":{},\"id\":\"1614\",\"type\":\"UnionRenderers\"},{\"attributes\":{},\"id\":\"1540\",\"type\":\"UnionRenderers\"},{\"attributes\":{\"below\":[{\"id\":\"1572\"}],\"center\":[{\"id\":\"1574\"},{\"id\":\"1578\"}],\"height\":300,\"left\":[{\"id\":\"1575\"}],\"margin\":[5,5,5,5],\"min_border_bottom\":10,\"min_border_left\":10,\"min_border_right\":10,\"min_border_top\":10,\"renderers\":[{\"id\":\"1598\"}],\"sizing_mode\":\"stretch_width\",\"title\":{\"id\":\"1564\"},\"toolbar\":{\"id\":\"1585\"},\"width\":700,\"x_range\":{\"id\":\"1560\"},\"x_scale\":{\"id\":\"1568\"},\"y_range\":{\"id\":\"1561\"},\"y_scale\":{\"id\":\"1570\"}},\"id\":\"1563\",\"subtype\":\"Figure\",\"type\":\"Plot\"},{\"attributes\":{\"end\":150.14600000000002,\"reset_end\":150.14600000000002,\"reset_start\":0.0,\"tags\":[[[\"WHEAT_PPI\",\"WHEAT_PPI\",null]]]},\"id\":\"1561\",\"type\":\"Range1d\"},{\"attributes\":{\"tools\":[{\"id\":\"1487\"},{\"id\":\"1505\"},{\"id\":\"1506\"},{\"id\":\"1507\"},{\"id\":\"1508\"},{\"id\":\"1509\"}]},\"id\":\"1511\",\"type\":\"Toolbar\"},{\"attributes\":{\"tools\":[{\"id\":\"1562\"},{\"id\":\"1579\"},{\"id\":\"1580\"},{\"id\":\"1581\"},{\"id\":\"1582\"},{\"id\":\"1583\"}]},\"id\":\"1585\",\"type\":\"Toolbar\"},{\"attributes\":{\"margin\":[5,5,5,5],\"name\":\"HSpacer02732\",\"sizing_mode\":\"stretch_width\"},\"id\":\"1483\",\"type\":\"Spacer\"},{\"attributes\":{},\"id\":\"1603\",\"type\":\"AllLabels\"},{\"attributes\":{\"callback\":null,\"renderers\":[{\"id\":\"1598\"}],\"tags\":[\"hv_created\"],\"tooltips\":[[\"YEAR\",\"@{YEAR}\"],[\"WHEAT_PPI\",\"@{WHEAT_PPI}\"]]},\"id\":\"1562\",\"type\":\"HoverTool\"},{\"attributes\":{\"fill_alpha\":{\"value\":0.2},\"fill_color\":{\"value\":\"#30a2da\"},\"hatch_alpha\":{\"value\":0.2},\"hatch_color\":{\"value\":\"#30a2da\"},\"line_alpha\":{\"value\":0.2},\"top\":{\"field\":\"WHEAT_PPI\"},\"width\":{\"value\":0.8},\"x\":{\"field\":\"YEAR\"}},\"id\":\"1597\",\"type\":\"VBar\"},{\"attributes\":{\"fill_alpha\":{\"value\":0.1},\"fill_color\":{\"value\":\"#30a2da\"},\"hatch_alpha\":{\"value\":0.1},\"hatch_color\":{\"value\":\"#30a2da\"},\"line_alpha\":{\"value\":0.1},\"line_color\":{\"value\":\"#30a2da\"},\"size\":{\"value\":5.477225575051661},\"x\":{\"field\":\"WHEAT_PPI\"},\"y\":{\"field\":\"GDP\"}},\"id\":\"1522\",\"type\":\"Scatter\"},{\"attributes\":{\"margin\":[5,10,5,10],\"options\":[\"Austria\",\"Belgium\",\"Canada\",\"Czechia\",\"Denmark\",\"Finland\",\"France\",\"Germany\",\"Greece\",\"Hungary\",\"Ireland\",\"Italy\",\"Japan\",\"Luxembourg\",\"Netherlands\",\"Poland\",\"Portugal\",\"Slovakia\",\"Spain\",\"Sweden\",\"United Kingdom of Great Britain and Northern Ireland\",\"United States of America\",\"Estonia\",\"Slovenia\",\"Latvia\",\"Lithuania\",\"Bulgaria\",\"Croatia\",\"Cyprus\",\"Malta\",\"Romania\"],\"sizing_mode\":\"stretch_width\",\"value\":\"Ireland\"},\"id\":\"1482\",\"type\":\"panel.models.widgets.CustomSelect\"},{\"attributes\":{\"data\":{\"WHEAT_PPI\":{\"__ndarray__\":\"w/UoXI+SUEDXo3A9CgdTQMP1KFyPQk9A9ihcj8JVU0DXo3A9CmdRQOxRuB6F61BAuB6F61GoU0CamZmZmTFgQDMzMzMzE1ZA7FG4HoXrUEDhehSuR6FZQHsUrkfhWlpA9ihcj8LFYUBSuB6F6zFZQAAAAAAAsF9A7FG4HoXLVEAUrkfheoRWQI/C9Shc/1dAhetRuB5lYEAAAAAAAABYQLgehetR2FtA7FG4HoXrXUA=\",\"dtype\":\"float64\",\"order\":\"little\",\"shape\":[22]},\"YEAR\":[\"2000\",\"2001\",\"2002\",\"2003\",\"2004\",\"2005\",\"2006\",\"2007\",\"2008\",\"2009\",\"2010\",\"2011\",\"2012\",\"2013\",\"2014\",\"2015\",\"2016\",\"2017\",\"2018\",\"2019\",\"2020\",\"2021\"]},\"selected\":{\"id\":\"1593\"},\"selection_policy\":{\"id\":\"1614\"}},\"id\":\"1592\",\"type\":\"ColumnDataSource\"},{\"attributes\":{\"source\":{\"id\":\"1592\"}},\"id\":\"1599\",\"type\":\"CDSView\"},{\"attributes\":{\"bottom\":{\"value\":0},\"fill_alpha\":{\"value\":1.0},\"fill_color\":{\"value\":\"#30a2da\"},\"hatch_alpha\":{\"value\":1.0},\"hatch_color\":{\"value\":\"#30a2da\"},\"hatch_scale\":{\"value\":12.0},\"hatch_weight\":{\"value\":1.0},\"line_alpha\":{\"value\":1.0},\"line_cap\":{\"value\":\"butt\"},\"line_color\":{\"value\":\"black\"},\"line_dash\":{\"value\":[]},\"line_dash_offset\":{\"value\":0},\"line_join\":{\"value\":\"bevel\"},\"line_width\":{\"value\":1},\"top\":{\"field\":\"WHEAT_PPI\"},\"width\":{\"value\":0.8},\"x\":{\"field\":\"YEAR\"}},\"id\":\"1600\",\"type\":\"VBar\"},{\"attributes\":{\"fill_alpha\":{\"value\":0.1},\"fill_color\":{\"value\":\"#30a2da\"},\"hatch_alpha\":{\"value\":0.1},\"hatch_color\":{\"value\":\"#30a2da\"},\"line_alpha\":{\"value\":0.1},\"top\":{\"field\":\"WHEAT_PPI\"},\"width\":{\"value\":0.8},\"x\":{\"field\":\"YEAR\"}},\"id\":\"1596\",\"type\":\"VBar\"},{\"attributes\":{\"coordinates\":null,\"data_source\":{\"id\":\"1592\"},\"glyph\":{\"id\":\"1595\"},\"group\":null,\"hover_glyph\":null,\"muted_glyph\":{\"id\":\"1597\"},\"nonselection_glyph\":{\"id\":\"1596\"},\"selection_glyph\":{\"id\":\"1600\"},\"view\":{\"id\":\"1599\"}},\"id\":\"1598\",\"type\":\"GlyphRenderer\"},{\"attributes\":{\"factors\":[\"2000\",\"2001\",\"2002\",\"2003\",\"2004\",\"2005\",\"2006\",\"2007\",\"2008\",\"2009\",\"2010\",\"2011\",\"2012\",\"2013\",\"2014\",\"2015\",\"2016\",\"2017\",\"2018\",\"2019\",\"2020\",\"2021\"],\"tags\":[[[\"YEAR\",\"YEAR\",null]]]},\"id\":\"1560\",\"type\":\"FactorRange\"},{\"attributes\":{},\"id\":\"1568\",\"type\":\"CategoricalScale\"}],\"root_ids\":[\"1476\",\"1687\"]},\"title\":\"Bokeh Application\",\"version\":\"2.4.2\"}};\n",
       "    var render_items = [{\"docid\":\"12aa4992-8061-4e05-97c2-d043313fd1bf\",\"root_ids\":[\"1476\"],\"roots\":{\"1476\":\"edc19004-4177-4dd8-bc08-114a82546d6a\"}}];\n",
       "    root.Bokeh.embed.embed_items_notebook(docs_json, render_items);\n",
       "  }\n",
       "  if (root.Bokeh !== undefined && root.Bokeh.Panel !== undefined && ( root['Tabulator'] !== undefined)) {\n",
       "    embed_document(root);\n",
       "  } else {\n",
       "    var attempts = 0;\n",
       "    var timer = setInterval(function(root) {\n",
       "      if (root.Bokeh !== undefined && root.Bokeh.Panel !== undefined && (root['Tabulator'] !== undefined)) {\n",
       "        clearInterval(timer);\n",
       "        embed_document(root);\n",
       "      } else if (document.readyState == \"complete\") {\n",
       "        attempts++;\n",
       "        if (attempts > 200) {\n",
       "          clearInterval(timer);\n",
       "          console.log(\"Bokeh: ERROR: Unable to run BokehJS code because BokehJS library is missing\");\n",
       "        }\n",
       "      }\n",
       "    }, 25, root)\n",
       "  }\n",
       "})(window);</script>"
      ],
      "text/plain": [
       "Row(sizing_mode='stretch_width')\n",
       "    [0] Column(sizing_mode='stretch_width')\n",
       "        [0] Interactive(Interactive, sizing_mode='stretch_width')\n",
       "        [1] Interactive(Interactive, sizing_mode='stretch_width')"
      ]
     },
     "execution_count": 41,
     "metadata": {
      "application/vnd.holoviews_exec.v0+json": {
       "id": "1476"
      }
     },
     "output_type": "execute_result"
    }
   ],
   "source": [
    "pn.Row(pn.Column(gdp_type_plot, ppi_type_plot,))"
   ]
  },
  {
   "cell_type": "code",
   "execution_count": 42,
   "id": "74593f56",
   "metadata": {},
   "outputs": [],
   "source": [
    "# STARTING DASHBOARD PROPERLY\n",
    "# BASED ON: https://github.com/thu-vu92/python-dashboard-panel/blob/main/Interactive_dashboard.ipynb\n",
    "# "
   ]
  },
  {
   "cell_type": "markdown",
   "id": "36cf1968",
   "metadata": {},
   "source": [
    "# DASHBOARD"
   ]
  },
  {
   "cell_type": "code",
   "execution_count": 43,
   "id": "301b959b",
   "metadata": {},
   "outputs": [
    {
     "data": {},
     "metadata": {},
     "output_type": "display_data"
    },
    {
     "data": {
      "application/vnd.holoviews_exec.v0+json": "",
      "text/html": [
       "<div id='1788'>\n",
       "\n",
       "\n",
       "\n",
       "\n",
       "\n",
       "  <div class=\"bk-root\" id=\"38864020-a80f-45fa-9023-4aa0bf2b71e4\" data-root-id=\"1788\"></div>\n",
       "</div>\n",
       "<script type=\"application/javascript\">(function(root) {\n",
       "  function embed_document(root) {\n",
       "    var docs_json = {\"b96a955e-8176-47bf-8511-9078075d2cca\":{\"defs\":[{\"extends\":null,\"module\":null,\"name\":\"ReactiveHTML1\",\"overrides\":[],\"properties\":[]},{\"extends\":null,\"module\":null,\"name\":\"FlexBox1\",\"overrides\":[],\"properties\":[{\"default\":\"flex-start\",\"kind\":null,\"name\":\"align_content\"},{\"default\":\"flex-start\",\"kind\":null,\"name\":\"align_items\"},{\"default\":\"row\",\"kind\":null,\"name\":\"flex_direction\"},{\"default\":\"wrap\",\"kind\":null,\"name\":\"flex_wrap\"},{\"default\":\"flex-start\",\"kind\":null,\"name\":\"justify_content\"}]},{\"extends\":null,\"module\":null,\"name\":\"GridStack1\",\"overrides\":[],\"properties\":[{\"default\":\"warn\",\"kind\":null,\"name\":\"mode\"},{\"default\":null,\"kind\":null,\"name\":\"ncols\"},{\"default\":null,\"kind\":null,\"name\":\"nrows\"},{\"default\":true,\"kind\":null,\"name\":\"allow_resize\"},{\"default\":true,\"kind\":null,\"name\":\"allow_drag\"},{\"default\":[],\"kind\":null,\"name\":\"state\"}]},{\"extends\":null,\"module\":null,\"name\":\"click1\",\"overrides\":[],\"properties\":[{\"default\":\"\",\"kind\":null,\"name\":\"terminal_output\"},{\"default\":\"\",\"kind\":null,\"name\":\"debug_name\"},{\"default\":0,\"kind\":null,\"name\":\"clears\"}]},{\"extends\":null,\"module\":null,\"name\":\"TemplateActions1\",\"overrides\":[],\"properties\":[{\"default\":0,\"kind\":null,\"name\":\"open_modal\"},{\"default\":0,\"kind\":null,\"name\":\"close_modal\"}]},{\"extends\":null,\"module\":null,\"name\":\"MaterialTemplateActions1\",\"overrides\":[],\"properties\":[{\"default\":0,\"kind\":null,\"name\":\"open_modal\"},{\"default\":0,\"kind\":null,\"name\":\"close_modal\"}]}],\"roots\":{\"references\":[{\"attributes\":{\"bar_color\":\"#348796\",\"end\":2021,\"margin\":[5,10,5,10],\"sizing_mode\":\"stretch_width\",\"start\":2000,\"title\":\"Year\",\"value\":2001},\"id\":\"1788\",\"type\":\"Slider\"},{\"attributes\":{\"client_comm_id\":\"b6fc29aa1eb54aeeaab9dd1995536891\",\"comm_id\":\"59d36727831247e7b57cd1fc7206f2ec\",\"plot_id\":\"1788\"},\"id\":\"1789\",\"type\":\"panel.models.comm_manager.CommManager\"}],\"root_ids\":[\"1788\",\"1789\"]},\"title\":\"Bokeh Application\",\"version\":\"2.4.2\"}};\n",
       "    var render_items = [{\"docid\":\"b96a955e-8176-47bf-8511-9078075d2cca\",\"root_ids\":[\"1788\"],\"roots\":{\"1788\":\"38864020-a80f-45fa-9023-4aa0bf2b71e4\"}}];\n",
       "    root.Bokeh.embed.embed_items_notebook(docs_json, render_items);\n",
       "  }\n",
       "  if (root.Bokeh !== undefined && root.Bokeh.Panel !== undefined && ( root['Tabulator'] !== undefined)) {\n",
       "    embed_document(root);\n",
       "  } else {\n",
       "    var attempts = 0;\n",
       "    var timer = setInterval(function(root) {\n",
       "      if (root.Bokeh !== undefined && root.Bokeh.Panel !== undefined && (root['Tabulator'] !== undefined)) {\n",
       "        clearInterval(timer);\n",
       "        embed_document(root);\n",
       "      } else if (document.readyState == \"complete\") {\n",
       "        attempts++;\n",
       "        if (attempts > 200) {\n",
       "          clearInterval(timer);\n",
       "          console.log(\"Bokeh: ERROR: Unable to run BokehJS code because BokehJS library is missing\");\n",
       "        }\n",
       "      }\n",
       "    }, 25, root)\n",
       "  }\n",
       "})(window);</script>"
      ],
      "text/plain": [
       "IntSlider(bar_color='#348796', end=2021, name='Year', sizing_mode='stretch_width', start=2000, value=2001)"
      ]
     },
     "execution_count": 43,
     "metadata": {
      "application/vnd.holoviews_exec.v0+json": {
       "id": "1788"
      }
     },
     "output_type": "execute_result"
    }
   ],
   "source": [
    "# DEFINE YEAR SLIDER\n",
    "# https://panel.holoviz.org/reference/widgets/IntSlider.html\n",
    "# Define Panel widgets\n",
    "year_slider = pn.widgets.IntSlider(name='Year', start=2000, end=2021, step=1, value=2001, bar_color=\"#348796\")\n",
    "year_slider"
   ]
  },
  {
   "cell_type": "code",
   "execution_count": 44,
   "id": "794fa456",
   "metadata": {},
   "outputs": [],
   "source": [
    "# EU ONLY BUTTON\n",
    "# https://panel.holoviz.org/reference/widgets/RadioButtonGroup.html\n",
    "# Radio buttons for CO2 measures\n",
    "breakdown_button_group = pn.widgets.RadioButtonGroup(\n",
    "    name='GDP v Wheat PPI', \n",
    "    options=[\"GDP\", 'WHEAT_PPI'],\n",
    "    button_type='primary'\n",
    ")"
   ]
  },
  {
   "cell_type": "code",
   "execution_count": 45,
   "id": "02a4d517",
   "metadata": {},
   "outputs": [
    {
     "data": {},
     "metadata": {},
     "output_type": "display_data"
    },
    {
     "data": {
      "application/vnd.holoviews_exec.v0+json": "",
      "text/html": [
       "<div id='1790'>\n",
       "\n",
       "\n",
       "\n",
       "\n",
       "\n",
       "  <div class=\"bk-root\" id=\"a4e23978-c626-4f24-8448-46c6da91d24b\" data-root-id=\"1790\"></div>\n",
       "</div>\n",
       "<script type=\"application/javascript\">(function(root) {\n",
       "  function embed_document(root) {\n",
       "    var docs_json = {\"4af3c47d-7c1d-4f42-9da8-45508f4e93c8\":{\"defs\":[{\"extends\":null,\"module\":null,\"name\":\"ReactiveHTML1\",\"overrides\":[],\"properties\":[]},{\"extends\":null,\"module\":null,\"name\":\"FlexBox1\",\"overrides\":[],\"properties\":[{\"default\":\"flex-start\",\"kind\":null,\"name\":\"align_content\"},{\"default\":\"flex-start\",\"kind\":null,\"name\":\"align_items\"},{\"default\":\"row\",\"kind\":null,\"name\":\"flex_direction\"},{\"default\":\"wrap\",\"kind\":null,\"name\":\"flex_wrap\"},{\"default\":\"flex-start\",\"kind\":null,\"name\":\"justify_content\"}]},{\"extends\":null,\"module\":null,\"name\":\"GridStack1\",\"overrides\":[],\"properties\":[{\"default\":\"warn\",\"kind\":null,\"name\":\"mode\"},{\"default\":null,\"kind\":null,\"name\":\"ncols\"},{\"default\":null,\"kind\":null,\"name\":\"nrows\"},{\"default\":true,\"kind\":null,\"name\":\"allow_resize\"},{\"default\":true,\"kind\":null,\"name\":\"allow_drag\"},{\"default\":[],\"kind\":null,\"name\":\"state\"}]},{\"extends\":null,\"module\":null,\"name\":\"click1\",\"overrides\":[],\"properties\":[{\"default\":\"\",\"kind\":null,\"name\":\"terminal_output\"},{\"default\":\"\",\"kind\":null,\"name\":\"debug_name\"},{\"default\":0,\"kind\":null,\"name\":\"clears\"}]},{\"extends\":null,\"module\":null,\"name\":\"TemplateActions1\",\"overrides\":[],\"properties\":[{\"default\":0,\"kind\":null,\"name\":\"open_modal\"},{\"default\":0,\"kind\":null,\"name\":\"close_modal\"}]},{\"extends\":null,\"module\":null,\"name\":\"MaterialTemplateActions1\",\"overrides\":[],\"properties\":[{\"default\":0,\"kind\":null,\"name\":\"open_modal\"},{\"default\":0,\"kind\":null,\"name\":\"close_modal\"}]}],\"roots\":{\"references\":[{\"attributes\":{\"active\":0,\"button_type\":\"primary\",\"labels\":[\"GDP\",\"WHEAT_PPI\"],\"margin\":[5,10,5,10],\"sizing_mode\":\"stretch_width\"},\"id\":\"1790\",\"type\":\"RadioButtonGroup\"},{\"attributes\":{\"client_comm_id\":\"30db85c80f2c4a519e13d0619115e1bf\",\"comm_id\":\"28250859002b4e9da0aeb4bca772d021\",\"plot_id\":\"1790\"},\"id\":\"1791\",\"type\":\"panel.models.comm_manager.CommManager\"}],\"root_ids\":[\"1790\",\"1791\"]},\"title\":\"Bokeh Application\",\"version\":\"2.4.2\"}};\n",
       "    var render_items = [{\"docid\":\"4af3c47d-7c1d-4f42-9da8-45508f4e93c8\",\"root_ids\":[\"1790\"],\"roots\":{\"1790\":\"a4e23978-c626-4f24-8448-46c6da91d24b\"}}];\n",
       "    root.Bokeh.embed.embed_items_notebook(docs_json, render_items);\n",
       "  }\n",
       "  if (root.Bokeh !== undefined && root.Bokeh.Panel !== undefined && ( root['Tabulator'] !== undefined)) {\n",
       "    embed_document(root);\n",
       "  } else {\n",
       "    var attempts = 0;\n",
       "    var timer = setInterval(function(root) {\n",
       "      if (root.Bokeh !== undefined && root.Bokeh.Panel !== undefined && (root['Tabulator'] !== undefined)) {\n",
       "        clearInterval(timer);\n",
       "        embed_document(root);\n",
       "      } else if (document.readyState == \"complete\") {\n",
       "        attempts++;\n",
       "        if (attempts > 200) {\n",
       "          clearInterval(timer);\n",
       "          console.log(\"Bokeh: ERROR: Unable to run BokehJS code because BokehJS library is missing\");\n",
       "        }\n",
       "      }\n",
       "    }, 25, root)\n",
       "  }\n",
       "})(window);</script>"
      ],
      "text/plain": [
       "RadioButtonGroup(button_type='primary', name='GDP v Wheat PPI', options=['GDP', 'WHEAT_PPI'], sizing_mode='stretch_width', value='GDP')"
      ]
     },
     "execution_count": 45,
     "metadata": {
      "application/vnd.holoviews_exec.v0+json": {
       "id": "1790"
      }
     },
     "output_type": "execute_result"
    }
   ],
   "source": [
    "breakdown_button_group"
   ]
  },
  {
   "cell_type": "code",
   "execution_count": 46,
   "id": "be739e36",
   "metadata": {},
   "outputs": [],
   "source": [
    "# eu_button_group.value"
   ]
  },
  {
   "cell_type": "code",
   "execution_count": 47,
   "id": "0d0b96c9",
   "metadata": {},
   "outputs": [],
   "source": [
    "# CREATE TWO PIPELINES"
   ]
  },
  {
   "cell_type": "code",
   "execution_count": 48,
   "id": "176dab5f",
   "metadata": {},
   "outputs": [],
   "source": [
    "# PIPELINE 1"
   ]
  },
  {
   "cell_type": "code",
   "execution_count": 49,
   "id": "68a3b08a",
   "metadata": {},
   "outputs": [],
   "source": [
    "# idf_gdp_ppi"
   ]
  },
  {
   "cell_type": "code",
   "execution_count": 50,
   "id": "a1764fe2",
   "metadata": {},
   "outputs": [],
   "source": [
    "# MATTHEW BELOW CELL PLEASE"
   ]
  },
  {
   "cell_type": "code",
   "execution_count": 51,
   "id": "68a10e29",
   "metadata": {},
   "outputs": [],
   "source": [
    "gdp_ppi_year_pipeline = (\n",
    "    idf_gdp_ppi[\n",
    "        (idf_gdp_ppi.YEAR == year_slider)\n",
    "        # (idf.AREA.isin(eu_button_group))\n",
    "    ]\n",
    "    .groupby(['AREA', 'YEAR'])[breakdown_button_group].mean()\n",
    "    .to_frame()\n",
    "    .reset_index()\n",
    "    .sort_values(by='YEAR')  \n",
    "    .reset_index(drop=True)\n",
    ")"
   ]
  },
  {
   "cell_type": "code",
   "execution_count": 52,
   "id": "f84ef404",
   "metadata": {},
   "outputs": [
    {
     "data": {},
     "metadata": {},
     "output_type": "display_data"
    },
    {
     "data": {
      "application/vnd.holoviews_exec.v0+json": "",
      "text/html": [
       "<div id='1792'>\n",
       "\n",
       "\n",
       "\n",
       "\n",
       "\n",
       "  <div class=\"bk-root\" id=\"28b7d814-9bbe-422c-815c-943e78b1e60a\" data-root-id=\"1792\"></div>\n",
       "</div>\n",
       "<script type=\"application/javascript\">(function(root) {\n",
       "  function embed_document(root) {\n",
       "    var docs_json = {\"4a4acaac-c44a-444c-811c-c209ec9912f1\":{\"defs\":[{\"extends\":null,\"module\":null,\"name\":\"ReactiveHTML1\",\"overrides\":[],\"properties\":[]},{\"extends\":null,\"module\":null,\"name\":\"FlexBox1\",\"overrides\":[],\"properties\":[{\"default\":\"flex-start\",\"kind\":null,\"name\":\"align_content\"},{\"default\":\"flex-start\",\"kind\":null,\"name\":\"align_items\"},{\"default\":\"row\",\"kind\":null,\"name\":\"flex_direction\"},{\"default\":\"wrap\",\"kind\":null,\"name\":\"flex_wrap\"},{\"default\":\"flex-start\",\"kind\":null,\"name\":\"justify_content\"}]},{\"extends\":null,\"module\":null,\"name\":\"GridStack1\",\"overrides\":[],\"properties\":[{\"default\":\"warn\",\"kind\":null,\"name\":\"mode\"},{\"default\":null,\"kind\":null,\"name\":\"ncols\"},{\"default\":null,\"kind\":null,\"name\":\"nrows\"},{\"default\":true,\"kind\":null,\"name\":\"allow_resize\"},{\"default\":true,\"kind\":null,\"name\":\"allow_drag\"},{\"default\":[],\"kind\":null,\"name\":\"state\"}]},{\"extends\":null,\"module\":null,\"name\":\"click1\",\"overrides\":[],\"properties\":[{\"default\":\"\",\"kind\":null,\"name\":\"terminal_output\"},{\"default\":\"\",\"kind\":null,\"name\":\"debug_name\"},{\"default\":0,\"kind\":null,\"name\":\"clears\"}]},{\"extends\":null,\"module\":null,\"name\":\"TemplateActions1\",\"overrides\":[],\"properties\":[{\"default\":0,\"kind\":null,\"name\":\"open_modal\"},{\"default\":0,\"kind\":null,\"name\":\"close_modal\"}]},{\"extends\":null,\"module\":null,\"name\":\"MaterialTemplateActions1\",\"overrides\":[],\"properties\":[{\"default\":0,\"kind\":null,\"name\":\"open_modal\"},{\"default\":0,\"kind\":null,\"name\":\"close_modal\"}]}],\"roots\":{\"references\":[{\"attributes\":{\"margin\":[5,5,5,5],\"name\":\"DataFrame03637\",\"sizing_mode\":\"stretch_width\",\"text\":\"&lt;table border=&quot;0&quot; class=&quot;dataframe panel-df&quot;&gt;\\n  &lt;thead&gt;\\n    &lt;tr style=&quot;text-align: right;&quot;&gt;\\n      &lt;th&gt;&lt;/th&gt;\\n      &lt;th&gt;AREA&lt;/th&gt;\\n      &lt;th&gt;YEAR&lt;/th&gt;\\n      &lt;th&gt;GDP&lt;/th&gt;\\n    &lt;/tr&gt;\\n  &lt;/thead&gt;\\n  &lt;tbody&gt;\\n    &lt;tr&gt;\\n      &lt;th&gt;0&lt;/th&gt;\\n      &lt;td&gt;Austria&lt;/td&gt;\\n      &lt;td&gt;2001&lt;/td&gt;\\n      &lt;td&gt;29707.462264&lt;/td&gt;\\n    &lt;/tr&gt;\\n    &lt;tr&gt;\\n      &lt;th&gt;1&lt;/th&gt;\\n      &lt;td&gt;Sweden&lt;/td&gt;\\n      &lt;td&gt;2001&lt;/td&gt;\\n      &lt;td&gt;29932.174648&lt;/td&gt;\\n    &lt;/tr&gt;\\n    &lt;tr&gt;\\n      &lt;th&gt;2&lt;/th&gt;\\n      &lt;td&gt;Spain&lt;/td&gt;\\n      &lt;td&gt;2001&lt;/td&gt;\\n      &lt;td&gt;23000.283147&lt;/td&gt;\\n    &lt;/tr&gt;\\n    &lt;tr&gt;\\n      &lt;th&gt;3&lt;/th&gt;\\n      &lt;td&gt;Slovenia&lt;/td&gt;\\n      &lt;td&gt;2001&lt;/td&gt;\\n      &lt;td&gt;18952.209935&lt;/td&gt;\\n    &lt;/tr&gt;\\n    &lt;tr&gt;\\n      &lt;th&gt;4&lt;/th&gt;\\n      &lt;td&gt;Slovakia&lt;/td&gt;\\n      &lt;td&gt;2001&lt;/td&gt;\\n      &lt;td&gt;12386.405589&lt;/td&gt;\\n    &lt;/tr&gt;\\n    &lt;tr&gt;\\n      &lt;th&gt;5&lt;/th&gt;\\n      &lt;td&gt;Romania&lt;/td&gt;\\n      &lt;td&gt;2001&lt;/td&gt;\\n      &lt;td&gt;6439.287795&lt;/td&gt;\\n    &lt;/tr&gt;\\n    &lt;tr&gt;\\n      &lt;th&gt;6&lt;/th&gt;\\n      &lt;td&gt;Portugal&lt;/td&gt;\\n      &lt;td&gt;2001&lt;/td&gt;\\n      &lt;td&gt;19528.014329&lt;/td&gt;\\n    &lt;/tr&gt;\\n    &lt;tr&gt;\\n      &lt;th&gt;7&lt;/th&gt;\\n      &lt;td&gt;Poland&lt;/td&gt;\\n      &lt;td&gt;2001&lt;/td&gt;\\n      &lt;td&gt;11120.615043&lt;/td&gt;\\n    &lt;/tr&gt;\\n    &lt;tr&gt;\\n      &lt;th&gt;8&lt;/th&gt;\\n      &lt;td&gt;Netherlands&lt;/td&gt;\\n      &lt;td&gt;2001&lt;/td&gt;\\n      &lt;td&gt;33185.766744&lt;/td&gt;\\n    &lt;/tr&gt;\\n    &lt;tr&gt;\\n      &lt;th&gt;9&lt;/th&gt;\\n      &lt;td&gt;Malta&lt;/td&gt;\\n      &lt;td&gt;2001&lt;/td&gt;\\n      &lt;td&gt;18510.394170&lt;/td&gt;\\n    &lt;/tr&gt;\\n    &lt;tr&gt;\\n      &lt;th&gt;10&lt;/th&gt;\\n      &lt;td&gt;Luxembourg&lt;/td&gt;\\n      &lt;td&gt;2001&lt;/td&gt;\\n      &lt;td&gt;56091.228180&lt;/td&gt;\\n    &lt;/tr&gt;\\n    &lt;tr&gt;\\n      &lt;th&gt;11&lt;/th&gt;\\n      &lt;td&gt;Lithuania&lt;/td&gt;\\n      &lt;td&gt;2001&lt;/td&gt;\\n      &lt;td&gt;9437.521231&lt;/td&gt;\\n    &lt;/tr&gt;\\n    &lt;tr&gt;\\n      &lt;th&gt;12&lt;/th&gt;\\n      &lt;td&gt;Latvia&lt;/td&gt;\\n      &lt;td&gt;2001&lt;/td&gt;\\n      &lt;td&gt;9043.901208&lt;/td&gt;\\n    &lt;/tr&gt;\\n    &lt;tr&gt;\\n      &lt;th&gt;13&lt;/th&gt;\\n      &lt;td&gt;Japan&lt;/td&gt;\\n      &lt;td&gt;2001&lt;/td&gt;\\n      &lt;td&gt;27946.083138&lt;/td&gt;\\n    &lt;/tr&gt;\\n    &lt;tr&gt;\\n      &lt;th&gt;14&lt;/th&gt;\\n      &lt;td&gt;United Kingdom of Great Britain and Northern Ireland&lt;/td&gt;\\n      &lt;td&gt;2001&lt;/td&gt;\\n      &lt;td&gt;27895.043926&lt;/td&gt;\\n    &lt;/tr&gt;\\n    &lt;tr&gt;\\n      &lt;th&gt;15&lt;/th&gt;\\n      &lt;td&gt;Italy&lt;/td&gt;\\n      &lt;td&gt;2001&lt;/td&gt;\\n      &lt;td&gt;28035.333389&lt;/td&gt;\\n    &lt;/tr&gt;\\n    &lt;tr&gt;\\n      &lt;th&gt;16&lt;/th&gt;\\n      &lt;td&gt;Hungary&lt;/td&gt;\\n      &lt;td&gt;2001&lt;/td&gt;\\n      &lt;td&gt;13210.000996&lt;/td&gt;\\n    &lt;/tr&gt;\\n    &lt;tr&gt;\\n      &lt;th&gt;17&lt;/th&gt;\\n      &lt;td&gt;Greece&lt;/td&gt;\\n      &lt;td&gt;2001&lt;/td&gt;\\n      &lt;td&gt;20958.055663&lt;/td&gt;\\n    &lt;/tr&gt;\\n    &lt;tr&gt;\\n      &lt;th&gt;18&lt;/th&gt;\\n      &lt;td&gt;Germany&lt;/td&gt;\\n      &lt;td&gt;2001&lt;/td&gt;\\n      &lt;td&gt;28662.904283&lt;/td&gt;\\n    &lt;/tr&gt;\\n    &lt;tr&gt;\\n      &lt;th&gt;19&lt;/th&gt;\\n      &lt;td&gt;France&lt;/td&gt;\\n      &lt;td&gt;2001&lt;/td&gt;\\n      &lt;td&gt;27498.590759&lt;/td&gt;\\n    &lt;/tr&gt;\\n    &lt;tr&gt;\\n      &lt;th&gt;20&lt;/th&gt;\\n      &lt;td&gt;Finland&lt;/td&gt;\\n      &lt;td&gt;2001&lt;/td&gt;\\n      &lt;td&gt;27800.104183&lt;/td&gt;\\n    &lt;/tr&gt;\\n    &lt;tr&gt;\\n      &lt;th&gt;21&lt;/th&gt;\\n      &lt;td&gt;Estonia&lt;/td&gt;\\n      &lt;td&gt;2001&lt;/td&gt;\\n      &lt;td&gt;10281.924673&lt;/td&gt;\\n    &lt;/tr&gt;\\n    &lt;tr&gt;\\n      &lt;th&gt;22&lt;/th&gt;\\n      &lt;td&gt;Denmark&lt;/td&gt;\\n      &lt;td&gt;2001&lt;/td&gt;\\n      &lt;td&gt;29451.742361&lt;/td&gt;\\n    &lt;/tr&gt;\\n    &lt;tr&gt;\\n      &lt;th&gt;23&lt;/th&gt;\\n      &lt;td&gt;Czechia&lt;/td&gt;\\n      &lt;td&gt;2001&lt;/td&gt;\\n      &lt;td&gt;17610.749577&lt;/td&gt;\\n    &lt;/tr&gt;\\n    &lt;tr&gt;\\n      &lt;th&gt;24&lt;/th&gt;\\n      &lt;td&gt;Cyprus&lt;/td&gt;\\n      &lt;td&gt;2001&lt;/td&gt;\\n      &lt;td&gt;22866.977209&lt;/td&gt;\\n    &lt;/tr&gt;\\n    &lt;tr&gt;\\n      &lt;th&gt;25&lt;/th&gt;\\n      &lt;td&gt;Croatia&lt;/td&gt;\\n      &lt;td&gt;2001&lt;/td&gt;\\n      &lt;td&gt;11651.879129&lt;/td&gt;\\n    &lt;/tr&gt;\\n    &lt;tr&gt;\\n      &lt;th&gt;26&lt;/th&gt;\\n      &lt;td&gt;Canada&lt;/td&gt;\\n      &lt;td&gt;2001&lt;/td&gt;\\n      &lt;td&gt;30231.005032&lt;/td&gt;\\n    &lt;/tr&gt;\\n    &lt;tr&gt;\\n      &lt;th&gt;27&lt;/th&gt;\\n      &lt;td&gt;Bulgaria&lt;/td&gt;\\n      &lt;td&gt;2001&lt;/td&gt;\\n      &lt;td&gt;7044.384802&lt;/td&gt;\\n    &lt;/tr&gt;\\n    &lt;tr&gt;\\n      &lt;th&gt;28&lt;/th&gt;\\n      &lt;td&gt;Belgium&lt;/td&gt;\\n      &lt;td&gt;2001&lt;/td&gt;\\n      &lt;td&gt;28791.405838&lt;/td&gt;\\n    &lt;/tr&gt;\\n    &lt;tr&gt;\\n      &lt;th&gt;29&lt;/th&gt;\\n      &lt;td&gt;Ireland&lt;/td&gt;\\n      &lt;td&gt;2001&lt;/td&gt;\\n      &lt;td&gt;32592.934780&lt;/td&gt;\\n    &lt;/tr&gt;\\n    &lt;tr&gt;\\n      &lt;th&gt;30&lt;/th&gt;\\n      &lt;td&gt;United States of America&lt;/td&gt;\\n      &lt;td&gt;2001&lt;/td&gt;\\n      &lt;td&gt;37100.285739&lt;/td&gt;\\n    &lt;/tr&gt;\\n  &lt;/tbody&gt;\\n&lt;/table&gt;\"},\"id\":\"1800\",\"type\":\"panel.models.markup.HTML\"},{\"attributes\":{\"children\":[{\"id\":\"1795\"},{\"id\":\"1798\"}],\"margin\":[0,0,0,0],\"name\":\"Row03640\",\"sizing_mode\":\"stretch_width\"},\"id\":\"1794\",\"type\":\"Row\"},{\"attributes\":{\"children\":[{\"id\":\"1793\"}],\"margin\":[0,0,0,0],\"name\":\"Row03642\",\"sizing_mode\":\"stretch_width\"},\"id\":\"1792\",\"type\":\"Row\"},{\"attributes\":{\"children\":[{\"id\":\"1794\"},{\"id\":\"1799\"}],\"margin\":[0,0,0,0],\"name\":\"Column03641\",\"sizing_mode\":\"stretch_width\"},\"id\":\"1793\",\"type\":\"Column\"},{\"attributes\":{\"children\":[{\"id\":\"1800\"}],\"margin\":[0,0,0,0],\"name\":\"Row03603\",\"sizing_mode\":\"stretch_width\"},\"id\":\"1799\",\"type\":\"Row\"},{\"attributes\":{\"active\":0,\"button_type\":\"primary\",\"labels\":[\"GDP\",\"WHEAT_PPI\"],\"margin\":[5,10,5,10],\"sizing_mode\":\"stretch_width\"},\"id\":\"1797\",\"type\":\"RadioButtonGroup\"},{\"attributes\":{\"client_comm_id\":\"be1e0d8feb19415cbf0138bb464ce067\",\"comm_id\":\"0e6e2671dde3489bbbee1b9045461e98\",\"plot_id\":\"1792\"},\"id\":\"1801\",\"type\":\"panel.models.comm_manager.CommManager\"},{\"attributes\":{\"margin\":[5,5,5,5],\"name\":\"HSpacer03639\",\"sizing_mode\":\"stretch_width\"},\"id\":\"1798\",\"type\":\"Spacer\"},{\"attributes\":{\"bar_color\":\"#348796\",\"end\":2021,\"margin\":[5,10,5,10],\"sizing_mode\":\"stretch_width\",\"start\":2000,\"title\":\"Year\",\"value\":2001},\"id\":\"1796\",\"type\":\"Slider\"},{\"attributes\":{\"children\":[{\"id\":\"1796\"},{\"id\":\"1797\"}],\"margin\":[0,0,0,0],\"name\":\"Column03598\",\"sizing_mode\":\"stretch_width\"},\"id\":\"1795\",\"type\":\"Column\"}],\"root_ids\":[\"1792\",\"1801\"]},\"title\":\"Bokeh Application\",\"version\":\"2.4.2\"}};\n",
       "    var render_items = [{\"docid\":\"4a4acaac-c44a-444c-811c-c209ec9912f1\",\"root_ids\":[\"1792\"],\"roots\":{\"1792\":\"28b7d814-9bbe-422c-815c-943e78b1e60a\"}}];\n",
       "    root.Bokeh.embed.embed_items_notebook(docs_json, render_items);\n",
       "  }\n",
       "  if (root.Bokeh !== undefined && root.Bokeh.Panel !== undefined && ( root['Tabulator'] !== undefined)) {\n",
       "    embed_document(root);\n",
       "  } else {\n",
       "    var attempts = 0;\n",
       "    var timer = setInterval(function(root) {\n",
       "      if (root.Bokeh !== undefined && root.Bokeh.Panel !== undefined && (root['Tabulator'] !== undefined)) {\n",
       "        clearInterval(timer);\n",
       "        embed_document(root);\n",
       "      } else if (document.readyState == \"complete\") {\n",
       "        attempts++;\n",
       "        if (attempts > 200) {\n",
       "          clearInterval(timer);\n",
       "          console.log(\"Bokeh: ERROR: Unable to run BokehJS code because BokehJS library is missing\");\n",
       "        }\n",
       "      }\n",
       "    }, 25, root)\n",
       "  }\n",
       "})(window);</script>"
      ],
      "text/plain": [
       "<hvplot.interactive.Interactive at 0x1d72e4c9700>"
      ]
     },
     "execution_count": 52,
     "metadata": {
      "application/vnd.holoviews_exec.v0+json": {
       "id": "1792"
      }
     },
     "output_type": "execute_result"
    }
   ],
   "source": [
    "gdp_ppi_year_pipeline"
   ]
  },
  {
   "cell_type": "code",
   "execution_count": null,
   "id": "e3ce8917",
   "metadata": {},
   "outputs": [],
   "source": []
  },
  {
   "cell_type": "code",
   "execution_count": 54,
   "id": "a4377318",
   "metadata": {},
   "outputs": [],
   "source": [
    "# UNRESTRAINED PIPELINE 1\n",
    "idf_gdp_ppi_mask = (idf_gdp_ppi.YEAR == year_slider)\n",
    "\n",
    "gdp_ppi_year_unrestrained_pipeline = (\n",
    "    idf_gdp_ppi[\n",
    "        idf_gdp_ppi_mask\n",
    "    ]\n",
    "#     .groupby(['AREA', 'YEAR'])[breakdown_button_group].mean()\n",
    "#     .to_frame()\n",
    "    .reset_index()\n",
    "    .sort_values(by='YEAR')  \n",
    "    .reset_index(drop=True)\n",
    ")"
   ]
  },
  {
   "cell_type": "code",
   "execution_count": 55,
   "id": "786ade47",
   "metadata": {},
   "outputs": [],
   "source": [
    "gdp_ppi_unrestrained_table = gdp_ppi_year_unrestrained_pipeline.pipe(pn.widgets.Tabulator, \n",
    "                                      sizing_mode='stretch_width', \n",
    "                                      theme='bulma',\n",
    "                                      hidden_columns=[\n",
    "                                        'LOCATION', \n",
    "                                        'INDICATOR', \n",
    "                                        'SUBJECT', \n",
    "                                        'MEASURE', \n",
    "                                        'FREQUENCY', \n",
    "                                        'FLAG_CODES',\n",
    "                                        'LOOKUP_ISO', \n",
    "                                        'AREA_CODE', \n",
    "                                        'AREA_CODE_M49', \n",
    "                                        'EU_MEMBER', \n",
    "                                        'ITEM_CODE', \n",
    "                                        'ITEM_CODE_CPC', \n",
    "                                        'ITEM', \n",
    "                                        'ELEMENT_CODE',\n",
    "                                        'ELEMENT', \n",
    "                                        'MONTHS_CODE', \n",
    "                                        'MONTHS', \n",
    "                                        'UNIT',\n",
    "                                        'EU_STRING',\n",
    "                                        'index'\n",
    "                                      ],\n",
    "                                      formatters={\n",
    "                                          'YEAR': StringFormatter(), \n",
    "                                          'GDP': NumberFormatter(format='$0,0.00')\n",
    "                                      },\n",
    "                                      show_index=False) "
   ]
  },
  {
   "cell_type": "code",
   "execution_count": 56,
   "id": "f5ad1c56",
   "metadata": {},
   "outputs": [
    {
     "data": {},
     "metadata": {},
     "output_type": "display_data"
    },
    {
     "data": {
      "application/vnd.holoviews_exec.v0+json": "",
      "text/html": [
       "<div id='1804'>\n",
       "\n",
       "\n",
       "\n",
       "\n",
       "\n",
       "  <div class=\"bk-root\" id=\"8838fed0-4056-4141-9abf-2c4cb6dd27b4\" data-root-id=\"1804\"></div>\n",
       "</div>\n",
       "<script type=\"application/javascript\">(function(root) {\n",
       "  function embed_document(root) {\n",
       "    var docs_json = {\"515d4ce2-07da-46fd-a997-50492597d86a\":{\"defs\":[{\"extends\":null,\"module\":null,\"name\":\"ReactiveHTML1\",\"overrides\":[],\"properties\":[]},{\"extends\":null,\"module\":null,\"name\":\"FlexBox1\",\"overrides\":[],\"properties\":[{\"default\":\"flex-start\",\"kind\":null,\"name\":\"align_content\"},{\"default\":\"flex-start\",\"kind\":null,\"name\":\"align_items\"},{\"default\":\"row\",\"kind\":null,\"name\":\"flex_direction\"},{\"default\":\"wrap\",\"kind\":null,\"name\":\"flex_wrap\"},{\"default\":\"flex-start\",\"kind\":null,\"name\":\"justify_content\"}]},{\"extends\":null,\"module\":null,\"name\":\"GridStack1\",\"overrides\":[],\"properties\":[{\"default\":\"warn\",\"kind\":null,\"name\":\"mode\"},{\"default\":null,\"kind\":null,\"name\":\"ncols\"},{\"default\":null,\"kind\":null,\"name\":\"nrows\"},{\"default\":true,\"kind\":null,\"name\":\"allow_resize\"},{\"default\":true,\"kind\":null,\"name\":\"allow_drag\"},{\"default\":[],\"kind\":null,\"name\":\"state\"}]},{\"extends\":null,\"module\":null,\"name\":\"click1\",\"overrides\":[],\"properties\":[{\"default\":\"\",\"kind\":null,\"name\":\"terminal_output\"},{\"default\":\"\",\"kind\":null,\"name\":\"debug_name\"},{\"default\":0,\"kind\":null,\"name\":\"clears\"}]},{\"extends\":null,\"module\":null,\"name\":\"TemplateActions1\",\"overrides\":[],\"properties\":[{\"default\":0,\"kind\":null,\"name\":\"open_modal\"},{\"default\":0,\"kind\":null,\"name\":\"close_modal\"}]},{\"extends\":null,\"module\":null,\"name\":\"MaterialTemplateActions1\",\"overrides\":[],\"properties\":[{\"default\":0,\"kind\":null,\"name\":\"open_modal\"},{\"default\":0,\"kind\":null,\"name\":\"close_modal\"}]}],\"roots\":{\"references\":[{\"attributes\":{\"editor\":{\"id\":\"1910\"},\"field\":\"MONTHS_CODE\",\"formatter\":{\"id\":\"1909\"},\"title\":\"MONTHS_CODE\",\"width\":0},\"id\":\"1911\",\"type\":\"TableColumn\"},{\"attributes\":{\"children\":[{\"id\":\"1805\"}],\"margin\":[0,0,0,0],\"name\":\"Row03884\",\"sizing_mode\":\"stretch_width\"},\"id\":\"1804\",\"type\":\"Row\"},{\"attributes\":{\"bar_color\":\"#348796\",\"end\":2021,\"margin\":[5,10,5,10],\"sizing_mode\":\"stretch_width\",\"start\":2000,\"title\":\"Year\",\"value\":2001},\"id\":\"1808\",\"type\":\"Slider\"},{\"attributes\":{\"text_align\":\"right\"},\"id\":\"1813\",\"type\":\"NumberFormatter\"},{\"attributes\":{\"format\":\"0,0.0[00000]\",\"text_align\":\"right\"},\"id\":\"1919\",\"type\":\"NumberFormatter\"},{\"attributes\":{\"children\":[{\"id\":\"1808\"}],\"margin\":[0,0,0,0],\"name\":\"Column03841\",\"sizing_mode\":\"stretch_width\"},\"id\":\"1807\",\"type\":\"Column\"},{\"attributes\":{\"editor\":{\"id\":\"1890\"},\"field\":\"ITEM_CODE_CPC\",\"formatter\":{\"id\":\"1889\"},\"title\":\"ITEM_CODE_CPC\",\"width\":0},\"id\":\"1891\",\"type\":\"TableColumn\"},{\"attributes\":{\"text_align\":\"right\"},\"id\":\"1884\",\"type\":\"NumberFormatter\"},{\"attributes\":{\"data\":{\"AREA\":[\"Austria\",\"Cyprus\",\"Croatia\",\"Bulgaria\",\"Lithuania\",\"Latvia\",\"Slovenia\",\"Estonia\",\"United States of America\",\"United Kingdom of Great Britain and Northern Ireland\",\"Sweden\",\"Spain\",\"Slovakia\",\"Portugal\",\"Malta\",\"Poland\",\"Luxembourg\",\"Japan\",\"Italy\",\"Ireland\",\"Hungary\",\"Greece\",\"Germany\",\"France\",\"Finland\",\"Denmark\",\"Czechia\",\"Canada\",\"Belgium\",\"Netherlands\",\"Romania\"],\"AREA_CODE\":[11,50,98,27,126,119,198,63,231,229,210,203,199,174,134,173,256,110,106,104,97,84,79,68,67,54,167,33,255,150,183],\"AREA_CODE_M49\":[\"'040\",\"'196\",\"'191\",\"'100\",\"'440\",\"'428\",\"'705\",\"'233\",\"'840\",\"'826\",\"'752\",\"'724\",\"'703\",\"'620\",\"'470\",\"'616\",\"'442\",\"'392\",\"'380\",\"'372\",\"'348\",\"'300\",\"'276\",\"'250\",\"'246\",\"'208\",\"'203\",\"'124\",\"'056\",\"'528\",\"'642\"],\"ELEMENT\":[\"Producer Price Index (2014-2016 = 100)\",\"Producer Price Index (2014-2016 = 100)\",\"Producer Price Index (2014-2016 = 100)\",\"Producer Price Index (2014-2016 = 100)\",\"Producer Price Index (2014-2016 = 100)\",\"Producer Price Index (2014-2016 = 100)\",\"Producer Price Index (2014-2016 = 100)\",\"Producer Price Index (2014-2016 = 100)\",\"Producer Price Index (2014-2016 = 100)\",\"Producer Price Index (2014-2016 = 100)\",\"Producer Price Index (2014-2016 = 100)\",\"Producer Price Index (2014-2016 = 100)\",\"Producer Price Index (2014-2016 = 100)\",\"Producer Price Index (2014-2016 = 100)\",\"Producer Price Index (2014-2016 = 100)\",\"Producer Price Index (2014-2016 = 100)\",\"Producer Price Index (2014-2016 = 100)\",\"Producer Price Index (2014-2016 = 100)\",\"Producer Price Index (2014-2016 = 100)\",\"Producer Price Index (2014-2016 = 100)\",\"Producer Price Index (2014-2016 = 100)\",\"Producer Price Index (2014-2016 = 100)\",\"Producer Price Index (2014-2016 = 100)\",\"Producer Price Index (2014-2016 = 100)\",\"Producer Price Index (2014-2016 = 100)\",\"Producer Price Index (2014-2016 = 100)\",\"Producer Price Index (2014-2016 = 100)\",\"Producer Price Index (2014-2016 = 100)\",\"Producer Price Index (2014-2016 = 100)\",\"Producer Price Index (2014-2016 = 100)\",\"Producer Price Index (2014-2016 = 100)\"],\"ELEMENT_CODE\":[5539,5539,5539,5539,5539,5539,5539,5539,5539,5539,5539,5539,5539,5539,5539,5539,5539,5539,5539,5539,5539,5539,5539,5539,5539,5539,5539,5539,5539,5539,5539],\"EU_MEMBER\":[1,1,1,1,1,1,1,1,0,0,1,1,1,1,1,1,1,0,1,1,1,1,1,1,1,1,1,0,1,1,1],\"EU_STRING\":[\"EU\",\"EU\",\"EU\",\"EU\",\"EU\",\"EU\",\"EU\",\"EU\",\"NON-EU\",\"NON-EU\",\"EU\",\"EU\",\"EU\",\"EU\",\"EU\",\"EU\",\"EU\",\"NON-EU\",\"EU\",\"EU\",\"EU\",\"EU\",\"EU\",\"EU\",\"EU\",\"EU\",\"EU\",\"NON-EU\",\"EU\",\"EU\",\"EU\"],\"FLAG_CODES\":[\"NaN\",\"NaN\",\"E\",\"NaN\",\"NaN\",\"NaN\",\"NaN\",\"NaN\",\"NaN\",\"NaN\",\"NaN\",\"NaN\",\"NaN\",\"NaN\",\"NaN\",\"NaN\",\"NaN\",\"NaN\",\"NaN\",\"NaN\",\"NaN\",\"NaN\",\"NaN\",\"NaN\",\"NaN\",\"NaN\",\"NaN\",\"NaN\",\"NaN\",\"NaN\",\"NaN\"],\"FREQUENCY\":[\"A\",\"A\",\"A\",\"A\",\"A\",\"A\",\"A\",\"A\",\"A\",\"A\",\"A\",\"A\",\"A\",\"A\",\"A\",\"A\",\"A\",\"A\",\"A\",\"A\",\"A\",\"A\",\"A\",\"A\",\"A\",\"A\",\"A\",\"A\",\"A\",\"A\",\"A\"],\"GDP\":{\"__ndarray__\":\"iL67ld0C3UAXnpeKvlTWQPyPTIfwwcZAb0VigmKEu0BVibK3wm7CQHKjyFrzqcFA0jWTbw2C0kA/U69b9hTEQIYdxiSJHeJAXP+uz8I920AUzm4tCzvdQD2YFB8SdtZATyFX6jMxyECZLsTqABLTQMTOFDqZE9JAUaG6uU64xUCzJEBNZ2PrQMQLIlKFSttA9tA+VtVg20A9fm/TO9TfQLcNoyAAzclAJov7j4N31EDVzcXfuf3bQDTW/s6l2tpAcyzvqgYm20A1tteC78LcQDXPEfmvMtFA3LxxUsCF3UBe8j/52R3cQI22Kok4NOBA9ODurEknuUA=\",\"dtype\":\"float64\",\"order\":\"little\",\"shape\":[31]},\"INDICATOR\":[\"GDP\",\"GDP\",\"GDP\",\"GDP\",\"GDP\",\"GDP\",\"GDP\",\"GDP\",\"GDP\",\"GDP\",\"GDP\",\"GDP\",\"GDP\",\"GDP\",\"GDP\",\"GDP\",\"GDP\",\"GDP\",\"GDP\",\"GDP\",\"GDP\",\"GDP\",\"GDP\",\"GDP\",\"GDP\",\"GDP\",\"GDP\",\"GDP\",\"GDP\",\"GDP\",\"GDP\"],\"ITEM\":[\"Wheat\",\"Wheat\",\"Wheat\",\"Wheat\",\"Wheat\",\"Wheat\",\"Wheat\",\"Wheat\",\"Wheat\",\"Wheat\",\"Wheat\",\"Wheat\",\"Wheat\",\"Wheat\",\"Wheat\",\"Wheat\",\"Wheat\",\"Wheat\",\"Wheat\",\"Wheat\",\"Wheat\",\"Wheat\",\"Wheat\",\"Wheat\",\"Wheat\",\"Wheat\",\"Wheat\",\"Wheat\",\"Wheat\",\"Wheat\",\"Wheat\"],\"ITEM_CODE\":[15,15,15,15,15,15,15,15,15,15,15,15,15,15,15,15,15,15,15,15,15,15,15,15,15,15,15,15,15,15,15],\"ITEM_CODE_CPC\":[\"'0111\",\"'0111\",\"'0111\",\"'0111\",\"'0111\",\"'0111\",\"'0111\",\"'0111\",\"'0111\",\"'0111\",\"'0111\",\"'0111\",\"'0111\",\"'0111\",\"'0111\",\"'0111\",\"'0111\",\"'0111\",\"'0111\",\"'0111\",\"'0111\",\"'0111\",\"'0111\",\"'0111\",\"'0111\",\"'0111\",\"'0111\",\"'0111\",\"'0111\",\"'0111\",\"'0111\"],\"LOCATION\":[\"AUT\",\"CYP\",\"HRV\",\"BGR\",\"LTU\",\"LVA\",\"SVN\",\"EST\",\"USA\",\"GBR\",\"SWE\",\"ESP\",\"SVK\",\"PRT\",\"MLT\",\"POL\",\"LUX\",\"JPN\",\"ITA\",\"IRL\",\"HUN\",\"GRC\",\"DEU\",\"FRA\",\"FIN\",\"DNK\",\"CZE\",\"CAN\",\"BEL\",\"NLD\",\"ROU\"],\"LOOKUP_ISO\":[\"AUT\",\"CYP\",\"HRV\",\"BGR\",\"LTU\",\"LVA\",\"SVN\",\"EST\",\"USA\",\"GBR\",\"SWE\",\"ESP\",\"SVK\",\"PRT\",\"MLT\",\"POL\",\"LUX\",\"JPN\",\"ITA\",\"IRL\",\"HUN\",\"GRC\",\"DEU\",\"FRA\",\"FIN\",\"DNK\",\"CZE\",\"CAN\",\"BEL\",\"NLD\",\"ROU\"],\"MEASURE\":[\"USD_CAP\",\"USD_CAP\",\"USD_CAP\",\"USD_CAP\",\"USD_CAP\",\"USD_CAP\",\"USD_CAP\",\"USD_CAP\",\"USD_CAP\",\"USD_CAP\",\"USD_CAP\",\"USD_CAP\",\"USD_CAP\",\"USD_CAP\",\"USD_CAP\",\"USD_CAP\",\"USD_CAP\",\"USD_CAP\",\"USD_CAP\",\"USD_CAP\",\"USD_CAP\",\"USD_CAP\",\"USD_CAP\",\"USD_CAP\",\"USD_CAP\",\"USD_CAP\",\"USD_CAP\",\"USD_CAP\",\"USD_CAP\",\"USD_CAP\",\"USD_CAP\"],\"MONTHS\":[\"Annual value\",\"Annual value\",\"Annual value\",\"Annual value\",\"Annual value\",\"Annual value\",\"Annual value\",\"Annual value\",\"Annual value\",\"Annual value\",\"Annual value\",\"Annual value\",\"Annual value\",\"Annual value\",\"Annual value\",\"Annual value\",\"Annual value\",\"Annual value\",\"Annual value\",\"Annual value\",\"Annual value\",\"Annual value\",\"Annual value\",\"Annual value\",\"Annual value\",\"Annual value\",\"Annual value\",\"Annual value\",\"Annual value\",\"Annual value\",\"Annual value\"],\"MONTHS_CODE\":[7021,7021,7021,7021,7021,7021,7021,7021,7021,7021,7021,7021,7021,7021,7021,7021,7021,7021,7021,7021,7021,7021,7021,7021,7021,7021,7021,7021,7021,7021,7021],\"SUBJECT\":[\"TOT\",\"TOT\",\"TOT\",\"TOT\",\"TOT\",\"TOT\",\"TOT\",\"TOT\",\"TOT\",\"TOT\",\"TOT\",\"TOT\",\"TOT\",\"TOT\",\"TOT\",\"TOT\",\"TOT\",\"TOT\",\"TOT\",\"TOT\",\"TOT\",\"TOT\",\"TOT\",\"TOT\",\"TOT\",\"TOT\",\"TOT\",\"TOT\",\"TOT\",\"TOT\",\"TOT\"],\"UNIT\":{\"__ndarray__\":\"AAAAAAAA+H8AAAAAAAD4fwAAAAAAAPh/AAAAAAAA+H8AAAAAAAD4fwAAAAAAAPh/AAAAAAAA+H8AAAAAAAD4fwAAAAAAAPh/AAAAAAAA+H8AAAAAAAD4fwAAAAAAAPh/AAAAAAAA+H8AAAAAAAD4fwAAAAAAAPh/AAAAAAAA+H8AAAAAAAD4fwAAAAAAAPh/AAAAAAAA+H8AAAAAAAD4fwAAAAAAAPh/AAAAAAAA+H8AAAAAAAD4fwAAAAAAAPh/AAAAAAAA+H8AAAAAAAD4fwAAAAAAAPh/AAAAAAAA+H8AAAAAAAD4fwAAAAAAAPh/AAAAAAAA+H8=\",\"dtype\":\"float64\",\"order\":\"little\",\"shape\":[31]},\"WHEAT_PPI\":{\"__ndarray__\":\"H4XrUbi+VECamZmZmblWQFyPwvUoDFZArkfhehSeUUDsUbgehYtTQAAAAAAAwExAcT0K16PwUkAAAAAAADBQQM3MzMzMLExAAAAAAABgTkBcj8L1KKxSQPYoXI/C9VJAFK5H4Xo0WkDXo3A9CsdQQOF6FK5HEVJAAAAAAAAwU0ApXI/C9bhWQMP1KFyPAIFApHA9CtcTVUDXo3A9CgdTQHsUrkfhGklAZmZmZmbWUEApXI/C9bhRQK5H4XoUflFAw/UoXI9CVEBI4XoUrkdTQGZmZmZmJldAAAAAAABQUUAfhetRuP5RQD0K16Nw7VFA9ihcj8K1TUA=\",\"dtype\":\"float64\",\"order\":\"little\",\"shape\":[31]},\"YEAR\":[2001,2001,2001,2001,2001,2001,2001,2001,2001,2001,2001,2001,2001,2001,2001,2001,2001,2001,2001,2001,2001,2001,2001,2001,2001,2001,2001,2001,2001,2001,2001],\"index\":[1,617,595,573,551,529,507,485,463,441,419,397,375,353,639,331,287,265,243,221,199,177,155,133,111,89,67,45,23,309,661]},\"selected\":{\"id\":\"1812\"},\"selection_policy\":{\"id\":\"1937\"}},\"id\":\"1811\",\"type\":\"ColumnDataSource\"},{\"attributes\":{},\"id\":\"1879\",\"type\":\"StringFormatter\"},{\"attributes\":{\"margin\":[5,5,5,5],\"name\":\"HSpacer03881\",\"sizing_mode\":\"stretch_width\"},\"id\":\"1809\",\"type\":\"Spacer\"},{\"attributes\":{},\"id\":\"1850\",\"type\":\"StringEditor\"},{\"attributes\":{},\"id\":\"1845\",\"type\":\"StringEditor\"},{\"attributes\":{\"children\":[{\"id\":\"1935\"}],\"margin\":[0,0,0,0],\"name\":\"Row03846\",\"sizing_mode\":\"stretch_width\"},\"id\":\"1810\",\"type\":\"Row\"},{\"attributes\":{\"indices\":[]},\"id\":\"1812\",\"type\":\"Selection\"},{\"attributes\":{},\"id\":\"1869\",\"type\":\"StringFormatter\"},{\"attributes\":{},\"id\":\"1910\",\"type\":\"IntEditor\"},{\"attributes\":{},\"id\":\"1844\",\"type\":\"StringFormatter\"},{\"attributes\":{\"editor\":{\"id\":\"1845\"},\"field\":\"AREA_CODE_M49\",\"formatter\":{\"id\":\"1844\"},\"title\":\"AREA_CODE_M49\",\"width\":0},\"id\":\"1846\",\"type\":\"TableColumn\"},{\"attributes\":{\"editor\":{\"id\":\"1865\"},\"field\":\"MEASURE\",\"formatter\":{\"id\":\"1864\"},\"title\":\"MEASURE\",\"width\":0},\"id\":\"1866\",\"type\":\"TableColumn\"},{\"attributes\":{\"editor\":{\"id\":\"1930\"},\"field\":\"GDP\",\"formatter\":{\"id\":\"1931\"},\"title\":\"GDP\",\"width\":0},\"id\":\"1932\",\"type\":\"TableColumn\"},{\"attributes\":{\"format\":\"0,0.0[00000]\",\"text_align\":\"right\"},\"id\":\"1924\",\"type\":\"NumberFormatter\"},{\"attributes\":{},\"id\":\"1814\",\"type\":\"IntEditor\"},{\"attributes\":{},\"id\":\"1870\",\"type\":\"StringEditor\"},{\"attributes\":{\"children\":[{\"id\":\"1806\"},{\"id\":\"1810\"}],\"margin\":[0,0,0,0],\"name\":\"Column03883\",\"sizing_mode\":\"stretch_width\"},\"id\":\"1805\",\"type\":\"Column\"},{\"attributes\":{},\"id\":\"1840\",\"type\":\"IntEditor\"},{\"attributes\":{\"children\":[{\"id\":\"1807\"},{\"id\":\"1809\"}],\"margin\":[0,0,0,0],\"name\":\"Row03882\",\"sizing_mode\":\"stretch_width\"},\"id\":\"1806\",\"type\":\"Row\"},{\"attributes\":{\"editor\":{\"id\":\"1870\"},\"field\":\"FREQUENCY\",\"formatter\":{\"id\":\"1869\"},\"title\":\"FREQUENCY\",\"width\":0},\"id\":\"1871\",\"type\":\"TableColumn\"},{\"attributes\":{},\"id\":\"1885\",\"type\":\"IntEditor\"},{\"attributes\":{},\"id\":\"1937\",\"type\":\"UnionRenderers\"},{\"attributes\":{},\"id\":\"1875\",\"type\":\"IntEditor\"},{\"attributes\":{},\"id\":\"1915\",\"type\":\"StringEditor\"},{\"attributes\":{},\"id\":\"1829\",\"type\":\"StringFormatter\"},{\"attributes\":{},\"id\":\"1920\",\"type\":\"NumberEditor\"},{\"attributes\":{},\"id\":\"1835\",\"type\":\"StringEditor\"},{\"attributes\":{},\"id\":\"1890\",\"type\":\"StringEditor\"},{\"attributes\":{\"editor\":{\"id\":\"1920\"},\"field\":\"UNIT\",\"formatter\":{\"id\":\"1919\"},\"title\":\"UNIT\",\"width\":0},\"id\":\"1921\",\"type\":\"TableColumn\"},{\"attributes\":{\"columns\":[{\"id\":\"1815\"},{\"id\":\"1821\"},{\"id\":\"1826\"},{\"id\":\"1831\"},{\"id\":\"1836\"},{\"id\":\"1841\"},{\"id\":\"1846\"},{\"id\":\"1851\"},{\"id\":\"1856\"},{\"id\":\"1861\"},{\"id\":\"1866\"},{\"id\":\"1871\"},{\"id\":\"1876\"},{\"id\":\"1881\"},{\"id\":\"1886\"},{\"id\":\"1891\"},{\"id\":\"1896\"},{\"id\":\"1901\"},{\"id\":\"1906\"},{\"id\":\"1911\"},{\"id\":\"1916\"},{\"id\":\"1921\"},{\"id\":\"1926\"},{\"id\":\"1932\"}],\"configuration\":{\"columns\":[{\"field\":\"index\"},{\"field\":\"YEAR\"},{\"field\":\"LOCATION\"},{\"field\":\"FLAG_CODES\"},{\"field\":\"LOOKUP_ISO\"},{\"field\":\"AREA_CODE\"},{\"field\":\"AREA_CODE_M49\"},{\"field\":\"AREA\"},{\"field\":\"INDICATOR\"},{\"field\":\"SUBJECT\"},{\"field\":\"MEASURE\"},{\"field\":\"FREQUENCY\"},{\"field\":\"EU_MEMBER\"},{\"field\":\"EU_STRING\"},{\"field\":\"ITEM_CODE\"},{\"field\":\"ITEM_CODE_CPC\"},{\"field\":\"ITEM\"},{\"field\":\"ELEMENT_CODE\"},{\"field\":\"ELEMENT\"},{\"field\":\"MONTHS_CODE\"},{\"field\":\"MONTHS\"},{\"field\":\"UNIT\"},{\"field\":\"WHEAT_PPI\"},{\"field\":\"GDP\"}],\"dataTree\":false,\"selectable\":true},\"hidden_columns\":[\"LOCATION\",\"INDICATOR\",\"SUBJECT\",\"MEASURE\",\"FREQUENCY\",\"FLAG_CODES\",\"LOOKUP_ISO\",\"AREA_CODE\",\"AREA_CODE_M49\",\"EU_MEMBER\",\"ITEM_CODE\",\"ITEM_CODE_CPC\",\"ITEM\",\"ELEMENT_CODE\",\"ELEMENT\",\"MONTHS_CODE\",\"MONTHS\",\"UNIT\",\"EU_STRING\",\"index\"],\"layout\":\"fit_data_table\",\"margin\":[5,10,5,10],\"name\":\"\",\"page\":1,\"page_size\":20,\"select_mode\":true,\"selectable_rows\":null,\"sizing_mode\":\"stretch_width\",\"source\":{\"id\":\"1811\"},\"styles\":{\"data\":{},\"id\":\"e940b85b1259465493fae9dde7ff1d86\"},\"subscribed_events\":[\"table-edit\",\"cell-click\"],\"theme\":\"bulma\",\"theme_url\":\"https://unpkg.com/tabulator-tables@4.9.3/dist/css/bulma/\"},\"id\":\"1935\",\"type\":\"panel.models.tabulator.DataTabulator\"},{\"attributes\":{\"text_align\":\"right\"},\"id\":\"1909\",\"type\":\"NumberFormatter\"},{\"attributes\":{\"editor\":{\"id\":\"1860\"},\"field\":\"SUBJECT\",\"formatter\":{\"id\":\"1859\"},\"title\":\"SUBJECT\",\"width\":0},\"id\":\"1861\",\"type\":\"TableColumn\"},{\"attributes\":{},\"id\":\"1864\",\"type\":\"StringFormatter\"},{\"attributes\":{\"editor\":{\"id\":\"1814\"},\"field\":\"index\",\"formatter\":{\"id\":\"1813\"},\"title\":\"index\",\"width\":0},\"id\":\"1815\",\"type\":\"TableColumn\"},{\"attributes\":{\"editor\":{\"id\":\"1855\"},\"field\":\"INDICATOR\",\"formatter\":{\"id\":\"1854\"},\"title\":\"INDICATOR\",\"width\":0},\"id\":\"1856\",\"type\":\"TableColumn\"},{\"attributes\":{},\"id\":\"1904\",\"type\":\"StringFormatter\"},{\"attributes\":{\"editor\":{\"id\":\"1850\"},\"field\":\"AREA\",\"formatter\":{\"id\":\"1849\"},\"title\":\"AREA\",\"width\":0},\"id\":\"1851\",\"type\":\"TableColumn\"},{\"attributes\":{},\"id\":\"1834\",\"type\":\"StringFormatter\"},{\"attributes\":{\"text_align\":\"right\"},\"id\":\"1899\",\"type\":\"NumberFormatter\"},{\"attributes\":{},\"id\":\"1865\",\"type\":\"StringEditor\"},{\"attributes\":{\"editor\":{\"id\":\"1835\"},\"field\":\"LOOKUP_ISO\",\"formatter\":{\"id\":\"1834\"},\"title\":\"LOOKUP_ISO\",\"width\":0},\"id\":\"1836\",\"type\":\"TableColumn\"},{\"attributes\":{\"editor\":{\"id\":\"1875\"},\"field\":\"EU_MEMBER\",\"formatter\":{\"id\":\"1874\"},\"title\":\"EU_MEMBER\",\"width\":0},\"id\":\"1876\",\"type\":\"TableColumn\"},{\"attributes\":{},\"id\":\"1854\",\"type\":\"StringFormatter\"},{\"attributes\":{\"editor\":{\"id\":\"1900\"},\"field\":\"ELEMENT_CODE\",\"formatter\":{\"id\":\"1899\"},\"title\":\"ELEMENT_CODE\",\"width\":0},\"id\":\"1901\",\"type\":\"TableColumn\"},{\"attributes\":{\"editor\":{\"id\":\"1825\"},\"field\":\"LOCATION\",\"formatter\":{\"id\":\"1824\"},\"title\":\"LOCATION\",\"width\":0},\"id\":\"1826\",\"type\":\"TableColumn\"},{\"attributes\":{\"editor\":{\"id\":\"1885\"},\"field\":\"ITEM_CODE\",\"formatter\":{\"id\":\"1884\"},\"title\":\"ITEM_CODE\",\"width\":0},\"id\":\"1886\",\"type\":\"TableColumn\"},{\"attributes\":{\"client_comm_id\":\"4dec5c582181451ebf8dbe7360cb18a5\",\"comm_id\":\"ecd3d08d28184df3b97fa0fd539fd1b5\",\"plot_id\":\"1804\"},\"id\":\"1943\",\"type\":\"panel.models.comm_manager.CommManager\"},{\"attributes\":{\"editor\":{\"id\":\"1880\"},\"field\":\"EU_STRING\",\"formatter\":{\"id\":\"1879\"},\"title\":\"EU_STRING\",\"width\":0},\"id\":\"1881\",\"type\":\"TableColumn\"},{\"attributes\":{\"editor\":{\"id\":\"1915\"},\"field\":\"MONTHS\",\"formatter\":{\"id\":\"1914\"},\"title\":\"MONTHS\",\"width\":0},\"id\":\"1916\",\"type\":\"TableColumn\"},{\"attributes\":{\"editor\":{\"id\":\"1819\"},\"field\":\"YEAR\",\"formatter\":{\"id\":\"1820\"},\"title\":\"YEAR\",\"width\":0},\"id\":\"1821\",\"type\":\"TableColumn\"},{\"attributes\":{\"text_align\":\"right\"},\"id\":\"1874\",\"type\":\"NumberFormatter\"},{\"attributes\":{},\"id\":\"1889\",\"type\":\"StringFormatter\"},{\"attributes\":{},\"id\":\"1859\",\"type\":\"StringFormatter\"},{\"attributes\":{\"text_align\":\"right\"},\"id\":\"1839\",\"type\":\"NumberFormatter\"},{\"attributes\":{\"editor\":{\"id\":\"1925\"},\"field\":\"WHEAT_PPI\",\"formatter\":{\"id\":\"1924\"},\"title\":\"WHEAT_PPI\",\"width\":0},\"id\":\"1926\",\"type\":\"TableColumn\"},{\"attributes\":{\"editor\":{\"id\":\"1830\"},\"field\":\"FLAG_CODES\",\"formatter\":{\"id\":\"1829\"},\"title\":\"FLAG_CODES\",\"width\":0},\"id\":\"1831\",\"type\":\"TableColumn\"},{\"attributes\":{},\"id\":\"1819\",\"type\":\"IntEditor\"},{\"attributes\":{},\"id\":\"1895\",\"type\":\"StringEditor\"},{\"attributes\":{},\"id\":\"1925\",\"type\":\"NumberEditor\"},{\"attributes\":{},\"id\":\"1830\",\"type\":\"StringEditor\"},{\"attributes\":{},\"id\":\"1880\",\"type\":\"StringEditor\"},{\"attributes\":{},\"id\":\"1855\",\"type\":\"StringEditor\"},{\"attributes\":{\"editor\":{\"id\":\"1840\"},\"field\":\"AREA_CODE\",\"formatter\":{\"id\":\"1839\"},\"title\":\"AREA_CODE\",\"width\":0},\"id\":\"1841\",\"type\":\"TableColumn\"},{\"attributes\":{\"editor\":{\"id\":\"1905\"},\"field\":\"ELEMENT\",\"formatter\":{\"id\":\"1904\"},\"title\":\"ELEMENT\",\"width\":0},\"id\":\"1906\",\"type\":\"TableColumn\"},{\"attributes\":{},\"id\":\"1824\",\"type\":\"StringFormatter\"},{\"attributes\":{\"editor\":{\"id\":\"1895\"},\"field\":\"ITEM\",\"formatter\":{\"id\":\"1894\"},\"title\":\"ITEM\",\"width\":0},\"id\":\"1896\",\"type\":\"TableColumn\"},{\"attributes\":{\"format\":\"$0,0.00\"},\"id\":\"1931\",\"type\":\"NumberFormatter\"},{\"attributes\":{},\"id\":\"1825\",\"type\":\"StringEditor\"},{\"attributes\":{},\"id\":\"1900\",\"type\":\"IntEditor\"},{\"attributes\":{},\"id\":\"1820\",\"type\":\"StringFormatter\"},{\"attributes\":{},\"id\":\"1914\",\"type\":\"StringFormatter\"},{\"attributes\":{},\"id\":\"1905\",\"type\":\"StringEditor\"},{\"attributes\":{},\"id\":\"1860\",\"type\":\"StringEditor\"},{\"attributes\":{},\"id\":\"1894\",\"type\":\"StringFormatter\"},{\"attributes\":{},\"id\":\"1930\",\"type\":\"NumberEditor\"},{\"attributes\":{},\"id\":\"1849\",\"type\":\"StringFormatter\"}],\"root_ids\":[\"1804\",\"1943\"]},\"title\":\"Bokeh Application\",\"version\":\"2.4.2\"}};\n",
       "    var render_items = [{\"docid\":\"515d4ce2-07da-46fd-a997-50492597d86a\",\"root_ids\":[\"1804\"],\"roots\":{\"1804\":\"8838fed0-4056-4141-9abf-2c4cb6dd27b4\"}}];\n",
       "    root.Bokeh.embed.embed_items_notebook(docs_json, render_items);\n",
       "  }\n",
       "  if (root.Bokeh !== undefined && root.Bokeh.Panel !== undefined && ( root['Tabulator'] !== undefined)) {\n",
       "    embed_document(root);\n",
       "  } else {\n",
       "    var attempts = 0;\n",
       "    var timer = setInterval(function(root) {\n",
       "      if (root.Bokeh !== undefined && root.Bokeh.Panel !== undefined && (root['Tabulator'] !== undefined)) {\n",
       "        clearInterval(timer);\n",
       "        embed_document(root);\n",
       "      } else if (document.readyState == \"complete\") {\n",
       "        attempts++;\n",
       "        if (attempts > 200) {\n",
       "          clearInterval(timer);\n",
       "          console.log(\"Bokeh: ERROR: Unable to run BokehJS code because BokehJS library is missing\");\n",
       "        }\n",
       "      }\n",
       "    }, 25, root)\n",
       "  }\n",
       "})(window);</script>"
      ],
      "text/plain": [
       "<hvplot.interactive.Interactive at 0x1d72e4fbcd0>"
      ]
     },
     "execution_count": 56,
     "metadata": {
      "application/vnd.holoviews_exec.v0+json": {
       "id": "1804"
      }
     },
     "output_type": "execute_result"
    }
   ],
   "source": [
    "gdp_ppi_unrestrained_table"
   ]
  },
  {
   "cell_type": "code",
   "execution_count": 57,
   "id": "98209789",
   "metadata": {},
   "outputs": [],
   "source": [
    "# gdp_ppi_year_unrestrained_pipeline"
   ]
  },
  {
   "cell_type": "code",
   "execution_count": 58,
   "id": "0b3d7b87",
   "metadata": {},
   "outputs": [
    {
     "data": {},
     "metadata": {},
     "output_type": "display_data"
    },
    {
     "data": {},
     "metadata": {},
     "output_type": "display_data"
    },
    {
     "data": {
      "application/vnd.holoviews_exec.v0+json": "",
      "text/html": [
       "<div id='1954'>\n",
       "\n",
       "\n",
       "\n",
       "\n",
       "\n",
       "  <div class=\"bk-root\" id=\"81488407-cd21-46e7-b406-15ae619764df\" data-root-id=\"1954\"></div>\n",
       "</div>\n",
       "<script type=\"application/javascript\">(function(root) {\n",
       "  function embed_document(root) {\n",
       "    var docs_json = {\"93303c3a-eccd-46ae-9278-a6002c4969bf\":{\"defs\":[{\"extends\":null,\"module\":null,\"name\":\"ReactiveHTML1\",\"overrides\":[],\"properties\":[]},{\"extends\":null,\"module\":null,\"name\":\"FlexBox1\",\"overrides\":[],\"properties\":[{\"default\":\"flex-start\",\"kind\":null,\"name\":\"align_content\"},{\"default\":\"flex-start\",\"kind\":null,\"name\":\"align_items\"},{\"default\":\"row\",\"kind\":null,\"name\":\"flex_direction\"},{\"default\":\"wrap\",\"kind\":null,\"name\":\"flex_wrap\"},{\"default\":\"flex-start\",\"kind\":null,\"name\":\"justify_content\"}]},{\"extends\":null,\"module\":null,\"name\":\"GridStack1\",\"overrides\":[],\"properties\":[{\"default\":\"warn\",\"kind\":null,\"name\":\"mode\"},{\"default\":null,\"kind\":null,\"name\":\"ncols\"},{\"default\":null,\"kind\":null,\"name\":\"nrows\"},{\"default\":true,\"kind\":null,\"name\":\"allow_resize\"},{\"default\":true,\"kind\":null,\"name\":\"allow_drag\"},{\"default\":[],\"kind\":null,\"name\":\"state\"}]},{\"extends\":null,\"module\":null,\"name\":\"click1\",\"overrides\":[],\"properties\":[{\"default\":\"\",\"kind\":null,\"name\":\"terminal_output\"},{\"default\":\"\",\"kind\":null,\"name\":\"debug_name\"},{\"default\":0,\"kind\":null,\"name\":\"clears\"}]},{\"extends\":null,\"module\":null,\"name\":\"TemplateActions1\",\"overrides\":[],\"properties\":[{\"default\":0,\"kind\":null,\"name\":\"open_modal\"},{\"default\":0,\"kind\":null,\"name\":\"close_modal\"}]},{\"extends\":null,\"module\":null,\"name\":\"MaterialTemplateActions1\",\"overrides\":[],\"properties\":[{\"default\":0,\"kind\":null,\"name\":\"open_modal\"},{\"default\":0,\"kind\":null,\"name\":\"close_modal\"}]}],\"roots\":{\"references\":[{\"attributes\":{\"children\":[{\"id\":\"1955\"}],\"margin\":[0,0,0,0],\"name\":\"Row04159\",\"sizing_mode\":\"stretch_width\"},\"id\":\"1954\",\"type\":\"Row\"},{\"attributes\":{\"end\":61056.422218499996,\"reset_end\":61056.422218499996,\"reset_start\":0.0,\"tags\":[[[\"GDP\",\"GDP\",null]]]},\"id\":\"1963\",\"type\":\"Range1d\"},{\"attributes\":{\"active\":0,\"button_type\":\"primary\",\"labels\":[\"GDP\",\"WHEAT_PPI\"],\"margin\":[5,10,5,10],\"sizing_mode\":\"stretch_width\"},\"id\":\"1959\",\"type\":\"RadioButtonGroup\"},{\"attributes\":{},\"id\":\"2008\",\"type\":\"BasicTickFormatter\"},{\"attributes\":{\"factors\":[\"2001\"],\"palette\":[\"#30a2da\"]},\"id\":\"1994\",\"type\":\"CategoricalColorMapper\"},{\"attributes\":{\"children\":[{\"id\":\"1958\"},{\"id\":\"1959\"}],\"margin\":[0,0,0,0],\"name\":\"Column04016\",\"sizing_mode\":\"stretch_width\"},\"id\":\"1957\",\"type\":\"Column\"},{\"attributes\":{},\"id\":\"1970\",\"type\":\"CategoricalScale\"},{\"attributes\":{},\"id\":\"1972\",\"type\":\"LinearScale\"},{\"attributes\":{\"callback\":null,\"renderers\":[{\"id\":\"2001\"}],\"tags\":[\"hv_created\"],\"tooltips\":[[\"AREA\",\"@{AREA}\"],[\"YEAR\",\"@{YEAR}\"],[\"GDP\",\"@{GDP}\"]]},\"id\":\"1964\",\"type\":\"HoverTool\"},{\"attributes\":{\"coordinates\":null,\"group\":null,\"text\":\"GDP or WHEAT PPI v Year\",\"text_color\":\"black\",\"text_font_size\":\"12pt\"},\"id\":\"1966\",\"type\":\"Title\"},{\"attributes\":{\"fill_color\":{\"field\":\"YEAR\",\"transform\":{\"id\":\"1994\"}},\"hatch_color\":{\"field\":\"YEAR\",\"transform\":{\"id\":\"1994\"}},\"line_width\":{\"value\":2},\"top\":{\"field\":\"GDP\"},\"width\":{\"value\":0.8},\"x\":{\"field\":\"xoffsets\"}},\"id\":\"1998\",\"type\":\"VBar\"},{\"attributes\":{\"below\":[{\"id\":\"1974\"}],\"center\":[{\"id\":\"1976\"},{\"id\":\"1980\"}],\"height\":300,\"left\":[{\"id\":\"1977\"}],\"margin\":[5,5,5,5],\"min_border_bottom\":10,\"min_border_left\":10,\"min_border_right\":10,\"min_border_top\":10,\"renderers\":[{\"id\":\"2001\"}],\"sizing_mode\":\"stretch_width\",\"title\":{\"id\":\"1966\"},\"toolbar\":{\"id\":\"1987\"},\"width\":700,\"x_range\":{\"id\":\"1962\"},\"x_scale\":{\"id\":\"1970\"},\"y_range\":{\"id\":\"1963\"},\"y_scale\":{\"id\":\"1972\"}},\"id\":\"1965\",\"subtype\":\"Figure\",\"type\":\"Plot\"},{\"attributes\":{\"children\":[{\"id\":\"1956\"},{\"id\":\"1961\"}],\"margin\":[0,0,0,0],\"name\":\"Column04158\",\"sizing_mode\":\"stretch_width\"},\"id\":\"1955\",\"type\":\"Column\"},{\"attributes\":{},\"id\":\"1975\",\"type\":\"CategoricalTicker\"},{\"attributes\":{\"axis\":{\"id\":\"1974\"},\"coordinates\":null,\"grid_line_color\":null,\"group\":null,\"ticker\":null},\"id\":\"1976\",\"type\":\"Grid\"},{\"attributes\":{\"children\":[{\"id\":\"1965\"}],\"margin\":[0,0,0,0],\"name\":\"Row04021\",\"sizing_mode\":\"stretch_width\"},\"id\":\"1961\",\"type\":\"Row\"},{\"attributes\":{\"children\":[{\"id\":\"1957\"},{\"id\":\"1960\"}],\"margin\":[0,0,0,0],\"name\":\"Row04157\",\"sizing_mode\":\"stretch_width\"},\"id\":\"1956\",\"type\":\"Row\"},{\"attributes\":{},\"id\":\"1982\",\"type\":\"PanTool\"},{\"attributes\":{\"axis_label\":\"AREA, YEAR\",\"coordinates\":null,\"formatter\":{\"id\":\"2005\"},\"group\":null,\"major_label_policy\":{\"id\":\"2006\"},\"ticker\":{\"id\":\"1975\"}},\"id\":\"1974\",\"type\":\"CategoricalAxis\"},{\"attributes\":{\"axis\":{\"id\":\"1977\"},\"coordinates\":null,\"dimension\":1,\"grid_line_color\":null,\"group\":null,\"ticker\":null},\"id\":\"1980\",\"type\":\"Grid\"},{\"attributes\":{},\"id\":\"2005\",\"type\":\"CategoricalTickFormatter\"},{\"attributes\":{\"fill_alpha\":{\"value\":0.1},\"fill_color\":{\"field\":\"YEAR\",\"transform\":{\"id\":\"1994\"}},\"hatch_alpha\":{\"value\":0.1},\"hatch_color\":{\"field\":\"YEAR\",\"transform\":{\"id\":\"1994\"}},\"line_alpha\":{\"value\":0.1},\"line_width\":{\"value\":2},\"top\":{\"field\":\"GDP\"},\"width\":{\"value\":0.8},\"x\":{\"field\":\"xoffsets\"}},\"id\":\"1999\",\"type\":\"VBar\"},{\"attributes\":{},\"id\":\"2009\",\"type\":\"AllLabels\"},{\"attributes\":{\"client_comm_id\":\"ddd137630fea4049a8a0890a86dfb44d\",\"comm_id\":\"df48b02543264d369eead50044ea18b9\",\"plot_id\":\"1954\"},\"id\":\"2060\",\"type\":\"panel.models.comm_manager.CommManager\"},{\"attributes\":{},\"id\":\"2006\",\"type\":\"AllLabels\"},{\"attributes\":{\"tools\":[{\"id\":\"1964\"},{\"id\":\"1981\"},{\"id\":\"1982\"},{\"id\":\"1983\"},{\"id\":\"1984\"},{\"id\":\"1985\"}]},\"id\":\"1987\",\"type\":\"Toolbar\"},{\"attributes\":{\"axis_label\":\"GDP\",\"coordinates\":null,\"formatter\":{\"id\":\"2008\"},\"group\":null,\"major_label_policy\":{\"id\":\"2009\"},\"ticker\":{\"id\":\"1978\"}},\"id\":\"1977\",\"type\":\"LinearAxis\"},{\"attributes\":{\"bottom\":{\"value\":0},\"fill_alpha\":{\"value\":1.0},\"fill_color\":{\"field\":\"YEAR\",\"transform\":{\"id\":\"1994\"}},\"hatch_alpha\":{\"value\":1.0},\"hatch_color\":{\"field\":\"YEAR\",\"transform\":{\"id\":\"1994\"}},\"hatch_scale\":{\"value\":12.0},\"hatch_weight\":{\"value\":1.0},\"line_alpha\":{\"value\":1.0},\"line_cap\":{\"value\":\"butt\"},\"line_color\":{\"value\":\"black\"},\"line_dash\":{\"value\":[]},\"line_dash_offset\":{\"value\":0},\"line_join\":{\"value\":\"bevel\"},\"line_width\":{\"value\":2},\"top\":{\"field\":\"GDP\"},\"width\":{\"value\":0.8},\"x\":{\"field\":\"xoffsets\"}},\"id\":\"2003\",\"type\":\"VBar\"},{\"attributes\":{},\"id\":\"2017\",\"type\":\"UnionRenderers\"},{\"attributes\":{},\"id\":\"1978\",\"type\":\"BasicTicker\"},{\"attributes\":{\"fill_alpha\":{\"value\":0.2},\"fill_color\":{\"field\":\"YEAR\",\"transform\":{\"id\":\"1994\"}},\"hatch_alpha\":{\"value\":0.2},\"hatch_color\":{\"field\":\"YEAR\",\"transform\":{\"id\":\"1994\"}},\"line_alpha\":{\"value\":0.2},\"line_width\":{\"value\":2},\"top\":{\"field\":\"GDP\"},\"width\":{\"value\":0.8},\"x\":{\"field\":\"xoffsets\"}},\"id\":\"2000\",\"type\":\"VBar\"},{\"attributes\":{},\"id\":\"1983\",\"type\":\"WheelZoomTool\"},{\"attributes\":{\"bar_color\":\"#348796\",\"end\":2021,\"margin\":[5,10,5,10],\"sizing_mode\":\"stretch_width\",\"start\":2000,\"title\":\"Year\",\"value\":2001},\"id\":\"1958\",\"type\":\"Slider\"},{\"attributes\":{\"data\":{\"AREA\":[\"Austria\",\"Cyprus\",\"Croatia\",\"Bulgaria\",\"Lithuania\",\"Latvia\",\"Slovenia\",\"Estonia\",\"United States of America\",\"United Kingdom of Great Britain and Northern Ireland\",\"Sweden\",\"Spain\",\"Slovakia\",\"Portugal\",\"Malta\",\"Poland\",\"Luxembourg\",\"Japan\",\"Italy\",\"Ireland\",\"Hungary\",\"Greece\",\"Germany\",\"France\",\"Finland\",\"Denmark\",\"Czechia\",\"Canada\",\"Belgium\",\"Netherlands\",\"Romania\"],\"GDP\":{\"__ndarray__\":\"iL67ld0C3UAXnpeKvlTWQPyPTIfwwcZAb0VigmKEu0BVibK3wm7CQHKjyFrzqcFA0jWTbw2C0kA/U69b9hTEQIYdxiSJHeJAXP+uz8I920AUzm4tCzvdQD2YFB8SdtZATyFX6jMxyECZLsTqABLTQMTOFDqZE9JAUaG6uU64xUCzJEBNZ2PrQMQLIlKFSttA9tA+VtVg20A9fm/TO9TfQLcNoyAAzclAJov7j4N31EDVzcXfuf3bQDTW/s6l2tpAcyzvqgYm20A1tteC78LcQDXPEfmvMtFA3LxxUsCF3UBe8j/52R3cQI22Kok4NOBA9ODurEknuUA=\",\"dtype\":\"float64\",\"order\":\"little\",\"shape\":[31]},\"YEAR\":[\"2001\",\"2001\",\"2001\",\"2001\",\"2001\",\"2001\",\"2001\",\"2001\",\"2001\",\"2001\",\"2001\",\"2001\",\"2001\",\"2001\",\"2001\",\"2001\",\"2001\",\"2001\",\"2001\",\"2001\",\"2001\",\"2001\",\"2001\",\"2001\",\"2001\",\"2001\",\"2001\",\"2001\",\"2001\",\"2001\",\"2001\"],\"xoffsets\":[[\"Austria\",\"2001\"],[\"Cyprus\",\"2001\"],[\"Croatia\",\"2001\"],[\"Bulgaria\",\"2001\"],[\"Lithuania\",\"2001\"],[\"Latvia\",\"2001\"],[\"Slovenia\",\"2001\"],[\"Estonia\",\"2001\"],[\"United States of America\",\"2001\"],[\"United Kingdom of Great Britain and Northern Ireland\",\"2001\"],[\"Sweden\",\"2001\"],[\"Spain\",\"2001\"],[\"Slovakia\",\"2001\"],[\"Portugal\",\"2001\"],[\"Malta\",\"2001\"],[\"Poland\",\"2001\"],[\"Luxembourg\",\"2001\"],[\"Japan\",\"2001\"],[\"Italy\",\"2001\"],[\"Ireland\",\"2001\"],[\"Hungary\",\"2001\"],[\"Greece\",\"2001\"],[\"Germany\",\"2001\"],[\"France\",\"2001\"],[\"Finland\",\"2001\"],[\"Denmark\",\"2001\"],[\"Czechia\",\"2001\"],[\"Canada\",\"2001\"],[\"Belgium\",\"2001\"],[\"Netherlands\",\"2001\"],[\"Romania\",\"2001\"]]},\"selected\":{\"id\":\"1996\"},\"selection_policy\":{\"id\":\"2017\"}},\"id\":\"1995\",\"type\":\"ColumnDataSource\"},{\"attributes\":{\"factors\":[[\"Austria\",\"2001\"],[\"Cyprus\",\"2001\"],[\"Croatia\",\"2001\"],[\"Bulgaria\",\"2001\"],[\"Lithuania\",\"2001\"],[\"Latvia\",\"2001\"],[\"Slovenia\",\"2001\"],[\"Estonia\",\"2001\"],[\"United States of America\",\"2001\"],[\"United Kingdom of Great Britain and Northern Ireland\",\"2001\"],[\"Sweden\",\"2001\"],[\"Spain\",\"2001\"],[\"Slovakia\",\"2001\"],[\"Portugal\",\"2001\"],[\"Malta\",\"2001\"],[\"Poland\",\"2001\"],[\"Luxembourg\",\"2001\"],[\"Japan\",\"2001\"],[\"Italy\",\"2001\"],[\"Ireland\",\"2001\"],[\"Hungary\",\"2001\"],[\"Greece\",\"2001\"],[\"Germany\",\"2001\"],[\"France\",\"2001\"],[\"Finland\",\"2001\"],[\"Denmark\",\"2001\"],[\"Czechia\",\"2001\"],[\"Canada\",\"2001\"],[\"Belgium\",\"2001\"],[\"Netherlands\",\"2001\"],[\"Romania\",\"2001\"]],\"tags\":[[[\"AREA\",\"AREA\",null],[\"YEAR\",\"YEAR\",null]]]},\"id\":\"1962\",\"type\":\"FactorRange\"},{\"attributes\":{},\"id\":\"1981\",\"type\":\"SaveTool\"},{\"attributes\":{\"overlay\":{\"id\":\"1986\"}},\"id\":\"1984\",\"type\":\"BoxZoomTool\"},{\"attributes\":{},\"id\":\"1985\",\"type\":\"ResetTool\"},{\"attributes\":{\"bottom_units\":\"screen\",\"coordinates\":null,\"fill_alpha\":0.5,\"fill_color\":\"lightgrey\",\"group\":null,\"left_units\":\"screen\",\"level\":\"overlay\",\"line_alpha\":1.0,\"line_color\":\"black\",\"line_dash\":[4,4],\"line_width\":2,\"right_units\":\"screen\",\"syncable\":false,\"top_units\":\"screen\"},\"id\":\"1986\",\"type\":\"BoxAnnotation\"},{\"attributes\":{\"coordinates\":null,\"data_source\":{\"id\":\"1995\"},\"glyph\":{\"id\":\"1998\"},\"group\":null,\"hover_glyph\":null,\"muted_glyph\":{\"id\":\"2000\"},\"nonselection_glyph\":{\"id\":\"1999\"},\"selection_glyph\":{\"id\":\"2003\"},\"view\":{\"id\":\"2002\"}},\"id\":\"2001\",\"type\":\"GlyphRenderer\"},{\"attributes\":{\"margin\":[5,5,5,5],\"name\":\"HSpacer04156\",\"sizing_mode\":\"stretch_width\"},\"id\":\"1960\",\"type\":\"Spacer\"},{\"attributes\":{},\"id\":\"1996\",\"type\":\"Selection\"},{\"attributes\":{\"source\":{\"id\":\"1995\"}},\"id\":\"2002\",\"type\":\"CDSView\"}],\"root_ids\":[\"1954\",\"2060\"]},\"title\":\"Bokeh Application\",\"version\":\"2.4.2\"}};\n",
       "    var render_items = [{\"docid\":\"93303c3a-eccd-46ae-9278-a6002c4969bf\",\"root_ids\":[\"1954\"],\"roots\":{\"1954\":\"81488407-cd21-46e7-b406-15ae619764df\"}}];\n",
       "    root.Bokeh.embed.embed_items_notebook(docs_json, render_items);\n",
       "  }\n",
       "  if (root.Bokeh !== undefined && root.Bokeh.Panel !== undefined && ( root['Tabulator'] !== undefined)) {\n",
       "    embed_document(root);\n",
       "  } else {\n",
       "    var attempts = 0;\n",
       "    var timer = setInterval(function(root) {\n",
       "      if (root.Bokeh !== undefined && root.Bokeh.Panel !== undefined && (root['Tabulator'] !== undefined)) {\n",
       "        clearInterval(timer);\n",
       "        embed_document(root);\n",
       "      } else if (document.readyState == \"complete\") {\n",
       "        attempts++;\n",
       "        if (attempts > 200) {\n",
       "          clearInterval(timer);\n",
       "          console.log(\"Bokeh: ERROR: Unable to run BokehJS code because BokehJS library is missing\");\n",
       "        }\n",
       "      }\n",
       "    }, 25, root)\n",
       "  }\n",
       "})(window);</script>"
      ],
      "text/plain": [
       "<hvplot.interactive.Interactive at 0x1d72e4fb3a0>"
      ]
     },
     "execution_count": 58,
     "metadata": {
      "application/vnd.holoviews_exec.v0+json": {
       "id": "1954"
      }
     },
     "output_type": "execute_result"
    }
   ],
   "source": [
    "# \n",
    "gdp_ppi_year_unrestrained_plot = gdp_ppi_year_unrestrained_pipeline.hvplot(x='AREA', by='YEAR', y=breakdown_button_group, kind='bar', line_width=2, title=\"GDP or WHEAT PPI v Year\")\n",
    "gdp_ppi_year_unrestrained_plot\n",
    "# \n",
    "# "
   ]
  },
  {
   "cell_type": "code",
   "execution_count": 59,
   "id": "25cc73d3",
   "metadata": {},
   "outputs": [],
   "source": [
    "# PIPELINE 2"
   ]
  },
  {
   "cell_type": "code",
   "execution_count": 60,
   "id": "b17cbffa",
   "metadata": {},
   "outputs": [],
   "source": [
    "ppi_vs_gdp_scatterplot_pipeline = (\n",
    "    idf_gdp_ppi[\n",
    "        (idf_gdp_ppi.YEAR == year_slider)\n",
    "    ]\n",
    "#     .groupby(['AREA', 'YEAR'])[breakdown_button_group].mean()\n",
    "#     .to_frame()\n",
    "    .reset_index()\n",
    "    .sort_values(by='YEAR')  \n",
    "    .reset_index(drop=True)\n",
    ")"
   ]
  },
  {
   "cell_type": "code",
   "execution_count": 61,
   "id": "9d0963f2",
   "metadata": {},
   "outputs": [
    {
     "data": {},
     "metadata": {},
     "output_type": "display_data"
    },
    {
     "data": {},
     "metadata": {},
     "output_type": "display_data"
    },
    {
     "data": {
      "application/vnd.holoviews_exec.v0+json": "",
      "text/html": [
       "<div id='2111'>\n",
       "\n",
       "\n",
       "\n",
       "\n",
       "\n",
       "  <div class=\"bk-root\" id=\"a4050ad3-78a7-4b59-888b-e29ccc8ae405\" data-root-id=\"2111\"></div>\n",
       "</div>\n",
       "<script type=\"application/javascript\">(function(root) {\n",
       "  function embed_document(root) {\n",
       "    var docs_json = {\"3811d54c-720a-40e5-affc-a9d9acd886ca\":{\"defs\":[{\"extends\":null,\"module\":null,\"name\":\"ReactiveHTML1\",\"overrides\":[],\"properties\":[]},{\"extends\":null,\"module\":null,\"name\":\"FlexBox1\",\"overrides\":[],\"properties\":[{\"default\":\"flex-start\",\"kind\":null,\"name\":\"align_content\"},{\"default\":\"flex-start\",\"kind\":null,\"name\":\"align_items\"},{\"default\":\"row\",\"kind\":null,\"name\":\"flex_direction\"},{\"default\":\"wrap\",\"kind\":null,\"name\":\"flex_wrap\"},{\"default\":\"flex-start\",\"kind\":null,\"name\":\"justify_content\"}]},{\"extends\":null,\"module\":null,\"name\":\"GridStack1\",\"overrides\":[],\"properties\":[{\"default\":\"warn\",\"kind\":null,\"name\":\"mode\"},{\"default\":null,\"kind\":null,\"name\":\"ncols\"},{\"default\":null,\"kind\":null,\"name\":\"nrows\"},{\"default\":true,\"kind\":null,\"name\":\"allow_resize\"},{\"default\":true,\"kind\":null,\"name\":\"allow_drag\"},{\"default\":[],\"kind\":null,\"name\":\"state\"}]},{\"extends\":null,\"module\":null,\"name\":\"click1\",\"overrides\":[],\"properties\":[{\"default\":\"\",\"kind\":null,\"name\":\"terminal_output\"},{\"default\":\"\",\"kind\":null,\"name\":\"debug_name\"},{\"default\":0,\"kind\":null,\"name\":\"clears\"}]},{\"extends\":null,\"module\":null,\"name\":\"TemplateActions1\",\"overrides\":[],\"properties\":[{\"default\":0,\"kind\":null,\"name\":\"open_modal\"},{\"default\":0,\"kind\":null,\"name\":\"close_modal\"}]},{\"extends\":null,\"module\":null,\"name\":\"MaterialTemplateActions1\",\"overrides\":[],\"properties\":[{\"default\":0,\"kind\":null,\"name\":\"open_modal\"},{\"default\":0,\"kind\":null,\"name\":\"close_modal\"}]}],\"roots\":{\"references\":[{\"attributes\":{\"angle\":{\"value\":0.0},\"fill_alpha\":{\"value\":0.7},\"fill_color\":{\"value\":\"#fc4f30\"},\"hatch_alpha\":{\"value\":0.7},\"hatch_color\":{\"value\":\"#fc4f30\"},\"hatch_scale\":{\"value\":12.0},\"hatch_weight\":{\"value\":1.0},\"line_alpha\":{\"value\":0.7},\"line_cap\":{\"value\":\"butt\"},\"line_color\":{\"value\":\"#fc4f30\"},\"line_dash\":{\"value\":[]},\"line_dash_offset\":{\"value\":0},\"line_join\":{\"value\":\"bevel\"},\"line_width\":{\"value\":1},\"marker\":{\"value\":\"circle\"},\"size\":{\"value\":8.94427190999916},\"x\":{\"field\":\"GDP\"},\"y\":{\"field\":\"WHEAT_PPI\"}},\"id\":\"2420\",\"type\":\"Scatter\"},{\"attributes\":{\"angle\":{\"value\":0.0},\"fill_alpha\":{\"value\":0.7},\"fill_color\":{\"value\":\"#1f77b4\"},\"hatch_alpha\":{\"value\":0.7},\"hatch_color\":{\"value\":\"#1f77b4\"},\"hatch_scale\":{\"value\":12.0},\"hatch_weight\":{\"value\":1.0},\"line_alpha\":{\"value\":0.7},\"line_cap\":{\"value\":\"butt\"},\"line_color\":{\"value\":\"#1f77b4\"},\"line_dash\":{\"value\":[]},\"line_dash_offset\":{\"value\":0},\"line_join\":{\"value\":\"bevel\"},\"line_width\":{\"value\":1},\"marker\":{\"value\":\"circle\"},\"size\":{\"value\":8.94427190999916},\"x\":{\"field\":\"GDP\"},\"y\":{\"field\":\"WHEAT_PPI\"}},\"id\":\"2375\",\"type\":\"Scatter\"},{\"attributes\":{\"data\":{\"AREA\":[\"Sweden\"],\"GDP\":{\"__ndarray__\":\"FM5uLQs73UA=\",\"dtype\":\"float64\",\"order\":\"little\",\"shape\":[1]},\"WHEAT_PPI\":{\"__ndarray__\":\"XI/C9SisUkA=\",\"dtype\":\"float64\",\"order\":\"little\",\"shape\":[1]}},\"selected\":{\"id\":\"2440\"},\"selection_policy\":{\"id\":\"2529\"}},\"id\":\"2439\",\"type\":\"ColumnDataSource\"},{\"attributes\":{\"coordinates\":null,\"data_source\":{\"id\":\"2421\"},\"glyph\":{\"id\":\"2424\"},\"group\":null,\"hover_glyph\":null,\"muted_glyph\":{\"id\":\"2426\"},\"nonselection_glyph\":{\"id\":\"2425\"},\"selection_glyph\":{\"id\":\"2429\"},\"view\":{\"id\":\"2428\"}},\"id\":\"2427\",\"type\":\"GlyphRenderer\"},{\"attributes\":{\"data\":{\"AREA\":[\"Portugal\"],\"GDP\":{\"__ndarray__\":\"mS7E6gAS00A=\",\"dtype\":\"float64\",\"order\":\"little\",\"shape\":[1]},\"WHEAT_PPI\":{\"__ndarray__\":\"16NwPQrHUEA=\",\"dtype\":\"float64\",\"order\":\"little\",\"shape\":[1]}},\"selected\":{\"id\":\"2395\"},\"selection_policy\":{\"id\":\"2519\"}},\"id\":\"2394\",\"type\":\"ColumnDataSource\"},{\"attributes\":{\"coordinates\":null,\"data_source\":{\"id\":\"2376\"},\"glyph\":{\"id\":\"2379\"},\"group\":null,\"hover_glyph\":null,\"muted_glyph\":{\"id\":\"2381\"},\"nonselection_glyph\":{\"id\":\"2380\"},\"selection_glyph\":{\"id\":\"2384\"},\"view\":{\"id\":\"2383\"}},\"id\":\"2382\",\"type\":\"GlyphRenderer\"},{\"attributes\":{\"data\":{\"AREA\":[\"Austria\"],\"GDP\":{\"__ndarray__\":\"iL67ld0C3UA=\",\"dtype\":\"float64\",\"order\":\"little\",\"shape\":[1]},\"WHEAT_PPI\":{\"__ndarray__\":\"H4XrUbi+VEA=\",\"dtype\":\"float64\",\"order\":\"little\",\"shape\":[1]}},\"selected\":{\"id\":\"2188\"},\"selection_policy\":{\"id\":\"2473\"}},\"id\":\"2187\",\"type\":\"ColumnDataSource\"},{\"attributes\":{},\"id\":\"2422\",\"type\":\"Selection\"},{\"attributes\":{\"source\":{\"id\":\"2421\"}},\"id\":\"2428\",\"type\":\"CDSView\"},{\"attributes\":{},\"id\":\"2377\",\"type\":\"Selection\"},{\"attributes\":{\"source\":{\"id\":\"2376\"}},\"id\":\"2383\",\"type\":\"CDSView\"},{\"attributes\":{\"fill_alpha\":{\"value\":0.7},\"fill_color\":{\"value\":\"#e5ae38\"},\"hatch_alpha\":{\"value\":0.1},\"hatch_color\":{\"value\":\"#e5ae38\"},\"line_alpha\":{\"value\":0.7},\"line_color\":{\"value\":\"#e5ae38\"},\"size\":{\"value\":8.94427190999916},\"x\":{\"field\":\"GDP\"},\"y\":{\"field\":\"WHEAT_PPI\"}},\"id\":\"2425\",\"type\":\"Scatter\"},{\"attributes\":{\"fill_alpha\":{\"value\":0.7},\"fill_color\":{\"value\":\"#e377c2\"},\"hatch_alpha\":{\"value\":0.1},\"hatch_color\":{\"value\":\"#e377c2\"},\"line_alpha\":{\"value\":0.7},\"line_color\":{\"value\":\"#e377c2\"},\"size\":{\"value\":8.94427190999916},\"x\":{\"field\":\"GDP\"},\"y\":{\"field\":\"WHEAT_PPI\"}},\"id\":\"2380\",\"type\":\"Scatter\"},{\"attributes\":{\"fill_alpha\":{\"value\":0.2},\"fill_color\":{\"value\":\"#8b8b8b\"},\"hatch_alpha\":{\"value\":0.2},\"hatch_color\":{\"value\":\"#8b8b8b\"},\"line_alpha\":{\"value\":0.2},\"line_color\":{\"value\":\"#8b8b8b\"},\"size\":{\"value\":8.94427190999916},\"x\":{\"field\":\"GDP\"},\"y\":{\"field\":\"WHEAT_PPI\"}},\"id\":\"2444\",\"type\":\"Scatter\"},{\"attributes\":{\"fill_alpha\":{\"value\":0.7},\"fill_color\":{\"value\":\"#e5ae38\"},\"hatch_alpha\":{\"value\":0.7},\"hatch_color\":{\"value\":\"#e5ae38\"},\"line_alpha\":{\"value\":0.7},\"line_color\":{\"value\":\"#e5ae38\"},\"size\":{\"value\":8.94427190999916},\"x\":{\"field\":\"GDP\"},\"y\":{\"field\":\"WHEAT_PPI\"}},\"id\":\"2424\",\"type\":\"Scatter\"},{\"attributes\":{\"fill_alpha\":{\"value\":0.7},\"fill_color\":{\"value\":\"#e377c2\"},\"hatch_alpha\":{\"value\":0.7},\"hatch_color\":{\"value\":\"#e377c2\"},\"line_alpha\":{\"value\":0.7},\"line_color\":{\"value\":\"#e377c2\"},\"size\":{\"value\":8.94427190999916},\"x\":{\"field\":\"GDP\"},\"y\":{\"field\":\"WHEAT_PPI\"}},\"id\":\"2379\",\"type\":\"Scatter\"},{\"attributes\":{},\"id\":\"2503\",\"type\":\"UnionRenderers\"},{\"attributes\":{\"data\":{\"AREA\":[\"Spain\"],\"GDP\":{\"__ndarray__\":\"PZgUHxJ21kA=\",\"dtype\":\"float64\",\"order\":\"little\",\"shape\":[1]},\"WHEAT_PPI\":{\"__ndarray__\":\"9ihcj8L1UkA=\",\"dtype\":\"float64\",\"order\":\"little\",\"shape\":[1]}},\"selected\":{\"id\":\"2431\"},\"selection_policy\":{\"id\":\"2527\"}},\"id\":\"2430\",\"type\":\"ColumnDataSource\"},{\"attributes\":{\"angle\":{\"value\":0.0},\"fill_alpha\":{\"value\":0.7},\"fill_color\":{\"value\":\"#e5ae38\"},\"hatch_alpha\":{\"value\":0.7},\"hatch_color\":{\"value\":\"#e5ae38\"},\"hatch_scale\":{\"value\":12.0},\"hatch_weight\":{\"value\":1.0},\"line_alpha\":{\"value\":0.7},\"line_cap\":{\"value\":\"butt\"},\"line_color\":{\"value\":\"#e5ae38\"},\"line_dash\":{\"value\":[]},\"line_dash_offset\":{\"value\":0},\"line_join\":{\"value\":\"bevel\"},\"line_width\":{\"value\":1},\"marker\":{\"value\":\"circle\"},\"size\":{\"value\":8.94427190999916},\"x\":{\"field\":\"GDP\"},\"y\":{\"field\":\"WHEAT_PPI\"}},\"id\":\"2429\",\"type\":\"Scatter\"},{\"attributes\":{},\"id\":\"2491\",\"type\":\"UnionRenderers\"},{\"attributes\":{\"data\":{\"AREA\":[\"Poland\"],\"GDP\":{\"__ndarray__\":\"UaG6uU64xUA=\",\"dtype\":\"float64\",\"order\":\"little\",\"shape\":[1]},\"WHEAT_PPI\":{\"__ndarray__\":\"AAAAAAAwU0A=\",\"dtype\":\"float64\",\"order\":\"little\",\"shape\":[1]}},\"selected\":{\"id\":\"2386\"},\"selection_policy\":{\"id\":\"2517\"}},\"id\":\"2385\",\"type\":\"ColumnDataSource\"},{\"attributes\":{\"angle\":{\"value\":0.0},\"fill_alpha\":{\"value\":0.7},\"fill_color\":{\"value\":\"#e377c2\"},\"hatch_alpha\":{\"value\":0.7},\"hatch_color\":{\"value\":\"#e377c2\"},\"hatch_scale\":{\"value\":12.0},\"hatch_weight\":{\"value\":1.0},\"line_alpha\":{\"value\":0.7},\"line_cap\":{\"value\":\"butt\"},\"line_color\":{\"value\":\"#e377c2\"},\"line_dash\":{\"value\":[]},\"line_dash_offset\":{\"value\":0},\"line_join\":{\"value\":\"bevel\"},\"line_width\":{\"value\":1},\"marker\":{\"value\":\"circle\"},\"size\":{\"value\":8.94427190999916},\"x\":{\"field\":\"GDP\"},\"y\":{\"field\":\"WHEAT_PPI\"}},\"id\":\"2384\",\"type\":\"Scatter\"},{\"attributes\":{\"fill_alpha\":{\"value\":0.2},\"fill_color\":{\"value\":\"#e5ae38\"},\"hatch_alpha\":{\"value\":0.2},\"hatch_color\":{\"value\":\"#e5ae38\"},\"line_alpha\":{\"value\":0.2},\"line_color\":{\"value\":\"#e5ae38\"},\"size\":{\"value\":8.94427190999916},\"x\":{\"field\":\"GDP\"},\"y\":{\"field\":\"WHEAT_PPI\"}},\"id\":\"2426\",\"type\":\"Scatter\"},{\"attributes\":{\"fill_alpha\":{\"value\":0.2},\"fill_color\":{\"value\":\"#e377c2\"},\"hatch_alpha\":{\"value\":0.2},\"hatch_color\":{\"value\":\"#e377c2\"},\"line_alpha\":{\"value\":0.2},\"line_color\":{\"value\":\"#e377c2\"},\"size\":{\"value\":8.94427190999916},\"x\":{\"field\":\"GDP\"},\"y\":{\"field\":\"WHEAT_PPI\"}},\"id\":\"2381\",\"type\":\"Scatter\"},{\"attributes\":{},\"id\":\"2431\",\"type\":\"Selection\"},{\"attributes\":{},\"id\":\"2386\",\"type\":\"Selection\"},{\"attributes\":{\"coordinates\":null,\"data_source\":{\"id\":\"2430\"},\"glyph\":{\"id\":\"2433\"},\"group\":null,\"hover_glyph\":null,\"muted_glyph\":{\"id\":\"2435\"},\"nonselection_glyph\":{\"id\":\"2434\"},\"selection_glyph\":{\"id\":\"2438\"},\"view\":{\"id\":\"2437\"}},\"id\":\"2436\",\"type\":\"GlyphRenderer\"},{\"attributes\":{\"coordinates\":null,\"data_source\":{\"id\":\"2385\"},\"glyph\":{\"id\":\"2388\"},\"group\":null,\"hover_glyph\":null,\"muted_glyph\":{\"id\":\"2390\"},\"nonselection_glyph\":{\"id\":\"2389\"},\"selection_glyph\":{\"id\":\"2393\"},\"view\":{\"id\":\"2392\"}},\"id\":\"2391\",\"type\":\"GlyphRenderer\"},{\"attributes\":{\"fill_alpha\":{\"value\":0.7},\"fill_color\":{\"value\":\"#8b8b8b\"},\"hatch_alpha\":{\"value\":0.7},\"hatch_color\":{\"value\":\"#8b8b8b\"},\"line_alpha\":{\"value\":0.7},\"line_color\":{\"value\":\"#8b8b8b\"},\"size\":{\"value\":8.94427190999916},\"x\":{\"field\":\"GDP\"},\"y\":{\"field\":\"WHEAT_PPI\"}},\"id\":\"2442\",\"type\":\"Scatter\"},{\"attributes\":{\"source\":{\"id\":\"2430\"}},\"id\":\"2437\",\"type\":\"CDSView\"},{\"attributes\":{\"source\":{\"id\":\"2385\"}},\"id\":\"2392\",\"type\":\"CDSView\"},{\"attributes\":{\"fill_alpha\":{\"value\":0.7},\"fill_color\":{\"value\":\"#6d904f\"},\"hatch_alpha\":{\"value\":0.1},\"hatch_color\":{\"value\":\"#6d904f\"},\"line_alpha\":{\"value\":0.7},\"line_color\":{\"value\":\"#6d904f\"},\"size\":{\"value\":8.94427190999916},\"x\":{\"field\":\"GDP\"},\"y\":{\"field\":\"WHEAT_PPI\"}},\"id\":\"2434\",\"type\":\"Scatter\"},{\"attributes\":{\"fill_alpha\":{\"value\":0.7},\"fill_color\":{\"value\":\"#8c564b\"},\"hatch_alpha\":{\"value\":0.1},\"hatch_color\":{\"value\":\"#8c564b\"},\"line_alpha\":{\"value\":0.7},\"line_color\":{\"value\":\"#8c564b\"},\"size\":{\"value\":8.94427190999916},\"x\":{\"field\":\"GDP\"},\"y\":{\"field\":\"WHEAT_PPI\"}},\"id\":\"2389\",\"type\":\"Scatter\"},{\"attributes\":{},\"id\":\"2507\",\"type\":\"UnionRenderers\"},{\"attributes\":{\"fill_alpha\":{\"value\":0.7},\"fill_color\":{\"value\":\"#6d904f\"},\"hatch_alpha\":{\"value\":0.7},\"hatch_color\":{\"value\":\"#6d904f\"},\"line_alpha\":{\"value\":0.7},\"line_color\":{\"value\":\"#6d904f\"},\"size\":{\"value\":8.94427190999916},\"x\":{\"field\":\"GDP\"},\"y\":{\"field\":\"WHEAT_PPI\"}},\"id\":\"2433\",\"type\":\"Scatter\"},{\"attributes\":{\"fill_alpha\":{\"value\":0.7},\"fill_color\":{\"value\":\"#8c564b\"},\"hatch_alpha\":{\"value\":0.7},\"hatch_color\":{\"value\":\"#8c564b\"},\"line_alpha\":{\"value\":0.7},\"line_color\":{\"value\":\"#8c564b\"},\"size\":{\"value\":8.94427190999916},\"x\":{\"field\":\"GDP\"},\"y\":{\"field\":\"WHEAT_PPI\"}},\"id\":\"2388\",\"type\":\"Scatter\"},{\"attributes\":{},\"id\":\"2505\",\"type\":\"UnionRenderers\"},{\"attributes\":{},\"id\":\"2477\",\"type\":\"UnionRenderers\"},{\"attributes\":{\"children\":[{\"id\":\"2112\"}],\"margin\":[0,0,0,0],\"name\":\"Row05846\",\"sizing_mode\":\"stretch_width\"},\"id\":\"2111\",\"type\":\"Row\"},{\"attributes\":{\"children\":[{\"id\":\"2113\"},{\"id\":\"2117\"}],\"margin\":[0,0,0,0],\"name\":\"Column05845\",\"sizing_mode\":\"stretch_width\"},\"id\":\"2112\",\"type\":\"Column\"},{\"attributes\":{\"angle\":{\"value\":0.0},\"fill_alpha\":{\"value\":0.7},\"fill_color\":{\"value\":\"#6d904f\"},\"hatch_alpha\":{\"value\":0.7},\"hatch_color\":{\"value\":\"#6d904f\"},\"hatch_scale\":{\"value\":12.0},\"hatch_weight\":{\"value\":1.0},\"line_alpha\":{\"value\":0.7},\"line_cap\":{\"value\":\"butt\"},\"line_color\":{\"value\":\"#6d904f\"},\"line_dash\":{\"value\":[]},\"line_dash_offset\":{\"value\":0},\"line_join\":{\"value\":\"bevel\"},\"line_width\":{\"value\":1},\"marker\":{\"value\":\"circle\"},\"size\":{\"value\":8.94427190999916},\"x\":{\"field\":\"GDP\"},\"y\":{\"field\":\"WHEAT_PPI\"}},\"id\":\"2438\",\"type\":\"Scatter\"},{\"attributes\":{\"children\":[{\"id\":\"2114\"},{\"id\":\"2116\"}],\"margin\":[0,0,0,0],\"name\":\"Row05844\",\"sizing_mode\":\"stretch_width\"},\"id\":\"2113\",\"type\":\"Row\"},{\"attributes\":{\"angle\":{\"value\":0.0},\"fill_alpha\":{\"value\":0.7},\"fill_color\":{\"value\":\"#8c564b\"},\"hatch_alpha\":{\"value\":0.7},\"hatch_color\":{\"value\":\"#8c564b\"},\"hatch_scale\":{\"value\":12.0},\"hatch_weight\":{\"value\":1.0},\"line_alpha\":{\"value\":0.7},\"line_cap\":{\"value\":\"butt\"},\"line_color\":{\"value\":\"#8c564b\"},\"line_dash\":{\"value\":[]},\"line_dash_offset\":{\"value\":0},\"line_join\":{\"value\":\"bevel\"},\"line_width\":{\"value\":1},\"marker\":{\"value\":\"circle\"},\"size\":{\"value\":8.94427190999916},\"x\":{\"field\":\"GDP\"},\"y\":{\"field\":\"WHEAT_PPI\"}},\"id\":\"2393\",\"type\":\"Scatter\"},{\"attributes\":{\"fill_alpha\":{\"value\":0.2},\"fill_color\":{\"value\":\"#6d904f\"},\"hatch_alpha\":{\"value\":0.2},\"hatch_color\":{\"value\":\"#6d904f\"},\"line_alpha\":{\"value\":0.2},\"line_color\":{\"value\":\"#6d904f\"},\"size\":{\"value\":8.94427190999916},\"x\":{\"field\":\"GDP\"},\"y\":{\"field\":\"WHEAT_PPI\"}},\"id\":\"2435\",\"type\":\"Scatter\"},{\"attributes\":{\"children\":[{\"id\":\"2115\"}],\"margin\":[0,0,0,0],\"name\":\"Column05121\",\"sizing_mode\":\"stretch_width\"},\"id\":\"2114\",\"type\":\"Column\"},{\"attributes\":{\"fill_alpha\":{\"value\":0.2},\"fill_color\":{\"value\":\"#8c564b\"},\"hatch_alpha\":{\"value\":0.2},\"hatch_color\":{\"value\":\"#8c564b\"},\"line_alpha\":{\"value\":0.2},\"line_color\":{\"value\":\"#8c564b\"},\"size\":{\"value\":8.94427190999916},\"x\":{\"field\":\"GDP\"},\"y\":{\"field\":\"WHEAT_PPI\"}},\"id\":\"2390\",\"type\":\"Scatter\"},{\"attributes\":{\"bar_color\":\"#348796\",\"end\":2021,\"margin\":[5,10,5,10],\"sizing_mode\":\"stretch_width\",\"start\":2000,\"title\":\"Year\",\"value\":2001},\"id\":\"2115\",\"type\":\"Slider\"},{\"attributes\":{\"coordinates\":null,\"data_source\":{\"id\":\"2439\"},\"glyph\":{\"id\":\"2442\"},\"group\":null,\"hover_glyph\":null,\"muted_glyph\":{\"id\":\"2444\"},\"nonselection_glyph\":{\"id\":\"2443\"},\"selection_glyph\":{\"id\":\"2447\"},\"view\":{\"id\":\"2446\"}},\"id\":\"2445\",\"type\":\"GlyphRenderer\"},{\"attributes\":{\"fill_alpha\":{\"value\":0.7},\"fill_color\":{\"value\":\"#bcbd22\"},\"hatch_alpha\":{\"value\":0.7},\"hatch_color\":{\"value\":\"#bcbd22\"},\"line_alpha\":{\"value\":0.7},\"line_color\":{\"value\":\"#bcbd22\"},\"size\":{\"value\":8.94427190999916},\"x\":{\"field\":\"GDP\"},\"y\":{\"field\":\"WHEAT_PPI\"}},\"id\":\"2397\",\"type\":\"Scatter\"},{\"attributes\":{\"margin\":[5,5,5,5],\"name\":\"HSpacer05843\",\"sizing_mode\":\"stretch_width\"},\"id\":\"2116\",\"type\":\"Spacer\"},{\"attributes\":{\"children\":[{\"id\":\"2151\"}],\"margin\":[0,0,0,0],\"name\":\"Row05126\",\"sizing_mode\":\"stretch_width\"},\"id\":\"2117\",\"type\":\"Row\"},{\"attributes\":{\"data\":{\"AREA\":[\"Slovakia\"],\"GDP\":{\"__ndarray__\":\"TyFX6jMxyEA=\",\"dtype\":\"float64\",\"order\":\"little\",\"shape\":[1]},\"WHEAT_PPI\":{\"__ndarray__\":\"FK5H4Xo0WkA=\",\"dtype\":\"float64\",\"order\":\"little\",\"shape\":[1]}},\"selected\":{\"id\":\"2413\"},\"selection_policy\":{\"id\":\"2523\"}},\"id\":\"2412\",\"type\":\"ColumnDataSource\"},{\"attributes\":{},\"id\":\"2440\",\"type\":\"Selection\"},{\"attributes\":{},\"id\":\"2493\",\"type\":\"UnionRenderers\"},{\"attributes\":{},\"id\":\"2395\",\"type\":\"Selection\"},{\"attributes\":{\"fill_alpha\":{\"value\":0.7},\"fill_color\":{\"value\":\"#8b8b8b\"},\"hatch_alpha\":{\"value\":0.1},\"hatch_color\":{\"value\":\"#8b8b8b\"},\"line_alpha\":{\"value\":0.7},\"line_color\":{\"value\":\"#8b8b8b\"},\"size\":{\"value\":8.94427190999916},\"x\":{\"field\":\"GDP\"},\"y\":{\"field\":\"WHEAT_PPI\"}},\"id\":\"2443\",\"type\":\"Scatter\"},{\"attributes\":{\"source\":{\"id\":\"2304\"}},\"id\":\"2311\",\"type\":\"CDSView\"},{\"attributes\":{\"fill_alpha\":{\"value\":0.7},\"fill_color\":{\"value\":\"#fc4f30\"},\"hatch_alpha\":{\"value\":0.7},\"hatch_color\":{\"value\":\"#fc4f30\"},\"line_alpha\":{\"value\":0.7},\"line_color\":{\"value\":\"#fc4f30\"},\"size\":{\"value\":8.94427190999916},\"x\":{\"field\":\"GDP\"},\"y\":{\"field\":\"WHEAT_PPI\"}},\"id\":\"2307\",\"type\":\"Scatter\"},{\"attributes\":{\"coordinates\":null,\"data_source\":{\"id\":\"2277\"},\"glyph\":{\"id\":\"2280\"},\"group\":null,\"hover_glyph\":null,\"muted_glyph\":{\"id\":\"2282\"},\"nonselection_glyph\":{\"id\":\"2281\"},\"selection_glyph\":{\"id\":\"2285\"},\"view\":{\"id\":\"2284\"}},\"id\":\"2283\",\"type\":\"GlyphRenderer\"},{\"attributes\":{},\"id\":\"2475\",\"type\":\"UnionRenderers\"},{\"attributes\":{\"source\":{\"id\":\"2277\"}},\"id\":\"2284\",\"type\":\"CDSView\"},{\"attributes\":{\"fill_alpha\":{\"value\":0.2},\"fill_color\":{\"value\":\"#8c564b\"},\"hatch_alpha\":{\"value\":0.2},\"hatch_color\":{\"value\":\"#8c564b\"},\"line_alpha\":{\"value\":0.2},\"line_color\":{\"value\":\"#8c564b\"},\"size\":{\"value\":8.94427190999916},\"x\":{\"field\":\"GDP\"},\"y\":{\"field\":\"WHEAT_PPI\"}},\"id\":\"2282\",\"type\":\"Scatter\"},{\"attributes\":{\"angle\":{\"value\":0.0},\"fill_alpha\":{\"value\":0.7},\"fill_color\":{\"value\":\"#8c564b\"},\"hatch_alpha\":{\"value\":0.7},\"hatch_color\":{\"value\":\"#8c564b\"},\"hatch_scale\":{\"value\":12.0},\"hatch_weight\":{\"value\":1.0},\"line_alpha\":{\"value\":0.7},\"line_cap\":{\"value\":\"butt\"},\"line_color\":{\"value\":\"#8c564b\"},\"line_dash\":{\"value\":[]},\"line_dash_offset\":{\"value\":0},\"line_join\":{\"value\":\"bevel\"},\"line_width\":{\"value\":1},\"marker\":{\"value\":\"circle\"},\"size\":{\"value\":8.94427190999916},\"x\":{\"field\":\"GDP\"},\"y\":{\"field\":\"WHEAT_PPI\"}},\"id\":\"2285\",\"type\":\"Scatter\"},{\"attributes\":{\"angle\":{\"value\":0.0},\"fill_alpha\":{\"value\":0.7},\"fill_color\":{\"value\":\"#8b8b8b\"},\"hatch_alpha\":{\"value\":0.7},\"hatch_color\":{\"value\":\"#8b8b8b\"},\"hatch_scale\":{\"value\":12.0},\"hatch_weight\":{\"value\":1.0},\"line_alpha\":{\"value\":0.7},\"line_cap\":{\"value\":\"butt\"},\"line_color\":{\"value\":\"#8b8b8b\"},\"line_dash\":{\"value\":[]},\"line_dash_offset\":{\"value\":0},\"line_join\":{\"value\":\"bevel\"},\"line_width\":{\"value\":1},\"marker\":{\"value\":\"circle\"},\"size\":{\"value\":8.94427190999916},\"x\":{\"field\":\"GDP\"},\"y\":{\"field\":\"WHEAT_PPI\"}},\"id\":\"2447\",\"type\":\"Scatter\"},{\"attributes\":{},\"id\":\"2515\",\"type\":\"UnionRenderers\"},{\"attributes\":{},\"id\":\"2497\",\"type\":\"UnionRenderers\"},{\"attributes\":{},\"id\":\"2517\",\"type\":\"UnionRenderers\"},{\"attributes\":{\"coordinates\":null,\"data_source\":{\"id\":\"2304\"},\"glyph\":{\"id\":\"2307\"},\"group\":null,\"hover_glyph\":null,\"muted_glyph\":{\"id\":\"2309\"},\"nonselection_glyph\":{\"id\":\"2308\"},\"selection_glyph\":{\"id\":\"2312\"},\"view\":{\"id\":\"2311\"}},\"id\":\"2310\",\"type\":\"GlyphRenderer\"},{\"attributes\":{\"coordinates\":null,\"data_source\":{\"id\":\"2448\"},\"glyph\":{\"id\":\"2451\"},\"group\":null,\"hover_glyph\":null,\"muted_glyph\":{\"id\":\"2453\"},\"nonselection_glyph\":{\"id\":\"2452\"},\"selection_glyph\":{\"id\":\"2456\"},\"view\":{\"id\":\"2455\"}},\"id\":\"2454\",\"type\":\"GlyphRenderer\"},{\"attributes\":{},\"id\":\"2489\",\"type\":\"UnionRenderers\"},{\"attributes\":{\"fill_alpha\":{\"value\":0.2},\"fill_color\":{\"value\":\"#6d904f\"},\"hatch_alpha\":{\"value\":0.2},\"hatch_color\":{\"value\":\"#6d904f\"},\"line_alpha\":{\"value\":0.2},\"line_color\":{\"value\":\"#6d904f\"},\"size\":{\"value\":8.94427190999916},\"x\":{\"field\":\"GDP\"},\"y\":{\"field\":\"WHEAT_PPI\"}},\"id\":\"2327\",\"type\":\"Scatter\"},{\"attributes\":{\"angle\":{\"value\":0.0},\"fill_alpha\":{\"value\":0.7},\"fill_color\":{\"value\":\"#fc4f30\"},\"hatch_alpha\":{\"value\":0.7},\"hatch_color\":{\"value\":\"#fc4f30\"},\"hatch_scale\":{\"value\":12.0},\"hatch_weight\":{\"value\":1.0},\"line_alpha\":{\"value\":0.7},\"line_cap\":{\"value\":\"butt\"},\"line_color\":{\"value\":\"#fc4f30\"},\"line_dash\":{\"value\":[]},\"line_dash_offset\":{\"value\":0},\"line_join\":{\"value\":\"bevel\"},\"line_width\":{\"value\":1},\"marker\":{\"value\":\"circle\"},\"size\":{\"value\":8.94427190999916},\"x\":{\"field\":\"GDP\"},\"y\":{\"field\":\"WHEAT_PPI\"}},\"id\":\"2312\",\"type\":\"Scatter\"},{\"attributes\":{\"angle\":{\"value\":0.0},\"fill_alpha\":{\"value\":0.7},\"fill_color\":{\"value\":\"#bcbd22\"},\"hatch_alpha\":{\"value\":0.7},\"hatch_color\":{\"value\":\"#bcbd22\"},\"hatch_scale\":{\"value\":12.0},\"hatch_weight\":{\"value\":1.0},\"line_alpha\":{\"value\":0.7},\"line_cap\":{\"value\":\"butt\"},\"line_color\":{\"value\":\"#bcbd22\"},\"line_dash\":{\"value\":[]},\"line_dash_offset\":{\"value\":0},\"line_join\":{\"value\":\"bevel\"},\"line_width\":{\"value\":1},\"marker\":{\"value\":\"circle\"},\"size\":{\"value\":8.94427190999916},\"x\":{\"field\":\"GDP\"},\"y\":{\"field\":\"WHEAT_PPI\"}},\"id\":\"2294\",\"type\":\"Scatter\"},{\"attributes\":{},\"id\":\"2449\",\"type\":\"Selection\"},{\"attributes\":{\"fill_alpha\":{\"value\":0.7},\"fill_color\":{\"value\":\"#fc4f30\"},\"hatch_alpha\":{\"value\":0.1},\"hatch_color\":{\"value\":\"#fc4f30\"},\"line_alpha\":{\"value\":0.7},\"line_color\":{\"value\":\"#fc4f30\"},\"size\":{\"value\":8.94427190999916},\"x\":{\"field\":\"GDP\"},\"y\":{\"field\":\"WHEAT_PPI\"}},\"id\":\"2308\",\"type\":\"Scatter\"},{\"attributes\":{\"data\":{\"AREA\":[\"Ireland\"],\"GDP\":{\"__ndarray__\":\"PX5v0zvU30A=\",\"dtype\":\"float64\",\"order\":\"little\",\"shape\":[1]},\"WHEAT_PPI\":{\"__ndarray__\":\"16NwPQoHU0A=\",\"dtype\":\"float64\",\"order\":\"little\",\"shape\":[1]}},\"selected\":{\"id\":\"2314\"},\"selection_policy\":{\"id\":\"2501\"}},\"id\":\"2313\",\"type\":\"ColumnDataSource\"},{\"attributes\":{\"source\":{\"id\":\"2448\"}},\"id\":\"2455\",\"type\":\"CDSView\"},{\"attributes\":{\"fill_alpha\":{\"value\":0.2},\"fill_color\":{\"value\":\"#fc4f30\"},\"hatch_alpha\":{\"value\":0.2},\"hatch_color\":{\"value\":\"#fc4f30\"},\"line_alpha\":{\"value\":0.2},\"line_color\":{\"value\":\"#fc4f30\"},\"size\":{\"value\":8.94427190999916},\"x\":{\"field\":\"GDP\"},\"y\":{\"field\":\"WHEAT_PPI\"}},\"id\":\"2309\",\"type\":\"Scatter\"},{\"attributes\":{\"source\":{\"id\":\"2286\"}},\"id\":\"2293\",\"type\":\"CDSView\"},{\"attributes\":{\"fill_alpha\":{\"value\":0.7},\"fill_color\":{\"value\":\"#17becf\"},\"hatch_alpha\":{\"value\":0.1},\"hatch_color\":{\"value\":\"#17becf\"},\"line_alpha\":{\"value\":0.7},\"line_color\":{\"value\":\"#17becf\"},\"size\":{\"value\":8.94427190999916},\"x\":{\"field\":\"GDP\"},\"y\":{\"field\":\"WHEAT_PPI\"}},\"id\":\"2452\",\"type\":\"Scatter\"},{\"attributes\":{\"data\":{\"AREA\":[\"Italy\"],\"GDP\":{\"__ndarray__\":\"9tA+VtVg20A=\",\"dtype\":\"float64\",\"order\":\"little\",\"shape\":[1]},\"WHEAT_PPI\":{\"__ndarray__\":\"pHA9CtcTVUA=\",\"dtype\":\"float64\",\"order\":\"little\",\"shape\":[1]}},\"selected\":{\"id\":\"2323\"},\"selection_policy\":{\"id\":\"2503\"}},\"id\":\"2322\",\"type\":\"ColumnDataSource\"},{\"attributes\":{\"coordinates\":null,\"data_source\":{\"id\":\"2286\"},\"glyph\":{\"id\":\"2289\"},\"group\":null,\"hover_glyph\":null,\"muted_glyph\":{\"id\":\"2291\"},\"nonselection_glyph\":{\"id\":\"2290\"},\"selection_glyph\":{\"id\":\"2294\"},\"view\":{\"id\":\"2293\"}},\"id\":\"2292\",\"type\":\"GlyphRenderer\"},{\"attributes\":{\"fill_alpha\":{\"value\":0.7},\"fill_color\":{\"value\":\"#17becf\"},\"hatch_alpha\":{\"value\":0.7},\"hatch_color\":{\"value\":\"#17becf\"},\"line_alpha\":{\"value\":0.7},\"line_color\":{\"value\":\"#17becf\"},\"size\":{\"value\":8.94427190999916},\"x\":{\"field\":\"GDP\"},\"y\":{\"field\":\"WHEAT_PPI\"}},\"id\":\"2451\",\"type\":\"Scatter\"},{\"attributes\":{\"data\":{\"AREA\":[\"Japan\"],\"GDP\":{\"__ndarray__\":\"xAsiUoVK20A=\",\"dtype\":\"float64\",\"order\":\"little\",\"shape\":[1]},\"WHEAT_PPI\":{\"__ndarray__\":\"w/UoXI8AgUA=\",\"dtype\":\"float64\",\"order\":\"little\",\"shape\":[1]}},\"selected\":{\"id\":\"2332\"},\"selection_policy\":{\"id\":\"2505\"}},\"id\":\"2331\",\"type\":\"ColumnDataSource\"},{\"attributes\":{},\"id\":\"2481\",\"type\":\"UnionRenderers\"},{\"attributes\":{\"coordinates\":null,\"data_source\":{\"id\":\"2313\"},\"glyph\":{\"id\":\"2316\"},\"group\":null,\"hover_glyph\":null,\"muted_glyph\":{\"id\":\"2318\"},\"nonselection_glyph\":{\"id\":\"2317\"},\"selection_glyph\":{\"id\":\"2321\"},\"view\":{\"id\":\"2320\"}},\"id\":\"2319\",\"type\":\"GlyphRenderer\"},{\"attributes\":{},\"id\":\"2483\",\"type\":\"UnionRenderers\"},{\"attributes\":{\"source\":{\"id\":\"2313\"}},\"id\":\"2320\",\"type\":\"CDSView\"},{\"attributes\":{\"fill_alpha\":{\"value\":0.7},\"fill_color\":{\"value\":\"#e5ae38\"},\"hatch_alpha\":{\"value\":0.1},\"hatch_color\":{\"value\":\"#e5ae38\"},\"line_alpha\":{\"value\":0.7},\"line_color\":{\"value\":\"#e5ae38\"},\"size\":{\"value\":8.94427190999916},\"x\":{\"field\":\"GDP\"},\"y\":{\"field\":\"WHEAT_PPI\"}},\"id\":\"2317\",\"type\":\"Scatter\"},{\"attributes\":{},\"id\":\"2513\",\"type\":\"UnionRenderers\"},{\"attributes\":{\"data\":{\"AREA\":[\"Hungary\"],\"GDP\":{\"__ndarray__\":\"tw2jIADNyUA=\",\"dtype\":\"float64\",\"order\":\"little\",\"shape\":[1]},\"WHEAT_PPI\":{\"__ndarray__\":\"exSuR+EaSUA=\",\"dtype\":\"float64\",\"order\":\"little\",\"shape\":[1]}},\"selected\":{\"id\":\"2305\"},\"selection_policy\":{\"id\":\"2499\"}},\"id\":\"2304\",\"type\":\"ColumnDataSource\"},{\"attributes\":{\"fill_alpha\":{\"value\":0.7},\"fill_color\":{\"value\":\"#e5ae38\"},\"hatch_alpha\":{\"value\":0.7},\"hatch_color\":{\"value\":\"#e5ae38\"},\"line_alpha\":{\"value\":0.7},\"line_color\":{\"value\":\"#e5ae38\"},\"size\":{\"value\":8.94427190999916},\"x\":{\"field\":\"GDP\"},\"y\":{\"field\":\"WHEAT_PPI\"}},\"id\":\"2316\",\"type\":\"Scatter\"},{\"attributes\":{\"data\":{\"AREA\":[\"United States of America\"],\"GDP\":{\"__ndarray__\":\"hh3GJIkd4kA=\",\"dtype\":\"float64\",\"order\":\"little\",\"shape\":[1]},\"WHEAT_PPI\":{\"__ndarray__\":\"zczMzMwsTEA=\",\"dtype\":\"float64\",\"order\":\"little\",\"shape\":[1]}},\"selected\":{\"id\":\"2458\"},\"selection_policy\":{\"id\":\"2533\"}},\"id\":\"2457\",\"type\":\"ColumnDataSource\"},{\"attributes\":{\"angle\":{\"value\":0.0},\"fill_alpha\":{\"value\":0.7},\"fill_color\":{\"value\":\"#17becf\"},\"hatch_alpha\":{\"value\":0.7},\"hatch_color\":{\"value\":\"#17becf\"},\"hatch_scale\":{\"value\":12.0},\"hatch_weight\":{\"value\":1.0},\"line_alpha\":{\"value\":0.7},\"line_cap\":{\"value\":\"butt\"},\"line_color\":{\"value\":\"#17becf\"},\"line_dash\":{\"value\":[]},\"line_dash_offset\":{\"value\":0},\"line_join\":{\"value\":\"bevel\"},\"line_width\":{\"value\":1},\"marker\":{\"value\":\"circle\"},\"size\":{\"value\":8.94427190999916},\"x\":{\"field\":\"GDP\"},\"y\":{\"field\":\"WHEAT_PPI\"}},\"id\":\"2456\",\"type\":\"Scatter\"},{\"attributes\":{},\"id\":\"2479\",\"type\":\"UnionRenderers\"},{\"attributes\":{\"coordinates\":null,\"data_source\":{\"id\":\"2295\"},\"glyph\":{\"id\":\"2298\"},\"group\":null,\"hover_glyph\":null,\"muted_glyph\":{\"id\":\"2300\"},\"nonselection_glyph\":{\"id\":\"2299\"},\"selection_glyph\":{\"id\":\"2303\"},\"view\":{\"id\":\"2302\"}},\"id\":\"2301\",\"type\":\"GlyphRenderer\"},{\"attributes\":{\"fill_alpha\":{\"value\":0.2},\"fill_color\":{\"value\":\"#17becf\"},\"hatch_alpha\":{\"value\":0.2},\"hatch_color\":{\"value\":\"#17becf\"},\"line_alpha\":{\"value\":0.2},\"line_color\":{\"value\":\"#17becf\"},\"size\":{\"value\":8.94427190999916},\"x\":{\"field\":\"GDP\"},\"y\":{\"field\":\"WHEAT_PPI\"}},\"id\":\"2453\",\"type\":\"Scatter\"},{\"attributes\":{},\"id\":\"2499\",\"type\":\"UnionRenderers\"},{\"attributes\":{\"fill_alpha\":{\"value\":0.7},\"fill_color\":{\"value\":\"#6d904f\"},\"hatch_alpha\":{\"value\":0.7},\"hatch_color\":{\"value\":\"#6d904f\"},\"line_alpha\":{\"value\":0.7},\"line_color\":{\"value\":\"#6d904f\"},\"size\":{\"value\":8.94427190999916},\"x\":{\"field\":\"GDP\"},\"y\":{\"field\":\"WHEAT_PPI\"}},\"id\":\"2325\",\"type\":\"Scatter\"},{\"attributes\":{\"source\":{\"id\":\"2295\"}},\"id\":\"2302\",\"type\":\"CDSView\"},{\"attributes\":{},\"id\":\"2458\",\"type\":\"Selection\"},{\"attributes\":{\"fill_alpha\":{\"value\":0.7},\"fill_color\":{\"value\":\"#30a2da\"},\"hatch_alpha\":{\"value\":0.1},\"hatch_color\":{\"value\":\"#30a2da\"},\"line_alpha\":{\"value\":0.7},\"line_color\":{\"value\":\"#30a2da\"},\"size\":{\"value\":8.94427190999916},\"x\":{\"field\":\"GDP\"},\"y\":{\"field\":\"WHEAT_PPI\"}},\"id\":\"2299\",\"type\":\"Scatter\"},{\"attributes\":{\"coordinates\":null,\"data_source\":{\"id\":\"2457\"},\"glyph\":{\"id\":\"2460\"},\"group\":null,\"hover_glyph\":null,\"muted_glyph\":{\"id\":\"2462\"},\"nonselection_glyph\":{\"id\":\"2461\"},\"selection_glyph\":{\"id\":\"2465\"},\"view\":{\"id\":\"2464\"}},\"id\":\"2463\",\"type\":\"GlyphRenderer\"},{\"attributes\":{},\"id\":\"2314\",\"type\":\"Selection\"},{\"attributes\":{\"fill_alpha\":{\"value\":0.7},\"fill_color\":{\"value\":\"#30a2da\"},\"hatch_alpha\":{\"value\":0.7},\"hatch_color\":{\"value\":\"#30a2da\"},\"line_alpha\":{\"value\":0.7},\"line_color\":{\"value\":\"#30a2da\"},\"size\":{\"value\":8.94427190999916},\"x\":{\"field\":\"GDP\"},\"y\":{\"field\":\"WHEAT_PPI\"}},\"id\":\"2298\",\"type\":\"Scatter\"},{\"attributes\":{\"angle\":{\"value\":0.0},\"fill_alpha\":{\"value\":0.7},\"fill_color\":{\"value\":\"#e5ae38\"},\"hatch_alpha\":{\"value\":0.7},\"hatch_color\":{\"value\":\"#e5ae38\"},\"hatch_scale\":{\"value\":12.0},\"hatch_weight\":{\"value\":1.0},\"line_alpha\":{\"value\":0.7},\"line_cap\":{\"value\":\"butt\"},\"line_color\":{\"value\":\"#e5ae38\"},\"line_dash\":{\"value\":[]},\"line_dash_offset\":{\"value\":0},\"line_join\":{\"value\":\"bevel\"},\"line_width\":{\"value\":1},\"marker\":{\"value\":\"circle\"},\"size\":{\"value\":8.94427190999916},\"x\":{\"field\":\"GDP\"},\"y\":{\"field\":\"WHEAT_PPI\"}},\"id\":\"2321\",\"type\":\"Scatter\"},{\"attributes\":{\"source\":{\"id\":\"2457\"}},\"id\":\"2464\",\"type\":\"CDSView\"},{\"attributes\":{\"fill_alpha\":{\"value\":0.2},\"fill_color\":{\"value\":\"#e5ae38\"},\"hatch_alpha\":{\"value\":0.2},\"hatch_color\":{\"value\":\"#e5ae38\"},\"line_alpha\":{\"value\":0.2},\"line_color\":{\"value\":\"#e5ae38\"},\"size\":{\"value\":8.94427190999916},\"x\":{\"field\":\"GDP\"},\"y\":{\"field\":\"WHEAT_PPI\"}},\"id\":\"2318\",\"type\":\"Scatter\"},{\"attributes\":{\"fill_alpha\":{\"value\":0.7},\"fill_color\":{\"value\":\"#9467bd\"},\"hatch_alpha\":{\"value\":0.1},\"hatch_color\":{\"value\":\"#9467bd\"},\"line_alpha\":{\"value\":0.7},\"line_color\":{\"value\":\"#9467bd\"},\"size\":{\"value\":8.94427190999916},\"x\":{\"field\":\"GDP\"},\"y\":{\"field\":\"WHEAT_PPI\"}},\"id\":\"2461\",\"type\":\"Scatter\"},{\"attributes\":{\"fill_alpha\":{\"value\":0.7},\"fill_color\":{\"value\":\"#6d904f\"},\"hatch_alpha\":{\"value\":0.1},\"hatch_color\":{\"value\":\"#6d904f\"},\"line_alpha\":{\"value\":0.7},\"line_color\":{\"value\":\"#6d904f\"},\"size\":{\"value\":8.94427190999916},\"x\":{\"field\":\"GDP\"},\"y\":{\"field\":\"WHEAT_PPI\"}},\"id\":\"2326\",\"type\":\"Scatter\"},{\"attributes\":{},\"id\":\"2323\",\"type\":\"Selection\"},{\"attributes\":{\"fill_alpha\":{\"value\":0.7},\"fill_color\":{\"value\":\"#9467bd\"},\"hatch_alpha\":{\"value\":0.7},\"hatch_color\":{\"value\":\"#9467bd\"},\"line_alpha\":{\"value\":0.7},\"line_color\":{\"value\":\"#9467bd\"},\"size\":{\"value\":8.94427190999916},\"x\":{\"field\":\"GDP\"},\"y\":{\"field\":\"WHEAT_PPI\"}},\"id\":\"2460\",\"type\":\"Scatter\"},{\"attributes\":{},\"id\":\"2296\",\"type\":\"Selection\"},{\"attributes\":{\"angle\":{\"value\":0.0},\"fill_alpha\":{\"value\":0.7},\"fill_color\":{\"value\":\"#30a2da\"},\"hatch_alpha\":{\"value\":0.7},\"hatch_color\":{\"value\":\"#30a2da\"},\"hatch_scale\":{\"value\":12.0},\"hatch_weight\":{\"value\":1.0},\"line_alpha\":{\"value\":0.7},\"line_cap\":{\"value\":\"butt\"},\"line_color\":{\"value\":\"#30a2da\"},\"line_dash\":{\"value\":[]},\"line_dash_offset\":{\"value\":0},\"line_join\":{\"value\":\"bevel\"},\"line_width\":{\"value\":1},\"marker\":{\"value\":\"circle\"},\"size\":{\"value\":8.94427190999916},\"x\":{\"field\":\"GDP\"},\"y\":{\"field\":\"WHEAT_PPI\"}},\"id\":\"2303\",\"type\":\"Scatter\"},{\"attributes\":{\"fill_alpha\":{\"value\":0.2},\"fill_color\":{\"value\":\"#30a2da\"},\"hatch_alpha\":{\"value\":0.2},\"hatch_color\":{\"value\":\"#30a2da\"},\"line_alpha\":{\"value\":0.2},\"line_color\":{\"value\":\"#30a2da\"},\"size\":{\"value\":8.94427190999916},\"x\":{\"field\":\"GDP\"},\"y\":{\"field\":\"WHEAT_PPI\"}},\"id\":\"2300\",\"type\":\"Scatter\"},{\"attributes\":{\"source\":{\"id\":\"2358\"}},\"id\":\"2365\",\"type\":\"CDSView\"},{\"attributes\":{},\"id\":\"2501\",\"type\":\"UnionRenderers\"},{\"attributes\":{\"angle\":{\"value\":0.0},\"fill_alpha\":{\"value\":0.7},\"fill_color\":{\"value\":\"#9467bd\"},\"hatch_alpha\":{\"value\":0.7},\"hatch_color\":{\"value\":\"#9467bd\"},\"hatch_scale\":{\"value\":12.0},\"hatch_weight\":{\"value\":1.0},\"line_alpha\":{\"value\":0.7},\"line_cap\":{\"value\":\"butt\"},\"line_color\":{\"value\":\"#9467bd\"},\"line_dash\":{\"value\":[]},\"line_dash_offset\":{\"value\":0},\"line_join\":{\"value\":\"bevel\"},\"line_width\":{\"value\":1},\"marker\":{\"value\":\"circle\"},\"size\":{\"value\":8.94427190999916},\"x\":{\"field\":\"GDP\"},\"y\":{\"field\":\"WHEAT_PPI\"}},\"id\":\"2465\",\"type\":\"Scatter\"},{\"attributes\":{\"fill_alpha\":{\"value\":0.2},\"fill_color\":{\"value\":\"#9467bd\"},\"hatch_alpha\":{\"value\":0.2},\"hatch_color\":{\"value\":\"#9467bd\"},\"line_alpha\":{\"value\":0.2},\"line_color\":{\"value\":\"#9467bd\"},\"size\":{\"value\":8.94427190999916},\"x\":{\"field\":\"GDP\"},\"y\":{\"field\":\"WHEAT_PPI\"}},\"id\":\"2462\",\"type\":\"Scatter\"},{\"attributes\":{\"client_comm_id\":\"903cf679a3df4290ace9e62264c64673\",\"comm_id\":\"3ccca0d7a97b4435b71cefb3a347c7ce\",\"plot_id\":\"2111\"},\"id\":\"3306\",\"type\":\"panel.models.comm_manager.CommManager\"},{\"attributes\":{},\"id\":\"2305\",\"type\":\"Selection\"},{\"attributes\":{\"fill_alpha\":{\"value\":0.7},\"fill_color\":{\"value\":\"#30a2da\"},\"hatch_alpha\":{\"value\":0.1},\"hatch_color\":{\"value\":\"#30a2da\"},\"line_alpha\":{\"value\":0.7},\"line_color\":{\"value\":\"#30a2da\"},\"size\":{\"value\":8.94427190999916},\"x\":{\"field\":\"GDP\"},\"y\":{\"field\":\"WHEAT_PPI\"}},\"id\":\"2191\",\"type\":\"Scatter\"},{\"attributes\":{\"fill_alpha\":{\"value\":0.2},\"fill_color\":{\"value\":\"#6d904f\"},\"hatch_alpha\":{\"value\":0.2},\"hatch_color\":{\"value\":\"#6d904f\"},\"line_alpha\":{\"value\":0.2},\"line_color\":{\"value\":\"#6d904f\"},\"size\":{\"value\":8.94427190999916},\"x\":{\"field\":\"GDP\"},\"y\":{\"field\":\"WHEAT_PPI\"}},\"id\":\"2219\",\"type\":\"Scatter\"},{\"attributes\":{\"source\":{\"id\":\"2232\"}},\"id\":\"2239\",\"type\":\"CDSView\"},{\"attributes\":{\"angle\":{\"value\":0.0},\"fill_alpha\":{\"value\":0.7},\"fill_color\":{\"value\":\"#30a2da\"},\"hatch_alpha\":{\"value\":0.7},\"hatch_color\":{\"value\":\"#30a2da\"},\"hatch_scale\":{\"value\":12.0},\"hatch_weight\":{\"value\":1.0},\"line_alpha\":{\"value\":0.7},\"line_cap\":{\"value\":\"butt\"},\"line_color\":{\"value\":\"#30a2da\"},\"line_dash\":{\"value\":[]},\"line_dash_offset\":{\"value\":0},\"line_join\":{\"value\":\"bevel\"},\"line_width\":{\"value\":1},\"marker\":{\"value\":\"circle\"},\"size\":{\"value\":8.94427190999916},\"x\":{\"field\":\"GDP\"},\"y\":{\"field\":\"WHEAT_PPI\"}},\"id\":\"2195\",\"type\":\"Scatter\"},{\"attributes\":{\"source\":{\"id\":\"2187\"}},\"id\":\"2194\",\"type\":\"CDSView\"},{\"attributes\":{\"fill_alpha\":{\"value\":0.7},\"fill_color\":{\"value\":\"#17becf\"},\"hatch_alpha\":{\"value\":0.1},\"hatch_color\":{\"value\":\"#17becf\"},\"line_alpha\":{\"value\":0.7},\"line_color\":{\"value\":\"#17becf\"},\"size\":{\"value\":8.94427190999916},\"x\":{\"field\":\"GDP\"},\"y\":{\"field\":\"WHEAT_PPI\"}},\"id\":\"2236\",\"type\":\"Scatter\"},{\"attributes\":{\"source\":{\"id\":\"2259\"}},\"id\":\"2266\",\"type\":\"CDSView\"},{\"attributes\":{\"source\":{\"id\":\"2349\"}},\"id\":\"2356\",\"type\":\"CDSView\"},{\"attributes\":{\"fill_alpha\":{\"value\":0.2},\"fill_color\":{\"value\":\"#30a2da\"},\"hatch_alpha\":{\"value\":0.2},\"hatch_color\":{\"value\":\"#30a2da\"},\"line_alpha\":{\"value\":0.2},\"line_color\":{\"value\":\"#30a2da\"},\"size\":{\"value\":8.94427190999916},\"x\":{\"field\":\"GDP\"},\"y\":{\"field\":\"WHEAT_PPI\"}},\"id\":\"2192\",\"type\":\"Scatter\"},{\"attributes\":{\"fill_alpha\":{\"value\":0.7},\"fill_color\":{\"value\":\"#1f77b4\"},\"hatch_alpha\":{\"value\":0.7},\"hatch_color\":{\"value\":\"#1f77b4\"},\"line_alpha\":{\"value\":0.7},\"line_color\":{\"value\":\"#1f77b4\"},\"size\":{\"value\":8.94427190999916},\"x\":{\"field\":\"GDP\"},\"y\":{\"field\":\"WHEAT_PPI\"}},\"id\":\"2262\",\"type\":\"Scatter\"},{\"attributes\":{\"coordinates\":null,\"data_source\":{\"id\":\"2187\"},\"glyph\":{\"id\":\"2190\"},\"group\":null,\"hover_glyph\":null,\"muted_glyph\":{\"id\":\"2192\"},\"nonselection_glyph\":{\"id\":\"2191\"},\"selection_glyph\":{\"id\":\"2195\"},\"view\":{\"id\":\"2194\"}},\"id\":\"2193\",\"type\":\"GlyphRenderer\"},{\"attributes\":{\"coordinates\":null,\"data_source\":{\"id\":\"2232\"},\"glyph\":{\"id\":\"2235\"},\"group\":null,\"hover_glyph\":null,\"muted_glyph\":{\"id\":\"2237\"},\"nonselection_glyph\":{\"id\":\"2236\"},\"selection_glyph\":{\"id\":\"2240\"},\"view\":{\"id\":\"2239\"}},\"id\":\"2238\",\"type\":\"GlyphRenderer\"},{\"attributes\":{\"data\":{\"AREA\":[\"Bulgaria\"],\"GDP\":{\"__ndarray__\":\"b0VigmKEu0A=\",\"dtype\":\"float64\",\"order\":\"little\",\"shape\":[1]},\"WHEAT_PPI\":{\"__ndarray__\":\"rkfhehSeUUA=\",\"dtype\":\"float64\",\"order\":\"little\",\"shape\":[1]}},\"selected\":{\"id\":\"2206\"},\"selection_policy\":{\"id\":\"2477\"}},\"id\":\"2205\",\"type\":\"ColumnDataSource\"},{\"attributes\":{\"coordinates\":null,\"data_source\":{\"id\":\"2322\"},\"glyph\":{\"id\":\"2325\"},\"group\":null,\"hover_glyph\":null,\"muted_glyph\":{\"id\":\"2327\"},\"nonselection_glyph\":{\"id\":\"2326\"},\"selection_glyph\":{\"id\":\"2330\"},\"view\":{\"id\":\"2329\"}},\"id\":\"2328\",\"type\":\"GlyphRenderer\"},{\"attributes\":{\"fill_alpha\":{\"value\":0.2},\"fill_color\":{\"value\":\"#17becf\"},\"hatch_alpha\":{\"value\":0.2},\"hatch_color\":{\"value\":\"#17becf\"},\"line_alpha\":{\"value\":0.2},\"line_color\":{\"value\":\"#17becf\"},\"size\":{\"value\":8.94427190999916},\"x\":{\"field\":\"GDP\"},\"y\":{\"field\":\"WHEAT_PPI\"}},\"id\":\"2237\",\"type\":\"Scatter\"},{\"attributes\":{},\"id\":\"2368\",\"type\":\"Selection\"},{\"attributes\":{\"source\":{\"id\":\"2214\"}},\"id\":\"2221\",\"type\":\"CDSView\"},{\"attributes\":{\"coordinates\":null,\"data_source\":{\"id\":\"2214\"},\"glyph\":{\"id\":\"2217\"},\"group\":null,\"hover_glyph\":null,\"muted_glyph\":{\"id\":\"2219\"},\"nonselection_glyph\":{\"id\":\"2218\"},\"selection_glyph\":{\"id\":\"2222\"},\"view\":{\"id\":\"2221\"}},\"id\":\"2220\",\"type\":\"GlyphRenderer\"},{\"attributes\":{\"angle\":{\"value\":0.0},\"fill_alpha\":{\"value\":0.7},\"fill_color\":{\"value\":\"#17becf\"},\"hatch_alpha\":{\"value\":0.7},\"hatch_color\":{\"value\":\"#17becf\"},\"hatch_scale\":{\"value\":12.0},\"hatch_weight\":{\"value\":1.0},\"line_alpha\":{\"value\":0.7},\"line_cap\":{\"value\":\"butt\"},\"line_color\":{\"value\":\"#17becf\"},\"line_dash\":{\"value\":[]},\"line_dash_offset\":{\"value\":0},\"line_join\":{\"value\":\"bevel\"},\"line_width\":{\"value\":1},\"marker\":{\"value\":\"circle\"},\"size\":{\"value\":8.94427190999916},\"x\":{\"field\":\"GDP\"},\"y\":{\"field\":\"WHEAT_PPI\"}},\"id\":\"2240\",\"type\":\"Scatter\"},{\"attributes\":{\"data\":{\"AREA\":[\"Denmark\"],\"GDP\":{\"__ndarray__\":\"NbbXgu/C3EA=\",\"dtype\":\"float64\",\"order\":\"little\",\"shape\":[1]},\"WHEAT_PPI\":{\"__ndarray__\":\"SOF6FK5HU0A=\",\"dtype\":\"float64\",\"order\":\"little\",\"shape\":[1]}},\"selected\":{\"id\":\"2251\"},\"selection_policy\":{\"id\":\"2487\"}},\"id\":\"2250\",\"type\":\"ColumnDataSource\"},{\"attributes\":{\"coordinates\":null,\"data_source\":{\"id\":\"2196\"},\"glyph\":{\"id\":\"2199\"},\"group\":null,\"hover_glyph\":null,\"muted_glyph\":{\"id\":\"2201\"},\"nonselection_glyph\":{\"id\":\"2200\"},\"selection_glyph\":{\"id\":\"2204\"},\"view\":{\"id\":\"2203\"}},\"id\":\"2202\",\"type\":\"GlyphRenderer\"},{\"attributes\":{\"fill_alpha\":{\"value\":0.7},\"fill_color\":{\"value\":\"#9467bd\"},\"hatch_alpha\":{\"value\":0.1},\"hatch_color\":{\"value\":\"#9467bd\"},\"line_alpha\":{\"value\":0.7},\"line_color\":{\"value\":\"#9467bd\"},\"size\":{\"value\":8.94427190999916},\"x\":{\"field\":\"GDP\"},\"y\":{\"field\":\"WHEAT_PPI\"}},\"id\":\"2353\",\"type\":\"Scatter\"},{\"attributes\":{\"coordinates\":null,\"data_source\":{\"id\":\"2259\"},\"glyph\":{\"id\":\"2262\"},\"group\":null,\"hover_glyph\":null,\"muted_glyph\":{\"id\":\"2264\"},\"nonselection_glyph\":{\"id\":\"2263\"},\"selection_glyph\":{\"id\":\"2267\"},\"view\":{\"id\":\"2266\"}},\"id\":\"2265\",\"type\":\"GlyphRenderer\"},{\"attributes\":{\"angle\":{\"value\":0.0},\"fill_alpha\":{\"value\":0.7},\"fill_color\":{\"value\":\"#6d904f\"},\"hatch_alpha\":{\"value\":0.7},\"hatch_color\":{\"value\":\"#6d904f\"},\"hatch_scale\":{\"value\":12.0},\"hatch_weight\":{\"value\":1.0},\"line_alpha\":{\"value\":0.7},\"line_cap\":{\"value\":\"butt\"},\"line_color\":{\"value\":\"#6d904f\"},\"line_dash\":{\"value\":[]},\"line_dash_offset\":{\"value\":0},\"line_join\":{\"value\":\"bevel\"},\"line_width\":{\"value\":1},\"marker\":{\"value\":\"circle\"},\"size\":{\"value\":8.94427190999916},\"x\":{\"field\":\"GDP\"},\"y\":{\"field\":\"WHEAT_PPI\"}},\"id\":\"2222\",\"type\":\"Scatter\"},{\"attributes\":{\"coordinates\":null,\"data_source\":{\"id\":\"2241\"},\"glyph\":{\"id\":\"2244\"},\"group\":null,\"hover_glyph\":null,\"muted_glyph\":{\"id\":\"2246\"},\"nonselection_glyph\":{\"id\":\"2245\"},\"selection_glyph\":{\"id\":\"2249\"},\"view\":{\"id\":\"2248\"}},\"id\":\"2247\",\"type\":\"GlyphRenderer\"},{\"attributes\":{\"fill_alpha\":{\"value\":0.7},\"fill_color\":{\"value\":\"#6d904f\"},\"hatch_alpha\":{\"value\":0.1},\"hatch_color\":{\"value\":\"#6d904f\"},\"line_alpha\":{\"value\":0.7},\"line_color\":{\"value\":\"#6d904f\"},\"size\":{\"value\":8.94427190999916},\"x\":{\"field\":\"GDP\"},\"y\":{\"field\":\"WHEAT_PPI\"}},\"id\":\"2218\",\"type\":\"Scatter\"},{\"attributes\":{\"source\":{\"id\":\"2367\"}},\"id\":\"2374\",\"type\":\"CDSView\"},{\"attributes\":{\"source\":{\"id\":\"2322\"}},\"id\":\"2329\",\"type\":\"CDSView\"},{\"attributes\":{\"angle\":{\"value\":0.0},\"fill_alpha\":{\"value\":0.7},\"fill_color\":{\"value\":\"#9467bd\"},\"hatch_alpha\":{\"value\":0.7},\"hatch_color\":{\"value\":\"#9467bd\"},\"hatch_scale\":{\"value\":12.0},\"hatch_weight\":{\"value\":1.0},\"line_alpha\":{\"value\":0.7},\"line_cap\":{\"value\":\"butt\"},\"line_color\":{\"value\":\"#9467bd\"},\"line_dash\":{\"value\":[]},\"line_dash_offset\":{\"value\":0},\"line_join\":{\"value\":\"bevel\"},\"line_width\":{\"value\":1},\"marker\":{\"value\":\"circle\"},\"size\":{\"value\":8.94427190999916},\"x\":{\"field\":\"GDP\"},\"y\":{\"field\":\"WHEAT_PPI\"}},\"id\":\"2357\",\"type\":\"Scatter\"},{\"attributes\":{\"source\":{\"id\":\"2196\"}},\"id\":\"2203\",\"type\":\"CDSView\"},{\"attributes\":{\"coordinates\":null,\"data_source\":{\"id\":\"2349\"},\"glyph\":{\"id\":\"2352\"},\"group\":null,\"hover_glyph\":null,\"muted_glyph\":{\"id\":\"2354\"},\"nonselection_glyph\":{\"id\":\"2353\"},\"selection_glyph\":{\"id\":\"2357\"},\"view\":{\"id\":\"2356\"}},\"id\":\"2355\",\"type\":\"GlyphRenderer\"},{\"attributes\":{\"angle\":{\"value\":0.0},\"fill_alpha\":{\"value\":0.7},\"fill_color\":{\"value\":\"#1f77b4\"},\"hatch_alpha\":{\"value\":0.7},\"hatch_color\":{\"value\":\"#1f77b4\"},\"hatch_scale\":{\"value\":12.0},\"hatch_weight\":{\"value\":1.0},\"line_alpha\":{\"value\":0.7},\"line_cap\":{\"value\":\"butt\"},\"line_color\":{\"value\":\"#1f77b4\"},\"line_dash\":{\"value\":[]},\"line_dash_offset\":{\"value\":0},\"line_join\":{\"value\":\"bevel\"},\"line_width\":{\"value\":1},\"marker\":{\"value\":\"circle\"},\"size\":{\"value\":8.94427190999916},\"x\":{\"field\":\"GDP\"},\"y\":{\"field\":\"WHEAT_PPI\"}},\"id\":\"2267\",\"type\":\"Scatter\"},{\"attributes\":{\"fill_alpha\":{\"value\":0.7},\"fill_color\":{\"value\":\"#9467bd\"},\"hatch_alpha\":{\"value\":0.7},\"hatch_color\":{\"value\":\"#9467bd\"},\"line_alpha\":{\"value\":0.7},\"line_color\":{\"value\":\"#9467bd\"},\"size\":{\"value\":8.94427190999916},\"x\":{\"field\":\"GDP\"},\"y\":{\"field\":\"WHEAT_PPI\"}},\"id\":\"2244\",\"type\":\"Scatter\"},{\"attributes\":{\"fill_alpha\":{\"value\":0.7},\"fill_color\":{\"value\":\"#1f77b4\"},\"hatch_alpha\":{\"value\":0.1},\"hatch_color\":{\"value\":\"#1f77b4\"},\"line_alpha\":{\"value\":0.7},\"line_color\":{\"value\":\"#1f77b4\"},\"size\":{\"value\":8.94427190999916},\"x\":{\"field\":\"GDP\"},\"y\":{\"field\":\"WHEAT_PPI\"}},\"id\":\"2263\",\"type\":\"Scatter\"},{\"attributes\":{\"fill_alpha\":{\"value\":0.2},\"fill_color\":{\"value\":\"#9467bd\"},\"hatch_alpha\":{\"value\":0.2},\"hatch_color\":{\"value\":\"#9467bd\"},\"line_alpha\":{\"value\":0.2},\"line_color\":{\"value\":\"#9467bd\"},\"size\":{\"value\":8.94427190999916},\"x\":{\"field\":\"GDP\"},\"y\":{\"field\":\"WHEAT_PPI\"}},\"id\":\"2354\",\"type\":\"Scatter\"},{\"attributes\":{\"fill_alpha\":{\"value\":0.7},\"fill_color\":{\"value\":\"#fc4f30\"},\"hatch_alpha\":{\"value\":0.1},\"hatch_color\":{\"value\":\"#fc4f30\"},\"line_alpha\":{\"value\":0.7},\"line_color\":{\"value\":\"#fc4f30\"},\"size\":{\"value\":8.94427190999916},\"x\":{\"field\":\"GDP\"},\"y\":{\"field\":\"WHEAT_PPI\"}},\"id\":\"2200\",\"type\":\"Scatter\"},{\"attributes\":{\"source\":{\"id\":\"2241\"}},\"id\":\"2248\",\"type\":\"CDSView\"},{\"attributes\":{\"fill_alpha\":{\"value\":0.2},\"fill_color\":{\"value\":\"#1f77b4\"},\"hatch_alpha\":{\"value\":0.2},\"hatch_color\":{\"value\":\"#1f77b4\"},\"line_alpha\":{\"value\":0.2},\"line_color\":{\"value\":\"#1f77b4\"},\"size\":{\"value\":8.94427190999916},\"x\":{\"field\":\"GDP\"},\"y\":{\"field\":\"WHEAT_PPI\"}},\"id\":\"2264\",\"type\":\"Scatter\"},{\"attributes\":{\"fill_alpha\":{\"value\":0.7},\"fill_color\":{\"value\":\"#9467bd\"},\"hatch_alpha\":{\"value\":0.1},\"hatch_color\":{\"value\":\"#9467bd\"},\"line_alpha\":{\"value\":0.7},\"line_color\":{\"value\":\"#9467bd\"},\"size\":{\"value\":8.94427190999916},\"x\":{\"field\":\"GDP\"},\"y\":{\"field\":\"WHEAT_PPI\"}},\"id\":\"2245\",\"type\":\"Scatter\"},{\"attributes\":{\"fill_alpha\":{\"value\":0.7},\"fill_color\":{\"value\":\"#fc4f30\"},\"hatch_alpha\":{\"value\":0.7},\"hatch_color\":{\"value\":\"#fc4f30\"},\"line_alpha\":{\"value\":0.7},\"line_color\":{\"value\":\"#fc4f30\"},\"size\":{\"value\":8.94427190999916},\"x\":{\"field\":\"GDP\"},\"y\":{\"field\":\"WHEAT_PPI\"}},\"id\":\"2199\",\"type\":\"Scatter\"},{\"attributes\":{\"data\":{\"AREA\":[\"Cyprus\"],\"GDP\":{\"__ndarray__\":\"F56Xir5U1kA=\",\"dtype\":\"float64\",\"order\":\"little\",\"shape\":[1]},\"WHEAT_PPI\":{\"__ndarray__\":\"mpmZmZm5VkA=\",\"dtype\":\"float64\",\"order\":\"little\",\"shape\":[1]}},\"selected\":{\"id\":\"2233\"},\"selection_policy\":{\"id\":\"2483\"}},\"id\":\"2232\",\"type\":\"ColumnDataSource\"},{\"attributes\":{\"data\":{\"AREA\":[\"France\"],\"GDP\":{\"__ndarray__\":\"NNb+zqXa2kA=\",\"dtype\":\"float64\",\"order\":\"little\",\"shape\":[1]},\"WHEAT_PPI\":{\"__ndarray__\":\"rkfhehR+UUA=\",\"dtype\":\"float64\",\"order\":\"little\",\"shape\":[1]}},\"selected\":{\"id\":\"2278\"},\"selection_policy\":{\"id\":\"2493\"}},\"id\":\"2277\",\"type\":\"ColumnDataSource\"},{\"attributes\":{},\"id\":\"2511\",\"type\":\"UnionRenderers\"},{\"attributes\":{\"coordinates\":null,\"data_source\":{\"id\":\"2250\"},\"glyph\":{\"id\":\"2253\"},\"group\":null,\"hover_glyph\":null,\"muted_glyph\":{\"id\":\"2255\"},\"nonselection_glyph\":{\"id\":\"2254\"},\"selection_glyph\":{\"id\":\"2258\"},\"view\":{\"id\":\"2257\"}},\"id\":\"2256\",\"type\":\"GlyphRenderer\"},{\"attributes\":{\"angle\":{\"value\":0.0},\"fill_alpha\":{\"value\":0.7},\"fill_color\":{\"value\":\"#d62728\"},\"hatch_alpha\":{\"value\":0.7},\"hatch_color\":{\"value\":\"#d62728\"},\"hatch_scale\":{\"value\":12.0},\"hatch_weight\":{\"value\":1.0},\"line_alpha\":{\"value\":0.7},\"line_cap\":{\"value\":\"butt\"},\"line_color\":{\"value\":\"#d62728\"},\"line_dash\":{\"value\":[]},\"line_dash_offset\":{\"value\":0},\"line_join\":{\"value\":\"bevel\"},\"line_width\":{\"value\":1},\"marker\":{\"value\":\"circle\"},\"size\":{\"value\":8.94427190999916},\"x\":{\"field\":\"GDP\"},\"y\":{\"field\":\"WHEAT_PPI\"}},\"id\":\"2366\",\"type\":\"Scatter\"},{\"attributes\":{\"coordinates\":null,\"data_source\":{\"id\":\"2358\"},\"glyph\":{\"id\":\"2361\"},\"group\":null,\"hover_glyph\":null,\"muted_glyph\":{\"id\":\"2363\"},\"nonselection_glyph\":{\"id\":\"2362\"},\"selection_glyph\":{\"id\":\"2366\"},\"view\":{\"id\":\"2365\"}},\"id\":\"2364\",\"type\":\"GlyphRenderer\"},{\"attributes\":{\"fill_alpha\":{\"value\":0.7},\"fill_color\":{\"value\":\"#bcbd22\"},\"hatch_alpha\":{\"value\":0.7},\"hatch_color\":{\"value\":\"#bcbd22\"},\"line_alpha\":{\"value\":0.7},\"line_color\":{\"value\":\"#bcbd22\"},\"size\":{\"value\":8.94427190999916},\"x\":{\"field\":\"GDP\"},\"y\":{\"field\":\"WHEAT_PPI\"}},\"id\":\"2289\",\"type\":\"Scatter\"},{\"attributes\":{\"coordinates\":null,\"data_source\":{\"id\":\"2268\"},\"glyph\":{\"id\":\"2271\"},\"group\":null,\"hover_glyph\":null,\"muted_glyph\":{\"id\":\"2273\"},\"nonselection_glyph\":{\"id\":\"2272\"},\"selection_glyph\":{\"id\":\"2276\"},\"view\":{\"id\":\"2275\"}},\"id\":\"2274\",\"type\":\"GlyphRenderer\"},{\"attributes\":{\"coordinates\":null,\"data_source\":{\"id\":\"2223\"},\"glyph\":{\"id\":\"2226\"},\"group\":null,\"hover_glyph\":null,\"muted_glyph\":{\"id\":\"2228\"},\"nonselection_glyph\":{\"id\":\"2227\"},\"selection_glyph\":{\"id\":\"2231\"},\"view\":{\"id\":\"2230\"}},\"id\":\"2229\",\"type\":\"GlyphRenderer\"},{\"attributes\":{},\"id\":\"2197\",\"type\":\"Selection\"},{\"attributes\":{\"fill_alpha\":{\"value\":0.7},\"fill_color\":{\"value\":\"#6d904f\"},\"hatch_alpha\":{\"value\":0.7},\"hatch_color\":{\"value\":\"#6d904f\"},\"line_alpha\":{\"value\":0.7},\"line_color\":{\"value\":\"#6d904f\"},\"size\":{\"value\":8.94427190999916},\"x\":{\"field\":\"GDP\"},\"y\":{\"field\":\"WHEAT_PPI\"}},\"id\":\"2217\",\"type\":\"Scatter\"},{\"attributes\":{},\"id\":\"2251\",\"type\":\"Selection\"},{\"attributes\":{\"source\":{\"id\":\"2268\"}},\"id\":\"2275\",\"type\":\"CDSView\"},{\"attributes\":{},\"id\":\"2242\",\"type\":\"Selection\"},{\"attributes\":{\"source\":{\"id\":\"2223\"}},\"id\":\"2230\",\"type\":\"CDSView\"},{\"attributes\":{\"fill_alpha\":{\"value\":0.7},\"fill_color\":{\"value\":\"#d62728\"},\"hatch_alpha\":{\"value\":0.1},\"hatch_color\":{\"value\":\"#d62728\"},\"line_alpha\":{\"value\":0.7},\"line_color\":{\"value\":\"#d62728\"},\"size\":{\"value\":8.94427190999916},\"x\":{\"field\":\"GDP\"},\"y\":{\"field\":\"WHEAT_PPI\"}},\"id\":\"2362\",\"type\":\"Scatter\"},{\"attributes\":{\"fill_alpha\":{\"value\":0.7},\"fill_color\":{\"value\":\"#e377c2\"},\"hatch_alpha\":{\"value\":0.1},\"hatch_color\":{\"value\":\"#e377c2\"},\"line_alpha\":{\"value\":0.7},\"line_color\":{\"value\":\"#e377c2\"},\"size\":{\"value\":8.94427190999916},\"x\":{\"field\":\"GDP\"},\"y\":{\"field\":\"WHEAT_PPI\"}},\"id\":\"2272\",\"type\":\"Scatter\"},{\"attributes\":{\"fill_alpha\":{\"value\":0.7},\"fill_color\":{\"value\":\"#8b8b8b\"},\"hatch_alpha\":{\"value\":0.1},\"hatch_color\":{\"value\":\"#8b8b8b\"},\"line_alpha\":{\"value\":0.7},\"line_color\":{\"value\":\"#8b8b8b\"},\"size\":{\"value\":8.94427190999916},\"x\":{\"field\":\"GDP\"},\"y\":{\"field\":\"WHEAT_PPI\"}},\"id\":\"2227\",\"type\":\"Scatter\"},{\"attributes\":{\"fill_alpha\":{\"value\":0.7},\"fill_color\":{\"value\":\"#d62728\"},\"hatch_alpha\":{\"value\":0.7},\"hatch_color\":{\"value\":\"#d62728\"},\"line_alpha\":{\"value\":0.7},\"line_color\":{\"value\":\"#d62728\"},\"size\":{\"value\":8.94427190999916},\"x\":{\"field\":\"GDP\"},\"y\":{\"field\":\"WHEAT_PPI\"}},\"id\":\"2361\",\"type\":\"Scatter\"},{\"attributes\":{\"fill_alpha\":{\"value\":0.7},\"fill_color\":{\"value\":\"#e377c2\"},\"hatch_alpha\":{\"value\":0.7},\"hatch_color\":{\"value\":\"#e377c2\"},\"line_alpha\":{\"value\":0.7},\"line_color\":{\"value\":\"#e377c2\"},\"size\":{\"value\":8.94427190999916},\"x\":{\"field\":\"GDP\"},\"y\":{\"field\":\"WHEAT_PPI\"}},\"id\":\"2271\",\"type\":\"Scatter\"},{\"attributes\":{\"fill_alpha\":{\"value\":0.7},\"fill_color\":{\"value\":\"#8b8b8b\"},\"hatch_alpha\":{\"value\":0.7},\"hatch_color\":{\"value\":\"#8b8b8b\"},\"line_alpha\":{\"value\":0.7},\"line_color\":{\"value\":\"#8b8b8b\"},\"size\":{\"value\":8.94427190999916},\"x\":{\"field\":\"GDP\"},\"y\":{\"field\":\"WHEAT_PPI\"}},\"id\":\"2226\",\"type\":\"Scatter\"},{\"attributes\":{\"angle\":{\"value\":0.0},\"fill_alpha\":{\"value\":0.7},\"fill_color\":{\"value\":\"#fc4f30\"},\"hatch_alpha\":{\"value\":0.7},\"hatch_color\":{\"value\":\"#fc4f30\"},\"hatch_scale\":{\"value\":12.0},\"hatch_weight\":{\"value\":1.0},\"line_alpha\":{\"value\":0.7},\"line_cap\":{\"value\":\"butt\"},\"line_color\":{\"value\":\"#fc4f30\"},\"line_dash\":{\"value\":[]},\"line_dash_offset\":{\"value\":0},\"line_join\":{\"value\":\"bevel\"},\"line_width\":{\"value\":1},\"marker\":{\"value\":\"circle\"},\"size\":{\"value\":8.94427190999916},\"x\":{\"field\":\"GDP\"},\"y\":{\"field\":\"WHEAT_PPI\"}},\"id\":\"2204\",\"type\":\"Scatter\"},{\"attributes\":{\"fill_alpha\":{\"value\":0.2},\"fill_color\":{\"value\":\"#fc4f30\"},\"hatch_alpha\":{\"value\":0.2},\"hatch_color\":{\"value\":\"#fc4f30\"},\"line_alpha\":{\"value\":0.2},\"line_color\":{\"value\":\"#fc4f30\"},\"size\":{\"value\":8.94427190999916},\"x\":{\"field\":\"GDP\"},\"y\":{\"field\":\"WHEAT_PPI\"}},\"id\":\"2201\",\"type\":\"Scatter\"},{\"attributes\":{\"fill_alpha\":{\"value\":0.2},\"fill_color\":{\"value\":\"#9467bd\"},\"hatch_alpha\":{\"value\":0.2},\"hatch_color\":{\"value\":\"#9467bd\"},\"line_alpha\":{\"value\":0.2},\"line_color\":{\"value\":\"#9467bd\"},\"size\":{\"value\":8.94427190999916},\"x\":{\"field\":\"GDP\"},\"y\":{\"field\":\"WHEAT_PPI\"}},\"id\":\"2246\",\"type\":\"Scatter\"},{\"attributes\":{\"fill_alpha\":{\"value\":0.7},\"fill_color\":{\"value\":\"#bcbd22\"},\"hatch_alpha\":{\"value\":0.1},\"hatch_color\":{\"value\":\"#bcbd22\"},\"line_alpha\":{\"value\":0.7},\"line_color\":{\"value\":\"#bcbd22\"},\"size\":{\"value\":8.94427190999916},\"x\":{\"field\":\"GDP\"},\"y\":{\"field\":\"WHEAT_PPI\"}},\"id\":\"2290\",\"type\":\"Scatter\"},{\"attributes\":{\"data\":{\"AREA\":[\"Germany\"],\"GDP\":{\"__ndarray__\":\"1c3F37n920A=\",\"dtype\":\"float64\",\"order\":\"little\",\"shape\":[1]},\"WHEAT_PPI\":{\"__ndarray__\":\"KVyPwvW4UUA=\",\"dtype\":\"float64\",\"order\":\"little\",\"shape\":[1]}},\"selected\":{\"id\":\"2287\"},\"selection_policy\":{\"id\":\"2495\"}},\"id\":\"2286\",\"type\":\"ColumnDataSource\"},{\"attributes\":{},\"id\":\"2206\",\"type\":\"Selection\"},{\"attributes\":{\"angle\":{\"value\":0.0},\"fill_alpha\":{\"value\":0.7},\"fill_color\":{\"value\":\"#9467bd\"},\"hatch_alpha\":{\"value\":0.7},\"hatch_color\":{\"value\":\"#9467bd\"},\"hatch_scale\":{\"value\":12.0},\"hatch_weight\":{\"value\":1.0},\"line_alpha\":{\"value\":0.7},\"line_cap\":{\"value\":\"butt\"},\"line_color\":{\"value\":\"#9467bd\"},\"line_dash\":{\"value\":[]},\"line_dash_offset\":{\"value\":0},\"line_join\":{\"value\":\"bevel\"},\"line_width\":{\"value\":1},\"marker\":{\"value\":\"circle\"},\"size\":{\"value\":8.94427190999916},\"x\":{\"field\":\"GDP\"},\"y\":{\"field\":\"WHEAT_PPI\"}},\"id\":\"2249\",\"type\":\"Scatter\"},{\"attributes\":{\"data\":{\"AREA\":[\"Croatia\"],\"GDP\":{\"__ndarray__\":\"/I9Mh/DBxkA=\",\"dtype\":\"float64\",\"order\":\"little\",\"shape\":[1]},\"WHEAT_PPI\":{\"__ndarray__\":\"XI/C9SgMVkA=\",\"dtype\":\"float64\",\"order\":\"little\",\"shape\":[1]}},\"selected\":{\"id\":\"2224\"},\"selection_policy\":{\"id\":\"2481\"}},\"id\":\"2223\",\"type\":\"ColumnDataSource\"},{\"attributes\":{},\"id\":\"2495\",\"type\":\"UnionRenderers\"},{\"attributes\":{\"coordinates\":null,\"data_source\":{\"id\":\"2205\"},\"glyph\":{\"id\":\"2208\"},\"group\":null,\"hover_glyph\":null,\"muted_glyph\":{\"id\":\"2210\"},\"nonselection_glyph\":{\"id\":\"2209\"},\"selection_glyph\":{\"id\":\"2213\"},\"view\":{\"id\":\"2212\"}},\"id\":\"2211\",\"type\":\"GlyphRenderer\"},{\"attributes\":{\"fill_alpha\":{\"value\":0.7},\"fill_color\":{\"value\":\"#d62728\"},\"hatch_alpha\":{\"value\":0.1},\"hatch_color\":{\"value\":\"#d62728\"},\"line_alpha\":{\"value\":0.7},\"line_color\":{\"value\":\"#d62728\"},\"size\":{\"value\":8.94427190999916},\"x\":{\"field\":\"GDP\"},\"y\":{\"field\":\"WHEAT_PPI\"}},\"id\":\"2254\",\"type\":\"Scatter\"},{\"attributes\":{\"angle\":{\"value\":0.0},\"fill_alpha\":{\"value\":0.7},\"fill_color\":{\"value\":\"#d62728\"},\"hatch_alpha\":{\"value\":0.7},\"hatch_color\":{\"value\":\"#d62728\"},\"hatch_scale\":{\"value\":12.0},\"hatch_weight\":{\"value\":1.0},\"line_alpha\":{\"value\":0.7},\"line_cap\":{\"value\":\"butt\"},\"line_color\":{\"value\":\"#d62728\"},\"line_dash\":{\"value\":[]},\"line_dash_offset\":{\"value\":0},\"line_join\":{\"value\":\"bevel\"},\"line_width\":{\"value\":1},\"marker\":{\"value\":\"circle\"},\"size\":{\"value\":8.94427190999916},\"x\":{\"field\":\"GDP\"},\"y\":{\"field\":\"WHEAT_PPI\"}},\"id\":\"2258\",\"type\":\"Scatter\"},{\"attributes\":{},\"id\":\"2359\",\"type\":\"Selection\"},{\"attributes\":{},\"id\":\"2269\",\"type\":\"Selection\"},{\"attributes\":{\"source\":{\"id\":\"2205\"}},\"id\":\"2212\",\"type\":\"CDSView\"},{\"attributes\":{},\"id\":\"2224\",\"type\":\"Selection\"},{\"attributes\":{\"angle\":{\"value\":0.0},\"fill_alpha\":{\"value\":0.7},\"fill_color\":{\"value\":\"#e377c2\"},\"hatch_alpha\":{\"value\":0.7},\"hatch_color\":{\"value\":\"#e377c2\"},\"hatch_scale\":{\"value\":12.0},\"hatch_weight\":{\"value\":1.0},\"line_alpha\":{\"value\":0.7},\"line_cap\":{\"value\":\"butt\"},\"line_color\":{\"value\":\"#e377c2\"},\"line_dash\":{\"value\":[]},\"line_dash_offset\":{\"value\":0},\"line_join\":{\"value\":\"bevel\"},\"line_width\":{\"value\":1},\"marker\":{\"value\":\"circle\"},\"size\":{\"value\":8.94427190999916},\"x\":{\"field\":\"GDP\"},\"y\":{\"field\":\"WHEAT_PPI\"}},\"id\":\"2276\",\"type\":\"Scatter\"},{\"attributes\":{\"angle\":{\"value\":0.0},\"fill_alpha\":{\"value\":0.7},\"fill_color\":{\"value\":\"#8b8b8b\"},\"hatch_alpha\":{\"value\":0.7},\"hatch_color\":{\"value\":\"#8b8b8b\"},\"hatch_scale\":{\"value\":12.0},\"hatch_weight\":{\"value\":1.0},\"line_alpha\":{\"value\":0.7},\"line_cap\":{\"value\":\"butt\"},\"line_color\":{\"value\":\"#8b8b8b\"},\"line_dash\":{\"value\":[]},\"line_dash_offset\":{\"value\":0},\"line_join\":{\"value\":\"bevel\"},\"line_width\":{\"value\":1},\"marker\":{\"value\":\"circle\"},\"size\":{\"value\":8.94427190999916},\"x\":{\"field\":\"GDP\"},\"y\":{\"field\":\"WHEAT_PPI\"}},\"id\":\"2231\",\"type\":\"Scatter\"},{\"attributes\":{},\"id\":\"2509\",\"type\":\"UnionRenderers\"},{\"attributes\":{\"fill_alpha\":{\"value\":0.2},\"fill_color\":{\"value\":\"#d62728\"},\"hatch_alpha\":{\"value\":0.2},\"hatch_color\":{\"value\":\"#d62728\"},\"line_alpha\":{\"value\":0.2},\"line_color\":{\"value\":\"#d62728\"},\"size\":{\"value\":8.94427190999916},\"x\":{\"field\":\"GDP\"},\"y\":{\"field\":\"WHEAT_PPI\"}},\"id\":\"2363\",\"type\":\"Scatter\"},{\"attributes\":{\"fill_alpha\":{\"value\":0.7},\"fill_color\":{\"value\":\"#e5ae38\"},\"hatch_alpha\":{\"value\":0.1},\"hatch_color\":{\"value\":\"#e5ae38\"},\"line_alpha\":{\"value\":0.7},\"line_color\":{\"value\":\"#e5ae38\"},\"size\":{\"value\":8.94427190999916},\"x\":{\"field\":\"GDP\"},\"y\":{\"field\":\"WHEAT_PPI\"}},\"id\":\"2209\",\"type\":\"Scatter\"},{\"attributes\":{\"fill_alpha\":{\"value\":0.2},\"fill_color\":{\"value\":\"#e377c2\"},\"hatch_alpha\":{\"value\":0.2},\"hatch_color\":{\"value\":\"#e377c2\"},\"line_alpha\":{\"value\":0.2},\"line_color\":{\"value\":\"#e377c2\"},\"size\":{\"value\":8.94427190999916},\"x\":{\"field\":\"GDP\"},\"y\":{\"field\":\"WHEAT_PPI\"}},\"id\":\"2273\",\"type\":\"Scatter\"},{\"attributes\":{},\"id\":\"2287\",\"type\":\"Selection\"},{\"attributes\":{\"fill_alpha\":{\"value\":0.2},\"fill_color\":{\"value\":\"#8b8b8b\"},\"hatch_alpha\":{\"value\":0.2},\"hatch_color\":{\"value\":\"#8b8b8b\"},\"line_alpha\":{\"value\":0.2},\"line_color\":{\"value\":\"#8b8b8b\"},\"size\":{\"value\":8.94427190999916},\"x\":{\"field\":\"GDP\"},\"y\":{\"field\":\"WHEAT_PPI\"}},\"id\":\"2228\",\"type\":\"Scatter\"},{\"attributes\":{\"coordinates\":null,\"data_source\":{\"id\":\"2367\"},\"glyph\":{\"id\":\"2370\"},\"group\":null,\"hover_glyph\":null,\"muted_glyph\":{\"id\":\"2372\"},\"nonselection_glyph\":{\"id\":\"2371\"},\"selection_glyph\":{\"id\":\"2375\"},\"view\":{\"id\":\"2374\"}},\"id\":\"2373\",\"type\":\"GlyphRenderer\"},{\"attributes\":{\"fill_alpha\":{\"value\":0.7},\"fill_color\":{\"value\":\"#1f77b4\"},\"hatch_alpha\":{\"value\":0.1},\"hatch_color\":{\"value\":\"#1f77b4\"},\"line_alpha\":{\"value\":0.7},\"line_color\":{\"value\":\"#1f77b4\"},\"size\":{\"value\":8.94427190999916},\"x\":{\"field\":\"GDP\"},\"y\":{\"field\":\"WHEAT_PPI\"}},\"id\":\"2371\",\"type\":\"Scatter\"},{\"attributes\":{\"fill_alpha\":{\"value\":0.7},\"fill_color\":{\"value\":\"#e5ae38\"},\"hatch_alpha\":{\"value\":0.7},\"hatch_color\":{\"value\":\"#e5ae38\"},\"line_alpha\":{\"value\":0.7},\"line_color\":{\"value\":\"#e5ae38\"},\"size\":{\"value\":8.94427190999916},\"x\":{\"field\":\"GDP\"},\"y\":{\"field\":\"WHEAT_PPI\"}},\"id\":\"2208\",\"type\":\"Scatter\"},{\"attributes\":{},\"id\":\"2278\",\"type\":\"Selection\"},{\"attributes\":{\"data\":{\"AREA\":[\"Finland\"],\"GDP\":{\"__ndarray__\":\"cyzvqgYm20A=\",\"dtype\":\"float64\",\"order\":\"little\",\"shape\":[1]},\"WHEAT_PPI\":{\"__ndarray__\":\"w/UoXI9CVEA=\",\"dtype\":\"float64\",\"order\":\"little\",\"shape\":[1]}},\"selected\":{\"id\":\"2269\"},\"selection_policy\":{\"id\":\"2491\"}},\"id\":\"2268\",\"type\":\"ColumnDataSource\"},{\"attributes\":{\"data\":{\"AREA\":[\"Romania\"],\"GDP\":{\"__ndarray__\":\"9ODurEknuUA=\",\"dtype\":\"float64\",\"order\":\"little\",\"shape\":[1]},\"WHEAT_PPI\":{\"__ndarray__\":\"9ihcj8K1TUA=\",\"dtype\":\"float64\",\"order\":\"little\",\"shape\":[1]}},\"selected\":{\"id\":\"2404\"},\"selection_policy\":{\"id\":\"2521\"}},\"id\":\"2403\",\"type\":\"ColumnDataSource\"},{\"attributes\":{\"fill_alpha\":{\"value\":0.7},\"fill_color\":{\"value\":\"#1f77b4\"},\"hatch_alpha\":{\"value\":0.7},\"hatch_color\":{\"value\":\"#1f77b4\"},\"line_alpha\":{\"value\":0.7},\"line_color\":{\"value\":\"#1f77b4\"},\"size\":{\"value\":8.94427190999916},\"x\":{\"field\":\"GDP\"},\"y\":{\"field\":\"WHEAT_PPI\"}},\"id\":\"2370\",\"type\":\"Scatter\"},{\"attributes\":{},\"id\":\"2215\",\"type\":\"Selection\"},{\"attributes\":{\"source\":{\"id\":\"2250\"}},\"id\":\"2257\",\"type\":\"CDSView\"},{\"attributes\":{\"data\":{\"AREA\":[\"Greece\"],\"GDP\":{\"__ndarray__\":\"Jov7j4N31EA=\",\"dtype\":\"float64\",\"order\":\"little\",\"shape\":[1]},\"WHEAT_PPI\":{\"__ndarray__\":\"ZmZmZmbWUEA=\",\"dtype\":\"float64\",\"order\":\"little\",\"shape\":[1]}},\"selected\":{\"id\":\"2296\"},\"selection_policy\":{\"id\":\"2497\"}},\"id\":\"2295\",\"type\":\"ColumnDataSource\"},{\"attributes\":{},\"id\":\"2233\",\"type\":\"Selection\"},{\"attributes\":{\"fill_alpha\":{\"value\":0.2},\"fill_color\":{\"value\":\"#d62728\"},\"hatch_alpha\":{\"value\":0.2},\"hatch_color\":{\"value\":\"#d62728\"},\"line_alpha\":{\"value\":0.2},\"line_color\":{\"value\":\"#d62728\"},\"size\":{\"value\":8.94427190999916},\"x\":{\"field\":\"GDP\"},\"y\":{\"field\":\"WHEAT_PPI\"}},\"id\":\"2255\",\"type\":\"Scatter\"},{\"attributes\":{\"fill_alpha\":{\"value\":0.2},\"fill_color\":{\"value\":\"#bcbd22\"},\"hatch_alpha\":{\"value\":0.2},\"hatch_color\":{\"value\":\"#bcbd22\"},\"line_alpha\":{\"value\":0.2},\"line_color\":{\"value\":\"#bcbd22\"},\"size\":{\"value\":8.94427190999916},\"x\":{\"field\":\"GDP\"},\"y\":{\"field\":\"WHEAT_PPI\"}},\"id\":\"2291\",\"type\":\"Scatter\"},{\"attributes\":{\"data\":{\"AREA\":[\"Czechia\"],\"GDP\":{\"__ndarray__\":\"Nc8R+a8y0UA=\",\"dtype\":\"float64\",\"order\":\"little\",\"shape\":[1]},\"WHEAT_PPI\":{\"__ndarray__\":\"ZmZmZmYmV0A=\",\"dtype\":\"float64\",\"order\":\"little\",\"shape\":[1]}},\"selected\":{\"id\":\"2242\"},\"selection_policy\":{\"id\":\"2485\"}},\"id\":\"2241\",\"type\":\"ColumnDataSource\"},{\"attributes\":{\"fill_alpha\":{\"value\":0.7},\"fill_color\":{\"value\":\"#d62728\"},\"hatch_alpha\":{\"value\":0.7},\"hatch_color\":{\"value\":\"#d62728\"},\"line_alpha\":{\"value\":0.7},\"line_color\":{\"value\":\"#d62728\"},\"size\":{\"value\":8.94427190999916},\"x\":{\"field\":\"GDP\"},\"y\":{\"field\":\"WHEAT_PPI\"}},\"id\":\"2253\",\"type\":\"Scatter\"},{\"attributes\":{\"fill_alpha\":{\"value\":0.7},\"fill_color\":{\"value\":\"#8c564b\"},\"hatch_alpha\":{\"value\":0.1},\"hatch_color\":{\"value\":\"#8c564b\"},\"line_alpha\":{\"value\":0.7},\"line_color\":{\"value\":\"#8c564b\"},\"size\":{\"value\":8.94427190999916},\"x\":{\"field\":\"GDP\"},\"y\":{\"field\":\"WHEAT_PPI\"}},\"id\":\"2281\",\"type\":\"Scatter\"},{\"attributes\":{\"angle\":{\"value\":0.0},\"fill_alpha\":{\"value\":0.7},\"fill_color\":{\"value\":\"#e5ae38\"},\"hatch_alpha\":{\"value\":0.7},\"hatch_color\":{\"value\":\"#e5ae38\"},\"hatch_scale\":{\"value\":12.0},\"hatch_weight\":{\"value\":1.0},\"line_alpha\":{\"value\":0.7},\"line_cap\":{\"value\":\"butt\"},\"line_color\":{\"value\":\"#e5ae38\"},\"line_dash\":{\"value\":[]},\"line_dash_offset\":{\"value\":0},\"line_join\":{\"value\":\"bevel\"},\"line_width\":{\"value\":1},\"marker\":{\"value\":\"circle\"},\"size\":{\"value\":8.94427190999916},\"x\":{\"field\":\"GDP\"},\"y\":{\"field\":\"WHEAT_PPI\"}},\"id\":\"2213\",\"type\":\"Scatter\"},{\"attributes\":{\"fill_alpha\":{\"value\":0.2},\"fill_color\":{\"value\":\"#e5ae38\"},\"hatch_alpha\":{\"value\":0.2},\"hatch_color\":{\"value\":\"#e5ae38\"},\"line_alpha\":{\"value\":0.2},\"line_color\":{\"value\":\"#e5ae38\"},\"size\":{\"value\":8.94427190999916},\"x\":{\"field\":\"GDP\"},\"y\":{\"field\":\"WHEAT_PPI\"}},\"id\":\"2210\",\"type\":\"Scatter\"},{\"attributes\":{\"data\":{\"AREA\":[\"Netherlands\"],\"GDP\":{\"__ndarray__\":\"jbYqiTg04EA=\",\"dtype\":\"float64\",\"order\":\"little\",\"shape\":[1]},\"WHEAT_PPI\":{\"__ndarray__\":\"PQrXo3DtUUA=\",\"dtype\":\"float64\",\"order\":\"little\",\"shape\":[1]}},\"selected\":{\"id\":\"2377\"},\"selection_policy\":{\"id\":\"2515\"}},\"id\":\"2376\",\"type\":\"ColumnDataSource\"},{\"attributes\":{},\"id\":\"2473\",\"type\":\"UnionRenderers\"},{\"attributes\":{\"fill_alpha\":{\"value\":0.7},\"fill_color\":{\"value\":\"#8c564b\"},\"hatch_alpha\":{\"value\":0.7},\"hatch_color\":{\"value\":\"#8c564b\"},\"line_alpha\":{\"value\":0.7},\"line_color\":{\"value\":\"#8c564b\"},\"size\":{\"value\":8.94427190999916},\"x\":{\"field\":\"GDP\"},\"y\":{\"field\":\"WHEAT_PPI\"}},\"id\":\"2280\",\"type\":\"Scatter\"},{\"attributes\":{\"fill_alpha\":{\"value\":0.7},\"fill_color\":{\"value\":\"#17becf\"},\"hatch_alpha\":{\"value\":0.7},\"hatch_color\":{\"value\":\"#17becf\"},\"line_alpha\":{\"value\":0.7},\"line_color\":{\"value\":\"#17becf\"},\"size\":{\"value\":8.94427190999916},\"x\":{\"field\":\"GDP\"},\"y\":{\"field\":\"WHEAT_PPI\"}},\"id\":\"2235\",\"type\":\"Scatter\"},{\"attributes\":{\"fill_alpha\":{\"value\":0.2},\"fill_color\":{\"value\":\"#1f77b4\"},\"hatch_alpha\":{\"value\":0.2},\"hatch_color\":{\"value\":\"#1f77b4\"},\"line_alpha\":{\"value\":0.2},\"line_color\":{\"value\":\"#1f77b4\"},\"size\":{\"value\":8.94427190999916},\"x\":{\"field\":\"GDP\"},\"y\":{\"field\":\"WHEAT_PPI\"}},\"id\":\"2372\",\"type\":\"Scatter\"},{\"attributes\":{\"data\":{\"AREA\":[\"Estonia\"],\"GDP\":{\"__ndarray__\":\"P1OvW/YUxEA=\",\"dtype\":\"float64\",\"order\":\"little\",\"shape\":[1]},\"WHEAT_PPI\":{\"__ndarray__\":\"AAAAAAAwUEA=\",\"dtype\":\"float64\",\"order\":\"little\",\"shape\":[1]}},\"selected\":{\"id\":\"2260\"},\"selection_policy\":{\"id\":\"2489\"}},\"id\":\"2259\",\"type\":\"ColumnDataSource\"},{\"attributes\":{\"end\":61056.422218499996,\"reset_end\":61056.422218499996,\"reset_start\":1474.0937565000004,\"start\":1474.0937565000004,\"tags\":[[[\"GDP\",\"GDP\",null]]]},\"id\":\"2118\",\"type\":\"Range1d\"},{\"attributes\":{\"end\":593.456,\"reset_end\":593.456,\"reset_start\":0.823999999999991,\"start\":0.823999999999991,\"tags\":[[[\"WHEAT_PPI\",\"WHEAT_PPI\",null]]]},\"id\":\"2119\",\"type\":\"Range1d\"},{\"attributes\":{},\"id\":\"2260\",\"type\":\"Selection\"},{\"attributes\":{\"data\":{\"AREA\":[\"Lithuania\"],\"GDP\":{\"__ndarray__\":\"VYmyt8JuwkA=\",\"dtype\":\"float64\",\"order\":\"little\",\"shape\":[1]},\"WHEAT_PPI\":{\"__ndarray__\":\"7FG4HoWLU0A=\",\"dtype\":\"float64\",\"order\":\"little\",\"shape\":[1]}},\"selected\":{\"id\":\"2350\"},\"selection_policy\":{\"id\":\"2509\"}},\"id\":\"2349\",\"type\":\"ColumnDataSource\"},{\"attributes\":{},\"id\":\"2485\",\"type\":\"UnionRenderers\"},{\"attributes\":{\"angle\":{\"value\":0.0},\"fill_alpha\":{\"value\":0.7},\"fill_color\":{\"value\":\"#6d904f\"},\"hatch_alpha\":{\"value\":0.7},\"hatch_color\":{\"value\":\"#6d904f\"},\"hatch_scale\":{\"value\":12.0},\"hatch_weight\":{\"value\":1.0},\"line_alpha\":{\"value\":0.7},\"line_cap\":{\"value\":\"butt\"},\"line_color\":{\"value\":\"#6d904f\"},\"line_dash\":{\"value\":[]},\"line_dash_offset\":{\"value\":0},\"line_join\":{\"value\":\"bevel\"},\"line_width\":{\"value\":1},\"marker\":{\"value\":\"circle\"},\"size\":{\"value\":8.94427190999916},\"x\":{\"field\":\"GDP\"},\"y\":{\"field\":\"WHEAT_PPI\"}},\"id\":\"2330\",\"type\":\"Scatter\"},{\"attributes\":{},\"id\":\"2527\",\"type\":\"UnionRenderers\"},{\"attributes\":{\"fill_alpha\":{\"value\":0.7},\"fill_color\":{\"value\":\"#bcbd22\"},\"hatch_alpha\":{\"value\":0.1},\"hatch_color\":{\"value\":\"#bcbd22\"},\"line_alpha\":{\"value\":0.7},\"line_color\":{\"value\":\"#bcbd22\"},\"size\":{\"value\":8.94427190999916},\"x\":{\"field\":\"GDP\"},\"y\":{\"field\":\"WHEAT_PPI\"}},\"id\":\"2398\",\"type\":\"Scatter\"},{\"attributes\":{\"below\":[{\"id\":\"2160\"}],\"center\":[{\"id\":\"2163\"},{\"id\":\"2167\"}],\"height\":500,\"left\":[{\"id\":\"2164\"}],\"margin\":[5,5,5,5],\"min_border_bottom\":10,\"min_border_left\":10,\"min_border_right\":10,\"min_border_top\":10,\"renderers\":[{\"id\":\"2193\"},{\"id\":\"2202\"},{\"id\":\"2211\"},{\"id\":\"2220\"},{\"id\":\"2229\"},{\"id\":\"2238\"},{\"id\":\"2247\"},{\"id\":\"2256\"},{\"id\":\"2265\"},{\"id\":\"2274\"},{\"id\":\"2283\"},{\"id\":\"2292\"},{\"id\":\"2301\"},{\"id\":\"2310\"},{\"id\":\"2319\"},{\"id\":\"2328\"},{\"id\":\"2337\"},{\"id\":\"2346\"},{\"id\":\"2355\"},{\"id\":\"2364\"},{\"id\":\"2373\"},{\"id\":\"2382\"},{\"id\":\"2391\"},{\"id\":\"2400\"},{\"id\":\"2409\"},{\"id\":\"2418\"},{\"id\":\"2427\"},{\"id\":\"2436\"},{\"id\":\"2445\"},{\"id\":\"2454\"},{\"id\":\"2463\"}],\"sizing_mode\":\"stretch_width\",\"title\":{\"id\":\"2152\"},\"toolbar\":{\"id\":\"2174\"},\"width\":500,\"x_range\":{\"id\":\"2118\"},\"x_scale\":{\"id\":\"2156\"},\"y_range\":{\"id\":\"2119\"},\"y_scale\":{\"id\":\"2158\"}},\"id\":\"2151\",\"subtype\":\"Figure\",\"type\":\"Plot\"},{\"attributes\":{\"source\":{\"id\":\"2394\"}},\"id\":\"2401\",\"type\":\"CDSView\"},{\"attributes\":{},\"id\":\"2519\",\"type\":\"UnionRenderers\"},{\"attributes\":{\"coordinates\":null,\"data_source\":{\"id\":\"2331\"},\"glyph\":{\"id\":\"2334\"},\"group\":null,\"hover_glyph\":null,\"muted_glyph\":{\"id\":\"2336\"},\"nonselection_glyph\":{\"id\":\"2335\"},\"selection_glyph\":{\"id\":\"2339\"},\"view\":{\"id\":\"2338\"}},\"id\":\"2337\",\"type\":\"GlyphRenderer\"},{\"attributes\":{},\"id\":\"2332\",\"type\":\"Selection\"},{\"attributes\":{\"coordinates\":null,\"data_source\":{\"id\":\"2394\"},\"glyph\":{\"id\":\"2397\"},\"group\":null,\"hover_glyph\":null,\"muted_glyph\":{\"id\":\"2399\"},\"nonselection_glyph\":{\"id\":\"2398\"},\"selection_glyph\":{\"id\":\"2402\"},\"view\":{\"id\":\"2401\"}},\"id\":\"2400\",\"type\":\"GlyphRenderer\"},{\"attributes\":{\"callback\":null,\"renderers\":[{\"id\":\"2193\"},{\"id\":\"2202\"},{\"id\":\"2211\"},{\"id\":\"2220\"},{\"id\":\"2229\"},{\"id\":\"2238\"},{\"id\":\"2247\"},{\"id\":\"2256\"},{\"id\":\"2265\"},{\"id\":\"2274\"},{\"id\":\"2283\"},{\"id\":\"2292\"},{\"id\":\"2301\"},{\"id\":\"2310\"},{\"id\":\"2319\"},{\"id\":\"2328\"},{\"id\":\"2337\"},{\"id\":\"2346\"},{\"id\":\"2355\"},{\"id\":\"2364\"},{\"id\":\"2373\"},{\"id\":\"2382\"},{\"id\":\"2391\"},{\"id\":\"2400\"},{\"id\":\"2409\"},{\"id\":\"2418\"},{\"id\":\"2427\"},{\"id\":\"2436\"},{\"id\":\"2445\"},{\"id\":\"2454\"},{\"id\":\"2463\"}],\"tags\":[\"hv_created\"],\"tooltips\":[[\"AREA\",\"@{AREA}\"],[\"GDP\",\"@{GDP}\"],[\"WHEAT_PPI\",\"@{WHEAT_PPI}\"]]},\"id\":\"2120\",\"type\":\"HoverTool\"},{\"attributes\":{\"source\":{\"id\":\"2331\"}},\"id\":\"2338\",\"type\":\"CDSView\"},{\"attributes\":{},\"id\":\"2158\",\"type\":\"LinearScale\"},{\"attributes\":{\"fill_alpha\":{\"value\":0.7},\"fill_color\":{\"value\":\"#8b8b8b\"},\"hatch_alpha\":{\"value\":0.1},\"hatch_color\":{\"value\":\"#8b8b8b\"},\"line_alpha\":{\"value\":0.7},\"line_color\":{\"value\":\"#8b8b8b\"},\"size\":{\"value\":8.94427190999916},\"x\":{\"field\":\"GDP\"},\"y\":{\"field\":\"WHEAT_PPI\"}},\"id\":\"2335\",\"type\":\"Scatter\"},{\"attributes\":{\"angle\":{\"value\":0.0},\"fill_alpha\":{\"value\":0.7},\"fill_color\":{\"value\":\"#bcbd22\"},\"hatch_alpha\":{\"value\":0.7},\"hatch_color\":{\"value\":\"#bcbd22\"},\"hatch_scale\":{\"value\":12.0},\"hatch_weight\":{\"value\":1.0},\"line_alpha\":{\"value\":0.7},\"line_cap\":{\"value\":\"butt\"},\"line_color\":{\"value\":\"#bcbd22\"},\"line_dash\":{\"value\":[]},\"line_dash_offset\":{\"value\":0},\"line_join\":{\"value\":\"bevel\"},\"line_width\":{\"value\":1},\"marker\":{\"value\":\"circle\"},\"size\":{\"value\":8.94427190999916},\"x\":{\"field\":\"GDP\"},\"y\":{\"field\":\"WHEAT_PPI\"}},\"id\":\"2402\",\"type\":\"Scatter\"},{\"attributes\":{},\"id\":\"2156\",\"type\":\"LinearScale\"},{\"attributes\":{\"fill_alpha\":{\"value\":0.2},\"fill_color\":{\"value\":\"#bcbd22\"},\"hatch_alpha\":{\"value\":0.2},\"hatch_color\":{\"value\":\"#bcbd22\"},\"line_alpha\":{\"value\":0.2},\"line_color\":{\"value\":\"#bcbd22\"},\"size\":{\"value\":8.94427190999916},\"x\":{\"field\":\"GDP\"},\"y\":{\"field\":\"WHEAT_PPI\"}},\"id\":\"2399\",\"type\":\"Scatter\"},{\"attributes\":{\"coordinates\":null,\"group\":null,\"text_color\":\"black\",\"text_font_size\":\"12pt\"},\"id\":\"2152\",\"type\":\"Title\"},{\"attributes\":{\"fill_alpha\":{\"value\":0.7},\"fill_color\":{\"value\":\"#8b8b8b\"},\"hatch_alpha\":{\"value\":0.7},\"hatch_color\":{\"value\":\"#8b8b8b\"},\"line_alpha\":{\"value\":0.7},\"line_color\":{\"value\":\"#8b8b8b\"},\"size\":{\"value\":8.94427190999916},\"x\":{\"field\":\"GDP\"},\"y\":{\"field\":\"WHEAT_PPI\"}},\"id\":\"2334\",\"type\":\"Scatter\"},{\"attributes\":{},\"id\":\"2531\",\"type\":\"UnionRenderers\"},{\"attributes\":{},\"id\":\"2161\",\"type\":\"BasicTicker\"},{\"attributes\":{\"axis\":{\"id\":\"2160\"},\"coordinates\":null,\"grid_line_color\":null,\"group\":null,\"ticker\":null},\"id\":\"2163\",\"type\":\"Grid\"},{\"attributes\":{\"axis_label\":\"GDP\",\"coordinates\":null,\"formatter\":{\"id\":\"2182\"},\"group\":null,\"major_label_policy\":{\"id\":\"2183\"},\"ticker\":{\"id\":\"2161\"}},\"id\":\"2160\",\"type\":\"LinearAxis\"},{\"attributes\":{\"data\":{\"AREA\":[\"Malta\"],\"GDP\":{\"__ndarray__\":\"xM4UOpkT0kA=\",\"dtype\":\"float64\",\"order\":\"little\",\"shape\":[1]},\"WHEAT_PPI\":{\"__ndarray__\":\"4XoUrkcRUkA=\",\"dtype\":\"float64\",\"order\":\"little\",\"shape\":[1]}},\"selected\":{\"id\":\"2368\"},\"selection_policy\":{\"id\":\"2513\"}},\"id\":\"2367\",\"type\":\"ColumnDataSource\"},{\"attributes\":{},\"id\":\"2165\",\"type\":\"BasicTicker\"},{\"attributes\":{},\"id\":\"2169\",\"type\":\"PanTool\"},{\"attributes\":{},\"id\":\"2183\",\"type\":\"AllLabels\"},{\"attributes\":{},\"id\":\"2404\",\"type\":\"Selection\"},{\"attributes\":{\"axis_label\":\"WHEAT_PPI\",\"coordinates\":null,\"formatter\":{\"id\":\"2185\"},\"group\":null,\"major_label_policy\":{\"id\":\"2186\"},\"ticker\":{\"id\":\"2165\"}},\"id\":\"2164\",\"type\":\"LinearAxis\"},{\"attributes\":{\"source\":{\"id\":\"2403\"}},\"id\":\"2410\",\"type\":\"CDSView\"},{\"attributes\":{},\"id\":\"2170\",\"type\":\"WheelZoomTool\"},{\"attributes\":{},\"id\":\"2529\",\"type\":\"UnionRenderers\"},{\"attributes\":{\"fill_alpha\":{\"value\":0.7},\"fill_color\":{\"value\":\"#30a2da\"},\"hatch_alpha\":{\"value\":0.1},\"hatch_color\":{\"value\":\"#30a2da\"},\"line_alpha\":{\"value\":0.7},\"line_color\":{\"value\":\"#30a2da\"},\"size\":{\"value\":8.94427190999916},\"x\":{\"field\":\"GDP\"},\"y\":{\"field\":\"WHEAT_PPI\"}},\"id\":\"2407\",\"type\":\"Scatter\"},{\"attributes\":{\"axis\":{\"id\":\"2164\"},\"coordinates\":null,\"dimension\":1,\"grid_line_color\":null,\"group\":null,\"ticker\":null},\"id\":\"2167\",\"type\":\"Grid\"},{\"attributes\":{\"data\":{\"AREA\":[\"Latvia\"],\"GDP\":{\"__ndarray__\":\"cqPIWvOpwUA=\",\"dtype\":\"float64\",\"order\":\"little\",\"shape\":[1]},\"WHEAT_PPI\":{\"__ndarray__\":\"AAAAAADATEA=\",\"dtype\":\"float64\",\"order\":\"little\",\"shape\":[1]}},\"selected\":{\"id\":\"2341\"},\"selection_policy\":{\"id\":\"2507\"}},\"id\":\"2340\",\"type\":\"ColumnDataSource\"},{\"attributes\":{\"angle\":{\"value\":0.0},\"fill_alpha\":{\"value\":0.7},\"fill_color\":{\"value\":\"#8b8b8b\"},\"hatch_alpha\":{\"value\":0.7},\"hatch_color\":{\"value\":\"#8b8b8b\"},\"hatch_scale\":{\"value\":12.0},\"hatch_weight\":{\"value\":1.0},\"line_alpha\":{\"value\":0.7},\"line_cap\":{\"value\":\"butt\"},\"line_color\":{\"value\":\"#8b8b8b\"},\"line_dash\":{\"value\":[]},\"line_dash_offset\":{\"value\":0},\"line_join\":{\"value\":\"bevel\"},\"line_width\":{\"value\":1},\"marker\":{\"value\":\"circle\"},\"size\":{\"value\":8.94427190999916},\"x\":{\"field\":\"GDP\"},\"y\":{\"field\":\"WHEAT_PPI\"}},\"id\":\"2339\",\"type\":\"Scatter\"},{\"attributes\":{},\"id\":\"2168\",\"type\":\"SaveTool\"},{\"attributes\":{\"fill_alpha\":{\"value\":0.2},\"fill_color\":{\"value\":\"#8b8b8b\"},\"hatch_alpha\":{\"value\":0.2},\"hatch_color\":{\"value\":\"#8b8b8b\"},\"line_alpha\":{\"value\":0.2},\"line_color\":{\"value\":\"#8b8b8b\"},\"size\":{\"value\":8.94427190999916},\"x\":{\"field\":\"GDP\"},\"y\":{\"field\":\"WHEAT_PPI\"}},\"id\":\"2336\",\"type\":\"Scatter\"},{\"attributes\":{\"overlay\":{\"id\":\"2173\"}},\"id\":\"2171\",\"type\":\"BoxZoomTool\"},{\"attributes\":{\"fill_alpha\":{\"value\":0.7},\"fill_color\":{\"value\":\"#30a2da\"},\"hatch_alpha\":{\"value\":0.7},\"hatch_color\":{\"value\":\"#30a2da\"},\"line_alpha\":{\"value\":0.7},\"line_color\":{\"value\":\"#30a2da\"},\"size\":{\"value\":8.94427190999916},\"x\":{\"field\":\"GDP\"},\"y\":{\"field\":\"WHEAT_PPI\"}},\"id\":\"2406\",\"type\":\"Scatter\"},{\"attributes\":{},\"id\":\"2172\",\"type\":\"ResetTool\"},{\"attributes\":{\"coordinates\":null,\"data_source\":{\"id\":\"2403\"},\"glyph\":{\"id\":\"2406\"},\"group\":null,\"hover_glyph\":null,\"muted_glyph\":{\"id\":\"2408\"},\"nonselection_glyph\":{\"id\":\"2407\"},\"selection_glyph\":{\"id\":\"2411\"},\"view\":{\"id\":\"2410\"}},\"id\":\"2409\",\"type\":\"GlyphRenderer\"},{\"attributes\":{},\"id\":\"2521\",\"type\":\"UnionRenderers\"},{\"attributes\":{\"bottom_units\":\"screen\",\"coordinates\":null,\"fill_alpha\":0.5,\"fill_color\":\"lightgrey\",\"group\":null,\"left_units\":\"screen\",\"level\":\"overlay\",\"line_alpha\":1.0,\"line_color\":\"black\",\"line_dash\":[4,4],\"line_width\":2,\"right_units\":\"screen\",\"syncable\":false,\"top_units\":\"screen\"},\"id\":\"2173\",\"type\":\"BoxAnnotation\"},{\"attributes\":{},\"id\":\"2341\",\"type\":\"Selection\"},{\"attributes\":{\"data\":{\"AREA\":[\"Luxembourg\"],\"GDP\":{\"__ndarray__\":\"syRATWdj60A=\",\"dtype\":\"float64\",\"order\":\"little\",\"shape\":[1]},\"WHEAT_PPI\":{\"__ndarray__\":\"KVyPwvW4VkA=\",\"dtype\":\"float64\",\"order\":\"little\",\"shape\":[1]}},\"selected\":{\"id\":\"2359\"},\"selection_policy\":{\"id\":\"2511\"}},\"id\":\"2358\",\"type\":\"ColumnDataSource\"},{\"attributes\":{\"data\":{\"AREA\":[\"Slovenia\"],\"GDP\":{\"__ndarray__\":\"0jWTbw2C0kA=\",\"dtype\":\"float64\",\"order\":\"little\",\"shape\":[1]},\"WHEAT_PPI\":{\"__ndarray__\":\"cT0K16PwUkA=\",\"dtype\":\"float64\",\"order\":\"little\",\"shape\":[1]}},\"selected\":{\"id\":\"2422\"},\"selection_policy\":{\"id\":\"2525\"}},\"id\":\"2421\",\"type\":\"ColumnDataSource\"},{\"attributes\":{\"coordinates\":null,\"data_source\":{\"id\":\"2340\"},\"glyph\":{\"id\":\"2343\"},\"group\":null,\"hover_glyph\":null,\"muted_glyph\":{\"id\":\"2345\"},\"nonselection_glyph\":{\"id\":\"2344\"},\"selection_glyph\":{\"id\":\"2348\"},\"view\":{\"id\":\"2347\"}},\"id\":\"2346\",\"type\":\"GlyphRenderer\"},{\"attributes\":{\"angle\":{\"value\":0.0},\"fill_alpha\":{\"value\":0.7},\"fill_color\":{\"value\":\"#30a2da\"},\"hatch_alpha\":{\"value\":0.7},\"hatch_color\":{\"value\":\"#30a2da\"},\"hatch_scale\":{\"value\":12.0},\"hatch_weight\":{\"value\":1.0},\"line_alpha\":{\"value\":0.7},\"line_cap\":{\"value\":\"butt\"},\"line_color\":{\"value\":\"#30a2da\"},\"line_dash\":{\"value\":[]},\"line_dash_offset\":{\"value\":0},\"line_join\":{\"value\":\"bevel\"},\"line_width\":{\"value\":1},\"marker\":{\"value\":\"circle\"},\"size\":{\"value\":8.94427190999916},\"x\":{\"field\":\"GDP\"},\"y\":{\"field\":\"WHEAT_PPI\"}},\"id\":\"2411\",\"type\":\"Scatter\"},{\"attributes\":{\"fill_alpha\":{\"value\":0.2},\"fill_color\":{\"value\":\"#30a2da\"},\"hatch_alpha\":{\"value\":0.2},\"hatch_color\":{\"value\":\"#30a2da\"},\"line_alpha\":{\"value\":0.2},\"line_color\":{\"value\":\"#30a2da\"},\"size\":{\"value\":8.94427190999916},\"x\":{\"field\":\"GDP\"},\"y\":{\"field\":\"WHEAT_PPI\"}},\"id\":\"2408\",\"type\":\"Scatter\"},{\"attributes\":{\"source\":{\"id\":\"2340\"}},\"id\":\"2347\",\"type\":\"CDSView\"},{\"attributes\":{},\"id\":\"2413\",\"type\":\"Selection\"},{\"attributes\":{\"fill_alpha\":{\"value\":0.7},\"fill_color\":{\"value\":\"#17becf\"},\"hatch_alpha\":{\"value\":0.1},\"hatch_color\":{\"value\":\"#17becf\"},\"line_alpha\":{\"value\":0.7},\"line_color\":{\"value\":\"#17becf\"},\"size\":{\"value\":8.94427190999916},\"x\":{\"field\":\"GDP\"},\"y\":{\"field\":\"WHEAT_PPI\"}},\"id\":\"2344\",\"type\":\"Scatter\"},{\"attributes\":{},\"id\":\"2185\",\"type\":\"BasicTickFormatter\"},{\"attributes\":{},\"id\":\"2186\",\"type\":\"AllLabels\"},{\"attributes\":{\"coordinates\":null,\"data_source\":{\"id\":\"2412\"},\"glyph\":{\"id\":\"2415\"},\"group\":null,\"hover_glyph\":null,\"muted_glyph\":{\"id\":\"2417\"},\"nonselection_glyph\":{\"id\":\"2416\"},\"selection_glyph\":{\"id\":\"2420\"},\"view\":{\"id\":\"2419\"}},\"id\":\"2418\",\"type\":\"GlyphRenderer\"},{\"attributes\":{\"fill_alpha\":{\"value\":0.7},\"fill_color\":{\"value\":\"#30a2da\"},\"hatch_alpha\":{\"value\":0.7},\"hatch_color\":{\"value\":\"#30a2da\"},\"line_alpha\":{\"value\":0.7},\"line_color\":{\"value\":\"#30a2da\"},\"size\":{\"value\":8.94427190999916},\"x\":{\"field\":\"GDP\"},\"y\":{\"field\":\"WHEAT_PPI\"}},\"id\":\"2190\",\"type\":\"Scatter\"},{\"attributes\":{\"fill_alpha\":{\"value\":0.7},\"fill_color\":{\"value\":\"#17becf\"},\"hatch_alpha\":{\"value\":0.7},\"hatch_color\":{\"value\":\"#17becf\"},\"line_alpha\":{\"value\":0.7},\"line_color\":{\"value\":\"#17becf\"},\"size\":{\"value\":8.94427190999916},\"x\":{\"field\":\"GDP\"},\"y\":{\"field\":\"WHEAT_PPI\"}},\"id\":\"2343\",\"type\":\"Scatter\"},{\"attributes\":{},\"id\":\"2523\",\"type\":\"UnionRenderers\"},{\"attributes\":{\"data\":{\"AREA\":[\"Canada\"],\"GDP\":{\"__ndarray__\":\"3LxxUsCF3UA=\",\"dtype\":\"float64\",\"order\":\"little\",\"shape\":[1]},\"WHEAT_PPI\":{\"__ndarray__\":\"AAAAAABQUUA=\",\"dtype\":\"float64\",\"order\":\"little\",\"shape\":[1]}},\"selected\":{\"id\":\"2215\"},\"selection_policy\":{\"id\":\"2479\"}},\"id\":\"2214\",\"type\":\"ColumnDataSource\"},{\"attributes\":{\"data\":{\"AREA\":[\"United Kingdom of Great Britain and Northern Ireland\"],\"GDP\":{\"__ndarray__\":\"XP+uz8I920A=\",\"dtype\":\"float64\",\"order\":\"little\",\"shape\":[1]},\"WHEAT_PPI\":{\"__ndarray__\":\"AAAAAABgTkA=\",\"dtype\":\"float64\",\"order\":\"little\",\"shape\":[1]}},\"selected\":{\"id\":\"2449\"},\"selection_policy\":{\"id\":\"2531\"}},\"id\":\"2448\",\"type\":\"ColumnDataSource\"},{\"attributes\":{\"source\":{\"id\":\"2412\"}},\"id\":\"2419\",\"type\":\"CDSView\"},{\"attributes\":{\"fill_alpha\":{\"value\":0.7},\"fill_color\":{\"value\":\"#fc4f30\"},\"hatch_alpha\":{\"value\":0.1},\"hatch_color\":{\"value\":\"#fc4f30\"},\"line_alpha\":{\"value\":0.7},\"line_color\":{\"value\":\"#fc4f30\"},\"size\":{\"value\":8.94427190999916},\"x\":{\"field\":\"GDP\"},\"y\":{\"field\":\"WHEAT_PPI\"}},\"id\":\"2416\",\"type\":\"Scatter\"},{\"attributes\":{\"tools\":[{\"id\":\"2120\"},{\"id\":\"2168\"},{\"id\":\"2169\"},{\"id\":\"2170\"},{\"id\":\"2171\"},{\"id\":\"2172\"}]},\"id\":\"2174\",\"type\":\"Toolbar\"},{\"attributes\":{\"fill_alpha\":{\"value\":0.7},\"fill_color\":{\"value\":\"#fc4f30\"},\"hatch_alpha\":{\"value\":0.7},\"hatch_color\":{\"value\":\"#fc4f30\"},\"line_alpha\":{\"value\":0.7},\"line_color\":{\"value\":\"#fc4f30\"},\"size\":{\"value\":8.94427190999916},\"x\":{\"field\":\"GDP\"},\"y\":{\"field\":\"WHEAT_PPI\"}},\"id\":\"2415\",\"type\":\"Scatter\"},{\"attributes\":{\"source\":{\"id\":\"2439\"}},\"id\":\"2446\",\"type\":\"CDSView\"},{\"attributes\":{\"angle\":{\"value\":0.0},\"fill_alpha\":{\"value\":0.7},\"fill_color\":{\"value\":\"#17becf\"},\"hatch_alpha\":{\"value\":0.7},\"hatch_color\":{\"value\":\"#17becf\"},\"hatch_scale\":{\"value\":12.0},\"hatch_weight\":{\"value\":1.0},\"line_alpha\":{\"value\":0.7},\"line_cap\":{\"value\":\"butt\"},\"line_color\":{\"value\":\"#17becf\"},\"line_dash\":{\"value\":[]},\"line_dash_offset\":{\"value\":0},\"line_join\":{\"value\":\"bevel\"},\"line_width\":{\"value\":1},\"marker\":{\"value\":\"circle\"},\"size\":{\"value\":8.94427190999916},\"x\":{\"field\":\"GDP\"},\"y\":{\"field\":\"WHEAT_PPI\"}},\"id\":\"2348\",\"type\":\"Scatter\"},{\"attributes\":{},\"id\":\"2525\",\"type\":\"UnionRenderers\"},{\"attributes\":{\"fill_alpha\":{\"value\":0.2},\"fill_color\":{\"value\":\"#17becf\"},\"hatch_alpha\":{\"value\":0.2},\"hatch_color\":{\"value\":\"#17becf\"},\"line_alpha\":{\"value\":0.2},\"line_color\":{\"value\":\"#17becf\"},\"size\":{\"value\":8.94427190999916},\"x\":{\"field\":\"GDP\"},\"y\":{\"field\":\"WHEAT_PPI\"}},\"id\":\"2345\",\"type\":\"Scatter\"},{\"attributes\":{},\"id\":\"2188\",\"type\":\"Selection\"},{\"attributes\":{\"data\":{\"AREA\":[\"Belgium\"],\"GDP\":{\"__ndarray__\":\"XvI/+dkd3EA=\",\"dtype\":\"float64\",\"order\":\"little\",\"shape\":[1]},\"WHEAT_PPI\":{\"__ndarray__\":\"H4XrUbj+UUA=\",\"dtype\":\"float64\",\"order\":\"little\",\"shape\":[1]}},\"selected\":{\"id\":\"2197\"},\"selection_policy\":{\"id\":\"2475\"}},\"id\":\"2196\",\"type\":\"ColumnDataSource\"},{\"attributes\":{},\"id\":\"2533\",\"type\":\"UnionRenderers\"},{\"attributes\":{\"fill_alpha\":{\"value\":0.2},\"fill_color\":{\"value\":\"#fc4f30\"},\"hatch_alpha\":{\"value\":0.2},\"hatch_color\":{\"value\":\"#fc4f30\"},\"line_alpha\":{\"value\":0.2},\"line_color\":{\"value\":\"#fc4f30\"},\"size\":{\"value\":8.94427190999916},\"x\":{\"field\":\"GDP\"},\"y\":{\"field\":\"WHEAT_PPI\"}},\"id\":\"2417\",\"type\":\"Scatter\"},{\"attributes\":{\"fill_alpha\":{\"value\":0.7},\"fill_color\":{\"value\":\"#9467bd\"},\"hatch_alpha\":{\"value\":0.7},\"hatch_color\":{\"value\":\"#9467bd\"},\"line_alpha\":{\"value\":0.7},\"line_color\":{\"value\":\"#9467bd\"},\"size\":{\"value\":8.94427190999916},\"x\":{\"field\":\"GDP\"},\"y\":{\"field\":\"WHEAT_PPI\"}},\"id\":\"2352\",\"type\":\"Scatter\"},{\"attributes\":{},\"id\":\"2487\",\"type\":\"UnionRenderers\"},{\"attributes\":{},\"id\":\"2350\",\"type\":\"Selection\"},{\"attributes\":{},\"id\":\"2182\",\"type\":\"BasicTickFormatter\"}],\"root_ids\":[\"2111\",\"3306\"]},\"title\":\"Bokeh Application\",\"version\":\"2.4.2\"}};\n",
       "    var render_items = [{\"docid\":\"3811d54c-720a-40e5-affc-a9d9acd886ca\",\"root_ids\":[\"2111\"],\"roots\":{\"2111\":\"a4050ad3-78a7-4b59-888b-e29ccc8ae405\"}}];\n",
       "    root.Bokeh.embed.embed_items_notebook(docs_json, render_items);\n",
       "  }\n",
       "  if (root.Bokeh !== undefined && root.Bokeh.Panel !== undefined && ( root['Tabulator'] !== undefined)) {\n",
       "    embed_document(root);\n",
       "  } else {\n",
       "    var attempts = 0;\n",
       "    var timer = setInterval(function(root) {\n",
       "      if (root.Bokeh !== undefined && root.Bokeh.Panel !== undefined && (root['Tabulator'] !== undefined)) {\n",
       "        clearInterval(timer);\n",
       "        embed_document(root);\n",
       "      } else if (document.readyState == \"complete\") {\n",
       "        attempts++;\n",
       "        if (attempts > 200) {\n",
       "          clearInterval(timer);\n",
       "          console.log(\"Bokeh: ERROR: Unable to run BokehJS code because BokehJS library is missing\");\n",
       "        }\n",
       "      }\n",
       "    }, 25, root)\n",
       "  }\n",
       "})(window);</script>"
      ],
      "text/plain": [
       "<hvplot.interactive.Interactive at 0x1d72e166f10>"
      ]
     },
     "execution_count": 61,
     "metadata": {
      "application/vnd.holoviews_exec.v0+json": {
       "id": "2111"
      }
     },
     "output_type": "execute_result"
    }
   ],
   "source": [
    "ppi_vs_gdp_scatterplot = ppi_vs_gdp_scatterplot_pipeline.hvplot(x='GDP', \n",
    "                                                                y='WHEAT_PPI', \n",
    "                                                                by='AREA', \n",
    "                                                                size=80, \n",
    "                                                                kind=\"scatter\", \n",
    "                                                                alpha=0.7,\n",
    "                                                                legend=False, \n",
    "                                                                height=500, \n",
    "                                                                width=500)\n",
    "ppi_vs_gdp_scatterplot"
   ]
  },
  {
   "cell_type": "code",
   "execution_count": 62,
   "id": "6bfb1026",
   "metadata": {},
   "outputs": [
    {
     "data": {
      "text/plain": [
       "['Ireland']"
      ]
     },
     "execution_count": 62,
     "metadata": {},
     "output_type": "execute_result"
    }
   ],
   "source": [
    "country_list = df_gdp_ppi.AREA.unique().tolist()\n",
    "# print(country_list)\n",
    "multi_choice_country = pn.widgets.MultiChoice(name='Select Countries', value=['Ireland'],\n",
    "    options=country_list)\n",
    "multi_choice_country.value"
   ]
  },
  {
   "cell_type": "code",
   "execution_count": 63,
   "id": "a1cabc3e",
   "metadata": {
    "scrolled": true
   },
   "outputs": [
    {
     "data": {},
     "metadata": {},
     "output_type": "display_data"
    },
    {
     "data": {
      "application/vnd.holoviews_exec.v0+json": "",
      "text/html": [
       "<div id='3657'>\n",
       "\n",
       "\n",
       "\n",
       "\n",
       "\n",
       "  <div class=\"bk-root\" id=\"68ed5756-555a-475f-8968-a142d916b99a\" data-root-id=\"3657\"></div>\n",
       "</div>\n",
       "<script type=\"application/javascript\">(function(root) {\n",
       "  function embed_document(root) {\n",
       "    var docs_json = {\"c773fbdb-da35-4d0e-adc7-89e352dfb2c8\":{\"defs\":[{\"extends\":null,\"module\":null,\"name\":\"ReactiveHTML1\",\"overrides\":[],\"properties\":[]},{\"extends\":null,\"module\":null,\"name\":\"FlexBox1\",\"overrides\":[],\"properties\":[{\"default\":\"flex-start\",\"kind\":null,\"name\":\"align_content\"},{\"default\":\"flex-start\",\"kind\":null,\"name\":\"align_items\"},{\"default\":\"row\",\"kind\":null,\"name\":\"flex_direction\"},{\"default\":\"wrap\",\"kind\":null,\"name\":\"flex_wrap\"},{\"default\":\"flex-start\",\"kind\":null,\"name\":\"justify_content\"}]},{\"extends\":null,\"module\":null,\"name\":\"GridStack1\",\"overrides\":[],\"properties\":[{\"default\":\"warn\",\"kind\":null,\"name\":\"mode\"},{\"default\":null,\"kind\":null,\"name\":\"ncols\"},{\"default\":null,\"kind\":null,\"name\":\"nrows\"},{\"default\":true,\"kind\":null,\"name\":\"allow_resize\"},{\"default\":true,\"kind\":null,\"name\":\"allow_drag\"},{\"default\":[],\"kind\":null,\"name\":\"state\"}]},{\"extends\":null,\"module\":null,\"name\":\"click1\",\"overrides\":[],\"properties\":[{\"default\":\"\",\"kind\":null,\"name\":\"terminal_output\"},{\"default\":\"\",\"kind\":null,\"name\":\"debug_name\"},{\"default\":0,\"kind\":null,\"name\":\"clears\"}]},{\"extends\":null,\"module\":null,\"name\":\"TemplateActions1\",\"overrides\":[],\"properties\":[{\"default\":0,\"kind\":null,\"name\":\"open_modal\"},{\"default\":0,\"kind\":null,\"name\":\"close_modal\"}]},{\"extends\":null,\"module\":null,\"name\":\"MaterialTemplateActions1\",\"overrides\":[],\"properties\":[{\"default\":0,\"kind\":null,\"name\":\"open_modal\"},{\"default\":0,\"kind\":null,\"name\":\"close_modal\"}]}],\"roots\":{\"references\":[{\"attributes\":{\"margin\":[5,10,5,10],\"options\":[\"Austria\",\"Belgium\",\"Canada\",\"Czechia\",\"Denmark\",\"Finland\",\"France\",\"Germany\",\"Greece\",\"Hungary\",\"Ireland\",\"Italy\",\"Japan\",\"Luxembourg\",\"Netherlands\",\"Poland\",\"Portugal\",\"Slovakia\",\"Spain\",\"Sweden\",\"United Kingdom of Great Britain and Northern Ireland\",\"United States of America\",\"Estonia\",\"Slovenia\",\"Latvia\",\"Lithuania\",\"Bulgaria\",\"Croatia\",\"Cyprus\",\"Malta\",\"Romania\"],\"placeholder\":\"\",\"sizing_mode\":\"stretch_width\",\"title\":\"Select Countries\",\"value\":[\"Ireland\"]},\"id\":\"3657\",\"type\":\"MultiChoice\"},{\"attributes\":{\"client_comm_id\":\"16dd55cf24a0463b86e16e01ca46945f\",\"comm_id\":\"e6f70d1d7e024bfa8e889329d1e7d89c\",\"plot_id\":\"3657\"},\"id\":\"3658\",\"type\":\"panel.models.comm_manager.CommManager\"}],\"root_ids\":[\"3657\",\"3658\"]},\"title\":\"Bokeh Application\",\"version\":\"2.4.2\"}};\n",
       "    var render_items = [{\"docid\":\"c773fbdb-da35-4d0e-adc7-89e352dfb2c8\",\"root_ids\":[\"3657\"],\"roots\":{\"3657\":\"68ed5756-555a-475f-8968-a142d916b99a\"}}];\n",
       "    root.Bokeh.embed.embed_items_notebook(docs_json, render_items);\n",
       "  }\n",
       "  if (root.Bokeh !== undefined && root.Bokeh.Panel !== undefined && ( root['Tabulator'] !== undefined)) {\n",
       "    embed_document(root);\n",
       "  } else {\n",
       "    var attempts = 0;\n",
       "    var timer = setInterval(function(root) {\n",
       "      if (root.Bokeh !== undefined && root.Bokeh.Panel !== undefined && (root['Tabulator'] !== undefined)) {\n",
       "        clearInterval(timer);\n",
       "        embed_document(root);\n",
       "      } else if (document.readyState == \"complete\") {\n",
       "        attempts++;\n",
       "        if (attempts > 200) {\n",
       "          clearInterval(timer);\n",
       "          console.log(\"Bokeh: ERROR: Unable to run BokehJS code because BokehJS library is missing\");\n",
       "        }\n",
       "      }\n",
       "    }, 25, root)\n",
       "  }\n",
       "})(window);</script>"
      ],
      "text/plain": [
       "MultiChoice(name='Select Countries', options=['Austria', 'Belgium', ...], sizing_mode='stretch_width', value=['Ireland'])"
      ]
     },
     "execution_count": 63,
     "metadata": {
      "application/vnd.holoviews_exec.v0+json": {
       "id": "3657"
      }
     },
     "output_type": "execute_result"
    }
   ],
   "source": [
    "multi_choice_country"
   ]
  },
  {
   "cell_type": "code",
   "execution_count": 72,
   "id": "df4143a2",
   "metadata": {},
   "outputs": [],
   "source": [
    "ppi_vs_gdp_scatterplot_year_pipeline = (\n",
    "    idf_gdp_ppi[\n",
    "        (idf_gdp_ppi.AREA.isin(multi_choice_country))\n",
    "    ]\n",
    "    .reset_index()\n",
    "    .sort_values(by='YEAR')  \n",
    "    .reset_index(drop=True)\n",
    ")"
   ]
  },
  {
   "cell_type": "code",
   "execution_count": 73,
   "id": "93301911",
   "metadata": {},
   "outputs": [],
   "source": [
    "# RESTRICT TABLE BY YEAR TOO\n",
    "ppi_vs_gdp_table_country_year_pipeline = (\n",
    "    idf_gdp_ppi[\n",
    "        (idf_gdp_ppi.AREA.isin(multi_choice_country)) &\n",
    "        (idf_gdp_ppi.YEAR == year_slider)\n",
    "    ]\n",
    "    .reset_index()\n",
    "    .sort_values(by='YEAR')  \n",
    "    .reset_index(drop=True)\n",
    ")"
   ]
  },
  {
   "cell_type": "code",
   "execution_count": 85,
   "id": "c0773dd2",
   "metadata": {},
   "outputs": [],
   "source": [
    "# TABLE LIMITED TO YEAR\n",
    "gdp_ppi_year_table = ppi_vs_gdp_table_country_year_pipeline.pipe(pn.widgets.Tabulator, \n",
    "                                      sizing_mode='stretch_width', \n",
    "                                      theme='bulma',\n",
    "                                                                 \n",
    "                                      hidden_columns=[\n",
    "                                        'LOCATION', \n",
    "                                        'INDICATOR', \n",
    "                                        'SUBJECT', \n",
    "                                        'MEASURE', \n",
    "                                        'FREQUENCY', \n",
    "                                        'FLAG_CODES',\n",
    "                                        'LOOKUP_ISO', \n",
    "                                        'AREA_CODE', \n",
    "                                        'AREA_CODE_M49', \n",
    "                                        'EU_MEMBER', \n",
    "                                        'ITEM_CODE', \n",
    "                                        'ITEM_CODE_CPC', \n",
    "                                        'ITEM', \n",
    "                                        'ELEMENT_CODE',\n",
    "                                        'ELEMENT', \n",
    "                                        'MONTHS_CODE', \n",
    "                                        'MONTHS', \n",
    "                                        'UNIT',\n",
    "                                        'EU_STRING',\n",
    "                                        'index'\n",
    "                                      ],\n",
    "                                      formatters={\n",
    "                                          'YEAR': StringFormatter(), \n",
    "                                          'GDP': NumberFormatter(format='$0,0.00')\n",
    "                                      },\n",
    "                                      show_index=False)"
   ]
  },
  {
   "cell_type": "code",
   "execution_count": null,
   "id": "4519cbf5",
   "metadata": {},
   "outputs": [],
   "source": []
  },
  {
   "cell_type": "code",
   "execution_count": 86,
   "id": "0ce1bae6",
   "metadata": {},
   "outputs": [],
   "source": [
    "gdp_ppi_full_table = ppi_vs_gdp_scatterplot_year_pipeline.pipe(pn.widgets.Tabulator, \n",
    "                                      sizing_mode='stretch_width', \n",
    "                                      theme='bulma',\n",
    "                                                                 \n",
    "                                      hidden_columns=[\n",
    "                                        'LOCATION', \n",
    "                                        'INDICATOR', \n",
    "                                        'SUBJECT', \n",
    "                                        'MEASURE', \n",
    "                                        'FREQUENCY', \n",
    "                                        'FLAG_CODES',\n",
    "                                        'LOOKUP_ISO', \n",
    "                                        'AREA_CODE', \n",
    "                                        'AREA_CODE_M49', \n",
    "                                        'EU_MEMBER', \n",
    "                                        'ITEM_CODE', \n",
    "                                        'ITEM_CODE_CPC', \n",
    "                                        'ITEM', \n",
    "                                        'ELEMENT_CODE',\n",
    "                                        'ELEMENT', \n",
    "                                        'MONTHS_CODE', \n",
    "                                        'MONTHS', \n",
    "                                        'UNIT',\n",
    "                                        'EU_STRING',\n",
    "                                        'index'\n",
    "                                      ],\n",
    "                                      formatters={\n",
    "                                          'YEAR': StringFormatter(), \n",
    "                                          'GDP': NumberFormatter(format='$0,0.00')\n",
    "                                      },\n",
    "                                      show_index=False)"
   ]
  },
  {
   "cell_type": "code",
   "execution_count": 87,
   "id": "3eebc273",
   "metadata": {},
   "outputs": [
    {
     "data": {},
     "metadata": {},
     "output_type": "display_data"
    },
    {
     "data": {
      "application/vnd.holoviews_exec.v0+json": "",
      "text/html": [
       "<div id='24513'>\n",
       "\n",
       "\n",
       "\n",
       "\n",
       "\n",
       "  <div class=\"bk-root\" id=\"b3122589-da1d-4f9d-a8d1-781949e4469e\" data-root-id=\"24513\"></div>\n",
       "</div>\n",
       "<script type=\"application/javascript\">(function(root) {\n",
       "  function embed_document(root) {\n",
       "    var docs_json = {\"15ae42a2-ebf5-429e-aeb0-0d4eca0a9971\":{\"defs\":[{\"extends\":null,\"module\":null,\"name\":\"ReactiveHTML1\",\"overrides\":[],\"properties\":[]},{\"extends\":null,\"module\":null,\"name\":\"FlexBox1\",\"overrides\":[],\"properties\":[{\"default\":\"flex-start\",\"kind\":null,\"name\":\"align_content\"},{\"default\":\"flex-start\",\"kind\":null,\"name\":\"align_items\"},{\"default\":\"row\",\"kind\":null,\"name\":\"flex_direction\"},{\"default\":\"wrap\",\"kind\":null,\"name\":\"flex_wrap\"},{\"default\":\"flex-start\",\"kind\":null,\"name\":\"justify_content\"}]},{\"extends\":null,\"module\":null,\"name\":\"GridStack1\",\"overrides\":[],\"properties\":[{\"default\":\"warn\",\"kind\":null,\"name\":\"mode\"},{\"default\":null,\"kind\":null,\"name\":\"ncols\"},{\"default\":null,\"kind\":null,\"name\":\"nrows\"},{\"default\":true,\"kind\":null,\"name\":\"allow_resize\"},{\"default\":true,\"kind\":null,\"name\":\"allow_drag\"},{\"default\":[],\"kind\":null,\"name\":\"state\"}]},{\"extends\":null,\"module\":null,\"name\":\"click1\",\"overrides\":[],\"properties\":[{\"default\":\"\",\"kind\":null,\"name\":\"terminal_output\"},{\"default\":\"\",\"kind\":null,\"name\":\"debug_name\"},{\"default\":0,\"kind\":null,\"name\":\"clears\"}]},{\"extends\":null,\"module\":null,\"name\":\"TemplateActions1\",\"overrides\":[],\"properties\":[{\"default\":0,\"kind\":null,\"name\":\"open_modal\"},{\"default\":0,\"kind\":null,\"name\":\"close_modal\"}]},{\"extends\":null,\"module\":null,\"name\":\"MaterialTemplateActions1\",\"overrides\":[],\"properties\":[{\"default\":0,\"kind\":null,\"name\":\"open_modal\"},{\"default\":0,\"kind\":null,\"name\":\"close_modal\"}]}],\"roots\":{\"references\":[{\"attributes\":{},\"id\":\"24564\",\"type\":\"StringFormatter\"},{\"attributes\":{},\"id\":\"24555\",\"type\":\"StringEditor\"},{\"attributes\":{\"editor\":{\"id\":\"24590\"},\"field\":\"EU_STRING\",\"formatter\":{\"id\":\"24589\"},\"title\":\"EU_STRING\",\"width\":0},\"id\":\"24591\",\"type\":\"TableColumn\"},{\"attributes\":{\"editor\":{\"id\":\"24600\"},\"field\":\"ITEM_CODE_CPC\",\"formatter\":{\"id\":\"24599\"},\"title\":\"ITEM_CODE_CPC\",\"width\":0},\"id\":\"24601\",\"type\":\"TableColumn\"},{\"attributes\":{\"editor\":{\"id\":\"24550\"},\"field\":\"AREA_CODE\",\"formatter\":{\"id\":\"24549\"},\"title\":\"AREA_CODE\",\"width\":0},\"id\":\"24551\",\"type\":\"TableColumn\"},{\"attributes\":{},\"id\":\"24570\",\"type\":\"StringEditor\"},{\"attributes\":{},\"id\":\"24589\",\"type\":\"StringFormatter\"},{\"attributes\":{\"editor\":{\"id\":\"24535\"},\"field\":\"LOCATION\",\"formatter\":{\"id\":\"24534\"},\"title\":\"LOCATION\",\"width\":0},\"id\":\"24536\",\"type\":\"TableColumn\"},{\"attributes\":{},\"id\":\"24585\",\"type\":\"IntEditor\"},{\"attributes\":{\"columns\":[{\"id\":\"24525\"},{\"id\":\"24531\"},{\"id\":\"24536\"},{\"id\":\"24541\"},{\"id\":\"24546\"},{\"id\":\"24551\"},{\"id\":\"24556\"},{\"id\":\"24561\"},{\"id\":\"24566\"},{\"id\":\"24571\"},{\"id\":\"24576\"},{\"id\":\"24581\"},{\"id\":\"24586\"},{\"id\":\"24591\"},{\"id\":\"24596\"},{\"id\":\"24601\"},{\"id\":\"24606\"},{\"id\":\"24611\"},{\"id\":\"24616\"},{\"id\":\"24621\"},{\"id\":\"24626\"},{\"id\":\"24631\"},{\"id\":\"24636\"},{\"id\":\"24642\"}],\"configuration\":{\"columns\":[{\"field\":\"index\"},{\"field\":\"YEAR\"},{\"field\":\"LOCATION\"},{\"field\":\"FLAG_CODES\"},{\"field\":\"LOOKUP_ISO\"},{\"field\":\"AREA_CODE\"},{\"field\":\"AREA_CODE_M49\"},{\"field\":\"AREA\"},{\"field\":\"INDICATOR\"},{\"field\":\"SUBJECT\"},{\"field\":\"MEASURE\"},{\"field\":\"FREQUENCY\"},{\"field\":\"EU_MEMBER\"},{\"field\":\"EU_STRING\"},{\"field\":\"ITEM_CODE\"},{\"field\":\"ITEM_CODE_CPC\"},{\"field\":\"ITEM\"},{\"field\":\"ELEMENT_CODE\"},{\"field\":\"ELEMENT\"},{\"field\":\"MONTHS_CODE\"},{\"field\":\"MONTHS\"},{\"field\":\"UNIT\"},{\"field\":\"WHEAT_PPI\"},{\"field\":\"GDP\"}],\"dataTree\":false,\"selectable\":true},\"hidden_columns\":[\"LOCATION\",\"INDICATOR\",\"SUBJECT\",\"MEASURE\",\"FREQUENCY\",\"FLAG_CODES\",\"LOOKUP_ISO\",\"AREA_CODE\",\"AREA_CODE_M49\",\"EU_MEMBER\",\"ITEM_CODE\",\"ITEM_CODE_CPC\",\"ITEM\",\"ELEMENT_CODE\",\"ELEMENT\",\"MONTHS_CODE\",\"MONTHS\",\"UNIT\",\"EU_STRING\",\"index\"],\"layout\":\"fit_data_table\",\"margin\":[5,10,5,10],\"name\":\"\",\"page\":1,\"page_size\":20,\"select_mode\":true,\"selectable_rows\":null,\"sizing_mode\":\"stretch_width\",\"source\":{\"id\":\"24521\"},\"styles\":{\"data\":{},\"id\":\"1af6a320a883461c885d5f4cf3c2300c\"},\"subscribed_events\":[\"table-edit\",\"cell-click\"],\"theme\":\"bulma\",\"theme_url\":\"https://unpkg.com/tabulator-tables@4.9.3/dist/css/bulma/\"},\"id\":\"24645\",\"type\":\"panel.models.tabulator.DataTabulator\"},{\"attributes\":{},\"id\":\"24604\",\"type\":\"StringFormatter\"},{\"attributes\":{\"children\":[{\"id\":\"24645\"}],\"margin\":[0,0,0,0],\"name\":\"Row68091\",\"sizing_mode\":\"stretch_width\"},\"id\":\"24520\",\"type\":\"Row\"},{\"attributes\":{},\"id\":\"24554\",\"type\":\"StringFormatter\"},{\"attributes\":{\"editor\":{\"id\":\"24570\"},\"field\":\"SUBJECT\",\"formatter\":{\"id\":\"24569\"},\"title\":\"SUBJECT\",\"width\":0},\"id\":\"24571\",\"type\":\"TableColumn\"},{\"attributes\":{\"text_align\":\"right\"},\"id\":\"24609\",\"type\":\"NumberFormatter\"},{\"attributes\":{\"text_align\":\"right\"},\"id\":\"24549\",\"type\":\"NumberFormatter\"},{\"attributes\":{\"editor\":{\"id\":\"24555\"},\"field\":\"AREA_CODE_M49\",\"formatter\":{\"id\":\"24554\"},\"title\":\"AREA_CODE_M49\",\"width\":0},\"id\":\"24556\",\"type\":\"TableColumn\"},{\"attributes\":{},\"id\":\"24600\",\"type\":\"StringEditor\"},{\"attributes\":{},\"id\":\"24550\",\"type\":\"IntEditor\"},{\"attributes\":{},\"id\":\"24630\",\"type\":\"NumberEditor\"},{\"attributes\":{},\"id\":\"24579\",\"type\":\"StringFormatter\"},{\"attributes\":{\"editor\":{\"id\":\"24545\"},\"field\":\"LOOKUP_ISO\",\"formatter\":{\"id\":\"24544\"},\"title\":\"LOOKUP_ISO\",\"width\":0},\"id\":\"24546\",\"type\":\"TableColumn\"},{\"attributes\":{},\"id\":\"24544\",\"type\":\"StringFormatter\"},{\"attributes\":{},\"id\":\"24545\",\"type\":\"StringEditor\"},{\"attributes\":{\"editor\":{\"id\":\"24580\"},\"field\":\"FREQUENCY\",\"formatter\":{\"id\":\"24579\"},\"title\":\"FREQUENCY\",\"width\":0},\"id\":\"24581\",\"type\":\"TableColumn\"},{\"attributes\":{\"format\":\"0,0.0[00000]\",\"text_align\":\"right\"},\"id\":\"24629\",\"type\":\"NumberFormatter\"},{\"attributes\":{\"margin\":[5,5,5,5],\"name\":\"HSpacer68129\",\"sizing_mode\":\"stretch_width\"},\"id\":\"24519\",\"type\":\"Spacer\"},{\"attributes\":{},\"id\":\"24540\",\"type\":\"StringEditor\"},{\"attributes\":{\"children\":[{\"id\":\"24517\"},{\"id\":\"24518\"}],\"margin\":[0,0,0,0],\"name\":\"Column68086\",\"sizing_mode\":\"stretch_width\"},\"id\":\"24516\",\"type\":\"Column\"},{\"attributes\":{},\"id\":\"24560\",\"type\":\"StringEditor\"},{\"attributes\":{},\"id\":\"24569\",\"type\":\"StringFormatter\"},{\"attributes\":{},\"id\":\"24559\",\"type\":\"StringFormatter\"},{\"attributes\":{},\"id\":\"24610\",\"type\":\"IntEditor\"},{\"attributes\":{\"editor\":{\"id\":\"24620\"},\"field\":\"MONTHS_CODE\",\"formatter\":{\"id\":\"24619\"},\"title\":\"MONTHS_CODE\",\"width\":0},\"id\":\"24621\",\"type\":\"TableColumn\"},{\"attributes\":{},\"id\":\"24595\",\"type\":\"IntEditor\"},{\"attributes\":{\"client_comm_id\":\"982de692c89d453f9bab22320edbb935\",\"comm_id\":\"8693f5ebfa7041ca80faa427e5141c5e\",\"plot_id\":\"24513\"},\"id\":\"24653\",\"type\":\"panel.models.comm_manager.CommManager\"},{\"attributes\":{},\"id\":\"24539\",\"type\":\"StringFormatter\"},{\"attributes\":{\"editor\":{\"id\":\"24585\"},\"field\":\"EU_MEMBER\",\"formatter\":{\"id\":\"24584\"},\"title\":\"EU_MEMBER\",\"width\":0},\"id\":\"24586\",\"type\":\"TableColumn\"},{\"attributes\":{},\"id\":\"24529\",\"type\":\"IntEditor\"},{\"attributes\":{\"editor\":{\"id\":\"24605\"},\"field\":\"ITEM\",\"formatter\":{\"id\":\"24604\"},\"title\":\"ITEM\",\"width\":0},\"id\":\"24606\",\"type\":\"TableColumn\"},{\"attributes\":{},\"id\":\"24524\",\"type\":\"IntEditor\"},{\"attributes\":{},\"id\":\"24624\",\"type\":\"StringFormatter\"},{\"attributes\":{\"text_align\":\"right\"},\"id\":\"24584\",\"type\":\"NumberFormatter\"},{\"attributes\":{},\"id\":\"24580\",\"type\":\"StringEditor\"},{\"attributes\":{\"editor\":{\"id\":\"24595\"},\"field\":\"ITEM_CODE\",\"formatter\":{\"id\":\"24594\"},\"title\":\"ITEM_CODE\",\"width\":0},\"id\":\"24596\",\"type\":\"TableColumn\"},{\"attributes\":{},\"id\":\"24605\",\"type\":\"StringEditor\"},{\"attributes\":{\"editor\":{\"id\":\"24610\"},\"field\":\"ELEMENT_CODE\",\"formatter\":{\"id\":\"24609\"},\"title\":\"ELEMENT_CODE\",\"width\":0},\"id\":\"24611\",\"type\":\"TableColumn\"},{\"attributes\":{},\"id\":\"24599\",\"type\":\"StringFormatter\"},{\"attributes\":{\"editor\":{\"id\":\"24524\"},\"field\":\"index\",\"formatter\":{\"id\":\"24523\"},\"title\":\"index\",\"width\":0},\"id\":\"24525\",\"type\":\"TableColumn\"},{\"attributes\":{\"editor\":{\"id\":\"24640\"},\"field\":\"GDP\",\"formatter\":{\"id\":\"24641\"},\"title\":\"GDP\",\"width\":0},\"id\":\"24642\",\"type\":\"TableColumn\"},{\"attributes\":{\"text_align\":\"right\"},\"id\":\"24523\",\"type\":\"NumberFormatter\"},{\"attributes\":{\"indices\":[]},\"id\":\"24522\",\"type\":\"Selection\"},{\"attributes\":{\"children\":[{\"id\":\"24516\"},{\"id\":\"24519\"}],\"margin\":[0,0,0,0],\"name\":\"Row68130\",\"sizing_mode\":\"stretch_width\"},\"id\":\"24515\",\"type\":\"Row\"},{\"attributes\":{\"text_align\":\"right\"},\"id\":\"24619\",\"type\":\"NumberFormatter\"},{\"attributes\":{\"format\":\"$0,0.00\"},\"id\":\"24641\",\"type\":\"NumberFormatter\"},{\"attributes\":{\"editor\":{\"id\":\"24560\"},\"field\":\"AREA\",\"formatter\":{\"id\":\"24559\"},\"title\":\"AREA\",\"width\":0},\"id\":\"24561\",\"type\":\"TableColumn\"},{\"attributes\":{},\"id\":\"24640\",\"type\":\"NumberEditor\"},{\"attributes\":{},\"id\":\"24530\",\"type\":\"StringFormatter\"},{\"attributes\":{\"bar_color\":\"#348796\",\"end\":2021,\"margin\":[5,10,5,10],\"sizing_mode\":\"stretch_width\",\"start\":2000,\"title\":\"Year\",\"value\":2008},\"id\":\"24518\",\"type\":\"Slider\"},{\"attributes\":{},\"id\":\"24565\",\"type\":\"StringEditor\"},{\"attributes\":{},\"id\":\"24647\",\"type\":\"UnionRenderers\"},{\"attributes\":{\"text_align\":\"right\"},\"id\":\"24594\",\"type\":\"NumberFormatter\"},{\"attributes\":{\"margin\":[5,10,5,10],\"options\":[\"Austria\",\"Belgium\",\"Canada\",\"Czechia\",\"Denmark\",\"Finland\",\"France\",\"Germany\",\"Greece\",\"Hungary\",\"Ireland\",\"Italy\",\"Japan\",\"Luxembourg\",\"Netherlands\",\"Poland\",\"Portugal\",\"Slovakia\",\"Spain\",\"Sweden\",\"United Kingdom of Great Britain and Northern Ireland\",\"United States of America\",\"Estonia\",\"Slovenia\",\"Latvia\",\"Lithuania\",\"Bulgaria\",\"Croatia\",\"Cyprus\",\"Malta\",\"Romania\"],\"placeholder\":\"\",\"sizing_mode\":\"stretch_width\",\"title\":\"Select Countries\",\"value\":[\"Ireland\",\"Canada\"]},\"id\":\"24517\",\"type\":\"MultiChoice\"},{\"attributes\":{},\"id\":\"24590\",\"type\":\"StringEditor\"},{\"attributes\":{},\"id\":\"24635\",\"type\":\"NumberEditor\"},{\"attributes\":{\"children\":[{\"id\":\"24515\"},{\"id\":\"24520\"}],\"margin\":[0,0,0,0],\"name\":\"Column68131\",\"sizing_mode\":\"stretch_width\"},\"id\":\"24514\",\"type\":\"Column\"},{\"attributes\":{},\"id\":\"24614\",\"type\":\"StringFormatter\"},{\"attributes\":{\"data\":{\"AREA\":[\"Canada\",\"Ireland\"],\"AREA_CODE\":[33,104],\"AREA_CODE_M49\":[\"'124\",\"'372\"],\"ELEMENT\":[\"Producer Price Index (2014-2016 = 100)\",\"Producer Price Index (2014-2016 = 100)\"],\"ELEMENT_CODE\":[5539,5539],\"EU_MEMBER\":[0,1],\"EU_STRING\":[\"NON-EU\",\"EU\"],\"FLAG_CODES\":[\"NaN\",\"NaN\"],\"FREQUENCY\":[\"A\",\"A\"],\"GDP\":{\"__ndarray__\":\"Z2K6kAq340CDTZ3HKYnlQA==\",\"dtype\":\"float64\",\"order\":\"little\",\"shape\":[2]},\"INDICATOR\":[\"GDP\",\"GDP\"],\"ITEM\":[\"Wheat\",\"Wheat\"],\"ITEM_CODE\":[15,15],\"ITEM_CODE_CPC\":[\"'0111\",\"'0111\"],\"LOCATION\":[\"CAN\",\"IRL\"],\"LOOKUP_ISO\":[\"CAN\",\"IRL\"],\"MEASURE\":[\"USD_CAP\",\"USD_CAP\"],\"MONTHS\":[\"Annual value\",\"Annual value\"],\"MONTHS_CODE\":[7021,7021],\"SUBJECT\":[\"TOT\",\"TOT\"],\"UNIT\":{\"__ndarray__\":\"AAAAAAAA+H8AAAAAAAD4fw==\",\"dtype\":\"float64\",\"order\":\"little\",\"shape\":[2]},\"WHEAT_PPI\":{\"__ndarray__\":\"SOF6FK43YEAzMzMzMxNWQA==\",\"dtype\":\"float64\",\"order\":\"little\",\"shape\":[2]},\"YEAR\":[2008,2008],\"index\":[52,228]},\"selected\":{\"id\":\"24522\"},\"selection_policy\":{\"id\":\"24647\"}},\"id\":\"24521\",\"type\":\"ColumnDataSource\"},{\"attributes\":{\"editor\":{\"id\":\"24615\"},\"field\":\"ELEMENT\",\"formatter\":{\"id\":\"24614\"},\"title\":\"ELEMENT\",\"width\":0},\"id\":\"24616\",\"type\":\"TableColumn\"},{\"attributes\":{},\"id\":\"24620\",\"type\":\"IntEditor\"},{\"attributes\":{\"editor\":{\"id\":\"24540\"},\"field\":\"FLAG_CODES\",\"formatter\":{\"id\":\"24539\"},\"title\":\"FLAG_CODES\",\"width\":0},\"id\":\"24541\",\"type\":\"TableColumn\"},{\"attributes\":{\"children\":[{\"id\":\"24514\"}],\"margin\":[0,0,0,0],\"name\":\"Row68132\",\"sizing_mode\":\"stretch_width\"},\"id\":\"24513\",\"type\":\"Row\"},{\"attributes\":{\"editor\":{\"id\":\"24575\"},\"field\":\"MEASURE\",\"formatter\":{\"id\":\"24574\"},\"title\":\"MEASURE\",\"width\":0},\"id\":\"24576\",\"type\":\"TableColumn\"},{\"attributes\":{},\"id\":\"24575\",\"type\":\"StringEditor\"},{\"attributes\":{},\"id\":\"24534\",\"type\":\"StringFormatter\"},{\"attributes\":{\"format\":\"0,0.0[00000]\",\"text_align\":\"right\"},\"id\":\"24634\",\"type\":\"NumberFormatter\"},{\"attributes\":{},\"id\":\"24535\",\"type\":\"StringEditor\"},{\"attributes\":{\"editor\":{\"id\":\"24635\"},\"field\":\"WHEAT_PPI\",\"formatter\":{\"id\":\"24634\"},\"title\":\"WHEAT_PPI\",\"width\":0},\"id\":\"24636\",\"type\":\"TableColumn\"},{\"attributes\":{},\"id\":\"24615\",\"type\":\"StringEditor\"},{\"attributes\":{\"editor\":{\"id\":\"24529\"},\"field\":\"YEAR\",\"formatter\":{\"id\":\"24530\"},\"title\":\"YEAR\",\"width\":0},\"id\":\"24531\",\"type\":\"TableColumn\"},{\"attributes\":{\"editor\":{\"id\":\"24630\"},\"field\":\"UNIT\",\"formatter\":{\"id\":\"24629\"},\"title\":\"UNIT\",\"width\":0},\"id\":\"24631\",\"type\":\"TableColumn\"},{\"attributes\":{\"editor\":{\"id\":\"24565\"},\"field\":\"INDICATOR\",\"formatter\":{\"id\":\"24564\"},\"title\":\"INDICATOR\",\"width\":0},\"id\":\"24566\",\"type\":\"TableColumn\"},{\"attributes\":{\"editor\":{\"id\":\"24625\"},\"field\":\"MONTHS\",\"formatter\":{\"id\":\"24624\"},\"title\":\"MONTHS\",\"width\":0},\"id\":\"24626\",\"type\":\"TableColumn\"},{\"attributes\":{},\"id\":\"24574\",\"type\":\"StringFormatter\"},{\"attributes\":{},\"id\":\"24625\",\"type\":\"StringEditor\"}],\"root_ids\":[\"24513\",\"24653\"]},\"title\":\"Bokeh Application\",\"version\":\"2.4.2\"}};\n",
       "    var render_items = [{\"docid\":\"15ae42a2-ebf5-429e-aeb0-0d4eca0a9971\",\"root_ids\":[\"24513\"],\"roots\":{\"24513\":\"b3122589-da1d-4f9d-a8d1-781949e4469e\"}}];\n",
       "    root.Bokeh.embed.embed_items_notebook(docs_json, render_items);\n",
       "  }\n",
       "  if (root.Bokeh !== undefined && root.Bokeh.Panel !== undefined && ( root['Tabulator'] !== undefined)) {\n",
       "    embed_document(root);\n",
       "  } else {\n",
       "    var attempts = 0;\n",
       "    var timer = setInterval(function(root) {\n",
       "      if (root.Bokeh !== undefined && root.Bokeh.Panel !== undefined && (root['Tabulator'] !== undefined)) {\n",
       "        clearInterval(timer);\n",
       "        embed_document(root);\n",
       "      } else if (document.readyState == \"complete\") {\n",
       "        attempts++;\n",
       "        if (attempts > 200) {\n",
       "          clearInterval(timer);\n",
       "          console.log(\"Bokeh: ERROR: Unable to run BokehJS code because BokehJS library is missing\");\n",
       "        }\n",
       "      }\n",
       "    }, 25, root)\n",
       "  }\n",
       "})(window);</script>"
      ],
      "text/plain": [
       "<hvplot.interactive.Interactive at 0x1d72fcc5c40>"
      ]
     },
     "execution_count": 87,
     "metadata": {
      "application/vnd.holoviews_exec.v0+json": {
       "id": "24513"
      }
     },
     "output_type": "execute_result"
    }
   ],
   "source": [
    "gdp_ppi_year_table"
   ]
  },
  {
   "cell_type": "code",
   "execution_count": 66,
   "id": "d9a6f913",
   "metadata": {},
   "outputs": [],
   "source": [
    "# gdp_ppi_year_table"
   ]
  },
  {
   "cell_type": "code",
   "execution_count": 78,
   "id": "0877d17c",
   "metadata": {
    "scrolled": false
   },
   "outputs": [
    {
     "data": {},
     "metadata": {},
     "output_type": "display_data"
    },
    {
     "data": {},
     "metadata": {},
     "output_type": "display_data"
    },
    {
     "data": {
      "application/vnd.holoviews_exec.v0+json": "",
      "text/html": [
       "<div id='23906'>\n",
       "\n",
       "\n",
       "\n",
       "\n",
       "\n",
       "  <div class=\"bk-root\" id=\"14a2f80a-bd32-41c1-af1f-5d900c528ae8\" data-root-id=\"23906\"></div>\n",
       "</div>\n",
       "<script type=\"application/javascript\">(function(root) {\n",
       "  function embed_document(root) {\n",
       "    var docs_json = {\"2efa6664-6814-43fd-be6d-7804b45aeac2\":{\"defs\":[{\"extends\":null,\"module\":null,\"name\":\"ReactiveHTML1\",\"overrides\":[],\"properties\":[]},{\"extends\":null,\"module\":null,\"name\":\"FlexBox1\",\"overrides\":[],\"properties\":[{\"default\":\"flex-start\",\"kind\":null,\"name\":\"align_content\"},{\"default\":\"flex-start\",\"kind\":null,\"name\":\"align_items\"},{\"default\":\"row\",\"kind\":null,\"name\":\"flex_direction\"},{\"default\":\"wrap\",\"kind\":null,\"name\":\"flex_wrap\"},{\"default\":\"flex-start\",\"kind\":null,\"name\":\"justify_content\"}]},{\"extends\":null,\"module\":null,\"name\":\"GridStack1\",\"overrides\":[],\"properties\":[{\"default\":\"warn\",\"kind\":null,\"name\":\"mode\"},{\"default\":null,\"kind\":null,\"name\":\"ncols\"},{\"default\":null,\"kind\":null,\"name\":\"nrows\"},{\"default\":true,\"kind\":null,\"name\":\"allow_resize\"},{\"default\":true,\"kind\":null,\"name\":\"allow_drag\"},{\"default\":[],\"kind\":null,\"name\":\"state\"}]},{\"extends\":null,\"module\":null,\"name\":\"click1\",\"overrides\":[],\"properties\":[{\"default\":\"\",\"kind\":null,\"name\":\"terminal_output\"},{\"default\":\"\",\"kind\":null,\"name\":\"debug_name\"},{\"default\":0,\"kind\":null,\"name\":\"clears\"}]},{\"extends\":null,\"module\":null,\"name\":\"TemplateActions1\",\"overrides\":[],\"properties\":[{\"default\":0,\"kind\":null,\"name\":\"open_modal\"},{\"default\":0,\"kind\":null,\"name\":\"close_modal\"}]},{\"extends\":null,\"module\":null,\"name\":\"MaterialTemplateActions1\",\"overrides\":[],\"properties\":[{\"default\":0,\"kind\":null,\"name\":\"open_modal\"},{\"default\":0,\"kind\":null,\"name\":\"close_modal\"}]}],\"roots\":{\"references\":[{\"attributes\":{\"label\":{\"value\":\"Ireland\"},\"renderers\":[{\"id\":\"23980\"}]},\"id\":\"23994\",\"type\":\"LegendItem\"},{\"attributes\":{},\"id\":\"23968\",\"type\":\"UnionRenderers\"},{\"attributes\":{\"children\":[{\"id\":\"23908\"},{\"id\":\"23912\"}],\"margin\":[0,0,0,0],\"name\":\"Column67436\",\"sizing_mode\":\"stretch_width\"},\"id\":\"23907\",\"type\":\"Column\"},{\"attributes\":{\"children\":[{\"id\":\"23907\"}],\"margin\":[0,0,0,0],\"name\":\"Row67437\",\"sizing_mode\":\"stretch_width\"},\"id\":\"23906\",\"type\":\"Row\"},{\"attributes\":{\"axis\":{\"id\":\"23930\"},\"coordinates\":null,\"dimension\":1,\"grid_line_color\":null,\"group\":null,\"ticker\":null},\"id\":\"23933\",\"type\":\"Grid\"},{\"attributes\":{\"margin\":[5,10,5,10],\"options\":[\"Austria\",\"Belgium\",\"Canada\",\"Czechia\",\"Denmark\",\"Finland\",\"France\",\"Germany\",\"Greece\",\"Hungary\",\"Ireland\",\"Italy\",\"Japan\",\"Luxembourg\",\"Netherlands\",\"Poland\",\"Portugal\",\"Slovakia\",\"Spain\",\"Sweden\",\"United Kingdom of Great Britain and Northern Ireland\",\"United States of America\",\"Estonia\",\"Slovenia\",\"Latvia\",\"Lithuania\",\"Bulgaria\",\"Croatia\",\"Cyprus\",\"Malta\",\"Romania\"],\"placeholder\":\"\",\"sizing_mode\":\"stretch_width\",\"title\":\"Select Countries\",\"value\":[\"Ireland\",\"Canada\"]},\"id\":\"23910\",\"type\":\"MultiChoice\"},{\"attributes\":{\"coordinates\":null,\"data_source\":{\"id\":\"23953\"},\"glyph\":{\"id\":\"23956\"},\"group\":null,\"hover_glyph\":null,\"muted_glyph\":{\"id\":\"23958\"},\"nonselection_glyph\":{\"id\":\"23957\"},\"selection_glyph\":{\"id\":\"23973\"},\"view\":{\"id\":\"23960\"}},\"id\":\"23959\",\"type\":\"GlyphRenderer\"},{\"attributes\":{},\"id\":\"23931\",\"type\":\"BasicTicker\"},{\"attributes\":{\"coordinates\":null,\"data_source\":{\"id\":\"23974\"},\"glyph\":{\"id\":\"23977\"},\"group\":null,\"hover_glyph\":null,\"muted_glyph\":{\"id\":\"23979\"},\"nonselection_glyph\":{\"id\":\"23978\"},\"selection_glyph\":{\"id\":\"23995\"},\"view\":{\"id\":\"23981\"}},\"id\":\"23980\",\"type\":\"GlyphRenderer\"},{\"attributes\":{\"fill_alpha\":{\"value\":0.7},\"fill_color\":{\"value\":\"#30a2da\"},\"hatch_alpha\":{\"value\":0.7},\"hatch_color\":{\"value\":\"#30a2da\"},\"line_alpha\":{\"value\":0.7},\"line_color\":{\"value\":\"#30a2da\"},\"size\":{\"value\":8.94427190999916},\"x\":{\"field\":\"GDP\"},\"y\":{\"field\":\"WHEAT_PPI\"}},\"id\":\"23956\",\"type\":\"Scatter\"},{\"attributes\":{\"coordinates\":null,\"group\":null,\"text\":\"Wheat v GDP\",\"text_color\":\"black\",\"text_font_size\":\"12pt\"},\"id\":\"23918\",\"type\":\"Title\"},{\"attributes\":{},\"id\":\"23954\",\"type\":\"Selection\"},{\"attributes\":{},\"id\":\"23952\",\"type\":\"AllLabels\"},{\"attributes\":{\"source\":{\"id\":\"23974\"}},\"id\":\"23981\",\"type\":\"CDSView\"},{\"attributes\":{},\"id\":\"23951\",\"type\":\"BasicTickFormatter\"},{\"attributes\":{},\"id\":\"23948\",\"type\":\"BasicTickFormatter\"},{\"attributes\":{},\"id\":\"23949\",\"type\":\"AllLabels\"},{\"attributes\":{\"fill_alpha\":{\"value\":0.7},\"fill_color\":{\"value\":\"#30a2da\"},\"hatch_alpha\":{\"value\":0.1},\"hatch_color\":{\"value\":\"#30a2da\"},\"line_alpha\":{\"value\":0.7},\"line_color\":{\"value\":\"#30a2da\"},\"size\":{\"value\":8.94427190999916},\"x\":{\"field\":\"GDP\"},\"y\":{\"field\":\"WHEAT_PPI\"}},\"id\":\"23957\",\"type\":\"Scatter\"},{\"attributes\":{\"margin\":[5,5,5,5],\"name\":\"HSpacer67434\",\"sizing_mode\":\"stretch_width\"},\"id\":\"23911\",\"type\":\"Spacer\"},{\"attributes\":{\"fill_alpha\":{\"value\":0.7},\"fill_color\":{\"value\":\"#fc4f30\"},\"hatch_alpha\":{\"value\":0.1},\"hatch_color\":{\"value\":\"#fc4f30\"},\"line_alpha\":{\"value\":0.7},\"line_color\":{\"value\":\"#fc4f30\"},\"size\":{\"value\":8.94427190999916},\"x\":{\"field\":\"GDP\"},\"y\":{\"field\":\"WHEAT_PPI\"}},\"id\":\"23978\",\"type\":\"Scatter\"},{\"attributes\":{},\"id\":\"23922\",\"type\":\"LinearScale\"},{\"attributes\":{\"label\":{\"value\":\"Canada\"},\"renderers\":[{\"id\":\"23959\"}]},\"id\":\"23972\",\"type\":\"LegendItem\"},{\"attributes\":{\"children\":[{\"id\":\"23910\"}],\"margin\":[0,0,0,0],\"name\":\"Column67263\",\"sizing_mode\":\"stretch_width\"},\"id\":\"23909\",\"type\":\"Column\"},{\"attributes\":{\"fill_alpha\":{\"value\":0.7},\"fill_color\":{\"value\":\"#fc4f30\"},\"hatch_alpha\":{\"value\":0.7},\"hatch_color\":{\"value\":\"#fc4f30\"},\"line_alpha\":{\"value\":0.7},\"line_color\":{\"value\":\"#fc4f30\"},\"size\":{\"value\":8.94427190999916},\"x\":{\"field\":\"GDP\"},\"y\":{\"field\":\"WHEAT_PPI\"}},\"id\":\"23977\",\"type\":\"Scatter\"},{\"attributes\":{},\"id\":\"23935\",\"type\":\"PanTool\"},{\"attributes\":{\"client_comm_id\":\"4068889d5fa148888c2505ef9aa3ee12\",\"comm_id\":\"130dcec8eb9544fc885f91429c4ce03f\",\"plot_id\":\"23906\"},\"id\":\"24140\",\"type\":\"panel.models.comm_manager.CommManager\"},{\"attributes\":{},\"id\":\"23924\",\"type\":\"LinearScale\"},{\"attributes\":{},\"id\":\"23934\",\"type\":\"SaveTool\"},{\"attributes\":{\"data\":{\"AREA\":[\"Ireland\",\"Ireland\",\"Ireland\",\"Ireland\",\"Ireland\",\"Ireland\",\"Ireland\",\"Ireland\",\"Ireland\",\"Ireland\",\"Ireland\",\"Ireland\",\"Ireland\",\"Ireland\",\"Ireland\",\"Ireland\",\"Ireland\",\"Ireland\",\"Ireland\",\"Ireland\",\"Ireland\",\"Ireland\"],\"GDP\":{\"__ndarray__\":\"eAjjp0iC3UA9fm/TO9TfQK0UAjncMuFANV8lnwu34UA25nVEM+3iQAQCnUkxwuNAmxvTEx6d5UBZT62+rtXmQINNnccpieVAwygInts75EA4+S26rxnlQGYwRiSSBeZAWYY41jWp5kA6lKEqQmHnQINpGL5//+hAURISad7i8EDp1JUPEn3xQIblz3c6DvNA6/zbpYW19ECbxvZaZO/1QNbkKWvO9PZAWmWm9EEW+kA=\",\"dtype\":\"float64\",\"order\":\"little\",\"shape\":[22]},\"WHEAT_PPI\":{\"__ndarray__\":\"w/UoXI+SUEDXo3A9CgdTQMP1KFyPQk9A9ihcj8JVU0DXo3A9CmdRQOxRuB6F61BAuB6F61GoU0CamZmZmTFgQDMzMzMzE1ZA7FG4HoXrUEDhehSuR6FZQHsUrkfhWlpA9ihcj8LFYUBSuB6F6zFZQAAAAAAAsF9A7FG4HoXLVEAUrkfheoRWQI/C9Shc/1dAhetRuB5lYEAAAAAAAABYQLgehetR2FtA7FG4HoXrXUA=\",\"dtype\":\"float64\",\"order\":\"little\",\"shape\":[22]}},\"selected\":{\"id\":\"23975\"},\"selection_policy\":{\"id\":\"23991\"}},\"id\":\"23974\",\"type\":\"ColumnDataSource\"},{\"attributes\":{\"fill_alpha\":{\"value\":0.2},\"fill_color\":{\"value\":\"#fc4f30\"},\"hatch_alpha\":{\"value\":0.2},\"hatch_color\":{\"value\":\"#fc4f30\"},\"line_alpha\":{\"value\":0.2},\"line_color\":{\"value\":\"#fc4f30\"},\"size\":{\"value\":8.94427190999916},\"x\":{\"field\":\"GDP\"},\"y\":{\"field\":\"WHEAT_PPI\"}},\"id\":\"23979\",\"type\":\"Scatter\"},{\"attributes\":{},\"id\":\"23938\",\"type\":\"ResetTool\"},{\"attributes\":{\"callback\":null,\"renderers\":[{\"id\":\"23959\"},{\"id\":\"23980\"}],\"tags\":[\"hv_created\"],\"tooltips\":[[\"AREA\",\"@{AREA}\"],[\"GDP\",\"@{GDP}\"],[\"WHEAT_PPI\",\"@{WHEAT_PPI}\"]]},\"id\":\"23915\",\"type\":\"HoverTool\"},{\"attributes\":{\"below\":[{\"id\":\"23926\"}],\"center\":[{\"id\":\"23929\"},{\"id\":\"23933\"}],\"left\":[{\"id\":\"23930\"}],\"margin\":[5,5,5,5],\"min_border_bottom\":10,\"min_border_left\":10,\"min_border_right\":10,\"min_border_top\":10,\"renderers\":[{\"id\":\"23959\"},{\"id\":\"23980\"}],\"right\":[{\"id\":\"23971\"}],\"sizing_mode\":\"stretch_width\",\"title\":{\"id\":\"23918\"},\"toolbar\":{\"id\":\"23940\"},\"width\":500,\"x_range\":{\"id\":\"23913\"},\"x_scale\":{\"id\":\"23922\"},\"y_range\":{\"id\":\"23914\"},\"y_scale\":{\"id\":\"23924\"}},\"id\":\"23917\",\"subtype\":\"Figure\",\"type\":\"Plot\"},{\"attributes\":{\"click_policy\":\"mute\",\"coordinates\":null,\"group\":null,\"items\":[{\"id\":\"23972\"},{\"id\":\"23994\"}],\"location\":[0,0],\"title\":\"AREA\"},\"id\":\"23971\",\"type\":\"Legend\"},{\"attributes\":{},\"id\":\"23991\",\"type\":\"UnionRenderers\"},{\"attributes\":{\"end\":149.62666666666667,\"reset_end\":149.62666666666667,\"reset_start\":45.373333333333335,\"start\":45.373333333333335,\"tags\":[[[\"WHEAT_PPI\",\"WHEAT_PPI\",null]]]},\"id\":\"23914\",\"type\":\"Range1d\"},{\"attributes\":{\"end\":114601.1054946,\"reset_end\":114601.1054946,\"reset_start\":21613.3063074,\"start\":21613.3063074,\"tags\":[[[\"GDP\",\"GDP\",null]]]},\"id\":\"23913\",\"type\":\"Range1d\"},{\"attributes\":{\"tools\":[{\"id\":\"23915\"},{\"id\":\"23934\"},{\"id\":\"23935\"},{\"id\":\"23936\"},{\"id\":\"23937\"},{\"id\":\"23938\"}]},\"id\":\"23940\",\"type\":\"Toolbar\"},{\"attributes\":{\"source\":{\"id\":\"23953\"}},\"id\":\"23960\",\"type\":\"CDSView\"},{\"attributes\":{},\"id\":\"23975\",\"type\":\"Selection\"},{\"attributes\":{\"fill_alpha\":{\"value\":0.2},\"fill_color\":{\"value\":\"#30a2da\"},\"hatch_alpha\":{\"value\":0.2},\"hatch_color\":{\"value\":\"#30a2da\"},\"line_alpha\":{\"value\":0.2},\"line_color\":{\"value\":\"#30a2da\"},\"size\":{\"value\":8.94427190999916},\"x\":{\"field\":\"GDP\"},\"y\":{\"field\":\"WHEAT_PPI\"}},\"id\":\"23958\",\"type\":\"Scatter\"},{\"attributes\":{\"axis_label\":\"GDP\",\"coordinates\":null,\"formatter\":{\"id\":\"23948\"},\"group\":null,\"major_label_policy\":{\"id\":\"23949\"},\"ticker\":{\"id\":\"23927\"}},\"id\":\"23926\",\"type\":\"LinearAxis\"},{\"attributes\":{\"angle\":{\"value\":0.0},\"fill_alpha\":{\"value\":0.7},\"fill_color\":{\"value\":\"#fc4f30\"},\"hatch_alpha\":{\"value\":0.7},\"hatch_color\":{\"value\":\"#fc4f30\"},\"hatch_scale\":{\"value\":12.0},\"hatch_weight\":{\"value\":1.0},\"line_alpha\":{\"value\":0.7},\"line_cap\":{\"value\":\"butt\"},\"line_color\":{\"value\":\"#fc4f30\"},\"line_dash\":{\"value\":[]},\"line_dash_offset\":{\"value\":0},\"line_join\":{\"value\":\"bevel\"},\"line_width\":{\"value\":1},\"marker\":{\"value\":\"circle\"},\"size\":{\"value\":8.94427190999916},\"x\":{\"field\":\"GDP\"},\"y\":{\"field\":\"WHEAT_PPI\"}},\"id\":\"23995\",\"type\":\"Scatter\"},{\"attributes\":{\"angle\":{\"value\":0.0},\"fill_alpha\":{\"value\":0.7},\"fill_color\":{\"value\":\"#30a2da\"},\"hatch_alpha\":{\"value\":0.7},\"hatch_color\":{\"value\":\"#30a2da\"},\"hatch_scale\":{\"value\":12.0},\"hatch_weight\":{\"value\":1.0},\"line_alpha\":{\"value\":0.7},\"line_cap\":{\"value\":\"butt\"},\"line_color\":{\"value\":\"#30a2da\"},\"line_dash\":{\"value\":[]},\"line_dash_offset\":{\"value\":0},\"line_join\":{\"value\":\"bevel\"},\"line_width\":{\"value\":1},\"marker\":{\"value\":\"circle\"},\"size\":{\"value\":8.94427190999916},\"x\":{\"field\":\"GDP\"},\"y\":{\"field\":\"WHEAT_PPI\"}},\"id\":\"23973\",\"type\":\"Scatter\"},{\"attributes\":{\"overlay\":{\"id\":\"23939\"}},\"id\":\"23937\",\"type\":\"BoxZoomTool\"},{\"attributes\":{\"data\":{\"AREA\":[\"Canada\",\"Canada\",\"Canada\",\"Canada\",\"Canada\",\"Canada\",\"Canada\",\"Canada\",\"Canada\",\"Canada\",\"Canada\",\"Canada\",\"Canada\",\"Canada\",\"Canada\",\"Canada\",\"Canada\",\"Canada\",\"Canada\",\"Canada\",\"Canada\",\"Canada\"],\"GDP\":{\"__ndarray__\":\"MzFdiJKs3EDcvHFSwIXdQB/ZXDXOPN5A+KdUiYSX30A3/dmPvJDgQCFbli/1vOFARrJHqAWd4kDjxi1m6lLjQGdiupAKt+NAb9kh/iz64kDknq7ub5TjQPbP0wBXWORAEJNwIVym5EAhA3l2UKHlQFzMzw05V+ZA+IpuvcHP5UAX1/jMC7HmQCfeAR6ml+dArOEi9xlp6EA7cw+JCVXoQEX0a+uLD+dALQYP00Lq6UA=\",\"dtype\":\"float64\",\"order\":\"little\",\"shape\":[22]},\"WHEAT_PPI\":{\"__ndarray__\":\"j8L1KFwvTkAAAAAAAFBRQD0K16Nw3VNACtejcD36UkB7FK5H4fpQQClcj8L1aEpAFK5H4XoUS0Bcj8L1KExVQEjhehSuN2BAKVyPwvVIWECuR+F6FD5UQGZmZmZmBlpASOF6FK4nXEBmZmZmZuZcQArXo3A9mldAcT0K16PAWUCF61G4HqVZQGZmZmZmBlpAuB6F61FIW0BmZmZmZoZaQFK4HoXrEVtAzczMzMyMW0A=\",\"dtype\":\"float64\",\"order\":\"little\",\"shape\":[22]}},\"selected\":{\"id\":\"23954\"},\"selection_policy\":{\"id\":\"23968\"}},\"id\":\"23953\",\"type\":\"ColumnDataSource\"},{\"attributes\":{\"bottom_units\":\"screen\",\"coordinates\":null,\"fill_alpha\":0.5,\"fill_color\":\"lightgrey\",\"group\":null,\"left_units\":\"screen\",\"level\":\"overlay\",\"line_alpha\":1.0,\"line_color\":\"black\",\"line_dash\":[4,4],\"line_width\":2,\"right_units\":\"screen\",\"syncable\":false,\"top_units\":\"screen\"},\"id\":\"23939\",\"type\":\"BoxAnnotation\"},{\"attributes\":{\"children\":[{\"id\":\"23917\"}],\"margin\":[0,0,0,0],\"name\":\"Row67268\",\"sizing_mode\":\"stretch_width\"},\"id\":\"23912\",\"type\":\"Row\"},{\"attributes\":{\"axis\":{\"id\":\"23926\"},\"coordinates\":null,\"grid_line_color\":null,\"group\":null,\"ticker\":null},\"id\":\"23929\",\"type\":\"Grid\"},{\"attributes\":{},\"id\":\"23927\",\"type\":\"BasicTicker\"},{\"attributes\":{},\"id\":\"23936\",\"type\":\"WheelZoomTool\"},{\"attributes\":{\"axis_label\":\"WHEAT_PPI\",\"coordinates\":null,\"formatter\":{\"id\":\"23951\"},\"group\":null,\"major_label_policy\":{\"id\":\"23952\"},\"ticker\":{\"id\":\"23931\"}},\"id\":\"23930\",\"type\":\"LinearAxis\"},{\"attributes\":{\"children\":[{\"id\":\"23909\"},{\"id\":\"23911\"}],\"margin\":[0,0,0,0],\"name\":\"Row67435\",\"sizing_mode\":\"stretch_width\"},\"id\":\"23908\",\"type\":\"Row\"}],\"root_ids\":[\"23906\",\"24140\"]},\"title\":\"Bokeh Application\",\"version\":\"2.4.2\"}};\n",
       "    var render_items = [{\"docid\":\"2efa6664-6814-43fd-be6d-7804b45aeac2\",\"root_ids\":[\"23906\"],\"roots\":{\"23906\":\"14a2f80a-bd32-41c1-af1f-5d900c528ae8\"}}];\n",
       "    root.Bokeh.embed.embed_items_notebook(docs_json, render_items);\n",
       "  }\n",
       "  if (root.Bokeh !== undefined && root.Bokeh.Panel !== undefined && ( root['Tabulator'] !== undefined)) {\n",
       "    embed_document(root);\n",
       "  } else {\n",
       "    var attempts = 0;\n",
       "    var timer = setInterval(function(root) {\n",
       "      if (root.Bokeh !== undefined && root.Bokeh.Panel !== undefined && (root['Tabulator'] !== undefined)) {\n",
       "        clearInterval(timer);\n",
       "        embed_document(root);\n",
       "      } else if (document.readyState == \"complete\") {\n",
       "        attempts++;\n",
       "        if (attempts > 200) {\n",
       "          clearInterval(timer);\n",
       "          console.log(\"Bokeh: ERROR: Unable to run BokehJS code because BokehJS library is missing\");\n",
       "        }\n",
       "      }\n",
       "    }, 25, root)\n",
       "  }\n",
       "})(window);</script>"
      ],
      "text/plain": [
       "<hvplot.interactive.Interactive at 0x1d72fb636d0>"
      ]
     },
     "execution_count": 78,
     "metadata": {
      "application/vnd.holoviews_exec.v0+json": {
       "id": "23906"
      }
     },
     "output_type": "execute_result"
    }
   ],
   "source": [
    "# SCATTER\n",
    "ppi_vs_gdp_scatterplot_noyear = ppi_vs_gdp_scatterplot_year_pipeline.hvplot(x='GDP', \n",
    "                                                                y='WHEAT_PPI', \n",
    "                                                                by='AREA', \n",
    "                                                                size=80, \n",
    "                                                                kind=\"scatter\",\n",
    "                                                                title=\"Wheat v GDP\",\n",
    "                                                                alpha=0.7,\n",
    "                                                                legend=True, \n",
    "                                                                height=600, \n",
    "                                                                width=500)\n",
    "ppi_vs_gdp_scatterplot_noyear"
   ]
  },
  {
   "cell_type": "code",
   "execution_count": 115,
   "id": "efb959b4",
   "metadata": {},
   "outputs": [],
   "source": [
    "# tabs = pn.Tabs(('Limited to Year', gdp_ppi_year_table), ('Full Year',gdp_ppi_full_table))"
   ]
  },
  {
   "cell_type": "code",
   "execution_count": 106,
   "id": "973744a0",
   "metadata": {},
   "outputs": [],
   "source": [
    "# tabs"
   ]
  },
  {
   "cell_type": "code",
   "execution_count": 113,
   "id": "ab4483aa",
   "metadata": {},
   "outputs": [],
   "source": [
    "\n",
    "template = pn.template.FastListTemplate(\n",
    "    title='Wheat PPI v GDP Dashboard', \n",
    "    sidebar=[pn.pane.Markdown(\"## Country Breakdown\"), \n",
    "             pn.pane.Markdown(\"### Settings for Scatter\"),   \n",
    "             multi_choice_country,  \n",
    "             pn.pane.Markdown(\"### Settings for Table\"),\n",
    "             year_slider\n",
    "            ],\n",
    "    main=[\n",
    "        pn.Row(\n",
    "            pn.Column(\n",
    "                ppi_vs_gdp_scatterplot_noyear.panel(width=600), \n",
    "#                 gdp_ppi_year_table.panel(width=600),\n",
    "                pn.Tabs(\n",
    "                    ('Year Limited', pn.Row( gdp_ppi_year_table.panel(width=600), margin=(10,10)) ), \n",
    "                    ('All Years', pn.Row( gdp_ppi_full_table.panel(width=600), margin=(10,10)) ) ),\n",
    "                margin=(0,0)\n",
    "            ),\n",
    "        )],\n",
    "    sidebar_footer=\"Megan McHugh\",\n",
    "    theme_toggle=False,\n",
    "    accent=\"#00733B\",\n",
    "#     accent_base_color=\"#00733B\",\n",
    "    corner_radius=4,\n",
    ")"
   ]
  },
  {
   "cell_type": "code",
   "execution_count": 114,
   "id": "9fa2ac98",
   "metadata": {},
   "outputs": [
    {
     "name": "stdout",
     "output_type": "stream",
     "text": [
      "Launching server at http://localhost:49698\n"
     ]
    },
    {
     "data": {
      "text/plain": [
       "<bokeh.server.server.Server at 0x1d731b49550>"
      ]
     },
     "execution_count": 114,
     "metadata": {},
     "output_type": "execute_result"
    }
   ],
   "source": [
    "template.show()"
   ]
  },
  {
   "cell_type": "code",
   "execution_count": null,
   "id": "925c4961",
   "metadata": {},
   "outputs": [],
   "source": []
  }
 ],
 "metadata": {
  "kernelspec": {
   "display_name": "Python 3 (ipykernel)",
   "language": "python",
   "name": "python3"
  },
  "language_info": {
   "codemirror_mode": {
    "name": "ipython",
    "version": 3
   },
   "file_extension": ".py",
   "mimetype": "text/x-python",
   "name": "python",
   "nbconvert_exporter": "python",
   "pygments_lexer": "ipython3",
   "version": "3.9.12"
  }
 },
 "nbformat": 4,
 "nbformat_minor": 5
}
