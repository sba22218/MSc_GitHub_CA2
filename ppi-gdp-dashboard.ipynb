{
 "cells": [
  {
   "cell_type": "code",
   "execution_count": 1,
   "id": "5db80cdf",
   "metadata": {},
   "outputs": [],
   "source": [
    "# IMPORT PANDAS / DATA MANIPULATION MODULES\n",
    "import pandas as pd\n",
    "import numpy as np\n",
    "import os\n",
    "# import glob\n",
    "import csv\n",
    "import math\n",
    "import datetime"
   ]
  },
  {
   "cell_type": "code",
   "execution_count": 2,
   "id": "3b693eac",
   "metadata": {},
   "outputs": [],
   "source": [
    "# IMPORT CHARTING\n",
    "import seaborn as sns\n",
    "import matplotlib.pyplot as plt\n",
    "import panel as pn"
   ]
  },
  {
   "cell_type": "code",
   "execution_count": 218,
   "id": "c98185a5",
   "metadata": {},
   "outputs": [],
   "source": [
    "# INITIALIZE PANEL\n",
    "# pn.extension(sizing_mode='stretch_width')\n",
    "pn.extension('tabulator', sizing_mode='stretch_width')\n",
    "import hvplot.pandas"
   ]
  },
  {
   "cell_type": "code",
   "execution_count": 4,
   "id": "a3155fb2",
   "metadata": {},
   "outputs": [],
   "source": [
    "# ADDING TO HIDE RED SQUARES\n",
    "import warnings\n",
    "from pandas.core.common import SettingWithCopyWarning\n",
    "warnings.simplefilter(action=\"ignore\", category=SettingWithCopyWarning)"
   ]
  },
  {
   "cell_type": "code",
   "execution_count": 5,
   "id": "ad7733b6",
   "metadata": {},
   "outputs": [],
   "source": [
    "# IMPORT FOR FORMATTING\n",
    "from bokeh.models.widgets.tables import NumberFormatter, BooleanFormatter, StringFormatter\n",
    "# https://panel.holoviz.org/reference/widgets/Tabulator.html\n",
    "# FORMATTING: https://panel.holoviz.org/reference/widgets/Tabulator.html#formatters\n",
    "# https://tabulator.info/docs/4.9/format#format-builtin"
   ]
  },
  {
   "cell_type": "markdown",
   "id": "c3c30b93",
   "metadata": {},
   "source": [
    "# Data Import and Cleanup"
   ]
  },
  {
   "cell_type": "code",
   "execution_count": 245,
   "id": "21e12c99",
   "metadata": {},
   "outputs": [],
   "source": [
    "# IMPORT DATA\n",
    "# FILE PATH\n",
    "path = '../data/df_all_gdp_ppi.csv'\n",
    "# IMPORT\n",
    "df_gdp_ppi_import = pd.read_csv(path)"
   ]
  },
  {
   "cell_type": "code",
   "execution_count": 246,
   "id": "2bab953d",
   "metadata": {},
   "outputs": [
    {
     "data": {
      "text/html": [
       "<div>\n",
       "<style scoped>\n",
       "    .dataframe tbody tr th:only-of-type {\n",
       "        vertical-align: middle;\n",
       "    }\n",
       "\n",
       "    .dataframe tbody tr th {\n",
       "        vertical-align: top;\n",
       "    }\n",
       "\n",
       "    .dataframe thead th {\n",
       "        text-align: right;\n",
       "    }\n",
       "</style>\n",
       "<table border=\"1\" class=\"dataframe\">\n",
       "  <thead>\n",
       "    <tr style=\"text-align: right;\">\n",
       "      <th></th>\n",
       "      <th>LOCATION</th>\n",
       "      <th>INDICATOR</th>\n",
       "      <th>SUBJECT</th>\n",
       "      <th>MEASURE</th>\n",
       "      <th>FREQUENCY</th>\n",
       "      <th>TIME</th>\n",
       "      <th>GDP</th>\n",
       "      <th>Flag Codes</th>\n",
       "      <th>Lookup Area</th>\n",
       "      <th>Lookup M49</th>\n",
       "      <th>...</th>\n",
       "      <th>Item Code (CPC)</th>\n",
       "      <th>Item</th>\n",
       "      <th>Element Code</th>\n",
       "      <th>Element</th>\n",
       "      <th>Months Code</th>\n",
       "      <th>Months</th>\n",
       "      <th>Unit</th>\n",
       "      <th>YEAR</th>\n",
       "      <th>wheat_PPI</th>\n",
       "      <th>YEAR_INT</th>\n",
       "    </tr>\n",
       "  </thead>\n",
       "  <tbody>\n",
       "    <tr>\n",
       "      <th>0</th>\n",
       "      <td>AUT</td>\n",
       "      <td>GDP</td>\n",
       "      <td>TOT</td>\n",
       "      <td>USD_CAP</td>\n",
       "      <td>A</td>\n",
       "      <td>2000</td>\n",
       "      <td>29380.031110</td>\n",
       "      <td>NaN</td>\n",
       "      <td>Austria</td>\n",
       "      <td>40.0</td>\n",
       "      <td>...</td>\n",
       "      <td>'0111</td>\n",
       "      <td>Wheat</td>\n",
       "      <td>5539</td>\n",
       "      <td>Producer Price Index (2014-2016 = 100)</td>\n",
       "      <td>7021</td>\n",
       "      <td>Annual value</td>\n",
       "      <td>NaN</td>\n",
       "      <td>Y2000</td>\n",
       "      <td>85.69</td>\n",
       "      <td>2000</td>\n",
       "    </tr>\n",
       "    <tr>\n",
       "      <th>1</th>\n",
       "      <td>AUT</td>\n",
       "      <td>GDP</td>\n",
       "      <td>TOT</td>\n",
       "      <td>USD_CAP</td>\n",
       "      <td>A</td>\n",
       "      <td>2001</td>\n",
       "      <td>29707.462264</td>\n",
       "      <td>NaN</td>\n",
       "      <td>Austria</td>\n",
       "      <td>40.0</td>\n",
       "      <td>...</td>\n",
       "      <td>'0111</td>\n",
       "      <td>Wheat</td>\n",
       "      <td>5539</td>\n",
       "      <td>Producer Price Index (2014-2016 = 100)</td>\n",
       "      <td>7021</td>\n",
       "      <td>Annual value</td>\n",
       "      <td>NaN</td>\n",
       "      <td>Y2001</td>\n",
       "      <td>82.98</td>\n",
       "      <td>2001</td>\n",
       "    </tr>\n",
       "  </tbody>\n",
       "</table>\n",
       "<p>2 rows × 26 columns</p>\n",
       "</div>"
      ],
      "text/plain": [
       "  LOCATION INDICATOR SUBJECT  MEASURE FREQUENCY  TIME           GDP  \\\n",
       "0      AUT       GDP     TOT  USD_CAP         A  2000  29380.031110   \n",
       "1      AUT       GDP     TOT  USD_CAP         A  2001  29707.462264   \n",
       "\n",
       "  Flag Codes Lookup Area  Lookup M49  ... Item Code (CPC)   Item Element Code  \\\n",
       "0        NaN     Austria        40.0  ...           '0111  Wheat         5539   \n",
       "1        NaN     Austria        40.0  ...           '0111  Wheat         5539   \n",
       "\n",
       "                                  Element  Months Code        Months Unit  \\\n",
       "0  Producer Price Index (2014-2016 = 100)         7021  Annual value  NaN   \n",
       "1  Producer Price Index (2014-2016 = 100)         7021  Annual value  NaN   \n",
       "\n",
       "    YEAR  wheat_PPI YEAR_INT  \n",
       "0  Y2000      85.69     2000  \n",
       "1  Y2001      82.98     2001  \n",
       "\n",
       "[2 rows x 26 columns]"
      ]
     },
     "execution_count": 246,
     "metadata": {},
     "output_type": "execute_result"
    }
   ],
   "source": [
    "df_gdp_ppi_import.head(2)"
   ]
  },
  {
   "cell_type": "code",
   "execution_count": 8,
   "id": "9e589880",
   "metadata": {},
   "outputs": [
    {
     "name": "stdout",
     "output_type": "stream",
     "text": [
      "<class 'pandas.core.frame.DataFrame'>\n",
      "RangeIndex: 682 entries, 0 to 681\n",
      "Data columns (total 26 columns):\n",
      " #   Column           Non-Null Count  Dtype  \n",
      "---  ------           --------------  -----  \n",
      " 0   LOCATION         682 non-null    object \n",
      " 1   INDICATOR        682 non-null    object \n",
      " 2   SUBJECT          682 non-null    object \n",
      " 3   MEASURE          682 non-null    object \n",
      " 4   FREQUENCY        682 non-null    object \n",
      " 5   TIME             682 non-null    int64  \n",
      " 6   GDP              682 non-null    float64\n",
      " 7   Flag Codes       37 non-null     object \n",
      " 8   Lookup Area      682 non-null    object \n",
      " 9   Lookup M49       682 non-null    float64\n",
      " 10  Lookup iso       682 non-null    object \n",
      " 11  Area Code        682 non-null    int64  \n",
      " 12  Area Code (M49)  682 non-null    object \n",
      " 13  Area             682 non-null    object \n",
      " 14  eu_member        682 non-null    int64  \n",
      " 15  Item Code        682 non-null    int64  \n",
      " 16  Item Code (CPC)  682 non-null    object \n",
      " 17  Item             682 non-null    object \n",
      " 18  Element Code     682 non-null    int64  \n",
      " 19  Element          682 non-null    object \n",
      " 20  Months Code      682 non-null    int64  \n",
      " 21  Months           682 non-null    object \n",
      " 22  Unit             0 non-null      float64\n",
      " 23  YEAR             682 non-null    object \n",
      " 24  wheat_PPI        682 non-null    float64\n",
      " 25  YEAR_INT         682 non-null    int64  \n",
      "dtypes: float64(4), int64(7), object(15)\n",
      "memory usage: 138.7+ KB\n"
     ]
    }
   ],
   "source": [
    "df_gdp_ppi_import.info()"
   ]
  },
  {
   "cell_type": "code",
   "execution_count": 9,
   "id": "02c73288",
   "metadata": {},
   "outputs": [
    {
     "data": {
      "text/plain": [
       "Index(['LOCATION', 'INDICATOR', 'SUBJECT', 'MEASURE', 'FREQUENCY', 'TIME',\n",
       "       'GDP', 'Flag Codes', 'Lookup Area', 'Lookup M49', 'Lookup iso',\n",
       "       'Area Code', 'Area Code (M49)', 'Area', 'eu_member', 'Item Code',\n",
       "       'Item Code (CPC)', 'Item', 'Element Code', 'Element', 'Months Code',\n",
       "       'Months', 'Unit', 'YEAR', 'wheat_PPI', 'YEAR_INT'],\n",
       "      dtype='object')"
      ]
     },
     "execution_count": 9,
     "metadata": {},
     "output_type": "execute_result"
    }
   ],
   "source": [
    "df_gdp_ppi_import.columns"
   ]
  },
  {
   "cell_type": "code",
   "execution_count": 10,
   "id": "0500ef55",
   "metadata": {},
   "outputs": [],
   "source": [
    "# REMOVE DUPLICATE FIELDS\n",
    "df_gdp_ppi_removing_columns = df_gdp_ppi_import[['LOCATION', 'INDICATOR', 'SUBJECT', 'MEASURE', 'FREQUENCY', 'TIME', 'GDP', 'Flag Codes', 'Lookup iso','Area Code', 'Area Code (M49)', 'Area', 'eu_member', 'Item Code', 'Item Code (CPC)', 'Item', 'Element Code', 'Element', 'Months Code', 'Months', 'Unit', 'wheat_PPI'                                          ]]\n",
    "# "
   ]
  },
  {
   "cell_type": "code",
   "execution_count": 11,
   "id": "97a49218",
   "metadata": {},
   "outputs": [
    {
     "data": {
      "text/plain": [
       "Index(['LOCATION', 'INDICATOR', 'SUBJECT', 'MEASURE', 'FREQUENCY', 'TIME',\n",
       "       'GDP', 'Flag Codes', 'Lookup iso', 'Area Code', 'Area Code (M49)',\n",
       "       'Area', 'eu_member', 'Item Code', 'Item Code (CPC)', 'Item',\n",
       "       'Element Code', 'Element', 'Months Code', 'Months', 'Unit',\n",
       "       'wheat_PPI'],\n",
       "      dtype='object')"
      ]
     },
     "execution_count": 11,
     "metadata": {},
     "output_type": "execute_result"
    }
   ],
   "source": [
    "# PRINT UGLY COLUMNS\n",
    "df_gdp_ppi_removing_columns.columns\n",
    "# "
   ]
  },
  {
   "cell_type": "code",
   "execution_count": 103,
   "id": "012ab8d3",
   "metadata": {},
   "outputs": [
    {
     "data": {
      "text/plain": [
       "Index(['LOCATION', 'INDICATOR', 'SUBJECT', 'MEASURE', 'FREQUENCY', 'YEAR',\n",
       "       'GDP', 'FLAG_CODES', 'LOOKUP_ISO', 'AREA_CODE', 'AREA_CODE_M49', 'AREA',\n",
       "       'EU_MEMBER', 'ITEM_CODE', 'ITEM_CODE_CPC', 'ITEM', 'ELEMENT_CODE',\n",
       "       'ELEMENT', 'MONTHS_CODE', 'MONTHS', 'UNIT', 'WHEAT_PPI', 'EU_STRING'],\n",
       "      dtype='object')"
      ]
     },
     "execution_count": 103,
     "metadata": {},
     "output_type": "execute_result"
    }
   ],
   "source": [
    "# RENAME COLUMNS\n",
    "df_gdp_ppi_removing_columns.columns = df_gdp_ppi_removing_columns.columns.str.upper()\n",
    "df_gdp_ppi_removing_columns.columns = df_gdp_ppi_removing_columns.columns.str.replace(\" \", \"_\")\n",
    "df_gdp_ppi_removing_columns.columns = df_gdp_ppi_removing_columns.columns.str.replace(\"(\", \"\", regex=True)\n",
    "df_gdp_ppi_removing_columns.columns = df_gdp_ppi_removing_columns.columns.str.replace(\")\", \"\", regex=True)\n",
    "df_gdp_ppi_removing_columns.rename(columns = {'TIME':'YEAR'}, inplace = True)\n",
    "df_gdp_ppi_removing_columns['EU_STRING'] = np.where(df_gdp_ppi_removing_columns['EU_MEMBER'] == 1, \"EU\", \"NON-EU\")\n",
    "# df_gdp_ppi_removing_columns['YEAR'] = df_gdp_ppi_removing_columns['TIME']\n",
    "df_gdp_ppi_removing_columns.columns"
   ]
  },
  {
   "cell_type": "code",
   "execution_count": 13,
   "id": "96731233",
   "metadata": {},
   "outputs": [],
   "source": [
    "# df_gdp_ppi_removing_columns.head(2)"
   ]
  },
  {
   "cell_type": "code",
   "execution_count": 104,
   "id": "92e0da4f",
   "metadata": {},
   "outputs": [
    {
     "data": {
      "text/html": [
       "<div>\n",
       "<style scoped>\n",
       "    .dataframe tbody tr th:only-of-type {\n",
       "        vertical-align: middle;\n",
       "    }\n",
       "\n",
       "    .dataframe tbody tr th {\n",
       "        vertical-align: top;\n",
       "    }\n",
       "\n",
       "    .dataframe thead th {\n",
       "        text-align: right;\n",
       "    }\n",
       "</style>\n",
       "<table border=\"1\" class=\"dataframe\">\n",
       "  <thead>\n",
       "    <tr style=\"text-align: right;\">\n",
       "      <th></th>\n",
       "      <th>LOCATION</th>\n",
       "      <th>INDICATOR</th>\n",
       "      <th>SUBJECT</th>\n",
       "      <th>MEASURE</th>\n",
       "      <th>FREQUENCY</th>\n",
       "      <th>YEAR</th>\n",
       "      <th>GDP</th>\n",
       "      <th>FLAG_CODES</th>\n",
       "      <th>LOOKUP_ISO</th>\n",
       "      <th>AREA_CODE</th>\n",
       "      <th>...</th>\n",
       "      <th>ITEM_CODE</th>\n",
       "      <th>ITEM_CODE_CPC</th>\n",
       "      <th>ITEM</th>\n",
       "      <th>ELEMENT_CODE</th>\n",
       "      <th>ELEMENT</th>\n",
       "      <th>MONTHS_CODE</th>\n",
       "      <th>MONTHS</th>\n",
       "      <th>UNIT</th>\n",
       "      <th>WHEAT_PPI</th>\n",
       "      <th>EU_STRING</th>\n",
       "    </tr>\n",
       "  </thead>\n",
       "  <tbody>\n",
       "    <tr>\n",
       "      <th>0</th>\n",
       "      <td>AUT</td>\n",
       "      <td>GDP</td>\n",
       "      <td>TOT</td>\n",
       "      <td>USD_CAP</td>\n",
       "      <td>A</td>\n",
       "      <td>2000</td>\n",
       "      <td>29380.031110</td>\n",
       "      <td>NaN</td>\n",
       "      <td>AUT</td>\n",
       "      <td>11</td>\n",
       "      <td>...</td>\n",
       "      <td>15</td>\n",
       "      <td>'0111</td>\n",
       "      <td>Wheat</td>\n",
       "      <td>5539</td>\n",
       "      <td>Producer Price Index (2014-2016 = 100)</td>\n",
       "      <td>7021</td>\n",
       "      <td>Annual value</td>\n",
       "      <td>NaN</td>\n",
       "      <td>85.69</td>\n",
       "      <td>EU</td>\n",
       "    </tr>\n",
       "    <tr>\n",
       "      <th>1</th>\n",
       "      <td>AUT</td>\n",
       "      <td>GDP</td>\n",
       "      <td>TOT</td>\n",
       "      <td>USD_CAP</td>\n",
       "      <td>A</td>\n",
       "      <td>2001</td>\n",
       "      <td>29707.462264</td>\n",
       "      <td>NaN</td>\n",
       "      <td>AUT</td>\n",
       "      <td>11</td>\n",
       "      <td>...</td>\n",
       "      <td>15</td>\n",
       "      <td>'0111</td>\n",
       "      <td>Wheat</td>\n",
       "      <td>5539</td>\n",
       "      <td>Producer Price Index (2014-2016 = 100)</td>\n",
       "      <td>7021</td>\n",
       "      <td>Annual value</td>\n",
       "      <td>NaN</td>\n",
       "      <td>82.98</td>\n",
       "      <td>EU</td>\n",
       "    </tr>\n",
       "  </tbody>\n",
       "</table>\n",
       "<p>2 rows × 23 columns</p>\n",
       "</div>"
      ],
      "text/plain": [
       "  LOCATION INDICATOR SUBJECT  MEASURE FREQUENCY  YEAR           GDP  \\\n",
       "0      AUT       GDP     TOT  USD_CAP         A  2000  29380.031110   \n",
       "1      AUT       GDP     TOT  USD_CAP         A  2001  29707.462264   \n",
       "\n",
       "  FLAG_CODES LOOKUP_ISO  AREA_CODE  ... ITEM_CODE ITEM_CODE_CPC   ITEM  \\\n",
       "0        NaN        AUT         11  ...        15         '0111  Wheat   \n",
       "1        NaN        AUT         11  ...        15         '0111  Wheat   \n",
       "\n",
       "   ELEMENT_CODE                                 ELEMENT MONTHS_CODE  \\\n",
       "0          5539  Producer Price Index (2014-2016 = 100)        7021   \n",
       "1          5539  Producer Price Index (2014-2016 = 100)        7021   \n",
       "\n",
       "         MONTHS UNIT  WHEAT_PPI EU_STRING  \n",
       "0  Annual value  NaN      85.69        EU  \n",
       "1  Annual value  NaN      82.98        EU  \n",
       "\n",
       "[2 rows x 23 columns]"
      ]
     },
     "execution_count": 104,
     "metadata": {},
     "output_type": "execute_result"
    }
   ],
   "source": [
    "# FINAL DATAFRAME == df_gdp_ppi\n",
    "df_gdp_ppi = df_gdp_ppi_removing_columns\n",
    "# \n",
    "df_gdp_ppi.head(2)"
   ]
  },
  {
   "cell_type": "markdown",
   "id": "4cab4e14",
   "metadata": {},
   "source": [
    "# CREATING VIS PANELS"
   ]
  },
  {
   "cell_type": "markdown",
   "id": "58386fb6",
   "metadata": {},
   "source": [
    "Modern farming has a great dependence on technology and relies upon visualizations to communicate information, this includes web based, mobile based and many other digital transmission formats. Develop an interactive dashboard tailored to modern farmers, using tufts principles, to showcase the information/evidence gathered following your Machine Learning Analysis. Detail the rationale for approach and visualisation choices made during development. Note you may not use Powerbi, rapidminer, tableau or other such tools to accomplish this (at this stage)"
   ]
  },
  {
   "cell_type": "code",
   "execution_count": 15,
   "id": "13288dd6",
   "metadata": {},
   "outputs": [],
   "source": [
    "# VIS TO CREATE\n",
    "# \n",
    "# BREAKDOWN BY COUNTRY\n",
    "# "
   ]
  },
  {
   "cell_type": "code",
   "execution_count": 36,
   "id": "5d0d7402",
   "metadata": {},
   "outputs": [
    {
     "data": {},
     "metadata": {},
     "output_type": "display_data"
    },
    {
     "data": {
      "application/vnd.holoviews_exec.v0+json": "",
      "text/html": [
       "<div id='2129'>\n",
       "\n",
       "\n",
       "\n",
       "\n",
       "\n",
       "  <div class=\"bk-root\" id=\"cbad9b09-5c6c-4c7c-84bf-9a4c840c5ff2\" data-root-id=\"2129\"></div>\n",
       "</div>\n",
       "<script type=\"application/javascript\">(function(root) {\n",
       "  function embed_document(root) {\n",
       "    var docs_json = {\"82ffeb66-8c49-4a43-a3e3-a9e95952f0ac\":{\"defs\":[{\"extends\":null,\"module\":null,\"name\":\"ReactiveHTML1\",\"overrides\":[],\"properties\":[]},{\"extends\":null,\"module\":null,\"name\":\"FlexBox1\",\"overrides\":[],\"properties\":[{\"default\":\"flex-start\",\"kind\":null,\"name\":\"align_content\"},{\"default\":\"flex-start\",\"kind\":null,\"name\":\"align_items\"},{\"default\":\"row\",\"kind\":null,\"name\":\"flex_direction\"},{\"default\":\"wrap\",\"kind\":null,\"name\":\"flex_wrap\"},{\"default\":\"flex-start\",\"kind\":null,\"name\":\"justify_content\"}]},{\"extends\":null,\"module\":null,\"name\":\"GridStack1\",\"overrides\":[],\"properties\":[{\"default\":\"warn\",\"kind\":null,\"name\":\"mode\"},{\"default\":null,\"kind\":null,\"name\":\"ncols\"},{\"default\":null,\"kind\":null,\"name\":\"nrows\"},{\"default\":true,\"kind\":null,\"name\":\"allow_resize\"},{\"default\":true,\"kind\":null,\"name\":\"allow_drag\"},{\"default\":[],\"kind\":null,\"name\":\"state\"}]},{\"extends\":null,\"module\":null,\"name\":\"click1\",\"overrides\":[],\"properties\":[{\"default\":\"\",\"kind\":null,\"name\":\"terminal_output\"},{\"default\":\"\",\"kind\":null,\"name\":\"debug_name\"},{\"default\":0,\"kind\":null,\"name\":\"clears\"}]},{\"extends\":null,\"module\":null,\"name\":\"TemplateActions1\",\"overrides\":[],\"properties\":[{\"default\":0,\"kind\":null,\"name\":\"open_modal\"},{\"default\":0,\"kind\":null,\"name\":\"close_modal\"}]},{\"extends\":null,\"module\":null,\"name\":\"MaterialTemplateActions1\",\"overrides\":[],\"properties\":[{\"default\":0,\"kind\":null,\"name\":\"open_modal\"},{\"default\":0,\"kind\":null,\"name\":\"close_modal\"}]}],\"roots\":{\"references\":[{\"attributes\":{\"margin\":[5,10,5,10],\"options\":[\"Austria\",\"Belgium\",\"Canada\",\"Czechia\",\"Denmark\",\"Finland\",\"France\",\"Germany\",\"Greece\",\"Hungary\",\"Ireland\",\"Italy\",\"Japan\",\"Luxembourg\",\"Netherlands\",\"Poland\",\"Portugal\",\"Slovakia\",\"Spain\",\"Sweden\",\"United Kingdom of Great Britain and Northern Ireland\",\"United States of America\",\"Estonia\",\"Slovenia\",\"Latvia\",\"Lithuania\",\"Bulgaria\",\"Croatia\",\"Cyprus\",\"Malta\",\"Romania\"],\"sizing_mode\":\"stretch_width\",\"value\":\"Ireland\"},\"id\":\"2132\",\"type\":\"panel.models.widgets.CustomSelect\"},{\"attributes\":{\"client_comm_id\":\"a64756e80a2d4bb7a104079702c84b6f\",\"comm_id\":\"71fa5fda05834b18aac3368de8697dac\",\"plot_id\":\"2129\"},\"id\":\"2134\",\"type\":\"panel.models.comm_manager.CommManager\"},{\"attributes\":{\"css_classes\":[\"markdown\"],\"margin\":[5,5,5,5],\"name\":\"Markdown03537\",\"sizing_mode\":\"stretch_width\",\"text\":\"&lt;h4&gt;Select Country&lt;/h4&gt;\"},\"id\":\"2131\",\"type\":\"panel.models.markup.HTML\"},{\"attributes\":{\"children\":[{\"id\":\"2131\"},{\"id\":\"2132\"}],\"margin\":[0,0,0,0],\"name\":\"Column03539\",\"sizing_mode\":\"stretch_width\"},\"id\":\"2130\",\"type\":\"Column\"},{\"attributes\":{\"children\":[{\"id\":\"2130\"},{\"id\":\"2133\"}],\"margin\":[0,0,0,0],\"name\":\"Row03541\",\"sizing_mode\":\"stretch_width\"},\"id\":\"2129\",\"type\":\"Row\"},{\"attributes\":{\"margin\":[0,0,0,0],\"name\":\"Column03540\",\"sizing_mode\":\"stretch_width\"},\"id\":\"2133\",\"type\":\"Column\"}],\"root_ids\":[\"2129\",\"2134\"]},\"title\":\"Bokeh Application\",\"version\":\"2.4.2\"}};\n",
       "    var render_items = [{\"docid\":\"82ffeb66-8c49-4a43-a3e3-a9e95952f0ac\",\"root_ids\":[\"2129\"],\"roots\":{\"2129\":\"cbad9b09-5c6c-4c7c-84bf-9a4c840c5ff2\"}}];\n",
       "    root.Bokeh.embed.embed_items_notebook(docs_json, render_items);\n",
       "  }\n",
       "  if (root.Bokeh !== undefined && root.Bokeh.Panel !== undefined && ( root['Tabulator'] !== undefined)) {\n",
       "    embed_document(root);\n",
       "  } else {\n",
       "    var attempts = 0;\n",
       "    var timer = setInterval(function(root) {\n",
       "      if (root.Bokeh !== undefined && root.Bokeh.Panel !== undefined && (root['Tabulator'] !== undefined)) {\n",
       "        clearInterval(timer);\n",
       "        embed_document(root);\n",
       "      } else if (document.readyState == \"complete\") {\n",
       "        attempts++;\n",
       "        if (attempts > 200) {\n",
       "          clearInterval(timer);\n",
       "          console.log(\"Bokeh: ERROR: Unable to run BokehJS code because BokehJS library is missing\");\n",
       "        }\n",
       "      }\n",
       "    }, 25, root)\n",
       "  }\n",
       "})(window);</script>"
      ],
      "text/plain": [
       "Row(sizing_mode='stretch_width')\n",
       "    [0] Column(sizing_mode='stretch_width')\n",
       "        [0] Markdown(str, sizing_mode='stretch_width')\n",
       "        [1] Select(options=['Austria', 'Belgium', ...], sizing_mode='stretch_width', value='Ireland')\n",
       "    [1] Column(sizing_mode='stretch_width')"
      ]
     },
     "execution_count": 36,
     "metadata": {
      "application/vnd.holoviews_exec.v0+json": {
       "id": "2129"
      }
     },
     "output_type": "execute_result"
    }
   ],
   "source": [
    "# GET COUNTRY (AREA) LIST\n",
    "# df_gdp_ppi.AREA.unique().tolist()\n",
    "# DEFAULT COUNTRY\n",
    "default_country = \"Ireland\"\n",
    "# COUNTRY SELECTOR FROM DATA\n",
    "country_selector = pn.widgets.Select(value=default_country, options=df_gdp_ppi.AREA.unique().tolist(),)\n",
    "# DISPLAY TEMPORARILY\n",
    "pn.Row(pn.Column('#### Select Country', country_selector ), pn.Column())"
   ]
  },
  {
   "cell_type": "code",
   "execution_count": 120,
   "id": "a5e2f438",
   "metadata": {},
   "outputs": [],
   "source": [
    "# SELECTED COLUMNS\n",
    "# print(df_gdp_ppi.columns)\n",
    "# REARRANGE COLUMNS\n",
    "# ['LOCATION', \n",
    "# 'INDICATOR', \n",
    "# 'SUBJECT', \n",
    "# 'MEASURE', \n",
    "# 'FREQUENCY',\n",
    "# 'YEAR',\n",
    "# 'GDP',\n",
    "# 'FLAG_CODES',\n",
    "# 'LOOKUP_ISO',\n",
    "# 'AREA_CODE',\n",
    "# 'AREA_CODE_M49',\n",
    "# 'AREA',\n",
    "# 'EU_MEMBER',\n",
    "# 'ITEM_CODE',\n",
    "# 'ITEM_CODE_CPC', \n",
    "# 'ITEM', \n",
    "# 'ELEMENT_CODE',\n",
    "# 'ELEMENT', \n",
    "# 'MONTHS_CODE', \n",
    "# 'MONTHS', \n",
    "# 'UNIT', \n",
    "# 'WHEAT_PPI', \n",
    "# 'EU_STRING']\n",
    "df_gdp_ppi_reordered = df_gdp_ppi[[\n",
    "    'YEAR',\n",
    "    'LOCATION', \n",
    "    'FLAG_CODES',\n",
    "    'LOOKUP_ISO',\n",
    "    'AREA_CODE',\n",
    "    'AREA_CODE_M49',\n",
    "    'AREA',\n",
    "    'INDICATOR', \n",
    "    'SUBJECT', \n",
    "    'MEASURE', \n",
    "    'FREQUENCY',\n",
    "    'EU_MEMBER',\n",
    "    'EU_STRING',\n",
    "    'ITEM_CODE',\n",
    "    'ITEM_CODE_CPC', \n",
    "    'ITEM', \n",
    "    'ELEMENT_CODE',\n",
    "    'ELEMENT', \n",
    "    'MONTHS_CODE', \n",
    "    'MONTHS', \n",
    "    'UNIT', \n",
    "    'WHEAT_PPI',\n",
    "    'GDP',\n",
    "]]\n",
    "# MAKE INTERACTIVE\n",
    "idf_gdp_ppi = df_gdp_ppi_reordered.interactive()"
   ]
  },
  {
   "cell_type": "code",
   "execution_count": 121,
   "id": "24456a90",
   "metadata": {},
   "outputs": [],
   "source": [
    "# GDP | WHEAT PPI PER YEAR BY COUNTRY\n",
    "# \n",
    "gdp_ppi_pipeline = (\n",
    "    idf_gdp_ppi[\n",
    "        (idf_gdp_ppi.AREA == country_selector )\n",
    "    ]\n",
    "    .sort_values(by='YEAR',)\n",
    "    .reset_index(drop=True)\n",
    ")\n",
    "# "
   ]
  },
  {
   "cell_type": "code",
   "execution_count": 122,
   "id": "38687e82",
   "metadata": {},
   "outputs": [
    {
     "data": {},
     "metadata": {},
     "output_type": "display_data"
    },
    {
     "data": {
      "application/vnd.holoviews_exec.v0+json": "",
      "text/html": [
       "<div id='12740'>\n",
       "\n",
       "\n",
       "\n",
       "\n",
       "\n",
       "  <div class=\"bk-root\" id=\"a0f08f8c-f2cc-456c-9797-693a628dce1a\" data-root-id=\"12740\"></div>\n",
       "</div>\n",
       "<script type=\"application/javascript\">(function(root) {\n",
       "  function embed_document(root) {\n",
       "    var docs_json = {\"0eebe08c-d7d1-4369-8b7b-26adc5ef3799\":{\"defs\":[{\"extends\":null,\"module\":null,\"name\":\"ReactiveHTML1\",\"overrides\":[],\"properties\":[]},{\"extends\":null,\"module\":null,\"name\":\"FlexBox1\",\"overrides\":[],\"properties\":[{\"default\":\"flex-start\",\"kind\":null,\"name\":\"align_content\"},{\"default\":\"flex-start\",\"kind\":null,\"name\":\"align_items\"},{\"default\":\"row\",\"kind\":null,\"name\":\"flex_direction\"},{\"default\":\"wrap\",\"kind\":null,\"name\":\"flex_wrap\"},{\"default\":\"flex-start\",\"kind\":null,\"name\":\"justify_content\"}]},{\"extends\":null,\"module\":null,\"name\":\"GridStack1\",\"overrides\":[],\"properties\":[{\"default\":\"warn\",\"kind\":null,\"name\":\"mode\"},{\"default\":null,\"kind\":null,\"name\":\"ncols\"},{\"default\":null,\"kind\":null,\"name\":\"nrows\"},{\"default\":true,\"kind\":null,\"name\":\"allow_resize\"},{\"default\":true,\"kind\":null,\"name\":\"allow_drag\"},{\"default\":[],\"kind\":null,\"name\":\"state\"}]},{\"extends\":null,\"module\":null,\"name\":\"click1\",\"overrides\":[],\"properties\":[{\"default\":\"\",\"kind\":null,\"name\":\"terminal_output\"},{\"default\":\"\",\"kind\":null,\"name\":\"debug_name\"},{\"default\":0,\"kind\":null,\"name\":\"clears\"}]},{\"extends\":null,\"module\":null,\"name\":\"TemplateActions1\",\"overrides\":[],\"properties\":[{\"default\":0,\"kind\":null,\"name\":\"open_modal\"},{\"default\":0,\"kind\":null,\"name\":\"close_modal\"}]},{\"extends\":null,\"module\":null,\"name\":\"MaterialTemplateActions1\",\"overrides\":[],\"properties\":[{\"default\":0,\"kind\":null,\"name\":\"open_modal\"},{\"default\":0,\"kind\":null,\"name\":\"close_modal\"}]}],\"roots\":{\"references\":[{\"attributes\":{\"client_comm_id\":\"ba4291d6bc7944df93ce4ae73f2a8a3e\",\"comm_id\":\"7b59134a519f48fa903a60f8c48187e3\",\"plot_id\":\"12740\"},\"id\":\"12748\",\"type\":\"panel.models.comm_manager.CommManager\"},{\"attributes\":{\"children\":[{\"id\":\"12747\"}],\"margin\":[0,0,0,0],\"name\":\"Row17956\",\"sizing_mode\":\"stretch_width\"},\"id\":\"12746\",\"type\":\"Row\"},{\"attributes\":{\"children\":[{\"id\":\"12744\"}],\"margin\":[0,0,0,0],\"name\":\"Column17951\",\"sizing_mode\":\"stretch_width\"},\"id\":\"12743\",\"type\":\"Column\"},{\"attributes\":{\"margin\":[5,5,5,5],\"name\":\"DataFrame17990\",\"sizing_mode\":\"stretch_width\",\"text\":\"&lt;table border=&quot;0&quot; class=&quot;dataframe panel-df&quot;&gt;\\n  &lt;thead&gt;\\n    &lt;tr style=&quot;text-align: right;&quot;&gt;\\n      &lt;th&gt;&lt;/th&gt;\\n      &lt;th&gt;YEAR&lt;/th&gt;\\n      &lt;th&gt;LOCATION&lt;/th&gt;\\n      &lt;th&gt;FLAG_CODES&lt;/th&gt;\\n      &lt;th&gt;LOOKUP_ISO&lt;/th&gt;\\n      &lt;th&gt;AREA_CODE&lt;/th&gt;\\n      &lt;th&gt;AREA_CODE_M49&lt;/th&gt;\\n      &lt;th&gt;AREA&lt;/th&gt;\\n      &lt;th&gt;INDICATOR&lt;/th&gt;\\n      &lt;th&gt;SUBJECT&lt;/th&gt;\\n      &lt;th&gt;MEASURE&lt;/th&gt;\\n      &lt;th&gt;FREQUENCY&lt;/th&gt;\\n      &lt;th&gt;EU_MEMBER&lt;/th&gt;\\n      &lt;th&gt;EU_STRING&lt;/th&gt;\\n      &lt;th&gt;ITEM_CODE&lt;/th&gt;\\n      &lt;th&gt;ITEM_CODE_CPC&lt;/th&gt;\\n      &lt;th&gt;ITEM&lt;/th&gt;\\n      &lt;th&gt;ELEMENT_CODE&lt;/th&gt;\\n      &lt;th&gt;ELEMENT&lt;/th&gt;\\n      &lt;th&gt;MONTHS_CODE&lt;/th&gt;\\n      &lt;th&gt;MONTHS&lt;/th&gt;\\n      &lt;th&gt;UNIT&lt;/th&gt;\\n      &lt;th&gt;WHEAT_PPI&lt;/th&gt;\\n      &lt;th&gt;GDP&lt;/th&gt;\\n    &lt;/tr&gt;\\n  &lt;/thead&gt;\\n  &lt;tbody&gt;\\n    &lt;tr&gt;\\n      &lt;th&gt;0&lt;/th&gt;\\n      &lt;td&gt;2000&lt;/td&gt;\\n      &lt;td&gt;JPN&lt;/td&gt;\\n      &lt;td&gt;NaN&lt;/td&gt;\\n      &lt;td&gt;JPN&lt;/td&gt;\\n      &lt;td&gt;110&lt;/td&gt;\\n      &lt;td&gt;&#x27;392&lt;/td&gt;\\n      &lt;td&gt;Japan&lt;/td&gt;\\n      &lt;td&gt;GDP&lt;/td&gt;\\n      &lt;td&gt;TOT&lt;/td&gt;\\n      &lt;td&gt;USD_CAP&lt;/td&gt;\\n      &lt;td&gt;A&lt;/td&gt;\\n      &lt;td&gt;0&lt;/td&gt;\\n      &lt;td&gt;NON-EU&lt;/td&gt;\\n      &lt;td&gt;15&lt;/td&gt;\\n      &lt;td&gt;&#x27;0111&lt;/td&gt;\\n      &lt;td&gt;Wheat&lt;/td&gt;\\n      &lt;td&gt;5539&lt;/td&gt;\\n      &lt;td&gt;Producer Price Index (2014-2016 = 100)&lt;/td&gt;\\n      &lt;td&gt;7021&lt;/td&gt;\\n      &lt;td&gt;Annual value&lt;/td&gt;\\n      &lt;td&gt;NaN&lt;/td&gt;\\n      &lt;td&gt;550.54&lt;/td&gt;\\n      &lt;td&gt;27289.851934&lt;/td&gt;\\n    &lt;/tr&gt;\\n    &lt;tr&gt;\\n      &lt;th&gt;1&lt;/th&gt;\\n      &lt;td&gt;2001&lt;/td&gt;\\n      &lt;td&gt;JPN&lt;/td&gt;\\n      &lt;td&gt;NaN&lt;/td&gt;\\n      &lt;td&gt;JPN&lt;/td&gt;\\n      &lt;td&gt;110&lt;/td&gt;\\n      &lt;td&gt;&#x27;392&lt;/td&gt;\\n      &lt;td&gt;Japan&lt;/td&gt;\\n      &lt;td&gt;GDP&lt;/td&gt;\\n      &lt;td&gt;TOT&lt;/td&gt;\\n      &lt;td&gt;USD_CAP&lt;/td&gt;\\n      &lt;td&gt;A&lt;/td&gt;\\n      &lt;td&gt;0&lt;/td&gt;\\n      &lt;td&gt;NON-EU&lt;/td&gt;\\n      &lt;td&gt;15&lt;/td&gt;\\n      &lt;td&gt;&#x27;0111&lt;/td&gt;\\n      &lt;td&gt;Wheat&lt;/td&gt;\\n      &lt;td&gt;5539&lt;/td&gt;\\n      &lt;td&gt;Producer Price Index (2014-2016 = 100)&lt;/td&gt;\\n      &lt;td&gt;7021&lt;/td&gt;\\n      &lt;td&gt;Annual value&lt;/td&gt;\\n      &lt;td&gt;NaN&lt;/td&gt;\\n      &lt;td&gt;544.07&lt;/td&gt;\\n      &lt;td&gt;27946.083138&lt;/td&gt;\\n    &lt;/tr&gt;\\n    &lt;tr&gt;\\n      &lt;th&gt;2&lt;/th&gt;\\n      &lt;td&gt;2002&lt;/td&gt;\\n      &lt;td&gt;JPN&lt;/td&gt;\\n      &lt;td&gt;NaN&lt;/td&gt;\\n      &lt;td&gt;JPN&lt;/td&gt;\\n      &lt;td&gt;110&lt;/td&gt;\\n      &lt;td&gt;&#x27;392&lt;/td&gt;\\n      &lt;td&gt;Japan&lt;/td&gt;\\n      &lt;td&gt;GDP&lt;/td&gt;\\n      &lt;td&gt;TOT&lt;/td&gt;\\n      &lt;td&gt;USD_CAP&lt;/td&gt;\\n      &lt;td&gt;A&lt;/td&gt;\\n      &lt;td&gt;0&lt;/td&gt;\\n      &lt;td&gt;NON-EU&lt;/td&gt;\\n      &lt;td&gt;15&lt;/td&gt;\\n      &lt;td&gt;&#x27;0111&lt;/td&gt;\\n      &lt;td&gt;Wheat&lt;/td&gt;\\n      &lt;td&gt;5539&lt;/td&gt;\\n      &lt;td&gt;Producer Price Index (2014-2016 = 100)&lt;/td&gt;\\n      &lt;td&gt;7021&lt;/td&gt;\\n      &lt;td&gt;Annual value&lt;/td&gt;\\n      &lt;td&gt;NaN&lt;/td&gt;\\n      &lt;td&gt;535.13&lt;/td&gt;\\n      &lt;td&gt;28633.698920&lt;/td&gt;\\n    &lt;/tr&gt;\\n    &lt;tr&gt;\\n      &lt;th&gt;3&lt;/th&gt;\\n      &lt;td&gt;2003&lt;/td&gt;\\n      &lt;td&gt;JPN&lt;/td&gt;\\n      &lt;td&gt;NaN&lt;/td&gt;\\n      &lt;td&gt;JPN&lt;/td&gt;\\n      &lt;td&gt;110&lt;/td&gt;\\n      &lt;td&gt;&#x27;392&lt;/td&gt;\\n      &lt;td&gt;Japan&lt;/td&gt;\\n      &lt;td&gt;GDP&lt;/td&gt;\\n      &lt;td&gt;TOT&lt;/td&gt;\\n      &lt;td&gt;USD_CAP&lt;/td&gt;\\n      &lt;td&gt;A&lt;/td&gt;\\n      &lt;td&gt;0&lt;/td&gt;\\n      &lt;td&gt;NON-EU&lt;/td&gt;\\n      &lt;td&gt;15&lt;/td&gt;\\n      &lt;td&gt;&#x27;0111&lt;/td&gt;\\n      &lt;td&gt;Wheat&lt;/td&gt;\\n      &lt;td&gt;5539&lt;/td&gt;\\n      &lt;td&gt;Producer Price Index (2014-2016 = 100)&lt;/td&gt;\\n      &lt;td&gt;7021&lt;/td&gt;\\n      &lt;td&gt;Annual value&lt;/td&gt;\\n      &lt;td&gt;NaN&lt;/td&gt;\\n      &lt;td&gt;518.79&lt;/td&gt;\\n      &lt;td&gt;29411.592882&lt;/td&gt;\\n    &lt;/tr&gt;\\n    &lt;tr&gt;\\n      &lt;th&gt;4&lt;/th&gt;\\n      &lt;td&gt;2004&lt;/td&gt;\\n      &lt;td&gt;JPN&lt;/td&gt;\\n      &lt;td&gt;NaN&lt;/td&gt;\\n      &lt;td&gt;JPN&lt;/td&gt;\\n      &lt;td&gt;110&lt;/td&gt;\\n      &lt;td&gt;&#x27;392&lt;/td&gt;\\n      &lt;td&gt;Japan&lt;/td&gt;\\n      &lt;td&gt;GDP&lt;/td&gt;\\n      &lt;td&gt;TOT&lt;/td&gt;\\n      &lt;td&gt;USD_CAP&lt;/td&gt;\\n      &lt;td&gt;A&lt;/td&gt;\\n      &lt;td&gt;0&lt;/td&gt;\\n      &lt;td&gt;NON-EU&lt;/td&gt;\\n      &lt;td&gt;15&lt;/td&gt;\\n      &lt;td&gt;&#x27;0111&lt;/td&gt;\\n      &lt;td&gt;Wheat&lt;/td&gt;\\n      &lt;td&gt;5539&lt;/td&gt;\\n      &lt;td&gt;Producer Price Index (2014-2016 = 100)&lt;/td&gt;\\n      &lt;td&gt;7021&lt;/td&gt;\\n      &lt;td&gt;Annual value&lt;/td&gt;\\n      &lt;td&gt;NaN&lt;/td&gt;\\n      &lt;td&gt;486.71&lt;/td&gt;\\n      &lt;td&gt;30837.175423&lt;/td&gt;\\n    &lt;/tr&gt;\\n    &lt;tr&gt;\\n      &lt;th&gt;5&lt;/th&gt;\\n      &lt;td&gt;2005&lt;/td&gt;\\n      &lt;td&gt;JPN&lt;/td&gt;\\n      &lt;td&gt;NaN&lt;/td&gt;\\n      &lt;td&gt;JPN&lt;/td&gt;\\n      &lt;td&gt;110&lt;/td&gt;\\n      &lt;td&gt;&#x27;392&lt;/td&gt;\\n      &lt;td&gt;Japan&lt;/td&gt;\\n      &lt;td&gt;GDP&lt;/td&gt;\\n      &lt;td&gt;TOT&lt;/td&gt;\\n      &lt;td&gt;USD_CAP&lt;/td&gt;\\n      &lt;td&gt;A&lt;/td&gt;\\n      &lt;td&gt;0&lt;/td&gt;\\n      &lt;td&gt;NON-EU&lt;/td&gt;\\n      &lt;td&gt;15&lt;/td&gt;\\n      &lt;td&gt;&#x27;0111&lt;/td&gt;\\n      &lt;td&gt;Wheat&lt;/td&gt;\\n      &lt;td&gt;5539&lt;/td&gt;\\n      &lt;td&gt;Producer Price Index (2014-2016 = 100)&lt;/td&gt;\\n      &lt;td&gt;7021&lt;/td&gt;\\n      &lt;td&gt;Annual value&lt;/td&gt;\\n      &lt;td&gt;NaN&lt;/td&gt;\\n      &lt;td&gt;491.26&lt;/td&gt;\\n      &lt;td&gt;32174.400107&lt;/td&gt;\\n    &lt;/tr&gt;\\n    &lt;tr&gt;\\n      &lt;th&gt;6&lt;/th&gt;\\n      &lt;td&gt;2006&lt;/td&gt;\\n      &lt;td&gt;JPN&lt;/td&gt;\\n      &lt;td&gt;NaN&lt;/td&gt;\\n      &lt;td&gt;JPN&lt;/td&gt;\\n      &lt;td&gt;110&lt;/td&gt;\\n      &lt;td&gt;&#x27;392&lt;/td&gt;\\n      &lt;td&gt;Japan&lt;/td&gt;\\n      &lt;td&gt;GDP&lt;/td&gt;\\n      &lt;td&gt;TOT&lt;/td&gt;\\n      &lt;td&gt;USD_CAP&lt;/td&gt;\\n      &lt;td&gt;A&lt;/td&gt;\\n      &lt;td&gt;0&lt;/td&gt;\\n      &lt;td&gt;NON-EU&lt;/td&gt;\\n      &lt;td&gt;15&lt;/td&gt;\\n      &lt;td&gt;&#x27;0111&lt;/td&gt;\\n      &lt;td&gt;Wheat&lt;/td&gt;\\n      &lt;td&gt;5539&lt;/td&gt;\\n      &lt;td&gt;Producer Price Index (2014-2016 = 100)&lt;/td&gt;\\n      &lt;td&gt;7021&lt;/td&gt;\\n      &lt;td&gt;Annual value&lt;/td&gt;\\n      &lt;td&gt;NaN&lt;/td&gt;\\n      &lt;td&gt;505.03&lt;/td&gt;\\n      &lt;td&gt;33638.841255&lt;/td&gt;\\n    &lt;/tr&gt;\\n    &lt;tr&gt;\\n      &lt;th&gt;7&lt;/th&gt;\\n      &lt;td&gt;2007&lt;/td&gt;\\n      &lt;td&gt;JPN&lt;/td&gt;\\n      &lt;td&gt;NaN&lt;/td&gt;\\n      &lt;td&gt;JPN&lt;/td&gt;\\n      &lt;td&gt;110&lt;/td&gt;\\n      &lt;td&gt;&#x27;392&lt;/td&gt;\\n      &lt;td&gt;Japan&lt;/td&gt;\\n      &lt;td&gt;GDP&lt;/td&gt;\\n      &lt;td&gt;TOT&lt;/td&gt;\\n      &lt;td&gt;USD_CAP&lt;/td&gt;\\n      &lt;td&gt;A&lt;/td&gt;\\n      &lt;td&gt;0&lt;/td&gt;\\n      &lt;td&gt;NON-EU&lt;/td&gt;\\n      &lt;td&gt;15&lt;/td&gt;\\n      &lt;td&gt;&#x27;0111&lt;/td&gt;\\n      &lt;td&gt;Wheat&lt;/td&gt;\\n      &lt;td&gt;5539&lt;/td&gt;\\n      &lt;td&gt;Producer Price Index (2014-2016 = 100)&lt;/td&gt;\\n      &lt;td&gt;7021&lt;/td&gt;\\n      &lt;td&gt;Annual value&lt;/td&gt;\\n      &lt;td&gt;NaN&lt;/td&gt;\\n      &lt;td&gt;261.18&lt;/td&gt;\\n      &lt;td&gt;35021.732224&lt;/td&gt;\\n    &lt;/tr&gt;\\n    &lt;tr&gt;\\n      &lt;th&gt;8&lt;/th&gt;\\n      &lt;td&gt;2008&lt;/td&gt;\\n      &lt;td&gt;JPN&lt;/td&gt;\\n      &lt;td&gt;NaN&lt;/td&gt;\\n      &lt;td&gt;JPN&lt;/td&gt;\\n      &lt;td&gt;110&lt;/td&gt;\\n      &lt;td&gt;&#x27;392&lt;/td&gt;\\n      &lt;td&gt;Japan&lt;/td&gt;\\n      &lt;td&gt;GDP&lt;/td&gt;\\n      &lt;td&gt;TOT&lt;/td&gt;\\n      &lt;td&gt;USD_CAP&lt;/td&gt;\\n      &lt;td&gt;A&lt;/td&gt;\\n      &lt;td&gt;0&lt;/td&gt;\\n      &lt;td&gt;NON-EU&lt;/td&gt;\\n      &lt;td&gt;15&lt;/td&gt;\\n      &lt;td&gt;&#x27;0111&lt;/td&gt;\\n      &lt;td&gt;Wheat&lt;/td&gt;\\n      &lt;td&gt;5539&lt;/td&gt;\\n      &lt;td&gt;Producer Price Index (2014-2016 = 100)&lt;/td&gt;\\n      &lt;td&gt;7021&lt;/td&gt;\\n      &lt;td&gt;Annual value&lt;/td&gt;\\n      &lt;td&gt;NaN&lt;/td&gt;\\n      &lt;td&gt;265.89&lt;/td&gt;\\n      &lt;td&gt;35278.749846&lt;/td&gt;\\n    &lt;/tr&gt;\\n    &lt;tr&gt;\\n      &lt;th&gt;9&lt;/th&gt;\\n      &lt;td&gt;2009&lt;/td&gt;\\n      &lt;td&gt;JPN&lt;/td&gt;\\n      &lt;td&gt;NaN&lt;/td&gt;\\n      &lt;td&gt;JPN&lt;/td&gt;\\n      &lt;td&gt;110&lt;/td&gt;\\n      &lt;td&gt;&#x27;392&lt;/td&gt;\\n      &lt;td&gt;Japan&lt;/td&gt;\\n      &lt;td&gt;GDP&lt;/td&gt;\\n      &lt;td&gt;TOT&lt;/td&gt;\\n      &lt;td&gt;USD_CAP&lt;/td&gt;\\n      &lt;td&gt;A&lt;/td&gt;\\n      &lt;td&gt;0&lt;/td&gt;\\n      &lt;td&gt;NON-EU&lt;/td&gt;\\n      &lt;td&gt;15&lt;/td&gt;\\n      &lt;td&gt;&#x27;0111&lt;/td&gt;\\n      &lt;td&gt;Wheat&lt;/td&gt;\\n      &lt;td&gt;5539&lt;/td&gt;\\n      &lt;td&gt;Producer Price Index (2014-2016 = 100)&lt;/td&gt;\\n      &lt;td&gt;7021&lt;/td&gt;\\n      &lt;td&gt;Annual value&lt;/td&gt;\\n      &lt;td&gt;NaN&lt;/td&gt;\\n      &lt;td&gt;290.73&lt;/td&gt;\\n      &lt;td&gt;33550.689549&lt;/td&gt;\\n    &lt;/tr&gt;\\n    &lt;tr&gt;\\n      &lt;th&gt;10&lt;/th&gt;\\n      &lt;td&gt;2010&lt;/td&gt;\\n      &lt;td&gt;JPN&lt;/td&gt;\\n      &lt;td&gt;NaN&lt;/td&gt;\\n      &lt;td&gt;JPN&lt;/td&gt;\\n      &lt;td&gt;110&lt;/td&gt;\\n      &lt;td&gt;&#x27;392&lt;/td&gt;\\n      &lt;td&gt;Japan&lt;/td&gt;\\n      &lt;td&gt;GDP&lt;/td&gt;\\n      &lt;td&gt;TOT&lt;/td&gt;\\n      &lt;td&gt;USD_CAP&lt;/td&gt;\\n      &lt;td&gt;A&lt;/td&gt;\\n      &lt;td&gt;0&lt;/td&gt;\\n      &lt;td&gt;NON-EU&lt;/td&gt;\\n      &lt;td&gt;15&lt;/td&gt;\\n      &lt;td&gt;&#x27;0111&lt;/td&gt;\\n      &lt;td&gt;Wheat&lt;/td&gt;\\n      &lt;td&gt;5539&lt;/td&gt;\\n      &lt;td&gt;Producer Price Index (2014-2016 = 100)&lt;/td&gt;\\n      &lt;td&gt;7021&lt;/td&gt;\\n      &lt;td&gt;Annual value&lt;/td&gt;\\n      &lt;td&gt;NaN&lt;/td&gt;\\n      &lt;td&gt;239.02&lt;/td&gt;\\n      &lt;td&gt;35342.824721&lt;/td&gt;\\n    &lt;/tr&gt;\\n    &lt;tr&gt;\\n      &lt;th&gt;11&lt;/th&gt;\\n      &lt;td&gt;2011&lt;/td&gt;\\n      &lt;td&gt;JPN&lt;/td&gt;\\n      &lt;td&gt;NaN&lt;/td&gt;\\n      &lt;td&gt;JPN&lt;/td&gt;\\n      &lt;td&gt;110&lt;/td&gt;\\n      &lt;td&gt;&#x27;392&lt;/td&gt;\\n      &lt;td&gt;Japan&lt;/td&gt;\\n      &lt;td&gt;GDP&lt;/td&gt;\\n      &lt;td&gt;TOT&lt;/td&gt;\\n      &lt;td&gt;USD_CAP&lt;/td&gt;\\n      &lt;td&gt;A&lt;/td&gt;\\n      &lt;td&gt;0&lt;/td&gt;\\n      &lt;td&gt;NON-EU&lt;/td&gt;\\n      &lt;td&gt;15&lt;/td&gt;\\n      &lt;td&gt;&#x27;0111&lt;/td&gt;\\n      &lt;td&gt;Wheat&lt;/td&gt;\\n      &lt;td&gt;5539&lt;/td&gt;\\n      &lt;td&gt;Producer Price Index (2014-2016 = 100)&lt;/td&gt;\\n      &lt;td&gt;7021&lt;/td&gt;\\n      &lt;td&gt;Annual value&lt;/td&gt;\\n      &lt;td&gt;NaN&lt;/td&gt;\\n      &lt;td&gt;166.31&lt;/td&gt;\\n      &lt;td&gt;36215.006272&lt;/td&gt;\\n    &lt;/tr&gt;\\n    &lt;tr&gt;\\n      &lt;th&gt;12&lt;/th&gt;\\n      &lt;td&gt;2012&lt;/td&gt;\\n      &lt;td&gt;JPN&lt;/td&gt;\\n      &lt;td&gt;NaN&lt;/td&gt;\\n      &lt;td&gt;JPN&lt;/td&gt;\\n      &lt;td&gt;110&lt;/td&gt;\\n      &lt;td&gt;&#x27;392&lt;/td&gt;\\n      &lt;td&gt;Japan&lt;/td&gt;\\n      &lt;td&gt;GDP&lt;/td&gt;\\n      &lt;td&gt;TOT&lt;/td&gt;\\n      &lt;td&gt;USD_CAP&lt;/td&gt;\\n      &lt;td&gt;A&lt;/td&gt;\\n      &lt;td&gt;0&lt;/td&gt;\\n      &lt;td&gt;NON-EU&lt;/td&gt;\\n      &lt;td&gt;15&lt;/td&gt;\\n      &lt;td&gt;&#x27;0111&lt;/td&gt;\\n      &lt;td&gt;Wheat&lt;/td&gt;\\n      &lt;td&gt;5539&lt;/td&gt;\\n      &lt;td&gt;Producer Price Index (2014-2016 = 100)&lt;/td&gt;\\n      &lt;td&gt;7021&lt;/td&gt;\\n      &lt;td&gt;Annual value&lt;/td&gt;\\n      &lt;td&gt;NaN&lt;/td&gt;\\n      &lt;td&gt;116.41&lt;/td&gt;\\n      &lt;td&gt;37628.675989&lt;/td&gt;\\n    &lt;/tr&gt;\\n    &lt;tr&gt;\\n      &lt;th&gt;13&lt;/th&gt;\\n      &lt;td&gt;2013&lt;/td&gt;\\n      &lt;td&gt;JPN&lt;/td&gt;\\n      &lt;td&gt;NaN&lt;/td&gt;\\n      &lt;td&gt;JPN&lt;/td&gt;\\n      &lt;td&gt;110&lt;/td&gt;\\n      &lt;td&gt;&#x27;392&lt;/td&gt;\\n      &lt;td&gt;Japan&lt;/td&gt;\\n      &lt;td&gt;GDP&lt;/td&gt;\\n      &lt;td&gt;TOT&lt;/td&gt;\\n      &lt;td&gt;USD_CAP&lt;/td&gt;\\n      &lt;td&gt;A&lt;/td&gt;\\n      &lt;td&gt;0&lt;/td&gt;\\n      &lt;td&gt;NON-EU&lt;/td&gt;\\n      &lt;td&gt;15&lt;/td&gt;\\n      &lt;td&gt;&#x27;0111&lt;/td&gt;\\n      &lt;td&gt;Wheat&lt;/td&gt;\\n      &lt;td&gt;5539&lt;/td&gt;\\n      &lt;td&gt;Producer Price Index (2014-2016 = 100)&lt;/td&gt;\\n      &lt;td&gt;7021&lt;/td&gt;\\n      &lt;td&gt;Annual value&lt;/td&gt;\\n      &lt;td&gt;NaN&lt;/td&gt;\\n      &lt;td&gt;104.19&lt;/td&gt;\\n      &lt;td&gt;39436.682585&lt;/td&gt;\\n    &lt;/tr&gt;\\n    &lt;tr&gt;\\n      &lt;th&gt;14&lt;/th&gt;\\n      &lt;td&gt;2014&lt;/td&gt;\\n      &lt;td&gt;JPN&lt;/td&gt;\\n      &lt;td&gt;NaN&lt;/td&gt;\\n      &lt;td&gt;JPN&lt;/td&gt;\\n      &lt;td&gt;110&lt;/td&gt;\\n      &lt;td&gt;&#x27;392&lt;/td&gt;\\n      &lt;td&gt;Japan&lt;/td&gt;\\n      &lt;td&gt;GDP&lt;/td&gt;\\n      &lt;td&gt;TOT&lt;/td&gt;\\n      &lt;td&gt;USD_CAP&lt;/td&gt;\\n      &lt;td&gt;A&lt;/td&gt;\\n      &lt;td&gt;0&lt;/td&gt;\\n      &lt;td&gt;NON-EU&lt;/td&gt;\\n      &lt;td&gt;15&lt;/td&gt;\\n      &lt;td&gt;&#x27;0111&lt;/td&gt;\\n      &lt;td&gt;Wheat&lt;/td&gt;\\n      &lt;td&gt;5539&lt;/td&gt;\\n      &lt;td&gt;Producer Price Index (2014-2016 = 100)&lt;/td&gt;\\n      &lt;td&gt;7021&lt;/td&gt;\\n      &lt;td&gt;Annual value&lt;/td&gt;\\n      &lt;td&gt;NaN&lt;/td&gt;\\n      &lt;td&gt;102.32&lt;/td&gt;\\n      &lt;td&gt;39559.763471&lt;/td&gt;\\n    &lt;/tr&gt;\\n    &lt;tr&gt;\\n      &lt;th&gt;15&lt;/th&gt;\\n      &lt;td&gt;2015&lt;/td&gt;\\n      &lt;td&gt;JPN&lt;/td&gt;\\n      &lt;td&gt;NaN&lt;/td&gt;\\n      &lt;td&gt;JPN&lt;/td&gt;\\n      &lt;td&gt;110&lt;/td&gt;\\n      &lt;td&gt;&#x27;392&lt;/td&gt;\\n      &lt;td&gt;Japan&lt;/td&gt;\\n      &lt;td&gt;GDP&lt;/td&gt;\\n      &lt;td&gt;TOT&lt;/td&gt;\\n      &lt;td&gt;USD_CAP&lt;/td&gt;\\n      &lt;td&gt;A&lt;/td&gt;\\n      &lt;td&gt;0&lt;/td&gt;\\n      &lt;td&gt;NON-EU&lt;/td&gt;\\n      &lt;td&gt;15&lt;/td&gt;\\n      &lt;td&gt;&#x27;0111&lt;/td&gt;\\n      &lt;td&gt;Wheat&lt;/td&gt;\\n      &lt;td&gt;5539&lt;/td&gt;\\n      &lt;td&gt;Producer Price Index (2014-2016 = 100)&lt;/td&gt;\\n      &lt;td&gt;7021&lt;/td&gt;\\n      &lt;td&gt;Annual value&lt;/td&gt;\\n      &lt;td&gt;NaN&lt;/td&gt;\\n      &lt;td&gt;111.15&lt;/td&gt;\\n      &lt;td&gt;40908.781547&lt;/td&gt;\\n    &lt;/tr&gt;\\n    &lt;tr&gt;\\n      &lt;th&gt;16&lt;/th&gt;\\n      &lt;td&gt;2016&lt;/td&gt;\\n      &lt;td&gt;JPN&lt;/td&gt;\\n      &lt;td&gt;NaN&lt;/td&gt;\\n      &lt;td&gt;JPN&lt;/td&gt;\\n      &lt;td&gt;110&lt;/td&gt;\\n      &lt;td&gt;&#x27;392&lt;/td&gt;\\n      &lt;td&gt;Japan&lt;/td&gt;\\n      &lt;td&gt;GDP&lt;/td&gt;\\n      &lt;td&gt;TOT&lt;/td&gt;\\n      &lt;td&gt;USD_CAP&lt;/td&gt;\\n      &lt;td&gt;A&lt;/td&gt;\\n      &lt;td&gt;0&lt;/td&gt;\\n      &lt;td&gt;NON-EU&lt;/td&gt;\\n      &lt;td&gt;15&lt;/td&gt;\\n      &lt;td&gt;&#x27;0111&lt;/td&gt;\\n      &lt;td&gt;Wheat&lt;/td&gt;\\n      &lt;td&gt;5539&lt;/td&gt;\\n      &lt;td&gt;Producer Price Index (2014-2016 = 100)&lt;/td&gt;\\n      &lt;td&gt;7021&lt;/td&gt;\\n      &lt;td&gt;Annual value&lt;/td&gt;\\n      &lt;td&gt;NaN&lt;/td&gt;\\n      &lt;td&gt;86.53&lt;/td&gt;\\n      &lt;td&gt;40642.704531&lt;/td&gt;\\n    &lt;/tr&gt;\\n    &lt;tr&gt;\\n      &lt;th&gt;17&lt;/th&gt;\\n      &lt;td&gt;2017&lt;/td&gt;\\n      &lt;td&gt;JPN&lt;/td&gt;\\n      &lt;td&gt;NaN&lt;/td&gt;\\n      &lt;td&gt;JPN&lt;/td&gt;\\n      &lt;td&gt;110&lt;/td&gt;\\n      &lt;td&gt;&#x27;392&lt;/td&gt;\\n      &lt;td&gt;Japan&lt;/td&gt;\\n      &lt;td&gt;GDP&lt;/td&gt;\\n      &lt;td&gt;TOT&lt;/td&gt;\\n      &lt;td&gt;USD_CAP&lt;/td&gt;\\n      &lt;td&gt;A&lt;/td&gt;\\n      &lt;td&gt;0&lt;/td&gt;\\n      &lt;td&gt;NON-EU&lt;/td&gt;\\n      &lt;td&gt;15&lt;/td&gt;\\n      &lt;td&gt;&#x27;0111&lt;/td&gt;\\n      &lt;td&gt;Wheat&lt;/td&gt;\\n      &lt;td&gt;5539&lt;/td&gt;\\n      &lt;td&gt;Producer Price Index (2014-2016 = 100)&lt;/td&gt;\\n      &lt;td&gt;7021&lt;/td&gt;\\n      &lt;td&gt;Annual value&lt;/td&gt;\\n      &lt;td&gt;NaN&lt;/td&gt;\\n      &lt;td&gt;105.67&lt;/td&gt;\\n      &lt;td&gt;41531.221619&lt;/td&gt;\\n    &lt;/tr&gt;\\n    &lt;tr&gt;\\n      &lt;th&gt;18&lt;/th&gt;\\n      &lt;td&gt;2018&lt;/td&gt;\\n      &lt;td&gt;JPN&lt;/td&gt;\\n      &lt;td&gt;NaN&lt;/td&gt;\\n      &lt;td&gt;JPN&lt;/td&gt;\\n      &lt;td&gt;110&lt;/td&gt;\\n      &lt;td&gt;&#x27;392&lt;/td&gt;\\n      &lt;td&gt;Japan&lt;/td&gt;\\n      &lt;td&gt;GDP&lt;/td&gt;\\n      &lt;td&gt;TOT&lt;/td&gt;\\n      &lt;td&gt;USD_CAP&lt;/td&gt;\\n      &lt;td&gt;A&lt;/td&gt;\\n      &lt;td&gt;0&lt;/td&gt;\\n      &lt;td&gt;NON-EU&lt;/td&gt;\\n      &lt;td&gt;15&lt;/td&gt;\\n      &lt;td&gt;&#x27;0111&lt;/td&gt;\\n      &lt;td&gt;Wheat&lt;/td&gt;\\n      &lt;td&gt;5539&lt;/td&gt;\\n      &lt;td&gt;Producer Price Index (2014-2016 = 100)&lt;/td&gt;\\n      &lt;td&gt;7021&lt;/td&gt;\\n      &lt;td&gt;Annual value&lt;/td&gt;\\n      &lt;td&gt;NaN&lt;/td&gt;\\n      &lt;td&gt;137.80&lt;/td&gt;\\n      &lt;td&gt;42239.050068&lt;/td&gt;\\n    &lt;/tr&gt;\\n    &lt;tr&gt;\\n      &lt;th&gt;19&lt;/th&gt;\\n      &lt;td&gt;2019&lt;/td&gt;\\n      &lt;td&gt;JPN&lt;/td&gt;\\n      &lt;td&gt;NaN&lt;/td&gt;\\n      &lt;td&gt;JPN&lt;/td&gt;\\n      &lt;td&gt;110&lt;/td&gt;\\n      &lt;td&gt;&#x27;392&lt;/td&gt;\\n      &lt;td&gt;Japan&lt;/td&gt;\\n      &lt;td&gt;GDP&lt;/td&gt;\\n      &lt;td&gt;TOT&lt;/td&gt;\\n      &lt;td&gt;USD_CAP&lt;/td&gt;\\n      &lt;td&gt;A&lt;/td&gt;\\n      &lt;td&gt;0&lt;/td&gt;\\n      &lt;td&gt;NON-EU&lt;/td&gt;\\n      &lt;td&gt;15&lt;/td&gt;\\n      &lt;td&gt;&#x27;0111&lt;/td&gt;\\n      &lt;td&gt;Wheat&lt;/td&gt;\\n      &lt;td&gt;5539&lt;/td&gt;\\n      &lt;td&gt;Producer Price Index (2014-2016 = 100)&lt;/td&gt;\\n      &lt;td&gt;7021&lt;/td&gt;\\n      &lt;td&gt;Annual value&lt;/td&gt;\\n      &lt;td&gt;NaN&lt;/td&gt;\\n      &lt;td&gt;134.73&lt;/td&gt;\\n      &lt;td&gt;42465.480080&lt;/td&gt;\\n    &lt;/tr&gt;\\n    &lt;tr&gt;\\n      &lt;th&gt;20&lt;/th&gt;\\n      &lt;td&gt;2020&lt;/td&gt;\\n      &lt;td&gt;JPN&lt;/td&gt;\\n      &lt;td&gt;NaN&lt;/td&gt;\\n      &lt;td&gt;JPN&lt;/td&gt;\\n      &lt;td&gt;110&lt;/td&gt;\\n      &lt;td&gt;&#x27;392&lt;/td&gt;\\n      &lt;td&gt;Japan&lt;/td&gt;\\n      &lt;td&gt;GDP&lt;/td&gt;\\n      &lt;td&gt;TOT&lt;/td&gt;\\n      &lt;td&gt;USD_CAP&lt;/td&gt;\\n      &lt;td&gt;A&lt;/td&gt;\\n      &lt;td&gt;0&lt;/td&gt;\\n      &lt;td&gt;NON-EU&lt;/td&gt;\\n      &lt;td&gt;15&lt;/td&gt;\\n      &lt;td&gt;&#x27;0111&lt;/td&gt;\\n      &lt;td&gt;Wheat&lt;/td&gt;\\n      &lt;td&gt;5539&lt;/td&gt;\\n      &lt;td&gt;Producer Price Index (2014-2016 = 100)&lt;/td&gt;\\n      &lt;td&gt;7021&lt;/td&gt;\\n      &lt;td&gt;Annual value&lt;/td&gt;\\n      &lt;td&gt;NaN&lt;/td&gt;\\n      &lt;td&gt;142.30&lt;/td&gt;\\n      &lt;td&gt;41699.104776&lt;/td&gt;\\n    &lt;/tr&gt;\\n    &lt;tr&gt;\\n      &lt;th&gt;21&lt;/th&gt;\\n      &lt;td&gt;2021&lt;/td&gt;\\n      &lt;td&gt;JPN&lt;/td&gt;\\n      &lt;td&gt;E&lt;/td&gt;\\n      &lt;td&gt;JPN&lt;/td&gt;\\n      &lt;td&gt;110&lt;/td&gt;\\n      &lt;td&gt;&#x27;392&lt;/td&gt;\\n      &lt;td&gt;Japan&lt;/td&gt;\\n      &lt;td&gt;GDP&lt;/td&gt;\\n      &lt;td&gt;TOT&lt;/td&gt;\\n      &lt;td&gt;USD_CAP&lt;/td&gt;\\n      &lt;td&gt;A&lt;/td&gt;\\n      &lt;td&gt;0&lt;/td&gt;\\n      &lt;td&gt;NON-EU&lt;/td&gt;\\n      &lt;td&gt;15&lt;/td&gt;\\n      &lt;td&gt;&#x27;0111&lt;/td&gt;\\n      &lt;td&gt;Wheat&lt;/td&gt;\\n      &lt;td&gt;5539&lt;/td&gt;\\n      &lt;td&gt;Producer Price Index (2014-2016 = 100)&lt;/td&gt;\\n      &lt;td&gt;7021&lt;/td&gt;\\n      &lt;td&gt;Annual value&lt;/td&gt;\\n      &lt;td&gt;NaN&lt;/td&gt;\\n      &lt;td&gt;182.22&lt;/td&gt;\\n      &lt;td&gt;42229.827091&lt;/td&gt;\\n    &lt;/tr&gt;\\n  &lt;/tbody&gt;\\n&lt;/table&gt;\"},\"id\":\"12747\",\"type\":\"panel.models.markup.HTML\"},{\"attributes\":{\"children\":[{\"id\":\"12742\"},{\"id\":\"12746\"}],\"margin\":[0,0,0,0],\"name\":\"Column17994\",\"sizing_mode\":\"stretch_width\"},\"id\":\"12741\",\"type\":\"Column\"},{\"attributes\":{\"margin\":[5,5,5,5],\"name\":\"HSpacer17992\",\"sizing_mode\":\"stretch_width\"},\"id\":\"12745\",\"type\":\"Spacer\"},{\"attributes\":{\"children\":[{\"id\":\"12741\"}],\"margin\":[0,0,0,0],\"name\":\"Row17995\",\"sizing_mode\":\"stretch_width\"},\"id\":\"12740\",\"type\":\"Row\"},{\"attributes\":{\"children\":[{\"id\":\"12743\"},{\"id\":\"12745\"}],\"margin\":[0,0,0,0],\"name\":\"Row17993\",\"sizing_mode\":\"stretch_width\"},\"id\":\"12742\",\"type\":\"Row\"},{\"attributes\":{\"margin\":[5,10,5,10],\"options\":[\"Austria\",\"Belgium\",\"Canada\",\"Czechia\",\"Denmark\",\"Finland\",\"France\",\"Germany\",\"Greece\",\"Hungary\",\"Ireland\",\"Italy\",\"Japan\",\"Luxembourg\",\"Netherlands\",\"Poland\",\"Portugal\",\"Slovakia\",\"Spain\",\"Sweden\",\"United Kingdom of Great Britain and Northern Ireland\",\"United States of America\",\"Estonia\",\"Slovenia\",\"Latvia\",\"Lithuania\",\"Bulgaria\",\"Croatia\",\"Cyprus\",\"Malta\",\"Romania\"],\"sizing_mode\":\"stretch_width\",\"value\":\"Japan\"},\"id\":\"12744\",\"type\":\"panel.models.widgets.CustomSelect\"}],\"root_ids\":[\"12740\",\"12748\"]},\"title\":\"Bokeh Application\",\"version\":\"2.4.2\"}};\n",
       "    var render_items = [{\"docid\":\"0eebe08c-d7d1-4369-8b7b-26adc5ef3799\",\"root_ids\":[\"12740\"],\"roots\":{\"12740\":\"a0f08f8c-f2cc-456c-9797-693a628dce1a\"}}];\n",
       "    root.Bokeh.embed.embed_items_notebook(docs_json, render_items);\n",
       "  }\n",
       "  if (root.Bokeh !== undefined && root.Bokeh.Panel !== undefined && ( root['Tabulator'] !== undefined)) {\n",
       "    embed_document(root);\n",
       "  } else {\n",
       "    var attempts = 0;\n",
       "    var timer = setInterval(function(root) {\n",
       "      if (root.Bokeh !== undefined && root.Bokeh.Panel !== undefined && (root['Tabulator'] !== undefined)) {\n",
       "        clearInterval(timer);\n",
       "        embed_document(root);\n",
       "      } else if (document.readyState == \"complete\") {\n",
       "        attempts++;\n",
       "        if (attempts > 200) {\n",
       "          clearInterval(timer);\n",
       "          console.log(\"Bokeh: ERROR: Unable to run BokehJS code because BokehJS library is missing\");\n",
       "        }\n",
       "      }\n",
       "    }, 25, root)\n",
       "  }\n",
       "})(window);</script>"
      ],
      "text/plain": [
       "<hvplot.interactive.Interactive at 0x7f7deced1c10>"
      ]
     },
     "execution_count": 122,
     "metadata": {
      "application/vnd.holoviews_exec.v0+json": {
       "id": "12740"
      }
     },
     "output_type": "execute_result"
    }
   ],
   "source": [
    "gdp_ppi_pipeline\n",
    "# pn.Row(\n",
    "#     pn.pane.Str(background='#f0f0f0', height=100, sizing_mode='stretch_width'),\n",
    "#     width_policy='max', height=200,   \n",
    "# )"
   ]
  },
  {
   "cell_type": "code",
   "execution_count": 123,
   "id": "9424a5b9",
   "metadata": {},
   "outputs": [],
   "source": [
    "# CREATE TABLE TO DISPLAY\n",
    "# https://panel.holoviz.org/reference/widgets/Tabulator.html\n",
    "# FORMATTING: https://panel.holoviz.org/reference/widgets/Tabulator.html#formatters\n",
    "# =====\n",
    "# SOMETIMES THE PIPELINE NEEDS TO RECREATED - NOT SURE WHY\n",
    "# =====\n",
    "# columns_to_show = ['AREA', 'LOOKUP_ISO', 'YEAR', 'GDP', 'WHEAT_PPI']\n",
    "# \n",
    "gdp_ppi_table = gdp_ppi_pipeline.pipe(pn.widgets.Tabulator, \n",
    "                                      sizing_mode='stretch_width', \n",
    "                                      theme='bulma',\n",
    "                                      hidden_columns=[\n",
    "                                        'LOCATION', \n",
    "                                        'INDICATOR', \n",
    "                                        'SUBJECT', \n",
    "                                        'MEASURE', \n",
    "                                        'FREQUENCY', \n",
    "                                        'FLAG_CODES',\n",
    "                                        'LOOKUP_ISO', \n",
    "                                        'AREA_CODE', \n",
    "                                        'AREA_CODE_M49', \n",
    "                                        'EU_MEMBER', \n",
    "                                        'ITEM_CODE', \n",
    "                                        'ITEM_CODE_CPC', \n",
    "                                        'ITEM', \n",
    "                                        'ELEMENT_CODE',\n",
    "                                        'ELEMENT', \n",
    "                                        'MONTHS_CODE', \n",
    "                                        'MONTHS', \n",
    "                                        'UNIT',\n",
    "                                        'EU_STRING'\n",
    "                                      ],\n",
    "                                      formatters={\n",
    "                                          'YEAR': StringFormatter(), \n",
    "                                          'GDP': NumberFormatter(format='$0,0.00')\n",
    "                                      },\n",
    "                                      show_index=False) "
   ]
  },
  {
   "cell_type": "code",
   "execution_count": 124,
   "id": "6033bc45",
   "metadata": {},
   "outputs": [
    {
     "data": {},
     "metadata": {},
     "output_type": "display_data"
    },
    {
     "data": {
      "application/vnd.holoviews_exec.v0+json": "",
      "text/html": [
       "<div id='12751'>\n",
       "\n",
       "\n",
       "\n",
       "\n",
       "\n",
       "  <div class=\"bk-root\" id=\"5e2cc27c-c69c-43fa-a13e-5327662b1f8c\" data-root-id=\"12751\"></div>\n",
       "</div>\n",
       "<script type=\"application/javascript\">(function(root) {\n",
       "  function embed_document(root) {\n",
       "    var docs_json = {\"3228c6ea-27ff-4145-8b43-b4c1b9abf3af\":{\"defs\":[{\"extends\":null,\"module\":null,\"name\":\"ReactiveHTML1\",\"overrides\":[],\"properties\":[]},{\"extends\":null,\"module\":null,\"name\":\"FlexBox1\",\"overrides\":[],\"properties\":[{\"default\":\"flex-start\",\"kind\":null,\"name\":\"align_content\"},{\"default\":\"flex-start\",\"kind\":null,\"name\":\"align_items\"},{\"default\":\"row\",\"kind\":null,\"name\":\"flex_direction\"},{\"default\":\"wrap\",\"kind\":null,\"name\":\"flex_wrap\"},{\"default\":\"flex-start\",\"kind\":null,\"name\":\"justify_content\"}]},{\"extends\":null,\"module\":null,\"name\":\"GridStack1\",\"overrides\":[],\"properties\":[{\"default\":\"warn\",\"kind\":null,\"name\":\"mode\"},{\"default\":null,\"kind\":null,\"name\":\"ncols\"},{\"default\":null,\"kind\":null,\"name\":\"nrows\"},{\"default\":true,\"kind\":null,\"name\":\"allow_resize\"},{\"default\":true,\"kind\":null,\"name\":\"allow_drag\"},{\"default\":[],\"kind\":null,\"name\":\"state\"}]},{\"extends\":null,\"module\":null,\"name\":\"click1\",\"overrides\":[],\"properties\":[{\"default\":\"\",\"kind\":null,\"name\":\"terminal_output\"},{\"default\":\"\",\"kind\":null,\"name\":\"debug_name\"},{\"default\":0,\"kind\":null,\"name\":\"clears\"}]},{\"extends\":null,\"module\":null,\"name\":\"TemplateActions1\",\"overrides\":[],\"properties\":[{\"default\":0,\"kind\":null,\"name\":\"open_modal\"},{\"default\":0,\"kind\":null,\"name\":\"close_modal\"}]},{\"extends\":null,\"module\":null,\"name\":\"MaterialTemplateActions1\",\"overrides\":[],\"properties\":[{\"default\":0,\"kind\":null,\"name\":\"open_modal\"},{\"default\":0,\"kind\":null,\"name\":\"close_modal\"}]}],\"roots\":{\"references\":[{\"attributes\":{\"editor\":{\"id\":\"12852\"},\"field\":\"MONTHS_CODE\",\"formatter\":{\"id\":\"12851\"},\"title\":\"MONTHS_CODE\",\"width\":0},\"id\":\"12853\",\"type\":\"TableColumn\"},{\"attributes\":{},\"id\":\"12847\",\"type\":\"StringEditor\"},{\"attributes\":{},\"id\":\"12837\",\"type\":\"StringEditor\"},{\"attributes\":{\"children\":[{\"id\":\"12754\"},{\"id\":\"12756\"}],\"margin\":[0,0,0,0],\"name\":\"Row18073\",\"sizing_mode\":\"stretch_width\"},\"id\":\"12753\",\"type\":\"Row\"},{\"attributes\":{\"children\":[{\"id\":\"12755\"}],\"margin\":[0,0,0,0],\"name\":\"Column18032\",\"sizing_mode\":\"stretch_width\"},\"id\":\"12754\",\"type\":\"Column\"},{\"attributes\":{\"editor\":{\"id\":\"12837\"},\"field\":\"ITEM\",\"formatter\":{\"id\":\"12836\"},\"title\":\"ITEM\",\"width\":0},\"id\":\"12838\",\"type\":\"TableColumn\"},{\"attributes\":{},\"id\":\"12856\",\"type\":\"StringFormatter\"},{\"attributes\":{\"children\":[{\"id\":\"12752\"}],\"margin\":[0,0,0,0],\"name\":\"Row18075\",\"sizing_mode\":\"stretch_width\"},\"id\":\"12751\",\"type\":\"Row\"},{\"attributes\":{\"text_align\":\"right\"},\"id\":\"12816\",\"type\":\"NumberFormatter\"},{\"attributes\":{\"text_align\":\"right\"},\"id\":\"12841\",\"type\":\"NumberFormatter\"},{\"attributes\":{\"editor\":{\"id\":\"12857\"},\"field\":\"MONTHS\",\"formatter\":{\"id\":\"12856\"},\"title\":\"MONTHS\",\"width\":0},\"id\":\"12858\",\"type\":\"TableColumn\"},{\"attributes\":{\"text_align\":\"right\"},\"id\":\"12781\",\"type\":\"NumberFormatter\"},{\"attributes\":{},\"id\":\"12822\",\"type\":\"StringEditor\"},{\"attributes\":{},\"id\":\"12782\",\"type\":\"IntEditor\"},{\"attributes\":{\"editor\":{\"id\":\"12777\"},\"field\":\"LOOKUP_ISO\",\"formatter\":{\"id\":\"12776\"},\"title\":\"LOOKUP_ISO\",\"width\":0},\"id\":\"12778\",\"type\":\"TableColumn\"},{\"attributes\":{\"editor\":{\"id\":\"12812\"},\"field\":\"FREQUENCY\",\"formatter\":{\"id\":\"12811\"},\"title\":\"FREQUENCY\",\"width\":0},\"id\":\"12813\",\"type\":\"TableColumn\"},{\"attributes\":{\"editor\":{\"id\":\"12872\"},\"field\":\"GDP\",\"formatter\":{\"id\":\"12873\"},\"title\":\"GDP\",\"width\":0},\"id\":\"12874\",\"type\":\"TableColumn\"},{\"attributes\":{\"children\":[{\"id\":\"12753\"},{\"id\":\"12757\"}],\"margin\":[0,0,0,0],\"name\":\"Column18074\",\"sizing_mode\":\"stretch_width\"},\"id\":\"12752\",\"type\":\"Column\"},{\"attributes\":{},\"id\":\"12846\",\"type\":\"StringFormatter\"},{\"attributes\":{\"editor\":{\"id\":\"12822\"},\"field\":\"EU_STRING\",\"formatter\":{\"id\":\"12821\"},\"title\":\"EU_STRING\",\"width\":0},\"id\":\"12823\",\"type\":\"TableColumn\"},{\"attributes\":{\"client_comm_id\":\"7c4598cac0564d92b1418d9717e7c28d\",\"comm_id\":\"52904efba2654325a0aed6308a77a267\",\"plot_id\":\"12751\"},\"id\":\"12885\",\"type\":\"panel.models.comm_manager.CommManager\"},{\"attributes\":{},\"id\":\"12857\",\"type\":\"StringEditor\"},{\"attributes\":{\"editor\":{\"id\":\"12792\"},\"field\":\"AREA\",\"formatter\":{\"id\":\"12791\"},\"title\":\"AREA\",\"width\":0},\"id\":\"12793\",\"type\":\"TableColumn\"},{\"attributes\":{},\"id\":\"12862\",\"type\":\"NumberEditor\"},{\"attributes\":{\"editor\":{\"id\":\"12807\"},\"field\":\"MEASURE\",\"formatter\":{\"id\":\"12806\"},\"title\":\"MEASURE\",\"width\":0},\"id\":\"12808\",\"type\":\"TableColumn\"},{\"attributes\":{},\"id\":\"12797\",\"type\":\"StringEditor\"},{\"attributes\":{},\"id\":\"12879\",\"type\":\"UnionRenderers\"},{\"attributes\":{\"editor\":{\"id\":\"12862\"},\"field\":\"UNIT\",\"formatter\":{\"id\":\"12861\"},\"title\":\"UNIT\",\"width\":0},\"id\":\"12863\",\"type\":\"TableColumn\"},{\"attributes\":{\"format\":\"$0,0.00\"},\"id\":\"12873\",\"type\":\"NumberFormatter\"},{\"attributes\":{\"data\":{\"AREA\":[\"Japan\",\"Japan\",\"Japan\",\"Japan\",\"Japan\",\"Japan\",\"Japan\",\"Japan\",\"Japan\",\"Japan\",\"Japan\",\"Japan\",\"Japan\",\"Japan\",\"Japan\",\"Japan\",\"Japan\",\"Japan\",\"Japan\",\"Japan\",\"Japan\",\"Japan\"],\"AREA_CODE\":[110,110,110,110,110,110,110,110,110,110,110,110,110,110,110,110,110,110,110,110,110,110],\"AREA_CODE_M49\":[\"'392\",\"'392\",\"'392\",\"'392\",\"'392\",\"'392\",\"'392\",\"'392\",\"'392\",\"'392\",\"'392\",\"'392\",\"'392\",\"'392\",\"'392\",\"'392\",\"'392\",\"'392\",\"'392\",\"'392\",\"'392\",\"'392\"],\"ELEMENT\":[\"Producer Price Index (2014-2016 = 100)\",\"Producer Price Index (2014-2016 = 100)\",\"Producer Price Index (2014-2016 = 100)\",\"Producer Price Index (2014-2016 = 100)\",\"Producer Price Index (2014-2016 = 100)\",\"Producer Price Index (2014-2016 = 100)\",\"Producer Price Index (2014-2016 = 100)\",\"Producer Price Index (2014-2016 = 100)\",\"Producer Price Index (2014-2016 = 100)\",\"Producer Price Index (2014-2016 = 100)\",\"Producer Price Index (2014-2016 = 100)\",\"Producer Price Index (2014-2016 = 100)\",\"Producer Price Index (2014-2016 = 100)\",\"Producer Price Index (2014-2016 = 100)\",\"Producer Price Index (2014-2016 = 100)\",\"Producer Price Index (2014-2016 = 100)\",\"Producer Price Index (2014-2016 = 100)\",\"Producer Price Index (2014-2016 = 100)\",\"Producer Price Index (2014-2016 = 100)\",\"Producer Price Index (2014-2016 = 100)\",\"Producer Price Index (2014-2016 = 100)\",\"Producer Price Index (2014-2016 = 100)\"],\"ELEMENT_CODE\":[5539,5539,5539,5539,5539,5539,5539,5539,5539,5539,5539,5539,5539,5539,5539,5539,5539,5539,5539,5539,5539,5539],\"EU_MEMBER\":[0,0,0,0,0,0,0,0,0,0,0,0,0,0,0,0,0,0,0,0,0,0],\"EU_STRING\":[\"NON-EU\",\"NON-EU\",\"NON-EU\",\"NON-EU\",\"NON-EU\",\"NON-EU\",\"NON-EU\",\"NON-EU\",\"NON-EU\",\"NON-EU\",\"NON-EU\",\"NON-EU\",\"NON-EU\",\"NON-EU\",\"NON-EU\",\"NON-EU\",\"NON-EU\",\"NON-EU\",\"NON-EU\",\"NON-EU\",\"NON-EU\",\"NON-EU\"],\"FLAG_CODES\":[\"NaN\",\"NaN\",\"NaN\",\"NaN\",\"NaN\",\"NaN\",\"NaN\",\"NaN\",\"NaN\",\"NaN\",\"NaN\",\"NaN\",\"NaN\",\"NaN\",\"NaN\",\"NaN\",\"NaN\",\"NaN\",\"NaN\",\"NaN\",\"NaN\",\"E\"],\"FREQUENCY\":[\"A\",\"A\",\"A\",\"A\",\"A\",\"A\",\"A\",\"A\",\"A\",\"A\",\"A\",\"A\",\"A\",\"A\",\"A\",\"A\",\"A\",\"A\",\"A\",\"A\",\"A\",\"A\"],\"GDP\":{\"__ndarray__\":\"Fi8Whnam2kDECyJShUrbQKHzGrts9ttAGVjH8eW43ED+YyE6Sx3eQPpjWpuZa99AE5uP69ps4ECrBmFutxnhQOEJvf7XOeFAgBDJENZh4EBqSx1k2kHhQFxWYTPgruFA766zoZVf4kB4f7zXlUHjQA68Wm74UONAqdpuApn540CBmISLVtjjQKa6gBdnR+RA0jQomuGf5EBvu9BcL7zkQK0yU1pjXORAeouHd7qe5EA=\",\"dtype\":\"float64\",\"order\":\"little\",\"shape\":[22]},\"INDICATOR\":[\"GDP\",\"GDP\",\"GDP\",\"GDP\",\"GDP\",\"GDP\",\"GDP\",\"GDP\",\"GDP\",\"GDP\",\"GDP\",\"GDP\",\"GDP\",\"GDP\",\"GDP\",\"GDP\",\"GDP\",\"GDP\",\"GDP\",\"GDP\",\"GDP\",\"GDP\"],\"ITEM\":[\"Wheat\",\"Wheat\",\"Wheat\",\"Wheat\",\"Wheat\",\"Wheat\",\"Wheat\",\"Wheat\",\"Wheat\",\"Wheat\",\"Wheat\",\"Wheat\",\"Wheat\",\"Wheat\",\"Wheat\",\"Wheat\",\"Wheat\",\"Wheat\",\"Wheat\",\"Wheat\",\"Wheat\",\"Wheat\"],\"ITEM_CODE\":[15,15,15,15,15,15,15,15,15,15,15,15,15,15,15,15,15,15,15,15,15,15],\"ITEM_CODE_CPC\":[\"'0111\",\"'0111\",\"'0111\",\"'0111\",\"'0111\",\"'0111\",\"'0111\",\"'0111\",\"'0111\",\"'0111\",\"'0111\",\"'0111\",\"'0111\",\"'0111\",\"'0111\",\"'0111\",\"'0111\",\"'0111\",\"'0111\",\"'0111\",\"'0111\",\"'0111\"],\"LOCATION\":[\"JPN\",\"JPN\",\"JPN\",\"JPN\",\"JPN\",\"JPN\",\"JPN\",\"JPN\",\"JPN\",\"JPN\",\"JPN\",\"JPN\",\"JPN\",\"JPN\",\"JPN\",\"JPN\",\"JPN\",\"JPN\",\"JPN\",\"JPN\",\"JPN\",\"JPN\"],\"LOOKUP_ISO\":[\"JPN\",\"JPN\",\"JPN\",\"JPN\",\"JPN\",\"JPN\",\"JPN\",\"JPN\",\"JPN\",\"JPN\",\"JPN\",\"JPN\",\"JPN\",\"JPN\",\"JPN\",\"JPN\",\"JPN\",\"JPN\",\"JPN\",\"JPN\",\"JPN\",\"JPN\"],\"MEASURE\":[\"USD_CAP\",\"USD_CAP\",\"USD_CAP\",\"USD_CAP\",\"USD_CAP\",\"USD_CAP\",\"USD_CAP\",\"USD_CAP\",\"USD_CAP\",\"USD_CAP\",\"USD_CAP\",\"USD_CAP\",\"USD_CAP\",\"USD_CAP\",\"USD_CAP\",\"USD_CAP\",\"USD_CAP\",\"USD_CAP\",\"USD_CAP\",\"USD_CAP\",\"USD_CAP\",\"USD_CAP\"],\"MONTHS\":[\"Annual value\",\"Annual value\",\"Annual value\",\"Annual value\",\"Annual value\",\"Annual value\",\"Annual value\",\"Annual value\",\"Annual value\",\"Annual value\",\"Annual value\",\"Annual value\",\"Annual value\",\"Annual value\",\"Annual value\",\"Annual value\",\"Annual value\",\"Annual value\",\"Annual value\",\"Annual value\",\"Annual value\",\"Annual value\"],\"MONTHS_CODE\":[7021,7021,7021,7021,7021,7021,7021,7021,7021,7021,7021,7021,7021,7021,7021,7021,7021,7021,7021,7021,7021,7021],\"SUBJECT\":[\"TOT\",\"TOT\",\"TOT\",\"TOT\",\"TOT\",\"TOT\",\"TOT\",\"TOT\",\"TOT\",\"TOT\",\"TOT\",\"TOT\",\"TOT\",\"TOT\",\"TOT\",\"TOT\",\"TOT\",\"TOT\",\"TOT\",\"TOT\",\"TOT\",\"TOT\"],\"UNIT\":{\"__ndarray__\":\"AAAAAAAA+H8AAAAAAAD4fwAAAAAAAPh/AAAAAAAA+H8AAAAAAAD4fwAAAAAAAPh/AAAAAAAA+H8AAAAAAAD4fwAAAAAAAPh/AAAAAAAA+H8AAAAAAAD4fwAAAAAAAPh/AAAAAAAA+H8AAAAAAAD4fwAAAAAAAPh/AAAAAAAA+H8AAAAAAAD4fwAAAAAAAPh/AAAAAAAA+H8AAAAAAAD4fwAAAAAAAPh/AAAAAAAA+H8=\",\"dtype\":\"float64\",\"order\":\"little\",\"shape\":[22]},\"WHEAT_PPI\":{\"__ndarray__\":\"uB6F61E0gUDD9ShcjwCBQNejcD0KuYBAuB6F61E2gECPwvUoXGt+QFyPwvUotH5AFK5H4XqQf0B7FK5H4VJwQArXo3A9nnBASOF6FK4rckBxPQrXo+BtQFK4HoXryWRACtejcD0aXUBcj8L1KAxaQBSuR+F6lFlAmpmZmZnJW0BSuB6F66FVQHsUrkfhalpAmpmZmZk5YUCPwvUoXNdgQJqZmZmZyWFA16NwPQrHZkA=\",\"dtype\":\"float64\",\"order\":\"little\",\"shape\":[22]},\"YEAR\":[2000,2001,2002,2003,2004,2005,2006,2007,2008,2009,2010,2011,2012,2013,2014,2015,2016,2017,2018,2019,2020,2021]},\"selected\":{\"id\":\"12759\"},\"selection_policy\":{\"id\":\"12879\"}},\"id\":\"12758\",\"type\":\"ColumnDataSource\"},{\"attributes\":{},\"id\":\"12791\",\"type\":\"StringFormatter\"},{\"attributes\":{\"margin\":[5,10,5,10],\"options\":[\"Austria\",\"Belgium\",\"Canada\",\"Czechia\",\"Denmark\",\"Finland\",\"France\",\"Germany\",\"Greece\",\"Hungary\",\"Ireland\",\"Italy\",\"Japan\",\"Luxembourg\",\"Netherlands\",\"Poland\",\"Portugal\",\"Slovakia\",\"Spain\",\"Sweden\",\"United Kingdom of Great Britain and Northern Ireland\",\"United States of America\",\"Estonia\",\"Slovenia\",\"Latvia\",\"Lithuania\",\"Bulgaria\",\"Croatia\",\"Cyprus\",\"Malta\",\"Romania\"],\"sizing_mode\":\"stretch_width\",\"value\":\"Japan\"},\"id\":\"12755\",\"type\":\"panel.models.widgets.CustomSelect\"},{\"attributes\":{\"margin\":[5,5,5,5],\"name\":\"HSpacer18072\",\"sizing_mode\":\"stretch_width\"},\"id\":\"12756\",\"type\":\"Spacer\"},{\"attributes\":{},\"id\":\"12842\",\"type\":\"IntEditor\"},{\"attributes\":{\"format\":\"0,0.0[00000]\",\"text_align\":\"right\"},\"id\":\"12861\",\"type\":\"NumberFormatter\"},{\"attributes\":{},\"id\":\"12812\",\"type\":\"StringEditor\"},{\"attributes\":{\"indices\":[]},\"id\":\"12759\",\"type\":\"Selection\"},{\"attributes\":{\"children\":[{\"id\":\"12877\"}],\"margin\":[0,0,0,0],\"name\":\"Row18037\",\"sizing_mode\":\"stretch_width\"},\"id\":\"12757\",\"type\":\"Row\"},{\"attributes\":{\"editor\":{\"id\":\"12867\"},\"field\":\"WHEAT_PPI\",\"formatter\":{\"id\":\"12866\"},\"title\":\"WHEAT_PPI\",\"width\":0},\"id\":\"12868\",\"type\":\"TableColumn\"},{\"attributes\":{},\"id\":\"12872\",\"type\":\"NumberEditor\"},{\"attributes\":{},\"id\":\"12792\",\"type\":\"StringEditor\"},{\"attributes\":{},\"id\":\"12821\",\"type\":\"StringFormatter\"},{\"attributes\":{},\"id\":\"12867\",\"type\":\"NumberEditor\"},{\"attributes\":{},\"id\":\"12796\",\"type\":\"StringFormatter\"},{\"attributes\":{\"editor\":{\"id\":\"12827\"},\"field\":\"ITEM_CODE\",\"formatter\":{\"id\":\"12826\"},\"title\":\"ITEM_CODE\",\"width\":0},\"id\":\"12828\",\"type\":\"TableColumn\"},{\"attributes\":{},\"id\":\"12787\",\"type\":\"StringEditor\"},{\"attributes\":{\"format\":\"0,0.0[00000]\",\"text_align\":\"right\"},\"id\":\"12866\",\"type\":\"NumberFormatter\"},{\"attributes\":{},\"id\":\"12762\",\"type\":\"StringFormatter\"},{\"attributes\":{},\"id\":\"12806\",\"type\":\"StringFormatter\"},{\"attributes\":{\"editor\":{\"id\":\"12817\"},\"field\":\"EU_MEMBER\",\"formatter\":{\"id\":\"12816\"},\"title\":\"EU_MEMBER\",\"width\":0},\"id\":\"12818\",\"type\":\"TableColumn\"},{\"attributes\":{},\"id\":\"12761\",\"type\":\"IntEditor\"},{\"attributes\":{\"editor\":{\"id\":\"12842\"},\"field\":\"ELEMENT_CODE\",\"formatter\":{\"id\":\"12841\"},\"title\":\"ELEMENT_CODE\",\"width\":0},\"id\":\"12843\",\"type\":\"TableColumn\"},{\"attributes\":{},\"id\":\"12807\",\"type\":\"StringEditor\"},{\"attributes\":{\"text_align\":\"right\"},\"id\":\"12826\",\"type\":\"NumberFormatter\"},{\"attributes\":{},\"id\":\"12786\",\"type\":\"StringFormatter\"},{\"attributes\":{},\"id\":\"12832\",\"type\":\"StringEditor\"},{\"attributes\":{\"editor\":{\"id\":\"12761\"},\"field\":\"YEAR\",\"formatter\":{\"id\":\"12762\"},\"title\":\"YEAR\",\"width\":0},\"id\":\"12763\",\"type\":\"TableColumn\"},{\"attributes\":{\"editor\":{\"id\":\"12782\"},\"field\":\"AREA_CODE\",\"formatter\":{\"id\":\"12781\"},\"title\":\"AREA_CODE\",\"width\":0},\"id\":\"12783\",\"type\":\"TableColumn\"},{\"attributes\":{},\"id\":\"12767\",\"type\":\"StringEditor\"},{\"attributes\":{\"editor\":{\"id\":\"12787\"},\"field\":\"AREA_CODE_M49\",\"formatter\":{\"id\":\"12786\"},\"title\":\"AREA_CODE_M49\",\"width\":0},\"id\":\"12788\",\"type\":\"TableColumn\"},{\"attributes\":{\"editor\":{\"id\":\"12767\"},\"field\":\"LOCATION\",\"formatter\":{\"id\":\"12766\"},\"title\":\"LOCATION\",\"width\":0},\"id\":\"12768\",\"type\":\"TableColumn\"},{\"attributes\":{\"editor\":{\"id\":\"12847\"},\"field\":\"ELEMENT\",\"formatter\":{\"id\":\"12846\"},\"title\":\"ELEMENT\",\"width\":0},\"id\":\"12848\",\"type\":\"TableColumn\"},{\"attributes\":{},\"id\":\"12771\",\"type\":\"StringFormatter\"},{\"attributes\":{},\"id\":\"12766\",\"type\":\"StringFormatter\"},{\"attributes\":{},\"id\":\"12811\",\"type\":\"StringFormatter\"},{\"attributes\":{},\"id\":\"12836\",\"type\":\"StringFormatter\"},{\"attributes\":{\"text_align\":\"right\"},\"id\":\"12851\",\"type\":\"NumberFormatter\"},{\"attributes\":{},\"id\":\"12817\",\"type\":\"IntEditor\"},{\"attributes\":{\"editor\":{\"id\":\"12772\"},\"field\":\"FLAG_CODES\",\"formatter\":{\"id\":\"12771\"},\"title\":\"FLAG_CODES\",\"width\":0},\"id\":\"12773\",\"type\":\"TableColumn\"},{\"attributes\":{},\"id\":\"12831\",\"type\":\"StringFormatter\"},{\"attributes\":{\"columns\":[{\"id\":\"12763\"},{\"id\":\"12768\"},{\"id\":\"12773\"},{\"id\":\"12778\"},{\"id\":\"12783\"},{\"id\":\"12788\"},{\"id\":\"12793\"},{\"id\":\"12798\"},{\"id\":\"12803\"},{\"id\":\"12808\"},{\"id\":\"12813\"},{\"id\":\"12818\"},{\"id\":\"12823\"},{\"id\":\"12828\"},{\"id\":\"12833\"},{\"id\":\"12838\"},{\"id\":\"12843\"},{\"id\":\"12848\"},{\"id\":\"12853\"},{\"id\":\"12858\"},{\"id\":\"12863\"},{\"id\":\"12868\"},{\"id\":\"12874\"}],\"configuration\":{\"columns\":[{\"field\":\"YEAR\"},{\"field\":\"LOCATION\"},{\"field\":\"FLAG_CODES\"},{\"field\":\"LOOKUP_ISO\"},{\"field\":\"AREA_CODE\"},{\"field\":\"AREA_CODE_M49\"},{\"field\":\"AREA\"},{\"field\":\"INDICATOR\"},{\"field\":\"SUBJECT\"},{\"field\":\"MEASURE\"},{\"field\":\"FREQUENCY\"},{\"field\":\"EU_MEMBER\"},{\"field\":\"EU_STRING\"},{\"field\":\"ITEM_CODE\"},{\"field\":\"ITEM_CODE_CPC\"},{\"field\":\"ITEM\"},{\"field\":\"ELEMENT_CODE\"},{\"field\":\"ELEMENT\"},{\"field\":\"MONTHS_CODE\"},{\"field\":\"MONTHS\"},{\"field\":\"UNIT\"},{\"field\":\"WHEAT_PPI\"},{\"field\":\"GDP\"}],\"dataTree\":false,\"selectable\":true},\"hidden_columns\":[\"LOCATION\",\"INDICATOR\",\"SUBJECT\",\"MEASURE\",\"FREQUENCY\",\"FLAG_CODES\",\"LOOKUP_ISO\",\"AREA_CODE\",\"AREA_CODE_M49\",\"EU_MEMBER\",\"ITEM_CODE\",\"ITEM_CODE_CPC\",\"ITEM\",\"ELEMENT_CODE\",\"ELEMENT\",\"MONTHS_CODE\",\"MONTHS\",\"UNIT\",\"EU_STRING\"],\"layout\":\"fit_data_table\",\"margin\":[5,10,5,10],\"name\":\"\",\"page\":1,\"page_size\":20,\"select_mode\":true,\"selectable_rows\":null,\"sizing_mode\":\"stretch_width\",\"source\":{\"id\":\"12758\"},\"styles\":{\"data\":{},\"id\":\"13b02f2f7ae248c0873bd565ed8eb3c7\"},\"subscribed_events\":[\"table-edit\",\"cell-click\"],\"theme\":\"bulma\",\"theme_url\":\"https://unpkg.com/tabulator-tables@4.9.3/dist/css/bulma/\"},\"id\":\"12877\",\"type\":\"panel.models.tabulator.DataTabulator\"},{\"attributes\":{},\"id\":\"12777\",\"type\":\"StringEditor\"},{\"attributes\":{},\"id\":\"12772\",\"type\":\"StringEditor\"},{\"attributes\":{},\"id\":\"12852\",\"type\":\"IntEditor\"},{\"attributes\":{\"editor\":{\"id\":\"12802\"},\"field\":\"SUBJECT\",\"formatter\":{\"id\":\"12801\"},\"title\":\"SUBJECT\",\"width\":0},\"id\":\"12803\",\"type\":\"TableColumn\"},{\"attributes\":{},\"id\":\"12802\",\"type\":\"StringEditor\"},{\"attributes\":{\"editor\":{\"id\":\"12832\"},\"field\":\"ITEM_CODE_CPC\",\"formatter\":{\"id\":\"12831\"},\"title\":\"ITEM_CODE_CPC\",\"width\":0},\"id\":\"12833\",\"type\":\"TableColumn\"},{\"attributes\":{\"editor\":{\"id\":\"12797\"},\"field\":\"INDICATOR\",\"formatter\":{\"id\":\"12796\"},\"title\":\"INDICATOR\",\"width\":0},\"id\":\"12798\",\"type\":\"TableColumn\"},{\"attributes\":{},\"id\":\"12827\",\"type\":\"IntEditor\"},{\"attributes\":{},\"id\":\"12776\",\"type\":\"StringFormatter\"},{\"attributes\":{},\"id\":\"12801\",\"type\":\"StringFormatter\"}],\"root_ids\":[\"12751\",\"12885\"]},\"title\":\"Bokeh Application\",\"version\":\"2.4.2\"}};\n",
       "    var render_items = [{\"docid\":\"3228c6ea-27ff-4145-8b43-b4c1b9abf3af\",\"root_ids\":[\"12751\"],\"roots\":{\"12751\":\"5e2cc27c-c69c-43fa-a13e-5327662b1f8c\"}}];\n",
       "    root.Bokeh.embed.embed_items_notebook(docs_json, render_items);\n",
       "  }\n",
       "  if (root.Bokeh !== undefined && root.Bokeh.Panel !== undefined && ( root['Tabulator'] !== undefined)) {\n",
       "    embed_document(root);\n",
       "  } else {\n",
       "    var attempts = 0;\n",
       "    var timer = setInterval(function(root) {\n",
       "      if (root.Bokeh !== undefined && root.Bokeh.Panel !== undefined && (root['Tabulator'] !== undefined)) {\n",
       "        clearInterval(timer);\n",
       "        embed_document(root);\n",
       "      } else if (document.readyState == \"complete\") {\n",
       "        attempts++;\n",
       "        if (attempts > 200) {\n",
       "          clearInterval(timer);\n",
       "          console.log(\"Bokeh: ERROR: Unable to run BokehJS code because BokehJS library is missing\");\n",
       "        }\n",
       "      }\n",
       "    }, 25, root)\n",
       "  }\n",
       "})(window);</script>"
      ],
      "text/plain": [
       "<hvplot.interactive.Interactive at 0x7f7ded126820>"
      ]
     },
     "execution_count": 124,
     "metadata": {
      "application/vnd.holoviews_exec.v0+json": {
       "id": "12751"
      }
     },
     "output_type": "execute_result"
    }
   ],
   "source": [
    "# DISPLAY TABLE\n",
    "gdp_ppi_table"
   ]
  },
  {
   "cell_type": "code",
   "execution_count": 96,
   "id": "9cf0bde3",
   "metadata": {},
   "outputs": [],
   "source": [
    "ppi_type_plot = gdp_ppi_pipeline.hvplot(kind='bar', \n",
    "                                             x='YEAR', \n",
    "                                             y=\"WHEAT_PPI\", \n",
    "                                             title='Wheat PPI Breakdown')"
   ]
  },
  {
   "cell_type": "code",
   "execution_count": 97,
   "id": "58bdb7f5",
   "metadata": {
    "scrolled": false
   },
   "outputs": [
    {
     "data": {},
     "metadata": {},
     "output_type": "display_data"
    },
    {
     "data": {},
     "metadata": {},
     "output_type": "display_data"
    },
    {
     "data": {
      "application/vnd.holoviews_exec.v0+json": "",
      "text/html": [
       "<div id='11364'>\n",
       "\n",
       "\n",
       "\n",
       "\n",
       "\n",
       "  <div class=\"bk-root\" id=\"7c285986-e4a2-4df4-aa40-77d83aa36d36\" data-root-id=\"11364\"></div>\n",
       "</div>\n",
       "<script type=\"application/javascript\">(function(root) {\n",
       "  function embed_document(root) {\n",
       "    var docs_json = {\"23216ed0-44df-45d8-b3c0-544f8acdc27d\":{\"defs\":[{\"extends\":null,\"module\":null,\"name\":\"ReactiveHTML1\",\"overrides\":[],\"properties\":[]},{\"extends\":null,\"module\":null,\"name\":\"FlexBox1\",\"overrides\":[],\"properties\":[{\"default\":\"flex-start\",\"kind\":null,\"name\":\"align_content\"},{\"default\":\"flex-start\",\"kind\":null,\"name\":\"align_items\"},{\"default\":\"row\",\"kind\":null,\"name\":\"flex_direction\"},{\"default\":\"wrap\",\"kind\":null,\"name\":\"flex_wrap\"},{\"default\":\"flex-start\",\"kind\":null,\"name\":\"justify_content\"}]},{\"extends\":null,\"module\":null,\"name\":\"GridStack1\",\"overrides\":[],\"properties\":[{\"default\":\"warn\",\"kind\":null,\"name\":\"mode\"},{\"default\":null,\"kind\":null,\"name\":\"ncols\"},{\"default\":null,\"kind\":null,\"name\":\"nrows\"},{\"default\":true,\"kind\":null,\"name\":\"allow_resize\"},{\"default\":true,\"kind\":null,\"name\":\"allow_drag\"},{\"default\":[],\"kind\":null,\"name\":\"state\"}]},{\"extends\":null,\"module\":null,\"name\":\"click1\",\"overrides\":[],\"properties\":[{\"default\":\"\",\"kind\":null,\"name\":\"terminal_output\"},{\"default\":\"\",\"kind\":null,\"name\":\"debug_name\"},{\"default\":0,\"kind\":null,\"name\":\"clears\"}]},{\"extends\":null,\"module\":null,\"name\":\"TemplateActions1\",\"overrides\":[],\"properties\":[{\"default\":0,\"kind\":null,\"name\":\"open_modal\"},{\"default\":0,\"kind\":null,\"name\":\"close_modal\"}]},{\"extends\":null,\"module\":null,\"name\":\"MaterialTemplateActions1\",\"overrides\":[],\"properties\":[{\"default\":0,\"kind\":null,\"name\":\"open_modal\"},{\"default\":0,\"kind\":null,\"name\":\"close_modal\"}]}],\"roots\":{\"references\":[{\"attributes\":{\"coordinates\":null,\"group\":null,\"text\":\"Wheat PPI Breakdown\",\"text_color\":\"black\",\"text_font_size\":\"12pt\"},\"id\":\"11375\",\"type\":\"Title\"},{\"attributes\":{},\"id\":\"11416\",\"type\":\"BasicTickFormatter\"},{\"attributes\":{\"end\":596.9409999999999,\"reset_end\":596.9409999999999,\"reset_start\":0.0,\"tags\":[[[\"WHEAT_PPI\",\"WHEAT_PPI\",null]]]},\"id\":\"11372\",\"type\":\"Range1d\"},{\"attributes\":{\"below\":[{\"id\":\"11383\"}],\"center\":[{\"id\":\"11385\"},{\"id\":\"11389\"}],\"height\":300,\"left\":[{\"id\":\"11386\"}],\"margin\":[5,5,5,5],\"min_border_bottom\":10,\"min_border_left\":10,\"min_border_right\":10,\"min_border_top\":10,\"renderers\":[{\"id\":\"11409\"}],\"sizing_mode\":\"stretch_width\",\"title\":{\"id\":\"11375\"},\"toolbar\":{\"id\":\"11396\"},\"width\":700,\"x_range\":{\"id\":\"11371\"},\"x_scale\":{\"id\":\"11379\"},\"y_range\":{\"id\":\"11372\"},\"y_scale\":{\"id\":\"11381\"}},\"id\":\"11374\",\"subtype\":\"Figure\",\"type\":\"Plot\"},{\"attributes\":{},\"id\":\"11425\",\"type\":\"UnionRenderers\"},{\"attributes\":{},\"id\":\"11384\",\"type\":\"CategoricalTicker\"},{\"attributes\":{\"axis\":{\"id\":\"11383\"},\"coordinates\":null,\"grid_line_color\":null,\"group\":null,\"ticker\":null},\"id\":\"11385\",\"type\":\"Grid\"},{\"attributes\":{},\"id\":\"11391\",\"type\":\"PanTool\"},{\"attributes\":{\"axis_label\":\"YEAR\",\"coordinates\":null,\"formatter\":{\"id\":\"11413\"},\"group\":null,\"major_label_policy\":{\"id\":\"11414\"},\"ticker\":{\"id\":\"11384\"}},\"id\":\"11383\",\"type\":\"CategoricalAxis\"},{\"attributes\":{\"fill_alpha\":{\"value\":0.2},\"fill_color\":{\"value\":\"#30a2da\"},\"hatch_alpha\":{\"value\":0.2},\"hatch_color\":{\"value\":\"#30a2da\"},\"line_alpha\":{\"value\":0.2},\"top\":{\"field\":\"WHEAT_PPI\"},\"width\":{\"value\":0.8},\"x\":{\"field\":\"YEAR\"}},\"id\":\"11408\",\"type\":\"VBar\"},{\"attributes\":{\"axis\":{\"id\":\"11386\"},\"coordinates\":null,\"dimension\":1,\"grid_line_color\":null,\"group\":null,\"ticker\":null},\"id\":\"11389\",\"type\":\"Grid\"},{\"attributes\":{\"data\":{\"WHEAT_PPI\":{\"__ndarray__\":\"uB6F61E0gUDD9ShcjwCBQNejcD0KuYBAuB6F61E2gECPwvUoXGt+QFyPwvUotH5AFK5H4XqQf0B7FK5H4VJwQArXo3A9nnBASOF6FK4rckBxPQrXo+BtQFK4HoXryWRACtejcD0aXUBcj8L1KAxaQBSuR+F6lFlAmpmZmZnJW0BSuB6F66FVQHsUrkfhalpAmpmZmZk5YUCPwvUoXNdgQJqZmZmZyWFA16NwPQrHZkA=\",\"dtype\":\"float64\",\"order\":\"little\",\"shape\":[22]},\"YEAR\":[\"2000\",\"2001\",\"2002\",\"2003\",\"2004\",\"2005\",\"2006\",\"2007\",\"2008\",\"2009\",\"2010\",\"2011\",\"2012\",\"2013\",\"2014\",\"2015\",\"2016\",\"2017\",\"2018\",\"2019\",\"2020\",\"2021\"]},\"selected\":{\"id\":\"11404\"},\"selection_policy\":{\"id\":\"11425\"}},\"id\":\"11403\",\"type\":\"ColumnDataSource\"},{\"attributes\":{\"children\":[{\"id\":\"11374\"}],\"margin\":[0,0,0,0],\"name\":\"Row15715\",\"sizing_mode\":\"stretch_width\"},\"id\":\"11370\",\"type\":\"Row\"},{\"attributes\":{\"axis_label\":\"WHEAT_PPI\",\"coordinates\":null,\"formatter\":{\"id\":\"11416\"},\"group\":null,\"major_label_policy\":{\"id\":\"11417\"},\"ticker\":{\"id\":\"11387\"}},\"id\":\"11386\",\"type\":\"LinearAxis\"},{\"attributes\":{},\"id\":\"11417\",\"type\":\"AllLabels\"},{\"attributes\":{},\"id\":\"11387\",\"type\":\"BasicTicker\"},{\"attributes\":{},\"id\":\"11392\",\"type\":\"WheelZoomTool\"},{\"attributes\":{\"margin\":[5,5,5,5],\"name\":\"HSpacer15847\",\"sizing_mode\":\"stretch_width\"},\"id\":\"11369\",\"type\":\"Spacer\"},{\"attributes\":{},\"id\":\"11390\",\"type\":\"SaveTool\"},{\"attributes\":{\"overlay\":{\"id\":\"11395\"}},\"id\":\"11393\",\"type\":\"BoxZoomTool\"},{\"attributes\":{\"margin\":[5,10,5,10],\"options\":[\"Austria\",\"Belgium\",\"Canada\",\"Czechia\",\"Denmark\",\"Finland\",\"France\",\"Germany\",\"Greece\",\"Hungary\",\"Ireland\",\"Italy\",\"Japan\",\"Luxembourg\",\"Netherlands\",\"Poland\",\"Portugal\",\"Slovakia\",\"Spain\",\"Sweden\",\"United Kingdom of Great Britain and Northern Ireland\",\"United States of America\",\"Estonia\",\"Slovenia\",\"Latvia\",\"Lithuania\",\"Bulgaria\",\"Croatia\",\"Cyprus\",\"Malta\",\"Romania\"],\"sizing_mode\":\"stretch_width\",\"value\":\"Japan\"},\"id\":\"11368\",\"type\":\"panel.models.widgets.CustomSelect\"},{\"attributes\":{},\"id\":\"11394\",\"type\":\"ResetTool\"},{\"attributes\":{\"children\":[{\"id\":\"11365\"}],\"margin\":[0,0,0,0],\"name\":\"Row15850\",\"sizing_mode\":\"stretch_width\"},\"id\":\"11364\",\"type\":\"Row\"},{\"attributes\":{\"bottom_units\":\"screen\",\"coordinates\":null,\"fill_alpha\":0.5,\"fill_color\":\"lightgrey\",\"group\":null,\"left_units\":\"screen\",\"level\":\"overlay\",\"line_alpha\":1.0,\"line_color\":\"black\",\"line_dash\":[4,4],\"line_width\":2,\"right_units\":\"screen\",\"syncable\":false,\"top_units\":\"screen\"},\"id\":\"11395\",\"type\":\"BoxAnnotation\"},{\"attributes\":{\"children\":[{\"id\":\"11367\"},{\"id\":\"11369\"}],\"margin\":[0,0,0,0],\"name\":\"Row15848\",\"sizing_mode\":\"stretch_width\"},\"id\":\"11366\",\"type\":\"Row\"},{\"attributes\":{\"children\":[{\"id\":\"11366\"},{\"id\":\"11370\"}],\"margin\":[0,0,0,0],\"name\":\"Column15849\",\"sizing_mode\":\"stretch_width\"},\"id\":\"11365\",\"type\":\"Column\"},{\"attributes\":{\"tools\":[{\"id\":\"11373\"},{\"id\":\"11390\"},{\"id\":\"11391\"},{\"id\":\"11392\"},{\"id\":\"11393\"},{\"id\":\"11394\"}]},\"id\":\"11396\",\"type\":\"Toolbar\"},{\"attributes\":{\"callback\":null,\"renderers\":[{\"id\":\"11409\"}],\"tags\":[\"hv_created\"],\"tooltips\":[[\"YEAR\",\"@{YEAR}\"],[\"WHEAT_PPI\",\"@{WHEAT_PPI}\"]]},\"id\":\"11373\",\"type\":\"HoverTool\"},{\"attributes\":{\"bottom\":{\"value\":0},\"fill_alpha\":{\"value\":1.0},\"fill_color\":{\"value\":\"#30a2da\"},\"hatch_alpha\":{\"value\":1.0},\"hatch_color\":{\"value\":\"#30a2da\"},\"hatch_scale\":{\"value\":12.0},\"hatch_weight\":{\"value\":1.0},\"line_alpha\":{\"value\":1.0},\"line_cap\":{\"value\":\"butt\"},\"line_color\":{\"value\":\"black\"},\"line_dash\":{\"value\":[]},\"line_dash_offset\":{\"value\":0},\"line_join\":{\"value\":\"bevel\"},\"line_width\":{\"value\":1},\"top\":{\"field\":\"WHEAT_PPI\"},\"width\":{\"value\":0.8},\"x\":{\"field\":\"YEAR\"}},\"id\":\"11411\",\"type\":\"VBar\"},{\"attributes\":{\"client_comm_id\":\"9cc3ac20f0cd49cab1cd38ad2d9ed99c\",\"comm_id\":\"64b51751da914a77a1541ac351aef5fc\",\"plot_id\":\"11364\"},\"id\":\"11468\",\"type\":\"panel.models.comm_manager.CommManager\"},{\"attributes\":{\"coordinates\":null,\"data_source\":{\"id\":\"11403\"},\"glyph\":{\"id\":\"11406\"},\"group\":null,\"hover_glyph\":null,\"muted_glyph\":{\"id\":\"11408\"},\"nonselection_glyph\":{\"id\":\"11407\"},\"selection_glyph\":{\"id\":\"11411\"},\"view\":{\"id\":\"11410\"}},\"id\":\"11409\",\"type\":\"GlyphRenderer\"},{\"attributes\":{\"children\":[{\"id\":\"11368\"}],\"margin\":[0,0,0,0],\"name\":\"Column15710\",\"sizing_mode\":\"stretch_width\"},\"id\":\"11367\",\"type\":\"Column\"},{\"attributes\":{},\"id\":\"11381\",\"type\":\"LinearScale\"},{\"attributes\":{},\"id\":\"11404\",\"type\":\"Selection\"},{\"attributes\":{},\"id\":\"11414\",\"type\":\"AllLabels\"},{\"attributes\":{\"fill_color\":{\"value\":\"#30a2da\"},\"hatch_color\":{\"value\":\"#30a2da\"},\"top\":{\"field\":\"WHEAT_PPI\"},\"width\":{\"value\":0.8},\"x\":{\"field\":\"YEAR\"}},\"id\":\"11406\",\"type\":\"VBar\"},{\"attributes\":{\"fill_alpha\":{\"value\":0.1},\"fill_color\":{\"value\":\"#30a2da\"},\"hatch_alpha\":{\"value\":0.1},\"hatch_color\":{\"value\":\"#30a2da\"},\"line_alpha\":{\"value\":0.1},\"top\":{\"field\":\"WHEAT_PPI\"},\"width\":{\"value\":0.8},\"x\":{\"field\":\"YEAR\"}},\"id\":\"11407\",\"type\":\"VBar\"},{\"attributes\":{\"source\":{\"id\":\"11403\"}},\"id\":\"11410\",\"type\":\"CDSView\"},{\"attributes\":{},\"id\":\"11413\",\"type\":\"CategoricalTickFormatter\"},{\"attributes\":{\"factors\":[\"2000\",\"2001\",\"2002\",\"2003\",\"2004\",\"2005\",\"2006\",\"2007\",\"2008\",\"2009\",\"2010\",\"2011\",\"2012\",\"2013\",\"2014\",\"2015\",\"2016\",\"2017\",\"2018\",\"2019\",\"2020\",\"2021\"],\"tags\":[[[\"YEAR\",\"YEAR\",null]]]},\"id\":\"11371\",\"type\":\"FactorRange\"},{\"attributes\":{},\"id\":\"11379\",\"type\":\"CategoricalScale\"}],\"root_ids\":[\"11364\",\"11468\"]},\"title\":\"Bokeh Application\",\"version\":\"2.4.2\"}};\n",
       "    var render_items = [{\"docid\":\"23216ed0-44df-45d8-b3c0-544f8acdc27d\",\"root_ids\":[\"11364\"],\"roots\":{\"11364\":\"7c285986-e4a2-4df4-aa40-77d83aa36d36\"}}];\n",
       "    root.Bokeh.embed.embed_items_notebook(docs_json, render_items);\n",
       "  }\n",
       "  if (root.Bokeh !== undefined && root.Bokeh.Panel !== undefined && ( root['Tabulator'] !== undefined)) {\n",
       "    embed_document(root);\n",
       "  } else {\n",
       "    var attempts = 0;\n",
       "    var timer = setInterval(function(root) {\n",
       "      if (root.Bokeh !== undefined && root.Bokeh.Panel !== undefined && (root['Tabulator'] !== undefined)) {\n",
       "        clearInterval(timer);\n",
       "        embed_document(root);\n",
       "      } else if (document.readyState == \"complete\") {\n",
       "        attempts++;\n",
       "        if (attempts > 200) {\n",
       "          clearInterval(timer);\n",
       "          console.log(\"Bokeh: ERROR: Unable to run BokehJS code because BokehJS library is missing\");\n",
       "        }\n",
       "      }\n",
       "    }, 25, root)\n",
       "  }\n",
       "})(window);</script>"
      ],
      "text/plain": [
       "<hvplot.interactive.Interactive at 0x7f7dec9f8130>"
      ]
     },
     "execution_count": 97,
     "metadata": {
      "application/vnd.holoviews_exec.v0+json": {
       "id": "11364"
      }
     },
     "output_type": "execute_result"
    }
   ],
   "source": [
    "ppi_type_plot"
   ]
  },
  {
   "cell_type": "code",
   "execution_count": 98,
   "id": "aee58188",
   "metadata": {},
   "outputs": [],
   "source": [
    "gdp_type_plot = gdp_ppi_pipeline.hvplot(kind='scatter', \n",
    "                                             x='WHEAT_PPI', \n",
    "                                             y=\"GDP\", \n",
    "                                             title='GDP Breakdown')"
   ]
  },
  {
   "cell_type": "code",
   "execution_count": 99,
   "id": "c6638d2b",
   "metadata": {},
   "outputs": [
    {
     "data": {},
     "metadata": {},
     "output_type": "display_data"
    },
    {
     "data": {},
     "metadata": {},
     "output_type": "display_data"
    },
    {
     "data": {
      "application/vnd.holoviews_exec.v0+json": "",
      "text/html": [
       "<div id='11519'>\n",
       "\n",
       "\n",
       "\n",
       "\n",
       "\n",
       "  <div class=\"bk-root\" id=\"d39a3748-db8d-438f-9306-5464e7a19450\" data-root-id=\"11519\"></div>\n",
       "</div>\n",
       "<script type=\"application/javascript\">(function(root) {\n",
       "  function embed_document(root) {\n",
       "    var docs_json = {\"2cabd3e7-3585-4a58-8ecf-997f4eff5b29\":{\"defs\":[{\"extends\":null,\"module\":null,\"name\":\"ReactiveHTML1\",\"overrides\":[],\"properties\":[]},{\"extends\":null,\"module\":null,\"name\":\"FlexBox1\",\"overrides\":[],\"properties\":[{\"default\":\"flex-start\",\"kind\":null,\"name\":\"align_content\"},{\"default\":\"flex-start\",\"kind\":null,\"name\":\"align_items\"},{\"default\":\"row\",\"kind\":null,\"name\":\"flex_direction\"},{\"default\":\"wrap\",\"kind\":null,\"name\":\"flex_wrap\"},{\"default\":\"flex-start\",\"kind\":null,\"name\":\"justify_content\"}]},{\"extends\":null,\"module\":null,\"name\":\"GridStack1\",\"overrides\":[],\"properties\":[{\"default\":\"warn\",\"kind\":null,\"name\":\"mode\"},{\"default\":null,\"kind\":null,\"name\":\"ncols\"},{\"default\":null,\"kind\":null,\"name\":\"nrows\"},{\"default\":true,\"kind\":null,\"name\":\"allow_resize\"},{\"default\":true,\"kind\":null,\"name\":\"allow_drag\"},{\"default\":[],\"kind\":null,\"name\":\"state\"}]},{\"extends\":null,\"module\":null,\"name\":\"click1\",\"overrides\":[],\"properties\":[{\"default\":\"\",\"kind\":null,\"name\":\"terminal_output\"},{\"default\":\"\",\"kind\":null,\"name\":\"debug_name\"},{\"default\":0,\"kind\":null,\"name\":\"clears\"}]},{\"extends\":null,\"module\":null,\"name\":\"TemplateActions1\",\"overrides\":[],\"properties\":[{\"default\":0,\"kind\":null,\"name\":\"open_modal\"},{\"default\":0,\"kind\":null,\"name\":\"close_modal\"}]},{\"extends\":null,\"module\":null,\"name\":\"MaterialTemplateActions1\",\"overrides\":[],\"properties\":[{\"default\":0,\"kind\":null,\"name\":\"open_modal\"},{\"default\":0,\"kind\":null,\"name\":\"close_modal\"}]}],\"roots\":{\"references\":[{\"attributes\":{\"children\":[{\"id\":\"11523\"}],\"margin\":[0,0,0,0],\"name\":\"Column16047\",\"sizing_mode\":\"stretch_width\"},\"id\":\"11522\",\"type\":\"Column\"},{\"attributes\":{\"axis_label\":\"GDP\",\"coordinates\":null,\"formatter\":{\"id\":\"11572\"},\"group\":null,\"major_label_policy\":{\"id\":\"11573\"},\"ticker\":{\"id\":\"11543\"}},\"id\":\"11542\",\"type\":\"LinearAxis\"},{\"attributes\":{\"children\":[{\"id\":\"11529\"}],\"margin\":[0,0,0,0],\"name\":\"Row16052\",\"sizing_mode\":\"stretch_width\"},\"id\":\"11525\",\"type\":\"Row\"},{\"attributes\":{},\"id\":\"11543\",\"type\":\"BasicTicker\"},{\"attributes\":{\"children\":[{\"id\":\"11522\"},{\"id\":\"11524\"}],\"margin\":[0,0,0,0],\"name\":\"Row16185\",\"sizing_mode\":\"stretch_width\"},\"id\":\"11521\",\"type\":\"Row\"},{\"attributes\":{\"margin\":[5,10,5,10],\"options\":[\"Austria\",\"Belgium\",\"Canada\",\"Czechia\",\"Denmark\",\"Finland\",\"France\",\"Germany\",\"Greece\",\"Hungary\",\"Ireland\",\"Italy\",\"Japan\",\"Luxembourg\",\"Netherlands\",\"Poland\",\"Portugal\",\"Slovakia\",\"Spain\",\"Sweden\",\"United Kingdom of Great Britain and Northern Ireland\",\"United States of America\",\"Estonia\",\"Slovenia\",\"Latvia\",\"Lithuania\",\"Bulgaria\",\"Croatia\",\"Cyprus\",\"Malta\",\"Romania\"],\"sizing_mode\":\"stretch_width\",\"value\":\"Japan\"},\"id\":\"11523\",\"type\":\"panel.models.widgets.CustomSelect\"},{\"attributes\":{\"fill_alpha\":{\"value\":0.1},\"fill_color\":{\"value\":\"#30a2da\"},\"hatch_alpha\":{\"value\":0.1},\"hatch_color\":{\"value\":\"#30a2da\"},\"line_alpha\":{\"value\":0.1},\"line_color\":{\"value\":\"#30a2da\"},\"size\":{\"value\":5.477225575051661},\"x\":{\"field\":\"WHEAT_PPI\"},\"y\":{\"field\":\"GDP\"}},\"id\":\"11563\",\"type\":\"Scatter\"},{\"attributes\":{},\"id\":\"11548\",\"type\":\"WheelZoomTool\"},{\"attributes\":{},\"id\":\"11546\",\"type\":\"SaveTool\"},{\"attributes\":{\"fill_alpha\":{\"value\":0.2},\"fill_color\":{\"value\":\"#30a2da\"},\"hatch_alpha\":{\"value\":0.2},\"hatch_color\":{\"value\":\"#30a2da\"},\"line_alpha\":{\"value\":0.2},\"line_color\":{\"value\":\"#30a2da\"},\"size\":{\"value\":5.477225575051661},\"x\":{\"field\":\"WHEAT_PPI\"},\"y\":{\"field\":\"GDP\"}},\"id\":\"11564\",\"type\":\"Scatter\"},{\"attributes\":{\"coordinates\":null,\"data_source\":{\"id\":\"11559\"},\"glyph\":{\"id\":\"11562\"},\"group\":null,\"hover_glyph\":null,\"muted_glyph\":{\"id\":\"11564\"},\"nonselection_glyph\":{\"id\":\"11563\"},\"selection_glyph\":{\"id\":\"11567\"},\"view\":{\"id\":\"11566\"}},\"id\":\"11565\",\"type\":\"GlyphRenderer\"},{\"attributes\":{\"overlay\":{\"id\":\"11551\"}},\"id\":\"11549\",\"type\":\"BoxZoomTool\"},{\"attributes\":{\"source\":{\"id\":\"11559\"}},\"id\":\"11566\",\"type\":\"CDSView\"},{\"attributes\":{},\"id\":\"11550\",\"type\":\"ResetTool\"},{\"attributes\":{\"angle\":{\"value\":0.0},\"fill_alpha\":{\"value\":1.0},\"fill_color\":{\"value\":\"#30a2da\"},\"hatch_alpha\":{\"value\":1.0},\"hatch_color\":{\"value\":\"#30a2da\"},\"hatch_scale\":{\"value\":12.0},\"hatch_weight\":{\"value\":1.0},\"line_alpha\":{\"value\":1.0},\"line_cap\":{\"value\":\"butt\"},\"line_color\":{\"value\":\"#30a2da\"},\"line_dash\":{\"value\":[]},\"line_dash_offset\":{\"value\":0},\"line_join\":{\"value\":\"bevel\"},\"line_width\":{\"value\":1},\"marker\":{\"value\":\"circle\"},\"size\":{\"value\":5.477225575051661},\"x\":{\"field\":\"WHEAT_PPI\"},\"y\":{\"field\":\"GDP\"}},\"id\":\"11567\",\"type\":\"Scatter\"},{\"attributes\":{\"bottom_units\":\"screen\",\"coordinates\":null,\"fill_alpha\":0.5,\"fill_color\":\"lightgrey\",\"group\":null,\"left_units\":\"screen\",\"level\":\"overlay\",\"line_alpha\":1.0,\"line_color\":\"black\",\"line_dash\":[4,4],\"line_width\":2,\"right_units\":\"screen\",\"syncable\":false,\"top_units\":\"screen\"},\"id\":\"11551\",\"type\":\"BoxAnnotation\"},{\"attributes\":{\"callback\":null,\"renderers\":[{\"id\":\"11565\"}],\"tags\":[\"hv_created\"],\"tooltips\":[[\"WHEAT_PPI\",\"@{WHEAT_PPI}\"],[\"GDP\",\"@{GDP}\"]]},\"id\":\"11528\",\"type\":\"HoverTool\"},{\"attributes\":{\"end\":570.4261428571428,\"reset_end\":570.4261428571428,\"reset_start\":66.64385714285714,\"start\":66.64385714285714,\"tags\":[[[\"WHEAT_PPI\",\"WHEAT_PPI\",null]]]},\"id\":\"11526\",\"type\":\"Range1d\"},{\"attributes\":{},\"id\":\"11572\",\"type\":\"BasicTickFormatter\"},{\"attributes\":{\"fill_color\":{\"value\":\"#30a2da\"},\"hatch_color\":{\"value\":\"#30a2da\"},\"line_color\":{\"value\":\"#30a2da\"},\"size\":{\"value\":5.477225575051661},\"x\":{\"field\":\"WHEAT_PPI\"},\"y\":{\"field\":\"GDP\"}},\"id\":\"11562\",\"type\":\"Scatter\"},{\"attributes\":{\"client_comm_id\":\"084e00aee7fa418ba0cd47542bbd2d46\",\"comm_id\":\"edee800f814e4d709f546a085b185bf8\",\"plot_id\":\"11519\"},\"id\":\"11624\",\"type\":\"panel.models.comm_manager.CommManager\"},{\"attributes\":{\"coordinates\":null,\"group\":null,\"text\":\"GDP Breakdown\",\"text_color\":\"black\",\"text_font_size\":\"12pt\"},\"id\":\"11530\",\"type\":\"Title\"},{\"attributes\":{},\"id\":\"11573\",\"type\":\"AllLabels\"},{\"attributes\":{},\"id\":\"11534\",\"type\":\"LinearScale\"},{\"attributes\":{\"children\":[{\"id\":\"11520\"}],\"margin\":[0,0,0,0],\"name\":\"Row16187\",\"sizing_mode\":\"stretch_width\"},\"id\":\"11519\",\"type\":\"Row\"},{\"attributes\":{\"end\":43983.0428946,\"reset_end\":43983.0428946,\"reset_start\":25772.289119399997,\"start\":25772.289119399997,\"tags\":[[[\"GDP\",\"GDP\",null]]]},\"id\":\"11527\",\"type\":\"Range1d\"},{\"attributes\":{},\"id\":\"11539\",\"type\":\"BasicTicker\"},{\"attributes\":{},\"id\":\"11569\",\"type\":\"BasicTickFormatter\"},{\"attributes\":{\"below\":[{\"id\":\"11538\"}],\"center\":[{\"id\":\"11541\"},{\"id\":\"11545\"}],\"height\":300,\"left\":[{\"id\":\"11542\"}],\"margin\":[5,5,5,5],\"min_border_bottom\":10,\"min_border_left\":10,\"min_border_right\":10,\"min_border_top\":10,\"renderers\":[{\"id\":\"11565\"}],\"sizing_mode\":\"stretch_width\",\"title\":{\"id\":\"11530\"},\"toolbar\":{\"id\":\"11552\"},\"width\":700,\"x_range\":{\"id\":\"11526\"},\"x_scale\":{\"id\":\"11534\"},\"y_range\":{\"id\":\"11527\"},\"y_scale\":{\"id\":\"11536\"}},\"id\":\"11529\",\"subtype\":\"Figure\",\"type\":\"Plot\"},{\"attributes\":{},\"id\":\"11536\",\"type\":\"LinearScale\"},{\"attributes\":{\"tools\":[{\"id\":\"11528\"},{\"id\":\"11546\"},{\"id\":\"11547\"},{\"id\":\"11548\"},{\"id\":\"11549\"},{\"id\":\"11550\"}]},\"id\":\"11552\",\"type\":\"Toolbar\"},{\"attributes\":{\"axis\":{\"id\":\"11538\"},\"coordinates\":null,\"grid_line_color\":null,\"group\":null,\"ticker\":null},\"id\":\"11541\",\"type\":\"Grid\"},{\"attributes\":{},\"id\":\"11570\",\"type\":\"AllLabels\"},{\"attributes\":{\"margin\":[5,5,5,5],\"name\":\"HSpacer16184\",\"sizing_mode\":\"stretch_width\"},\"id\":\"11524\",\"type\":\"Spacer\"},{\"attributes\":{\"children\":[{\"id\":\"11521\"},{\"id\":\"11525\"}],\"margin\":[0,0,0,0],\"name\":\"Column16186\",\"sizing_mode\":\"stretch_width\"},\"id\":\"11520\",\"type\":\"Column\"},{\"attributes\":{},\"id\":\"11560\",\"type\":\"Selection\"},{\"attributes\":{},\"id\":\"11581\",\"type\":\"UnionRenderers\"},{\"attributes\":{\"axis_label\":\"WHEAT_PPI\",\"coordinates\":null,\"formatter\":{\"id\":\"11569\"},\"group\":null,\"major_label_policy\":{\"id\":\"11570\"},\"ticker\":{\"id\":\"11539\"}},\"id\":\"11538\",\"type\":\"LinearAxis\"},{\"attributes\":{\"data\":{\"GDP\":{\"__ndarray__\":\"Fi8Whnam2kDECyJShUrbQKHzGrts9ttAGVjH8eW43ED+YyE6Sx3eQPpjWpuZa99AE5uP69ps4ECrBmFutxnhQOEJvf7XOeFAgBDJENZh4EBqSx1k2kHhQFxWYTPgruFA766zoZVf4kB4f7zXlUHjQA68Wm74UONAqdpuApn540CBmISLVtjjQKa6gBdnR+RA0jQomuGf5EBvu9BcL7zkQK0yU1pjXORAeouHd7qe5EA=\",\"dtype\":\"float64\",\"order\":\"little\",\"shape\":[22]},\"WHEAT_PPI\":{\"__ndarray__\":\"uB6F61E0gUDD9ShcjwCBQNejcD0KuYBAuB6F61E2gECPwvUoXGt+QFyPwvUotH5AFK5H4XqQf0B7FK5H4VJwQArXo3A9nnBASOF6FK4rckBxPQrXo+BtQFK4HoXryWRACtejcD0aXUBcj8L1KAxaQBSuR+F6lFlAmpmZmZnJW0BSuB6F66FVQHsUrkfhalpAmpmZmZk5YUCPwvUoXNdgQJqZmZmZyWFA16NwPQrHZkA=\",\"dtype\":\"float64\",\"order\":\"little\",\"shape\":[22]}},\"selected\":{\"id\":\"11560\"},\"selection_policy\":{\"id\":\"11581\"}},\"id\":\"11559\",\"type\":\"ColumnDataSource\"},{\"attributes\":{\"axis\":{\"id\":\"11542\"},\"coordinates\":null,\"dimension\":1,\"grid_line_color\":null,\"group\":null,\"ticker\":null},\"id\":\"11545\",\"type\":\"Grid\"},{\"attributes\":{},\"id\":\"11547\",\"type\":\"PanTool\"}],\"root_ids\":[\"11519\",\"11624\"]},\"title\":\"Bokeh Application\",\"version\":\"2.4.2\"}};\n",
       "    var render_items = [{\"docid\":\"2cabd3e7-3585-4a58-8ecf-997f4eff5b29\",\"root_ids\":[\"11519\"],\"roots\":{\"11519\":\"d39a3748-db8d-438f-9306-5464e7a19450\"}}];\n",
       "    root.Bokeh.embed.embed_items_notebook(docs_json, render_items);\n",
       "  }\n",
       "  if (root.Bokeh !== undefined && root.Bokeh.Panel !== undefined && ( root['Tabulator'] !== undefined)) {\n",
       "    embed_document(root);\n",
       "  } else {\n",
       "    var attempts = 0;\n",
       "    var timer = setInterval(function(root) {\n",
       "      if (root.Bokeh !== undefined && root.Bokeh.Panel !== undefined && (root['Tabulator'] !== undefined)) {\n",
       "        clearInterval(timer);\n",
       "        embed_document(root);\n",
       "      } else if (document.readyState == \"complete\") {\n",
       "        attempts++;\n",
       "        if (attempts > 200) {\n",
       "          clearInterval(timer);\n",
       "          console.log(\"Bokeh: ERROR: Unable to run BokehJS code because BokehJS library is missing\");\n",
       "        }\n",
       "      }\n",
       "    }, 25, root)\n",
       "  }\n",
       "})(window);</script>"
      ],
      "text/plain": [
       "<hvplot.interactive.Interactive at 0x7f7dec9f8070>"
      ]
     },
     "execution_count": 99,
     "metadata": {
      "application/vnd.holoviews_exec.v0+json": {
       "id": "11519"
      }
     },
     "output_type": "execute_result"
    }
   ],
   "source": [
    "gdp_type_plot"
   ]
  },
  {
   "cell_type": "code",
   "execution_count": null,
   "id": "47e12790",
   "metadata": {},
   "outputs": [],
   "source": []
  },
  {
   "cell_type": "code",
   "execution_count": 26,
   "id": "104b6fee",
   "metadata": {},
   "outputs": [],
   "source": [
    "#  INLINE DASHBOARD"
   ]
  },
  {
   "cell_type": "code",
   "execution_count": 100,
   "id": "52b937ab",
   "metadata": {},
   "outputs": [
    {
     "data": {},
     "metadata": {},
     "output_type": "display_data"
    },
    {
     "data": {},
     "metadata": {},
     "output_type": "display_data"
    },
    {
     "data": {
      "application/vnd.holoviews_exec.v0+json": "",
      "text/html": [
       "<div id='11675'>\n",
       "\n",
       "\n",
       "\n",
       "\n",
       "\n",
       "  <div class=\"bk-root\" id=\"edbd5333-c066-49b0-8edb-e58050e4a579\" data-root-id=\"11675\"></div>\n",
       "</div>\n",
       "<script type=\"application/javascript\">(function(root) {\n",
       "  function embed_document(root) {\n",
       "    var docs_json = {\"bade88ac-dc9c-46ae-9370-da1d90c22e70\":{\"defs\":[{\"extends\":null,\"module\":null,\"name\":\"ReactiveHTML1\",\"overrides\":[],\"properties\":[]},{\"extends\":null,\"module\":null,\"name\":\"FlexBox1\",\"overrides\":[],\"properties\":[{\"default\":\"flex-start\",\"kind\":null,\"name\":\"align_content\"},{\"default\":\"flex-start\",\"kind\":null,\"name\":\"align_items\"},{\"default\":\"row\",\"kind\":null,\"name\":\"flex_direction\"},{\"default\":\"wrap\",\"kind\":null,\"name\":\"flex_wrap\"},{\"default\":\"flex-start\",\"kind\":null,\"name\":\"justify_content\"}]},{\"extends\":null,\"module\":null,\"name\":\"GridStack1\",\"overrides\":[],\"properties\":[{\"default\":\"warn\",\"kind\":null,\"name\":\"mode\"},{\"default\":null,\"kind\":null,\"name\":\"ncols\"},{\"default\":null,\"kind\":null,\"name\":\"nrows\"},{\"default\":true,\"kind\":null,\"name\":\"allow_resize\"},{\"default\":true,\"kind\":null,\"name\":\"allow_drag\"},{\"default\":[],\"kind\":null,\"name\":\"state\"}]},{\"extends\":null,\"module\":null,\"name\":\"click1\",\"overrides\":[],\"properties\":[{\"default\":\"\",\"kind\":null,\"name\":\"terminal_output\"},{\"default\":\"\",\"kind\":null,\"name\":\"debug_name\"},{\"default\":0,\"kind\":null,\"name\":\"clears\"}]},{\"extends\":null,\"module\":null,\"name\":\"TemplateActions1\",\"overrides\":[],\"properties\":[{\"default\":0,\"kind\":null,\"name\":\"open_modal\"},{\"default\":0,\"kind\":null,\"name\":\"close_modal\"}]},{\"extends\":null,\"module\":null,\"name\":\"MaterialTemplateActions1\",\"overrides\":[],\"properties\":[{\"default\":0,\"kind\":null,\"name\":\"open_modal\"},{\"default\":0,\"kind\":null,\"name\":\"close_modal\"}]}],\"roots\":{\"references\":[{\"attributes\":{\"fill_color\":{\"value\":\"#30a2da\"},\"hatch_color\":{\"value\":\"#30a2da\"},\"line_color\":{\"value\":\"#30a2da\"},\"size\":{\"value\":5.477225575051661},\"x\":{\"field\":\"WHEAT_PPI\"},\"y\":{\"field\":\"GDP\"}},\"id\":\"11720\",\"type\":\"Scatter\"},{\"attributes\":{\"source\":{\"id\":\"11791\"}},\"id\":\"11798\",\"type\":\"CDSView\"},{\"attributes\":{\"fill_alpha\":{\"value\":0.1},\"fill_color\":{\"value\":\"#30a2da\"},\"hatch_alpha\":{\"value\":0.1},\"hatch_color\":{\"value\":\"#30a2da\"},\"line_alpha\":{\"value\":0.1},\"line_color\":{\"value\":\"#30a2da\"},\"size\":{\"value\":5.477225575051661},\"x\":{\"field\":\"WHEAT_PPI\"},\"y\":{\"field\":\"GDP\"}},\"id\":\"11721\",\"type\":\"Scatter\"},{\"attributes\":{},\"id\":\"11728\",\"type\":\"AllLabels\"},{\"attributes\":{},\"id\":\"11718\",\"type\":\"Selection\"},{\"attributes\":{\"bottom\":{\"value\":0},\"fill_alpha\":{\"value\":1.0},\"fill_color\":{\"value\":\"#30a2da\"},\"hatch_alpha\":{\"value\":1.0},\"hatch_color\":{\"value\":\"#30a2da\"},\"hatch_scale\":{\"value\":12.0},\"hatch_weight\":{\"value\":1.0},\"line_alpha\":{\"value\":1.0},\"line_cap\":{\"value\":\"butt\"},\"line_color\":{\"value\":\"black\"},\"line_dash\":{\"value\":[]},\"line_dash_offset\":{\"value\":0},\"line_join\":{\"value\":\"bevel\"},\"line_width\":{\"value\":1},\"top\":{\"field\":\"WHEAT_PPI\"},\"width\":{\"value\":0.8},\"x\":{\"field\":\"YEAR\"}},\"id\":\"11799\",\"type\":\"VBar\"},{\"attributes\":{\"fill_alpha\":{\"value\":0.2},\"fill_color\":{\"value\":\"#30a2da\"},\"hatch_alpha\":{\"value\":0.2},\"hatch_color\":{\"value\":\"#30a2da\"},\"line_alpha\":{\"value\":0.2},\"line_color\":{\"value\":\"#30a2da\"},\"size\":{\"value\":5.477225575051661},\"x\":{\"field\":\"WHEAT_PPI\"},\"y\":{\"field\":\"GDP\"}},\"id\":\"11722\",\"type\":\"Scatter\"},{\"attributes\":{\"coordinates\":null,\"data_source\":{\"id\":\"11717\"},\"glyph\":{\"id\":\"11720\"},\"group\":null,\"hover_glyph\":null,\"muted_glyph\":{\"id\":\"11722\"},\"nonselection_glyph\":{\"id\":\"11721\"},\"selection_glyph\":{\"id\":\"11725\"},\"view\":{\"id\":\"11724\"}},\"id\":\"11723\",\"type\":\"GlyphRenderer\"},{\"attributes\":{},\"id\":\"11739\",\"type\":\"UnionRenderers\"},{\"attributes\":{\"source\":{\"id\":\"11717\"}},\"id\":\"11724\",\"type\":\"CDSView\"},{\"attributes\":{\"angle\":{\"value\":0.0},\"fill_alpha\":{\"value\":1.0},\"fill_color\":{\"value\":\"#30a2da\"},\"hatch_alpha\":{\"value\":1.0},\"hatch_color\":{\"value\":\"#30a2da\"},\"hatch_scale\":{\"value\":12.0},\"hatch_weight\":{\"value\":1.0},\"line_alpha\":{\"value\":1.0},\"line_cap\":{\"value\":\"butt\"},\"line_color\":{\"value\":\"#30a2da\"},\"line_dash\":{\"value\":[]},\"line_dash_offset\":{\"value\":0},\"line_join\":{\"value\":\"bevel\"},\"line_width\":{\"value\":1},\"marker\":{\"value\":\"circle\"},\"size\":{\"value\":5.477225575051661},\"x\":{\"field\":\"WHEAT_PPI\"},\"y\":{\"field\":\"GDP\"}},\"id\":\"11725\",\"type\":\"Scatter\"},{\"attributes\":{\"callback\":null,\"renderers\":[{\"id\":\"11797\"}],\"tags\":[\"hv_created\"],\"tooltips\":[[\"YEAR\",\"@{YEAR}\"],[\"WHEAT_PPI\",\"@{WHEAT_PPI}\"]]},\"id\":\"11761\",\"type\":\"HoverTool\"},{\"attributes\":{\"callback\":null,\"renderers\":[{\"id\":\"11723\"}],\"tags\":[\"hv_created\"],\"tooltips\":[[\"WHEAT_PPI\",\"@{WHEAT_PPI}\"],[\"GDP\",\"@{GDP}\"]]},\"id\":\"11686\",\"type\":\"HoverTool\"},{\"attributes\":{\"children\":[{\"id\":\"11677\"},{\"id\":\"11752\"}],\"margin\":[0,0,0,0],\"name\":\"Column16572\",\"sizing_mode\":\"stretch_width\"},\"id\":\"11676\",\"type\":\"Column\"},{\"attributes\":{\"end\":570.4261428571428,\"reset_end\":570.4261428571428,\"reset_start\":66.64385714285714,\"start\":66.64385714285714,\"tags\":[[[\"WHEAT_PPI\",\"WHEAT_PPI\",null]]]},\"id\":\"11684\",\"type\":\"Range1d\"},{\"attributes\":{\"axis_label\":\"YEAR\",\"coordinates\":null,\"formatter\":{\"id\":\"11801\"},\"group\":null,\"major_label_policy\":{\"id\":\"11802\"},\"ticker\":{\"id\":\"11772\"}},\"id\":\"11771\",\"type\":\"CategoricalAxis\"},{\"attributes\":{},\"id\":\"11731\",\"type\":\"AllLabels\"},{\"attributes\":{\"coordinates\":null,\"group\":null,\"text\":\"GDP Breakdown\",\"text_color\":\"black\",\"text_font_size\":\"12pt\"},\"id\":\"11688\",\"type\":\"Title\"},{\"attributes\":{\"children\":[{\"id\":\"11680\"},{\"id\":\"11682\"}],\"margin\":[0,0,0,0],\"name\":\"Row16426\",\"sizing_mode\":\"stretch_width\"},\"id\":\"11679\",\"type\":\"Row\"},{\"attributes\":{\"client_comm_id\":\"e667c2dd9950484eb8424be3c76b4121\",\"comm_id\":\"0985154689344985800e72a8f578a143\",\"plot_id\":\"11675\"},\"id\":\"11886\",\"type\":\"panel.models.comm_manager.CommManager\"},{\"attributes\":{},\"id\":\"11727\",\"type\":\"BasicTickFormatter\"},{\"attributes\":{\"children\":[{\"id\":\"11681\"}],\"margin\":[0,0,0,0],\"name\":\"Column16288\",\"sizing_mode\":\"stretch_width\"},\"id\":\"11680\",\"type\":\"Column\"},{\"attributes\":{},\"id\":\"11804\",\"type\":\"BasicTickFormatter\"},{\"attributes\":{\"children\":[{\"id\":\"11676\"}],\"margin\":[0,0,0,0],\"name\":\"Row16573\",\"sizing_mode\":\"stretch_width\"},\"id\":\"11675\",\"type\":\"Row\"},{\"attributes\":{\"factors\":[\"2000\",\"2001\",\"2002\",\"2003\",\"2004\",\"2005\",\"2006\",\"2007\",\"2008\",\"2009\",\"2010\",\"2011\",\"2012\",\"2013\",\"2014\",\"2015\",\"2016\",\"2017\",\"2018\",\"2019\",\"2020\",\"2021\"],\"tags\":[[[\"YEAR\",\"YEAR\",null]]]},\"id\":\"11759\",\"type\":\"FactorRange\"},{\"attributes\":{\"children\":[{\"id\":\"11687\"}],\"margin\":[0,0,0,0],\"name\":\"Row16293\",\"sizing_mode\":\"stretch_width\"},\"id\":\"11683\",\"type\":\"Row\"},{\"attributes\":{},\"id\":\"11692\",\"type\":\"LinearScale\"},{\"attributes\":{\"axis\":{\"id\":\"11771\"},\"coordinates\":null,\"grid_line_color\":null,\"group\":null,\"ticker\":null},\"id\":\"11773\",\"type\":\"Grid\"},{\"attributes\":{\"margin\":[5,10,5,10],\"options\":[\"Austria\",\"Belgium\",\"Canada\",\"Czechia\",\"Denmark\",\"Finland\",\"France\",\"Germany\",\"Greece\",\"Hungary\",\"Ireland\",\"Italy\",\"Japan\",\"Luxembourg\",\"Netherlands\",\"Poland\",\"Portugal\",\"Slovakia\",\"Spain\",\"Sweden\",\"United Kingdom of Great Britain and Northern Ireland\",\"United States of America\",\"Estonia\",\"Slovenia\",\"Latvia\",\"Lithuania\",\"Bulgaria\",\"Croatia\",\"Cyprus\",\"Malta\",\"Romania\"],\"sizing_mode\":\"stretch_width\",\"value\":\"Japan\"},\"id\":\"11681\",\"type\":\"panel.models.widgets.CustomSelect\"},{\"attributes\":{\"coordinates\":null,\"group\":null,\"text\":\"Wheat PPI Breakdown\",\"text_color\":\"black\",\"text_font_size\":\"12pt\"},\"id\":\"11763\",\"type\":\"Title\"},{\"attributes\":{\"end\":596.9409999999999,\"reset_end\":596.9409999999999,\"reset_start\":0.0,\"tags\":[[[\"WHEAT_PPI\",\"WHEAT_PPI\",null]]]},\"id\":\"11760\",\"type\":\"Range1d\"},{\"attributes\":{\"margin\":[5,5,5,5],\"name\":\"HSpacer16425\",\"sizing_mode\":\"stretch_width\"},\"id\":\"11682\",\"type\":\"Spacer\"},{\"attributes\":{},\"id\":\"11805\",\"type\":\"AllLabels\"},{\"attributes\":{\"end\":43983.0428946,\"reset_end\":43983.0428946,\"reset_start\":25772.289119399997,\"start\":25772.289119399997,\"tags\":[[[\"GDP\",\"GDP\",null]]]},\"id\":\"11685\",\"type\":\"Range1d\"},{\"attributes\":{\"below\":[{\"id\":\"11771\"}],\"center\":[{\"id\":\"11773\"},{\"id\":\"11777\"}],\"height\":300,\"left\":[{\"id\":\"11774\"}],\"margin\":[5,5,5,5],\"min_border_bottom\":10,\"min_border_left\":10,\"min_border_right\":10,\"min_border_top\":10,\"renderers\":[{\"id\":\"11797\"}],\"sizing_mode\":\"stretch_width\",\"title\":{\"id\":\"11763\"},\"toolbar\":{\"id\":\"11784\"},\"width\":700,\"x_range\":{\"id\":\"11759\"},\"x_scale\":{\"id\":\"11767\"},\"y_range\":{\"id\":\"11760\"},\"y_scale\":{\"id\":\"11769\"}},\"id\":\"11762\",\"subtype\":\"Figure\",\"type\":\"Plot\"},{\"attributes\":{},\"id\":\"11697\",\"type\":\"BasicTicker\"},{\"attributes\":{\"children\":[{\"id\":\"11754\"},{\"id\":\"11758\"}],\"margin\":[0,0,0,0],\"name\":\"Column16570\",\"sizing_mode\":\"stretch_width\"},\"id\":\"11753\",\"type\":\"Column\"},{\"attributes\":{\"below\":[{\"id\":\"11696\"}],\"center\":[{\"id\":\"11699\"},{\"id\":\"11703\"}],\"height\":300,\"left\":[{\"id\":\"11700\"}],\"margin\":[5,5,5,5],\"min_border_bottom\":10,\"min_border_left\":10,\"min_border_right\":10,\"min_border_top\":10,\"renderers\":[{\"id\":\"11723\"}],\"sizing_mode\":\"stretch_width\",\"title\":{\"id\":\"11688\"},\"toolbar\":{\"id\":\"11710\"},\"width\":700,\"x_range\":{\"id\":\"11684\"},\"x_scale\":{\"id\":\"11692\"},\"y_range\":{\"id\":\"11685\"},\"y_scale\":{\"id\":\"11694\"}},\"id\":\"11687\",\"subtype\":\"Figure\",\"type\":\"Plot\"},{\"attributes\":{\"axis_label\":\"WHEAT_PPI\",\"coordinates\":null,\"formatter\":{\"id\":\"11804\"},\"group\":null,\"major_label_policy\":{\"id\":\"11805\"},\"ticker\":{\"id\":\"11775\"}},\"id\":\"11774\",\"type\":\"LinearAxis\"},{\"attributes\":{\"children\":[{\"id\":\"11678\"}],\"margin\":[5,5,5,5],\"name\":\"Row16428\",\"sizing_mode\":\"stretch_width\"},\"id\":\"11677\",\"type\":\"Row\"},{\"attributes\":{},\"id\":\"11772\",\"type\":\"CategoricalTicker\"},{\"attributes\":{},\"id\":\"11694\",\"type\":\"LinearScale\"},{\"attributes\":{\"fill_color\":{\"value\":\"#30a2da\"},\"hatch_color\":{\"value\":\"#30a2da\"},\"top\":{\"field\":\"WHEAT_PPI\"},\"width\":{\"value\":0.8},\"x\":{\"field\":\"YEAR\"}},\"id\":\"11794\",\"type\":\"VBar\"},{\"attributes\":{\"children\":[{\"id\":\"11679\"},{\"id\":\"11683\"}],\"margin\":[0,0,0,0],\"name\":\"Column16427\",\"sizing_mode\":\"stretch_width\"},\"id\":\"11678\",\"type\":\"Column\"},{\"attributes\":{},\"id\":\"11779\",\"type\":\"PanTool\"},{\"attributes\":{\"axis\":{\"id\":\"11696\"},\"coordinates\":null,\"grid_line_color\":null,\"group\":null,\"ticker\":null},\"id\":\"11699\",\"type\":\"Grid\"},{\"attributes\":{},\"id\":\"11780\",\"type\":\"WheelZoomTool\"},{\"attributes\":{\"axis\":{\"id\":\"11774\"},\"coordinates\":null,\"dimension\":1,\"grid_line_color\":null,\"group\":null,\"ticker\":null},\"id\":\"11777\",\"type\":\"Grid\"},{\"attributes\":{\"data\":{\"GDP\":{\"__ndarray__\":\"Fi8Whnam2kDECyJShUrbQKHzGrts9ttAGVjH8eW43ED+YyE6Sx3eQPpjWpuZa99AE5uP69ps4ECrBmFutxnhQOEJvf7XOeFAgBDJENZh4EBqSx1k2kHhQFxWYTPgruFA766zoZVf4kB4f7zXlUHjQA68Wm74UONAqdpuApn540CBmISLVtjjQKa6gBdnR+RA0jQomuGf5EBvu9BcL7zkQK0yU1pjXORAeouHd7qe5EA=\",\"dtype\":\"float64\",\"order\":\"little\",\"shape\":[22]},\"WHEAT_PPI\":{\"__ndarray__\":\"uB6F61E0gUDD9ShcjwCBQNejcD0KuYBAuB6F61E2gECPwvUoXGt+QFyPwvUotH5AFK5H4XqQf0B7FK5H4VJwQArXo3A9nnBASOF6FK4rckBxPQrXo+BtQFK4HoXryWRACtejcD0aXUBcj8L1KAxaQBSuR+F6lFlAmpmZmZnJW0BSuB6F66FVQHsUrkfhalpAmpmZmZk5YUCPwvUoXNdgQJqZmZmZyWFA16NwPQrHZkA=\",\"dtype\":\"float64\",\"order\":\"little\",\"shape\":[22]}},\"selected\":{\"id\":\"11718\"},\"selection_policy\":{\"id\":\"11739\"}},\"id\":\"11717\",\"type\":\"ColumnDataSource\"},{\"attributes\":{},\"id\":\"11730\",\"type\":\"BasicTickFormatter\"},{\"attributes\":{\"axis_label\":\"WHEAT_PPI\",\"coordinates\":null,\"formatter\":{\"id\":\"11727\"},\"group\":null,\"major_label_policy\":{\"id\":\"11728\"},\"ticker\":{\"id\":\"11697\"}},\"id\":\"11696\",\"type\":\"LinearAxis\"},{\"attributes\":{},\"id\":\"11778\",\"type\":\"SaveTool\"},{\"attributes\":{\"axis\":{\"id\":\"11700\"},\"coordinates\":null,\"dimension\":1,\"grid_line_color\":null,\"group\":null,\"ticker\":null},\"id\":\"11703\",\"type\":\"Grid\"},{\"attributes\":{},\"id\":\"11775\",\"type\":\"BasicTicker\"},{\"attributes\":{},\"id\":\"11705\",\"type\":\"PanTool\"},{\"attributes\":{\"axis_label\":\"GDP\",\"coordinates\":null,\"formatter\":{\"id\":\"11730\"},\"group\":null,\"major_label_policy\":{\"id\":\"11731\"},\"ticker\":{\"id\":\"11701\"}},\"id\":\"11700\",\"type\":\"LinearAxis\"},{\"attributes\":{},\"id\":\"11701\",\"type\":\"BasicTicker\"},{\"attributes\":{\"overlay\":{\"id\":\"11783\"}},\"id\":\"11781\",\"type\":\"BoxZoomTool\"},{\"attributes\":{},\"id\":\"11706\",\"type\":\"WheelZoomTool\"},{\"attributes\":{},\"id\":\"11782\",\"type\":\"ResetTool\"},{\"attributes\":{},\"id\":\"11767\",\"type\":\"CategoricalScale\"},{\"attributes\":{},\"id\":\"11704\",\"type\":\"SaveTool\"},{\"attributes\":{\"bottom_units\":\"screen\",\"coordinates\":null,\"fill_alpha\":0.5,\"fill_color\":\"lightgrey\",\"group\":null,\"left_units\":\"screen\",\"level\":\"overlay\",\"line_alpha\":1.0,\"line_color\":\"black\",\"line_dash\":[4,4],\"line_width\":2,\"right_units\":\"screen\",\"syncable\":false,\"top_units\":\"screen\"},\"id\":\"11783\",\"type\":\"BoxAnnotation\"},{\"attributes\":{\"overlay\":{\"id\":\"11709\"}},\"id\":\"11707\",\"type\":\"BoxZoomTool\"},{\"attributes\":{},\"id\":\"11708\",\"type\":\"ResetTool\"},{\"attributes\":{\"bottom_units\":\"screen\",\"coordinates\":null,\"fill_alpha\":0.5,\"fill_color\":\"lightgrey\",\"group\":null,\"left_units\":\"screen\",\"level\":\"overlay\",\"line_alpha\":1.0,\"line_color\":\"black\",\"line_dash\":[4,4],\"line_width\":2,\"right_units\":\"screen\",\"syncable\":false,\"top_units\":\"screen\"},\"id\":\"11709\",\"type\":\"BoxAnnotation\"},{\"attributes\":{},\"id\":\"11769\",\"type\":\"LinearScale\"},{\"attributes\":{\"children\":[{\"id\":\"11755\"},{\"id\":\"11757\"}],\"margin\":[0,0,0,0],\"name\":\"Row16569\",\"sizing_mode\":\"stretch_width\"},\"id\":\"11754\",\"type\":\"Row\"},{\"attributes\":{\"children\":[{\"id\":\"11756\"}],\"margin\":[0,0,0,0],\"name\":\"Column16431\",\"sizing_mode\":\"stretch_width\"},\"id\":\"11755\",\"type\":\"Column\"},{\"attributes\":{\"fill_alpha\":{\"value\":0.1},\"fill_color\":{\"value\":\"#30a2da\"},\"hatch_alpha\":{\"value\":0.1},\"hatch_color\":{\"value\":\"#30a2da\"},\"line_alpha\":{\"value\":0.1},\"top\":{\"field\":\"WHEAT_PPI\"},\"width\":{\"value\":0.8},\"x\":{\"field\":\"YEAR\"}},\"id\":\"11795\",\"type\":\"VBar\"},{\"attributes\":{\"tools\":[{\"id\":\"11761\"},{\"id\":\"11778\"},{\"id\":\"11779\"},{\"id\":\"11780\"},{\"id\":\"11781\"},{\"id\":\"11782\"}]},\"id\":\"11784\",\"type\":\"Toolbar\"},{\"attributes\":{\"data\":{\"WHEAT_PPI\":{\"__ndarray__\":\"uB6F61E0gUDD9ShcjwCBQNejcD0KuYBAuB6F61E2gECPwvUoXGt+QFyPwvUotH5AFK5H4XqQf0B7FK5H4VJwQArXo3A9nnBASOF6FK4rckBxPQrXo+BtQFK4HoXryWRACtejcD0aXUBcj8L1KAxaQBSuR+F6lFlAmpmZmZnJW0BSuB6F66FVQHsUrkfhalpAmpmZmZk5YUCPwvUoXNdgQJqZmZmZyWFA16NwPQrHZkA=\",\"dtype\":\"float64\",\"order\":\"little\",\"shape\":[22]},\"YEAR\":[\"2000\",\"2001\",\"2002\",\"2003\",\"2004\",\"2005\",\"2006\",\"2007\",\"2008\",\"2009\",\"2010\",\"2011\",\"2012\",\"2013\",\"2014\",\"2015\",\"2016\",\"2017\",\"2018\",\"2019\",\"2020\",\"2021\"]},\"selected\":{\"id\":\"11792\"},\"selection_policy\":{\"id\":\"11813\"}},\"id\":\"11791\",\"type\":\"ColumnDataSource\"},{\"attributes\":{\"margin\":[5,10,5,10],\"options\":[\"Austria\",\"Belgium\",\"Canada\",\"Czechia\",\"Denmark\",\"Finland\",\"France\",\"Germany\",\"Greece\",\"Hungary\",\"Ireland\",\"Italy\",\"Japan\",\"Luxembourg\",\"Netherlands\",\"Poland\",\"Portugal\",\"Slovakia\",\"Spain\",\"Sweden\",\"United Kingdom of Great Britain and Northern Ireland\",\"United States of America\",\"Estonia\",\"Slovenia\",\"Latvia\",\"Lithuania\",\"Bulgaria\",\"Croatia\",\"Cyprus\",\"Malta\",\"Romania\"],\"sizing_mode\":\"stretch_width\",\"value\":\"Japan\"},\"id\":\"11756\",\"type\":\"panel.models.widgets.CustomSelect\"},{\"attributes\":{\"margin\":[5,5,5,5],\"name\":\"HSpacer16568\",\"sizing_mode\":\"stretch_width\"},\"id\":\"11757\",\"type\":\"Spacer\"},{\"attributes\":{\"tools\":[{\"id\":\"11686\"},{\"id\":\"11704\"},{\"id\":\"11705\"},{\"id\":\"11706\"},{\"id\":\"11707\"},{\"id\":\"11708\"}]},\"id\":\"11710\",\"type\":\"Toolbar\"},{\"attributes\":{\"children\":[{\"id\":\"11753\"}],\"margin\":[5,5,5,5],\"name\":\"Row16571\",\"sizing_mode\":\"stretch_width\"},\"id\":\"11752\",\"type\":\"Row\"},{\"attributes\":{\"coordinates\":null,\"data_source\":{\"id\":\"11791\"},\"glyph\":{\"id\":\"11794\"},\"group\":null,\"hover_glyph\":null,\"muted_glyph\":{\"id\":\"11796\"},\"nonselection_glyph\":{\"id\":\"11795\"},\"selection_glyph\":{\"id\":\"11799\"},\"view\":{\"id\":\"11798\"}},\"id\":\"11797\",\"type\":\"GlyphRenderer\"},{\"attributes\":{},\"id\":\"11802\",\"type\":\"AllLabels\"},{\"attributes\":{},\"id\":\"11813\",\"type\":\"UnionRenderers\"},{\"attributes\":{\"children\":[{\"id\":\"11762\"}],\"margin\":[0,0,0,0],\"name\":\"Row16436\",\"sizing_mode\":\"stretch_width\"},\"id\":\"11758\",\"type\":\"Row\"},{\"attributes\":{},\"id\":\"11801\",\"type\":\"CategoricalTickFormatter\"},{\"attributes\":{\"fill_alpha\":{\"value\":0.2},\"fill_color\":{\"value\":\"#30a2da\"},\"hatch_alpha\":{\"value\":0.2},\"hatch_color\":{\"value\":\"#30a2da\"},\"line_alpha\":{\"value\":0.2},\"top\":{\"field\":\"WHEAT_PPI\"},\"width\":{\"value\":0.8},\"x\":{\"field\":\"YEAR\"}},\"id\":\"11796\",\"type\":\"VBar\"},{\"attributes\":{},\"id\":\"11792\",\"type\":\"Selection\"}],\"root_ids\":[\"11675\",\"11886\"]},\"title\":\"Bokeh Application\",\"version\":\"2.4.2\"}};\n",
       "    var render_items = [{\"docid\":\"bade88ac-dc9c-46ae-9370-da1d90c22e70\",\"root_ids\":[\"11675\"],\"roots\":{\"11675\":\"edbd5333-c066-49b0-8edb-e58050e4a579\"}}];\n",
       "    root.Bokeh.embed.embed_items_notebook(docs_json, render_items);\n",
       "  }\n",
       "  if (root.Bokeh !== undefined && root.Bokeh.Panel !== undefined && ( root['Tabulator'] !== undefined)) {\n",
       "    embed_document(root);\n",
       "  } else {\n",
       "    var attempts = 0;\n",
       "    var timer = setInterval(function(root) {\n",
       "      if (root.Bokeh !== undefined && root.Bokeh.Panel !== undefined && (root['Tabulator'] !== undefined)) {\n",
       "        clearInterval(timer);\n",
       "        embed_document(root);\n",
       "      } else if (document.readyState == \"complete\") {\n",
       "        attempts++;\n",
       "        if (attempts > 200) {\n",
       "          clearInterval(timer);\n",
       "          console.log(\"Bokeh: ERROR: Unable to run BokehJS code because BokehJS library is missing\");\n",
       "        }\n",
       "      }\n",
       "    }, 25, root)\n",
       "  }\n",
       "})(window);</script>"
      ],
      "text/plain": [
       "Row(sizing_mode='stretch_width')\n",
       "    [0] Column(sizing_mode='stretch_width')\n",
       "        [0] Interactive(Interactive, sizing_mode='stretch_width')\n",
       "        [1] Interactive(Interactive, sizing_mode='stretch_width')"
      ]
     },
     "execution_count": 100,
     "metadata": {
      "application/vnd.holoviews_exec.v0+json": {
       "id": "11675"
      }
     },
     "output_type": "execute_result"
    }
   ],
   "source": [
    "pn.Row(pn.Column(gdp_type_plot, ppi_type_plot,))"
   ]
  },
  {
   "cell_type": "code",
   "execution_count": 59,
   "id": "74593f56",
   "metadata": {},
   "outputs": [],
   "source": [
    "# STARTING DASHBOARD PROPERLY\n",
    "# BASED ON: https://github.com/thu-vu92/python-dashboard-panel/blob/main/Interactive_dashboard.ipynb\n",
    "# "
   ]
  },
  {
   "cell_type": "markdown",
   "id": "36cf1968",
   "metadata": {},
   "source": [
    "# DASHBOARD"
   ]
  },
  {
   "cell_type": "code",
   "execution_count": 125,
   "id": "301b959b",
   "metadata": {},
   "outputs": [
    {
     "data": {},
     "metadata": {},
     "output_type": "display_data"
    },
    {
     "data": {
      "application/vnd.holoviews_exec.v0+json": "",
      "text/html": [
       "<div id='12896'>\n",
       "\n",
       "\n",
       "\n",
       "\n",
       "\n",
       "  <div class=\"bk-root\" id=\"6bd3bce4-f123-42ba-8ef4-1e1bafae6fc5\" data-root-id=\"12896\"></div>\n",
       "</div>\n",
       "<script type=\"application/javascript\">(function(root) {\n",
       "  function embed_document(root) {\n",
       "    var docs_json = {\"086aecee-b2cb-4d79-8868-5f3903c0b3ea\":{\"defs\":[{\"extends\":null,\"module\":null,\"name\":\"ReactiveHTML1\",\"overrides\":[],\"properties\":[]},{\"extends\":null,\"module\":null,\"name\":\"FlexBox1\",\"overrides\":[],\"properties\":[{\"default\":\"flex-start\",\"kind\":null,\"name\":\"align_content\"},{\"default\":\"flex-start\",\"kind\":null,\"name\":\"align_items\"},{\"default\":\"row\",\"kind\":null,\"name\":\"flex_direction\"},{\"default\":\"wrap\",\"kind\":null,\"name\":\"flex_wrap\"},{\"default\":\"flex-start\",\"kind\":null,\"name\":\"justify_content\"}]},{\"extends\":null,\"module\":null,\"name\":\"GridStack1\",\"overrides\":[],\"properties\":[{\"default\":\"warn\",\"kind\":null,\"name\":\"mode\"},{\"default\":null,\"kind\":null,\"name\":\"ncols\"},{\"default\":null,\"kind\":null,\"name\":\"nrows\"},{\"default\":true,\"kind\":null,\"name\":\"allow_resize\"},{\"default\":true,\"kind\":null,\"name\":\"allow_drag\"},{\"default\":[],\"kind\":null,\"name\":\"state\"}]},{\"extends\":null,\"module\":null,\"name\":\"click1\",\"overrides\":[],\"properties\":[{\"default\":\"\",\"kind\":null,\"name\":\"terminal_output\"},{\"default\":\"\",\"kind\":null,\"name\":\"debug_name\"},{\"default\":0,\"kind\":null,\"name\":\"clears\"}]},{\"extends\":null,\"module\":null,\"name\":\"TemplateActions1\",\"overrides\":[],\"properties\":[{\"default\":0,\"kind\":null,\"name\":\"open_modal\"},{\"default\":0,\"kind\":null,\"name\":\"close_modal\"}]},{\"extends\":null,\"module\":null,\"name\":\"MaterialTemplateActions1\",\"overrides\":[],\"properties\":[{\"default\":0,\"kind\":null,\"name\":\"open_modal\"},{\"default\":0,\"kind\":null,\"name\":\"close_modal\"}]}],\"roots\":{\"references\":[{\"attributes\":{\"client_comm_id\":\"859a2485b72e497aa29c01992abc868d\",\"comm_id\":\"068c059f14544995b169e67a946943f5\",\"plot_id\":\"12896\"},\"id\":\"12897\",\"type\":\"panel.models.comm_manager.CommManager\"},{\"attributes\":{\"bar_color\":\"#348796\",\"end\":2021,\"margin\":[5,10,5,10],\"sizing_mode\":\"stretch_width\",\"start\":2000,\"title\":\"Year\",\"value\":2001},\"id\":\"12896\",\"type\":\"Slider\"}],\"root_ids\":[\"12896\",\"12897\"]},\"title\":\"Bokeh Application\",\"version\":\"2.4.2\"}};\n",
       "    var render_items = [{\"docid\":\"086aecee-b2cb-4d79-8868-5f3903c0b3ea\",\"root_ids\":[\"12896\"],\"roots\":{\"12896\":\"6bd3bce4-f123-42ba-8ef4-1e1bafae6fc5\"}}];\n",
       "    root.Bokeh.embed.embed_items_notebook(docs_json, render_items);\n",
       "  }\n",
       "  if (root.Bokeh !== undefined && root.Bokeh.Panel !== undefined && ( root['Tabulator'] !== undefined)) {\n",
       "    embed_document(root);\n",
       "  } else {\n",
       "    var attempts = 0;\n",
       "    var timer = setInterval(function(root) {\n",
       "      if (root.Bokeh !== undefined && root.Bokeh.Panel !== undefined && (root['Tabulator'] !== undefined)) {\n",
       "        clearInterval(timer);\n",
       "        embed_document(root);\n",
       "      } else if (document.readyState == \"complete\") {\n",
       "        attempts++;\n",
       "        if (attempts > 200) {\n",
       "          clearInterval(timer);\n",
       "          console.log(\"Bokeh: ERROR: Unable to run BokehJS code because BokehJS library is missing\");\n",
       "        }\n",
       "      }\n",
       "    }, 25, root)\n",
       "  }\n",
       "})(window);</script>"
      ],
      "text/plain": [
       "IntSlider(bar_color='#348796', end=2021, name='Year', sizing_mode='stretch_width', start=2000, value=2001)"
      ]
     },
     "execution_count": 125,
     "metadata": {
      "application/vnd.holoviews_exec.v0+json": {
       "id": "12896"
      }
     },
     "output_type": "execute_result"
    }
   ],
   "source": [
    "# DEFINE YEAR SLIDER\n",
    "# https://panel.holoviz.org/reference/widgets/IntSlider.html\n",
    "# Define Panel widgets\n",
    "year_slider = pn.widgets.IntSlider(name='Year', start=2000, end=2021, step=1, value=2001, bar_color=\"#348796\")\n",
    "year_slider"
   ]
  },
  {
   "cell_type": "code",
   "execution_count": 144,
   "id": "794fa456",
   "metadata": {},
   "outputs": [],
   "source": [
    "# EU ONLY BUTTON\n",
    "# https://panel.holoviz.org/reference/widgets/RadioButtonGroup.html\n",
    "# Radio buttons for CO2 measures\n",
    "breakdown_button_group = pn.widgets.RadioButtonGroup(\n",
    "    name='GDP v Wheat PPI', \n",
    "    options=[\"GDP\", 'WHEAT_PPI'],\n",
    "    button_type='primary'\n",
    ")"
   ]
  },
  {
   "cell_type": "code",
   "execution_count": 145,
   "id": "02a4d517",
   "metadata": {},
   "outputs": [
    {
     "data": {},
     "metadata": {},
     "output_type": "display_data"
    },
    {
     "data": {
      "application/vnd.holoviews_exec.v0+json": "",
      "text/html": [
       "<div id='12910'>\n",
       "\n",
       "\n",
       "\n",
       "\n",
       "\n",
       "  <div class=\"bk-root\" id=\"57b2f8f3-67d2-4614-8b67-3b7f19867fa5\" data-root-id=\"12910\"></div>\n",
       "</div>\n",
       "<script type=\"application/javascript\">(function(root) {\n",
       "  function embed_document(root) {\n",
       "    var docs_json = {\"e922a286-80a2-4802-a7e9-a1890ccbde43\":{\"defs\":[{\"extends\":null,\"module\":null,\"name\":\"ReactiveHTML1\",\"overrides\":[],\"properties\":[]},{\"extends\":null,\"module\":null,\"name\":\"FlexBox1\",\"overrides\":[],\"properties\":[{\"default\":\"flex-start\",\"kind\":null,\"name\":\"align_content\"},{\"default\":\"flex-start\",\"kind\":null,\"name\":\"align_items\"},{\"default\":\"row\",\"kind\":null,\"name\":\"flex_direction\"},{\"default\":\"wrap\",\"kind\":null,\"name\":\"flex_wrap\"},{\"default\":\"flex-start\",\"kind\":null,\"name\":\"justify_content\"}]},{\"extends\":null,\"module\":null,\"name\":\"GridStack1\",\"overrides\":[],\"properties\":[{\"default\":\"warn\",\"kind\":null,\"name\":\"mode\"},{\"default\":null,\"kind\":null,\"name\":\"ncols\"},{\"default\":null,\"kind\":null,\"name\":\"nrows\"},{\"default\":true,\"kind\":null,\"name\":\"allow_resize\"},{\"default\":true,\"kind\":null,\"name\":\"allow_drag\"},{\"default\":[],\"kind\":null,\"name\":\"state\"}]},{\"extends\":null,\"module\":null,\"name\":\"click1\",\"overrides\":[],\"properties\":[{\"default\":\"\",\"kind\":null,\"name\":\"terminal_output\"},{\"default\":\"\",\"kind\":null,\"name\":\"debug_name\"},{\"default\":0,\"kind\":null,\"name\":\"clears\"}]},{\"extends\":null,\"module\":null,\"name\":\"TemplateActions1\",\"overrides\":[],\"properties\":[{\"default\":0,\"kind\":null,\"name\":\"open_modal\"},{\"default\":0,\"kind\":null,\"name\":\"close_modal\"}]},{\"extends\":null,\"module\":null,\"name\":\"MaterialTemplateActions1\",\"overrides\":[],\"properties\":[{\"default\":0,\"kind\":null,\"name\":\"open_modal\"},{\"default\":0,\"kind\":null,\"name\":\"close_modal\"}]}],\"roots\":{\"references\":[{\"attributes\":{\"active\":0,\"button_type\":\"primary\",\"labels\":[\"GDP\",\"WHEAT_PPI\"],\"margin\":[5,10,5,10],\"sizing_mode\":\"stretch_width\"},\"id\":\"12910\",\"type\":\"RadioButtonGroup\"},{\"attributes\":{\"client_comm_id\":\"2e99045b03ec4de99742291b94d2e201\",\"comm_id\":\"b5a3aa89652247e4be2e682153a9dc1b\",\"plot_id\":\"12910\"},\"id\":\"12911\",\"type\":\"panel.models.comm_manager.CommManager\"}],\"root_ids\":[\"12910\",\"12911\"]},\"title\":\"Bokeh Application\",\"version\":\"2.4.2\"}};\n",
       "    var render_items = [{\"docid\":\"e922a286-80a2-4802-a7e9-a1890ccbde43\",\"root_ids\":[\"12910\"],\"roots\":{\"12910\":\"57b2f8f3-67d2-4614-8b67-3b7f19867fa5\"}}];\n",
       "    root.Bokeh.embed.embed_items_notebook(docs_json, render_items);\n",
       "  }\n",
       "  if (root.Bokeh !== undefined && root.Bokeh.Panel !== undefined && ( root['Tabulator'] !== undefined)) {\n",
       "    embed_document(root);\n",
       "  } else {\n",
       "    var attempts = 0;\n",
       "    var timer = setInterval(function(root) {\n",
       "      if (root.Bokeh !== undefined && root.Bokeh.Panel !== undefined && (root['Tabulator'] !== undefined)) {\n",
       "        clearInterval(timer);\n",
       "        embed_document(root);\n",
       "      } else if (document.readyState == \"complete\") {\n",
       "        attempts++;\n",
       "        if (attempts > 200) {\n",
       "          clearInterval(timer);\n",
       "          console.log(\"Bokeh: ERROR: Unable to run BokehJS code because BokehJS library is missing\");\n",
       "        }\n",
       "      }\n",
       "    }, 25, root)\n",
       "  }\n",
       "})(window);</script>"
      ],
      "text/plain": [
       "RadioButtonGroup(button_type='primary', name='GDP v Wheat PPI', options=['GDP', 'WHEAT_PPI'], sizing_mode='stretch_width', value='GDP')"
      ]
     },
     "execution_count": 145,
     "metadata": {
      "application/vnd.holoviews_exec.v0+json": {
       "id": "12910"
      }
     },
     "output_type": "execute_result"
    }
   ],
   "source": [
    "breakdown_button_group"
   ]
  },
  {
   "cell_type": "code",
   "execution_count": 131,
   "id": "be739e36",
   "metadata": {},
   "outputs": [],
   "source": [
    "# eu_button_group.value"
   ]
  },
  {
   "cell_type": "code",
   "execution_count": 129,
   "id": "0d0b96c9",
   "metadata": {},
   "outputs": [],
   "source": [
    "# CREATE TWO PIPELINES"
   ]
  },
  {
   "cell_type": "code",
   "execution_count": 137,
   "id": "176dab5f",
   "metadata": {},
   "outputs": [],
   "source": [
    "# PIPELINE 1"
   ]
  },
  {
   "cell_type": "code",
   "execution_count": 139,
   "id": "68a3b08a",
   "metadata": {},
   "outputs": [],
   "source": [
    "# idf_gdp_ppi"
   ]
  },
  {
   "cell_type": "code",
   "execution_count": 2,
   "id": "1cb1d83d",
   "metadata": {},
   "outputs": [],
   "source": [
    "# MATTHEW BELOW CELL PLEASE"
   ]
  },
  {
   "cell_type": "code",
   "execution_count": 172,
   "id": "68a10e29",
   "metadata": {},
   "outputs": [],
   "source": [
    "gdp_ppi_year_pipeline = (\n",
    "    idf_gdp_ppi[\n",
    "        (idf_gdp_ppi.YEAR == year_slider)\n",
    "        # (idf.AREA.isin(eu_button_group))\n",
    "    ]\n",
    "    .groupby(['AREA', 'YEAR'])[breakdown_button_group].mean()\n",
    "    .to_frame()\n",
    "    .reset_index()\n",
    "    .sort_values(by='YEAR')  \n",
    "    .reset_index(drop=True)\n",
    ")"
   ]
  },
  {
   "cell_type": "code",
   "execution_count": 219,
   "id": "f84ef404",
   "metadata": {},
   "outputs": [
    {
     "data": {},
     "metadata": {},
     "output_type": "display_data"
    },
    {
     "data": {
      "application/vnd.holoviews_exec.v0+json": "",
      "text/html": [
       "<div id='49260'>\n",
       "\n",
       "\n",
       "\n",
       "\n",
       "\n",
       "  <div class=\"bk-root\" id=\"262b7b1e-c427-4a61-8b0c-7d5389b11d8c\" data-root-id=\"49260\"></div>\n",
       "</div>\n",
       "<script type=\"application/javascript\">(function(root) {\n",
       "  function embed_document(root) {\n",
       "    var docs_json = {\"9b9daec7-90d2-42fe-aacd-3efba843a675\":{\"defs\":[{\"extends\":null,\"module\":null,\"name\":\"ReactiveHTML1\",\"overrides\":[],\"properties\":[]},{\"extends\":null,\"module\":null,\"name\":\"FlexBox1\",\"overrides\":[],\"properties\":[{\"default\":\"flex-start\",\"kind\":null,\"name\":\"align_content\"},{\"default\":\"flex-start\",\"kind\":null,\"name\":\"align_items\"},{\"default\":\"row\",\"kind\":null,\"name\":\"flex_direction\"},{\"default\":\"wrap\",\"kind\":null,\"name\":\"flex_wrap\"},{\"default\":\"flex-start\",\"kind\":null,\"name\":\"justify_content\"}]},{\"extends\":null,\"module\":null,\"name\":\"GridStack1\",\"overrides\":[],\"properties\":[{\"default\":\"warn\",\"kind\":null,\"name\":\"mode\"},{\"default\":null,\"kind\":null,\"name\":\"ncols\"},{\"default\":null,\"kind\":null,\"name\":\"nrows\"},{\"default\":true,\"kind\":null,\"name\":\"allow_resize\"},{\"default\":true,\"kind\":null,\"name\":\"allow_drag\"},{\"default\":[],\"kind\":null,\"name\":\"state\"}]},{\"extends\":null,\"module\":null,\"name\":\"click1\",\"overrides\":[],\"properties\":[{\"default\":\"\",\"kind\":null,\"name\":\"terminal_output\"},{\"default\":\"\",\"kind\":null,\"name\":\"debug_name\"},{\"default\":0,\"kind\":null,\"name\":\"clears\"}]},{\"extends\":null,\"module\":null,\"name\":\"TemplateActions1\",\"overrides\":[],\"properties\":[{\"default\":0,\"kind\":null,\"name\":\"open_modal\"},{\"default\":0,\"kind\":null,\"name\":\"close_modal\"}]},{\"extends\":null,\"module\":null,\"name\":\"MaterialTemplateActions1\",\"overrides\":[],\"properties\":[{\"default\":0,\"kind\":null,\"name\":\"open_modal\"},{\"default\":0,\"kind\":null,\"name\":\"close_modal\"}]}],\"roots\":{\"references\":[{\"attributes\":{\"children\":[{\"id\":\"49268\"}],\"margin\":[0,0,0,0],\"name\":\"Row169411\",\"sizing_mode\":\"stretch_width\"},\"id\":\"49267\",\"type\":\"Row\"},{\"attributes\":{\"margin\":[5,5,5,5],\"name\":\"HSpacer169447\",\"sizing_mode\":\"stretch_width\"},\"id\":\"49266\",\"type\":\"Spacer\"},{\"attributes\":{\"children\":[{\"id\":\"49263\"},{\"id\":\"49266\"}],\"margin\":[0,0,0,0],\"name\":\"Row169448\",\"sizing_mode\":\"stretch_width\"},\"id\":\"49262\",\"type\":\"Row\"},{\"attributes\":{\"margin\":[5,5,5,5],\"name\":\"DataFrame169445\",\"sizing_mode\":\"stretch_width\",\"text\":\"&lt;table border=&quot;0&quot; class=&quot;dataframe panel-df&quot;&gt;\\n  &lt;thead&gt;\\n    &lt;tr style=&quot;text-align: right;&quot;&gt;\\n      &lt;th&gt;&lt;/th&gt;\\n      &lt;th&gt;AREA&lt;/th&gt;\\n      &lt;th&gt;YEAR&lt;/th&gt;\\n      &lt;th&gt;GDP&lt;/th&gt;\\n    &lt;/tr&gt;\\n  &lt;/thead&gt;\\n  &lt;tbody&gt;\\n    &lt;tr&gt;\\n      &lt;th&gt;0&lt;/th&gt;\\n      &lt;td&gt;Austria&lt;/td&gt;\\n      &lt;td&gt;2014&lt;/td&gt;\\n      &lt;td&gt;48813.534409&lt;/td&gt;\\n    &lt;/tr&gt;\\n    &lt;tr&gt;\\n      &lt;th&gt;1&lt;/th&gt;\\n      &lt;td&gt;Sweden&lt;/td&gt;\\n      &lt;td&gt;2014&lt;/td&gt;\\n      &lt;td&gt;47184.673173&lt;/td&gt;\\n    &lt;/tr&gt;\\n    &lt;tr&gt;\\n      &lt;th&gt;2&lt;/th&gt;\\n      &lt;td&gt;Spain&lt;/td&gt;\\n      &lt;td&gt;2014&lt;/td&gt;\\n      &lt;td&gt;33558.976673&lt;/td&gt;\\n    &lt;/tr&gt;\\n    &lt;tr&gt;\\n      &lt;th&gt;3&lt;/th&gt;\\n      &lt;td&gt;Slovenia&lt;/td&gt;\\n      &lt;td&gt;2014&lt;/td&gt;\\n      &lt;td&gt;30872.728880&lt;/td&gt;\\n    &lt;/tr&gt;\\n    &lt;tr&gt;\\n      &lt;th&gt;4&lt;/th&gt;\\n      &lt;td&gt;Slovakia&lt;/td&gt;\\n      &lt;td&gt;2014&lt;/td&gt;\\n      &lt;td&gt;29029.587681&lt;/td&gt;\\n    &lt;/tr&gt;\\n    &lt;tr&gt;\\n      &lt;th&gt;5&lt;/th&gt;\\n      &lt;td&gt;Romania&lt;/td&gt;\\n      &lt;td&gt;2014&lt;/td&gt;\\n      &lt;td&gt;20649.842058&lt;/td&gt;\\n    &lt;/tr&gt;\\n    &lt;tr&gt;\\n      &lt;th&gt;6&lt;/th&gt;\\n      &lt;td&gt;Portugal&lt;/td&gt;\\n      &lt;td&gt;2014&lt;/td&gt;\\n      &lt;td&gt;28742.313125&lt;/td&gt;\\n    &lt;/tr&gt;\\n    &lt;tr&gt;\\n      &lt;th&gt;7&lt;/th&gt;\\n      &lt;td&gt;Poland&lt;/td&gt;\\n      &lt;td&gt;2014&lt;/td&gt;\\n      &lt;td&gt;25005.655694&lt;/td&gt;\\n    &lt;/tr&gt;\\n    &lt;tr&gt;\\n      &lt;th&gt;8&lt;/th&gt;\\n      &lt;td&gt;Netherlands&lt;/td&gt;\\n      &lt;td&gt;2014&lt;/td&gt;\\n      &lt;td&gt;49233.230349&lt;/td&gt;\\n    &lt;/tr&gt;\\n    &lt;tr&gt;\\n      &lt;th&gt;9&lt;/th&gt;\\n      &lt;td&gt;Malta&lt;/td&gt;\\n      &lt;td&gt;2014&lt;/td&gt;\\n      &lt;td&gt;34318.333679&lt;/td&gt;\\n    &lt;/tr&gt;\\n    &lt;tr&gt;\\n      &lt;th&gt;10&lt;/th&gt;\\n      &lt;td&gt;Luxembourg&lt;/td&gt;\\n      &lt;td&gt;2014&lt;/td&gt;\\n      &lt;td&gt;104917.945675&lt;/td&gt;\\n    &lt;/tr&gt;\\n    &lt;tr&gt;\\n      &lt;th&gt;11&lt;/th&gt;\\n      &lt;td&gt;Lithuania&lt;/td&gt;\\n      &lt;td&gt;2014&lt;/td&gt;\\n      &lt;td&gt;28184.499091&lt;/td&gt;\\n    &lt;/tr&gt;\\n    &lt;tr&gt;\\n      &lt;th&gt;12&lt;/th&gt;\\n      &lt;td&gt;Latvia&lt;/td&gt;\\n      &lt;td&gt;2014&lt;/td&gt;\\n      &lt;td&gt;23810.218371&lt;/td&gt;\\n    &lt;/tr&gt;\\n    &lt;tr&gt;\\n      &lt;th&gt;13&lt;/th&gt;\\n      &lt;td&gt;Japan&lt;/td&gt;\\n      &lt;td&gt;2014&lt;/td&gt;\\n      &lt;td&gt;39559.763471&lt;/td&gt;\\n    &lt;/tr&gt;\\n    &lt;tr&gt;\\n      &lt;th&gt;14&lt;/th&gt;\\n      &lt;td&gt;United Kingdom of Great Britain and Northern Ireland&lt;/td&gt;\\n      &lt;td&gt;2014&lt;/td&gt;\\n      &lt;td&gt;41288.479526&lt;/td&gt;\\n    &lt;/tr&gt;\\n    &lt;tr&gt;\\n      &lt;th&gt;15&lt;/th&gt;\\n      &lt;td&gt;Italy&lt;/td&gt;\\n      &lt;td&gt;2014&lt;/td&gt;\\n      &lt;td&gt;36475.976061&lt;/td&gt;\\n    &lt;/tr&gt;\\n    &lt;tr&gt;\\n      &lt;th&gt;16&lt;/th&gt;\\n      &lt;td&gt;Hungary&lt;/td&gt;\\n      &lt;td&gt;2014&lt;/td&gt;\\n      &lt;td&gt;25691.527335&lt;/td&gt;\\n    &lt;/tr&gt;\\n    &lt;tr&gt;\\n      &lt;th&gt;17&lt;/th&gt;\\n      &lt;td&gt;Greece&lt;/td&gt;\\n      &lt;td&gt;2014&lt;/td&gt;\\n      &lt;td&gt;26625.188631&lt;/td&gt;\\n    &lt;/tr&gt;\\n    &lt;tr&gt;\\n      &lt;th&gt;18&lt;/th&gt;\\n      &lt;td&gt;Germany&lt;/td&gt;\\n      &lt;td&gt;2014&lt;/td&gt;\\n      &lt;td&gt;47011.280402&lt;/td&gt;\\n    &lt;/tr&gt;\\n    &lt;tr&gt;\\n      &lt;th&gt;19&lt;/th&gt;\\n      &lt;td&gt;France&lt;/td&gt;\\n      &lt;td&gt;2014&lt;/td&gt;\\n      &lt;td&gt;40144.059485&lt;/td&gt;\\n    &lt;/tr&gt;\\n    &lt;tr&gt;\\n      &lt;th&gt;20&lt;/th&gt;\\n      &lt;td&gt;Finland&lt;/td&gt;\\n      &lt;td&gt;2014&lt;/td&gt;\\n      &lt;td&gt;41749.864733&lt;/td&gt;\\n    &lt;/tr&gt;\\n    &lt;tr&gt;\\n      &lt;th&gt;21&lt;/th&gt;\\n      &lt;td&gt;Estonia&lt;/td&gt;\\n      &lt;td&gt;2014&lt;/td&gt;\\n      &lt;td&gt;28917.833656&lt;/td&gt;\\n    &lt;/tr&gt;\\n    &lt;tr&gt;\\n      &lt;th&gt;22&lt;/th&gt;\\n      &lt;td&gt;Denmark&lt;/td&gt;\\n      &lt;td&gt;2014&lt;/td&gt;\\n      &lt;td&gt;47905.477079&lt;/td&gt;\\n    &lt;/tr&gt;\\n    &lt;tr&gt;\\n      &lt;th&gt;23&lt;/th&gt;\\n      &lt;td&gt;Czechia&lt;/td&gt;\\n      &lt;td&gt;2014&lt;/td&gt;\\n      &lt;td&gt;32504.217576&lt;/td&gt;\\n    &lt;/tr&gt;\\n    &lt;tr&gt;\\n      &lt;th&gt;24&lt;/th&gt;\\n      &lt;td&gt;Cyprus&lt;/td&gt;\\n      &lt;td&gt;2014&lt;/td&gt;\\n      &lt;td&gt;30080.142960&lt;/td&gt;\\n    &lt;/tr&gt;\\n    &lt;tr&gt;\\n      &lt;th&gt;25&lt;/th&gt;\\n      &lt;td&gt;Croatia&lt;/td&gt;\\n      &lt;td&gt;2014&lt;/td&gt;\\n      &lt;td&gt;22337.196354&lt;/td&gt;\\n    &lt;/tr&gt;\\n    &lt;tr&gt;\\n      &lt;th&gt;26&lt;/th&gt;\\n      &lt;td&gt;Canada&lt;/td&gt;\\n      &lt;td&gt;2014&lt;/td&gt;\\n      &lt;td&gt;45753.782936&lt;/td&gt;\\n    &lt;/tr&gt;\\n    &lt;tr&gt;\\n      &lt;th&gt;27&lt;/th&gt;\\n      &lt;td&gt;Bulgaria&lt;/td&gt;\\n      &lt;td&gt;2014&lt;/td&gt;\\n      &lt;td&gt;17616.824047&lt;/td&gt;\\n    &lt;/tr&gt;\\n    &lt;tr&gt;\\n      &lt;th&gt;28&lt;/th&gt;\\n      &lt;td&gt;Belgium&lt;/td&gt;\\n      &lt;td&gt;2014&lt;/td&gt;\\n      &lt;td&gt;44929.933328&lt;/td&gt;\\n    &lt;/tr&gt;\\n    &lt;tr&gt;\\n      &lt;th&gt;29&lt;/th&gt;\\n      &lt;td&gt;Ireland&lt;/td&gt;\\n      &lt;td&gt;2014&lt;/td&gt;\\n      &lt;td&gt;51195.991955&lt;/td&gt;\\n    &lt;/tr&gt;\\n    &lt;tr&gt;\\n      &lt;th&gt;30&lt;/th&gt;\\n      &lt;td&gt;United States of America&lt;/td&gt;\\n      &lt;td&gt;2014&lt;/td&gt;\\n      &lt;td&gt;54914.368228&lt;/td&gt;\\n    &lt;/tr&gt;\\n  &lt;/tbody&gt;\\n&lt;/table&gt;\"},\"id\":\"49268\",\"type\":\"panel.models.markup.HTML\"},{\"attributes\":{\"children\":[{\"id\":\"49261\"}],\"margin\":[0,0,0,0],\"name\":\"Row169450\",\"sizing_mode\":\"stretch_width\"},\"id\":\"49260\",\"type\":\"Row\"},{\"attributes\":{\"children\":[{\"id\":\"49264\"},{\"id\":\"49265\"}],\"margin\":[0,0,0,0],\"name\":\"Column169406\",\"sizing_mode\":\"stretch_width\"},\"id\":\"49263\",\"type\":\"Column\"},{\"attributes\":{\"client_comm_id\":\"2a9eaa3c85e449709102d4bf01bc4afc\",\"comm_id\":\"ba04b200a1e644289b3239622c0b3faf\",\"plot_id\":\"49260\"},\"id\":\"49269\",\"type\":\"panel.models.comm_manager.CommManager\"},{\"attributes\":{\"bar_color\":\"#348796\",\"end\":2021,\"margin\":[5,10,5,10],\"sizing_mode\":\"stretch_width\",\"start\":2000,\"title\":\"Year\",\"value\":2014},\"id\":\"49264\",\"type\":\"Slider\"},{\"attributes\":{\"active\":0,\"button_type\":\"primary\",\"labels\":[\"GDP\",\"WHEAT_PPI\"],\"margin\":[5,10,5,10],\"sizing_mode\":\"stretch_width\"},\"id\":\"49265\",\"type\":\"RadioButtonGroup\"},{\"attributes\":{\"children\":[{\"id\":\"49262\"},{\"id\":\"49267\"}],\"margin\":[0,0,0,0],\"name\":\"Column169449\",\"sizing_mode\":\"stretch_width\"},\"id\":\"49261\",\"type\":\"Column\"}],\"root_ids\":[\"49260\",\"49269\"]},\"title\":\"Bokeh Application\",\"version\":\"2.4.2\"}};\n",
       "    var render_items = [{\"docid\":\"9b9daec7-90d2-42fe-aacd-3efba843a675\",\"root_ids\":[\"49260\"],\"roots\":{\"49260\":\"262b7b1e-c427-4a61-8b0c-7d5389b11d8c\"}}];\n",
       "    root.Bokeh.embed.embed_items_notebook(docs_json, render_items);\n",
       "  }\n",
       "  if (root.Bokeh !== undefined && root.Bokeh.Panel !== undefined && ( root['Tabulator'] !== undefined)) {\n",
       "    embed_document(root);\n",
       "  } else {\n",
       "    var attempts = 0;\n",
       "    var timer = setInterval(function(root) {\n",
       "      if (root.Bokeh !== undefined && root.Bokeh.Panel !== undefined && (root['Tabulator'] !== undefined)) {\n",
       "        clearInterval(timer);\n",
       "        embed_document(root);\n",
       "      } else if (document.readyState == \"complete\") {\n",
       "        attempts++;\n",
       "        if (attempts > 200) {\n",
       "          clearInterval(timer);\n",
       "          console.log(\"Bokeh: ERROR: Unable to run BokehJS code because BokehJS library is missing\");\n",
       "        }\n",
       "      }\n",
       "    }, 25, root)\n",
       "  }\n",
       "})(window);</script>"
      ],
      "text/plain": [
       "<hvplot.interactive.Interactive at 0x7f7df1aea4f0>"
      ]
     },
     "execution_count": 219,
     "metadata": {
      "application/vnd.holoviews_exec.v0+json": {
       "id": "49260"
      }
     },
     "output_type": "execute_result"
    }
   ],
   "source": [
    "gdp_ppi_year_pipeline"
   ]
  },
  {
   "cell_type": "code",
   "execution_count": null,
   "id": "e3ce8917",
   "metadata": {},
   "outputs": [],
   "source": []
  },
  {
   "cell_type": "code",
   "execution_count": 220,
   "id": "a4377318",
   "metadata": {},
   "outputs": [],
   "source": [
    "# UNRESTRAINED PIPELINE 1\n",
    "idf_gdp_ppi_mask = (idf_gdp_ppi.YEAR == year_slider)\n",
    "\n",
    " = (\n",
    "    idf_gdp_ppi[\n",
    "        idf_gdp_ppi_mask\n",
    "    ]\n",
    "#     .groupby(['AREA', 'YEAR'])[breakdown_button_group].mean()\n",
    "#     .to_frame()\n",
    "    .reset_index()\n",
    "    .sort_values(by='YEAR')  \n",
    "    .reset_index(drop=True)\n",
    ")"
   ]
  },
  {
   "cell_type": "code",
   "execution_count": 223,
   "id": "786ade47",
   "metadata": {},
   "outputs": [],
   "source": [
    "gdp_ppi_unrestrained_table = gdp_ppi_year_unrestrained_pipeline.pipe(pn.widgets.Tabulator, \n",
    "                                      sizing_mode='stretch_width', \n",
    "                                      theme='bulma',\n",
    "                                      hidden_columns=[\n",
    "                                        'LOCATION', \n",
    "                                        'INDICATOR', \n",
    "                                        'SUBJECT', \n",
    "                                        'MEASURE', \n",
    "                                        'FREQUENCY', \n",
    "                                        'FLAG_CODES',\n",
    "                                        'LOOKUP_ISO', \n",
    "                                        'AREA_CODE', \n",
    "                                        'AREA_CODE_M49', \n",
    "                                        'EU_MEMBER', \n",
    "                                        'ITEM_CODE', \n",
    "                                        'ITEM_CODE_CPC', \n",
    "                                        'ITEM', \n",
    "                                        'ELEMENT_CODE',\n",
    "                                        'ELEMENT', \n",
    "                                        'MONTHS_CODE', \n",
    "                                        'MONTHS', \n",
    "                                        'UNIT',\n",
    "                                        'EU_STRING',\n",
    "                                        'index'\n",
    "                                      ],\n",
    "                                      formatters={\n",
    "                                          'YEAR': StringFormatter(), \n",
    "                                          'GDP': NumberFormatter(format='$0,0.00')\n",
    "                                      },\n",
    "                                      show_index=False) "
   ]
  },
  {
   "cell_type": "code",
   "execution_count": 224,
   "id": "f5ad1c56",
   "metadata": {},
   "outputs": [
    {
     "data": {},
     "metadata": {},
     "output_type": "display_data"
    },
    {
     "data": {
      "application/vnd.holoviews_exec.v0+json": "",
      "text/html": [
       "<div id='49424'>\n",
       "\n",
       "\n",
       "\n",
       "\n",
       "\n",
       "  <div class=\"bk-root\" id=\"e189451f-dd69-482c-869c-919ba7f28a4e\" data-root-id=\"49424\"></div>\n",
       "</div>\n",
       "<script type=\"application/javascript\">(function(root) {\n",
       "  function embed_document(root) {\n",
       "    var docs_json = {\"f376f315-ab8f-42c9-b471-7db4a27e1b67\":{\"defs\":[{\"extends\":null,\"module\":null,\"name\":\"ReactiveHTML1\",\"overrides\":[],\"properties\":[]},{\"extends\":null,\"module\":null,\"name\":\"FlexBox1\",\"overrides\":[],\"properties\":[{\"default\":\"flex-start\",\"kind\":null,\"name\":\"align_content\"},{\"default\":\"flex-start\",\"kind\":null,\"name\":\"align_items\"},{\"default\":\"row\",\"kind\":null,\"name\":\"flex_direction\"},{\"default\":\"wrap\",\"kind\":null,\"name\":\"flex_wrap\"},{\"default\":\"flex-start\",\"kind\":null,\"name\":\"justify_content\"}]},{\"extends\":null,\"module\":null,\"name\":\"GridStack1\",\"overrides\":[],\"properties\":[{\"default\":\"warn\",\"kind\":null,\"name\":\"mode\"},{\"default\":null,\"kind\":null,\"name\":\"ncols\"},{\"default\":null,\"kind\":null,\"name\":\"nrows\"},{\"default\":true,\"kind\":null,\"name\":\"allow_resize\"},{\"default\":true,\"kind\":null,\"name\":\"allow_drag\"},{\"default\":[],\"kind\":null,\"name\":\"state\"}]},{\"extends\":null,\"module\":null,\"name\":\"click1\",\"overrides\":[],\"properties\":[{\"default\":\"\",\"kind\":null,\"name\":\"terminal_output\"},{\"default\":\"\",\"kind\":null,\"name\":\"debug_name\"},{\"default\":0,\"kind\":null,\"name\":\"clears\"}]},{\"extends\":null,\"module\":null,\"name\":\"TemplateActions1\",\"overrides\":[],\"properties\":[{\"default\":0,\"kind\":null,\"name\":\"open_modal\"},{\"default\":0,\"kind\":null,\"name\":\"close_modal\"}]},{\"extends\":null,\"module\":null,\"name\":\"MaterialTemplateActions1\",\"overrides\":[],\"properties\":[{\"default\":0,\"kind\":null,\"name\":\"open_modal\"},{\"default\":0,\"kind\":null,\"name\":\"close_modal\"}]}],\"roots\":{\"references\":[{\"attributes\":{},\"id\":\"49510\",\"type\":\"StringEditor\"},{\"attributes\":{},\"id\":\"49474\",\"type\":\"StringFormatter\"},{\"attributes\":{\"editor\":{\"id\":\"49545\"},\"field\":\"WHEAT_PPI\",\"formatter\":{\"id\":\"49544\"},\"title\":\"WHEAT_PPI\",\"width\":0},\"id\":\"49546\",\"type\":\"TableColumn\"},{\"attributes\":{\"editor\":{\"id\":\"49535\"},\"field\":\"MONTHS\",\"formatter\":{\"id\":\"49534\"},\"title\":\"MONTHS\",\"width\":0},\"id\":\"49536\",\"type\":\"TableColumn\"},{\"attributes\":{},\"id\":\"49557\",\"type\":\"UnionRenderers\"},{\"attributes\":{\"editor\":{\"id\":\"49485\"},\"field\":\"MEASURE\",\"formatter\":{\"id\":\"49484\"},\"title\":\"MEASURE\",\"width\":0},\"id\":\"49486\",\"type\":\"TableColumn\"},{\"attributes\":{},\"id\":\"49485\",\"type\":\"StringEditor\"},{\"attributes\":{\"children\":[{\"id\":\"49555\"}],\"margin\":[0,0,0,0],\"name\":\"Row169734\",\"sizing_mode\":\"stretch_width\"},\"id\":\"49430\",\"type\":\"Row\"},{\"attributes\":{},\"id\":\"49460\",\"type\":\"IntEditor\"},{\"attributes\":{},\"id\":\"49545\",\"type\":\"NumberEditor\"},{\"attributes\":{},\"id\":\"49490\",\"type\":\"StringEditor\"},{\"attributes\":{},\"id\":\"49465\",\"type\":\"StringEditor\"},{\"attributes\":{},\"id\":\"49489\",\"type\":\"StringFormatter\"},{\"attributes\":{\"indices\":[]},\"id\":\"49432\",\"type\":\"Selection\"},{\"attributes\":{},\"id\":\"49444\",\"type\":\"StringFormatter\"},{\"attributes\":{\"children\":[{\"id\":\"49428\"}],\"margin\":[0,0,0,0],\"name\":\"Column169729\",\"sizing_mode\":\"stretch_width\"},\"id\":\"49427\",\"type\":\"Column\"},{\"attributes\":{\"editor\":{\"id\":\"49510\"},\"field\":\"ITEM_CODE_CPC\",\"formatter\":{\"id\":\"49509\"},\"title\":\"ITEM_CODE_CPC\",\"width\":0},\"id\":\"49511\",\"type\":\"TableColumn\"},{\"attributes\":{\"editor\":{\"id\":\"49525\"},\"field\":\"ELEMENT\",\"formatter\":{\"id\":\"49524\"},\"title\":\"ELEMENT\",\"width\":0},\"id\":\"49526\",\"type\":\"TableColumn\"},{\"attributes\":{\"editor\":{\"id\":\"49530\"},\"field\":\"MONTHS_CODE\",\"formatter\":{\"id\":\"49529\"},\"title\":\"MONTHS_CODE\",\"width\":0},\"id\":\"49531\",\"type\":\"TableColumn\"},{\"attributes\":{},\"id\":\"49479\",\"type\":\"StringFormatter\"},{\"attributes\":{\"editor\":{\"id\":\"49495\"},\"field\":\"EU_MEMBER\",\"formatter\":{\"id\":\"49494\"},\"title\":\"EU_MEMBER\",\"width\":0},\"id\":\"49496\",\"type\":\"TableColumn\"},{\"attributes\":{},\"id\":\"49434\",\"type\":\"IntEditor\"},{\"attributes\":{\"editor\":{\"id\":\"49470\"},\"field\":\"AREA\",\"formatter\":{\"id\":\"49469\"},\"title\":\"AREA\",\"width\":0},\"id\":\"49471\",\"type\":\"TableColumn\"},{\"attributes\":{},\"id\":\"49505\",\"type\":\"IntEditor\"},{\"attributes\":{},\"id\":\"49550\",\"type\":\"NumberEditor\"},{\"attributes\":{\"format\":\"$0,0.00\"},\"id\":\"49551\",\"type\":\"NumberFormatter\"},{\"attributes\":{\"editor\":{\"id\":\"49520\"},\"field\":\"ELEMENT_CODE\",\"formatter\":{\"id\":\"49519\"},\"title\":\"ELEMENT_CODE\",\"width\":0},\"id\":\"49521\",\"type\":\"TableColumn\"},{\"attributes\":{\"editor\":{\"id\":\"49550\"},\"field\":\"GDP\",\"formatter\":{\"id\":\"49551\"},\"title\":\"GDP\",\"width\":0},\"id\":\"49552\",\"type\":\"TableColumn\"},{\"attributes\":{},\"id\":\"49534\",\"type\":\"StringFormatter\"},{\"attributes\":{},\"id\":\"49525\",\"type\":\"StringEditor\"},{\"attributes\":{},\"id\":\"49495\",\"type\":\"IntEditor\"},{\"attributes\":{},\"id\":\"49480\",\"type\":\"StringEditor\"},{\"attributes\":{},\"id\":\"49535\",\"type\":\"StringEditor\"},{\"attributes\":{},\"id\":\"49454\",\"type\":\"StringFormatter\"},{\"attributes\":{\"text_align\":\"right\"},\"id\":\"49433\",\"type\":\"NumberFormatter\"},{\"attributes\":{\"text_align\":\"right\"},\"id\":\"49529\",\"type\":\"NumberFormatter\"},{\"attributes\":{},\"id\":\"49440\",\"type\":\"StringFormatter\"},{\"attributes\":{\"text_align\":\"right\"},\"id\":\"49494\",\"type\":\"NumberFormatter\"},{\"attributes\":{},\"id\":\"49540\",\"type\":\"NumberEditor\"},{\"attributes\":{},\"id\":\"49524\",\"type\":\"StringFormatter\"},{\"attributes\":{\"bar_color\":\"#348796\",\"end\":2021,\"margin\":[5,10,5,10],\"sizing_mode\":\"stretch_width\",\"start\":2000,\"title\":\"Year\",\"value\":2014},\"id\":\"49428\",\"type\":\"Slider\"},{\"attributes\":{\"children\":[{\"id\":\"49426\"},{\"id\":\"49430\"}],\"margin\":[0,0,0,0],\"name\":\"Column169771\",\"sizing_mode\":\"stretch_width\"},\"id\":\"49425\",\"type\":\"Column\"},{\"attributes\":{\"columns\":[{\"id\":\"49435\"},{\"id\":\"49441\"},{\"id\":\"49446\"},{\"id\":\"49451\"},{\"id\":\"49456\"},{\"id\":\"49461\"},{\"id\":\"49466\"},{\"id\":\"49471\"},{\"id\":\"49476\"},{\"id\":\"49481\"},{\"id\":\"49486\"},{\"id\":\"49491\"},{\"id\":\"49496\"},{\"id\":\"49501\"},{\"id\":\"49506\"},{\"id\":\"49511\"},{\"id\":\"49516\"},{\"id\":\"49521\"},{\"id\":\"49526\"},{\"id\":\"49531\"},{\"id\":\"49536\"},{\"id\":\"49541\"},{\"id\":\"49546\"},{\"id\":\"49552\"}],\"configuration\":{\"columns\":[{\"field\":\"index\"},{\"field\":\"YEAR\"},{\"field\":\"LOCATION\"},{\"field\":\"FLAG_CODES\"},{\"field\":\"LOOKUP_ISO\"},{\"field\":\"AREA_CODE\"},{\"field\":\"AREA_CODE_M49\"},{\"field\":\"AREA\"},{\"field\":\"INDICATOR\"},{\"field\":\"SUBJECT\"},{\"field\":\"MEASURE\"},{\"field\":\"FREQUENCY\"},{\"field\":\"EU_MEMBER\"},{\"field\":\"EU_STRING\"},{\"field\":\"ITEM_CODE\"},{\"field\":\"ITEM_CODE_CPC\"},{\"field\":\"ITEM\"},{\"field\":\"ELEMENT_CODE\"},{\"field\":\"ELEMENT\"},{\"field\":\"MONTHS_CODE\"},{\"field\":\"MONTHS\"},{\"field\":\"UNIT\"},{\"field\":\"WHEAT_PPI\"},{\"field\":\"GDP\"}],\"dataTree\":false,\"selectable\":true},\"hidden_columns\":[\"LOCATION\",\"INDICATOR\",\"SUBJECT\",\"MEASURE\",\"FREQUENCY\",\"FLAG_CODES\",\"LOOKUP_ISO\",\"AREA_CODE\",\"AREA_CODE_M49\",\"EU_MEMBER\",\"ITEM_CODE\",\"ITEM_CODE_CPC\",\"ITEM\",\"ELEMENT_CODE\",\"ELEMENT\",\"MONTHS_CODE\",\"MONTHS\",\"UNIT\",\"EU_STRING\",\"index\"],\"layout\":\"fit_data_table\",\"margin\":[5,10,5,10],\"name\":\"\",\"page\":1,\"page_size\":20,\"select_mode\":true,\"selectable_rows\":null,\"sizing_mode\":\"stretch_width\",\"source\":{\"id\":\"49431\"},\"styles\":{\"data\":{},\"id\":\"78b57d0d0055487ea831e19bb038c3e4\"},\"subscribed_events\":[\"table-edit\",\"cell-click\"],\"theme\":\"bulma\",\"theme_url\":\"https://unpkg.com/tabulator-tables@4.9.3/dist/css/bulma/\"},\"id\":\"49555\",\"type\":\"panel.models.tabulator.DataTabulator\"},{\"attributes\":{},\"id\":\"49464\",\"type\":\"StringFormatter\"},{\"attributes\":{\"editor\":{\"id\":\"49540\"},\"field\":\"UNIT\",\"formatter\":{\"id\":\"49539\"},\"title\":\"UNIT\",\"width\":0},\"id\":\"49541\",\"type\":\"TableColumn\"},{\"attributes\":{\"editor\":{\"id\":\"49434\"},\"field\":\"index\",\"formatter\":{\"id\":\"49433\"},\"title\":\"index\",\"width\":0},\"id\":\"49435\",\"type\":\"TableColumn\"},{\"attributes\":{\"format\":\"0,0.0[00000]\",\"text_align\":\"right\"},\"id\":\"49539\",\"type\":\"NumberFormatter\"},{\"attributes\":{\"children\":[{\"id\":\"49425\"}],\"margin\":[0,0,0,0],\"name\":\"Row169772\",\"sizing_mode\":\"stretch_width\"},\"id\":\"49424\",\"type\":\"Row\"},{\"attributes\":{\"editor\":{\"id\":\"49445\"},\"field\":\"LOCATION\",\"formatter\":{\"id\":\"49444\"},\"title\":\"LOCATION\",\"width\":0},\"id\":\"49446\",\"type\":\"TableColumn\"},{\"attributes\":{\"margin\":[5,5,5,5],\"name\":\"HSpacer169769\",\"sizing_mode\":\"stretch_width\"},\"id\":\"49429\",\"type\":\"Spacer\"},{\"attributes\":{},\"id\":\"49449\",\"type\":\"StringFormatter\"},{\"attributes\":{\"editor\":{\"id\":\"49439\"},\"field\":\"YEAR\",\"formatter\":{\"id\":\"49440\"},\"title\":\"YEAR\",\"width\":0},\"id\":\"49441\",\"type\":\"TableColumn\"},{\"attributes\":{\"text_align\":\"right\"},\"id\":\"49459\",\"type\":\"NumberFormatter\"},{\"attributes\":{},\"id\":\"49509\",\"type\":\"StringFormatter\"},{\"attributes\":{},\"id\":\"49484\",\"type\":\"StringFormatter\"},{\"attributes\":{\"editor\":{\"id\":\"49465\"},\"field\":\"AREA_CODE_M49\",\"formatter\":{\"id\":\"49464\"},\"title\":\"AREA_CODE_M49\",\"width\":0},\"id\":\"49466\",\"type\":\"TableColumn\"},{\"attributes\":{},\"id\":\"49530\",\"type\":\"IntEditor\"},{\"attributes\":{},\"id\":\"49450\",\"type\":\"StringEditor\"},{\"attributes\":{\"editor\":{\"id\":\"49490\"},\"field\":\"FREQUENCY\",\"formatter\":{\"id\":\"49489\"},\"title\":\"FREQUENCY\",\"width\":0},\"id\":\"49491\",\"type\":\"TableColumn\"},{\"attributes\":{\"editor\":{\"id\":\"49450\"},\"field\":\"FLAG_CODES\",\"formatter\":{\"id\":\"49449\"},\"title\":\"FLAG_CODES\",\"width\":0},\"id\":\"49451\",\"type\":\"TableColumn\"},{\"attributes\":{\"children\":[{\"id\":\"49427\"},{\"id\":\"49429\"}],\"margin\":[0,0,0,0],\"name\":\"Row169770\",\"sizing_mode\":\"stretch_width\"},\"id\":\"49426\",\"type\":\"Row\"},{\"attributes\":{\"data\":{\"AREA\":[\"Austria\",\"Cyprus\",\"Croatia\",\"Bulgaria\",\"Lithuania\",\"Latvia\",\"Slovenia\",\"Estonia\",\"United States of America\",\"United Kingdom of Great Britain and Northern Ireland\",\"Sweden\",\"Spain\",\"Slovakia\",\"Portugal\",\"Malta\",\"Poland\",\"Luxembourg\",\"Japan\",\"Italy\",\"Ireland\",\"Hungary\",\"Greece\",\"Germany\",\"France\",\"Finland\",\"Denmark\",\"Czechia\",\"Canada\",\"Belgium\",\"Netherlands\",\"Romania\"],\"AREA_CODE\":[11,50,98,27,126,119,198,63,231,229,210,203,199,174,134,173,256,110,106,104,97,84,79,68,67,54,167,33,255,150,183],\"AREA_CODE_M49\":[\"'040\",\"'196\",\"'191\",\"'100\",\"'440\",\"'428\",\"'705\",\"'233\",\"'840\",\"'826\",\"'752\",\"'724\",\"'703\",\"'620\",\"'470\",\"'616\",\"'442\",\"'392\",\"'380\",\"'372\",\"'348\",\"'300\",\"'276\",\"'250\",\"'246\",\"'208\",\"'203\",\"'124\",\"'056\",\"'528\",\"'642\"],\"ELEMENT\":[\"Producer Price Index (2014-2016 = 100)\",\"Producer Price Index (2014-2016 = 100)\",\"Producer Price Index (2014-2016 = 100)\",\"Producer Price Index (2014-2016 = 100)\",\"Producer Price Index (2014-2016 = 100)\",\"Producer Price Index (2014-2016 = 100)\",\"Producer Price Index (2014-2016 = 100)\",\"Producer Price Index (2014-2016 = 100)\",\"Producer Price Index (2014-2016 = 100)\",\"Producer Price Index (2014-2016 = 100)\",\"Producer Price Index (2014-2016 = 100)\",\"Producer Price Index (2014-2016 = 100)\",\"Producer Price Index (2014-2016 = 100)\",\"Producer Price Index (2014-2016 = 100)\",\"Producer Price Index (2014-2016 = 100)\",\"Producer Price Index (2014-2016 = 100)\",\"Producer Price Index (2014-2016 = 100)\",\"Producer Price Index (2014-2016 = 100)\",\"Producer Price Index (2014-2016 = 100)\",\"Producer Price Index (2014-2016 = 100)\",\"Producer Price Index (2014-2016 = 100)\",\"Producer Price Index (2014-2016 = 100)\",\"Producer Price Index (2014-2016 = 100)\",\"Producer Price Index (2014-2016 = 100)\",\"Producer Price Index (2014-2016 = 100)\",\"Producer Price Index (2014-2016 = 100)\",\"Producer Price Index (2014-2016 = 100)\",\"Producer Price Index (2014-2016 = 100)\",\"Producer Price Index (2014-2016 = 100)\",\"Producer Price Index (2014-2016 = 100)\",\"Producer Price Index (2014-2016 = 100)\"],\"ELEMENT_CODE\":[5539,5539,5539,5539,5539,5539,5539,5539,5539,5539,5539,5539,5539,5539,5539,5539,5539,5539,5539,5539,5539,5539,5539,5539,5539,5539,5539,5539,5539,5539,5539],\"EU_MEMBER\":[1,1,1,1,1,1,1,1,0,0,1,1,1,1,1,1,1,0,1,1,1,1,1,1,1,1,1,0,1,1,1],\"EU_STRING\":[\"EU\",\"EU\",\"EU\",\"EU\",\"EU\",\"EU\",\"EU\",\"EU\",\"NON-EU\",\"NON-EU\",\"EU\",\"EU\",\"EU\",\"EU\",\"EU\",\"EU\",\"EU\",\"NON-EU\",\"EU\",\"EU\",\"EU\",\"EU\",\"EU\",\"EU\",\"EU\",\"EU\",\"EU\",\"NON-EU\",\"EU\",\"EU\",\"EU\"],\"FLAG_CODES\":[\"NaN\",\"NaN\",\"NaN\",\"NaN\",\"NaN\",\"NaN\",\"NaN\",\"NaN\",\"NaN\",\"NaN\",\"NaN\",\"NaN\",\"NaN\",\"NaN\",\"NaN\",\"NaN\",\"NaN\",\"NaN\",\"NaN\",\"NaN\",\"NaN\",\"NaN\",\"NaN\",\"NaN\",\"NaN\",\"NaN\",\"NaN\",\"NaN\",\"NaN\",\"NaN\",\"NaN\"],\"FREQUENCY\":[\"A\",\"A\",\"A\",\"A\",\"A\",\"A\",\"A\",\"A\",\"A\",\"A\",\"A\",\"A\",\"A\",\"A\",\"A\",\"A\",\"A\",\"A\",\"A\",\"A\",\"A\",\"A\",\"A\",\"A\",\"A\",\"A\",\"A\",\"A\",\"A\",\"A\",\"A\"],\"GDP\":{\"__ndarray__\":\"NufgGbHV50Aps0EmCWDdQBxeEJFM0NVA16AvvTQ00UCvYBvxH4bbQNlbyvmNQNdArUz4pS4m3kAHsp5adT3cQC8WhshL0OpA8+hGWA8p5EByGqKKFQrnQDy850DfYuBA38SQnGVZ3ECkcD0KlBHcQAyVf63KweBAjPfj9mlr2EDaG3whX535QA68Wm74UONAPUfkO3/P4UCDaRi+f//oQMJM27/hFtlAAcKHEkwA2kB3nQ35aPTmQDMWTecBmuNAWYrkq7ti5EDTLTtEL2TnQBnjw+wNvt9AXMzPDTlX5kCOrtLdPfDlQLXdBF8nCuhA1TxH5HUq1EA=\",\"dtype\":\"float64\",\"order\":\"little\",\"shape\":[31]},\"INDICATOR\":[\"GDP\",\"GDP\",\"GDP\",\"GDP\",\"GDP\",\"GDP\",\"GDP\",\"GDP\",\"GDP\",\"GDP\",\"GDP\",\"GDP\",\"GDP\",\"GDP\",\"GDP\",\"GDP\",\"GDP\",\"GDP\",\"GDP\",\"GDP\",\"GDP\",\"GDP\",\"GDP\",\"GDP\",\"GDP\",\"GDP\",\"GDP\",\"GDP\",\"GDP\",\"GDP\",\"GDP\"],\"ITEM\":[\"Wheat\",\"Wheat\",\"Wheat\",\"Wheat\",\"Wheat\",\"Wheat\",\"Wheat\",\"Wheat\",\"Wheat\",\"Wheat\",\"Wheat\",\"Wheat\",\"Wheat\",\"Wheat\",\"Wheat\",\"Wheat\",\"Wheat\",\"Wheat\",\"Wheat\",\"Wheat\",\"Wheat\",\"Wheat\",\"Wheat\",\"Wheat\",\"Wheat\",\"Wheat\",\"Wheat\",\"Wheat\",\"Wheat\",\"Wheat\",\"Wheat\"],\"ITEM_CODE\":[15,15,15,15,15,15,15,15,15,15,15,15,15,15,15,15,15,15,15,15,15,15,15,15,15,15,15,15,15,15,15],\"ITEM_CODE_CPC\":[\"'0111\",\"'0111\",\"'0111\",\"'0111\",\"'0111\",\"'0111\",\"'0111\",\"'0111\",\"'0111\",\"'0111\",\"'0111\",\"'0111\",\"'0111\",\"'0111\",\"'0111\",\"'0111\",\"'0111\",\"'0111\",\"'0111\",\"'0111\",\"'0111\",\"'0111\",\"'0111\",\"'0111\",\"'0111\",\"'0111\",\"'0111\",\"'0111\",\"'0111\",\"'0111\",\"'0111\"],\"LOCATION\":[\"AUT\",\"CYP\",\"HRV\",\"BGR\",\"LTU\",\"LVA\",\"SVN\",\"EST\",\"USA\",\"GBR\",\"SWE\",\"ESP\",\"SVK\",\"PRT\",\"MLT\",\"POL\",\"LUX\",\"JPN\",\"ITA\",\"IRL\",\"HUN\",\"GRC\",\"DEU\",\"FRA\",\"FIN\",\"DNK\",\"CZE\",\"CAN\",\"BEL\",\"NLD\",\"ROU\"],\"LOOKUP_ISO\":[\"AUT\",\"CYP\",\"HRV\",\"BGR\",\"LTU\",\"LVA\",\"SVN\",\"EST\",\"USA\",\"GBR\",\"SWE\",\"ESP\",\"SVK\",\"PRT\",\"MLT\",\"POL\",\"LUX\",\"JPN\",\"ITA\",\"IRL\",\"HUN\",\"GRC\",\"DEU\",\"FRA\",\"FIN\",\"DNK\",\"CZE\",\"CAN\",\"BEL\",\"NLD\",\"ROU\"],\"MEASURE\":[\"USD_CAP\",\"USD_CAP\",\"USD_CAP\",\"USD_CAP\",\"USD_CAP\",\"USD_CAP\",\"USD_CAP\",\"USD_CAP\",\"USD_CAP\",\"USD_CAP\",\"USD_CAP\",\"USD_CAP\",\"USD_CAP\",\"USD_CAP\",\"USD_CAP\",\"USD_CAP\",\"USD_CAP\",\"USD_CAP\",\"USD_CAP\",\"USD_CAP\",\"USD_CAP\",\"USD_CAP\",\"USD_CAP\",\"USD_CAP\",\"USD_CAP\",\"USD_CAP\",\"USD_CAP\",\"USD_CAP\",\"USD_CAP\",\"USD_CAP\",\"USD_CAP\"],\"MONTHS\":[\"Annual value\",\"Annual value\",\"Annual value\",\"Annual value\",\"Annual value\",\"Annual value\",\"Annual value\",\"Annual value\",\"Annual value\",\"Annual value\",\"Annual value\",\"Annual value\",\"Annual value\",\"Annual value\",\"Annual value\",\"Annual value\",\"Annual value\",\"Annual value\",\"Annual value\",\"Annual value\",\"Annual value\",\"Annual value\",\"Annual value\",\"Annual value\",\"Annual value\",\"Annual value\",\"Annual value\",\"Annual value\",\"Annual value\",\"Annual value\",\"Annual value\"],\"MONTHS_CODE\":[7021,7021,7021,7021,7021,7021,7021,7021,7021,7021,7021,7021,7021,7021,7021,7021,7021,7021,7021,7021,7021,7021,7021,7021,7021,7021,7021,7021,7021,7021,7021],\"SUBJECT\":[\"TOT\",\"TOT\",\"TOT\",\"TOT\",\"TOT\",\"TOT\",\"TOT\",\"TOT\",\"TOT\",\"TOT\",\"TOT\",\"TOT\",\"TOT\",\"TOT\",\"TOT\",\"TOT\",\"TOT\",\"TOT\",\"TOT\",\"TOT\",\"TOT\",\"TOT\",\"TOT\",\"TOT\",\"TOT\",\"TOT\",\"TOT\",\"TOT\",\"TOT\",\"TOT\",\"TOT\"],\"UNIT\":{\"__ndarray__\":\"AAAAAAAA+H8AAAAAAAD4fwAAAAAAAPh/AAAAAAAA+H8AAAAAAAD4fwAAAAAAAPh/AAAAAAAA+H8AAAAAAAD4fwAAAAAAAPh/AAAAAAAA+H8AAAAAAAD4fwAAAAAAAPh/AAAAAAAA+H8AAAAAAAD4fwAAAAAAAPh/AAAAAAAA+H8AAAAAAAD4fwAAAAAAAPh/AAAAAAAA+H8AAAAAAAD4fwAAAAAAAPh/AAAAAAAA+H8AAAAAAAD4fwAAAAAAAPh/AAAAAAAA+H8AAAAAAAD4fwAAAAAAAPh/AAAAAAAA+H8AAAAAAAD4fwAAAAAAAPh/AAAAAAAA+H8=\",\"dtype\":\"float64\",\"order\":\"little\",\"shape\":[31]},\"WHEAT_PPI\":{\"__ndarray__\":\"mpmZmZkpWkBI4XoUrqdXQPYoXI/ChVtAuB6F61FYWkBmZmZmZmZZQArXo3A9ilpACtejcD3qWkD2KFyPwlVaQDMzMzMzY15AAAAAAABAXUDXo3A9CldaQNejcD0KB1tAcT0K16PQWkCF61G4HnVZQAAAAAAAgFRAzczMzMz8WUD2KFyPwvVYQBSuR+F6lFlA9ihcj8JFXkAAAAAAALBfQD0K16NwfVpAhetRuB7VWkApXI/C9ehaQK5H4XoUXlpAhetRuB4FWkB7FK5H4QpbQIXrUbgeZV1ACtejcD2aV0AAAAAAAFBbQGZmZmZmlllAw/UoXI/CWkA=\",\"dtype\":\"float64\",\"order\":\"little\",\"shape\":[31]},\"YEAR\":[2014,2014,2014,2014,2014,2014,2014,2014,2014,2014,2014,2014,2014,2014,2014,2014,2014,2014,2014,2014,2014,2014,2014,2014,2014,2014,2014,2014,2014,2014,2014],\"index\":[14,630,608,586,564,542,520,498,476,454,432,410,388,366,652,344,300,278,256,234,212,190,168,146,124,102,80,58,36,322,674]},\"selected\":{\"id\":\"49432\"},\"selection_policy\":{\"id\":\"49557\"}},\"id\":\"49431\",\"type\":\"ColumnDataSource\"},{\"attributes\":{},\"id\":\"49469\",\"type\":\"StringFormatter\"},{\"attributes\":{\"editor\":{\"id\":\"49480\"},\"field\":\"SUBJECT\",\"formatter\":{\"id\":\"49479\"},\"title\":\"SUBJECT\",\"width\":0},\"id\":\"49481\",\"type\":\"TableColumn\"},{\"attributes\":{\"text_align\":\"right\"},\"id\":\"49519\",\"type\":\"NumberFormatter\"},{\"attributes\":{},\"id\":\"49514\",\"type\":\"StringFormatter\"},{\"attributes\":{\"format\":\"0,0.0[00000]\",\"text_align\":\"right\"},\"id\":\"49544\",\"type\":\"NumberFormatter\"},{\"attributes\":{\"editor\":{\"id\":\"49515\"},\"field\":\"ITEM\",\"formatter\":{\"id\":\"49514\"},\"title\":\"ITEM\",\"width\":0},\"id\":\"49516\",\"type\":\"TableColumn\"},{\"attributes\":{\"editor\":{\"id\":\"49455\"},\"field\":\"LOOKUP_ISO\",\"formatter\":{\"id\":\"49454\"},\"title\":\"LOOKUP_ISO\",\"width\":0},\"id\":\"49456\",\"type\":\"TableColumn\"},{\"attributes\":{},\"id\":\"49500\",\"type\":\"StringEditor\"},{\"attributes\":{},\"id\":\"49515\",\"type\":\"StringEditor\"},{\"attributes\":{},\"id\":\"49475\",\"type\":\"StringEditor\"},{\"attributes\":{},\"id\":\"49439\",\"type\":\"IntEditor\"},{\"attributes\":{\"editor\":{\"id\":\"49475\"},\"field\":\"INDICATOR\",\"formatter\":{\"id\":\"49474\"},\"title\":\"INDICATOR\",\"width\":0},\"id\":\"49476\",\"type\":\"TableColumn\"},{\"attributes\":{\"client_comm_id\":\"0e75d1d4bcfd4bc7997f50b47d2ede28\",\"comm_id\":\"7c45792a476044b1addc248bfcd369e5\",\"plot_id\":\"49424\"},\"id\":\"49563\",\"type\":\"panel.models.comm_manager.CommManager\"},{\"attributes\":{},\"id\":\"49470\",\"type\":\"StringEditor\"},{\"attributes\":{\"editor\":{\"id\":\"49500\"},\"field\":\"EU_STRING\",\"formatter\":{\"id\":\"49499\"},\"title\":\"EU_STRING\",\"width\":0},\"id\":\"49501\",\"type\":\"TableColumn\"},{\"attributes\":{\"editor\":{\"id\":\"49460\"},\"field\":\"AREA_CODE\",\"formatter\":{\"id\":\"49459\"},\"title\":\"AREA_CODE\",\"width\":0},\"id\":\"49461\",\"type\":\"TableColumn\"},{\"attributes\":{},\"id\":\"49455\",\"type\":\"StringEditor\"},{\"attributes\":{},\"id\":\"49520\",\"type\":\"IntEditor\"},{\"attributes\":{},\"id\":\"49499\",\"type\":\"StringFormatter\"},{\"attributes\":{\"text_align\":\"right\"},\"id\":\"49504\",\"type\":\"NumberFormatter\"},{\"attributes\":{},\"id\":\"49445\",\"type\":\"StringEditor\"},{\"attributes\":{\"editor\":{\"id\":\"49505\"},\"field\":\"ITEM_CODE\",\"formatter\":{\"id\":\"49504\"},\"title\":\"ITEM_CODE\",\"width\":0},\"id\":\"49506\",\"type\":\"TableColumn\"}],\"root_ids\":[\"49424\",\"49563\"]},\"title\":\"Bokeh Application\",\"version\":\"2.4.2\"}};\n",
       "    var render_items = [{\"docid\":\"f376f315-ab8f-42c9-b471-7db4a27e1b67\",\"root_ids\":[\"49424\"],\"roots\":{\"49424\":\"e189451f-dd69-482c-869c-919ba7f28a4e\"}}];\n",
       "    root.Bokeh.embed.embed_items_notebook(docs_json, render_items);\n",
       "  }\n",
       "  if (root.Bokeh !== undefined && root.Bokeh.Panel !== undefined && ( root['Tabulator'] !== undefined)) {\n",
       "    embed_document(root);\n",
       "  } else {\n",
       "    var attempts = 0;\n",
       "    var timer = setInterval(function(root) {\n",
       "      if (root.Bokeh !== undefined && root.Bokeh.Panel !== undefined && (root['Tabulator'] !== undefined)) {\n",
       "        clearInterval(timer);\n",
       "        embed_document(root);\n",
       "      } else if (document.readyState == \"complete\") {\n",
       "        attempts++;\n",
       "        if (attempts > 200) {\n",
       "          clearInterval(timer);\n",
       "          console.log(\"Bokeh: ERROR: Unable to run BokehJS code because BokehJS library is missing\");\n",
       "        }\n",
       "      }\n",
       "    }, 25, root)\n",
       "  }\n",
       "})(window);</script>"
      ],
      "text/plain": [
       "<hvplot.interactive.Interactive at 0x7f7df2e636a0>"
      ]
     },
     "execution_count": 224,
     "metadata": {
      "application/vnd.holoviews_exec.v0+json": {
       "id": "49424"
      }
     },
     "output_type": "execute_result"
    }
   ],
   "source": [
    "gdp_ppi_unrestrained_table"
   ]
  },
  {
   "cell_type": "code",
   "execution_count": 175,
   "id": "98209789",
   "metadata": {},
   "outputs": [],
   "source": [
    "# gdp_ppi_year_unrestrained_pipeline"
   ]
  },
  {
   "cell_type": "code",
   "execution_count": 182,
   "id": "0b3d7b87",
   "metadata": {},
   "outputs": [
    {
     "data": {},
     "metadata": {},
     "output_type": "display_data"
    },
    {
     "data": {},
     "metadata": {},
     "output_type": "display_data"
    },
    {
     "data": {
      "application/vnd.holoviews_exec.v0+json": "",
      "text/html": [
       "<div id='23294'>\n",
       "\n",
       "\n",
       "\n",
       "\n",
       "\n",
       "  <div class=\"bk-root\" id=\"4c2012f2-52b7-4385-9b8e-f99a90026575\" data-root-id=\"23294\"></div>\n",
       "</div>\n",
       "<script type=\"application/javascript\">(function(root) {\n",
       "  function embed_document(root) {\n",
       "    var docs_json = {\"41c4d2af-ac2b-431c-9f5d-389dac8cdec3\":{\"defs\":[{\"extends\":null,\"module\":null,\"name\":\"ReactiveHTML1\",\"overrides\":[],\"properties\":[]},{\"extends\":null,\"module\":null,\"name\":\"FlexBox1\",\"overrides\":[],\"properties\":[{\"default\":\"flex-start\",\"kind\":null,\"name\":\"align_content\"},{\"default\":\"flex-start\",\"kind\":null,\"name\":\"align_items\"},{\"default\":\"row\",\"kind\":null,\"name\":\"flex_direction\"},{\"default\":\"wrap\",\"kind\":null,\"name\":\"flex_wrap\"},{\"default\":\"flex-start\",\"kind\":null,\"name\":\"justify_content\"}]},{\"extends\":null,\"module\":null,\"name\":\"GridStack1\",\"overrides\":[],\"properties\":[{\"default\":\"warn\",\"kind\":null,\"name\":\"mode\"},{\"default\":null,\"kind\":null,\"name\":\"ncols\"},{\"default\":null,\"kind\":null,\"name\":\"nrows\"},{\"default\":true,\"kind\":null,\"name\":\"allow_resize\"},{\"default\":true,\"kind\":null,\"name\":\"allow_drag\"},{\"default\":[],\"kind\":null,\"name\":\"state\"}]},{\"extends\":null,\"module\":null,\"name\":\"click1\",\"overrides\":[],\"properties\":[{\"default\":\"\",\"kind\":null,\"name\":\"terminal_output\"},{\"default\":\"\",\"kind\":null,\"name\":\"debug_name\"},{\"default\":0,\"kind\":null,\"name\":\"clears\"}]},{\"extends\":null,\"module\":null,\"name\":\"TemplateActions1\",\"overrides\":[],\"properties\":[{\"default\":0,\"kind\":null,\"name\":\"open_modal\"},{\"default\":0,\"kind\":null,\"name\":\"close_modal\"}]},{\"extends\":null,\"module\":null,\"name\":\"MaterialTemplateActions1\",\"overrides\":[],\"properties\":[{\"default\":0,\"kind\":null,\"name\":\"open_modal\"},{\"default\":0,\"kind\":null,\"name\":\"close_modal\"}]}],\"roots\":{\"references\":[{\"attributes\":{},\"id\":\"23357\",\"type\":\"UnionRenderers\"},{\"attributes\":{\"client_comm_id\":\"8f7dfe2c5453403793d45e3f3ceb3938\",\"comm_id\":\"b28862d32f3b461ca1c60569ab76752a\",\"plot_id\":\"23294\"},\"id\":\"23400\",\"type\":\"panel.models.comm_manager.CommManager\"},{\"attributes\":{\"bottom\":{\"value\":0},\"fill_alpha\":{\"value\":1.0},\"fill_color\":{\"field\":\"YEAR\",\"transform\":{\"id\":\"23334\"}},\"hatch_alpha\":{\"value\":1.0},\"hatch_color\":{\"field\":\"YEAR\",\"transform\":{\"id\":\"23334\"}},\"hatch_scale\":{\"value\":12.0},\"hatch_weight\":{\"value\":1.0},\"line_alpha\":{\"value\":1.0},\"line_cap\":{\"value\":\"butt\"},\"line_color\":{\"value\":\"black\"},\"line_dash\":{\"value\":[]},\"line_dash_offset\":{\"value\":0},\"line_join\":{\"value\":\"bevel\"},\"line_width\":{\"value\":2},\"top\":{\"field\":\"GDP\"},\"width\":{\"value\":0.8},\"x\":{\"field\":\"xoffsets\"}},\"id\":\"23343\",\"type\":\"VBar\"},{\"attributes\":{},\"id\":\"23325\",\"type\":\"ResetTool\"},{\"attributes\":{\"overlay\":{\"id\":\"23326\"}},\"id\":\"23324\",\"type\":\"BoxZoomTool\"},{\"attributes\":{},\"id\":\"23321\",\"type\":\"SaveTool\"},{\"attributes\":{\"bottom_units\":\"screen\",\"coordinates\":null,\"fill_alpha\":0.5,\"fill_color\":\"lightgrey\",\"group\":null,\"left_units\":\"screen\",\"level\":\"overlay\",\"line_alpha\":1.0,\"line_color\":\"black\",\"line_dash\":[4,4],\"line_width\":2,\"right_units\":\"screen\",\"syncable\":false,\"top_units\":\"screen\"},\"id\":\"23326\",\"type\":\"BoxAnnotation\"},{\"attributes\":{},\"id\":\"23323\",\"type\":\"WheelZoomTool\"},{\"attributes\":{},\"id\":\"23318\",\"type\":\"BasicTicker\"},{\"attributes\":{\"axis_label\":\"GDP\",\"coordinates\":null,\"formatter\":{\"id\":\"23348\"},\"group\":null,\"major_label_policy\":{\"id\":\"23349\"},\"ticker\":{\"id\":\"23318\"}},\"id\":\"23317\",\"type\":\"LinearAxis\"},{\"attributes\":{\"data\":{\"AREA\":[\"Austria\",\"Cyprus\",\"Croatia\",\"Bulgaria\",\"Lithuania\",\"Latvia\",\"Slovenia\",\"Estonia\",\"United States of America\",\"United Kingdom of Great Britain and Northern Ireland\",\"Sweden\",\"Spain\",\"Slovakia\",\"Portugal\",\"Malta\",\"Poland\",\"Luxembourg\",\"Japan\",\"Italy\",\"Ireland\",\"Hungary\",\"Greece\",\"Germany\",\"France\",\"Finland\",\"Denmark\",\"Czechia\",\"Canada\",\"Belgium\",\"Netherlands\",\"Romania\"],\"GDP\":{\"__ndarray__\":\"vCNjtaa25UDdskN8MkTgQF38bU/fgtRAzPEKRI3BzkCCNjl8PFnWQCSbq+YyztJAECTvHNtA3ED0GrtE3/DXQCYcegv9Y+hA5lq0AKgv4kAb8WS3EsjlQGRz1TwXIN9Ab9QK0wul2UC14EVfWyTaQMHicOZCS9xAXFoNiY7c1UABaf/DbgT3QFxWYTPgruFAwZFAg2qt4UBmMEYkkgXmQF95kJ5cfdZANstlo9IR2UCXN4drsMXkQGUAqGL+SOJAHOvitpT640AR/G8l/q7lQNtN8E3wUdxA9s/TAFdY5ED8q8f96v3jQPSG+0jnwOZApyGq8A560UA=\",\"dtype\":\"float64\",\"order\":\"little\",\"shape\":[31]},\"YEAR\":[\"2011\",\"2011\",\"2011\",\"2011\",\"2011\",\"2011\",\"2011\",\"2011\",\"2011\",\"2011\",\"2011\",\"2011\",\"2011\",\"2011\",\"2011\",\"2011\",\"2011\",\"2011\",\"2011\",\"2011\",\"2011\",\"2011\",\"2011\",\"2011\",\"2011\",\"2011\",\"2011\",\"2011\",\"2011\",\"2011\",\"2011\"],\"xoffsets\":[[\"Austria\",\"2011\"],[\"Cyprus\",\"2011\"],[\"Croatia\",\"2011\"],[\"Bulgaria\",\"2011\"],[\"Lithuania\",\"2011\"],[\"Latvia\",\"2011\"],[\"Slovenia\",\"2011\"],[\"Estonia\",\"2011\"],[\"United States of America\",\"2011\"],[\"United Kingdom of Great Britain and Northern Ireland\",\"2011\"],[\"Sweden\",\"2011\"],[\"Spain\",\"2011\"],[\"Slovakia\",\"2011\"],[\"Portugal\",\"2011\"],[\"Malta\",\"2011\"],[\"Poland\",\"2011\"],[\"Luxembourg\",\"2011\"],[\"Japan\",\"2011\"],[\"Italy\",\"2011\"],[\"Ireland\",\"2011\"],[\"Hungary\",\"2011\"],[\"Greece\",\"2011\"],[\"Germany\",\"2011\"],[\"France\",\"2011\"],[\"Finland\",\"2011\"],[\"Denmark\",\"2011\"],[\"Czechia\",\"2011\"],[\"Canada\",\"2011\"],[\"Belgium\",\"2011\"],[\"Netherlands\",\"2011\"],[\"Romania\",\"2011\"]]},\"selected\":{\"id\":\"23336\"},\"selection_policy\":{\"id\":\"23357\"}},\"id\":\"23335\",\"type\":\"ColumnDataSource\"},{\"attributes\":{\"margin\":[5,5,5,5],\"name\":\"HSpacer69545\",\"sizing_mode\":\"stretch_width\"},\"id\":\"23300\",\"type\":\"Spacer\"},{\"attributes\":{\"active\":0,\"button_type\":\"primary\",\"labels\":[\"GDP\",\"WHEAT_PPI\"],\"margin\":[5,10,5,10],\"sizing_mode\":\"stretch_width\"},\"id\":\"23299\",\"type\":\"RadioButtonGroup\"},{\"attributes\":{\"axis\":{\"id\":\"23317\"},\"coordinates\":null,\"dimension\":1,\"grid_line_color\":null,\"group\":null,\"ticker\":null},\"id\":\"23320\",\"type\":\"Grid\"},{\"attributes\":{\"axis_label\":\"AREA, YEAR\",\"coordinates\":null,\"formatter\":{\"id\":\"23345\"},\"group\":null,\"major_label_policy\":{\"id\":\"23346\"},\"ticker\":{\"id\":\"23315\"}},\"id\":\"23314\",\"type\":\"CategoricalAxis\"},{\"attributes\":{},\"id\":\"23322\",\"type\":\"PanTool\"},{\"attributes\":{\"children\":[{\"id\":\"23297\"},{\"id\":\"23300\"}],\"margin\":[0,0,0,0],\"name\":\"Row69546\",\"sizing_mode\":\"stretch_width\"},\"id\":\"23296\",\"type\":\"Row\"},{\"attributes\":{\"axis\":{\"id\":\"23314\"},\"coordinates\":null,\"grid_line_color\":null,\"group\":null,\"ticker\":null},\"id\":\"23316\",\"type\":\"Grid\"},{\"attributes\":{},\"id\":\"23336\",\"type\":\"Selection\"},{\"attributes\":{},\"id\":\"23315\",\"type\":\"CategoricalTicker\"},{\"attributes\":{\"below\":[{\"id\":\"23314\"}],\"center\":[{\"id\":\"23316\"},{\"id\":\"23320\"}],\"height\":300,\"left\":[{\"id\":\"23317\"}],\"margin\":[5,5,5,5],\"min_border_bottom\":10,\"min_border_left\":10,\"min_border_right\":10,\"min_border_top\":10,\"renderers\":[{\"id\":\"23341\"}],\"sizing_mode\":\"stretch_width\",\"title\":{\"id\":\"23306\"},\"toolbar\":{\"id\":\"23327\"},\"width\":700,\"x_range\":{\"id\":\"23302\"},\"x_scale\":{\"id\":\"23310\"},\"y_range\":{\"id\":\"23303\"},\"y_scale\":{\"id\":\"23312\"}},\"id\":\"23305\",\"subtype\":\"Figure\",\"type\":\"Plot\"},{\"attributes\":{\"fill_color\":{\"field\":\"YEAR\",\"transform\":{\"id\":\"23334\"}},\"hatch_color\":{\"field\":\"YEAR\",\"transform\":{\"id\":\"23334\"}},\"line_width\":{\"value\":2},\"top\":{\"field\":\"GDP\"},\"width\":{\"value\":0.8},\"x\":{\"field\":\"xoffsets\"}},\"id\":\"23338\",\"type\":\"VBar\"},{\"attributes\":{},\"id\":\"23312\",\"type\":\"LinearScale\"},{\"attributes\":{\"children\":[{\"id\":\"23298\"},{\"id\":\"23299\"}],\"margin\":[0,0,0,0],\"name\":\"Column69405\",\"sizing_mode\":\"stretch_width\"},\"id\":\"23297\",\"type\":\"Column\"},{\"attributes\":{\"source\":{\"id\":\"23335\"}},\"id\":\"23342\",\"type\":\"CDSView\"},{\"attributes\":{\"coordinates\":null,\"data_source\":{\"id\":\"23335\"},\"glyph\":{\"id\":\"23338\"},\"group\":null,\"hover_glyph\":null,\"muted_glyph\":{\"id\":\"23340\"},\"nonselection_glyph\":{\"id\":\"23339\"},\"selection_glyph\":{\"id\":\"23343\"},\"view\":{\"id\":\"23342\"}},\"id\":\"23341\",\"type\":\"GlyphRenderer\"},{\"attributes\":{\"callback\":null,\"renderers\":[{\"id\":\"23341\"}],\"tags\":[\"hv_created\"],\"tooltips\":[[\"AREA\",\"@{AREA}\"],[\"YEAR\",\"@{YEAR}\"],[\"GDP\",\"@{GDP}\"]]},\"id\":\"23304\",\"type\":\"HoverTool\"},{\"attributes\":{},\"id\":\"23348\",\"type\":\"BasicTickFormatter\"},{\"attributes\":{},\"id\":\"23310\",\"type\":\"CategoricalScale\"},{\"attributes\":{},\"id\":\"23346\",\"type\":\"AllLabels\"},{\"attributes\":{\"coordinates\":null,\"group\":null,\"text\":\"GDP or WHEAT PPI v Year\",\"text_color\":\"black\",\"text_font_size\":\"12pt\"},\"id\":\"23306\",\"type\":\"Title\"},{\"attributes\":{\"tools\":[{\"id\":\"23304\"},{\"id\":\"23321\"},{\"id\":\"23322\"},{\"id\":\"23323\"},{\"id\":\"23324\"},{\"id\":\"23325\"}]},\"id\":\"23327\",\"type\":\"Toolbar\"},{\"attributes\":{\"children\":[{\"id\":\"23305\"}],\"margin\":[0,0,0,0],\"name\":\"Row69410\",\"sizing_mode\":\"stretch_width\"},\"id\":\"23301\",\"type\":\"Row\"},{\"attributes\":{\"factors\":[[\"Austria\",\"2011\"],[\"Cyprus\",\"2011\"],[\"Croatia\",\"2011\"],[\"Bulgaria\",\"2011\"],[\"Lithuania\",\"2011\"],[\"Latvia\",\"2011\"],[\"Slovenia\",\"2011\"],[\"Estonia\",\"2011\"],[\"United States of America\",\"2011\"],[\"United Kingdom of Great Britain and Northern Ireland\",\"2011\"],[\"Sweden\",\"2011\"],[\"Spain\",\"2011\"],[\"Slovakia\",\"2011\"],[\"Portugal\",\"2011\"],[\"Malta\",\"2011\"],[\"Poland\",\"2011\"],[\"Luxembourg\",\"2011\"],[\"Japan\",\"2011\"],[\"Italy\",\"2011\"],[\"Ireland\",\"2011\"],[\"Hungary\",\"2011\"],[\"Greece\",\"2011\"],[\"Germany\",\"2011\"],[\"France\",\"2011\"],[\"Finland\",\"2011\"],[\"Denmark\",\"2011\"],[\"Czechia\",\"2011\"],[\"Canada\",\"2011\"],[\"Belgium\",\"2011\"],[\"Netherlands\",\"2011\"],[\"Romania\",\"2011\"]],\"tags\":[[[\"AREA\",\"AREA\",null],[\"YEAR\",\"YEAR\",null]]]},\"id\":\"23302\",\"type\":\"FactorRange\"},{\"attributes\":{\"children\":[{\"id\":\"23296\"},{\"id\":\"23301\"}],\"margin\":[0,0,0,0],\"name\":\"Column69547\",\"sizing_mode\":\"stretch_width\"},\"id\":\"23295\",\"type\":\"Column\"},{\"attributes\":{\"end\":102132.1047722,\"reset_end\":102132.1047722,\"reset_start\":0.0,\"tags\":[[[\"GDP\",\"GDP\",null]]]},\"id\":\"23303\",\"type\":\"Range1d\"},{\"attributes\":{\"fill_alpha\":{\"value\":0.1},\"fill_color\":{\"field\":\"YEAR\",\"transform\":{\"id\":\"23334\"}},\"hatch_alpha\":{\"value\":0.1},\"hatch_color\":{\"field\":\"YEAR\",\"transform\":{\"id\":\"23334\"}},\"line_alpha\":{\"value\":0.1},\"line_width\":{\"value\":2},\"top\":{\"field\":\"GDP\"},\"width\":{\"value\":0.8},\"x\":{\"field\":\"xoffsets\"}},\"id\":\"23339\",\"type\":\"VBar\"},{\"attributes\":{\"bar_color\":\"#348796\",\"end\":2021,\"margin\":[5,10,5,10],\"sizing_mode\":\"stretch_width\",\"start\":2000,\"title\":\"Year\",\"value\":2011},\"id\":\"23298\",\"type\":\"Slider\"},{\"attributes\":{\"factors\":[\"2011\"],\"palette\":[\"#30a2da\"]},\"id\":\"23334\",\"type\":\"CategoricalColorMapper\"},{\"attributes\":{},\"id\":\"23345\",\"type\":\"CategoricalTickFormatter\"},{\"attributes\":{},\"id\":\"23349\",\"type\":\"AllLabels\"},{\"attributes\":{\"fill_alpha\":{\"value\":0.2},\"fill_color\":{\"field\":\"YEAR\",\"transform\":{\"id\":\"23334\"}},\"hatch_alpha\":{\"value\":0.2},\"hatch_color\":{\"field\":\"YEAR\",\"transform\":{\"id\":\"23334\"}},\"line_alpha\":{\"value\":0.2},\"line_width\":{\"value\":2},\"top\":{\"field\":\"GDP\"},\"width\":{\"value\":0.8},\"x\":{\"field\":\"xoffsets\"}},\"id\":\"23340\",\"type\":\"VBar\"},{\"attributes\":{\"children\":[{\"id\":\"23295\"}],\"margin\":[0,0,0,0],\"name\":\"Row69548\",\"sizing_mode\":\"stretch_width\"},\"id\":\"23294\",\"type\":\"Row\"}],\"root_ids\":[\"23294\",\"23400\"]},\"title\":\"Bokeh Application\",\"version\":\"2.4.2\"}};\n",
       "    var render_items = [{\"docid\":\"41c4d2af-ac2b-431c-9f5d-389dac8cdec3\",\"root_ids\":[\"23294\"],\"roots\":{\"23294\":\"4c2012f2-52b7-4385-9b8e-f99a90026575\"}}];\n",
       "    root.Bokeh.embed.embed_items_notebook(docs_json, render_items);\n",
       "  }\n",
       "  if (root.Bokeh !== undefined && root.Bokeh.Panel !== undefined && ( root['Tabulator'] !== undefined)) {\n",
       "    embed_document(root);\n",
       "  } else {\n",
       "    var attempts = 0;\n",
       "    var timer = setInterval(function(root) {\n",
       "      if (root.Bokeh !== undefined && root.Bokeh.Panel !== undefined && (root['Tabulator'] !== undefined)) {\n",
       "        clearInterval(timer);\n",
       "        embed_document(root);\n",
       "      } else if (document.readyState == \"complete\") {\n",
       "        attempts++;\n",
       "        if (attempts > 200) {\n",
       "          clearInterval(timer);\n",
       "          console.log(\"Bokeh: ERROR: Unable to run BokehJS code because BokehJS library is missing\");\n",
       "        }\n",
       "      }\n",
       "    }, 25, root)\n",
       "  }\n",
       "})(window);</script>"
      ],
      "text/plain": [
       "<hvplot.interactive.Interactive at 0x7f7df23edbe0>"
      ]
     },
     "execution_count": 182,
     "metadata": {
      "application/vnd.holoviews_exec.v0+json": {
       "id": "23294"
      }
     },
     "output_type": "execute_result"
    }
   ],
   "source": [
    "# \n",
    "gdp_ppi_year_unrestrained_plot = gdp_ppi_year_unrestrained_pipeline.hvplot(x='AREA', by='YEAR', y=breakdown_button_group, kind='bar', line_width=2, title=\"GDP or WHEAT PPI v Year\")\n",
    "gdp_ppi_year_unrestrained_plot\n",
    "# \n",
    "# "
   ]
  },
  {
   "cell_type": "code",
   "execution_count": 164,
   "id": "25cc73d3",
   "metadata": {},
   "outputs": [],
   "source": [
    "# PIPELINE 2"
   ]
  },
  {
   "cell_type": "code",
   "execution_count": 187,
   "id": "b17cbffa",
   "metadata": {},
   "outputs": [],
   "source": [
    "ppi_vs_gdp_scatterplot_pipeline = (\n",
    "    idf_gdp_ppi[\n",
    "        (idf_gdp_ppi.YEAR == year_slider)\n",
    "    ]\n",
    "#     .groupby(['AREA', 'YEAR'])[breakdown_button_group].mean()\n",
    "#     .to_frame()\n",
    "    .reset_index()\n",
    "    .sort_values(by='YEAR')  \n",
    "    .reset_index(drop=True)\n",
    ")"
   ]
  },
  {
   "cell_type": "code",
   "execution_count": 190,
   "id": "9d0963f2",
   "metadata": {},
   "outputs": [
    {
     "data": {},
     "metadata": {},
     "output_type": "display_data"
    },
    {
     "data": {},
     "metadata": {},
     "output_type": "display_data"
    },
    {
     "data": {
      "application/vnd.holoviews_exec.v0+json": "",
      "text/html": [
       "<div id='33965'>\n",
       "\n",
       "\n",
       "\n",
       "\n",
       "\n",
       "  <div class=\"bk-root\" id=\"a9fb88e9-a108-4f30-a31e-5705b796e8e8\" data-root-id=\"33965\"></div>\n",
       "</div>\n",
       "<script type=\"application/javascript\">(function(root) {\n",
       "  function embed_document(root) {\n",
       "    var docs_json = {\"7e18b13b-c264-4eb5-84b1-01cfd734ba56\":{\"defs\":[{\"extends\":null,\"module\":null,\"name\":\"ReactiveHTML1\",\"overrides\":[],\"properties\":[]},{\"extends\":null,\"module\":null,\"name\":\"FlexBox1\",\"overrides\":[],\"properties\":[{\"default\":\"flex-start\",\"kind\":null,\"name\":\"align_content\"},{\"default\":\"flex-start\",\"kind\":null,\"name\":\"align_items\"},{\"default\":\"row\",\"kind\":null,\"name\":\"flex_direction\"},{\"default\":\"wrap\",\"kind\":null,\"name\":\"flex_wrap\"},{\"default\":\"flex-start\",\"kind\":null,\"name\":\"justify_content\"}]},{\"extends\":null,\"module\":null,\"name\":\"GridStack1\",\"overrides\":[],\"properties\":[{\"default\":\"warn\",\"kind\":null,\"name\":\"mode\"},{\"default\":null,\"kind\":null,\"name\":\"ncols\"},{\"default\":null,\"kind\":null,\"name\":\"nrows\"},{\"default\":true,\"kind\":null,\"name\":\"allow_resize\"},{\"default\":true,\"kind\":null,\"name\":\"allow_drag\"},{\"default\":[],\"kind\":null,\"name\":\"state\"}]},{\"extends\":null,\"module\":null,\"name\":\"click1\",\"overrides\":[],\"properties\":[{\"default\":\"\",\"kind\":null,\"name\":\"terminal_output\"},{\"default\":\"\",\"kind\":null,\"name\":\"debug_name\"},{\"default\":0,\"kind\":null,\"name\":\"clears\"}]},{\"extends\":null,\"module\":null,\"name\":\"TemplateActions1\",\"overrides\":[],\"properties\":[{\"default\":0,\"kind\":null,\"name\":\"open_modal\"},{\"default\":0,\"kind\":null,\"name\":\"close_modal\"}]},{\"extends\":null,\"module\":null,\"name\":\"MaterialTemplateActions1\",\"overrides\":[],\"properties\":[{\"default\":0,\"kind\":null,\"name\":\"open_modal\"},{\"default\":0,\"kind\":null,\"name\":\"close_modal\"}]}],\"roots\":{\"references\":[{\"attributes\":{},\"id\":\"34353\",\"type\":\"UnionRenderers\"},{\"attributes\":{\"source\":{\"id\":\"34167\"}},\"id\":\"34174\",\"type\":\"CDSView\"},{\"attributes\":{},\"id\":\"34385\",\"type\":\"UnionRenderers\"},{\"attributes\":{\"source\":{\"id\":\"34095\"}},\"id\":\"34102\",\"type\":\"CDSView\"},{\"attributes\":{\"angle\":{\"value\":0.0},\"fill_alpha\":{\"value\":0.7},\"fill_color\":{\"value\":\"#8c564b\"},\"hatch_alpha\":{\"value\":0.7},\"hatch_color\":{\"value\":\"#8c564b\"},\"hatch_scale\":{\"value\":12.0},\"hatch_weight\":{\"value\":1.0},\"line_alpha\":{\"value\":0.7},\"line_cap\":{\"value\":\"butt\"},\"line_color\":{\"value\":\"#8c564b\"},\"line_dash\":{\"value\":[]},\"line_dash_offset\":{\"value\":0},\"line_join\":{\"value\":\"bevel\"},\"line_width\":{\"value\":1},\"marker\":{\"value\":\"circle\"},\"size\":{\"value\":8.94427190999916},\"x\":{\"field\":\"GDP\"},\"y\":{\"field\":\"WHEAT_PPI\"}},\"id\":\"34247\",\"type\":\"Scatter\"},{\"attributes\":{\"angle\":{\"value\":0.0},\"fill_alpha\":{\"value\":0.7},\"fill_color\":{\"value\":\"#e5ae38\"},\"hatch_alpha\":{\"value\":0.7},\"hatch_color\":{\"value\":\"#e5ae38\"},\"hatch_scale\":{\"value\":12.0},\"hatch_weight\":{\"value\":1.0},\"line_alpha\":{\"value\":0.7},\"line_cap\":{\"value\":\"butt\"},\"line_color\":{\"value\":\"#e5ae38\"},\"line_dash\":{\"value\":[]},\"line_dash_offset\":{\"value\":0},\"line_join\":{\"value\":\"bevel\"},\"line_width\":{\"value\":1},\"marker\":{\"value\":\"circle\"},\"size\":{\"value\":8.94427190999916},\"x\":{\"field\":\"GDP\"},\"y\":{\"field\":\"WHEAT_PPI\"}},\"id\":\"34175\",\"type\":\"Scatter\"},{\"attributes\":{\"angle\":{\"value\":0.0},\"fill_alpha\":{\"value\":0.7},\"fill_color\":{\"value\":\"#9467bd\"},\"hatch_alpha\":{\"value\":0.7},\"hatch_color\":{\"value\":\"#9467bd\"},\"hatch_scale\":{\"value\":12.0},\"hatch_weight\":{\"value\":1.0},\"line_alpha\":{\"value\":0.7},\"line_cap\":{\"value\":\"butt\"},\"line_color\":{\"value\":\"#9467bd\"},\"line_dash\":{\"value\":[]},\"line_dash_offset\":{\"value\":0},\"line_join\":{\"value\":\"bevel\"},\"line_width\":{\"value\":1},\"marker\":{\"value\":\"circle\"},\"size\":{\"value\":8.94427190999916},\"x\":{\"field\":\"GDP\"},\"y\":{\"field\":\"WHEAT_PPI\"}},\"id\":\"34103\",\"type\":\"Scatter\"},{\"attributes\":{\"end\":113648.05783779999,\"reset_end\":113648.05783779999,\"reset_start\":8886.711884199998,\"start\":8886.711884199998,\"tags\":[[[\"GDP\",\"GDP\",null]]]},\"id\":\"33972\",\"type\":\"Range1d\"},{\"attributes\":{},\"id\":\"34177\",\"type\":\"Selection\"},{\"attributes\":{\"fill_alpha\":{\"value\":0.7},\"fill_color\":{\"value\":\"#8b8b8b\"},\"hatch_alpha\":{\"value\":0.1},\"hatch_color\":{\"value\":\"#8b8b8b\"},\"line_alpha\":{\"value\":0.7},\"line_color\":{\"value\":\"#8b8b8b\"},\"size\":{\"value\":8.94427190999916},\"x\":{\"field\":\"GDP\"},\"y\":{\"field\":\"WHEAT_PPI\"}},\"id\":\"34189\",\"type\":\"Scatter\"},{\"attributes\":{},\"id\":\"34365\",\"type\":\"UnionRenderers\"},{\"attributes\":{\"coordinates\":null,\"data_source\":{\"id\":\"34248\"},\"glyph\":{\"id\":\"34251\"},\"group\":null,\"hover_glyph\":null,\"muted_glyph\":{\"id\":\"34253\"},\"nonselection_glyph\":{\"id\":\"34252\"},\"selection_glyph\":{\"id\":\"34256\"},\"view\":{\"id\":\"34255\"}},\"id\":\"34254\",\"type\":\"GlyphRenderer\"},{\"attributes\":{\"fill_alpha\":{\"value\":0.7},\"fill_color\":{\"value\":\"#bcbd22\"},\"hatch_alpha\":{\"value\":0.1},\"hatch_color\":{\"value\":\"#bcbd22\"},\"line_alpha\":{\"value\":0.7},\"line_color\":{\"value\":\"#bcbd22\"},\"size\":{\"value\":8.94427190999916},\"x\":{\"field\":\"GDP\"},\"y\":{\"field\":\"WHEAT_PPI\"}},\"id\":\"34252\",\"type\":\"Scatter\"},{\"attributes\":{\"fill_alpha\":{\"value\":0.2},\"fill_color\":{\"value\":\"#d62728\"},\"hatch_alpha\":{\"value\":0.2},\"hatch_color\":{\"value\":\"#d62728\"},\"line_alpha\":{\"value\":0.2},\"line_color\":{\"value\":\"#d62728\"},\"size\":{\"value\":8.94427190999916},\"x\":{\"field\":\"GDP\"},\"y\":{\"field\":\"WHEAT_PPI\"}},\"id\":\"34109\",\"type\":\"Scatter\"},{\"attributes\":{},\"id\":\"34355\",\"type\":\"UnionRenderers\"},{\"attributes\":{\"coordinates\":null,\"data_source\":{\"id\":\"34185\"},\"glyph\":{\"id\":\"34188\"},\"group\":null,\"hover_glyph\":null,\"muted_glyph\":{\"id\":\"34190\"},\"nonselection_glyph\":{\"id\":\"34189\"},\"selection_glyph\":{\"id\":\"34193\"},\"view\":{\"id\":\"34192\"}},\"id\":\"34191\",\"type\":\"GlyphRenderer\"},{\"attributes\":{\"source\":{\"id\":\"34248\"}},\"id\":\"34255\",\"type\":\"CDSView\"},{\"attributes\":{\"coordinates\":null,\"data_source\":{\"id\":\"34176\"},\"glyph\":{\"id\":\"34179\"},\"group\":null,\"hover_glyph\":null,\"muted_glyph\":{\"id\":\"34181\"},\"nonselection_glyph\":{\"id\":\"34180\"},\"selection_glyph\":{\"id\":\"34184\"},\"view\":{\"id\":\"34183\"}},\"id\":\"34182\",\"type\":\"GlyphRenderer\"},{\"attributes\":{\"data\":{\"AREA\":[\"Japan\"],\"GDP\":{\"__ndarray__\":\"DrxabvhQ40A=\",\"dtype\":\"float64\",\"order\":\"little\",\"shape\":[1]},\"WHEAT_PPI\":{\"__ndarray__\":\"FK5H4XqUWUA=\",\"dtype\":\"float64\",\"order\":\"little\",\"shape\":[1]}},\"selected\":{\"id\":\"34186\"},\"selection_policy\":{\"id\":\"34359\"}},\"id\":\"34185\",\"type\":\"ColumnDataSource\"},{\"attributes\":{\"fill_alpha\":{\"value\":0.7},\"fill_color\":{\"value\":\"#6d904f\"},\"hatch_alpha\":{\"value\":0.1},\"hatch_color\":{\"value\":\"#6d904f\"},\"line_alpha\":{\"value\":0.7},\"line_color\":{\"value\":\"#6d904f\"},\"size\":{\"value\":8.94427190999916},\"x\":{\"field\":\"GDP\"},\"y\":{\"field\":\"WHEAT_PPI\"}},\"id\":\"34180\",\"type\":\"Scatter\"},{\"attributes\":{},\"id\":\"34387\",\"type\":\"UnionRenderers\"},{\"attributes\":{\"fill_alpha\":{\"value\":0.7},\"fill_color\":{\"value\":\"#d62728\"},\"hatch_alpha\":{\"value\":0.7},\"hatch_color\":{\"value\":\"#d62728\"},\"line_alpha\":{\"value\":0.7},\"line_color\":{\"value\":\"#d62728\"},\"size\":{\"value\":8.94427190999916},\"x\":{\"field\":\"GDP\"},\"y\":{\"field\":\"WHEAT_PPI\"}},\"id\":\"34107\",\"type\":\"Scatter\"},{\"attributes\":{\"source\":{\"id\":\"34176\"}},\"id\":\"34183\",\"type\":\"CDSView\"},{\"attributes\":{\"coordinates\":null,\"data_source\":{\"id\":\"34104\"},\"glyph\":{\"id\":\"34107\"},\"group\":null,\"hover_glyph\":null,\"muted_glyph\":{\"id\":\"34109\"},\"nonselection_glyph\":{\"id\":\"34108\"},\"selection_glyph\":{\"id\":\"34112\"},\"view\":{\"id\":\"34111\"}},\"id\":\"34110\",\"type\":\"GlyphRenderer\"},{\"attributes\":{\"angle\":{\"value\":0.0},\"fill_alpha\":{\"value\":0.7},\"fill_color\":{\"value\":\"#30a2da\"},\"hatch_alpha\":{\"value\":0.7},\"hatch_color\":{\"value\":\"#30a2da\"},\"hatch_scale\":{\"value\":12.0},\"hatch_weight\":{\"value\":1.0},\"line_alpha\":{\"value\":0.7},\"line_cap\":{\"value\":\"butt\"},\"line_color\":{\"value\":\"#30a2da\"},\"line_dash\":{\"value\":[]},\"line_dash_offset\":{\"value\":0},\"line_join\":{\"value\":\"bevel\"},\"line_width\":{\"value\":1},\"marker\":{\"value\":\"circle\"},\"size\":{\"value\":8.94427190999916},\"x\":{\"field\":\"GDP\"},\"y\":{\"field\":\"WHEAT_PPI\"}},\"id\":\"34265\",\"type\":\"Scatter\"},{\"attributes\":{\"source\":{\"id\":\"34104\"}},\"id\":\"34111\",\"type\":\"CDSView\"},{\"attributes\":{\"fill_alpha\":{\"value\":0.7},\"fill_color\":{\"value\":\"#bcbd22\"},\"hatch_alpha\":{\"value\":0.7},\"hatch_color\":{\"value\":\"#bcbd22\"},\"line_alpha\":{\"value\":0.7},\"line_color\":{\"value\":\"#bcbd22\"},\"size\":{\"value\":8.94427190999916},\"x\":{\"field\":\"GDP\"},\"y\":{\"field\":\"WHEAT_PPI\"}},\"id\":\"34251\",\"type\":\"Scatter\"},{\"attributes\":{\"fill_alpha\":{\"value\":0.7},\"fill_color\":{\"value\":\"#bcbd22\"},\"hatch_alpha\":{\"value\":0.7},\"hatch_color\":{\"value\":\"#bcbd22\"},\"line_alpha\":{\"value\":0.7},\"line_color\":{\"value\":\"#bcbd22\"},\"size\":{\"value\":8.94427190999916},\"x\":{\"field\":\"GDP\"},\"y\":{\"field\":\"WHEAT_PPI\"}},\"id\":\"34143\",\"type\":\"Scatter\"},{\"attributes\":{},\"id\":\"34367\",\"type\":\"UnionRenderers\"},{\"attributes\":{},\"id\":\"34186\",\"type\":\"Selection\"},{\"attributes\":{\"fill_alpha\":{\"value\":0.7},\"fill_color\":{\"value\":\"#6d904f\"},\"hatch_alpha\":{\"value\":0.7},\"hatch_color\":{\"value\":\"#6d904f\"},\"line_alpha\":{\"value\":0.7},\"line_color\":{\"value\":\"#6d904f\"},\"size\":{\"value\":8.94427190999916},\"x\":{\"field\":\"GDP\"},\"y\":{\"field\":\"WHEAT_PPI\"}},\"id\":\"34179\",\"type\":\"Scatter\"},{\"attributes\":{\"client_comm_id\":\"22424105b7354419bdf5759169d4df58\",\"comm_id\":\"2308f3e51bb84c8e8ced2a3f66d609f3\",\"plot_id\":\"33965\"},\"id\":\"35160\",\"type\":\"panel.models.comm_manager.CommManager\"},{\"attributes\":{},\"id\":\"34357\",\"type\":\"UnionRenderers\"},{\"attributes\":{},\"id\":\"34249\",\"type\":\"Selection\"},{\"attributes\":{\"fill_alpha\":{\"value\":0.2},\"fill_color\":{\"value\":\"#bcbd22\"},\"hatch_alpha\":{\"value\":0.2},\"hatch_color\":{\"value\":\"#bcbd22\"},\"line_alpha\":{\"value\":0.2},\"line_color\":{\"value\":\"#bcbd22\"},\"size\":{\"value\":8.94427190999916},\"x\":{\"field\":\"GDP\"},\"y\":{\"field\":\"WHEAT_PPI\"}},\"id\":\"34253\",\"type\":\"Scatter\"},{\"attributes\":{\"angle\":{\"value\":0.0},\"fill_alpha\":{\"value\":0.7},\"fill_color\":{\"value\":\"#bcbd22\"},\"hatch_alpha\":{\"value\":0.7},\"hatch_color\":{\"value\":\"#bcbd22\"},\"hatch_scale\":{\"value\":12.0},\"hatch_weight\":{\"value\":1.0},\"line_alpha\":{\"value\":0.7},\"line_cap\":{\"value\":\"butt\"},\"line_color\":{\"value\":\"#bcbd22\"},\"line_dash\":{\"value\":[]},\"line_dash_offset\":{\"value\":0},\"line_join\":{\"value\":\"bevel\"},\"line_width\":{\"value\":1},\"marker\":{\"value\":\"circle\"},\"size\":{\"value\":8.94427190999916},\"x\":{\"field\":\"GDP\"},\"y\":{\"field\":\"WHEAT_PPI\"}},\"id\":\"34256\",\"type\":\"Scatter\"},{\"attributes\":{\"angle\":{\"value\":0.0},\"fill_alpha\":{\"value\":0.7},\"fill_color\":{\"value\":\"#d62728\"},\"hatch_alpha\":{\"value\":0.7},\"hatch_color\":{\"value\":\"#d62728\"},\"hatch_scale\":{\"value\":12.0},\"hatch_weight\":{\"value\":1.0},\"line_alpha\":{\"value\":0.7},\"line_cap\":{\"value\":\"butt\"},\"line_color\":{\"value\":\"#d62728\"},\"line_dash\":{\"value\":[]},\"line_dash_offset\":{\"value\":0},\"line_join\":{\"value\":\"bevel\"},\"line_width\":{\"value\":1},\"marker\":{\"value\":\"circle\"},\"size\":{\"value\":8.94427190999916},\"x\":{\"field\":\"GDP\"},\"y\":{\"field\":\"WHEAT_PPI\"}},\"id\":\"34112\",\"type\":\"Scatter\"},{\"attributes\":{\"fill_alpha\":{\"value\":0.7},\"fill_color\":{\"value\":\"#d62728\"},\"hatch_alpha\":{\"value\":0.1},\"hatch_color\":{\"value\":\"#d62728\"},\"line_alpha\":{\"value\":0.7},\"line_color\":{\"value\":\"#d62728\"},\"size\":{\"value\":8.94427190999916},\"x\":{\"field\":\"GDP\"},\"y\":{\"field\":\"WHEAT_PPI\"}},\"id\":\"34108\",\"type\":\"Scatter\"},{\"attributes\":{\"fill_alpha\":{\"value\":0.7},\"fill_color\":{\"value\":\"#17becf\"},\"hatch_alpha\":{\"value\":0.7},\"hatch_color\":{\"value\":\"#17becf\"},\"line_alpha\":{\"value\":0.7},\"line_color\":{\"value\":\"#17becf\"},\"size\":{\"value\":8.94427190999916},\"x\":{\"field\":\"GDP\"},\"y\":{\"field\":\"WHEAT_PPI\"}},\"id\":\"34197\",\"type\":\"Scatter\"},{\"attributes\":{\"source\":{\"id\":\"34257\"}},\"id\":\"34264\",\"type\":\"CDSView\"},{\"attributes\":{},\"id\":\"34114\",\"type\":\"Selection\"},{\"attributes\":{\"fill_alpha\":{\"value\":0.2},\"fill_color\":{\"value\":\"#6d904f\"},\"hatch_alpha\":{\"value\":0.2},\"hatch_color\":{\"value\":\"#6d904f\"},\"line_alpha\":{\"value\":0.2},\"line_color\":{\"value\":\"#6d904f\"},\"size\":{\"value\":8.94427190999916},\"x\":{\"field\":\"GDP\"},\"y\":{\"field\":\"WHEAT_PPI\"}},\"id\":\"34181\",\"type\":\"Scatter\"},{\"attributes\":{\"data\":{\"AREA\":[\"Slovakia\"],\"GDP\":{\"__ndarray__\":\"38SQnGVZ3EA=\",\"dtype\":\"float64\",\"order\":\"little\",\"shape\":[1]},\"WHEAT_PPI\":{\"__ndarray__\":\"cT0K16PQWkA=\",\"dtype\":\"float64\",\"order\":\"little\",\"shape\":[1]}},\"selected\":{\"id\":\"34267\"},\"selection_policy\":{\"id\":\"34377\"}},\"id\":\"34266\",\"type\":\"ColumnDataSource\"},{\"attributes\":{},\"id\":\"34369\",\"type\":\"UnionRenderers\"},{\"attributes\":{\"fill_alpha\":{\"value\":0.2},\"fill_color\":{\"value\":\"#30a2da\"},\"hatch_alpha\":{\"value\":0.2},\"hatch_color\":{\"value\":\"#30a2da\"},\"line_alpha\":{\"value\":0.2},\"line_color\":{\"value\":\"#30a2da\"},\"size\":{\"value\":8.94427190999916},\"x\":{\"field\":\"GDP\"},\"y\":{\"field\":\"WHEAT_PPI\"}},\"id\":\"34262\",\"type\":\"Scatter\"},{\"attributes\":{\"margin\":[5,5,5,5],\"name\":\"HSpacer129566\",\"sizing_mode\":\"stretch_width\"},\"id\":\"33970\",\"type\":\"Spacer\"},{\"attributes\":{\"source\":{\"id\":\"34185\"}},\"id\":\"34192\",\"type\":\"CDSView\"},{\"attributes\":{\"coordinates\":null,\"data_source\":{\"id\":\"34113\"},\"glyph\":{\"id\":\"34116\"},\"group\":null,\"hover_glyph\":null,\"muted_glyph\":{\"id\":\"34118\"},\"nonselection_glyph\":{\"id\":\"34117\"},\"selection_glyph\":{\"id\":\"34121\"},\"view\":{\"id\":\"34120\"}},\"id\":\"34119\",\"type\":\"GlyphRenderer\"},{\"attributes\":{},\"id\":\"34359\",\"type\":\"UnionRenderers\"},{\"attributes\":{\"fill_alpha\":{\"value\":0.7},\"fill_color\":{\"value\":\"#1f77b4\"},\"hatch_alpha\":{\"value\":0.1},\"hatch_color\":{\"value\":\"#1f77b4\"},\"line_alpha\":{\"value\":0.7},\"line_color\":{\"value\":\"#1f77b4\"},\"size\":{\"value\":8.94427190999916},\"x\":{\"field\":\"GDP\"},\"y\":{\"field\":\"WHEAT_PPI\"}},\"id\":\"34117\",\"type\":\"Scatter\"},{\"attributes\":{},\"id\":\"34195\",\"type\":\"Selection\"},{\"attributes\":{\"source\":{\"id\":\"34113\"}},\"id\":\"34120\",\"type\":\"CDSView\"},{\"attributes\":{\"fill_alpha\":{\"value\":0.7},\"fill_color\":{\"value\":\"#8b8b8b\"},\"hatch_alpha\":{\"value\":0.7},\"hatch_color\":{\"value\":\"#8b8b8b\"},\"line_alpha\":{\"value\":0.7},\"line_color\":{\"value\":\"#8b8b8b\"},\"size\":{\"value\":8.94427190999916},\"x\":{\"field\":\"GDP\"},\"y\":{\"field\":\"WHEAT_PPI\"}},\"id\":\"34188\",\"type\":\"Scatter\"},{\"attributes\":{},\"id\":\"34267\",\"type\":\"Selection\"},{\"attributes\":{},\"id\":\"34141\",\"type\":\"Selection\"},{\"attributes\":{\"fill_alpha\":{\"value\":0.7},\"fill_color\":{\"value\":\"#1f77b4\"},\"hatch_alpha\":{\"value\":0.7},\"hatch_color\":{\"value\":\"#1f77b4\"},\"line_alpha\":{\"value\":0.7},\"line_color\":{\"value\":\"#1f77b4\"},\"size\":{\"value\":8.94427190999916},\"x\":{\"field\":\"GDP\"},\"y\":{\"field\":\"WHEAT_PPI\"}},\"id\":\"34116\",\"type\":\"Scatter\"},{\"attributes\":{},\"id\":\"34371\",\"type\":\"UnionRenderers\"},{\"attributes\":{\"fill_alpha\":{\"value\":0.7},\"fill_color\":{\"value\":\"#1f77b4\"},\"hatch_alpha\":{\"value\":0.7},\"hatch_color\":{\"value\":\"#1f77b4\"},\"line_alpha\":{\"value\":0.7},\"line_color\":{\"value\":\"#1f77b4\"},\"size\":{\"value\":8.94427190999916},\"x\":{\"field\":\"GDP\"},\"y\":{\"field\":\"WHEAT_PPI\"}},\"id\":\"34224\",\"type\":\"Scatter\"},{\"attributes\":{\"fill_alpha\":{\"value\":0.2},\"fill_color\":{\"value\":\"#8b8b8b\"},\"hatch_alpha\":{\"value\":0.2},\"hatch_color\":{\"value\":\"#8b8b8b\"},\"line_alpha\":{\"value\":0.2},\"line_color\":{\"value\":\"#8b8b8b\"},\"size\":{\"value\":8.94427190999916},\"x\":{\"field\":\"GDP\"},\"y\":{\"field\":\"WHEAT_PPI\"}},\"id\":\"34190\",\"type\":\"Scatter\"},{\"attributes\":{\"angle\":{\"value\":0.0},\"fill_alpha\":{\"value\":0.7},\"fill_color\":{\"value\":\"#8b8b8b\"},\"hatch_alpha\":{\"value\":0.7},\"hatch_color\":{\"value\":\"#8b8b8b\"},\"hatch_scale\":{\"value\":12.0},\"hatch_weight\":{\"value\":1.0},\"line_alpha\":{\"value\":0.7},\"line_cap\":{\"value\":\"butt\"},\"line_color\":{\"value\":\"#8b8b8b\"},\"line_dash\":{\"value\":[]},\"line_dash_offset\":{\"value\":0},\"line_join\":{\"value\":\"bevel\"},\"line_width\":{\"value\":1},\"marker\":{\"value\":\"circle\"},\"size\":{\"value\":8.94427190999916},\"x\":{\"field\":\"GDP\"},\"y\":{\"field\":\"WHEAT_PPI\"}},\"id\":\"34193\",\"type\":\"Scatter\"},{\"attributes\":{},\"id\":\"34361\",\"type\":\"UnionRenderers\"},{\"attributes\":{\"coordinates\":null,\"data_source\":{\"id\":\"34257\"},\"glyph\":{\"id\":\"34260\"},\"group\":null,\"hover_glyph\":null,\"muted_glyph\":{\"id\":\"34262\"},\"nonselection_glyph\":{\"id\":\"34261\"},\"selection_glyph\":{\"id\":\"34265\"},\"view\":{\"id\":\"34264\"}},\"id\":\"34263\",\"type\":\"GlyphRenderer\"},{\"attributes\":{\"data\":{\"AREA\":[\"Poland\"],\"GDP\":{\"__ndarray__\":\"jPfj9mlr2EA=\",\"dtype\":\"float64\",\"order\":\"little\",\"shape\":[1]},\"WHEAT_PPI\":{\"__ndarray__\":\"zczMzMz8WUA=\",\"dtype\":\"float64\",\"order\":\"little\",\"shape\":[1]}},\"selected\":{\"id\":\"34240\"},\"selection_policy\":{\"id\":\"34371\"}},\"id\":\"34239\",\"type\":\"ColumnDataSource\"},{\"attributes\":{\"data\":{\"AREA\":[\"Hungary\"],\"GDP\":{\"__ndarray__\":\"wkzbv+EW2UA=\",\"dtype\":\"float64\",\"order\":\"little\",\"shape\":[1]},\"WHEAT_PPI\":{\"__ndarray__\":\"PQrXo3B9WkA=\",\"dtype\":\"float64\",\"order\":\"little\",\"shape\":[1]}},\"selected\":{\"id\":\"34159\"},\"selection_policy\":{\"id\":\"34353\"}},\"id\":\"34158\",\"type\":\"ColumnDataSource\"},{\"attributes\":{},\"id\":\"34222\",\"type\":\"Selection\"},{\"attributes\":{\"fill_alpha\":{\"value\":0.2},\"fill_color\":{\"value\":\"#1f77b4\"},\"hatch_alpha\":{\"value\":0.2},\"hatch_color\":{\"value\":\"#1f77b4\"},\"line_alpha\":{\"value\":0.2},\"line_color\":{\"value\":\"#1f77b4\"},\"size\":{\"value\":8.94427190999916},\"x\":{\"field\":\"GDP\"},\"y\":{\"field\":\"WHEAT_PPI\"}},\"id\":\"34118\",\"type\":\"Scatter\"},{\"attributes\":{\"fill_alpha\":{\"value\":0.7},\"fill_color\":{\"value\":\"#fc4f30\"},\"hatch_alpha\":{\"value\":0.1},\"hatch_color\":{\"value\":\"#fc4f30\"},\"line_alpha\":{\"value\":0.7},\"line_color\":{\"value\":\"#fc4f30\"},\"size\":{\"value\":8.94427190999916},\"x\":{\"field\":\"GDP\"},\"y\":{\"field\":\"WHEAT_PPI\"}},\"id\":\"34270\",\"type\":\"Scatter\"},{\"attributes\":{\"angle\":{\"value\":0.0},\"fill_alpha\":{\"value\":0.7},\"fill_color\":{\"value\":\"#1f77b4\"},\"hatch_alpha\":{\"value\":0.7},\"hatch_color\":{\"value\":\"#1f77b4\"},\"hatch_scale\":{\"value\":12.0},\"hatch_weight\":{\"value\":1.0},\"line_alpha\":{\"value\":0.7},\"line_cap\":{\"value\":\"butt\"},\"line_color\":{\"value\":\"#1f77b4\"},\"line_dash\":{\"value\":[]},\"line_dash_offset\":{\"value\":0},\"line_join\":{\"value\":\"bevel\"},\"line_width\":{\"value\":1},\"marker\":{\"value\":\"circle\"},\"size\":{\"value\":8.94427190999916},\"x\":{\"field\":\"GDP\"},\"y\":{\"field\":\"WHEAT_PPI\"}},\"id\":\"34121\",\"type\":\"Scatter\"},{\"attributes\":{\"data\":{\"AREA\":[\"Ireland\"],\"GDP\":{\"__ndarray__\":\"g2kYvn//6EA=\",\"dtype\":\"float64\",\"order\":\"little\",\"shape\":[1]},\"WHEAT_PPI\":{\"__ndarray__\":\"AAAAAACwX0A=\",\"dtype\":\"float64\",\"order\":\"little\",\"shape\":[1]}},\"selected\":{\"id\":\"34168\"},\"selection_policy\":{\"id\":\"34355\"}},\"id\":\"34167\",\"type\":\"ColumnDataSource\"},{\"attributes\":{\"fill_alpha\":{\"value\":0.7},\"fill_color\":{\"value\":\"#fc4f30\"},\"hatch_alpha\":{\"value\":0.7},\"hatch_color\":{\"value\":\"#fc4f30\"},\"line_alpha\":{\"value\":0.7},\"line_color\":{\"value\":\"#fc4f30\"},\"size\":{\"value\":8.94427190999916},\"x\":{\"field\":\"GDP\"},\"y\":{\"field\":\"WHEAT_PPI\"}},\"id\":\"34269\",\"type\":\"Scatter\"},{\"attributes\":{\"fill_alpha\":{\"value\":0.7},\"fill_color\":{\"value\":\"#17becf\"},\"hatch_alpha\":{\"value\":0.1},\"hatch_color\":{\"value\":\"#17becf\"},\"line_alpha\":{\"value\":0.7},\"line_color\":{\"value\":\"#17becf\"},\"size\":{\"value\":8.94427190999916},\"x\":{\"field\":\"GDP\"},\"y\":{\"field\":\"WHEAT_PPI\"}},\"id\":\"34198\",\"type\":\"Scatter\"},{\"attributes\":{\"fill_alpha\":{\"value\":0.7},\"fill_color\":{\"value\":\"#bcbd22\"},\"hatch_alpha\":{\"value\":0.1},\"hatch_color\":{\"value\":\"#bcbd22\"},\"line_alpha\":{\"value\":0.7},\"line_color\":{\"value\":\"#bcbd22\"},\"size\":{\"value\":8.94427190999916},\"x\":{\"field\":\"GDP\"},\"y\":{\"field\":\"WHEAT_PPI\"}},\"id\":\"34144\",\"type\":\"Scatter\"},{\"attributes\":{\"fill_alpha\":{\"value\":0.2},\"fill_color\":{\"value\":\"#fc4f30\"},\"hatch_alpha\":{\"value\":0.2},\"hatch_color\":{\"value\":\"#fc4f30\"},\"line_alpha\":{\"value\":0.2},\"line_color\":{\"value\":\"#fc4f30\"},\"size\":{\"value\":8.94427190999916},\"x\":{\"field\":\"GDP\"},\"y\":{\"field\":\"WHEAT_PPI\"}},\"id\":\"34271\",\"type\":\"Scatter\"},{\"attributes\":{},\"id\":\"34373\",\"type\":\"UnionRenderers\"},{\"attributes\":{\"fill_alpha\":{\"value\":0.2},\"fill_color\":{\"value\":\"#17becf\"},\"hatch_alpha\":{\"value\":0.2},\"hatch_color\":{\"value\":\"#17becf\"},\"line_alpha\":{\"value\":0.2},\"line_color\":{\"value\":\"#17becf\"},\"size\":{\"value\":8.94427190999916},\"x\":{\"field\":\"GDP\"},\"y\":{\"field\":\"WHEAT_PPI\"}},\"id\":\"34199\",\"type\":\"Scatter\"},{\"attributes\":{\"data\":{\"AREA\":[\"Malta\"],\"GDP\":{\"__ndarray__\":\"DJV/rcrB4EA=\",\"dtype\":\"float64\",\"order\":\"little\",\"shape\":[1]},\"WHEAT_PPI\":{\"__ndarray__\":\"AAAAAACAVEA=\",\"dtype\":\"float64\",\"order\":\"little\",\"shape\":[1]}},\"selected\":{\"id\":\"34222\"},\"selection_policy\":{\"id\":\"34367\"}},\"id\":\"34221\",\"type\":\"ColumnDataSource\"},{\"attributes\":{\"coordinates\":null,\"data_source\":{\"id\":\"34266\"},\"glyph\":{\"id\":\"34269\"},\"group\":null,\"hover_glyph\":null,\"muted_glyph\":{\"id\":\"34271\"},\"nonselection_glyph\":{\"id\":\"34270\"},\"selection_glyph\":{\"id\":\"34274\"},\"view\":{\"id\":\"34273\"}},\"id\":\"34272\",\"type\":\"GlyphRenderer\"},{\"attributes\":{},\"id\":\"34363\",\"type\":\"UnionRenderers\"},{\"attributes\":{},\"id\":\"34123\",\"type\":\"Selection\"},{\"attributes\":{\"fill_alpha\":{\"value\":0.7},\"fill_color\":{\"value\":\"#e377c2\"},\"hatch_alpha\":{\"value\":0.7},\"hatch_color\":{\"value\":\"#e377c2\"},\"line_alpha\":{\"value\":0.7},\"line_color\":{\"value\":\"#e377c2\"},\"size\":{\"value\":8.94427190999916},\"x\":{\"field\":\"GDP\"},\"y\":{\"field\":\"WHEAT_PPI\"}},\"id\":\"34125\",\"type\":\"Scatter\"},{\"attributes\":{\"coordinates\":null,\"data_source\":{\"id\":\"34194\"},\"glyph\":{\"id\":\"34197\"},\"group\":null,\"hover_glyph\":null,\"muted_glyph\":{\"id\":\"34199\"},\"nonselection_glyph\":{\"id\":\"34198\"},\"selection_glyph\":{\"id\":\"34202\"},\"view\":{\"id\":\"34201\"}},\"id\":\"34200\",\"type\":\"GlyphRenderer\"},{\"attributes\":{\"coordinates\":null,\"data_source\":{\"id\":\"34149\"},\"glyph\":{\"id\":\"34152\"},\"group\":null,\"hover_glyph\":null,\"muted_glyph\":{\"id\":\"34154\"},\"nonselection_glyph\":{\"id\":\"34153\"},\"selection_glyph\":{\"id\":\"34157\"},\"view\":{\"id\":\"34156\"}},\"id\":\"34155\",\"type\":\"GlyphRenderer\"},{\"attributes\":{\"fill_alpha\":{\"value\":0.2},\"fill_color\":{\"value\":\"#30a2da\"},\"hatch_alpha\":{\"value\":0.2},\"hatch_color\":{\"value\":\"#30a2da\"},\"line_alpha\":{\"value\":0.2},\"line_color\":{\"value\":\"#30a2da\"},\"size\":{\"value\":8.94427190999916},\"x\":{\"field\":\"GDP\"},\"y\":{\"field\":\"WHEAT_PPI\"}},\"id\":\"34154\",\"type\":\"Scatter\"},{\"attributes\":{\"fill_alpha\":{\"value\":0.7},\"fill_color\":{\"value\":\"#30a2da\"},\"hatch_alpha\":{\"value\":0.7},\"hatch_color\":{\"value\":\"#30a2da\"},\"line_alpha\":{\"value\":0.7},\"line_color\":{\"value\":\"#30a2da\"},\"size\":{\"value\":8.94427190999916},\"x\":{\"field\":\"GDP\"},\"y\":{\"field\":\"WHEAT_PPI\"}},\"id\":\"34260\",\"type\":\"Scatter\"},{\"attributes\":{\"coordinates\":null,\"data_source\":{\"id\":\"34050\"},\"glyph\":{\"id\":\"34053\"},\"group\":null,\"hover_glyph\":null,\"muted_glyph\":{\"id\":\"34055\"},\"nonselection_glyph\":{\"id\":\"34054\"},\"selection_glyph\":{\"id\":\"34058\"},\"view\":{\"id\":\"34057\"}},\"id\":\"34056\",\"type\":\"GlyphRenderer\"},{\"attributes\":{},\"id\":\"34231\",\"type\":\"Selection\"},{\"attributes\":{\"data\":{\"AREA\":[\"Estonia\"],\"GDP\":{\"__ndarray__\":\"B7KeWnU93EA=\",\"dtype\":\"float64\",\"order\":\"little\",\"shape\":[1]},\"WHEAT_PPI\":{\"__ndarray__\":\"9ihcj8JVWkA=\",\"dtype\":\"float64\",\"order\":\"little\",\"shape\":[1]}},\"selected\":{\"id\":\"34114\"},\"selection_policy\":{\"id\":\"34343\"}},\"id\":\"34113\",\"type\":\"ColumnDataSource\"},{\"attributes\":{\"fill_alpha\":{\"value\":0.7},\"fill_color\":{\"value\":\"#30a2da\"},\"hatch_alpha\":{\"value\":0.7},\"hatch_color\":{\"value\":\"#30a2da\"},\"line_alpha\":{\"value\":0.7},\"line_color\":{\"value\":\"#30a2da\"},\"size\":{\"value\":8.94427190999916},\"x\":{\"field\":\"GDP\"},\"y\":{\"field\":\"WHEAT_PPI\"}},\"id\":\"34152\",\"type\":\"Scatter\"},{\"attributes\":{},\"id\":\"34333\",\"type\":\"UnionRenderers\"},{\"attributes\":{},\"id\":\"34375\",\"type\":\"UnionRenderers\"},{\"attributes\":{\"angle\":{\"value\":0.0},\"fill_alpha\":{\"value\":0.7},\"fill_color\":{\"value\":\"#1f77b4\"},\"hatch_alpha\":{\"value\":0.7},\"hatch_color\":{\"value\":\"#1f77b4\"},\"hatch_scale\":{\"value\":12.0},\"hatch_weight\":{\"value\":1.0},\"line_alpha\":{\"value\":0.7},\"line_cap\":{\"value\":\"butt\"},\"line_color\":{\"value\":\"#1f77b4\"},\"line_dash\":{\"value\":[]},\"line_dash_offset\":{\"value\":0},\"line_join\":{\"value\":\"bevel\"},\"line_width\":{\"value\":1},\"marker\":{\"value\":\"circle\"},\"size\":{\"value\":8.94427190999916},\"x\":{\"field\":\"GDP\"},\"y\":{\"field\":\"WHEAT_PPI\"}},\"id\":\"34229\",\"type\":\"Scatter\"},{\"attributes\":{\"source\":{\"id\":\"34293\"}},\"id\":\"34300\",\"type\":\"CDSView\"},{\"attributes\":{\"coordinates\":null,\"data_source\":{\"id\":\"34293\"},\"glyph\":{\"id\":\"34296\"},\"group\":null,\"hover_glyph\":null,\"muted_glyph\":{\"id\":\"34298\"},\"nonselection_glyph\":{\"id\":\"34297\"},\"selection_glyph\":{\"id\":\"34301\"},\"view\":{\"id\":\"34300\"}},\"id\":\"34299\",\"type\":\"GlyphRenderer\"},{\"attributes\":{\"fill_alpha\":{\"value\":0.7},\"fill_color\":{\"value\":\"#fc4f30\"},\"hatch_alpha\":{\"value\":0.1},\"hatch_color\":{\"value\":\"#fc4f30\"},\"line_alpha\":{\"value\":0.7},\"line_color\":{\"value\":\"#fc4f30\"},\"size\":{\"value\":8.94427190999916},\"x\":{\"field\":\"GDP\"},\"y\":{\"field\":\"WHEAT_PPI\"}},\"id\":\"34054\",\"type\":\"Scatter\"},{\"attributes\":{\"source\":{\"id\":\"34149\"}},\"id\":\"34156\",\"type\":\"CDSView\"},{\"attributes\":{\"angle\":{\"value\":0.0},\"fill_alpha\":{\"value\":0.7},\"fill_color\":{\"value\":\"#6d904f\"},\"hatch_alpha\":{\"value\":0.7},\"hatch_color\":{\"value\":\"#6d904f\"},\"hatch_scale\":{\"value\":12.0},\"hatch_weight\":{\"value\":1.0},\"line_alpha\":{\"value\":0.7},\"line_cap\":{\"value\":\"butt\"},\"line_color\":{\"value\":\"#6d904f\"},\"line_dash\":{\"value\":[]},\"line_dash_offset\":{\"value\":0},\"line_join\":{\"value\":\"bevel\"},\"line_width\":{\"value\":1},\"marker\":{\"value\":\"circle\"},\"size\":{\"value\":8.94427190999916},\"x\":{\"field\":\"GDP\"},\"y\":{\"field\":\"WHEAT_PPI\"}},\"id\":\"34184\",\"type\":\"Scatter\"},{\"attributes\":{\"angle\":{\"value\":0.0},\"fill_alpha\":{\"value\":0.7},\"fill_color\":{\"value\":\"#fc4f30\"},\"hatch_alpha\":{\"value\":0.7},\"hatch_color\":{\"value\":\"#fc4f30\"},\"hatch_scale\":{\"value\":12.0},\"hatch_weight\":{\"value\":1.0},\"line_alpha\":{\"value\":0.7},\"line_cap\":{\"value\":\"butt\"},\"line_color\":{\"value\":\"#fc4f30\"},\"line_dash\":{\"value\":[]},\"line_dash_offset\":{\"value\":0},\"line_join\":{\"value\":\"bevel\"},\"line_width\":{\"value\":1},\"marker\":{\"value\":\"circle\"},\"size\":{\"value\":8.94427190999916},\"x\":{\"field\":\"GDP\"},\"y\":{\"field\":\"WHEAT_PPI\"}},\"id\":\"34058\",\"type\":\"Scatter\"},{\"attributes\":{\"source\":{\"id\":\"34050\"}},\"id\":\"34057\",\"type\":\"CDSView\"},{\"attributes\":{\"fill_alpha\":{\"value\":0.7},\"fill_color\":{\"value\":\"#8b8b8b\"},\"hatch_alpha\":{\"value\":0.1},\"hatch_color\":{\"value\":\"#8b8b8b\"},\"line_alpha\":{\"value\":0.7},\"line_color\":{\"value\":\"#8b8b8b\"},\"size\":{\"value\":8.94427190999916},\"x\":{\"field\":\"GDP\"},\"y\":{\"field\":\"WHEAT_PPI\"}},\"id\":\"34297\",\"type\":\"Scatter\"},{\"attributes\":{\"fill_alpha\":{\"value\":0.2},\"fill_color\":{\"value\":\"#fc4f30\"},\"hatch_alpha\":{\"value\":0.2},\"hatch_color\":{\"value\":\"#fc4f30\"},\"line_alpha\":{\"value\":0.2},\"line_color\":{\"value\":\"#fc4f30\"},\"size\":{\"value\":8.94427190999916},\"x\":{\"field\":\"GDP\"},\"y\":{\"field\":\"WHEAT_PPI\"}},\"id\":\"34055\",\"type\":\"Scatter\"},{\"attributes\":{\"fill_alpha\":{\"value\":0.2},\"fill_color\":{\"value\":\"#8b8b8b\"},\"hatch_alpha\":{\"value\":0.2},\"hatch_color\":{\"value\":\"#8b8b8b\"},\"line_alpha\":{\"value\":0.2},\"line_color\":{\"value\":\"#8b8b8b\"},\"size\":{\"value\":8.94427190999916},\"x\":{\"field\":\"GDP\"},\"y\":{\"field\":\"WHEAT_PPI\"}},\"id\":\"34298\",\"type\":\"Scatter\"},{\"attributes\":{},\"id\":\"34060\",\"type\":\"Selection\"},{\"attributes\":{\"source\":{\"id\":\"34302\"}},\"id\":\"34309\",\"type\":\"CDSView\"},{\"attributes\":{},\"id\":\"34335\",\"type\":\"UnionRenderers\"},{\"attributes\":{},\"id\":\"34377\",\"type\":\"UnionRenderers\"},{\"attributes\":{\"fill_alpha\":{\"value\":0.7},\"fill_color\":{\"value\":\"#30a2da\"},\"hatch_alpha\":{\"value\":0.1},\"hatch_color\":{\"value\":\"#30a2da\"},\"line_alpha\":{\"value\":0.7},\"line_color\":{\"value\":\"#30a2da\"},\"size\":{\"value\":8.94427190999916},\"x\":{\"field\":\"GDP\"},\"y\":{\"field\":\"WHEAT_PPI\"}},\"id\":\"34153\",\"type\":\"Scatter\"},{\"attributes\":{\"angle\":{\"value\":0.0},\"fill_alpha\":{\"value\":0.7},\"fill_color\":{\"value\":\"#30a2da\"},\"hatch_alpha\":{\"value\":0.7},\"hatch_color\":{\"value\":\"#30a2da\"},\"hatch_scale\":{\"value\":12.0},\"hatch_weight\":{\"value\":1.0},\"line_alpha\":{\"value\":0.7},\"line_cap\":{\"value\":\"butt\"},\"line_color\":{\"value\":\"#30a2da\"},\"line_dash\":{\"value\":[]},\"line_dash_offset\":{\"value\":0},\"line_join\":{\"value\":\"bevel\"},\"line_width\":{\"value\":1},\"marker\":{\"value\":\"circle\"},\"size\":{\"value\":8.94427190999916},\"x\":{\"field\":\"GDP\"},\"y\":{\"field\":\"WHEAT_PPI\"}},\"id\":\"34157\",\"type\":\"Scatter\"},{\"attributes\":{\"fill_alpha\":{\"value\":0.7},\"fill_color\":{\"value\":\"#17becf\"},\"hatch_alpha\":{\"value\":0.1},\"hatch_color\":{\"value\":\"#17becf\"},\"line_alpha\":{\"value\":0.7},\"line_color\":{\"value\":\"#17becf\"},\"size\":{\"value\":8.94427190999916},\"x\":{\"field\":\"GDP\"},\"y\":{\"field\":\"WHEAT_PPI\"}},\"id\":\"34306\",\"type\":\"Scatter\"},{\"attributes\":{\"fill_alpha\":{\"value\":0.2},\"fill_color\":{\"value\":\"#17becf\"},\"hatch_alpha\":{\"value\":0.2},\"hatch_color\":{\"value\":\"#17becf\"},\"line_alpha\":{\"value\":0.2},\"line_color\":{\"value\":\"#17becf\"},\"size\":{\"value\":8.94427190999916},\"x\":{\"field\":\"GDP\"},\"y\":{\"field\":\"WHEAT_PPI\"}},\"id\":\"34307\",\"type\":\"Scatter\"},{\"attributes\":{},\"id\":\"34159\",\"type\":\"Selection\"},{\"attributes\":{\"data\":{\"AREA\":[\"United Kingdom of Great Britain and Northern Ireland\"],\"GDP\":{\"__ndarray__\":\"8+hGWA8p5EA=\",\"dtype\":\"float64\",\"order\":\"little\",\"shape\":[1]},\"WHEAT_PPI\":{\"__ndarray__\":\"AAAAAABAXUA=\",\"dtype\":\"float64\",\"order\":\"little\",\"shape\":[1]}},\"selected\":{\"id\":\"34303\"},\"selection_policy\":{\"id\":\"34385\"}},\"id\":\"34302\",\"type\":\"ColumnDataSource\"},{\"attributes\":{\"coordinates\":null,\"data_source\":{\"id\":\"34230\"},\"glyph\":{\"id\":\"34233\"},\"group\":null,\"hover_glyph\":null,\"muted_glyph\":{\"id\":\"34235\"},\"nonselection_glyph\":{\"id\":\"34234\"},\"selection_glyph\":{\"id\":\"34238\"},\"view\":{\"id\":\"34237\"}},\"id\":\"34236\",\"type\":\"GlyphRenderer\"},{\"attributes\":{\"source\":{\"id\":\"34059\"}},\"id\":\"34066\",\"type\":\"CDSView\"},{\"attributes\":{\"fill_alpha\":{\"value\":0.7},\"fill_color\":{\"value\":\"#e377c2\"},\"hatch_alpha\":{\"value\":0.1},\"hatch_color\":{\"value\":\"#e377c2\"},\"line_alpha\":{\"value\":0.7},\"line_color\":{\"value\":\"#e377c2\"},\"size\":{\"value\":8.94427190999916},\"x\":{\"field\":\"GDP\"},\"y\":{\"field\":\"WHEAT_PPI\"}},\"id\":\"34234\",\"type\":\"Scatter\"},{\"attributes\":{\"fill_alpha\":{\"value\":0.7},\"fill_color\":{\"value\":\"#e5ae38\"},\"hatch_alpha\":{\"value\":0.1},\"hatch_color\":{\"value\":\"#e5ae38\"},\"line_alpha\":{\"value\":0.7},\"line_color\":{\"value\":\"#e5ae38\"},\"size\":{\"value\":8.94427190999916},\"x\":{\"field\":\"GDP\"},\"y\":{\"field\":\"WHEAT_PPI\"}},\"id\":\"34063\",\"type\":\"Scatter\"},{\"attributes\":{\"source\":{\"id\":\"34230\"}},\"id\":\"34237\",\"type\":\"CDSView\"},{\"attributes\":{\"coordinates\":null,\"data_source\":{\"id\":\"34158\"},\"glyph\":{\"id\":\"34161\"},\"group\":null,\"hover_glyph\":null,\"muted_glyph\":{\"id\":\"34163\"},\"nonselection_glyph\":{\"id\":\"34162\"},\"selection_glyph\":{\"id\":\"34166\"},\"view\":{\"id\":\"34165\"}},\"id\":\"34164\",\"type\":\"GlyphRenderer\"},{\"attributes\":{\"angle\":{\"value\":0.0},\"fill_alpha\":{\"value\":0.7},\"fill_color\":{\"value\":\"#e5ae38\"},\"hatch_alpha\":{\"value\":0.7},\"hatch_color\":{\"value\":\"#e5ae38\"},\"hatch_scale\":{\"value\":12.0},\"hatch_weight\":{\"value\":1.0},\"line_alpha\":{\"value\":0.7},\"line_cap\":{\"value\":\"butt\"},\"line_color\":{\"value\":\"#e5ae38\"},\"line_dash\":{\"value\":[]},\"line_dash_offset\":{\"value\":0},\"line_join\":{\"value\":\"bevel\"},\"line_width\":{\"value\":1},\"marker\":{\"value\":\"circle\"},\"size\":{\"value\":8.94427190999916},\"x\":{\"field\":\"GDP\"},\"y\":{\"field\":\"WHEAT_PPI\"}},\"id\":\"34067\",\"type\":\"Scatter\"},{\"attributes\":{\"coordinates\":null,\"data_source\":{\"id\":\"34302\"},\"glyph\":{\"id\":\"34305\"},\"group\":null,\"hover_glyph\":null,\"muted_glyph\":{\"id\":\"34307\"},\"nonselection_glyph\":{\"id\":\"34306\"},\"selection_glyph\":{\"id\":\"34310\"},\"view\":{\"id\":\"34309\"}},\"id\":\"34308\",\"type\":\"GlyphRenderer\"},{\"attributes\":{\"fill_alpha\":{\"value\":0.7},\"fill_color\":{\"value\":\"#fc4f30\"},\"hatch_alpha\":{\"value\":0.1},\"hatch_color\":{\"value\":\"#fc4f30\"},\"line_alpha\":{\"value\":0.7},\"line_color\":{\"value\":\"#fc4f30\"},\"size\":{\"value\":8.94427190999916},\"x\":{\"field\":\"GDP\"},\"y\":{\"field\":\"WHEAT_PPI\"}},\"id\":\"34162\",\"type\":\"Scatter\"},{\"attributes\":{\"angle\":{\"value\":0.0},\"fill_alpha\":{\"value\":0.7},\"fill_color\":{\"value\":\"#17becf\"},\"hatch_alpha\":{\"value\":0.7},\"hatch_color\":{\"value\":\"#17becf\"},\"hatch_scale\":{\"value\":12.0},\"hatch_weight\":{\"value\":1.0},\"line_alpha\":{\"value\":0.7},\"line_cap\":{\"value\":\"butt\"},\"line_color\":{\"value\":\"#17becf\"},\"line_dash\":{\"value\":[]},\"line_dash_offset\":{\"value\":0},\"line_join\":{\"value\":\"bevel\"},\"line_width\":{\"value\":1},\"marker\":{\"value\":\"circle\"},\"size\":{\"value\":8.94427190999916},\"x\":{\"field\":\"GDP\"},\"y\":{\"field\":\"WHEAT_PPI\"}},\"id\":\"34310\",\"type\":\"Scatter\"},{\"attributes\":{},\"id\":\"34312\",\"type\":\"Selection\"},{\"attributes\":{},\"id\":\"34337\",\"type\":\"UnionRenderers\"},{\"attributes\":{},\"id\":\"34379\",\"type\":\"UnionRenderers\"},{\"attributes\":{\"source\":{\"id\":\"34158\"}},\"id\":\"34165\",\"type\":\"CDSView\"},{\"attributes\":{\"fill_alpha\":{\"value\":0.7},\"fill_color\":{\"value\":\"#30a2da\"},\"hatch_alpha\":{\"value\":0.1},\"hatch_color\":{\"value\":\"#30a2da\"},\"line_alpha\":{\"value\":0.7},\"line_color\":{\"value\":\"#30a2da\"},\"size\":{\"value\":8.94427190999916},\"x\":{\"field\":\"GDP\"},\"y\":{\"field\":\"WHEAT_PPI\"}},\"id\":\"34261\",\"type\":\"Scatter\"},{\"attributes\":{\"fill_alpha\":{\"value\":0.7},\"fill_color\":{\"value\":\"#e377c2\"},\"hatch_alpha\":{\"value\":0.7},\"hatch_color\":{\"value\":\"#e377c2\"},\"line_alpha\":{\"value\":0.7},\"line_color\":{\"value\":\"#e377c2\"},\"size\":{\"value\":8.94427190999916},\"x\":{\"field\":\"GDP\"},\"y\":{\"field\":\"WHEAT_PPI\"}},\"id\":\"34233\",\"type\":\"Scatter\"},{\"attributes\":{\"fill_alpha\":{\"value\":0.7},\"fill_color\":{\"value\":\"#e5ae38\"},\"hatch_alpha\":{\"value\":0.7},\"hatch_color\":{\"value\":\"#e5ae38\"},\"line_alpha\":{\"value\":0.7},\"line_color\":{\"value\":\"#e5ae38\"},\"size\":{\"value\":8.94427190999916},\"x\":{\"field\":\"GDP\"},\"y\":{\"field\":\"WHEAT_PPI\"}},\"id\":\"34062\",\"type\":\"Scatter\"},{\"attributes\":{\"fill_alpha\":{\"value\":0.7},\"fill_color\":{\"value\":\"#e5ae38\"},\"hatch_alpha\":{\"value\":0.7},\"hatch_color\":{\"value\":\"#e5ae38\"},\"line_alpha\":{\"value\":0.7},\"line_color\":{\"value\":\"#e5ae38\"},\"size\":{\"value\":8.94427190999916},\"x\":{\"field\":\"GDP\"},\"y\":{\"field\":\"WHEAT_PPI\"}},\"id\":\"34170\",\"type\":\"Scatter\"},{\"attributes\":{},\"id\":\"34327\",\"type\":\"UnionRenderers\"},{\"attributes\":{\"coordinates\":null,\"data_source\":{\"id\":\"34311\"},\"glyph\":{\"id\":\"34314\"},\"group\":null,\"hover_glyph\":null,\"muted_glyph\":{\"id\":\"34316\"},\"nonselection_glyph\":{\"id\":\"34315\"},\"selection_glyph\":{\"id\":\"34319\"},\"view\":{\"id\":\"34318\"}},\"id\":\"34317\",\"type\":\"GlyphRenderer\"},{\"attributes\":{\"fill_alpha\":{\"value\":0.7},\"fill_color\":{\"value\":\"#fc4f30\"},\"hatch_alpha\":{\"value\":0.7},\"hatch_color\":{\"value\":\"#fc4f30\"},\"line_alpha\":{\"value\":0.7},\"line_color\":{\"value\":\"#fc4f30\"},\"size\":{\"value\":8.94427190999916},\"x\":{\"field\":\"GDP\"},\"y\":{\"field\":\"WHEAT_PPI\"}},\"id\":\"34161\",\"type\":\"Scatter\"},{\"attributes\":{\"data\":{\"AREA\":[\"Finland\"],\"GDP\":{\"__ndarray__\":\"WYrkq7ti5EA=\",\"dtype\":\"float64\",\"order\":\"little\",\"shape\":[1]},\"WHEAT_PPI\":{\"__ndarray__\":\"hetRuB4FWkA=\",\"dtype\":\"float64\",\"order\":\"little\",\"shape\":[1]}},\"selected\":{\"id\":\"34123\"},\"selection_policy\":{\"id\":\"34345\"}},\"id\":\"34122\",\"type\":\"ColumnDataSource\"},{\"attributes\":{\"fill_alpha\":{\"value\":0.7},\"fill_color\":{\"value\":\"#9467bd\"},\"hatch_alpha\":{\"value\":0.1},\"hatch_color\":{\"value\":\"#9467bd\"},\"line_alpha\":{\"value\":0.7},\"line_color\":{\"value\":\"#9467bd\"},\"size\":{\"value\":8.94427190999916},\"x\":{\"field\":\"GDP\"},\"y\":{\"field\":\"WHEAT_PPI\"}},\"id\":\"34315\",\"type\":\"Scatter\"},{\"attributes\":{\"data\":{\"AREA\":[\"Slovenia\"],\"GDP\":{\"__ndarray__\":\"rUz4pS4m3kA=\",\"dtype\":\"float64\",\"order\":\"little\",\"shape\":[1]},\"WHEAT_PPI\":{\"__ndarray__\":\"CtejcD3qWkA=\",\"dtype\":\"float64\",\"order\":\"little\",\"shape\":[1]}},\"selected\":{\"id\":\"34276\"},\"selection_policy\":{\"id\":\"34379\"}},\"id\":\"34275\",\"type\":\"ColumnDataSource\"},{\"attributes\":{\"data\":{\"AREA\":[\"Denmark\"],\"GDP\":{\"__ndarray__\":\"0y07RC9k50A=\",\"dtype\":\"float64\",\"order\":\"little\",\"shape\":[1]},\"WHEAT_PPI\":{\"__ndarray__\":\"exSuR+EKW0A=\",\"dtype\":\"float64\",\"order\":\"little\",\"shape\":[1]}},\"selected\":{\"id\":\"34105\"},\"selection_policy\":{\"id\":\"34341\"}},\"id\":\"34104\",\"type\":\"ColumnDataSource\"},{\"attributes\":{\"fill_alpha\":{\"value\":0.2},\"fill_color\":{\"value\":\"#e377c2\"},\"hatch_alpha\":{\"value\":0.2},\"hatch_color\":{\"value\":\"#e377c2\"},\"line_alpha\":{\"value\":0.2},\"line_color\":{\"value\":\"#e377c2\"},\"size\":{\"value\":8.94427190999916},\"x\":{\"field\":\"GDP\"},\"y\":{\"field\":\"WHEAT_PPI\"}},\"id\":\"34235\",\"type\":\"Scatter\"},{\"attributes\":{\"fill_alpha\":{\"value\":0.7},\"fill_color\":{\"value\":\"#17becf\"},\"hatch_alpha\":{\"value\":0.7},\"hatch_color\":{\"value\":\"#17becf\"},\"line_alpha\":{\"value\":0.7},\"line_color\":{\"value\":\"#17becf\"},\"size\":{\"value\":8.94427190999916},\"x\":{\"field\":\"GDP\"},\"y\":{\"field\":\"WHEAT_PPI\"}},\"id\":\"34305\",\"type\":\"Scatter\"},{\"attributes\":{\"source\":{\"id\":\"34311\"}},\"id\":\"34318\",\"type\":\"CDSView\"},{\"attributes\":{\"angle\":{\"value\":0.0},\"fill_alpha\":{\"value\":0.7},\"fill_color\":{\"value\":\"#e377c2\"},\"hatch_alpha\":{\"value\":0.7},\"hatch_color\":{\"value\":\"#e377c2\"},\"hatch_scale\":{\"value\":12.0},\"hatch_weight\":{\"value\":1.0},\"line_alpha\":{\"value\":0.7},\"line_cap\":{\"value\":\"butt\"},\"line_color\":{\"value\":\"#e377c2\"},\"line_dash\":{\"value\":[]},\"line_dash_offset\":{\"value\":0},\"line_join\":{\"value\":\"bevel\"},\"line_width\":{\"value\":1},\"marker\":{\"value\":\"circle\"},\"size\":{\"value\":8.94427190999916},\"x\":{\"field\":\"GDP\"},\"y\":{\"field\":\"WHEAT_PPI\"}},\"id\":\"34238\",\"type\":\"Scatter\"},{\"attributes\":{\"data\":{\"AREA\":[\"Spain\"],\"GDP\":{\"__ndarray__\":\"PLznQN9i4EA=\",\"dtype\":\"float64\",\"order\":\"little\",\"shape\":[1]},\"WHEAT_PPI\":{\"__ndarray__\":\"16NwPQoHW0A=\",\"dtype\":\"float64\",\"order\":\"little\",\"shape\":[1]}},\"selected\":{\"id\":\"34285\"},\"selection_policy\":{\"id\":\"34381\"}},\"id\":\"34284\",\"type\":\"ColumnDataSource\"},{\"attributes\":{\"end\":131.225,\"reset_end\":131.225,\"reset_start\":77.525,\"start\":77.525,\"tags\":[[[\"WHEAT_PPI\",\"WHEAT_PPI\",null]]]},\"id\":\"33973\",\"type\":\"Range1d\"},{\"attributes\":{\"data\":{\"AREA\":[\"Lithuania\"],\"GDP\":{\"__ndarray__\":\"r2Ab8R+G20A=\",\"dtype\":\"float64\",\"order\":\"little\",\"shape\":[1]},\"WHEAT_PPI\":{\"__ndarray__\":\"ZmZmZmZmWUA=\",\"dtype\":\"float64\",\"order\":\"little\",\"shape\":[1]}},\"selected\":{\"id\":\"34204\"},\"selection_policy\":{\"id\":\"34363\"}},\"id\":\"34203\",\"type\":\"ColumnDataSource\"},{\"attributes\":{},\"id\":\"34339\",\"type\":\"UnionRenderers\"},{\"attributes\":{\"data\":{\"AREA\":[\"Cyprus\"],\"GDP\":{\"__ndarray__\":\"KbNBJglg3UA=\",\"dtype\":\"float64\",\"order\":\"little\",\"shape\":[1]},\"WHEAT_PPI\":{\"__ndarray__\":\"SOF6FK6nV0A=\",\"dtype\":\"float64\",\"order\":\"little\",\"shape\":[1]}},\"selected\":{\"id\":\"34087\"},\"selection_policy\":{\"id\":\"34337\"}},\"id\":\"34086\",\"type\":\"ColumnDataSource\"},{\"attributes\":{},\"id\":\"34381\",\"type\":\"UnionRenderers\"},{\"attributes\":{\"fill_alpha\":{\"value\":0.2},\"fill_color\":{\"value\":\"#8c564b\"},\"hatch_alpha\":{\"value\":0.2},\"hatch_color\":{\"value\":\"#8c564b\"},\"line_alpha\":{\"value\":0.2},\"line_color\":{\"value\":\"#8c564b\"},\"size\":{\"value\":8.94427190999916},\"x\":{\"field\":\"GDP\"},\"y\":{\"field\":\"WHEAT_PPI\"}},\"id\":\"34244\",\"type\":\"Scatter\"},{\"attributes\":{\"coordinates\":null,\"data_source\":{\"id\":\"34068\"},\"glyph\":{\"id\":\"34071\"},\"group\":null,\"hover_glyph\":null,\"muted_glyph\":{\"id\":\"34073\"},\"nonselection_glyph\":{\"id\":\"34072\"},\"selection_glyph\":{\"id\":\"34076\"},\"view\":{\"id\":\"34075\"}},\"id\":\"34074\",\"type\":\"GlyphRenderer\"},{\"attributes\":{\"fill_alpha\":{\"value\":0.2},\"fill_color\":{\"value\":\"#fc4f30\"},\"hatch_alpha\":{\"value\":0.2},\"hatch_color\":{\"value\":\"#fc4f30\"},\"line_alpha\":{\"value\":0.2},\"line_color\":{\"value\":\"#fc4f30\"},\"size\":{\"value\":8.94427190999916},\"x\":{\"field\":\"GDP\"},\"y\":{\"field\":\"WHEAT_PPI\"}},\"id\":\"34163\",\"type\":\"Scatter\"},{\"attributes\":{\"angle\":{\"value\":0.0},\"fill_alpha\":{\"value\":0.7},\"fill_color\":{\"value\":\"#fc4f30\"},\"hatch_alpha\":{\"value\":0.7},\"hatch_color\":{\"value\":\"#fc4f30\"},\"hatch_scale\":{\"value\":12.0},\"hatch_weight\":{\"value\":1.0},\"line_alpha\":{\"value\":0.7},\"line_cap\":{\"value\":\"butt\"},\"line_color\":{\"value\":\"#fc4f30\"},\"line_dash\":{\"value\":[]},\"line_dash_offset\":{\"value\":0},\"line_join\":{\"value\":\"bevel\"},\"line_width\":{\"value\":1},\"marker\":{\"value\":\"circle\"},\"size\":{\"value\":8.94427190999916},\"x\":{\"field\":\"GDP\"},\"y\":{\"field\":\"WHEAT_PPI\"}},\"id\":\"34166\",\"type\":\"Scatter\"},{\"attributes\":{\"fill_alpha\":{\"value\":0.7},\"fill_color\":{\"value\":\"#6d904f\"},\"hatch_alpha\":{\"value\":0.1},\"hatch_color\":{\"value\":\"#6d904f\"},\"line_alpha\":{\"value\":0.7},\"line_color\":{\"value\":\"#6d904f\"},\"size\":{\"value\":8.94427190999916},\"x\":{\"field\":\"GDP\"},\"y\":{\"field\":\"WHEAT_PPI\"}},\"id\":\"34072\",\"type\":\"Scatter\"},{\"attributes\":{\"fill_alpha\":{\"value\":0.7},\"fill_color\":{\"value\":\"#9467bd\"},\"hatch_alpha\":{\"value\":0.7},\"hatch_color\":{\"value\":\"#9467bd\"},\"line_alpha\":{\"value\":0.7},\"line_color\":{\"value\":\"#9467bd\"},\"size\":{\"value\":8.94427190999916},\"x\":{\"field\":\"GDP\"},\"y\":{\"field\":\"WHEAT_PPI\"}},\"id\":\"34314\",\"type\":\"Scatter\"},{\"attributes\":{},\"id\":\"34329\",\"type\":\"UnionRenderers\"},{\"attributes\":{\"data\":{\"AREA\":[\"Luxembourg\"],\"GDP\":{\"__ndarray__\":\"2ht8IV+d+UA=\",\"dtype\":\"float64\",\"order\":\"little\",\"shape\":[1]},\"WHEAT_PPI\":{\"__ndarray__\":\"9ihcj8L1WEA=\",\"dtype\":\"float64\",\"order\":\"little\",\"shape\":[1]}},\"selected\":{\"id\":\"34213\"},\"selection_policy\":{\"id\":\"34365\"}},\"id\":\"34212\",\"type\":\"ColumnDataSource\"},{\"attributes\":{},\"id\":\"34258\",\"type\":\"Selection\"},{\"attributes\":{\"source\":{\"id\":\"34068\"}},\"id\":\"34075\",\"type\":\"CDSView\"},{\"attributes\":{\"callback\":null,\"renderers\":[{\"id\":\"34047\"},{\"id\":\"34056\"},{\"id\":\"34065\"},{\"id\":\"34074\"},{\"id\":\"34083\"},{\"id\":\"34092\"},{\"id\":\"34101\"},{\"id\":\"34110\"},{\"id\":\"34119\"},{\"id\":\"34128\"},{\"id\":\"34137\"},{\"id\":\"34146\"},{\"id\":\"34155\"},{\"id\":\"34164\"},{\"id\":\"34173\"},{\"id\":\"34182\"},{\"id\":\"34191\"},{\"id\":\"34200\"},{\"id\":\"34209\"},{\"id\":\"34218\"},{\"id\":\"34227\"},{\"id\":\"34236\"},{\"id\":\"34245\"},{\"id\":\"34254\"},{\"id\":\"34263\"},{\"id\":\"34272\"},{\"id\":\"34281\"},{\"id\":\"34290\"},{\"id\":\"34299\"},{\"id\":\"34308\"},{\"id\":\"34317\"}],\"tags\":[\"hv_created\"],\"tooltips\":[[\"AREA\",\"@{AREA}\"],[\"GDP\",\"@{GDP}\"],[\"WHEAT_PPI\",\"@{WHEAT_PPI}\"]]},\"id\":\"33974\",\"type\":\"HoverTool\"},{\"attributes\":{},\"id\":\"34168\",\"type\":\"Selection\"},{\"attributes\":{\"below\":[{\"id\":\"34014\"}],\"center\":[{\"id\":\"34017\"},{\"id\":\"34021\"}],\"height\":500,\"left\":[{\"id\":\"34018\"}],\"margin\":[5,5,5,5],\"min_border_bottom\":10,\"min_border_left\":10,\"min_border_right\":10,\"min_border_top\":10,\"renderers\":[{\"id\":\"34047\"},{\"id\":\"34056\"},{\"id\":\"34065\"},{\"id\":\"34074\"},{\"id\":\"34083\"},{\"id\":\"34092\"},{\"id\":\"34101\"},{\"id\":\"34110\"},{\"id\":\"34119\"},{\"id\":\"34128\"},{\"id\":\"34137\"},{\"id\":\"34146\"},{\"id\":\"34155\"},{\"id\":\"34164\"},{\"id\":\"34173\"},{\"id\":\"34182\"},{\"id\":\"34191\"},{\"id\":\"34200\"},{\"id\":\"34209\"},{\"id\":\"34218\"},{\"id\":\"34227\"},{\"id\":\"34236\"},{\"id\":\"34245\"},{\"id\":\"34254\"},{\"id\":\"34263\"},{\"id\":\"34272\"},{\"id\":\"34281\"},{\"id\":\"34290\"},{\"id\":\"34299\"},{\"id\":\"34308\"},{\"id\":\"34317\"}],\"sizing_mode\":\"stretch_width\",\"title\":{\"id\":\"34006\"},\"toolbar\":{\"id\":\"34028\"},\"width\":500,\"x_range\":{\"id\":\"33972\"},\"x_scale\":{\"id\":\"34010\"},\"y_range\":{\"id\":\"33973\"},\"y_scale\":{\"id\":\"34012\"}},\"id\":\"34005\",\"subtype\":\"Figure\",\"type\":\"Plot\"},{\"attributes\":{\"coordinates\":null,\"data_source\":{\"id\":\"34239\"},\"glyph\":{\"id\":\"34242\"},\"group\":null,\"hover_glyph\":null,\"muted_glyph\":{\"id\":\"34244\"},\"nonselection_glyph\":{\"id\":\"34243\"},\"selection_glyph\":{\"id\":\"34247\"},\"view\":{\"id\":\"34246\"}},\"id\":\"34245\",\"type\":\"GlyphRenderer\"},{\"attributes\":{\"fill_alpha\":{\"value\":0.7},\"fill_color\":{\"value\":\"#8c564b\"},\"hatch_alpha\":{\"value\":0.1},\"hatch_color\":{\"value\":\"#8c564b\"},\"line_alpha\":{\"value\":0.7},\"line_color\":{\"value\":\"#8c564b\"},\"size\":{\"value\":8.94427190999916},\"x\":{\"field\":\"GDP\"},\"y\":{\"field\":\"WHEAT_PPI\"}},\"id\":\"34243\",\"type\":\"Scatter\"},{\"attributes\":{\"fill_alpha\":{\"value\":0.7},\"fill_color\":{\"value\":\"#e5ae38\"},\"hatch_alpha\":{\"value\":0.1},\"hatch_color\":{\"value\":\"#e5ae38\"},\"line_alpha\":{\"value\":0.7},\"line_color\":{\"value\":\"#e5ae38\"},\"size\":{\"value\":8.94427190999916},\"x\":{\"field\":\"GDP\"},\"y\":{\"field\":\"WHEAT_PPI\"}},\"id\":\"34171\",\"type\":\"Scatter\"},{\"attributes\":{\"source\":{\"id\":\"34239\"}},\"id\":\"34246\",\"type\":\"CDSView\"},{\"attributes\":{},\"id\":\"34012\",\"type\":\"LinearScale\"},{\"attributes\":{\"fill_alpha\":{\"value\":0.7},\"fill_color\":{\"value\":\"#6d904f\"},\"hatch_alpha\":{\"value\":0.7},\"hatch_color\":{\"value\":\"#6d904f\"},\"line_alpha\":{\"value\":0.7},\"line_color\":{\"value\":\"#6d904f\"},\"size\":{\"value\":8.94427190999916},\"x\":{\"field\":\"GDP\"},\"y\":{\"field\":\"WHEAT_PPI\"}},\"id\":\"34071\",\"type\":\"Scatter\"},{\"attributes\":{\"fill_alpha\":{\"value\":0.2},\"fill_color\":{\"value\":\"#9467bd\"},\"hatch_alpha\":{\"value\":0.2},\"hatch_color\":{\"value\":\"#9467bd\"},\"line_alpha\":{\"value\":0.2},\"line_color\":{\"value\":\"#9467bd\"},\"size\":{\"value\":8.94427190999916},\"x\":{\"field\":\"GDP\"},\"y\":{\"field\":\"WHEAT_PPI\"}},\"id\":\"34316\",\"type\":\"Scatter\"},{\"attributes\":{\"angle\":{\"value\":0.0},\"fill_alpha\":{\"value\":0.7},\"fill_color\":{\"value\":\"#9467bd\"},\"hatch_alpha\":{\"value\":0.7},\"hatch_color\":{\"value\":\"#9467bd\"},\"hatch_scale\":{\"value\":12.0},\"hatch_weight\":{\"value\":1.0},\"line_alpha\":{\"value\":0.7},\"line_cap\":{\"value\":\"butt\"},\"line_color\":{\"value\":\"#9467bd\"},\"line_dash\":{\"value\":[]},\"line_dash_offset\":{\"value\":0},\"line_join\":{\"value\":\"bevel\"},\"line_width\":{\"value\":1},\"marker\":{\"value\":\"circle\"},\"size\":{\"value\":8.94427190999916},\"x\":{\"field\":\"GDP\"},\"y\":{\"field\":\"WHEAT_PPI\"}},\"id\":\"34319\",\"type\":\"Scatter\"},{\"attributes\":{},\"id\":\"34341\",\"type\":\"UnionRenderers\"},{\"attributes\":{},\"id\":\"34383\",\"type\":\"UnionRenderers\"},{\"attributes\":{},\"id\":\"34010\",\"type\":\"LinearScale\"},{\"attributes\":{\"data\":{\"AREA\":[\"United States of America\"],\"GDP\":{\"__ndarray__\":\"LxaGyEvQ6kA=\",\"dtype\":\"float64\",\"order\":\"little\",\"shape\":[1]},\"WHEAT_PPI\":{\"__ndarray__\":\"MzMzMzNjXkA=\",\"dtype\":\"float64\",\"order\":\"little\",\"shape\":[1]}},\"selected\":{\"id\":\"34312\"},\"selection_policy\":{\"id\":\"34387\"}},\"id\":\"34311\",\"type\":\"ColumnDataSource\"},{\"attributes\":{\"coordinates\":null,\"group\":null,\"text_color\":\"black\",\"text_font_size\":\"12pt\"},\"id\":\"34006\",\"type\":\"Title\"},{\"attributes\":{\"fill_alpha\":{\"value\":0.2},\"fill_color\":{\"value\":\"#e5ae38\"},\"hatch_alpha\":{\"value\":0.2},\"hatch_color\":{\"value\":\"#e5ae38\"},\"line_alpha\":{\"value\":0.2},\"line_color\":{\"value\":\"#e5ae38\"},\"size\":{\"value\":8.94427190999916},\"x\":{\"field\":\"GDP\"},\"y\":{\"field\":\"WHEAT_PPI\"}},\"id\":\"34172\",\"type\":\"Scatter\"},{\"attributes\":{\"fill_alpha\":{\"value\":0.7},\"fill_color\":{\"value\":\"#8c564b\"},\"hatch_alpha\":{\"value\":0.7},\"hatch_color\":{\"value\":\"#8c564b\"},\"line_alpha\":{\"value\":0.7},\"line_color\":{\"value\":\"#8c564b\"},\"size\":{\"value\":8.94427190999916},\"x\":{\"field\":\"GDP\"},\"y\":{\"field\":\"WHEAT_PPI\"}},\"id\":\"34242\",\"type\":\"Scatter\"},{\"attributes\":{},\"id\":\"34015\",\"type\":\"BasicTicker\"},{\"attributes\":{},\"id\":\"34331\",\"type\":\"UnionRenderers\"},{\"attributes\":{\"axis\":{\"id\":\"34014\"},\"coordinates\":null,\"grid_line_color\":null,\"group\":null,\"ticker\":null},\"id\":\"34017\",\"type\":\"Grid\"},{\"attributes\":{\"axis_label\":\"GDP\",\"coordinates\":null,\"formatter\":{\"id\":\"34036\"},\"group\":null,\"major_label_policy\":{\"id\":\"34037\"},\"ticker\":{\"id\":\"34015\"}},\"id\":\"34014\",\"type\":\"LinearAxis\"},{\"attributes\":{},\"id\":\"34069\",\"type\":\"Selection\"},{\"attributes\":{\"coordinates\":null,\"data_source\":{\"id\":\"34167\"},\"glyph\":{\"id\":\"34170\"},\"group\":null,\"hover_glyph\":null,\"muted_glyph\":{\"id\":\"34172\"},\"nonselection_glyph\":{\"id\":\"34171\"},\"selection_glyph\":{\"id\":\"34175\"},\"view\":{\"id\":\"34174\"}},\"id\":\"34173\",\"type\":\"GlyphRenderer\"},{\"attributes\":{\"fill_alpha\":{\"value\":0.2},\"fill_color\":{\"value\":\"#6d904f\"},\"hatch_alpha\":{\"value\":0.2},\"hatch_color\":{\"value\":\"#6d904f\"},\"line_alpha\":{\"value\":0.2},\"line_color\":{\"value\":\"#6d904f\"},\"size\":{\"value\":8.94427190999916},\"x\":{\"field\":\"GDP\"},\"y\":{\"field\":\"WHEAT_PPI\"}},\"id\":\"34073\",\"type\":\"Scatter\"},{\"attributes\":{\"axis_label\":\"WHEAT_PPI\",\"coordinates\":null,\"formatter\":{\"id\":\"34039\"},\"group\":null,\"major_label_policy\":{\"id\":\"34040\"},\"ticker\":{\"id\":\"34019\"}},\"id\":\"34018\",\"type\":\"LinearAxis\"},{\"attributes\":{\"angle\":{\"value\":0.0},\"fill_alpha\":{\"value\":0.7},\"fill_color\":{\"value\":\"#6d904f\"},\"hatch_alpha\":{\"value\":0.7},\"hatch_color\":{\"value\":\"#6d904f\"},\"hatch_scale\":{\"value\":12.0},\"hatch_weight\":{\"value\":1.0},\"line_alpha\":{\"value\":0.7},\"line_cap\":{\"value\":\"butt\"},\"line_color\":{\"value\":\"#6d904f\"},\"line_dash\":{\"value\":[]},\"line_dash_offset\":{\"value\":0},\"line_join\":{\"value\":\"bevel\"},\"line_width\":{\"value\":1},\"marker\":{\"value\":\"circle\"},\"size\":{\"value\":8.94427190999916},\"x\":{\"field\":\"GDP\"},\"y\":{\"field\":\"WHEAT_PPI\"}},\"id\":\"34076\",\"type\":\"Scatter\"},{\"attributes\":{},\"id\":\"34019\",\"type\":\"BasicTicker\"},{\"attributes\":{},\"id\":\"34240\",\"type\":\"Selection\"},{\"attributes\":{\"axis\":{\"id\":\"34018\"},\"coordinates\":null,\"dimension\":1,\"grid_line_color\":null,\"group\":null,\"ticker\":null},\"id\":\"34021\",\"type\":\"Grid\"},{\"attributes\":{},\"id\":\"34037\",\"type\":\"AllLabels\"},{\"attributes\":{\"source\":{\"id\":\"34266\"}},\"id\":\"34273\",\"type\":\"CDSView\"},{\"attributes\":{\"source\":{\"id\":\"34194\"}},\"id\":\"34201\",\"type\":\"CDSView\"},{\"attributes\":{},\"id\":\"34023\",\"type\":\"PanTool\"},{\"attributes\":{},\"id\":\"34343\",\"type\":\"UnionRenderers\"},{\"attributes\":{},\"id\":\"34024\",\"type\":\"WheelZoomTool\"},{\"attributes\":{},\"id\":\"34022\",\"type\":\"SaveTool\"},{\"attributes\":{\"coordinates\":null,\"data_source\":{\"id\":\"34122\"},\"glyph\":{\"id\":\"34125\"},\"group\":null,\"hover_glyph\":null,\"muted_glyph\":{\"id\":\"34127\"},\"nonselection_glyph\":{\"id\":\"34126\"},\"selection_glyph\":{\"id\":\"34130\"},\"view\":{\"id\":\"34129\"}},\"id\":\"34128\",\"type\":\"GlyphRenderer\"},{\"attributes\":{\"bar_color\":\"#348796\",\"end\":2021,\"margin\":[5,10,5,10],\"sizing_mode\":\"stretch_width\",\"start\":2000,\"title\":\"Year\",\"value\":2014},\"id\":\"33969\",\"type\":\"Slider\"},{\"attributes\":{\"source\":{\"id\":\"34122\"}},\"id\":\"34129\",\"type\":\"CDSView\"},{\"attributes\":{\"angle\":{\"value\":0.0},\"fill_alpha\":{\"value\":0.7},\"fill_color\":{\"value\":\"#fc4f30\"},\"hatch_alpha\":{\"value\":0.7},\"hatch_color\":{\"value\":\"#fc4f30\"},\"hatch_scale\":{\"value\":12.0},\"hatch_weight\":{\"value\":1.0},\"line_alpha\":{\"value\":0.7},\"line_cap\":{\"value\":\"butt\"},\"line_color\":{\"value\":\"#fc4f30\"},\"line_dash\":{\"value\":[]},\"line_dash_offset\":{\"value\":0},\"line_join\":{\"value\":\"bevel\"},\"line_width\":{\"value\":1},\"marker\":{\"value\":\"circle\"},\"size\":{\"value\":8.94427190999916},\"x\":{\"field\":\"GDP\"},\"y\":{\"field\":\"WHEAT_PPI\"}},\"id\":\"34274\",\"type\":\"Scatter\"},{\"attributes\":{\"coordinates\":null,\"data_source\":{\"id\":\"34077\"},\"glyph\":{\"id\":\"34080\"},\"group\":null,\"hover_glyph\":null,\"muted_glyph\":{\"id\":\"34082\"},\"nonselection_glyph\":{\"id\":\"34081\"},\"selection_glyph\":{\"id\":\"34085\"},\"view\":{\"id\":\"34084\"}},\"id\":\"34083\",\"type\":\"GlyphRenderer\"},{\"attributes\":{\"overlay\":{\"id\":\"34027\"}},\"id\":\"34025\",\"type\":\"BoxZoomTool\"},{\"attributes\":{},\"id\":\"34026\",\"type\":\"ResetTool\"},{\"attributes\":{\"fill_alpha\":{\"value\":0.7},\"fill_color\":{\"value\":\"#8b8b8b\"},\"hatch_alpha\":{\"value\":0.1},\"hatch_color\":{\"value\":\"#8b8b8b\"},\"line_alpha\":{\"value\":0.7},\"line_color\":{\"value\":\"#8b8b8b\"},\"size\":{\"value\":8.94427190999916},\"x\":{\"field\":\"GDP\"},\"y\":{\"field\":\"WHEAT_PPI\"}},\"id\":\"34081\",\"type\":\"Scatter\"},{\"attributes\":{\"bottom_units\":\"screen\",\"coordinates\":null,\"fill_alpha\":0.5,\"fill_color\":\"lightgrey\",\"group\":null,\"left_units\":\"screen\",\"level\":\"overlay\",\"line_alpha\":1.0,\"line_color\":\"black\",\"line_dash\":[4,4],\"line_width\":2,\"right_units\":\"screen\",\"syncable\":false,\"top_units\":\"screen\"},\"id\":\"34027\",\"type\":\"BoxAnnotation\"},{\"attributes\":{},\"id\":\"34276\",\"type\":\"Selection\"},{\"attributes\":{\"angle\":{\"value\":0.0},\"fill_alpha\":{\"value\":0.7},\"fill_color\":{\"value\":\"#17becf\"},\"hatch_alpha\":{\"value\":0.7},\"hatch_color\":{\"value\":\"#17becf\"},\"hatch_scale\":{\"value\":12.0},\"hatch_weight\":{\"value\":1.0},\"line_alpha\":{\"value\":0.7},\"line_cap\":{\"value\":\"butt\"},\"line_color\":{\"value\":\"#17becf\"},\"line_dash\":{\"value\":[]},\"line_dash_offset\":{\"value\":0},\"line_join\":{\"value\":\"bevel\"},\"line_width\":{\"value\":1},\"marker\":{\"value\":\"circle\"},\"size\":{\"value\":8.94427190999916},\"x\":{\"field\":\"GDP\"},\"y\":{\"field\":\"WHEAT_PPI\"}},\"id\":\"34202\",\"type\":\"Scatter\"},{\"attributes\":{\"source\":{\"id\":\"34077\"}},\"id\":\"34084\",\"type\":\"CDSView\"},{\"attributes\":{\"fill_alpha\":{\"value\":0.7},\"fill_color\":{\"value\":\"#e377c2\"},\"hatch_alpha\":{\"value\":0.1},\"hatch_color\":{\"value\":\"#e377c2\"},\"line_alpha\":{\"value\":0.7},\"line_color\":{\"value\":\"#e377c2\"},\"size\":{\"value\":8.94427190999916},\"x\":{\"field\":\"GDP\"},\"y\":{\"field\":\"WHEAT_PPI\"}},\"id\":\"34126\",\"type\":\"Scatter\"},{\"attributes\":{},\"id\":\"34204\",\"type\":\"Selection\"},{\"attributes\":{\"fill_alpha\":{\"value\":0.2},\"fill_color\":{\"value\":\"#e377c2\"},\"hatch_alpha\":{\"value\":0.2},\"hatch_color\":{\"value\":\"#e377c2\"},\"line_alpha\":{\"value\":0.2},\"line_color\":{\"value\":\"#e377c2\"},\"size\":{\"value\":8.94427190999916},\"x\":{\"field\":\"GDP\"},\"y\":{\"field\":\"WHEAT_PPI\"}},\"id\":\"34127\",\"type\":\"Scatter\"},{\"attributes\":{\"angle\":{\"value\":0.0},\"fill_alpha\":{\"value\":0.7},\"fill_color\":{\"value\":\"#8b8b8b\"},\"hatch_alpha\":{\"value\":0.7},\"hatch_color\":{\"value\":\"#8b8b8b\"},\"hatch_scale\":{\"value\":12.0},\"hatch_weight\":{\"value\":1.0},\"line_alpha\":{\"value\":0.7},\"line_cap\":{\"value\":\"butt\"},\"line_color\":{\"value\":\"#8b8b8b\"},\"line_dash\":{\"value\":[]},\"line_dash_offset\":{\"value\":0},\"line_join\":{\"value\":\"bevel\"},\"line_width\":{\"value\":1},\"marker\":{\"value\":\"circle\"},\"size\":{\"value\":8.94427190999916},\"x\":{\"field\":\"GDP\"},\"y\":{\"field\":\"WHEAT_PPI\"}},\"id\":\"34301\",\"type\":\"Scatter\"},{\"attributes\":{},\"id\":\"34042\",\"type\":\"Selection\"},{\"attributes\":{\"coordinates\":null,\"data_source\":{\"id\":\"34275\"},\"glyph\":{\"id\":\"34278\"},\"group\":null,\"hover_glyph\":null,\"muted_glyph\":{\"id\":\"34280\"},\"nonselection_glyph\":{\"id\":\"34279\"},\"selection_glyph\":{\"id\":\"34283\"},\"view\":{\"id\":\"34282\"}},\"id\":\"34281\",\"type\":\"GlyphRenderer\"},{\"attributes\":{\"angle\":{\"value\":0.0},\"fill_alpha\":{\"value\":0.7},\"fill_color\":{\"value\":\"#e377c2\"},\"hatch_alpha\":{\"value\":0.7},\"hatch_color\":{\"value\":\"#e377c2\"},\"hatch_scale\":{\"value\":12.0},\"hatch_weight\":{\"value\":1.0},\"line_alpha\":{\"value\":0.7},\"line_cap\":{\"value\":\"butt\"},\"line_color\":{\"value\":\"#e377c2\"},\"line_dash\":{\"value\":[]},\"line_dash_offset\":{\"value\":0},\"line_join\":{\"value\":\"bevel\"},\"line_width\":{\"value\":1},\"marker\":{\"value\":\"circle\"},\"size\":{\"value\":8.94427190999916},\"x\":{\"field\":\"GDP\"},\"y\":{\"field\":\"WHEAT_PPI\"}},\"id\":\"34130\",\"type\":\"Scatter\"},{\"attributes\":{\"fill_alpha\":{\"value\":0.7},\"fill_color\":{\"value\":\"#8b8b8b\"},\"hatch_alpha\":{\"value\":0.7},\"hatch_color\":{\"value\":\"#8b8b8b\"},\"line_alpha\":{\"value\":0.7},\"line_color\":{\"value\":\"#8b8b8b\"},\"size\":{\"value\":8.94427190999916},\"x\":{\"field\":\"GDP\"},\"y\":{\"field\":\"WHEAT_PPI\"}},\"id\":\"34080\",\"type\":\"Scatter\"},{\"attributes\":{},\"id\":\"34345\",\"type\":\"UnionRenderers\"},{\"attributes\":{\"fill_alpha\":{\"value\":0.7},\"fill_color\":{\"value\":\"#e5ae38\"},\"hatch_alpha\":{\"value\":0.1},\"hatch_color\":{\"value\":\"#e5ae38\"},\"line_alpha\":{\"value\":0.7},\"line_color\":{\"value\":\"#e5ae38\"},\"size\":{\"value\":8.94427190999916},\"x\":{\"field\":\"GDP\"},\"y\":{\"field\":\"WHEAT_PPI\"}},\"id\":\"34279\",\"type\":\"Scatter\"},{\"attributes\":{},\"id\":\"34132\",\"type\":\"Selection\"},{\"attributes\":{\"coordinates\":null,\"data_source\":{\"id\":\"34203\"},\"glyph\":{\"id\":\"34206\"},\"group\":null,\"hover_glyph\":null,\"muted_glyph\":{\"id\":\"34208\"},\"nonselection_glyph\":{\"id\":\"34207\"},\"selection_glyph\":{\"id\":\"34211\"},\"view\":{\"id\":\"34210\"}},\"id\":\"34209\",\"type\":\"GlyphRenderer\"},{\"attributes\":{\"source\":{\"id\":\"34275\"}},\"id\":\"34282\",\"type\":\"CDSView\"},{\"attributes\":{\"fill_alpha\":{\"value\":0.7},\"fill_color\":{\"value\":\"#9467bd\"},\"hatch_alpha\":{\"value\":0.1},\"hatch_color\":{\"value\":\"#9467bd\"},\"line_alpha\":{\"value\":0.7},\"line_color\":{\"value\":\"#9467bd\"},\"size\":{\"value\":8.94427190999916},\"x\":{\"field\":\"GDP\"},\"y\":{\"field\":\"WHEAT_PPI\"}},\"id\":\"34207\",\"type\":\"Scatter\"},{\"attributes\":{\"children\":[{\"id\":\"33966\"}],\"margin\":[0,0,0,0],\"name\":\"Row129569\",\"sizing_mode\":\"stretch_width\"},\"id\":\"33965\",\"type\":\"Row\"},{\"attributes\":{\"tools\":[{\"id\":\"33974\"},{\"id\":\"34022\"},{\"id\":\"34023\"},{\"id\":\"34024\"},{\"id\":\"34025\"},{\"id\":\"34026\"}]},\"id\":\"34028\",\"type\":\"Toolbar\"},{\"attributes\":{},\"id\":\"34078\",\"type\":\"Selection\"},{\"attributes\":{\"source\":{\"id\":\"34203\"}},\"id\":\"34210\",\"type\":\"CDSView\"},{\"attributes\":{\"coordinates\":null,\"data_source\":{\"id\":\"34131\"},\"glyph\":{\"id\":\"34134\"},\"group\":null,\"hover_glyph\":null,\"muted_glyph\":{\"id\":\"34136\"},\"nonselection_glyph\":{\"id\":\"34135\"},\"selection_glyph\":{\"id\":\"34139\"},\"view\":{\"id\":\"34138\"}},\"id\":\"34137\",\"type\":\"GlyphRenderer\"},{\"attributes\":{\"fill_alpha\":{\"value\":0.2},\"fill_color\":{\"value\":\"#8b8b8b\"},\"hatch_alpha\":{\"value\":0.2},\"hatch_color\":{\"value\":\"#8b8b8b\"},\"line_alpha\":{\"value\":0.2},\"line_color\":{\"value\":\"#8b8b8b\"},\"size\":{\"value\":8.94427190999916},\"x\":{\"field\":\"GDP\"},\"y\":{\"field\":\"WHEAT_PPI\"}},\"id\":\"34082\",\"type\":\"Scatter\"},{\"attributes\":{\"children\":[{\"id\":\"33967\"},{\"id\":\"33971\"}],\"margin\":[0,0,0,0],\"name\":\"Column129568\",\"sizing_mode\":\"stretch_width\"},\"id\":\"33966\",\"type\":\"Column\"},{\"attributes\":{\"angle\":{\"value\":0.0},\"fill_alpha\":{\"value\":0.7},\"fill_color\":{\"value\":\"#8b8b8b\"},\"hatch_alpha\":{\"value\":0.7},\"hatch_color\":{\"value\":\"#8b8b8b\"},\"hatch_scale\":{\"value\":12.0},\"hatch_weight\":{\"value\":1.0},\"line_alpha\":{\"value\":0.7},\"line_cap\":{\"value\":\"butt\"},\"line_color\":{\"value\":\"#8b8b8b\"},\"line_dash\":{\"value\":[]},\"line_dash_offset\":{\"value\":0},\"line_join\":{\"value\":\"bevel\"},\"line_width\":{\"value\":1},\"marker\":{\"value\":\"circle\"},\"size\":{\"value\":8.94427190999916},\"x\":{\"field\":\"GDP\"},\"y\":{\"field\":\"WHEAT_PPI\"}},\"id\":\"34085\",\"type\":\"Scatter\"},{\"attributes\":{\"fill_alpha\":{\"value\":0.7},\"fill_color\":{\"value\":\"#8c564b\"},\"hatch_alpha\":{\"value\":0.1},\"hatch_color\":{\"value\":\"#8c564b\"},\"line_alpha\":{\"value\":0.7},\"line_color\":{\"value\":\"#8c564b\"},\"size\":{\"value\":8.94427190999916},\"x\":{\"field\":\"GDP\"},\"y\":{\"field\":\"WHEAT_PPI\"}},\"id\":\"34135\",\"type\":\"Scatter\"},{\"attributes\":{\"fill_alpha\":{\"value\":0.7},\"fill_color\":{\"value\":\"#e5ae38\"},\"hatch_alpha\":{\"value\":0.7},\"hatch_color\":{\"value\":\"#e5ae38\"},\"line_alpha\":{\"value\":0.7},\"line_color\":{\"value\":\"#e5ae38\"},\"size\":{\"value\":8.94427190999916},\"x\":{\"field\":\"GDP\"},\"y\":{\"field\":\"WHEAT_PPI\"}},\"id\":\"34278\",\"type\":\"Scatter\"},{\"attributes\":{},\"id\":\"34040\",\"type\":\"AllLabels\"},{\"attributes\":{},\"id\":\"34039\",\"type\":\"BasicTickFormatter\"},{\"attributes\":{\"source\":{\"id\":\"34131\"}},\"id\":\"34138\",\"type\":\"CDSView\"},{\"attributes\":{\"fill_alpha\":{\"value\":0.7},\"fill_color\":{\"value\":\"#17becf\"},\"hatch_alpha\":{\"value\":0.1},\"hatch_color\":{\"value\":\"#17becf\"},\"line_alpha\":{\"value\":0.7},\"line_color\":{\"value\":\"#17becf\"},\"size\":{\"value\":8.94427190999916},\"x\":{\"field\":\"GDP\"},\"y\":{\"field\":\"WHEAT_PPI\"}},\"id\":\"34090\",\"type\":\"Scatter\"},{\"attributes\":{\"fill_alpha\":{\"value\":0.2},\"fill_color\":{\"value\":\"#1f77b4\"},\"hatch_alpha\":{\"value\":0.2},\"hatch_color\":{\"value\":\"#1f77b4\"},\"line_alpha\":{\"value\":0.2},\"line_color\":{\"value\":\"#1f77b4\"},\"size\":{\"value\":8.94427190999916},\"x\":{\"field\":\"GDP\"},\"y\":{\"field\":\"WHEAT_PPI\"}},\"id\":\"34226\",\"type\":\"Scatter\"},{\"attributes\":{\"fill_alpha\":{\"value\":0.7},\"fill_color\":{\"value\":\"#9467bd\"},\"hatch_alpha\":{\"value\":0.7},\"hatch_color\":{\"value\":\"#9467bd\"},\"line_alpha\":{\"value\":0.7},\"line_color\":{\"value\":\"#9467bd\"},\"size\":{\"value\":8.94427190999916},\"x\":{\"field\":\"GDP\"},\"y\":{\"field\":\"WHEAT_PPI\"}},\"id\":\"34206\",\"type\":\"Scatter\"},{\"attributes\":{},\"id\":\"34347\",\"type\":\"UnionRenderers\"},{\"attributes\":{\"data\":{\"AREA\":[\"Czechia\"],\"GDP\":{\"__ndarray__\":\"GePD7A2+30A=\",\"dtype\":\"float64\",\"order\":\"little\",\"shape\":[1]},\"WHEAT_PPI\":{\"__ndarray__\":\"hetRuB5lXUA=\",\"dtype\":\"float64\",\"order\":\"little\",\"shape\":[1]}},\"selected\":{\"id\":\"34096\"},\"selection_policy\":{\"id\":\"34339\"}},\"id\":\"34095\",\"type\":\"ColumnDataSource\"},{\"attributes\":{\"fill_alpha\":{\"value\":0.7},\"fill_color\":{\"value\":\"#30a2da\"},\"hatch_alpha\":{\"value\":0.7},\"hatch_color\":{\"value\":\"#30a2da\"},\"line_alpha\":{\"value\":0.7},\"line_color\":{\"value\":\"#30a2da\"},\"size\":{\"value\":8.94427190999916},\"x\":{\"field\":\"GDP\"},\"y\":{\"field\":\"WHEAT_PPI\"}},\"id\":\"34044\",\"type\":\"Scatter\"},{\"attributes\":{\"data\":{\"AREA\":[\"France\"],\"GDP\":{\"__ndarray__\":\"MxZN5wGa40A=\",\"dtype\":\"float64\",\"order\":\"little\",\"shape\":[1]},\"WHEAT_PPI\":{\"__ndarray__\":\"rkfhehReWkA=\",\"dtype\":\"float64\",\"order\":\"little\",\"shape\":[1]}},\"selected\":{\"id\":\"34132\"},\"selection_policy\":{\"id\":\"34347\"}},\"id\":\"34131\",\"type\":\"ColumnDataSource\"},{\"attributes\":{\"angle\":{\"value\":0.0},\"fill_alpha\":{\"value\":0.7},\"fill_color\":{\"value\":\"#bcbd22\"},\"hatch_alpha\":{\"value\":0.7},\"hatch_color\":{\"value\":\"#bcbd22\"},\"hatch_scale\":{\"value\":12.0},\"hatch_weight\":{\"value\":1.0},\"line_alpha\":{\"value\":0.7},\"line_cap\":{\"value\":\"butt\"},\"line_color\":{\"value\":\"#bcbd22\"},\"line_dash\":{\"value\":[]},\"line_dash_offset\":{\"value\":0},\"line_join\":{\"value\":\"bevel\"},\"line_width\":{\"value\":1},\"marker\":{\"value\":\"circle\"},\"size\":{\"value\":8.94427190999916},\"x\":{\"field\":\"GDP\"},\"y\":{\"field\":\"WHEAT_PPI\"}},\"id\":\"34148\",\"type\":\"Scatter\"},{\"attributes\":{\"fill_alpha\":{\"value\":0.2},\"fill_color\":{\"value\":\"#17becf\"},\"hatch_alpha\":{\"value\":0.2},\"hatch_color\":{\"value\":\"#17becf\"},\"line_alpha\":{\"value\":0.2},\"line_color\":{\"value\":\"#17becf\"},\"size\":{\"value\":8.94427190999916},\"x\":{\"field\":\"GDP\"},\"y\":{\"field\":\"WHEAT_PPI\"}},\"id\":\"34091\",\"type\":\"Scatter\"},{\"attributes\":{\"fill_alpha\":{\"value\":0.7},\"fill_color\":{\"value\":\"#8c564b\"},\"hatch_alpha\":{\"value\":0.7},\"hatch_color\":{\"value\":\"#8c564b\"},\"line_alpha\":{\"value\":0.7},\"line_color\":{\"value\":\"#8c564b\"},\"size\":{\"value\":8.94427190999916},\"x\":{\"field\":\"GDP\"},\"y\":{\"field\":\"WHEAT_PPI\"}},\"id\":\"34134\",\"type\":\"Scatter\"},{\"attributes\":{\"fill_alpha\":{\"value\":0.2},\"fill_color\":{\"value\":\"#e5ae38\"},\"hatch_alpha\":{\"value\":0.2},\"hatch_color\":{\"value\":\"#e5ae38\"},\"line_alpha\":{\"value\":0.2},\"line_color\":{\"value\":\"#e5ae38\"},\"size\":{\"value\":8.94427190999916},\"x\":{\"field\":\"GDP\"},\"y\":{\"field\":\"WHEAT_PPI\"}},\"id\":\"34280\",\"type\":\"Scatter\"},{\"attributes\":{\"angle\":{\"value\":0.0},\"fill_alpha\":{\"value\":0.7},\"fill_color\":{\"value\":\"#e5ae38\"},\"hatch_alpha\":{\"value\":0.7},\"hatch_color\":{\"value\":\"#e5ae38\"},\"hatch_scale\":{\"value\":12.0},\"hatch_weight\":{\"value\":1.0},\"line_alpha\":{\"value\":0.7},\"line_cap\":{\"value\":\"butt\"},\"line_color\":{\"value\":\"#e5ae38\"},\"line_dash\":{\"value\":[]},\"line_dash_offset\":{\"value\":0},\"line_join\":{\"value\":\"bevel\"},\"line_width\":{\"value\":1},\"marker\":{\"value\":\"circle\"},\"size\":{\"value\":8.94427190999916},\"x\":{\"field\":\"GDP\"},\"y\":{\"field\":\"WHEAT_PPI\"}},\"id\":\"34283\",\"type\":\"Scatter\"},{\"attributes\":{\"coordinates\":null,\"data_source\":{\"id\":\"34086\"},\"glyph\":{\"id\":\"34089\"},\"group\":null,\"hover_glyph\":null,\"muted_glyph\":{\"id\":\"34091\"},\"nonselection_glyph\":{\"id\":\"34090\"},\"selection_glyph\":{\"id\":\"34094\"},\"view\":{\"id\":\"34093\"}},\"id\":\"34092\",\"type\":\"GlyphRenderer\"},{\"attributes\":{\"data\":{\"AREA\":[\"Portugal\"],\"GDP\":{\"__ndarray__\":\"pHA9CpQR3EA=\",\"dtype\":\"float64\",\"order\":\"little\",\"shape\":[1]},\"WHEAT_PPI\":{\"__ndarray__\":\"hetRuB51WUA=\",\"dtype\":\"float64\",\"order\":\"little\",\"shape\":[1]}},\"selected\":{\"id\":\"34249\"},\"selection_policy\":{\"id\":\"34373\"}},\"id\":\"34248\",\"type\":\"ColumnDataSource\"},{\"attributes\":{\"data\":{\"AREA\":[\"Belgium\"],\"GDP\":{\"__ndarray__\":\"jq7S3T3w5UA=\",\"dtype\":\"float64\",\"order\":\"little\",\"shape\":[1]},\"WHEAT_PPI\":{\"__ndarray__\":\"AAAAAABQW0A=\",\"dtype\":\"float64\",\"order\":\"little\",\"shape\":[1]}},\"selected\":{\"id\":\"34051\"},\"selection_policy\":{\"id\":\"34329\"}},\"id\":\"34050\",\"type\":\"ColumnDataSource\"},{\"attributes\":{\"fill_alpha\":{\"value\":0.7},\"fill_color\":{\"value\":\"#17becf\"},\"hatch_alpha\":{\"value\":0.7},\"hatch_color\":{\"value\":\"#17becf\"},\"line_alpha\":{\"value\":0.7},\"line_color\":{\"value\":\"#17becf\"},\"size\":{\"value\":8.94427190999916},\"x\":{\"field\":\"GDP\"},\"y\":{\"field\":\"WHEAT_PPI\"}},\"id\":\"34089\",\"type\":\"Scatter\"},{\"attributes\":{\"fill_alpha\":{\"value\":0.2},\"fill_color\":{\"value\":\"#9467bd\"},\"hatch_alpha\":{\"value\":0.2},\"hatch_color\":{\"value\":\"#9467bd\"},\"line_alpha\":{\"value\":0.2},\"line_color\":{\"value\":\"#9467bd\"},\"size\":{\"value\":8.94427190999916},\"x\":{\"field\":\"GDP\"},\"y\":{\"field\":\"WHEAT_PPI\"}},\"id\":\"34208\",\"type\":\"Scatter\"},{\"attributes\":{\"angle\":{\"value\":0.0},\"fill_alpha\":{\"value\":0.7},\"fill_color\":{\"value\":\"#9467bd\"},\"hatch_alpha\":{\"value\":0.7},\"hatch_color\":{\"value\":\"#9467bd\"},\"hatch_scale\":{\"value\":12.0},\"hatch_weight\":{\"value\":1.0},\"line_alpha\":{\"value\":0.7},\"line_cap\":{\"value\":\"butt\"},\"line_color\":{\"value\":\"#9467bd\"},\"line_dash\":{\"value\":[]},\"line_dash_offset\":{\"value\":0},\"line_join\":{\"value\":\"bevel\"},\"line_width\":{\"value\":1},\"marker\":{\"value\":\"circle\"},\"size\":{\"value\":8.94427190999916},\"x\":{\"field\":\"GDP\"},\"y\":{\"field\":\"WHEAT_PPI\"}},\"id\":\"34211\",\"type\":\"Scatter\"},{\"attributes\":{\"data\":{\"AREA\":[\"Sweden\"],\"GDP\":{\"__ndarray__\":\"chqiihUK50A=\",\"dtype\":\"float64\",\"order\":\"little\",\"shape\":[1]},\"WHEAT_PPI\":{\"__ndarray__\":\"16NwPQpXWkA=\",\"dtype\":\"float64\",\"order\":\"little\",\"shape\":[1]}},\"selected\":{\"id\":\"34294\"},\"selection_policy\":{\"id\":\"34383\"}},\"id\":\"34293\",\"type\":\"ColumnDataSource\"},{\"attributes\":{\"data\":{\"AREA\":[\"Italy\"],\"GDP\":{\"__ndarray__\":\"PUfkO3/P4UA=\",\"dtype\":\"float64\",\"order\":\"little\",\"shape\":[1]},\"WHEAT_PPI\":{\"__ndarray__\":\"9ihcj8JFXkA=\",\"dtype\":\"float64\",\"order\":\"little\",\"shape\":[1]}},\"selected\":{\"id\":\"34177\"},\"selection_policy\":{\"id\":\"34357\"}},\"id\":\"34176\",\"type\":\"ColumnDataSource\"},{\"attributes\":{\"data\":{\"AREA\":[\"Croatia\"],\"GDP\":{\"__ndarray__\":\"HF4QkUzQ1UA=\",\"dtype\":\"float64\",\"order\":\"little\",\"shape\":[1]},\"WHEAT_PPI\":{\"__ndarray__\":\"9ihcj8KFW0A=\",\"dtype\":\"float64\",\"order\":\"little\",\"shape\":[1]}},\"selected\":{\"id\":\"34078\"},\"selection_policy\":{\"id\":\"34335\"}},\"id\":\"34077\",\"type\":\"ColumnDataSource\"},{\"attributes\":{\"fill_alpha\":{\"value\":0.7},\"fill_color\":{\"value\":\"#1f77b4\"},\"hatch_alpha\":{\"value\":0.1},\"hatch_color\":{\"value\":\"#1f77b4\"},\"line_alpha\":{\"value\":0.7},\"line_color\":{\"value\":\"#1f77b4\"},\"size\":{\"value\":8.94427190999916},\"x\":{\"field\":\"GDP\"},\"y\":{\"field\":\"WHEAT_PPI\"}},\"id\":\"34225\",\"type\":\"Scatter\"},{\"attributes\":{\"fill_alpha\":{\"value\":0.2},\"fill_color\":{\"value\":\"#8c564b\"},\"hatch_alpha\":{\"value\":0.2},\"hatch_color\":{\"value\":\"#8c564b\"},\"line_alpha\":{\"value\":0.2},\"line_color\":{\"value\":\"#8c564b\"},\"size\":{\"value\":8.94427190999916},\"x\":{\"field\":\"GDP\"},\"y\":{\"field\":\"WHEAT_PPI\"}},\"id\":\"34136\",\"type\":\"Scatter\"},{\"attributes\":{\"coordinates\":null,\"data_source\":{\"id\":\"34284\"},\"glyph\":{\"id\":\"34287\"},\"group\":null,\"hover_glyph\":null,\"muted_glyph\":{\"id\":\"34289\"},\"nonselection_glyph\":{\"id\":\"34288\"},\"selection_glyph\":{\"id\":\"34292\"},\"view\":{\"id\":\"34291\"}},\"id\":\"34290\",\"type\":\"GlyphRenderer\"},{\"attributes\":{\"angle\":{\"value\":0.0},\"fill_alpha\":{\"value\":0.7},\"fill_color\":{\"value\":\"#8c564b\"},\"hatch_alpha\":{\"value\":0.7},\"hatch_color\":{\"value\":\"#8c564b\"},\"hatch_scale\":{\"value\":12.0},\"hatch_weight\":{\"value\":1.0},\"line_alpha\":{\"value\":0.7},\"line_cap\":{\"value\":\"butt\"},\"line_color\":{\"value\":\"#8c564b\"},\"line_dash\":{\"value\":[]},\"line_dash_offset\":{\"value\":0},\"line_join\":{\"value\":\"bevel\"},\"line_width\":{\"value\":1},\"marker\":{\"value\":\"circle\"},\"size\":{\"value\":8.94427190999916},\"x\":{\"field\":\"GDP\"},\"y\":{\"field\":\"WHEAT_PPI\"}},\"id\":\"34139\",\"type\":\"Scatter\"},{\"attributes\":{},\"id\":\"34349\",\"type\":\"UnionRenderers\"},{\"attributes\":{},\"id\":\"34096\",\"type\":\"Selection\"},{\"attributes\":{\"fill_alpha\":{\"value\":0.7},\"fill_color\":{\"value\":\"#6d904f\"},\"hatch_alpha\":{\"value\":0.1},\"hatch_color\":{\"value\":\"#6d904f\"},\"line_alpha\":{\"value\":0.7},\"line_color\":{\"value\":\"#6d904f\"},\"size\":{\"value\":8.94427190999916},\"x\":{\"field\":\"GDP\"},\"y\":{\"field\":\"WHEAT_PPI\"}},\"id\":\"34288\",\"type\":\"Scatter\"},{\"attributes\":{\"coordinates\":null,\"data_source\":{\"id\":\"34221\"},\"glyph\":{\"id\":\"34224\"},\"group\":null,\"hover_glyph\":null,\"muted_glyph\":{\"id\":\"34226\"},\"nonselection_glyph\":{\"id\":\"34225\"},\"selection_glyph\":{\"id\":\"34229\"},\"view\":{\"id\":\"34228\"}},\"id\":\"34227\",\"type\":\"GlyphRenderer\"},{\"attributes\":{\"source\":{\"id\":\"34140\"}},\"id\":\"34147\",\"type\":\"CDSView\"},{\"attributes\":{\"coordinates\":null,\"data_source\":{\"id\":\"34212\"},\"glyph\":{\"id\":\"34215\"},\"group\":null,\"hover_glyph\":null,\"muted_glyph\":{\"id\":\"34217\"},\"nonselection_glyph\":{\"id\":\"34216\"},\"selection_glyph\":{\"id\":\"34220\"},\"view\":{\"id\":\"34219\"}},\"id\":\"34218\",\"type\":\"GlyphRenderer\"},{\"attributes\":{\"source\":{\"id\":\"34284\"}},\"id\":\"34291\",\"type\":\"CDSView\"},{\"attributes\":{\"fill_alpha\":{\"value\":0.7},\"fill_color\":{\"value\":\"#d62728\"},\"hatch_alpha\":{\"value\":0.1},\"hatch_color\":{\"value\":\"#d62728\"},\"line_alpha\":{\"value\":0.7},\"line_color\":{\"value\":\"#d62728\"},\"size\":{\"value\":8.94427190999916},\"x\":{\"field\":\"GDP\"},\"y\":{\"field\":\"WHEAT_PPI\"}},\"id\":\"34216\",\"type\":\"Scatter\"},{\"attributes\":{\"fill_alpha\":{\"value\":0.2},\"fill_color\":{\"value\":\"#30a2da\"},\"hatch_alpha\":{\"value\":0.2},\"hatch_color\":{\"value\":\"#30a2da\"},\"line_alpha\":{\"value\":0.2},\"line_color\":{\"value\":\"#30a2da\"},\"size\":{\"value\":8.94427190999916},\"x\":{\"field\":\"GDP\"},\"y\":{\"field\":\"WHEAT_PPI\"}},\"id\":\"34046\",\"type\":\"Scatter\"},{\"attributes\":{\"angle\":{\"value\":0.0},\"fill_alpha\":{\"value\":0.7},\"fill_color\":{\"value\":\"#30a2da\"},\"hatch_alpha\":{\"value\":0.7},\"hatch_color\":{\"value\":\"#30a2da\"},\"hatch_scale\":{\"value\":12.0},\"hatch_weight\":{\"value\":1.0},\"line_alpha\":{\"value\":0.7},\"line_cap\":{\"value\":\"butt\"},\"line_color\":{\"value\":\"#30a2da\"},\"line_dash\":{\"value\":[]},\"line_dash_offset\":{\"value\":0},\"line_join\":{\"value\":\"bevel\"},\"line_width\":{\"value\":1},\"marker\":{\"value\":\"circle\"},\"size\":{\"value\":8.94427190999916},\"x\":{\"field\":\"GDP\"},\"y\":{\"field\":\"WHEAT_PPI\"}},\"id\":\"34049\",\"type\":\"Scatter\"},{\"attributes\":{},\"id\":\"34087\",\"type\":\"Selection\"},{\"attributes\":{\"fill_alpha\":{\"value\":0.2},\"fill_color\":{\"value\":\"#bcbd22\"},\"hatch_alpha\":{\"value\":0.2},\"hatch_color\":{\"value\":\"#bcbd22\"},\"line_alpha\":{\"value\":0.2},\"line_color\":{\"value\":\"#bcbd22\"},\"size\":{\"value\":8.94427190999916},\"x\":{\"field\":\"GDP\"},\"y\":{\"field\":\"WHEAT_PPI\"}},\"id\":\"34145\",\"type\":\"Scatter\"},{\"attributes\":{\"angle\":{\"value\":0.0},\"fill_alpha\":{\"value\":0.7},\"fill_color\":{\"value\":\"#17becf\"},\"hatch_alpha\":{\"value\":0.7},\"hatch_color\":{\"value\":\"#17becf\"},\"hatch_scale\":{\"value\":12.0},\"hatch_weight\":{\"value\":1.0},\"line_alpha\":{\"value\":0.7},\"line_cap\":{\"value\":\"butt\"},\"line_color\":{\"value\":\"#17becf\"},\"line_dash\":{\"value\":[]},\"line_dash_offset\":{\"value\":0},\"line_join\":{\"value\":\"bevel\"},\"line_width\":{\"value\":1},\"marker\":{\"value\":\"circle\"},\"size\":{\"value\":8.94427190999916},\"x\":{\"field\":\"GDP\"},\"y\":{\"field\":\"WHEAT_PPI\"}},\"id\":\"34094\",\"type\":\"Scatter\"},{\"attributes\":{\"source\":{\"id\":\"34212\"}},\"id\":\"34219\",\"type\":\"CDSView\"},{\"attributes\":{\"source\":{\"id\":\"34086\"}},\"id\":\"34093\",\"type\":\"CDSView\"},{\"attributes\":{},\"id\":\"34294\",\"type\":\"Selection\"},{\"attributes\":{\"fill_alpha\":{\"value\":0.7},\"fill_color\":{\"value\":\"#30a2da\"},\"hatch_alpha\":{\"value\":0.1},\"hatch_color\":{\"value\":\"#30a2da\"},\"line_alpha\":{\"value\":0.7},\"line_color\":{\"value\":\"#30a2da\"},\"size\":{\"value\":8.94427190999916},\"x\":{\"field\":\"GDP\"},\"y\":{\"field\":\"WHEAT_PPI\"}},\"id\":\"34045\",\"type\":\"Scatter\"},{\"attributes\":{\"fill_alpha\":{\"value\":0.7},\"fill_color\":{\"value\":\"#6d904f\"},\"hatch_alpha\":{\"value\":0.7},\"hatch_color\":{\"value\":\"#6d904f\"},\"line_alpha\":{\"value\":0.7},\"line_color\":{\"value\":\"#6d904f\"},\"size\":{\"value\":8.94427190999916},\"x\":{\"field\":\"GDP\"},\"y\":{\"field\":\"WHEAT_PPI\"}},\"id\":\"34287\",\"type\":\"Scatter\"},{\"attributes\":{\"data\":{\"AREA\":[\"Latvia\"],\"GDP\":{\"__ndarray__\":\"2VvK+Y1A10A=\",\"dtype\":\"float64\",\"order\":\"little\",\"shape\":[1]},\"WHEAT_PPI\":{\"__ndarray__\":\"CtejcD2KWkA=\",\"dtype\":\"float64\",\"order\":\"little\",\"shape\":[1]}},\"selected\":{\"id\":\"34195\"},\"selection_policy\":{\"id\":\"34361\"}},\"id\":\"34194\",\"type\":\"ColumnDataSource\"},{\"attributes\":{\"source\":{\"id\":\"34221\"}},\"id\":\"34228\",\"type\":\"CDSView\"},{\"attributes\":{},\"id\":\"34351\",\"type\":\"UnionRenderers\"},{\"attributes\":{\"fill_alpha\":{\"value\":0.7},\"fill_color\":{\"value\":\"#9467bd\"},\"hatch_alpha\":{\"value\":0.7},\"hatch_color\":{\"value\":\"#9467bd\"},\"line_alpha\":{\"value\":0.7},\"line_color\":{\"value\":\"#9467bd\"},\"size\":{\"value\":8.94427190999916},\"x\":{\"field\":\"GDP\"},\"y\":{\"field\":\"WHEAT_PPI\"}},\"id\":\"34098\",\"type\":\"Scatter\"},{\"attributes\":{\"fill_alpha\":{\"value\":0.7},\"fill_color\":{\"value\":\"#d62728\"},\"hatch_alpha\":{\"value\":0.7},\"hatch_color\":{\"value\":\"#d62728\"},\"line_alpha\":{\"value\":0.7},\"line_color\":{\"value\":\"#d62728\"},\"size\":{\"value\":8.94427190999916},\"x\":{\"field\":\"GDP\"},\"y\":{\"field\":\"WHEAT_PPI\"}},\"id\":\"34215\",\"type\":\"Scatter\"},{\"attributes\":{},\"id\":\"34051\",\"type\":\"Selection\"},{\"attributes\":{\"fill_alpha\":{\"value\":0.2},\"fill_color\":{\"value\":\"#e5ae38\"},\"hatch_alpha\":{\"value\":0.2},\"hatch_color\":{\"value\":\"#e5ae38\"},\"line_alpha\":{\"value\":0.2},\"line_color\":{\"value\":\"#e5ae38\"},\"size\":{\"value\":8.94427190999916},\"x\":{\"field\":\"GDP\"},\"y\":{\"field\":\"WHEAT_PPI\"}},\"id\":\"34064\",\"type\":\"Scatter\"},{\"attributes\":{},\"id\":\"34285\",\"type\":\"Selection\"},{\"attributes\":{},\"id\":\"34150\",\"type\":\"Selection\"},{\"attributes\":{\"coordinates\":null,\"data_source\":{\"id\":\"34041\"},\"glyph\":{\"id\":\"34044\"},\"group\":null,\"hover_glyph\":null,\"muted_glyph\":{\"id\":\"34046\"},\"nonselection_glyph\":{\"id\":\"34045\"},\"selection_glyph\":{\"id\":\"34049\"},\"view\":{\"id\":\"34048\"}},\"id\":\"34047\",\"type\":\"GlyphRenderer\"},{\"attributes\":{\"fill_alpha\":{\"value\":0.7},\"fill_color\":{\"value\":\"#9467bd\"},\"hatch_alpha\":{\"value\":0.1},\"hatch_color\":{\"value\":\"#9467bd\"},\"line_alpha\":{\"value\":0.7},\"line_color\":{\"value\":\"#9467bd\"},\"size\":{\"value\":8.94427190999916},\"x\":{\"field\":\"GDP\"},\"y\":{\"field\":\"WHEAT_PPI\"}},\"id\":\"34099\",\"type\":\"Scatter\"},{\"attributes\":{\"fill_alpha\":{\"value\":0.2},\"fill_color\":{\"value\":\"#6d904f\"},\"hatch_alpha\":{\"value\":0.2},\"hatch_color\":{\"value\":\"#6d904f\"},\"line_alpha\":{\"value\":0.2},\"line_color\":{\"value\":\"#6d904f\"},\"size\":{\"value\":8.94427190999916},\"x\":{\"field\":\"GDP\"},\"y\":{\"field\":\"WHEAT_PPI\"}},\"id\":\"34289\",\"type\":\"Scatter\"},{\"attributes\":{\"children\":[{\"id\":\"33968\"},{\"id\":\"33970\"}],\"margin\":[0,0,0,0],\"name\":\"Row129567\",\"sizing_mode\":\"stretch_width\"},\"id\":\"33967\",\"type\":\"Row\"},{\"attributes\":{\"data\":{\"AREA\":[\"Canada\"],\"GDP\":{\"__ndarray__\":\"XMzPDTlX5kA=\",\"dtype\":\"float64\",\"order\":\"little\",\"shape\":[1]},\"WHEAT_PPI\":{\"__ndarray__\":\"CtejcD2aV0A=\",\"dtype\":\"float64\",\"order\":\"little\",\"shape\":[1]}},\"selected\":{\"id\":\"34069\"},\"selection_policy\":{\"id\":\"34333\"}},\"id\":\"34068\",\"type\":\"ColumnDataSource\"},{\"attributes\":{\"angle\":{\"value\":0.0},\"fill_alpha\":{\"value\":0.7},\"fill_color\":{\"value\":\"#6d904f\"},\"hatch_alpha\":{\"value\":0.7},\"hatch_color\":{\"value\":\"#6d904f\"},\"hatch_scale\":{\"value\":12.0},\"hatch_weight\":{\"value\":1.0},\"line_alpha\":{\"value\":0.7},\"line_cap\":{\"value\":\"butt\"},\"line_color\":{\"value\":\"#6d904f\"},\"line_dash\":{\"value\":[]},\"line_dash_offset\":{\"value\":0},\"line_join\":{\"value\":\"bevel\"},\"line_width\":{\"value\":1},\"marker\":{\"value\":\"circle\"},\"size\":{\"value\":8.94427190999916},\"x\":{\"field\":\"GDP\"},\"y\":{\"field\":\"WHEAT_PPI\"}},\"id\":\"34292\",\"type\":\"Scatter\"},{\"attributes\":{},\"id\":\"34105\",\"type\":\"Selection\"},{\"attributes\":{\"fill_alpha\":{\"value\":0.7},\"fill_color\":{\"value\":\"#fc4f30\"},\"hatch_alpha\":{\"value\":0.7},\"hatch_color\":{\"value\":\"#fc4f30\"},\"line_alpha\":{\"value\":0.7},\"line_color\":{\"value\":\"#fc4f30\"},\"size\":{\"value\":8.94427190999916},\"x\":{\"field\":\"GDP\"},\"y\":{\"field\":\"WHEAT_PPI\"}},\"id\":\"34053\",\"type\":\"Scatter\"},{\"attributes\":{\"data\":{\"AREA\":[\"Germany\"],\"GDP\":{\"__ndarray__\":\"d50N+Wj05kA=\",\"dtype\":\"float64\",\"order\":\"little\",\"shape\":[1]},\"WHEAT_PPI\":{\"__ndarray__\":\"KVyPwvXoWkA=\",\"dtype\":\"float64\",\"order\":\"little\",\"shape\":[1]}},\"selected\":{\"id\":\"34141\"},\"selection_policy\":{\"id\":\"34349\"}},\"id\":\"34140\",\"type\":\"ColumnDataSource\"},{\"attributes\":{},\"id\":\"34213\",\"type\":\"Selection\"},{\"attributes\":{\"data\":{\"AREA\":[\"Greece\"],\"GDP\":{\"__ndarray__\":\"AcKHEkwA2kA=\",\"dtype\":\"float64\",\"order\":\"little\",\"shape\":[1]},\"WHEAT_PPI\":{\"__ndarray__\":\"hetRuB7VWkA=\",\"dtype\":\"float64\",\"order\":\"little\",\"shape\":[1]}},\"selected\":{\"id\":\"34150\"},\"selection_policy\":{\"id\":\"34351\"}},\"id\":\"34149\",\"type\":\"ColumnDataSource\"},{\"attributes\":{\"fill_alpha\":{\"value\":0.2},\"fill_color\":{\"value\":\"#d62728\"},\"hatch_alpha\":{\"value\":0.2},\"hatch_color\":{\"value\":\"#d62728\"},\"line_alpha\":{\"value\":0.2},\"line_color\":{\"value\":\"#d62728\"},\"size\":{\"value\":8.94427190999916},\"x\":{\"field\":\"GDP\"},\"y\":{\"field\":\"WHEAT_PPI\"}},\"id\":\"34217\",\"type\":\"Scatter\"},{\"attributes\":{\"fill_alpha\":{\"value\":0.7},\"fill_color\":{\"value\":\"#8b8b8b\"},\"hatch_alpha\":{\"value\":0.7},\"hatch_color\":{\"value\":\"#8b8b8b\"},\"line_alpha\":{\"value\":0.7},\"line_color\":{\"value\":\"#8b8b8b\"},\"size\":{\"value\":8.94427190999916},\"x\":{\"field\":\"GDP\"},\"y\":{\"field\":\"WHEAT_PPI\"}},\"id\":\"34296\",\"type\":\"Scatter\"},{\"attributes\":{\"source\":{\"id\":\"34041\"}},\"id\":\"34048\",\"type\":\"CDSView\"},{\"attributes\":{\"fill_alpha\":{\"value\":0.2},\"fill_color\":{\"value\":\"#9467bd\"},\"hatch_alpha\":{\"value\":0.2},\"hatch_color\":{\"value\":\"#9467bd\"},\"line_alpha\":{\"value\":0.2},\"line_color\":{\"value\":\"#9467bd\"},\"size\":{\"value\":8.94427190999916},\"x\":{\"field\":\"GDP\"},\"y\":{\"field\":\"WHEAT_PPI\"}},\"id\":\"34100\",\"type\":\"Scatter\"},{\"attributes\":{},\"id\":\"34303\",\"type\":\"Selection\"},{\"attributes\":{\"angle\":{\"value\":0.0},\"fill_alpha\":{\"value\":0.7},\"fill_color\":{\"value\":\"#d62728\"},\"hatch_alpha\":{\"value\":0.7},\"hatch_color\":{\"value\":\"#d62728\"},\"hatch_scale\":{\"value\":12.0},\"hatch_weight\":{\"value\":1.0},\"line_alpha\":{\"value\":0.7},\"line_cap\":{\"value\":\"butt\"},\"line_color\":{\"value\":\"#d62728\"},\"line_dash\":{\"value\":[]},\"line_dash_offset\":{\"value\":0},\"line_join\":{\"value\":\"bevel\"},\"line_width\":{\"value\":1},\"marker\":{\"value\":\"circle\"},\"size\":{\"value\":8.94427190999916},\"x\":{\"field\":\"GDP\"},\"y\":{\"field\":\"WHEAT_PPI\"}},\"id\":\"34220\",\"type\":\"Scatter\"},{\"attributes\":{\"children\":[{\"id\":\"34005\"}],\"margin\":[0,0,0,0],\"name\":\"Row128849\",\"sizing_mode\":\"stretch_width\"},\"id\":\"33971\",\"type\":\"Row\"},{\"attributes\":{\"data\":{\"AREA\":[\"Netherlands\"],\"GDP\":{\"__ndarray__\":\"td0EXycK6EA=\",\"dtype\":\"float64\",\"order\":\"little\",\"shape\":[1]},\"WHEAT_PPI\":{\"__ndarray__\":\"ZmZmZmaWWUA=\",\"dtype\":\"float64\",\"order\":\"little\",\"shape\":[1]}},\"selected\":{\"id\":\"34231\"},\"selection_policy\":{\"id\":\"34369\"}},\"id\":\"34230\",\"type\":\"ColumnDataSource\"},{\"attributes\":{},\"id\":\"34036\",\"type\":\"BasicTickFormatter\"},{\"attributes\":{\"coordinates\":null,\"data_source\":{\"id\":\"34140\"},\"glyph\":{\"id\":\"34143\"},\"group\":null,\"hover_glyph\":null,\"muted_glyph\":{\"id\":\"34145\"},\"nonselection_glyph\":{\"id\":\"34144\"},\"selection_glyph\":{\"id\":\"34148\"},\"view\":{\"id\":\"34147\"}},\"id\":\"34146\",\"type\":\"GlyphRenderer\"},{\"attributes\":{\"coordinates\":null,\"data_source\":{\"id\":\"34059\"},\"glyph\":{\"id\":\"34062\"},\"group\":null,\"hover_glyph\":null,\"muted_glyph\":{\"id\":\"34064\"},\"nonselection_glyph\":{\"id\":\"34063\"},\"selection_glyph\":{\"id\":\"34067\"},\"view\":{\"id\":\"34066\"}},\"id\":\"34065\",\"type\":\"GlyphRenderer\"},{\"attributes\":{\"data\":{\"AREA\":[\"Romania\"],\"GDP\":{\"__ndarray__\":\"1TxH5HUq1EA=\",\"dtype\":\"float64\",\"order\":\"little\",\"shape\":[1]},\"WHEAT_PPI\":{\"__ndarray__\":\"w/UoXI/CWkA=\",\"dtype\":\"float64\",\"order\":\"little\",\"shape\":[1]}},\"selected\":{\"id\":\"34258\"},\"selection_policy\":{\"id\":\"34375\"}},\"id\":\"34257\",\"type\":\"ColumnDataSource\"},{\"attributes\":{\"coordinates\":null,\"data_source\":{\"id\":\"34095\"},\"glyph\":{\"id\":\"34098\"},\"group\":null,\"hover_glyph\":null,\"muted_glyph\":{\"id\":\"34100\"},\"nonselection_glyph\":{\"id\":\"34099\"},\"selection_glyph\":{\"id\":\"34103\"},\"view\":{\"id\":\"34102\"}},\"id\":\"34101\",\"type\":\"GlyphRenderer\"},{\"attributes\":{\"children\":[{\"id\":\"33969\"}],\"margin\":[0,0,0,0],\"name\":\"Column128844\",\"sizing_mode\":\"stretch_width\"},\"id\":\"33968\",\"type\":\"Column\"},{\"attributes\":{\"data\":{\"AREA\":[\"Bulgaria\"],\"GDP\":{\"__ndarray__\":\"16AvvTQ00UA=\",\"dtype\":\"float64\",\"order\":\"little\",\"shape\":[1]},\"WHEAT_PPI\":{\"__ndarray__\":\"uB6F61FYWkA=\",\"dtype\":\"float64\",\"order\":\"little\",\"shape\":[1]}},\"selected\":{\"id\":\"34060\"},\"selection_policy\":{\"id\":\"34331\"}},\"id\":\"34059\",\"type\":\"ColumnDataSource\"},{\"attributes\":{\"data\":{\"AREA\":[\"Austria\"],\"GDP\":{\"__ndarray__\":\"NufgGbHV50A=\",\"dtype\":\"float64\",\"order\":\"little\",\"shape\":[1]},\"WHEAT_PPI\":{\"__ndarray__\":\"mpmZmZkpWkA=\",\"dtype\":\"float64\",\"order\":\"little\",\"shape\":[1]}},\"selected\":{\"id\":\"34042\"},\"selection_policy\":{\"id\":\"34327\"}},\"id\":\"34041\",\"type\":\"ColumnDataSource\"}],\"root_ids\":[\"33965\",\"35160\"]},\"title\":\"Bokeh Application\",\"version\":\"2.4.2\"}};\n",
       "    var render_items = [{\"docid\":\"7e18b13b-c264-4eb5-84b1-01cfd734ba56\",\"root_ids\":[\"33965\"],\"roots\":{\"33965\":\"a9fb88e9-a108-4f30-a31e-5705b796e8e8\"}}];\n",
       "    root.Bokeh.embed.embed_items_notebook(docs_json, render_items);\n",
       "  }\n",
       "  if (root.Bokeh !== undefined && root.Bokeh.Panel !== undefined && ( root['Tabulator'] !== undefined)) {\n",
       "    embed_document(root);\n",
       "  } else {\n",
       "    var attempts = 0;\n",
       "    var timer = setInterval(function(root) {\n",
       "      if (root.Bokeh !== undefined && root.Bokeh.Panel !== undefined && (root['Tabulator'] !== undefined)) {\n",
       "        clearInterval(timer);\n",
       "        embed_document(root);\n",
       "      } else if (document.readyState == \"complete\") {\n",
       "        attempts++;\n",
       "        if (attempts > 200) {\n",
       "          clearInterval(timer);\n",
       "          console.log(\"Bokeh: ERROR: Unable to run BokehJS code because BokehJS library is missing\");\n",
       "        }\n",
       "      }\n",
       "    }, 25, root)\n",
       "  }\n",
       "})(window);</script>"
      ],
      "text/plain": [
       "<hvplot.interactive.Interactive at 0x7f7df22235b0>"
      ]
     },
     "execution_count": 190,
     "metadata": {
      "application/vnd.holoviews_exec.v0+json": {
       "id": "33965"
      }
     },
     "output_type": "execute_result"
    }
   ],
   "source": [
    "ppi_vs_gdp_scatterplot = ppi_vs_gdp_scatterplot_pipeline.hvplot(x='GDP', \n",
    "                                                                y='WHEAT_PPI', \n",
    "                                                                by='AREA', \n",
    "                                                                size=80, \n",
    "                                                                kind=\"scatter\", \n",
    "                                                                alpha=0.7,\n",
    "                                                                legend=False, \n",
    "                                                                height=500, \n",
    "                                                                width=500)\n",
    "ppi_vs_gdp_scatterplot"
   ]
  },
  {
   "cell_type": "code",
   "execution_count": 225,
   "id": "6bfb1026",
   "metadata": {},
   "outputs": [
    {
     "data": {
      "text/plain": [
       "['Ireland']"
      ]
     },
     "execution_count": 225,
     "metadata": {},
     "output_type": "execute_result"
    }
   ],
   "source": [
    "country_list = df_gdp_ppi.AREA.unique().tolist()\n",
    "# print(country_list)\n",
    "multi_choice_country = pn.widgets.MultiChoice(name='Select Countries', value=['Ireland'],\n",
    "    options=country_list)\n",
    "multi_choice_country.value"
   ]
  },
  {
   "cell_type": "code",
   "execution_count": 226,
   "id": "a1cabc3e",
   "metadata": {
    "scrolled": true
   },
   "outputs": [
    {
     "data": {},
     "metadata": {},
     "output_type": "display_data"
    },
    {
     "data": {
      "application/vnd.holoviews_exec.v0+json": "",
      "text/html": [
       "<div id='57314'>\n",
       "\n",
       "\n",
       "\n",
       "\n",
       "\n",
       "  <div class=\"bk-root\" id=\"60a9f5cf-e228-414c-be43-a16f117b008b\" data-root-id=\"57314\"></div>\n",
       "</div>\n",
       "<script type=\"application/javascript\">(function(root) {\n",
       "  function embed_document(root) {\n",
       "    var docs_json = {\"8de96418-b8e3-442f-baea-8d0bd84576d2\":{\"defs\":[{\"extends\":null,\"module\":null,\"name\":\"ReactiveHTML1\",\"overrides\":[],\"properties\":[]},{\"extends\":null,\"module\":null,\"name\":\"FlexBox1\",\"overrides\":[],\"properties\":[{\"default\":\"flex-start\",\"kind\":null,\"name\":\"align_content\"},{\"default\":\"flex-start\",\"kind\":null,\"name\":\"align_items\"},{\"default\":\"row\",\"kind\":null,\"name\":\"flex_direction\"},{\"default\":\"wrap\",\"kind\":null,\"name\":\"flex_wrap\"},{\"default\":\"flex-start\",\"kind\":null,\"name\":\"justify_content\"}]},{\"extends\":null,\"module\":null,\"name\":\"GridStack1\",\"overrides\":[],\"properties\":[{\"default\":\"warn\",\"kind\":null,\"name\":\"mode\"},{\"default\":null,\"kind\":null,\"name\":\"ncols\"},{\"default\":null,\"kind\":null,\"name\":\"nrows\"},{\"default\":true,\"kind\":null,\"name\":\"allow_resize\"},{\"default\":true,\"kind\":null,\"name\":\"allow_drag\"},{\"default\":[],\"kind\":null,\"name\":\"state\"}]},{\"extends\":null,\"module\":null,\"name\":\"click1\",\"overrides\":[],\"properties\":[{\"default\":\"\",\"kind\":null,\"name\":\"terminal_output\"},{\"default\":\"\",\"kind\":null,\"name\":\"debug_name\"},{\"default\":0,\"kind\":null,\"name\":\"clears\"}]},{\"extends\":null,\"module\":null,\"name\":\"TemplateActions1\",\"overrides\":[],\"properties\":[{\"default\":0,\"kind\":null,\"name\":\"open_modal\"},{\"default\":0,\"kind\":null,\"name\":\"close_modal\"}]},{\"extends\":null,\"module\":null,\"name\":\"MaterialTemplateActions1\",\"overrides\":[],\"properties\":[{\"default\":0,\"kind\":null,\"name\":\"open_modal\"},{\"default\":0,\"kind\":null,\"name\":\"close_modal\"}]}],\"roots\":{\"references\":[{\"attributes\":{\"client_comm_id\":\"287a5fcec9f740e49472113f89a840b8\",\"comm_id\":\"d014a9012df24b4483965752d1b4f78f\",\"plot_id\":\"57314\"},\"id\":\"57315\",\"type\":\"panel.models.comm_manager.CommManager\"},{\"attributes\":{\"margin\":[5,10,5,10],\"options\":[\"Austria\",\"Belgium\",\"Canada\",\"Czechia\",\"Denmark\",\"Finland\",\"France\",\"Germany\",\"Greece\",\"Hungary\",\"Ireland\",\"Italy\",\"Japan\",\"Luxembourg\",\"Netherlands\",\"Poland\",\"Portugal\",\"Slovakia\",\"Spain\",\"Sweden\",\"United Kingdom of Great Britain and Northern Ireland\",\"United States of America\",\"Estonia\",\"Slovenia\",\"Latvia\",\"Lithuania\",\"Bulgaria\",\"Croatia\",\"Cyprus\",\"Malta\",\"Romania\"],\"placeholder\":\"\",\"sizing_mode\":\"stretch_width\",\"title\":\"Select Countries\",\"value\":[\"Ireland\"]},\"id\":\"57314\",\"type\":\"MultiChoice\"}],\"root_ids\":[\"57314\",\"57315\"]},\"title\":\"Bokeh Application\",\"version\":\"2.4.2\"}};\n",
       "    var render_items = [{\"docid\":\"8de96418-b8e3-442f-baea-8d0bd84576d2\",\"root_ids\":[\"57314\"],\"roots\":{\"57314\":\"60a9f5cf-e228-414c-be43-a16f117b008b\"}}];\n",
       "    root.Bokeh.embed.embed_items_notebook(docs_json, render_items);\n",
       "  }\n",
       "  if (root.Bokeh !== undefined && root.Bokeh.Panel !== undefined && ( root['Tabulator'] !== undefined)) {\n",
       "    embed_document(root);\n",
       "  } else {\n",
       "    var attempts = 0;\n",
       "    var timer = setInterval(function(root) {\n",
       "      if (root.Bokeh !== undefined && root.Bokeh.Panel !== undefined && (root['Tabulator'] !== undefined)) {\n",
       "        clearInterval(timer);\n",
       "        embed_document(root);\n",
       "      } else if (document.readyState == \"complete\") {\n",
       "        attempts++;\n",
       "        if (attempts > 200) {\n",
       "          clearInterval(timer);\n",
       "          console.log(\"Bokeh: ERROR: Unable to run BokehJS code because BokehJS library is missing\");\n",
       "        }\n",
       "      }\n",
       "    }, 25, root)\n",
       "  }\n",
       "})(window);</script>"
      ],
      "text/plain": [
       "MultiChoice(name='Select Countries', options=['Austria', 'Belgium', ...], sizing_mode='stretch_width', value=['Ireland'])"
      ]
     },
     "execution_count": 226,
     "metadata": {
      "application/vnd.holoviews_exec.v0+json": {
       "id": "57314"
      }
     },
     "output_type": "execute_result"
    }
   ],
   "source": [
    "multi_choice_country"
   ]
  },
  {
   "cell_type": "code",
   "execution_count": 229,
   "id": "df4143a2",
   "metadata": {},
   "outputs": [],
   "source": [
    "ppi_vs_gdp_scatterplot_year_pipeline = (\n",
    "    idf_gdp_ppi[\n",
    "        (idf_gdp_ppi.AREA.isin(multi_choice_country))\n",
    "    ]\n",
    "    .reset_index()\n",
    "    .sort_values(by='YEAR')  \n",
    "    .reset_index(drop=True)\n",
    ")"
   ]
  },
  {
   "cell_type": "code",
   "execution_count": 231,
   "id": "c0773dd2",
   "metadata": {},
   "outputs": [],
   "source": [
    "# TABLE\n",
    "gdp_ppi_year_table = ppi_vs_gdp_scatterplot_year_pipeline.pipe(pn.widgets.Tabulator, \n",
    "                                      sizing_mode='stretch_width', \n",
    "                                      theme='bulma',\n",
    "                                      hidden_columns=[\n",
    "                                        'LOCATION', \n",
    "                                        'INDICATOR', \n",
    "                                        'SUBJECT', \n",
    "                                        'MEASURE', \n",
    "                                        'FREQUENCY', \n",
    "                                        'FLAG_CODES',\n",
    "                                        'LOOKUP_ISO', \n",
    "                                        'AREA_CODE', \n",
    "                                        'AREA_CODE_M49', \n",
    "                                        'EU_MEMBER', \n",
    "                                        'ITEM_CODE', \n",
    "                                        'ITEM_CODE_CPC', \n",
    "                                        'ITEM', \n",
    "                                        'ELEMENT_CODE',\n",
    "                                        'ELEMENT', \n",
    "                                        'MONTHS_CODE', \n",
    "                                        'MONTHS', \n",
    "                                        'UNIT',\n",
    "                                        'EU_STRING',\n",
    "                                        'index'\n",
    "                                      ],\n",
    "                                      formatters={\n",
    "                                          'YEAR': StringFormatter(), \n",
    "                                          'GDP': NumberFormatter(format='$0,0.00')\n",
    "                                      },\n",
    "                                      show_index=False)"
   ]
  },
  {
   "cell_type": "code",
   "execution_count": 233,
   "id": "d9a6f913",
   "metadata": {},
   "outputs": [],
   "source": [
    "# gdp_ppi_year_table"
   ]
  },
  {
   "cell_type": "code",
   "execution_count": 228,
   "id": "0877d17c",
   "metadata": {
    "scrolled": false
   },
   "outputs": [
    {
     "data": {},
     "metadata": {},
     "output_type": "display_data"
    },
    {
     "data": {},
     "metadata": {},
     "output_type": "display_data"
    },
    {
     "data": {
      "application/vnd.holoviews_exec.v0+json": "",
      "text/html": [
       "<div id='57316'>\n",
       "\n",
       "\n",
       "\n",
       "\n",
       "\n",
       "  <div class=\"bk-root\" id=\"2eb0423b-647d-420f-a8c5-feb7bb47c6b8\" data-root-id=\"57316\"></div>\n",
       "</div>\n",
       "<script type=\"application/javascript\">(function(root) {\n",
       "  function embed_document(root) {\n",
       "    var docs_json = {\"8c314efe-28a1-4387-9969-8d86514e051a\":{\"defs\":[{\"extends\":null,\"module\":null,\"name\":\"ReactiveHTML1\",\"overrides\":[],\"properties\":[]},{\"extends\":null,\"module\":null,\"name\":\"FlexBox1\",\"overrides\":[],\"properties\":[{\"default\":\"flex-start\",\"kind\":null,\"name\":\"align_content\"},{\"default\":\"flex-start\",\"kind\":null,\"name\":\"align_items\"},{\"default\":\"row\",\"kind\":null,\"name\":\"flex_direction\"},{\"default\":\"wrap\",\"kind\":null,\"name\":\"flex_wrap\"},{\"default\":\"flex-start\",\"kind\":null,\"name\":\"justify_content\"}]},{\"extends\":null,\"module\":null,\"name\":\"GridStack1\",\"overrides\":[],\"properties\":[{\"default\":\"warn\",\"kind\":null,\"name\":\"mode\"},{\"default\":null,\"kind\":null,\"name\":\"ncols\"},{\"default\":null,\"kind\":null,\"name\":\"nrows\"},{\"default\":true,\"kind\":null,\"name\":\"allow_resize\"},{\"default\":true,\"kind\":null,\"name\":\"allow_drag\"},{\"default\":[],\"kind\":null,\"name\":\"state\"}]},{\"extends\":null,\"module\":null,\"name\":\"click1\",\"overrides\":[],\"properties\":[{\"default\":\"\",\"kind\":null,\"name\":\"terminal_output\"},{\"default\":\"\",\"kind\":null,\"name\":\"debug_name\"},{\"default\":0,\"kind\":null,\"name\":\"clears\"}]},{\"extends\":null,\"module\":null,\"name\":\"TemplateActions1\",\"overrides\":[],\"properties\":[{\"default\":0,\"kind\":null,\"name\":\"open_modal\"},{\"default\":0,\"kind\":null,\"name\":\"close_modal\"}]},{\"extends\":null,\"module\":null,\"name\":\"MaterialTemplateActions1\",\"overrides\":[],\"properties\":[{\"default\":0,\"kind\":null,\"name\":\"open_modal\"},{\"default\":0,\"kind\":null,\"name\":\"close_modal\"}]}],\"roots\":{\"references\":[{\"attributes\":{\"end\":114515.6209272,\"reset_end\":114515.6209272,\"reset_start\":22553.636548799997,\"start\":22553.636548799997,\"tags\":[[[\"GDP\",\"GDP\",null]]]},\"id\":\"57323\",\"type\":\"Range1d\"},{\"attributes\":{},\"id\":\"57331\",\"type\":\"LinearScale\"},{\"attributes\":{\"fill_alpha\":{\"value\":0.7},\"fill_color\":{\"value\":\"#30a2da\"},\"hatch_alpha\":{\"value\":0.1},\"hatch_color\":{\"value\":\"#30a2da\"},\"line_alpha\":{\"value\":0.7},\"line_color\":{\"value\":\"#30a2da\"},\"size\":{\"value\":8.94427190999916},\"x\":{\"field\":\"GDP\"},\"y\":{\"field\":\"WHEAT_PPI\"}},\"id\":\"57366\",\"type\":\"Scatter\"},{\"attributes\":{\"margin\":[5,10,5,10],\"options\":[\"Austria\",\"Belgium\",\"Canada\",\"Czechia\",\"Denmark\",\"Finland\",\"France\",\"Germany\",\"Greece\",\"Hungary\",\"Ireland\",\"Italy\",\"Japan\",\"Luxembourg\",\"Netherlands\",\"Poland\",\"Portugal\",\"Slovakia\",\"Spain\",\"Sweden\",\"United Kingdom of Great Britain and Northern Ireland\",\"United States of America\",\"Estonia\",\"Slovenia\",\"Latvia\",\"Lithuania\",\"Bulgaria\",\"Croatia\",\"Cyprus\",\"Malta\",\"Romania\"],\"placeholder\":\"\",\"sizing_mode\":\"stretch_width\",\"title\":\"Select Countries\",\"value\":[\"Ireland\"]},\"id\":\"57320\",\"type\":\"MultiChoice\"},{\"attributes\":{\"callback\":null,\"renderers\":[{\"id\":\"57368\"}],\"tags\":[\"hv_created\"],\"tooltips\":[[\"AREA\",\"@{AREA}\"],[\"GDP\",\"@{GDP}\"],[\"WHEAT_PPI\",\"@{WHEAT_PPI}\"]]},\"id\":\"57325\",\"type\":\"HoverTool\"},{\"attributes\":{\"angle\":{\"value\":0.0},\"fill_alpha\":{\"value\":0.7},\"fill_color\":{\"value\":\"#30a2da\"},\"hatch_alpha\":{\"value\":0.7},\"hatch_color\":{\"value\":\"#30a2da\"},\"hatch_scale\":{\"value\":12.0},\"hatch_weight\":{\"value\":1.0},\"line_alpha\":{\"value\":0.7},\"line_cap\":{\"value\":\"butt\"},\"line_color\":{\"value\":\"#30a2da\"},\"line_dash\":{\"value\":[]},\"line_dash_offset\":{\"value\":0},\"line_join\":{\"value\":\"bevel\"},\"line_width\":{\"value\":1},\"marker\":{\"value\":\"circle\"},\"size\":{\"value\":8.94427190999916},\"x\":{\"field\":\"GDP\"},\"y\":{\"field\":\"WHEAT_PPI\"}},\"id\":\"57382\",\"type\":\"Scatter\"},{\"attributes\":{\"children\":[{\"id\":\"57317\"}],\"margin\":[0,0,0,0],\"name\":\"Row204264\",\"sizing_mode\":\"stretch_width\"},\"id\":\"57316\",\"type\":\"Row\"},{\"attributes\":{\"children\":[{\"id\":\"57326\"}],\"margin\":[0,0,0,0],\"name\":\"Row204114\",\"sizing_mode\":\"stretch_width\"},\"id\":\"57322\",\"type\":\"Row\"},{\"attributes\":{\"coordinates\":null,\"group\":null,\"text\":\"Wheat v GDP\",\"text_color\":\"black\",\"text_font_size\":\"12pt\"},\"id\":\"57327\",\"type\":\"Title\"},{\"attributes\":{\"bottom_units\":\"screen\",\"coordinates\":null,\"fill_alpha\":0.5,\"fill_color\":\"lightgrey\",\"group\":null,\"left_units\":\"screen\",\"level\":\"overlay\",\"line_alpha\":1.0,\"line_color\":\"black\",\"line_dash\":[4,4],\"line_width\":2,\"right_units\":\"screen\",\"syncable\":false,\"top_units\":\"screen\"},\"id\":\"57348\",\"type\":\"BoxAnnotation\"},{\"attributes\":{},\"id\":\"57344\",\"type\":\"PanTool\"},{\"attributes\":{\"end\":148.81833333333333,\"reset_end\":148.81833333333333,\"reset_start\":55.88166666666667,\"start\":55.88166666666667,\"tags\":[[[\"WHEAT_PPI\",\"WHEAT_PPI\",null]]]},\"id\":\"57324\",\"type\":\"Range1d\"},{\"attributes\":{},\"id\":\"57358\",\"type\":\"AllLabels\"},{\"attributes\":{\"below\":[{\"id\":\"57335\"}],\"center\":[{\"id\":\"57338\"},{\"id\":\"57342\"}],\"left\":[{\"id\":\"57339\"}],\"margin\":[5,5,5,5],\"min_border_bottom\":10,\"min_border_left\":10,\"min_border_right\":10,\"min_border_top\":10,\"renderers\":[{\"id\":\"57368\"}],\"right\":[{\"id\":\"57380\"}],\"sizing_mode\":\"stretch_width\",\"title\":{\"id\":\"57327\"},\"toolbar\":{\"id\":\"57349\"},\"width\":500,\"x_range\":{\"id\":\"57323\"},\"x_scale\":{\"id\":\"57331\"},\"y_range\":{\"id\":\"57324\"},\"y_scale\":{\"id\":\"57333\"}},\"id\":\"57326\",\"subtype\":\"Figure\",\"type\":\"Plot\"},{\"attributes\":{\"tools\":[{\"id\":\"57325\"},{\"id\":\"57343\"},{\"id\":\"57344\"},{\"id\":\"57345\"},{\"id\":\"57346\"},{\"id\":\"57347\"}]},\"id\":\"57349\",\"type\":\"Toolbar\"},{\"attributes\":{\"axis\":{\"id\":\"57335\"},\"coordinates\":null,\"grid_line_color\":null,\"group\":null,\"ticker\":null},\"id\":\"57338\",\"type\":\"Grid\"},{\"attributes\":{\"axis\":{\"id\":\"57339\"},\"coordinates\":null,\"dimension\":1,\"grid_line_color\":null,\"group\":null,\"ticker\":null},\"id\":\"57342\",\"type\":\"Grid\"},{\"attributes\":{},\"id\":\"57333\",\"type\":\"LinearScale\"},{\"attributes\":{\"axis_label\":\"GDP\",\"coordinates\":null,\"formatter\":{\"id\":\"57357\"},\"group\":null,\"major_label_policy\":{\"id\":\"57358\"},\"ticker\":{\"id\":\"57336\"}},\"id\":\"57335\",\"type\":\"LinearAxis\"},{\"attributes\":{},\"id\":\"57363\",\"type\":\"Selection\"},{\"attributes\":{\"axis_label\":\"WHEAT_PPI\",\"coordinates\":null,\"formatter\":{\"id\":\"57360\"},\"group\":null,\"major_label_policy\":{\"id\":\"57361\"},\"ticker\":{\"id\":\"57340\"}},\"id\":\"57339\",\"type\":\"LinearAxis\"},{\"attributes\":{},\"id\":\"57336\",\"type\":\"BasicTicker\"},{\"attributes\":{},\"id\":\"57357\",\"type\":\"BasicTickFormatter\"},{\"attributes\":{},\"id\":\"57377\",\"type\":\"UnionRenderers\"},{\"attributes\":{},\"id\":\"57361\",\"type\":\"AllLabels\"},{\"attributes\":{},\"id\":\"57340\",\"type\":\"BasicTicker\"},{\"attributes\":{},\"id\":\"57360\",\"type\":\"BasicTickFormatter\"},{\"attributes\":{\"client_comm_id\":\"bee313cebccc48dc96e53b0d0f0349e9\",\"comm_id\":\"28590c48e90d4817ae79ef8f8858c1c5\",\"plot_id\":\"57316\"},\"id\":\"57503\",\"type\":\"panel.models.comm_manager.CommManager\"},{\"attributes\":{},\"id\":\"57345\",\"type\":\"WheelZoomTool\"},{\"attributes\":{\"children\":[{\"id\":\"57318\"},{\"id\":\"57322\"}],\"margin\":[0,0,0,0],\"name\":\"Column204263\",\"sizing_mode\":\"stretch_width\"},\"id\":\"57317\",\"type\":\"Column\"},{\"attributes\":{},\"id\":\"57343\",\"type\":\"SaveTool\"},{\"attributes\":{\"fill_alpha\":{\"value\":0.2},\"fill_color\":{\"value\":\"#30a2da\"},\"hatch_alpha\":{\"value\":0.2},\"hatch_color\":{\"value\":\"#30a2da\"},\"line_alpha\":{\"value\":0.2},\"line_color\":{\"value\":\"#30a2da\"},\"size\":{\"value\":8.94427190999916},\"x\":{\"field\":\"GDP\"},\"y\":{\"field\":\"WHEAT_PPI\"}},\"id\":\"57367\",\"type\":\"Scatter\"},{\"attributes\":{\"overlay\":{\"id\":\"57348\"}},\"id\":\"57346\",\"type\":\"BoxZoomTool\"},{\"attributes\":{},\"id\":\"57347\",\"type\":\"ResetTool\"},{\"attributes\":{\"fill_alpha\":{\"value\":0.7},\"fill_color\":{\"value\":\"#30a2da\"},\"hatch_alpha\":{\"value\":0.7},\"hatch_color\":{\"value\":\"#30a2da\"},\"line_alpha\":{\"value\":0.7},\"line_color\":{\"value\":\"#30a2da\"},\"size\":{\"value\":8.94427190999916},\"x\":{\"field\":\"GDP\"},\"y\":{\"field\":\"WHEAT_PPI\"}},\"id\":\"57365\",\"type\":\"Scatter\"},{\"attributes\":{\"data\":{\"AREA\":[\"Ireland\",\"Ireland\",\"Ireland\",\"Ireland\",\"Ireland\",\"Ireland\",\"Ireland\",\"Ireland\",\"Ireland\",\"Ireland\",\"Ireland\",\"Ireland\",\"Ireland\",\"Ireland\",\"Ireland\",\"Ireland\",\"Ireland\",\"Ireland\",\"Ireland\",\"Ireland\",\"Ireland\",\"Ireland\"],\"GDP\":{\"__ndarray__\":\"eAjjp0iC3UA9fm/TO9TfQK0UAjncMuFANV8lnwu34UA25nVEM+3iQAQCnUkxwuNAmxvTEx6d5UBZT62+rtXmQINNnccpieVAwygInts75EA4+S26rxnlQGYwRiSSBeZAWYY41jWp5kA6lKEqQmHnQINpGL5//+hAURISad7i8EDp1JUPEn3xQIblz3c6DvNA6/zbpYW19ECbxvZaZO/1QNbkKWvO9PZAWmWm9EEW+kA=\",\"dtype\":\"float64\",\"order\":\"little\",\"shape\":[22]},\"WHEAT_PPI\":{\"__ndarray__\":\"w/UoXI+SUEDXo3A9CgdTQMP1KFyPQk9A9ihcj8JVU0DXo3A9CmdRQOxRuB6F61BAuB6F61GoU0CamZmZmTFgQDMzMzMzE1ZA7FG4HoXrUEDhehSuR6FZQHsUrkfhWlpA9ihcj8LFYUBSuB6F6zFZQAAAAAAAsF9A7FG4HoXLVEAUrkfheoRWQI/C9Shc/1dAhetRuB5lYEAAAAAAAABYQLgehetR2FtA7FG4HoXrXUA=\",\"dtype\":\"float64\",\"order\":\"little\",\"shape\":[22]}},\"selected\":{\"id\":\"57363\"},\"selection_policy\":{\"id\":\"57377\"}},\"id\":\"57362\",\"type\":\"ColumnDataSource\"},{\"attributes\":{\"children\":[{\"id\":\"57319\"},{\"id\":\"57321\"}],\"margin\":[0,0,0,0],\"name\":\"Row204262\",\"sizing_mode\":\"stretch_width\"},\"id\":\"57318\",\"type\":\"Row\"},{\"attributes\":{\"source\":{\"id\":\"57362\"}},\"id\":\"57369\",\"type\":\"CDSView\"},{\"attributes\":{\"click_policy\":\"mute\",\"coordinates\":null,\"group\":null,\"items\":[{\"id\":\"57381\"}],\"location\":[0,0],\"title\":\"AREA\"},\"id\":\"57380\",\"type\":\"Legend\"},{\"attributes\":{\"coordinates\":null,\"data_source\":{\"id\":\"57362\"},\"glyph\":{\"id\":\"57365\"},\"group\":null,\"hover_glyph\":null,\"muted_glyph\":{\"id\":\"57367\"},\"nonselection_glyph\":{\"id\":\"57366\"},\"selection_glyph\":{\"id\":\"57382\"},\"view\":{\"id\":\"57369\"}},\"id\":\"57368\",\"type\":\"GlyphRenderer\"},{\"attributes\":{\"label\":{\"value\":\"Ireland\"},\"renderers\":[{\"id\":\"57368\"}]},\"id\":\"57381\",\"type\":\"LegendItem\"},{\"attributes\":{\"margin\":[5,5,5,5],\"name\":\"HSpacer204261\",\"sizing_mode\":\"stretch_width\"},\"id\":\"57321\",\"type\":\"Spacer\"},{\"attributes\":{\"children\":[{\"id\":\"57320\"}],\"margin\":[0,0,0,0],\"name\":\"Column204109\",\"sizing_mode\":\"stretch_width\"},\"id\":\"57319\",\"type\":\"Column\"}],\"root_ids\":[\"57316\",\"57503\"]},\"title\":\"Bokeh Application\",\"version\":\"2.4.2\"}};\n",
       "    var render_items = [{\"docid\":\"8c314efe-28a1-4387-9969-8d86514e051a\",\"root_ids\":[\"57316\"],\"roots\":{\"57316\":\"2eb0423b-647d-420f-a8c5-feb7bb47c6b8\"}}];\n",
       "    root.Bokeh.embed.embed_items_notebook(docs_json, render_items);\n",
       "  }\n",
       "  if (root.Bokeh !== undefined && root.Bokeh.Panel !== undefined && ( root['Tabulator'] !== undefined)) {\n",
       "    embed_document(root);\n",
       "  } else {\n",
       "    var attempts = 0;\n",
       "    var timer = setInterval(function(root) {\n",
       "      if (root.Bokeh !== undefined && root.Bokeh.Panel !== undefined && (root['Tabulator'] !== undefined)) {\n",
       "        clearInterval(timer);\n",
       "        embed_document(root);\n",
       "      } else if (document.readyState == \"complete\") {\n",
       "        attempts++;\n",
       "        if (attempts > 200) {\n",
       "          clearInterval(timer);\n",
       "          console.log(\"Bokeh: ERROR: Unable to run BokehJS code because BokehJS library is missing\");\n",
       "        }\n",
       "      }\n",
       "    }, 25, root)\n",
       "  }\n",
       "})(window);</script>"
      ],
      "text/plain": [
       "<hvplot.interactive.Interactive at 0x7f7df4d02af0>"
      ]
     },
     "execution_count": 228,
     "metadata": {
      "application/vnd.holoviews_exec.v0+json": {
       "id": "57316"
      }
     },
     "output_type": "execute_result"
    }
   ],
   "source": [
    "# SCATTER\n",
    "ppi_vs_gdp_scatterplot_noyear = ppi_vs_gdp_scatterplot_year_pipeline.hvplot(x='GDP', \n",
    "                                                                y='WHEAT_PPI', \n",
    "                                                                by='AREA', \n",
    "                                                                size=80, \n",
    "                                                                kind=\"scatter\",\n",
    "                                                                title=\"Wheat v GDP\",\n",
    "                                                                alpha=0.7,\n",
    "                                                                legend=True, \n",
    "                                                                height=600, \n",
    "                                                                width=500)\n",
    "ppi_vs_gdp_scatterplot_noyear"
   ]
  },
  {
   "cell_type": "code",
   "execution_count": 243,
   "id": "ab4483aa",
   "metadata": {},
   "outputs": [],
   "source": [
    "\n",
    "template = pn.template.FastListTemplate(\n",
    "    title='Wheat PPI v GDP Dashboard', \n",
    "    sidebar=[pn.pane.Markdown(\"## Country Breakdown\"), \n",
    "             pn.pane.Markdown(\"### Settings\"),   \n",
    "             multi_choice_country],\n",
    "    main=[\n",
    "        pn.Row(\n",
    "            pn.Column(\n",
    "                ppi_vs_gdp_scatterplot_noyear.panel(width=600), \n",
    "                gdp_ppi_year_table.panel(width=400),\n",
    "                margin=(0,0)\n",
    "            ),\n",
    "        )])"
   ]
  },
  {
   "cell_type": "code",
   "execution_count": 244,
   "id": "9fa2ac98",
   "metadata": {},
   "outputs": [
    {
     "name": "stdout",
     "output_type": "stream",
     "text": [
      "Launching server at http://localhost:60018\n"
     ]
    },
    {
     "data": {
      "text/plain": [
       "<bokeh.server.server.Server at 0x7f7df1ff0280>"
      ]
     },
     "execution_count": 244,
     "metadata": {},
     "output_type": "execute_result"
    }
   ],
   "source": [
    "template.show()"
   ]
  },
  {
   "cell_type": "code",
   "execution_count": null,
   "id": "925c4961",
   "metadata": {},
   "outputs": [],
   "source": []
  }
 ],
 "metadata": {
  "kernelspec": {
   "display_name": "Python 3 (ipykernel)",
   "language": "python",
   "name": "python3"
  },
  "language_info": {
   "codemirror_mode": {
    "name": "ipython",
    "version": 3
   },
   "file_extension": ".py",
   "mimetype": "text/x-python",
   "name": "python",
   "nbconvert_exporter": "python",
   "pygments_lexer": "ipython3",
   "version": "3.9.12"
  }
 },
 "nbformat": 4,
 "nbformat_minor": 5
}
