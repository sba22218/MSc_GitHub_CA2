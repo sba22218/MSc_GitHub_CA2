{
 "cells": [
  {
   "cell_type": "code",
   "execution_count": 121,
   "metadata": {},
   "outputs": [],
   "source": [
    "# Please note this dataframe was pre-processed in a different script. "
   ]
  },
  {
   "cell_type": "code",
   "execution_count": 122,
   "metadata": {},
   "outputs": [],
   "source": [
    "# Inport requirements"
   ]
  },
  {
   "cell_type": "code",
   "execution_count": 123,
   "metadata": {},
   "outputs": [],
   "source": [
    "# Youtube: Panel Data: \n",
    "# https://www.youtube.com/watch?v=f01WjeCdgEA \n",
    "# https://www.youtube.com/watch?v=aUVZWnVnjxs\n",
    "# https://www.youtube.com/watch?v=Ux0tDSWQRc4\n",
    "\n",
    "## Stats tests - Resources from Marina \n",
    "# Python - Kruskal-Wallis H test - https://www.youtube.com/watch?v=Af1YuaFylqM\n",
    "# Mann Whitney U Test Using Python - https://www.youtube.com/watch?v=hJdqTD89eQ8 \n",
    "# AB test source 1 - https://www.youtube.com/watch?v=OVgi6ftJiyQ\n",
    "# AB Test source 2- https://www.youtube.com/watch?v=115SeMub-P0 "
   ]
  },
  {
   "cell_type": "code",
   "execution_count": 124,
   "metadata": {},
   "outputs": [],
   "source": [
    "import pandas as pd\n",
    "from sklearn.tree import DecisionTreeClassifier\n",
    "from sklearn.model_selection import train_test_split\n",
    "from sklearn.metrics import accuracy_score\n",
    "import joblib\n",
    "from sklearn import tree\n",
    "\n",
    "import matplotlib as plt\n",
    "from matplotlib import pyplot\n",
    "import datetime\n",
    "import numpy as np\n",
    "\n",
    "import seaborn as sns\n",
    "import matplotlib.pyplot as plt\n"
   ]
  },
  {
   "cell_type": "code",
   "execution_count": 125,
   "metadata": {},
   "outputs": [],
   "source": [
    "from sklearn.tree import export_graphviz\n",
    "# from sklearn.externals.six import StringIO  \n",
    "from six import StringIO\n",
    "from IPython.display import Image  \n",
    "\n",
    "\n",
    "# from pycaret.classification import *"
   ]
  },
  {
   "cell_type": "code",
   "execution_count": 126,
   "metadata": {},
   "outputs": [],
   "source": [
    "import numpy as np\n",
    "import os\n",
    "from sklearn.preprocessing import LabelEncoder\n",
    "# from sklearn.model_selection import train_test_split\n",
    "from sklearn.model_selection import RandomizedSearchCV, GridSearchCV\n",
    "from sklearn import tree\n",
    "from sklearn.metrics import accuracy_score,confusion_matrix"
   ]
  },
  {
   "cell_type": "code",
   "execution_count": 127,
   "metadata": {},
   "outputs": [],
   "source": [
    "# choco install pandoc"
   ]
  },
  {
   "cell_type": "code",
   "execution_count": null,
   "metadata": {},
   "outputs": [],
   "source": []
  },
  {
   "cell_type": "code",
   "execution_count": 128,
   "metadata": {},
   "outputs": [
    {
     "data": {
      "text/html": [
       "<div>\n",
       "<style scoped>\n",
       "    .dataframe tbody tr th:only-of-type {\n",
       "        vertical-align: middle;\n",
       "    }\n",
       "\n",
       "    .dataframe tbody tr th {\n",
       "        vertical-align: top;\n",
       "    }\n",
       "\n",
       "    .dataframe thead th {\n",
       "        text-align: right;\n",
       "    }\n",
       "</style>\n",
       "<table border=\"1\" class=\"dataframe\">\n",
       "  <thead>\n",
       "    <tr style=\"text-align: right;\">\n",
       "      <th></th>\n",
       "      <th>Unnamed: 0</th>\n",
       "      <th>Domain Code</th>\n",
       "      <th>Domain</th>\n",
       "      <th>Area Code (M49)</th>\n",
       "      <th>Area</th>\n",
       "      <th>Element Code</th>\n",
       "      <th>Element</th>\n",
       "      <th>Item Code (CPC)</th>\n",
       "      <th>Item</th>\n",
       "      <th>Year Code</th>\n",
       "      <th>Year</th>\n",
       "      <th>Unit</th>\n",
       "      <th>Value</th>\n",
       "      <th>Flag</th>\n",
       "      <th>Flag Description</th>\n",
       "      <th>LOCATION</th>\n",
       "      <th>EU</th>\n",
       "    </tr>\n",
       "  </thead>\n",
       "  <tbody>\n",
       "    <tr>\n",
       "      <th>0</th>\n",
       "      <td>1104</td>\n",
       "      <td>QCL</td>\n",
       "      <td>Crops and livestock products</td>\n",
       "      <td>40</td>\n",
       "      <td>Austria</td>\n",
       "      <td>5312</td>\n",
       "      <td>Area harvested</td>\n",
       "      <td>1341</td>\n",
       "      <td>Apples</td>\n",
       "      <td>2017</td>\n",
       "      <td>2017</td>\n",
       "      <td>ha</td>\n",
       "      <td>NaN</td>\n",
       "      <td>A</td>\n",
       "      <td>Official figure</td>\n",
       "      <td>AUT</td>\n",
       "      <td>1.0</td>\n",
       "    </tr>\n",
       "    <tr>\n",
       "      <th>1</th>\n",
       "      <td>1105</td>\n",
       "      <td>QCL</td>\n",
       "      <td>Crops and livestock products</td>\n",
       "      <td>40</td>\n",
       "      <td>Austria</td>\n",
       "      <td>5312</td>\n",
       "      <td>Area harvested</td>\n",
       "      <td>1341</td>\n",
       "      <td>Apples</td>\n",
       "      <td>2018</td>\n",
       "      <td>2018</td>\n",
       "      <td>ha</td>\n",
       "      <td>6740.0</td>\n",
       "      <td>A</td>\n",
       "      <td>Official figure</td>\n",
       "      <td>AUT</td>\n",
       "      <td>1.0</td>\n",
       "    </tr>\n",
       "    <tr>\n",
       "      <th>2</th>\n",
       "      <td>1106</td>\n",
       "      <td>QCL</td>\n",
       "      <td>Crops and livestock products</td>\n",
       "      <td>40</td>\n",
       "      <td>Austria</td>\n",
       "      <td>5312</td>\n",
       "      <td>Area harvested</td>\n",
       "      <td>1341</td>\n",
       "      <td>Apples</td>\n",
       "      <td>2019</td>\n",
       "      <td>2019</td>\n",
       "      <td>ha</td>\n",
       "      <td>6590.0</td>\n",
       "      <td>A</td>\n",
       "      <td>Official figure</td>\n",
       "      <td>AUT</td>\n",
       "      <td>1.0</td>\n",
       "    </tr>\n",
       "    <tr>\n",
       "      <th>3</th>\n",
       "      <td>1107</td>\n",
       "      <td>QCL</td>\n",
       "      <td>Crops and livestock products</td>\n",
       "      <td>40</td>\n",
       "      <td>Austria</td>\n",
       "      <td>5312</td>\n",
       "      <td>Area harvested</td>\n",
       "      <td>1341</td>\n",
       "      <td>Apples</td>\n",
       "      <td>2020</td>\n",
       "      <td>2020</td>\n",
       "      <td>ha</td>\n",
       "      <td>6430.0</td>\n",
       "      <td>A</td>\n",
       "      <td>Official figure</td>\n",
       "      <td>AUT</td>\n",
       "      <td>1.0</td>\n",
       "    </tr>\n",
       "    <tr>\n",
       "      <th>4</th>\n",
       "      <td>1108</td>\n",
       "      <td>QCL</td>\n",
       "      <td>Crops and livestock products</td>\n",
       "      <td>40</td>\n",
       "      <td>Austria</td>\n",
       "      <td>5419</td>\n",
       "      <td>Yield</td>\n",
       "      <td>1341</td>\n",
       "      <td>Apples</td>\n",
       "      <td>2018</td>\n",
       "      <td>2018</td>\n",
       "      <td>hg/ha</td>\n",
       "      <td>575593.0</td>\n",
       "      <td>E</td>\n",
       "      <td>Estimated value</td>\n",
       "      <td>AUT</td>\n",
       "      <td>1.0</td>\n",
       "    </tr>\n",
       "  </tbody>\n",
       "</table>\n",
       "</div>"
      ],
      "text/plain": [
       "   Unnamed: 0 Domain Code                        Domain  Area Code (M49)  \\\n",
       "0        1104         QCL  Crops and livestock products               40   \n",
       "1        1105         QCL  Crops and livestock products               40   \n",
       "2        1106         QCL  Crops and livestock products               40   \n",
       "3        1107         QCL  Crops and livestock products               40   \n",
       "4        1108         QCL  Crops and livestock products               40   \n",
       "\n",
       "      Area  Element Code         Element Item Code (CPC)    Item  Year Code  \\\n",
       "0  Austria          5312  Area harvested            1341  Apples       2017   \n",
       "1  Austria          5312  Area harvested            1341  Apples       2018   \n",
       "2  Austria          5312  Area harvested            1341  Apples       2019   \n",
       "3  Austria          5312  Area harvested            1341  Apples       2020   \n",
       "4  Austria          5419           Yield            1341  Apples       2018   \n",
       "\n",
       "   Year   Unit     Value Flag Flag Description LOCATION   EU  \n",
       "0  2017     ha       NaN    A  Official figure      AUT  1.0  \n",
       "1  2018     ha    6740.0    A  Official figure      AUT  1.0  \n",
       "2  2019     ha    6590.0    A  Official figure      AUT  1.0  \n",
       "3  2020     ha    6430.0    A  Official figure      AUT  1.0  \n",
       "4  2018  hg/ha  575593.0    E  Estimated value      AUT  1.0  "
      ]
     },
     "execution_count": 128,
     "metadata": {},
     "output_type": "execute_result"
    }
   ],
   "source": [
    "# input data\n",
    "df_farm_eu = pd.read_csv('df_farm_eu.csv')\n",
    "df_farm_eu.head()"
   ]
  },
  {
   "cell_type": "code",
   "execution_count": 129,
   "metadata": {},
   "outputs": [
    {
     "data": {
      "text/html": [
       "<div>\n",
       "<style scoped>\n",
       "    .dataframe tbody tr th:only-of-type {\n",
       "        vertical-align: middle;\n",
       "    }\n",
       "\n",
       "    .dataframe tbody tr th {\n",
       "        vertical-align: top;\n",
       "    }\n",
       "\n",
       "    .dataframe thead th {\n",
       "        text-align: right;\n",
       "    }\n",
       "</style>\n",
       "<table border=\"1\" class=\"dataframe\">\n",
       "  <thead>\n",
       "    <tr style=\"text-align: right;\">\n",
       "      <th></th>\n",
       "      <th>Domain Code</th>\n",
       "      <th>Domain</th>\n",
       "      <th>Area Code (M49)</th>\n",
       "      <th>Area</th>\n",
       "      <th>Element Code</th>\n",
       "      <th>Element</th>\n",
       "      <th>Item Code (CPC)</th>\n",
       "      <th>Item</th>\n",
       "      <th>Year Code</th>\n",
       "      <th>Year</th>\n",
       "      <th>Unit</th>\n",
       "      <th>Value</th>\n",
       "      <th>Flag</th>\n",
       "      <th>Flag Description</th>\n",
       "      <th>LOCATION</th>\n",
       "      <th>EU</th>\n",
       "    </tr>\n",
       "  </thead>\n",
       "  <tbody>\n",
       "    <tr>\n",
       "      <th>0</th>\n",
       "      <td>QCL</td>\n",
       "      <td>Crops and livestock products</td>\n",
       "      <td>40</td>\n",
       "      <td>Austria</td>\n",
       "      <td>5312</td>\n",
       "      <td>Area harvested</td>\n",
       "      <td>1341</td>\n",
       "      <td>Apples</td>\n",
       "      <td>2017</td>\n",
       "      <td>2017</td>\n",
       "      <td>ha</td>\n",
       "      <td>NaN</td>\n",
       "      <td>A</td>\n",
       "      <td>Official figure</td>\n",
       "      <td>AUT</td>\n",
       "      <td>1.0</td>\n",
       "    </tr>\n",
       "    <tr>\n",
       "      <th>1</th>\n",
       "      <td>QCL</td>\n",
       "      <td>Crops and livestock products</td>\n",
       "      <td>40</td>\n",
       "      <td>Austria</td>\n",
       "      <td>5312</td>\n",
       "      <td>Area harvested</td>\n",
       "      <td>1341</td>\n",
       "      <td>Apples</td>\n",
       "      <td>2018</td>\n",
       "      <td>2018</td>\n",
       "      <td>ha</td>\n",
       "      <td>6740.0</td>\n",
       "      <td>A</td>\n",
       "      <td>Official figure</td>\n",
       "      <td>AUT</td>\n",
       "      <td>1.0</td>\n",
       "    </tr>\n",
       "    <tr>\n",
       "      <th>2</th>\n",
       "      <td>QCL</td>\n",
       "      <td>Crops and livestock products</td>\n",
       "      <td>40</td>\n",
       "      <td>Austria</td>\n",
       "      <td>5312</td>\n",
       "      <td>Area harvested</td>\n",
       "      <td>1341</td>\n",
       "      <td>Apples</td>\n",
       "      <td>2019</td>\n",
       "      <td>2019</td>\n",
       "      <td>ha</td>\n",
       "      <td>6590.0</td>\n",
       "      <td>A</td>\n",
       "      <td>Official figure</td>\n",
       "      <td>AUT</td>\n",
       "      <td>1.0</td>\n",
       "    </tr>\n",
       "    <tr>\n",
       "      <th>3</th>\n",
       "      <td>QCL</td>\n",
       "      <td>Crops and livestock products</td>\n",
       "      <td>40</td>\n",
       "      <td>Austria</td>\n",
       "      <td>5312</td>\n",
       "      <td>Area harvested</td>\n",
       "      <td>1341</td>\n",
       "      <td>Apples</td>\n",
       "      <td>2020</td>\n",
       "      <td>2020</td>\n",
       "      <td>ha</td>\n",
       "      <td>6430.0</td>\n",
       "      <td>A</td>\n",
       "      <td>Official figure</td>\n",
       "      <td>AUT</td>\n",
       "      <td>1.0</td>\n",
       "    </tr>\n",
       "    <tr>\n",
       "      <th>4</th>\n",
       "      <td>QCL</td>\n",
       "      <td>Crops and livestock products</td>\n",
       "      <td>40</td>\n",
       "      <td>Austria</td>\n",
       "      <td>5419</td>\n",
       "      <td>Yield</td>\n",
       "      <td>1341</td>\n",
       "      <td>Apples</td>\n",
       "      <td>2018</td>\n",
       "      <td>2018</td>\n",
       "      <td>hg/ha</td>\n",
       "      <td>575593.0</td>\n",
       "      <td>E</td>\n",
       "      <td>Estimated value</td>\n",
       "      <td>AUT</td>\n",
       "      <td>1.0</td>\n",
       "    </tr>\n",
       "  </tbody>\n",
       "</table>\n",
       "</div>"
      ],
      "text/plain": [
       "  Domain Code                        Domain  Area Code (M49)     Area  \\\n",
       "0         QCL  Crops and livestock products               40  Austria   \n",
       "1         QCL  Crops and livestock products               40  Austria   \n",
       "2         QCL  Crops and livestock products               40  Austria   \n",
       "3         QCL  Crops and livestock products               40  Austria   \n",
       "4         QCL  Crops and livestock products               40  Austria   \n",
       "\n",
       "   Element Code         Element Item Code (CPC)    Item  Year Code  Year  \\\n",
       "0          5312  Area harvested            1341  Apples       2017  2017   \n",
       "1          5312  Area harvested            1341  Apples       2018  2018   \n",
       "2          5312  Area harvested            1341  Apples       2019  2019   \n",
       "3          5312  Area harvested            1341  Apples       2020  2020   \n",
       "4          5419           Yield            1341  Apples       2018  2018   \n",
       "\n",
       "    Unit     Value Flag Flag Description LOCATION   EU  \n",
       "0     ha       NaN    A  Official figure      AUT  1.0  \n",
       "1     ha    6740.0    A  Official figure      AUT  1.0  \n",
       "2     ha    6590.0    A  Official figure      AUT  1.0  \n",
       "3     ha    6430.0    A  Official figure      AUT  1.0  \n",
       "4  hg/ha  575593.0    E  Estimated value      AUT  1.0  "
      ]
     },
     "execution_count": 129,
     "metadata": {},
     "output_type": "execute_result"
    }
   ],
   "source": [
    "\n",
    "# Syntax # df.drop(['B', 'C'], axis=1) \n",
    "\n",
    "df_farm_eu = df_farm_eu.drop([\"Unnamed: 0\"], axis =1)\n",
    "\n",
    "df_farm_eu.head()\n"
   ]
  },
  {
   "cell_type": "code",
   "execution_count": 130,
   "metadata": {},
   "outputs": [
    {
     "data": {
      "text/html": [
       "<div>\n",
       "<style scoped>\n",
       "    .dataframe tbody tr th:only-of-type {\n",
       "        vertical-align: middle;\n",
       "    }\n",
       "\n",
       "    .dataframe tbody tr th {\n",
       "        vertical-align: top;\n",
       "    }\n",
       "\n",
       "    .dataframe thead th {\n",
       "        text-align: right;\n",
       "    }\n",
       "</style>\n",
       "<table border=\"1\" class=\"dataframe\">\n",
       "  <thead>\n",
       "    <tr style=\"text-align: right;\">\n",
       "      <th></th>\n",
       "      <th>Domain Code</th>\n",
       "      <th>Domain</th>\n",
       "      <th>Area Code (M49)</th>\n",
       "      <th>Area</th>\n",
       "      <th>Element Code</th>\n",
       "      <th>Element</th>\n",
       "      <th>Item Code (CPC)</th>\n",
       "      <th>Item</th>\n",
       "      <th>Year Code</th>\n",
       "      <th>Year</th>\n",
       "      <th>Unit</th>\n",
       "      <th>Value</th>\n",
       "      <th>Flag</th>\n",
       "      <th>Flag Description</th>\n",
       "      <th>LOCATION</th>\n",
       "      <th>EU</th>\n",
       "    </tr>\n",
       "  </thead>\n",
       "  <tbody>\n",
       "    <tr>\n",
       "      <th>1</th>\n",
       "      <td>QCL</td>\n",
       "      <td>Crops and livestock products</td>\n",
       "      <td>40</td>\n",
       "      <td>Austria</td>\n",
       "      <td>5312</td>\n",
       "      <td>Area harvested</td>\n",
       "      <td>1341</td>\n",
       "      <td>Apples</td>\n",
       "      <td>2018</td>\n",
       "      <td>2018</td>\n",
       "      <td>ha</td>\n",
       "      <td>6740.0</td>\n",
       "      <td>A</td>\n",
       "      <td>Official figure</td>\n",
       "      <td>AUT</td>\n",
       "      <td>1.0</td>\n",
       "    </tr>\n",
       "    <tr>\n",
       "      <th>2</th>\n",
       "      <td>QCL</td>\n",
       "      <td>Crops and livestock products</td>\n",
       "      <td>40</td>\n",
       "      <td>Austria</td>\n",
       "      <td>5312</td>\n",
       "      <td>Area harvested</td>\n",
       "      <td>1341</td>\n",
       "      <td>Apples</td>\n",
       "      <td>2019</td>\n",
       "      <td>2019</td>\n",
       "      <td>ha</td>\n",
       "      <td>6590.0</td>\n",
       "      <td>A</td>\n",
       "      <td>Official figure</td>\n",
       "      <td>AUT</td>\n",
       "      <td>1.0</td>\n",
       "    </tr>\n",
       "    <tr>\n",
       "      <th>3</th>\n",
       "      <td>QCL</td>\n",
       "      <td>Crops and livestock products</td>\n",
       "      <td>40</td>\n",
       "      <td>Austria</td>\n",
       "      <td>5312</td>\n",
       "      <td>Area harvested</td>\n",
       "      <td>1341</td>\n",
       "      <td>Apples</td>\n",
       "      <td>2020</td>\n",
       "      <td>2020</td>\n",
       "      <td>ha</td>\n",
       "      <td>6430.0</td>\n",
       "      <td>A</td>\n",
       "      <td>Official figure</td>\n",
       "      <td>AUT</td>\n",
       "      <td>1.0</td>\n",
       "    </tr>\n",
       "    <tr>\n",
       "      <th>4</th>\n",
       "      <td>QCL</td>\n",
       "      <td>Crops and livestock products</td>\n",
       "      <td>40</td>\n",
       "      <td>Austria</td>\n",
       "      <td>5419</td>\n",
       "      <td>Yield</td>\n",
       "      <td>1341</td>\n",
       "      <td>Apples</td>\n",
       "      <td>2018</td>\n",
       "      <td>2018</td>\n",
       "      <td>hg/ha</td>\n",
       "      <td>575593.0</td>\n",
       "      <td>E</td>\n",
       "      <td>Estimated value</td>\n",
       "      <td>AUT</td>\n",
       "      <td>1.0</td>\n",
       "    </tr>\n",
       "    <tr>\n",
       "      <th>5</th>\n",
       "      <td>QCL</td>\n",
       "      <td>Crops and livestock products</td>\n",
       "      <td>40</td>\n",
       "      <td>Austria</td>\n",
       "      <td>5419</td>\n",
       "      <td>Yield</td>\n",
       "      <td>1341</td>\n",
       "      <td>Apples</td>\n",
       "      <td>2019</td>\n",
       "      <td>2019</td>\n",
       "      <td>hg/ha</td>\n",
       "      <td>362989.0</td>\n",
       "      <td>E</td>\n",
       "      <td>Estimated value</td>\n",
       "      <td>AUT</td>\n",
       "      <td>1.0</td>\n",
       "    </tr>\n",
       "  </tbody>\n",
       "</table>\n",
       "</div>"
      ],
      "text/plain": [
       "  Domain Code                        Domain  Area Code (M49)     Area  \\\n",
       "1         QCL  Crops and livestock products               40  Austria   \n",
       "2         QCL  Crops and livestock products               40  Austria   \n",
       "3         QCL  Crops and livestock products               40  Austria   \n",
       "4         QCL  Crops and livestock products               40  Austria   \n",
       "5         QCL  Crops and livestock products               40  Austria   \n",
       "\n",
       "   Element Code         Element Item Code (CPC)    Item  Year Code  Year  \\\n",
       "1          5312  Area harvested            1341  Apples       2018  2018   \n",
       "2          5312  Area harvested            1341  Apples       2019  2019   \n",
       "3          5312  Area harvested            1341  Apples       2020  2020   \n",
       "4          5419           Yield            1341  Apples       2018  2018   \n",
       "5          5419           Yield            1341  Apples       2019  2019   \n",
       "\n",
       "    Unit     Value Flag Flag Description LOCATION   EU  \n",
       "1     ha    6740.0    A  Official figure      AUT  1.0  \n",
       "2     ha    6590.0    A  Official figure      AUT  1.0  \n",
       "3     ha    6430.0    A  Official figure      AUT  1.0  \n",
       "4  hg/ha  575593.0    E  Estimated value      AUT  1.0  \n",
       "5  hg/ha  362989.0    E  Estimated value      AUT  1.0  "
      ]
     },
     "execution_count": 130,
     "metadata": {},
     "output_type": "execute_result"
    }
   ],
   "source": [
    "df_farm_eu3 = df_farm_eu.dropna(subset=['Value','LOCATION', 'Year'])\n",
    "df_farm_eu3.head()"
   ]
  },
  {
   "cell_type": "code",
   "execution_count": 131,
   "metadata": {
    "scrolled": true
   },
   "outputs": [],
   "source": [
    "# we only have years, not dates so this isn't required.  \n",
    "# convert the 'Date' column to datetime format\n",
    "# df_farm_eu['wc_m']= pd.to_datetime(df_farm_eu['wc_m'], format='%d/%m/%Y')\n",
    " \n",
    "# # Check the format of 'Date' column\n",
    "# df_farm_eu.info()"
   ]
  },
  {
   "cell_type": "code",
   "execution_count": 132,
   "metadata": {},
   "outputs": [
    {
     "data": {
      "text/html": [
       "<div>\n",
       "<style scoped>\n",
       "    .dataframe tbody tr th:only-of-type {\n",
       "        vertical-align: middle;\n",
       "    }\n",
       "\n",
       "    .dataframe tbody tr th {\n",
       "        vertical-align: top;\n",
       "    }\n",
       "\n",
       "    .dataframe thead th {\n",
       "        text-align: right;\n",
       "    }\n",
       "</style>\n",
       "<table border=\"1\" class=\"dataframe\">\n",
       "  <thead>\n",
       "    <tr style=\"text-align: right;\">\n",
       "      <th></th>\n",
       "      <th>Area Code (M49)</th>\n",
       "      <th>Element Code</th>\n",
       "      <th>Year Code</th>\n",
       "      <th>Year</th>\n",
       "      <th>Value</th>\n",
       "      <th>EU</th>\n",
       "    </tr>\n",
       "  </thead>\n",
       "  <tbody>\n",
       "    <tr>\n",
       "      <th>count</th>\n",
       "      <td>25776.000000</td>\n",
       "      <td>25776.000000</td>\n",
       "      <td>25776.000000</td>\n",
       "      <td>25776.000000</td>\n",
       "      <td>2.429100e+04</td>\n",
       "      <td>25776.0</td>\n",
       "    </tr>\n",
       "    <tr>\n",
       "      <th>mean</th>\n",
       "      <td>393.942194</td>\n",
       "      <td>5406.803655</td>\n",
       "      <td>2018.403825</td>\n",
       "      <td>2018.403825</td>\n",
       "      <td>4.528464e+05</td>\n",
       "      <td>1.0</td>\n",
       "    </tr>\n",
       "    <tr>\n",
       "      <th>std</th>\n",
       "      <td>208.953413</td>\n",
       "      <td>99.953591</td>\n",
       "      <td>1.105977</td>\n",
       "      <td>1.105977</td>\n",
       "      <td>2.609127e+06</td>\n",
       "      <td>0.0</td>\n",
       "    </tr>\n",
       "    <tr>\n",
       "      <th>min</th>\n",
       "      <td>40.000000</td>\n",
       "      <td>5111.000000</td>\n",
       "      <td>2017.000000</td>\n",
       "      <td>2017.000000</td>\n",
       "      <td>0.000000e+00</td>\n",
       "      <td>1.0</td>\n",
       "    </tr>\n",
       "    <tr>\n",
       "      <th>25%</th>\n",
       "      <td>246.000000</td>\n",
       "      <td>5312.000000</td>\n",
       "      <td>2017.000000</td>\n",
       "      <td>2017.000000</td>\n",
       "      <td>4.600000e+02</td>\n",
       "      <td>1.0</td>\n",
       "    </tr>\n",
       "    <tr>\n",
       "      <th>50%</th>\n",
       "      <td>380.000000</td>\n",
       "      <td>5419.000000</td>\n",
       "      <td>2018.000000</td>\n",
       "      <td>2018.000000</td>\n",
       "      <td>1.445000e+04</td>\n",
       "      <td>1.0</td>\n",
       "    </tr>\n",
       "    <tr>\n",
       "      <th>75%</th>\n",
       "      <td>616.000000</td>\n",
       "      <td>5510.000000</td>\n",
       "      <td>2019.000000</td>\n",
       "      <td>2019.000000</td>\n",
       "      <td>1.033565e+05</td>\n",
       "      <td>1.0</td>\n",
       "    </tr>\n",
       "    <tr>\n",
       "      <th>max</th>\n",
       "      <td>752.000000</td>\n",
       "      <td>5513.000000</td>\n",
       "      <td>2020.000000</td>\n",
       "      <td>2020.000000</td>\n",
       "      <td>5.840837e+07</td>\n",
       "      <td>1.0</td>\n",
       "    </tr>\n",
       "  </tbody>\n",
       "</table>\n",
       "</div>"
      ],
      "text/plain": [
       "       Area Code (M49)  Element Code     Year Code          Year  \\\n",
       "count     25776.000000  25776.000000  25776.000000  25776.000000   \n",
       "mean        393.942194   5406.803655   2018.403825   2018.403825   \n",
       "std         208.953413     99.953591      1.105977      1.105977   \n",
       "min          40.000000   5111.000000   2017.000000   2017.000000   \n",
       "25%         246.000000   5312.000000   2017.000000   2017.000000   \n",
       "50%         380.000000   5419.000000   2018.000000   2018.000000   \n",
       "75%         616.000000   5510.000000   2019.000000   2019.000000   \n",
       "max         752.000000   5513.000000   2020.000000   2020.000000   \n",
       "\n",
       "              Value       EU  \n",
       "count  2.429100e+04  25776.0  \n",
       "mean   4.528464e+05      1.0  \n",
       "std    2.609127e+06      0.0  \n",
       "min    0.000000e+00      1.0  \n",
       "25%    4.600000e+02      1.0  \n",
       "50%    1.445000e+04      1.0  \n",
       "75%    1.033565e+05      1.0  \n",
       "max    5.840837e+07      1.0  "
      ]
     },
     "execution_count": 132,
     "metadata": {},
     "output_type": "execute_result"
    }
   ],
   "source": [
    "#describe data\n",
    "df_farm_eu.describe()"
   ]
  },
  {
   "cell_type": "code",
   "execution_count": 133,
   "metadata": {},
   "outputs": [
    {
     "name": "stdout",
     "output_type": "stream",
     "text": [
      "<class 'pandas.core.frame.DataFrame'>\n",
      "Int64Index: 24291 entries, 1 to 25775\n",
      "Data columns (total 16 columns):\n",
      " #   Column            Non-Null Count  Dtype  \n",
      "---  ------            --------------  -----  \n",
      " 0   Domain Code       24291 non-null  object \n",
      " 1   Domain            24291 non-null  object \n",
      " 2   Area Code (M49)   24291 non-null  int64  \n",
      " 3   Area              24291 non-null  object \n",
      " 4   Element Code      24291 non-null  int64  \n",
      " 5   Element           24291 non-null  object \n",
      " 6   Item Code (CPC)   24291 non-null  object \n",
      " 7   Item              24291 non-null  object \n",
      " 8   Year Code         24291 non-null  int64  \n",
      " 9   Year              24291 non-null  int64  \n",
      " 10  Unit              24291 non-null  object \n",
      " 11  Value             24291 non-null  float64\n",
      " 12  Flag              24291 non-null  object \n",
      " 13  Flag Description  24291 non-null  object \n",
      " 14  LOCATION          24291 non-null  object \n",
      " 15  EU                24291 non-null  float64\n",
      "dtypes: float64(2), int64(4), object(10)\n",
      "memory usage: 3.2+ MB\n"
     ]
    }
   ],
   "source": [
    "# get data info\n",
    "df_farm_eu = df_farm_eu3\n",
    "df_farm_eu.info()"
   ]
  },
  {
   "cell_type": "code",
   "execution_count": 134,
   "metadata": {},
   "outputs": [],
   "source": [
    "# df_farm_eu[df_farm_eu.Domain == 'Wheat'].pivot_table(index='Year', values=['Element'],\n",
    "                               #  aggfunc='sum')\n",
    "    "
   ]
  },
  {
   "cell_type": "code",
   "execution_count": 135,
   "metadata": {},
   "outputs": [],
   "source": [
    "# pd.pivot_table(df_farm_eu, index='Year', columns=['Element', 'LOCATION', ''], values='Value', aggfunc='sum')"
   ]
  },
  {
   "cell_type": "code",
   "execution_count": 136,
   "metadata": {},
   "outputs": [],
   "source": [
    "# Year = df_farm_eu3.index\n",
    "# df_farm_eu3['Year'] = Year.astype(int)\n",
    "# df_farm_eu4 = df_farm_eu.melt(id_vars=[\"Year\"],\n",
    "#         var_name=\"LOCATION\",\n",
    "#         value_name=\"\").dropna().reset_index(drop=True)\n",
    "# year = df_farm_eu4.Year\n",
    "# df_farm_eu4 = df_farm_eu.set_index([df_farm_eu4.index, 'Year'])\n",
    "# df_farm_eu4['Year'] = pd.Categorical(Year)\n",
    "# df_farm_eu4.head()"
   ]
  },
  {
   "cell_type": "markdown",
   "metadata": {},
   "source": [
    "## Data Viz"
   ]
  },
  {
   "cell_type": "code",
   "execution_count": 137,
   "metadata": {},
   "outputs": [
    {
     "data": {
      "text/html": [
       "<div>\n",
       "<style scoped>\n",
       "    .dataframe tbody tr th:only-of-type {\n",
       "        vertical-align: middle;\n",
       "    }\n",
       "\n",
       "    .dataframe tbody tr th {\n",
       "        vertical-align: top;\n",
       "    }\n",
       "\n",
       "    .dataframe thead th {\n",
       "        text-align: right;\n",
       "    }\n",
       "</style>\n",
       "<table border=\"1\" class=\"dataframe\">\n",
       "  <thead>\n",
       "    <tr style=\"text-align: right;\">\n",
       "      <th></th>\n",
       "      <th>Count</th>\n",
       "      <th>Domain Code</th>\n",
       "      <th>Domain</th>\n",
       "      <th>Area Code (M49)</th>\n",
       "      <th>Area</th>\n",
       "      <th>Element Code</th>\n",
       "      <th>Element</th>\n",
       "      <th>Item Code (CPC)</th>\n",
       "      <th>Item</th>\n",
       "      <th>Year Code</th>\n",
       "      <th>Year</th>\n",
       "      <th>Unit</th>\n",
       "      <th>Value</th>\n",
       "      <th>Flag</th>\n",
       "      <th>Flag Description</th>\n",
       "      <th>LOCATION</th>\n",
       "      <th>EU</th>\n",
       "    </tr>\n",
       "  </thead>\n",
       "  <tbody>\n",
       "    <tr>\n",
       "      <th>0</th>\n",
       "      <td>1037</td>\n",
       "      <td>QCL</td>\n",
       "      <td>Crops and livestock products</td>\n",
       "      <td>40</td>\n",
       "      <td>Austria</td>\n",
       "      <td>5312</td>\n",
       "      <td>Area harvested</td>\n",
       "      <td>111</td>\n",
       "      <td>Wheat</td>\n",
       "      <td>2017</td>\n",
       "      <td>2017</td>\n",
       "      <td>ha</td>\n",
       "      <td>295029</td>\n",
       "      <td>A</td>\n",
       "      <td>Official figure</td>\n",
       "      <td>AUT</td>\n",
       "      <td>1</td>\n",
       "    </tr>\n",
       "    <tr>\n",
       "      <th>1</th>\n",
       "      <td>1038</td>\n",
       "      <td>QCL</td>\n",
       "      <td>Crops and livestock products</td>\n",
       "      <td>40</td>\n",
       "      <td>Austria</td>\n",
       "      <td>5312</td>\n",
       "      <td>Area harvested</td>\n",
       "      <td>111</td>\n",
       "      <td>Wheat</td>\n",
       "      <td>2018</td>\n",
       "      <td>2018</td>\n",
       "      <td>ha</td>\n",
       "      <td>294290</td>\n",
       "      <td>A</td>\n",
       "      <td>Official figure</td>\n",
       "      <td>AUT</td>\n",
       "      <td>1</td>\n",
       "    </tr>\n",
       "    <tr>\n",
       "      <th>2</th>\n",
       "      <td>1039</td>\n",
       "      <td>QCL</td>\n",
       "      <td>Crops and livestock products</td>\n",
       "      <td>40</td>\n",
       "      <td>Austria</td>\n",
       "      <td>5312</td>\n",
       "      <td>Area harvested</td>\n",
       "      <td>111</td>\n",
       "      <td>Wheat</td>\n",
       "      <td>2019</td>\n",
       "      <td>2019</td>\n",
       "      <td>ha</td>\n",
       "      <td>278340</td>\n",
       "      <td>A</td>\n",
       "      <td>Official figure</td>\n",
       "      <td>AUT</td>\n",
       "      <td>1</td>\n",
       "    </tr>\n",
       "    <tr>\n",
       "      <th>3</th>\n",
       "      <td>1040</td>\n",
       "      <td>QCL</td>\n",
       "      <td>Crops and livestock products</td>\n",
       "      <td>40</td>\n",
       "      <td>Austria</td>\n",
       "      <td>5312</td>\n",
       "      <td>Area harvested</td>\n",
       "      <td>111</td>\n",
       "      <td>Wheat</td>\n",
       "      <td>2020</td>\n",
       "      <td>2020</td>\n",
       "      <td>ha</td>\n",
       "      <td>279020</td>\n",
       "      <td>A</td>\n",
       "      <td>Official figure</td>\n",
       "      <td>AUT</td>\n",
       "      <td>1</td>\n",
       "    </tr>\n",
       "    <tr>\n",
       "      <th>4</th>\n",
       "      <td>1041</td>\n",
       "      <td>QCL</td>\n",
       "      <td>Crops and livestock products</td>\n",
       "      <td>40</td>\n",
       "      <td>Austria</td>\n",
       "      <td>5419</td>\n",
       "      <td>Yield</td>\n",
       "      <td>111</td>\n",
       "      <td>Wheat</td>\n",
       "      <td>2017</td>\n",
       "      <td>2017</td>\n",
       "      <td>hg/ha</td>\n",
       "      <td>48712</td>\n",
       "      <td>E</td>\n",
       "      <td>Estimated value</td>\n",
       "      <td>AUT</td>\n",
       "      <td>1</td>\n",
       "    </tr>\n",
       "  </tbody>\n",
       "</table>\n",
       "</div>"
      ],
      "text/plain": [
       "   Count Domain Code                        Domain  Area Code (M49)     Area  \\\n",
       "0   1037         QCL  Crops and livestock products               40  Austria   \n",
       "1   1038         QCL  Crops and livestock products               40  Austria   \n",
       "2   1039         QCL  Crops and livestock products               40  Austria   \n",
       "3   1040         QCL  Crops and livestock products               40  Austria   \n",
       "4   1041         QCL  Crops and livestock products               40  Austria   \n",
       "\n",
       "   Element Code         Element  Item Code (CPC)   Item  Year Code  Year  \\\n",
       "0          5312  Area harvested              111  Wheat       2017  2017   \n",
       "1          5312  Area harvested              111  Wheat       2018  2018   \n",
       "2          5312  Area harvested              111  Wheat       2019  2019   \n",
       "3          5312  Area harvested              111  Wheat       2020  2020   \n",
       "4          5419           Yield              111  Wheat       2017  2017   \n",
       "\n",
       "    Unit   Value Flag Flag Description LOCATION  EU  \n",
       "0     ha  295029    A  Official figure      AUT   1  \n",
       "1     ha  294290    A  Official figure      AUT   1  \n",
       "2     ha  278340    A  Official figure      AUT   1  \n",
       "3     ha  279020    A  Official figure      AUT   1  \n",
       "4  hg/ha   48712    E  Estimated value      AUT   1  "
      ]
     },
     "execution_count": 137,
     "metadata": {},
     "output_type": "execute_result"
    }
   ],
   "source": [
    "df_eu_wh = pd.read_csv(\"DATA/df_eu_wheat.csv\")\n",
    "df_eu_wh.head(5)"
   ]
  },
  {
   "cell_type": "code",
   "execution_count": 138,
   "metadata": {},
   "outputs": [
    {
     "data": {
      "text/html": [
       "<div>\n",
       "<style scoped>\n",
       "    .dataframe tbody tr th:only-of-type {\n",
       "        vertical-align: middle;\n",
       "    }\n",
       "\n",
       "    .dataframe tbody tr th {\n",
       "        vertical-align: top;\n",
       "    }\n",
       "\n",
       "    .dataframe thead th {\n",
       "        text-align: right;\n",
       "    }\n",
       "</style>\n",
       "<table border=\"1\" class=\"dataframe\">\n",
       "  <thead>\n",
       "    <tr style=\"text-align: right;\">\n",
       "      <th></th>\n",
       "      <th>Count</th>\n",
       "      <th>Domain Code</th>\n",
       "      <th>Domain</th>\n",
       "      <th>Area Code (M49)</th>\n",
       "      <th>Area</th>\n",
       "      <th>Element Code</th>\n",
       "      <th>Element</th>\n",
       "      <th>Item Code (CPC)</th>\n",
       "      <th>Item</th>\n",
       "      <th>Year Code</th>\n",
       "      <th>Year</th>\n",
       "      <th>Unit</th>\n",
       "      <th>Value</th>\n",
       "      <th>Flag</th>\n",
       "      <th>Flag Description</th>\n",
       "      <th>LOCATION</th>\n",
       "      <th>EU</th>\n",
       "    </tr>\n",
       "  </thead>\n",
       "  <tbody>\n",
       "    <tr>\n",
       "      <th>8</th>\n",
       "      <td>1045</td>\n",
       "      <td>QCL</td>\n",
       "      <td>Crops and livestock products</td>\n",
       "      <td>40</td>\n",
       "      <td>Austria</td>\n",
       "      <td>5510</td>\n",
       "      <td>Production</td>\n",
       "      <td>111</td>\n",
       "      <td>Wheat</td>\n",
       "      <td>2017</td>\n",
       "      <td>2017</td>\n",
       "      <td>tonnes</td>\n",
       "      <td>1437143</td>\n",
       "      <td>A</td>\n",
       "      <td>Official figure</td>\n",
       "      <td>AUT</td>\n",
       "      <td>1</td>\n",
       "    </tr>\n",
       "    <tr>\n",
       "      <th>9</th>\n",
       "      <td>1046</td>\n",
       "      <td>QCL</td>\n",
       "      <td>Crops and livestock products</td>\n",
       "      <td>40</td>\n",
       "      <td>Austria</td>\n",
       "      <td>5510</td>\n",
       "      <td>Production</td>\n",
       "      <td>111</td>\n",
       "      <td>Wheat</td>\n",
       "      <td>2018</td>\n",
       "      <td>2018</td>\n",
       "      <td>tonnes</td>\n",
       "      <td>1367060</td>\n",
       "      <td>A</td>\n",
       "      <td>Official figure</td>\n",
       "      <td>AUT</td>\n",
       "      <td>1</td>\n",
       "    </tr>\n",
       "    <tr>\n",
       "      <th>10</th>\n",
       "      <td>1047</td>\n",
       "      <td>QCL</td>\n",
       "      <td>Crops and livestock products</td>\n",
       "      <td>40</td>\n",
       "      <td>Austria</td>\n",
       "      <td>5510</td>\n",
       "      <td>Production</td>\n",
       "      <td>111</td>\n",
       "      <td>Wheat</td>\n",
       "      <td>2019</td>\n",
       "      <td>2019</td>\n",
       "      <td>tonnes</td>\n",
       "      <td>1596880</td>\n",
       "      <td>A</td>\n",
       "      <td>Official figure</td>\n",
       "      <td>AUT</td>\n",
       "      <td>1</td>\n",
       "    </tr>\n",
       "    <tr>\n",
       "      <th>11</th>\n",
       "      <td>1048</td>\n",
       "      <td>QCL</td>\n",
       "      <td>Crops and livestock products</td>\n",
       "      <td>40</td>\n",
       "      <td>Austria</td>\n",
       "      <td>5510</td>\n",
       "      <td>Production</td>\n",
       "      <td>111</td>\n",
       "      <td>Wheat</td>\n",
       "      <td>2020</td>\n",
       "      <td>2020</td>\n",
       "      <td>tonnes</td>\n",
       "      <td>1652740</td>\n",
       "      <td>A</td>\n",
       "      <td>Official figure</td>\n",
       "      <td>AUT</td>\n",
       "      <td>1</td>\n",
       "    </tr>\n",
       "    <tr>\n",
       "      <th>20</th>\n",
       "      <td>2020</td>\n",
       "      <td>QCL</td>\n",
       "      <td>Crops and livestock products</td>\n",
       "      <td>56</td>\n",
       "      <td>Belgium</td>\n",
       "      <td>5510</td>\n",
       "      <td>Production</td>\n",
       "      <td>111</td>\n",
       "      <td>Wheat</td>\n",
       "      <td>2017</td>\n",
       "      <td>2017</td>\n",
       "      <td>tonnes</td>\n",
       "      <td>1702721</td>\n",
       "      <td>A</td>\n",
       "      <td>Official figure</td>\n",
       "      <td>BEL</td>\n",
       "      <td>1</td>\n",
       "    </tr>\n",
       "  </tbody>\n",
       "</table>\n",
       "</div>"
      ],
      "text/plain": [
       "    Count Domain Code                        Domain  Area Code (M49)     Area  \\\n",
       "8    1045         QCL  Crops and livestock products               40  Austria   \n",
       "9    1046         QCL  Crops and livestock products               40  Austria   \n",
       "10   1047         QCL  Crops and livestock products               40  Austria   \n",
       "11   1048         QCL  Crops and livestock products               40  Austria   \n",
       "20   2020         QCL  Crops and livestock products               56  Belgium   \n",
       "\n",
       "    Element Code     Element  Item Code (CPC)   Item  Year Code  Year    Unit  \\\n",
       "8           5510  Production              111  Wheat       2017  2017  tonnes   \n",
       "9           5510  Production              111  Wheat       2018  2018  tonnes   \n",
       "10          5510  Production              111  Wheat       2019  2019  tonnes   \n",
       "11          5510  Production              111  Wheat       2020  2020  tonnes   \n",
       "20          5510  Production              111  Wheat       2017  2017  tonnes   \n",
       "\n",
       "      Value Flag Flag Description LOCATION  EU  \n",
       "8   1437143    A  Official figure      AUT   1  \n",
       "9   1367060    A  Official figure      AUT   1  \n",
       "10  1596880    A  Official figure      AUT   1  \n",
       "11  1652740    A  Official figure      AUT   1  \n",
       "20  1702721    A  Official figure      BEL   1  "
      ]
     },
     "execution_count": 138,
     "metadata": {},
     "output_type": "execute_result"
    }
   ],
   "source": [
    "df_eu_wh_p = df_eu_wh[df_eu_wh['Element'] == \"Production\"] \n",
    "\n",
    "df_eu_wh_p.head()"
   ]
  },
  {
   "cell_type": "code",
   "execution_count": 139,
   "metadata": {},
   "outputs": [],
   "source": [
    "df_eu_wh_p.to_csv(\"DATAOUTPUTS/df_eu_wh_p.csv\", index = False)"
   ]
  },
  {
   "cell_type": "code",
   "execution_count": 140,
   "metadata": {},
   "outputs": [],
   "source": [
    "# # Basic Stat analysis\n"
   ]
  },
  {
   "cell_type": "code",
   "execution_count": null,
   "metadata": {},
   "outputs": [],
   "source": []
  },
  {
   "cell_type": "code",
   "execution_count": 141,
   "metadata": {},
   "outputs": [
    {
     "data": {
      "text/html": [
       "<div>\n",
       "<style scoped>\n",
       "    .dataframe tbody tr th:only-of-type {\n",
       "        vertical-align: middle;\n",
       "    }\n",
       "\n",
       "    .dataframe tbody tr th {\n",
       "        vertical-align: top;\n",
       "    }\n",
       "\n",
       "    .dataframe thead th {\n",
       "        text-align: right;\n",
       "    }\n",
       "</style>\n",
       "<table border=\"1\" class=\"dataframe\">\n",
       "  <thead>\n",
       "    <tr style=\"text-align: right;\">\n",
       "      <th></th>\n",
       "      <th>Count</th>\n",
       "      <th>Area Code (M49)</th>\n",
       "      <th>Element Code</th>\n",
       "      <th>Item Code (CPC)</th>\n",
       "      <th>Year Code</th>\n",
       "      <th>Year</th>\n",
       "      <th>Value</th>\n",
       "      <th>EU</th>\n",
       "    </tr>\n",
       "    <tr>\n",
       "      <th>LOCATION</th>\n",
       "      <th></th>\n",
       "      <th></th>\n",
       "      <th></th>\n",
       "      <th></th>\n",
       "      <th></th>\n",
       "      <th></th>\n",
       "      <th></th>\n",
       "      <th></th>\n",
       "    </tr>\n",
       "  </thead>\n",
       "  <tbody>\n",
       "    <tr>\n",
       "      <th>AUT</th>\n",
       "      <td>1046.5</td>\n",
       "      <td>40.0</td>\n",
       "      <td>5510.0</td>\n",
       "      <td>111.0</td>\n",
       "      <td>2018.5</td>\n",
       "      <td>2018.5</td>\n",
       "      <td>1513455.75</td>\n",
       "      <td>1.0</td>\n",
       "    </tr>\n",
       "    <tr>\n",
       "      <th>BEL</th>\n",
       "      <td>2021.5</td>\n",
       "      <td>56.0</td>\n",
       "      <td>5510.0</td>\n",
       "      <td>111.0</td>\n",
       "      <td>2018.5</td>\n",
       "      <td>2018.5</td>\n",
       "      <td>1752110.25</td>\n",
       "      <td>1.0</td>\n",
       "    </tr>\n",
       "    <tr>\n",
       "      <th>BGR</th>\n",
       "      <td>3289.5</td>\n",
       "      <td>100.0</td>\n",
       "      <td>5510.0</td>\n",
       "      <td>111.0</td>\n",
       "      <td>2018.5</td>\n",
       "      <td>2018.5</td>\n",
       "      <td>5813690.25</td>\n",
       "      <td>1.0</td>\n",
       "    </tr>\n",
       "    <tr>\n",
       "      <th>DEU</th>\n",
       "      <td>9430.5</td>\n",
       "      <td>276.0</td>\n",
       "      <td>5510.0</td>\n",
       "      <td>111.0</td>\n",
       "      <td>2018.5</td>\n",
       "      <td>2018.5</td>\n",
       "      <td>22494950.00</td>\n",
       "      <td>1.0</td>\n",
       "    </tr>\n",
       "    <tr>\n",
       "      <th>DNK</th>\n",
       "      <td>5246.5</td>\n",
       "      <td>208.0</td>\n",
       "      <td>5510.0</td>\n",
       "      <td>111.0</td>\n",
       "      <td>2018.5</td>\n",
       "      <td>2018.5</td>\n",
       "      <td>4042632.50</td>\n",
       "      <td>1.0</td>\n",
       "    </tr>\n",
       "    <tr>\n",
       "      <th>ESP</th>\n",
       "      <td>24880.5</td>\n",
       "      <td>724.0</td>\n",
       "      <td>5510.0</td>\n",
       "      <td>111.0</td>\n",
       "      <td>2018.5</td>\n",
       "      <td>2018.5</td>\n",
       "      <td>6845786.75</td>\n",
       "      <td>1.0</td>\n",
       "    </tr>\n",
       "    <tr>\n",
       "      <th>EST</th>\n",
       "      <td>6170.5</td>\n",
       "      <td>233.0</td>\n",
       "      <td>5510.0</td>\n",
       "      <td>111.0</td>\n",
       "      <td>2018.5</td>\n",
       "      <td>2018.5</td>\n",
       "      <td>712658.25</td>\n",
       "      <td>1.0</td>\n",
       "    </tr>\n",
       "    <tr>\n",
       "      <th>FIN</th>\n",
       "      <td>7069.5</td>\n",
       "      <td>246.0</td>\n",
       "      <td>5510.0</td>\n",
       "      <td>111.0</td>\n",
       "      <td>2018.5</td>\n",
       "      <td>2018.5</td>\n",
       "      <td>726100.00</td>\n",
       "      <td>1.0</td>\n",
       "    </tr>\n",
       "    <tr>\n",
       "      <th>FRA</th>\n",
       "      <td>8372.5</td>\n",
       "      <td>250.0</td>\n",
       "      <td>5510.0</td>\n",
       "      <td>111.0</td>\n",
       "      <td>2018.5</td>\n",
       "      <td>2018.5</td>\n",
       "      <td>36212776.50</td>\n",
       "      <td>1.0</td>\n",
       "    </tr>\n",
       "    <tr>\n",
       "      <th>GRC</th>\n",
       "      <td>10781.5</td>\n",
       "      <td>300.0</td>\n",
       "      <td>5510.0</td>\n",
       "      <td>111.0</td>\n",
       "      <td>2018.5</td>\n",
       "      <td>2018.5</td>\n",
       "      <td>1126020.50</td>\n",
       "      <td>1.0</td>\n",
       "    </tr>\n",
       "    <tr>\n",
       "      <th>HRV</th>\n",
       "      <td>4368.5</td>\n",
       "      <td>191.0</td>\n",
       "      <td>5510.0</td>\n",
       "      <td>111.0</td>\n",
       "      <td>2018.5</td>\n",
       "      <td>2018.5</td>\n",
       "      <td>777863.75</td>\n",
       "      <td>1.0</td>\n",
       "    </tr>\n",
       "    <tr>\n",
       "      <th>HUN</th>\n",
       "      <td>12035.5</td>\n",
       "      <td>348.0</td>\n",
       "      <td>5510.0</td>\n",
       "      <td>111.0</td>\n",
       "      <td>2018.5</td>\n",
       "      <td>2018.5</td>\n",
       "      <td>5250969.50</td>\n",
       "      <td>1.0</td>\n",
       "    </tr>\n",
       "    <tr>\n",
       "      <th>IRL</th>\n",
       "      <td>12835.5</td>\n",
       "      <td>372.0</td>\n",
       "      <td>5510.0</td>\n",
       "      <td>111.0</td>\n",
       "      <td>2018.5</td>\n",
       "      <td>2018.5</td>\n",
       "      <td>531859.75</td>\n",
       "      <td>1.0</td>\n",
       "    </tr>\n",
       "    <tr>\n",
       "      <th>ITA</th>\n",
       "      <td>14214.5</td>\n",
       "      <td>380.0</td>\n",
       "      <td>5510.0</td>\n",
       "      <td>111.0</td>\n",
       "      <td>2018.5</td>\n",
       "      <td>2018.5</td>\n",
       "      <td>6881691.25</td>\n",
       "      <td>1.0</td>\n",
       "    </tr>\n",
       "    <tr>\n",
       "      <th>LTU</th>\n",
       "      <td>16178.5</td>\n",
       "      <td>440.0</td>\n",
       "      <td>5510.0</td>\n",
       "      <td>111.0</td>\n",
       "      <td>2018.5</td>\n",
       "      <td>2018.5</td>\n",
       "      <td>3854718.00</td>\n",
       "      <td>1.0</td>\n",
       "    </tr>\n",
       "    <tr>\n",
       "      <th>LUX</th>\n",
       "      <td>17028.5</td>\n",
       "      <td>442.0</td>\n",
       "      <td>5510.0</td>\n",
       "      <td>111.0</td>\n",
       "      <td>2018.5</td>\n",
       "      <td>2018.5</td>\n",
       "      <td>78022.75</td>\n",
       "      <td>1.0</td>\n",
       "    </tr>\n",
       "    <tr>\n",
       "      <th>LVA</th>\n",
       "      <td>15125.5</td>\n",
       "      <td>428.0</td>\n",
       "      <td>5510.0</td>\n",
       "      <td>111.0</td>\n",
       "      <td>2018.5</td>\n",
       "      <td>2018.5</td>\n",
       "      <td>2150250.00</td>\n",
       "      <td>1.0</td>\n",
       "    </tr>\n",
       "    <tr>\n",
       "      <th>MLT</th>\n",
       "      <td>17803.5</td>\n",
       "      <td>470.0</td>\n",
       "      <td>5510.0</td>\n",
       "      <td>111.0</td>\n",
       "      <td>2018.5</td>\n",
       "      <td>2018.5</td>\n",
       "      <td>3103.25</td>\n",
       "      <td>1.0</td>\n",
       "    </tr>\n",
       "    <tr>\n",
       "      <th>NLD</th>\n",
       "      <td>18768.5</td>\n",
       "      <td>528.0</td>\n",
       "      <td>5510.0</td>\n",
       "      <td>111.0</td>\n",
       "      <td>2018.5</td>\n",
       "      <td>2018.5</td>\n",
       "      <td>1019607.75</td>\n",
       "      <td>1.0</td>\n",
       "    </tr>\n",
       "    <tr>\n",
       "      <th>POL</th>\n",
       "      <td>19930.5</td>\n",
       "      <td>616.0</td>\n",
       "      <td>5510.0</td>\n",
       "      <td>111.0</td>\n",
       "      <td>2018.5</td>\n",
       "      <td>2018.5</td>\n",
       "      <td>11136005.50</td>\n",
       "      <td>1.0</td>\n",
       "    </tr>\n",
       "    <tr>\n",
       "      <th>PRT</th>\n",
       "      <td>21114.5</td>\n",
       "      <td>620.0</td>\n",
       "      <td>5510.0</td>\n",
       "      <td>111.0</td>\n",
       "      <td>2018.5</td>\n",
       "      <td>2018.5</td>\n",
       "      <td>72572.50</td>\n",
       "      <td>1.0</td>\n",
       "    </tr>\n",
       "    <tr>\n",
       "      <th>ROU</th>\n",
       "      <td>22345.5</td>\n",
       "      <td>642.0</td>\n",
       "      <td>5510.0</td>\n",
       "      <td>111.0</td>\n",
       "      <td>2018.5</td>\n",
       "      <td>2018.5</td>\n",
       "      <td>9307566.25</td>\n",
       "      <td>1.0</td>\n",
       "    </tr>\n",
       "    <tr>\n",
       "      <th>SVN</th>\n",
       "      <td>23450.5</td>\n",
       "      <td>705.0</td>\n",
       "      <td>5510.0</td>\n",
       "      <td>111.0</td>\n",
       "      <td>2018.5</td>\n",
       "      <td>2018.5</td>\n",
       "      <td>140200.25</td>\n",
       "      <td>1.0</td>\n",
       "    </tr>\n",
       "    <tr>\n",
       "      <th>SWE</th>\n",
       "      <td>25766.5</td>\n",
       "      <td>752.0</td>\n",
       "      <td>5510.0</td>\n",
       "      <td>111.0</td>\n",
       "      <td>2018.5</td>\n",
       "      <td>2018.5</td>\n",
       "      <td>2902500.00</td>\n",
       "      <td>1.0</td>\n",
       "    </tr>\n",
       "  </tbody>\n",
       "</table>\n",
       "</div>"
      ],
      "text/plain": [
       "            Count  Area Code (M49)  Element Code  Item Code (CPC)  Year Code  \\\n",
       "LOCATION                                                                       \n",
       "AUT        1046.5             40.0        5510.0            111.0     2018.5   \n",
       "BEL        2021.5             56.0        5510.0            111.0     2018.5   \n",
       "BGR        3289.5            100.0        5510.0            111.0     2018.5   \n",
       "DEU        9430.5            276.0        5510.0            111.0     2018.5   \n",
       "DNK        5246.5            208.0        5510.0            111.0     2018.5   \n",
       "ESP       24880.5            724.0        5510.0            111.0     2018.5   \n",
       "EST        6170.5            233.0        5510.0            111.0     2018.5   \n",
       "FIN        7069.5            246.0        5510.0            111.0     2018.5   \n",
       "FRA        8372.5            250.0        5510.0            111.0     2018.5   \n",
       "GRC       10781.5            300.0        5510.0            111.0     2018.5   \n",
       "HRV        4368.5            191.0        5510.0            111.0     2018.5   \n",
       "HUN       12035.5            348.0        5510.0            111.0     2018.5   \n",
       "IRL       12835.5            372.0        5510.0            111.0     2018.5   \n",
       "ITA       14214.5            380.0        5510.0            111.0     2018.5   \n",
       "LTU       16178.5            440.0        5510.0            111.0     2018.5   \n",
       "LUX       17028.5            442.0        5510.0            111.0     2018.5   \n",
       "LVA       15125.5            428.0        5510.0            111.0     2018.5   \n",
       "MLT       17803.5            470.0        5510.0            111.0     2018.5   \n",
       "NLD       18768.5            528.0        5510.0            111.0     2018.5   \n",
       "POL       19930.5            616.0        5510.0            111.0     2018.5   \n",
       "PRT       21114.5            620.0        5510.0            111.0     2018.5   \n",
       "ROU       22345.5            642.0        5510.0            111.0     2018.5   \n",
       "SVN       23450.5            705.0        5510.0            111.0     2018.5   \n",
       "SWE       25766.5            752.0        5510.0            111.0     2018.5   \n",
       "\n",
       "            Year        Value   EU  \n",
       "LOCATION                            \n",
       "AUT       2018.5   1513455.75  1.0  \n",
       "BEL       2018.5   1752110.25  1.0  \n",
       "BGR       2018.5   5813690.25  1.0  \n",
       "DEU       2018.5  22494950.00  1.0  \n",
       "DNK       2018.5   4042632.50  1.0  \n",
       "ESP       2018.5   6845786.75  1.0  \n",
       "EST       2018.5    712658.25  1.0  \n",
       "FIN       2018.5    726100.00  1.0  \n",
       "FRA       2018.5  36212776.50  1.0  \n",
       "GRC       2018.5   1126020.50  1.0  \n",
       "HRV       2018.5    777863.75  1.0  \n",
       "HUN       2018.5   5250969.50  1.0  \n",
       "IRL       2018.5    531859.75  1.0  \n",
       "ITA       2018.5   6881691.25  1.0  \n",
       "LTU       2018.5   3854718.00  1.0  \n",
       "LUX       2018.5     78022.75  1.0  \n",
       "LVA       2018.5   2150250.00  1.0  \n",
       "MLT       2018.5      3103.25  1.0  \n",
       "NLD       2018.5   1019607.75  1.0  \n",
       "POL       2018.5  11136005.50  1.0  \n",
       "PRT       2018.5     72572.50  1.0  \n",
       "ROU       2018.5   9307566.25  1.0  \n",
       "SVN       2018.5    140200.25  1.0  \n",
       "SWE       2018.5   2902500.00  1.0  "
      ]
     },
     "execution_count": 141,
     "metadata": {},
     "output_type": "execute_result"
    }
   ],
   "source": [
    "\n",
    "\n",
    "# calculate the mean Wheat production for each Country \n",
    "location_mean = df_eu_wh_p.groupby('LOCATION').mean()\n",
    "\n",
    "location_mean.head(30)\n"
   ]
  },
  {
   "cell_type": "code",
   "execution_count": 142,
   "metadata": {},
   "outputs": [
    {
     "name": "stdout",
     "output_type": "stream",
     "text": [
      "             Count  Area Code (M49)  Element Code  Item Code (CPC)  Year Code  \\\n",
      "LOCATION                                                                        \n",
      "AUT       1.290994              0.0           0.0              0.0   1.290994   \n",
      "BEL       1.290994              0.0           0.0              0.0   1.290994   \n",
      "BGR       1.290994              0.0           0.0              0.0   1.290994   \n",
      "DEU       1.290994              0.0           0.0              0.0   1.290994   \n",
      "DNK       1.290994              0.0           0.0              0.0   1.290994   \n",
      "ESP       1.290994              0.0           0.0              0.0   1.290994   \n",
      "EST       1.290994              0.0           0.0              0.0   1.290994   \n",
      "FIN       1.290994              0.0           0.0              0.0   1.290994   \n",
      "FRA       1.290994              0.0           0.0              0.0   1.290994   \n",
      "GRC       1.290994              0.0           0.0              0.0   1.290994   \n",
      "HRV       1.290994              0.0           0.0              0.0   1.290994   \n",
      "HUN       1.290994              0.0           0.0              0.0   1.290994   \n",
      "IRL       1.290994              0.0           0.0              0.0   1.290994   \n",
      "ITA       1.290994              0.0           0.0              0.0   1.290994   \n",
      "LTU       1.290994              0.0           0.0              0.0   1.290994   \n",
      "LUX       1.290994              0.0           0.0              0.0   1.290994   \n",
      "LVA       1.290994              0.0           0.0              0.0   1.290994   \n",
      "MLT       1.290994              0.0           0.0              0.0   1.290994   \n",
      "NLD       1.290994              0.0           0.0              0.0   1.290994   \n",
      "POL       1.290994              0.0           0.0              0.0   1.290994   \n",
      "PRT       1.290994              0.0           0.0              0.0   1.290994   \n",
      "ROU       1.290994              0.0           0.0              0.0   1.290994   \n",
      "SVN       1.290994              0.0           0.0              0.0   1.290994   \n",
      "SWE       1.290994              0.0           0.0              0.0   1.290994   \n",
      "\n",
      "              Year         Value   EU  \n",
      "LOCATION                               \n",
      "AUT       1.290994  1.336850e+05  0.0  \n",
      "BEL       1.290994  1.053224e+05  0.0  \n",
      "BGR       1.290994  6.608657e+05  0.0  \n",
      "DEU       1.290994  1.765654e+06  0.0  \n",
      "DNK       1.290994  9.998764e+05  0.0  \n",
      "ESP       1.290994  1.672566e+06  0.0  \n",
      "EST       1.290994  1.854109e+05  0.0  \n",
      "FIN       1.290994  1.761570e+05  0.0  \n",
      "FRA       1.290994  4.575979e+06  0.0  \n",
      "GRC       1.290994  1.618303e+05  0.0  \n",
      "HRV       1.290994  7.626530e+04  0.0  \n",
      "HUN       1.290994  1.047354e+05  0.0  \n",
      "IRL       1.290994  1.372322e+05  0.0  \n",
      "ITA       1.290994  1.866530e+05  0.0  \n",
      "LTU       1.290994  8.093799e+05  0.0  \n",
      "LUX       1.290994  4.174366e+03  0.0  \n",
      "LVA       1.290994  5.243272e+05  0.0  \n",
      "MLT       1.290994  6.206500e+03  0.0  \n",
      "NLD       1.290994  9.042454e+04  0.0  \n",
      "POL       1.290994  1.199500e+06  0.0  \n",
      "PRT       1.290994  1.022624e+04  0.0  \n",
      "ROU       1.290994  1.705418e+06  0.0  \n",
      "SVN       1.290994  1.479984e+04  0.0  \n",
      "SWE       1.290994  8.617756e+05  0.0  \n"
     ]
    }
   ],
   "source": [
    "# # calculate the standard deviation for each year\n",
    "loc_std = df_eu_wh_p.groupby('LOCATION').std()\n",
    "print(loc_std)\n"
   ]
  },
  {
   "cell_type": "code",
   "execution_count": null,
   "metadata": {},
   "outputs": [],
   "source": []
  },
  {
   "cell_type": "code",
   "execution_count": 143,
   "metadata": {},
   "outputs": [
    {
     "name": "stdout",
     "output_type": "stream",
     "text": [
      "           Count  Area Code (M49)  Element Code  Item Code (CPC)  Year Code  \\\n",
      "Year                                                                          \n",
      "2017  7561.91978       210.645484           0.0              0.0        0.0   \n",
      "2018  7561.91978       210.645484           0.0              0.0        0.0   \n",
      "2019  7561.91978       210.645484           0.0              0.0        0.0   \n",
      "2020  7561.91978       210.645484           0.0              0.0        0.0   \n",
      "\n",
      "             Value   EU  \n",
      "Year                     \n",
      "2017  8.892496e+06  0.0  \n",
      "2018  8.048968e+06  0.0  \n",
      "2019  9.055609e+06  0.0  \n",
      "2020  7.321333e+06  0.0  \n"
     ]
    }
   ],
   "source": [
    "# # calculate the standard deviation for each country\n",
    "year_std = df_eu_wh_p.groupby('Year').std()\n",
    "print(year_std)"
   ]
  },
  {
   "cell_type": "code",
   "execution_count": 144,
   "metadata": {},
   "outputs": [],
   "source": [
    "# # calculate the correlation matrix for all variables in the dataframe\n",
    "# corr_matrix = df.corr()\n",
    "\n"
   ]
  },
  {
   "cell_type": "code",
   "execution_count": 145,
   "metadata": {},
   "outputs": [],
   "source": [
    "# # calculate the overall mean of all variables in the dataframe\n",
    "# overall_mean = df.mean()\n",
    "\n"
   ]
  },
  {
   "cell_type": "code",
   "execution_count": 146,
   "metadata": {},
   "outputs": [],
   "source": [
    "# # calculate the overall standard deviation of all variables in the dataframe\n",
    "# overall_std = df.std()"
   ]
  },
  {
   "cell_type": "code",
   "execution_count": 147,
   "metadata": {},
   "outputs": [
    {
     "name": "stderr",
     "output_type": "stream",
     "text": [
      "C:\\ProgramData\\Anaconda3\\lib\\site-packages\\seaborn\\distributions.py:2619: FutureWarning: `distplot` is a deprecated function and will be removed in a future version. Please adapt your code to use either `displot` (a figure-level function with similar flexibility) or `histplot` (an axes-level function for histograms).\n",
      "  warnings.warn(msg, FutureWarning)\n"
     ]
    },
    {
     "data": {
      "text/plain": [
       "<AxesSubplot:xlabel='Value', ylabel='Density'>"
      ]
     },
     "execution_count": 147,
     "metadata": {},
     "output_type": "execute_result"
    },
    {
     "data": {
      "image/png": "[encoded data removed]",
      "text/plain": [
       "<Figure size 432x288 with 1 Axes>"
      ]
     },
     "metadata": {
      "needs_background": "light"
     },
     "output_type": "display_data"
    }
   ],
   "source": [
    "#histogram of wheat produced. Is very skewed.  \n",
    "sns.distplot(df_eu_wh_p.Value)"
   ]
  },
  {
   "cell_type": "code",
   "execution_count": 148,
   "metadata": {},
   "outputs": [
    {
     "name": "stderr",
     "output_type": "stream",
     "text": [
      "C:\\ProgramData\\Anaconda3\\lib\\site-packages\\seaborn\\_decorators.py:36: FutureWarning: Pass the following variable as a keyword arg: x. From version 0.12, the only valid positional argument will be `data`, and passing other arguments without an explicit keyword will result in an error or misinterpretation.\n",
      "  warnings.warn(\n"
     ]
    },
    {
     "data": {
      "text/plain": [
       "<AxesSubplot:xlabel='Value'>"
      ]
     },
     "execution_count": 148,
     "metadata": {},
     "output_type": "execute_result"
    },
    {
     "data": {
      "image/png": "[encoded data removed]",
      "text/plain": [
       "<Figure size 432x288 with 1 Axes>"
      ]
     },
     "metadata": {
      "needs_background": "light"
     },
     "output_type": "display_data"
    }
   ],
   "source": [
    "# Box plot \n",
    "\n",
    "sns.boxplot(df_eu_wh_p.Value)"
   ]
  },
  {
   "cell_type": "code",
   "execution_count": 149,
   "metadata": {},
   "outputs": [],
   "source": [
    "# ## Advanced Stat analysis \n",
    "\n",
    "# import pandas as pd\n",
    "# import numpy as np\n",
    "# from scipy import stats\n",
    "\n",
    "# # Import data for Ireland and other countries\n",
    "# ireland_data = pd.read_csv(\"ireland_data.csv\")\n",
    "# other_countries_data = pd.read_csv(\"other_countries_data.csv\")\n",
    "\n",
    "# # Define hypotheses\n",
    "# # Null hypothesis: There is no significant difference between Ireland and other countries in terms of GDP per capita\n",
    "# # Alternative hypothesis: There is a significant difference between Ireland and other countries in terms of GDP per capita\n",
    "\n",
    "# # 1. T-test\n",
    "# # # Verify if the t-test is appropriate by checking if the data is normally distributed\n",
    "# # ireland_gdp = ireland_data[\"gdp_per_capita\"]\n",
    "# # other_countries_gdp = other_countries_data[\"gdp_per_capita\"]\n",
    "\n",
    "# # if stats.shapiro(ireland_gdp)[1] > 0.05 and stats.shapiro(other_countries_gdp)[1] > 0.05:\n",
    "# #     t_test_result = stats.ttest_ind(ireland_gdp, other_countries_gdp)\n",
    "# #     print(\"T-test results: t-value = {}, p-value = {}\".format(t_test_result[0], t_test_result[1]))\n",
    "# #     if t_test_result[1] < 0.05:\n",
    "# #         print(\"Reject the null hypothesis. There is a significant difference between Ireland and other countries in terms of GDP per capita.\")\n",
    "# #     else:\n",
    "# #         print(\"Fail to reject the null hypothesis. There is no significant difference between Ireland and other countries in terms of GDP per capita.\")\n",
    "# # else:\n",
    "# #     print(\"T-test is not appropriate for this data as it is not normally distributed.\")\n",
    "\n",
    "# # # 2. Analysis of variance (ANOVA)\n",
    "# # # Verify if the ANOVA is appropriate by checking if the variances are equal\n",
    "# # if stats.levene(ireland_gdp, other_countries_gdp)[1] > 0.05:\n",
    "# #     anova_result = stats.f_oneway(ireland_gdp, other_countries_gdp)\n",
    "# #     print(\"ANOVA results: F-value = {}, p-value = {}\".format(anova_result[0], anova_result[1]))\n",
    "# #     if anova_result[1] < 0.05:\n",
    "# #         print(\"Reject the null hypothesis. There is a significant difference between Ireland and other countries in terms of GDP per capita.\")\n",
    "# #     else:\n",
    "# #         print(\"Fail to reject the null hypothesis. There is no significant difference between Ireland and other countries in terms of GDP per capita.\")\n",
    "# # else:\n",
    "# #     print(\"ANOVA is not appropriate for this data as the variances are not equal.\")\n",
    "\n",
    "# # # 3. Wilcoxon test\n",
    "# # # Verify if the Wilcoxon test is appropriate by checking if the data is ordinal or continuous\n",
    "# # if ireland_gdp.dtype == \"float64\" and other_countries_gdp.dtype == \"float64\":\n",
    "# #     wilcoxon_result = stats.wilcoxon(ireland_gdp, other_countries_gdp)\n",
    "# #     print(\"Wilcoxon test results: W-value = {}, p-value = {}\".format(wilcoxon_result[0], wilcoxon_result[1]))\n",
    "# #     if wilcoxon_result[1]\n"
   ]
  },
  {
   "cell_type": "markdown",
   "metadata": {},
   "source": [
    "## ML - Here is a Python script that demonstrates five advanced statistical analysis methods that are appropriate for panel data:\n",
    "\n"
   ]
  },
  {
   "cell_type": "code",
   "execution_count": 150,
   "metadata": {},
   "outputs": [],
   "source": [
    "# 1. Fixed Effects Model:\n",
    "\n",
    "# import statsmodels.formula.api as smf\n",
    "\n",
    "# # create dataframe with panel data\n",
    "# df = pd.DataFrame({'y': [1, 2, 3, 4, 5, 6], 'x': [1, 2, 3, 4, 5, 6], 'firm': [1, 1, 2, 2, 3, 3], 'year': [2000, 2001, 2000, 2001, 2000, 2001]})\n",
    "\n",
    "# # fit fixed effects model\n",
    "# fixed_effects = smf.ols(formula='y ~ x + firm + year', data=df).fit()\n",
    "# print(fixed_effects.summary())\n"
   ]
  },
  {
   "cell_type": "code",
   "execution_count": 151,
   "metadata": {},
   "outputs": [],
   "source": [
    "# # 2.  Random Effects Model:\n",
    "\n",
    "# import statsmodels.api as sm\n",
    "\n",
    "# # create dataframe with panel data\n",
    "# df = pd.DataFrame({'y': [1, 2, 3, 4, 5, 6], 'x': [1, 2, 3, 4, 5, 6], 'firm': [1, 1, 2, 2, 3, 3], 'year': [2000, 2001, 2000, 2001, 2000, 2001]})\n",
    "\n",
    "# # fit random effects model\n",
    "# random_effects = sm.MixedLM.from_formula('y ~ x', groups='firm', data=df).fit()\n",
    "# print(random_effects.summary())\n",
    "# 3. "
   ]
  },
  {
   "cell_type": "code",
   "execution_count": 152,
   "metadata": {},
   "outputs": [],
   "source": [
    "# 3. Feasible GLS:\n",
    "\n",
    "# import statsmodels.regression.linear_panel.panel_regress as pr\n",
    "\n",
    "# # create dataframe with panel data\n",
    "# df = pd.DataFrame({'y': [1, 2, 3, 4, 5, 6], 'x': [1, 2, 3, 4, 5, 6], 'firm': [1, 1, 2, 2, 3, 3], 'year': [2000, 2001, 2000, 2001, 2000, 2001]})\n",
    "\n",
    "# # fit feasible GLS\n",
    "# feasible_gls = pr.PanelOLS.from_formula('y ~ x', data=df, time_effects=True).fit()\n",
    "# print(feasible_gls.summary())\n"
   ]
  },
  {
   "cell_type": "code",
   "execution_count": 153,
   "metadata": {},
   "outputs": [],
   "source": [
    "# 4. Spatial Panel Data Model:\n",
    "\n",
    "# import pysal\n",
    "# import numpy as np\n",
    "\n",
    "# # create dataframe with panel data\n",
    "# df = pd.DataFrame({'y': [1, 2, 3, 4, 5, 6], 'x': [1, 2, 3, 4, 5, 6], 'firm': [1, 1, 2, 2, 3, 3], 'year': [2000, 2001, 2000, 2001, 2000, 2001]})\n",
    "\n",
    "# # Create spatial weights matrix\n",
    "# W = pysal.weights.Queen.from_dataframe(df)\n",
    "\n",
    "# # fit spatial panel data model\n",
    "# spatial_panel = pysal.spreg.ml_error.ML_Error(df[['y','x']], W, group=df['firm'], time_dummies=True)\n",
    "# print(spatial_panel.summary)\n"
   ]
  },
  {
   "cell_type": "code",
   "execution_count": 154,
   "metadata": {},
   "outputs": [],
   "source": [
    "\n",
    "# 5. Hausman-Taylor Estimator:\n",
    "# import statsmodels.tsa.regime_switching.mixed_frequentist as ht\n",
    "\n",
    "# # create dataframe with panel data\n",
    "# df = pd.DataFrame({'y': [1, 2, 3, 4,\n"
   ]
  },
  {
   "cell_type": "code",
   "execution_count": 155,
   "metadata": {},
   "outputs": [],
   "source": [
    "# # ## The below script uses various advanced statistical analysis methods that are \n",
    "# # appropriate for panel data. The first method is a fixed effects model, \n",
    "# # which allows for the estimation of the difference in mean income between individuals in \n",
    "# # different states. The second method is a random effects model, which also allows for the \n",
    "# # estimation of the difference in mean income between individuals in different states, \n",
    "# # but accounts for the fact that individuals may have different variances\n",
    "\n",
    "\n",
    "# # Import necessary libraries\n",
    "# import pandas as pd\n",
    "# import numpy as np\n",
    "# from statsmodels.formula.api import ols\n",
    "# from statsmodels.stats.anova import anova_lm\n",
    "# from statsmodels.graphics.factorplots import interaction_plot\n",
    "# from statsmodels.stats.diagnostic import het_breuschpagan\n",
    "# from statsmodels.stats.diagnostic import het_white\n",
    "# from statsmodels.stats.diagnostic import linear_rainbow\n",
    "# from statsmodels.stats.diagnostic import linear_harvey_collier\n",
    "# import seaborn as sns\n",
    "# import matplotlib.pyplot as plt\n",
    "\n",
    "# # Load panel data\n",
    "# data = pd.read_csv(\"panel_data.csv\")\n",
    "\n",
    "# # Method 1: Fixed Effects Model\n",
    "# # Hypothesis: There is a significant difference in mean income between individuals in different states\n",
    "\n",
    "# # Estimate fixed effects model\n",
    "# fixed_effects_model = ols(\"income ~ state + state:year\", data=data).fit()\n",
    "\n",
    "# # Print summary of model\n",
    "# print(fixed_effects_model.summary())\n",
    "\n",
    "# # Method 2: Random Effects Model\n",
    "# # Hypothesis: There is a significant difference in mean income between individuals in different states\n",
    "\n",
    "# # Estimate random effects model\n",
    "# random_effects_model = ols(\"income ~ state + state:year\", data=data, hasconst=False, groups=data[\"individual\"]).fit()\n",
    "\n",
    "# # Print summary of model\n",
    "# print(random_effects_model.summary())\n",
    "\n",
    "# # Method 3: Hausman Test\n",
    "# # Hypothesis: The fixed effects model is preferred over the random effects model\n",
    "\n",
    "# # Conduct Hausman test\n",
    "# hausman_test = fixed_effects_model.compare_f_test(random_effects_model)\n",
    "\n",
    "# # Print results of Hausman test\n",
    "# print(hausman_test)\n",
    "\n",
    "# # Method 4: Breusch-Pagan Test for Heteroskedasticity\n",
    "# # Hypothesis: There is heteroskedasticity in the fixed effects model\n",
    "\n",
    "# # Conduct Breusch-Pagan test\n",
    "# bp_test = het_breuschpagan(fixed_effects_model.resid, fixed_effects_model.model.exog)\n",
    "\n",
    "# # Print results of Breusch-Pagan test\n",
    "# print(bp_test)\n",
    "\n",
    "# # Method 5: Interaction Plot\n",
    "# # Hypothesis: There is an interaction between state and year on income\n",
    "\n",
    "# # Create interaction plot\n",
    "# interaction_plot(data[\"year\"], data[\"state\"], data[\"income\"], colors=[\"red\", \"blue\"])\n",
    "\n",
    "# # Show plot\n",
    "# plt.show()\n",
    "\n",
    "# # Conclusion:\n",
    "\n",
    "# # The fixed effects model and random effects model both indicate a significant difference in mean income between individuals in different states. \n",
    "# # The Hausman test suggests that the fixed effects model is preferred over the random effects model. \n",
    "# # The Breusch-Pagan test indicates that there is heteroskedasticity in the fixed effects model. \n",
    "# # The interaction plot suggests that there is an interaction between state and year on income.\n"
   ]
  },
  {
   "cell_type": "code",
   "execution_count": 156,
   "metadata": {},
   "outputs": [],
   "source": [
    "# Panel Data Fixed Effects Regression\n",
    "# This method is used to estimate the effects of one or more independent variables on a dependent variable while controlling for individual level unobserved heterogeneity. The hypothesis for this test is that there is a significant relationship between the independent variables and the dependent variable while controlling for individual level unobserved heterogeneity.\n",
    "\n",
    "# The results of this test show that the coefficients for the independent variables are statistically significant, with a p-value of less than 0.05. The coefficients indicate the direction and magnitude of the relationship between the independent variables and the dependent variable. The visualization of the results is a scatter plot with a line of best fit, showing the relationship between the independent variables and the dependent variable.\n",
    "\n",
    "# Conclusion: The panel data fixed effects regression results indicate that there is a statistically significant relationship between the independent variables and the dependent variable while controlling for individual level unobserved heterogeneity.\n",
    "\n",
    "# Panel Data Random Effects Regression\n",
    "# This method is used to estimate the effects of one or more independent variables on a dependent variable while controlling for both individual level unobserved heterogeneity and group level unobserved heterogeneity. The hypothesis for this test is that there is a significant relationship between the independent variables and the dependent variable while controlling for both individual level unobserved heterogeneity and group level unobserved heterogeneity.\n",
    "\n",
    "# The results of this test show that the coefficients for the independent variables are statistically significant, with a p-value of less than 0.05. The coefficients indicate the direction and magnitude of the relationship between the independent variables and the dependent variable. The visualization of the results is a scatter plot with a line of best fit, showing the relationship between the independent variables and the dependent variable.\n",
    "\n",
    "# Conclusion: The panel data random effects regression results indicate that there is a statistically significant relationship between the independent variables and the dependent variable while controlling for both individual level unobserved heterogeneity and group level unobserved heterogeneity.\n",
    "\n",
    "# Panel Data GLS (Generalized Least Squares)\n",
    "# This method is used to estimate the effects of one or more independent variables on a dependent variable while accounting for both individual level unobserved heterogeneity and serial correlation. The hypothesis for this test is that there is a significant relationship between the independent variables and the dependent variable while accounting for both individual level unobserved heterogeneity and serial correlation.\n",
    "\n",
    "# The results of this test show that the coefficients for the independent variables are statistically significant, with a p-value of less than 0.05. The coefficients indicate the direction and magnitude of the relationship between the independent variables and the dependent variable. The visualization of the results is a scatter plot with a line of best fit, showing the relationship between the independent variables and the dependent variable.\n",
    "\n",
    "# Conclusion: The panel data GLS results indicate that there is a statistically significant relationship between the independent variables and the dependent variable while accounting for both individual level unobserved heterogeneity and serial correlation.\n",
    "\n",
    "# Panel Data Hausman Test\n",
    "# This method is used to test whether a panel data fixed effects model or a panel data random effects model is more appropriate for a given dataset. The hypothesis for this test is that the fixed effects model is more appropriate for the given dataset.\n",
    "\n",
    "# The results of this test show that the p-value for the Hausman test is less than 0.05, indicating that the fixed effects model is more appropriate for the given dataset. The visualization of the results is a histogram showing the distribution of the test statistic.\n",
    "\n",
    "# Conclusion: The panel data Hausman test results indicate that the fixed effects model is more appropriate for the given dataset.\n",
    "\n",
    "# Panel Data Breusch-Pagan Test\n",
    "# This method is used to test for the presence of heteroscedasticity in a panel data regression model. The hypothesis for this test is"
   ]
  },
  {
   "cell_type": "code",
   "execution_count": 157,
   "metadata": {},
   "outputs": [],
   "source": [
    "plt.style.use('ggplot')"
   ]
  },
  {
   "cell_type": "code",
   "execution_count": 158,
   "metadata": {},
   "outputs": [],
   "source": [
    "# Maybe combine price data with farm data, and get relationship of all countries (panel data?)"
   ]
  },
  {
   "cell_type": "code",
   "execution_count": 159,
   "metadata": {},
   "outputs": [],
   "source": [
    "#a single index\n",
    "# pivoted = df_farm_eu.pivot(index=\"Year\", columns=\"Item\", values=\"Value\")"
   ]
  },
  {
   "cell_type": "code",
   "execution_count": 160,
   "metadata": {},
   "outputs": [],
   "source": [
    "# Ireland only\n",
    "df_Ire = df_farm_eu[df_farm_eu[\"Area\"] == \"Ireland\"]"
   ]
  },
  {
   "cell_type": "code",
   "execution_count": 161,
   "metadata": {},
   "outputs": [
    {
     "data": {
      "text/html": [
       "<div>\n",
       "<style scoped>\n",
       "    .dataframe tbody tr th:only-of-type {\n",
       "        vertical-align: middle;\n",
       "    }\n",
       "\n",
       "    .dataframe tbody tr th {\n",
       "        vertical-align: top;\n",
       "    }\n",
       "\n",
       "    .dataframe thead th {\n",
       "        text-align: right;\n",
       "    }\n",
       "</style>\n",
       "<table border=\"1\" class=\"dataframe\">\n",
       "  <thead>\n",
       "    <tr style=\"text-align: right;\">\n",
       "      <th></th>\n",
       "      <th>Domain Code</th>\n",
       "      <th>Domain</th>\n",
       "      <th>Area Code (M49)</th>\n",
       "      <th>Area</th>\n",
       "      <th>Element Code</th>\n",
       "      <th>Element</th>\n",
       "      <th>Item Code (CPC)</th>\n",
       "      <th>Item</th>\n",
       "      <th>Year Code</th>\n",
       "      <th>Year</th>\n",
       "      <th>Unit</th>\n",
       "      <th>Value</th>\n",
       "      <th>Flag</th>\n",
       "      <th>Flag Description</th>\n",
       "      <th>LOCATION</th>\n",
       "      <th>EU</th>\n",
       "    </tr>\n",
       "  </thead>\n",
       "  <tbody>\n",
       "    <tr>\n",
       "      <th>12044</th>\n",
       "      <td>QCL</td>\n",
       "      <td>Crops and livestock products</td>\n",
       "      <td>372</td>\n",
       "      <td>Ireland</td>\n",
       "      <td>5312</td>\n",
       "      <td>Area harvested</td>\n",
       "      <td>1371</td>\n",
       "      <td>Almonds, in shell</td>\n",
       "      <td>2018</td>\n",
       "      <td>2018</td>\n",
       "      <td>ha</td>\n",
       "      <td>0.0</td>\n",
       "      <td>A</td>\n",
       "      <td>Official figure</td>\n",
       "      <td>IRL</td>\n",
       "      <td>1.0</td>\n",
       "    </tr>\n",
       "    <tr>\n",
       "      <th>12045</th>\n",
       "      <td>QCL</td>\n",
       "      <td>Crops and livestock products</td>\n",
       "      <td>372</td>\n",
       "      <td>Ireland</td>\n",
       "      <td>5312</td>\n",
       "      <td>Area harvested</td>\n",
       "      <td>1371</td>\n",
       "      <td>Almonds, in shell</td>\n",
       "      <td>2019</td>\n",
       "      <td>2019</td>\n",
       "      <td>ha</td>\n",
       "      <td>0.0</td>\n",
       "      <td>A</td>\n",
       "      <td>Official figure</td>\n",
       "      <td>IRL</td>\n",
       "      <td>1.0</td>\n",
       "    </tr>\n",
       "    <tr>\n",
       "      <th>12046</th>\n",
       "      <td>QCL</td>\n",
       "      <td>Crops and livestock products</td>\n",
       "      <td>372</td>\n",
       "      <td>Ireland</td>\n",
       "      <td>5312</td>\n",
       "      <td>Area harvested</td>\n",
       "      <td>1371</td>\n",
       "      <td>Almonds, in shell</td>\n",
       "      <td>2020</td>\n",
       "      <td>2020</td>\n",
       "      <td>ha</td>\n",
       "      <td>0.0</td>\n",
       "      <td>A</td>\n",
       "      <td>Official figure</td>\n",
       "      <td>IRL</td>\n",
       "      <td>1.0</td>\n",
       "    </tr>\n",
       "    <tr>\n",
       "      <th>12047</th>\n",
       "      <td>QCL</td>\n",
       "      <td>Crops and livestock products</td>\n",
       "      <td>372</td>\n",
       "      <td>Ireland</td>\n",
       "      <td>5510</td>\n",
       "      <td>Production</td>\n",
       "      <td>1371</td>\n",
       "      <td>Almonds, in shell</td>\n",
       "      <td>2018</td>\n",
       "      <td>2018</td>\n",
       "      <td>tonnes</td>\n",
       "      <td>0.0</td>\n",
       "      <td>A</td>\n",
       "      <td>Official figure</td>\n",
       "      <td>IRL</td>\n",
       "      <td>1.0</td>\n",
       "    </tr>\n",
       "    <tr>\n",
       "      <th>12048</th>\n",
       "      <td>QCL</td>\n",
       "      <td>Crops and livestock products</td>\n",
       "      <td>372</td>\n",
       "      <td>Ireland</td>\n",
       "      <td>5510</td>\n",
       "      <td>Production</td>\n",
       "      <td>1371</td>\n",
       "      <td>Almonds, in shell</td>\n",
       "      <td>2019</td>\n",
       "      <td>2019</td>\n",
       "      <td>tonnes</td>\n",
       "      <td>0.0</td>\n",
       "      <td>A</td>\n",
       "      <td>Official figure</td>\n",
       "      <td>IRL</td>\n",
       "      <td>1.0</td>\n",
       "    </tr>\n",
       "    <tr>\n",
       "      <th>12049</th>\n",
       "      <td>QCL</td>\n",
       "      <td>Crops and livestock products</td>\n",
       "      <td>372</td>\n",
       "      <td>Ireland</td>\n",
       "      <td>5510</td>\n",
       "      <td>Production</td>\n",
       "      <td>1371</td>\n",
       "      <td>Almonds, in shell</td>\n",
       "      <td>2020</td>\n",
       "      <td>2020</td>\n",
       "      <td>tonnes</td>\n",
       "      <td>0.0</td>\n",
       "      <td>A</td>\n",
       "      <td>Official figure</td>\n",
       "      <td>IRL</td>\n",
       "      <td>1.0</td>\n",
       "    </tr>\n",
       "    <tr>\n",
       "      <th>12050</th>\n",
       "      <td>QCL</td>\n",
       "      <td>Crops and livestock products</td>\n",
       "      <td>372</td>\n",
       "      <td>Ireland</td>\n",
       "      <td>5312</td>\n",
       "      <td>Area harvested</td>\n",
       "      <td>1341</td>\n",
       "      <td>Apples</td>\n",
       "      <td>2017</td>\n",
       "      <td>2017</td>\n",
       "      <td>ha</td>\n",
       "      <td>695.0</td>\n",
       "      <td>A</td>\n",
       "      <td>Official figure</td>\n",
       "      <td>IRL</td>\n",
       "      <td>1.0</td>\n",
       "    </tr>\n",
       "    <tr>\n",
       "      <th>12051</th>\n",
       "      <td>QCL</td>\n",
       "      <td>Crops and livestock products</td>\n",
       "      <td>372</td>\n",
       "      <td>Ireland</td>\n",
       "      <td>5312</td>\n",
       "      <td>Area harvested</td>\n",
       "      <td>1341</td>\n",
       "      <td>Apples</td>\n",
       "      <td>2018</td>\n",
       "      <td>2018</td>\n",
       "      <td>ha</td>\n",
       "      <td>710.0</td>\n",
       "      <td>A</td>\n",
       "      <td>Official figure</td>\n",
       "      <td>IRL</td>\n",
       "      <td>1.0</td>\n",
       "    </tr>\n",
       "    <tr>\n",
       "      <th>12052</th>\n",
       "      <td>QCL</td>\n",
       "      <td>Crops and livestock products</td>\n",
       "      <td>372</td>\n",
       "      <td>Ireland</td>\n",
       "      <td>5312</td>\n",
       "      <td>Area harvested</td>\n",
       "      <td>1341</td>\n",
       "      <td>Apples</td>\n",
       "      <td>2019</td>\n",
       "      <td>2019</td>\n",
       "      <td>ha</td>\n",
       "      <td>710.0</td>\n",
       "      <td>A</td>\n",
       "      <td>Official figure</td>\n",
       "      <td>IRL</td>\n",
       "      <td>1.0</td>\n",
       "    </tr>\n",
       "    <tr>\n",
       "      <th>12053</th>\n",
       "      <td>QCL</td>\n",
       "      <td>Crops and livestock products</td>\n",
       "      <td>372</td>\n",
       "      <td>Ireland</td>\n",
       "      <td>5312</td>\n",
       "      <td>Area harvested</td>\n",
       "      <td>1341</td>\n",
       "      <td>Apples</td>\n",
       "      <td>2020</td>\n",
       "      <td>2020</td>\n",
       "      <td>ha</td>\n",
       "      <td>710.0</td>\n",
       "      <td>A</td>\n",
       "      <td>Official figure</td>\n",
       "      <td>IRL</td>\n",
       "      <td>1.0</td>\n",
       "    </tr>\n",
       "  </tbody>\n",
       "</table>\n",
       "</div>"
      ],
      "text/plain": [
       "      Domain Code                        Domain  Area Code (M49)     Area  \\\n",
       "12044         QCL  Crops and livestock products              372  Ireland   \n",
       "12045         QCL  Crops and livestock products              372  Ireland   \n",
       "12046         QCL  Crops and livestock products              372  Ireland   \n",
       "12047         QCL  Crops and livestock products              372  Ireland   \n",
       "12048         QCL  Crops and livestock products              372  Ireland   \n",
       "12049         QCL  Crops and livestock products              372  Ireland   \n",
       "12050         QCL  Crops and livestock products              372  Ireland   \n",
       "12051         QCL  Crops and livestock products              372  Ireland   \n",
       "12052         QCL  Crops and livestock products              372  Ireland   \n",
       "12053         QCL  Crops and livestock products              372  Ireland   \n",
       "\n",
       "       Element Code         Element Item Code (CPC)               Item  \\\n",
       "12044          5312  Area harvested            1371  Almonds, in shell   \n",
       "12045          5312  Area harvested            1371  Almonds, in shell   \n",
       "12046          5312  Area harvested            1371  Almonds, in shell   \n",
       "12047          5510      Production            1371  Almonds, in shell   \n",
       "12048          5510      Production            1371  Almonds, in shell   \n",
       "12049          5510      Production            1371  Almonds, in shell   \n",
       "12050          5312  Area harvested            1341             Apples   \n",
       "12051          5312  Area harvested            1341             Apples   \n",
       "12052          5312  Area harvested            1341             Apples   \n",
       "12053          5312  Area harvested            1341             Apples   \n",
       "\n",
       "       Year Code  Year    Unit  Value Flag Flag Description LOCATION   EU  \n",
       "12044       2018  2018      ha    0.0    A  Official figure      IRL  1.0  \n",
       "12045       2019  2019      ha    0.0    A  Official figure      IRL  1.0  \n",
       "12046       2020  2020      ha    0.0    A  Official figure      IRL  1.0  \n",
       "12047       2018  2018  tonnes    0.0    A  Official figure      IRL  1.0  \n",
       "12048       2019  2019  tonnes    0.0    A  Official figure      IRL  1.0  \n",
       "12049       2020  2020  tonnes    0.0    A  Official figure      IRL  1.0  \n",
       "12050       2017  2017      ha  695.0    A  Official figure      IRL  1.0  \n",
       "12051       2018  2018      ha  710.0    A  Official figure      IRL  1.0  \n",
       "12052       2019  2019      ha  710.0    A  Official figure      IRL  1.0  \n",
       "12053       2020  2020      ha  710.0    A  Official figure      IRL  1.0  "
      ]
     },
     "execution_count": 161,
     "metadata": {},
     "output_type": "execute_result"
    }
   ],
   "source": [
    "df_Ire.head(10)"
   ]
  },
  {
   "cell_type": "code",
   "execution_count": 162,
   "metadata": {},
   "outputs": [
    {
     "data": {
      "text/html": [
       "<div>\n",
       "<style scoped>\n",
       "    .dataframe tbody tr th:only-of-type {\n",
       "        vertical-align: middle;\n",
       "    }\n",
       "\n",
       "    .dataframe tbody tr th {\n",
       "        vertical-align: top;\n",
       "    }\n",
       "\n",
       "    .dataframe thead th {\n",
       "        text-align: right;\n",
       "    }\n",
       "</style>\n",
       "<table border=\"1\" class=\"dataframe\">\n",
       "  <thead>\n",
       "    <tr style=\"text-align: right;\">\n",
       "      <th></th>\n",
       "      <th>Domain Code</th>\n",
       "      <th>Domain</th>\n",
       "      <th>Area Code (M49)</th>\n",
       "      <th>Area</th>\n",
       "      <th>Element Code</th>\n",
       "      <th>Element</th>\n",
       "      <th>Item Code (CPC)</th>\n",
       "      <th>Item</th>\n",
       "      <th>Year Code</th>\n",
       "      <th>Year</th>\n",
       "      <th>Unit</th>\n",
       "      <th>Value</th>\n",
       "      <th>Flag</th>\n",
       "      <th>Flag Description</th>\n",
       "      <th>LOCATION</th>\n",
       "      <th>EU</th>\n",
       "    </tr>\n",
       "  </thead>\n",
       "  <tbody>\n",
       "    <tr>\n",
       "      <th>12044</th>\n",
       "      <td>QCL</td>\n",
       "      <td>Crops and livestock products</td>\n",
       "      <td>372</td>\n",
       "      <td>Ireland</td>\n",
       "      <td>5312</td>\n",
       "      <td>Area harvested</td>\n",
       "      <td>1371</td>\n",
       "      <td>Almonds, in shell</td>\n",
       "      <td>2018</td>\n",
       "      <td>2018</td>\n",
       "      <td>ha</td>\n",
       "      <td>0.0</td>\n",
       "      <td>A</td>\n",
       "      <td>Official figure</td>\n",
       "      <td>IRL</td>\n",
       "      <td>1.0</td>\n",
       "    </tr>\n",
       "    <tr>\n",
       "      <th>12045</th>\n",
       "      <td>QCL</td>\n",
       "      <td>Crops and livestock products</td>\n",
       "      <td>372</td>\n",
       "      <td>Ireland</td>\n",
       "      <td>5312</td>\n",
       "      <td>Area harvested</td>\n",
       "      <td>1371</td>\n",
       "      <td>Almonds, in shell</td>\n",
       "      <td>2019</td>\n",
       "      <td>2019</td>\n",
       "      <td>ha</td>\n",
       "      <td>0.0</td>\n",
       "      <td>A</td>\n",
       "      <td>Official figure</td>\n",
       "      <td>IRL</td>\n",
       "      <td>1.0</td>\n",
       "    </tr>\n",
       "    <tr>\n",
       "      <th>12046</th>\n",
       "      <td>QCL</td>\n",
       "      <td>Crops and livestock products</td>\n",
       "      <td>372</td>\n",
       "      <td>Ireland</td>\n",
       "      <td>5312</td>\n",
       "      <td>Area harvested</td>\n",
       "      <td>1371</td>\n",
       "      <td>Almonds, in shell</td>\n",
       "      <td>2020</td>\n",
       "      <td>2020</td>\n",
       "      <td>ha</td>\n",
       "      <td>0.0</td>\n",
       "      <td>A</td>\n",
       "      <td>Official figure</td>\n",
       "      <td>IRL</td>\n",
       "      <td>1.0</td>\n",
       "    </tr>\n",
       "    <tr>\n",
       "      <th>12047</th>\n",
       "      <td>QCL</td>\n",
       "      <td>Crops and livestock products</td>\n",
       "      <td>372</td>\n",
       "      <td>Ireland</td>\n",
       "      <td>5510</td>\n",
       "      <td>Production</td>\n",
       "      <td>1371</td>\n",
       "      <td>Almonds, in shell</td>\n",
       "      <td>2018</td>\n",
       "      <td>2018</td>\n",
       "      <td>tonnes</td>\n",
       "      <td>0.0</td>\n",
       "      <td>A</td>\n",
       "      <td>Official figure</td>\n",
       "      <td>IRL</td>\n",
       "      <td>1.0</td>\n",
       "    </tr>\n",
       "    <tr>\n",
       "      <th>12048</th>\n",
       "      <td>QCL</td>\n",
       "      <td>Crops and livestock products</td>\n",
       "      <td>372</td>\n",
       "      <td>Ireland</td>\n",
       "      <td>5510</td>\n",
       "      <td>Production</td>\n",
       "      <td>1371</td>\n",
       "      <td>Almonds, in shell</td>\n",
       "      <td>2019</td>\n",
       "      <td>2019</td>\n",
       "      <td>tonnes</td>\n",
       "      <td>0.0</td>\n",
       "      <td>A</td>\n",
       "      <td>Official figure</td>\n",
       "      <td>IRL</td>\n",
       "      <td>1.0</td>\n",
       "    </tr>\n",
       "    <tr>\n",
       "      <th>12049</th>\n",
       "      <td>QCL</td>\n",
       "      <td>Crops and livestock products</td>\n",
       "      <td>372</td>\n",
       "      <td>Ireland</td>\n",
       "      <td>5510</td>\n",
       "      <td>Production</td>\n",
       "      <td>1371</td>\n",
       "      <td>Almonds, in shell</td>\n",
       "      <td>2020</td>\n",
       "      <td>2020</td>\n",
       "      <td>tonnes</td>\n",
       "      <td>0.0</td>\n",
       "      <td>A</td>\n",
       "      <td>Official figure</td>\n",
       "      <td>IRL</td>\n",
       "      <td>1.0</td>\n",
       "    </tr>\n",
       "    <tr>\n",
       "      <th>12050</th>\n",
       "      <td>QCL</td>\n",
       "      <td>Crops and livestock products</td>\n",
       "      <td>372</td>\n",
       "      <td>Ireland</td>\n",
       "      <td>5312</td>\n",
       "      <td>Area harvested</td>\n",
       "      <td>1341</td>\n",
       "      <td>Apples</td>\n",
       "      <td>2017</td>\n",
       "      <td>2017</td>\n",
       "      <td>ha</td>\n",
       "      <td>695.0</td>\n",
       "      <td>A</td>\n",
       "      <td>Official figure</td>\n",
       "      <td>IRL</td>\n",
       "      <td>1.0</td>\n",
       "    </tr>\n",
       "    <tr>\n",
       "      <th>12051</th>\n",
       "      <td>QCL</td>\n",
       "      <td>Crops and livestock products</td>\n",
       "      <td>372</td>\n",
       "      <td>Ireland</td>\n",
       "      <td>5312</td>\n",
       "      <td>Area harvested</td>\n",
       "      <td>1341</td>\n",
       "      <td>Apples</td>\n",
       "      <td>2018</td>\n",
       "      <td>2018</td>\n",
       "      <td>ha</td>\n",
       "      <td>710.0</td>\n",
       "      <td>A</td>\n",
       "      <td>Official figure</td>\n",
       "      <td>IRL</td>\n",
       "      <td>1.0</td>\n",
       "    </tr>\n",
       "    <tr>\n",
       "      <th>12052</th>\n",
       "      <td>QCL</td>\n",
       "      <td>Crops and livestock products</td>\n",
       "      <td>372</td>\n",
       "      <td>Ireland</td>\n",
       "      <td>5312</td>\n",
       "      <td>Area harvested</td>\n",
       "      <td>1341</td>\n",
       "      <td>Apples</td>\n",
       "      <td>2019</td>\n",
       "      <td>2019</td>\n",
       "      <td>ha</td>\n",
       "      <td>710.0</td>\n",
       "      <td>A</td>\n",
       "      <td>Official figure</td>\n",
       "      <td>IRL</td>\n",
       "      <td>1.0</td>\n",
       "    </tr>\n",
       "    <tr>\n",
       "      <th>12053</th>\n",
       "      <td>QCL</td>\n",
       "      <td>Crops and livestock products</td>\n",
       "      <td>372</td>\n",
       "      <td>Ireland</td>\n",
       "      <td>5312</td>\n",
       "      <td>Area harvested</td>\n",
       "      <td>1341</td>\n",
       "      <td>Apples</td>\n",
       "      <td>2020</td>\n",
       "      <td>2020</td>\n",
       "      <td>ha</td>\n",
       "      <td>710.0</td>\n",
       "      <td>A</td>\n",
       "      <td>Official figure</td>\n",
       "      <td>IRL</td>\n",
       "      <td>1.0</td>\n",
       "    </tr>\n",
       "  </tbody>\n",
       "</table>\n",
       "</div>"
      ],
      "text/plain": [
       "      Domain Code                        Domain  Area Code (M49)     Area  \\\n",
       "12044         QCL  Crops and livestock products              372  Ireland   \n",
       "12045         QCL  Crops and livestock products              372  Ireland   \n",
       "12046         QCL  Crops and livestock products              372  Ireland   \n",
       "12047         QCL  Crops and livestock products              372  Ireland   \n",
       "12048         QCL  Crops and livestock products              372  Ireland   \n",
       "12049         QCL  Crops and livestock products              372  Ireland   \n",
       "12050         QCL  Crops and livestock products              372  Ireland   \n",
       "12051         QCL  Crops and livestock products              372  Ireland   \n",
       "12052         QCL  Crops and livestock products              372  Ireland   \n",
       "12053         QCL  Crops and livestock products              372  Ireland   \n",
       "\n",
       "       Element Code         Element Item Code (CPC)               Item  \\\n",
       "12044          5312  Area harvested            1371  Almonds, in shell   \n",
       "12045          5312  Area harvested            1371  Almonds, in shell   \n",
       "12046          5312  Area harvested            1371  Almonds, in shell   \n",
       "12047          5510      Production            1371  Almonds, in shell   \n",
       "12048          5510      Production            1371  Almonds, in shell   \n",
       "12049          5510      Production            1371  Almonds, in shell   \n",
       "12050          5312  Area harvested            1341             Apples   \n",
       "12051          5312  Area harvested            1341             Apples   \n",
       "12052          5312  Area harvested            1341             Apples   \n",
       "12053          5312  Area harvested            1341             Apples   \n",
       "\n",
       "       Year Code  Year    Unit  Value Flag Flag Description LOCATION   EU  \n",
       "12044       2018  2018      ha    0.0    A  Official figure      IRL  1.0  \n",
       "12045       2019  2019      ha    0.0    A  Official figure      IRL  1.0  \n",
       "12046       2020  2020      ha    0.0    A  Official figure      IRL  1.0  \n",
       "12047       2018  2018  tonnes    0.0    A  Official figure      IRL  1.0  \n",
       "12048       2019  2019  tonnes    0.0    A  Official figure      IRL  1.0  \n",
       "12049       2020  2020  tonnes    0.0    A  Official figure      IRL  1.0  \n",
       "12050       2017  2017      ha  695.0    A  Official figure      IRL  1.0  \n",
       "12051       2018  2018      ha  710.0    A  Official figure      IRL  1.0  \n",
       "12052       2019  2019      ha  710.0    A  Official figure      IRL  1.0  \n",
       "12053       2020  2020      ha  710.0    A  Official figure      IRL  1.0  "
      ]
     },
     "execution_count": 162,
     "metadata": {},
     "output_type": "execute_result"
    }
   ],
   "source": [
    "df_Ire.head(10)"
   ]
  },
  {
   "cell_type": "code",
   "execution_count": null,
   "metadata": {},
   "outputs": [],
   "source": []
  },
  {
   "cell_type": "code",
   "execution_count": 163,
   "metadata": {},
   "outputs": [],
   "source": [
    "# df_Ire[df_Ire.Domain == 'Wheat'].pivot_table(index='Year', values=['Element'],\n",
    "#                                  aggfunc='sum')"
   ]
  },
  {
   "cell_type": "code",
   "execution_count": 164,
   "metadata": {},
   "outputs": [],
   "source": [
    "df_Ire.to_csv('DATAOUTPUTS/df_Ire.csv', index=False)"
   ]
  },
  {
   "cell_type": "code",
   "execution_count": 165,
   "metadata": {},
   "outputs": [
    {
     "data": {
      "text/html": [
       "<div>\n",
       "<style scoped>\n",
       "    .dataframe tbody tr th:only-of-type {\n",
       "        vertical-align: middle;\n",
       "    }\n",
       "\n",
       "    .dataframe tbody tr th {\n",
       "        vertical-align: top;\n",
       "    }\n",
       "\n",
       "    .dataframe thead th {\n",
       "        text-align: right;\n",
       "    }\n",
       "</style>\n",
       "<table border=\"1\" class=\"dataframe\">\n",
       "  <thead>\n",
       "    <tr style=\"text-align: right;\">\n",
       "      <th></th>\n",
       "      <th>Domain Code</th>\n",
       "      <th>Domain</th>\n",
       "      <th>Area Code (M49)</th>\n",
       "      <th>Area</th>\n",
       "      <th>Element Code</th>\n",
       "      <th>Element</th>\n",
       "      <th>Item Code (CPC)</th>\n",
       "      <th>Item</th>\n",
       "      <th>Year Code</th>\n",
       "      <th>Year</th>\n",
       "      <th>Unit</th>\n",
       "      <th>Value</th>\n",
       "      <th>Flag</th>\n",
       "      <th>Flag Description</th>\n",
       "      <th>LOCATION</th>\n",
       "      <th>EU</th>\n",
       "    </tr>\n",
       "  </thead>\n",
       "  <tbody>\n",
       "    <tr>\n",
       "      <th>12826</th>\n",
       "      <td>QCL</td>\n",
       "      <td>Crops and livestock products</td>\n",
       "      <td>372</td>\n",
       "      <td>Ireland</td>\n",
       "      <td>5312</td>\n",
       "      <td>Area harvested</td>\n",
       "      <td>111</td>\n",
       "      <td>Wheat</td>\n",
       "      <td>2017</td>\n",
       "      <td>2017</td>\n",
       "      <td>ha</td>\n",
       "      <td>67047.0</td>\n",
       "      <td>A</td>\n",
       "      <td>Official figure</td>\n",
       "      <td>IRL</td>\n",
       "      <td>1.0</td>\n",
       "    </tr>\n",
       "    <tr>\n",
       "      <th>12827</th>\n",
       "      <td>QCL</td>\n",
       "      <td>Crops and livestock products</td>\n",
       "      <td>372</td>\n",
       "      <td>Ireland</td>\n",
       "      <td>5312</td>\n",
       "      <td>Area harvested</td>\n",
       "      <td>111</td>\n",
       "      <td>Wheat</td>\n",
       "      <td>2018</td>\n",
       "      <td>2018</td>\n",
       "      <td>ha</td>\n",
       "      <td>57980.0</td>\n",
       "      <td>A</td>\n",
       "      <td>Official figure</td>\n",
       "      <td>IRL</td>\n",
       "      <td>1.0</td>\n",
       "    </tr>\n",
       "    <tr>\n",
       "      <th>12828</th>\n",
       "      <td>QCL</td>\n",
       "      <td>Crops and livestock products</td>\n",
       "      <td>372</td>\n",
       "      <td>Ireland</td>\n",
       "      <td>5312</td>\n",
       "      <td>Area harvested</td>\n",
       "      <td>111</td>\n",
       "      <td>Wheat</td>\n",
       "      <td>2019</td>\n",
       "      <td>2019</td>\n",
       "      <td>ha</td>\n",
       "      <td>63480.0</td>\n",
       "      <td>A</td>\n",
       "      <td>Official figure</td>\n",
       "      <td>IRL</td>\n",
       "      <td>1.0</td>\n",
       "    </tr>\n",
       "    <tr>\n",
       "      <th>12829</th>\n",
       "      <td>QCL</td>\n",
       "      <td>Crops and livestock products</td>\n",
       "      <td>372</td>\n",
       "      <td>Ireland</td>\n",
       "      <td>5312</td>\n",
       "      <td>Area harvested</td>\n",
       "      <td>111</td>\n",
       "      <td>Wheat</td>\n",
       "      <td>2020</td>\n",
       "      <td>2020</td>\n",
       "      <td>ha</td>\n",
       "      <td>46990.0</td>\n",
       "      <td>A</td>\n",
       "      <td>Official figure</td>\n",
       "      <td>IRL</td>\n",
       "      <td>1.0</td>\n",
       "    </tr>\n",
       "    <tr>\n",
       "      <th>12830</th>\n",
       "      <td>QCL</td>\n",
       "      <td>Crops and livestock products</td>\n",
       "      <td>372</td>\n",
       "      <td>Ireland</td>\n",
       "      <td>5419</td>\n",
       "      <td>Yield</td>\n",
       "      <td>111</td>\n",
       "      <td>Wheat</td>\n",
       "      <td>2017</td>\n",
       "      <td>2017</td>\n",
       "      <td>hg/ha</td>\n",
       "      <td>101672.0</td>\n",
       "      <td>E</td>\n",
       "      <td>Estimated value</td>\n",
       "      <td>IRL</td>\n",
       "      <td>1.0</td>\n",
       "    </tr>\n",
       "  </tbody>\n",
       "</table>\n",
       "</div>"
      ],
      "text/plain": [
       "      Domain Code                        Domain  Area Code (M49)     Area  \\\n",
       "12826         QCL  Crops and livestock products              372  Ireland   \n",
       "12827         QCL  Crops and livestock products              372  Ireland   \n",
       "12828         QCL  Crops and livestock products              372  Ireland   \n",
       "12829         QCL  Crops and livestock products              372  Ireland   \n",
       "12830         QCL  Crops and livestock products              372  Ireland   \n",
       "\n",
       "       Element Code         Element Item Code (CPC)   Item  Year Code  Year  \\\n",
       "12826          5312  Area harvested             111  Wheat       2017  2017   \n",
       "12827          5312  Area harvested             111  Wheat       2018  2018   \n",
       "12828          5312  Area harvested             111  Wheat       2019  2019   \n",
       "12829          5312  Area harvested             111  Wheat       2020  2020   \n",
       "12830          5419           Yield             111  Wheat       2017  2017   \n",
       "\n",
       "        Unit     Value Flag Flag Description LOCATION   EU  \n",
       "12826     ha   67047.0    A  Official figure      IRL  1.0  \n",
       "12827     ha   57980.0    A  Official figure      IRL  1.0  \n",
       "12828     ha   63480.0    A  Official figure      IRL  1.0  \n",
       "12829     ha   46990.0    A  Official figure      IRL  1.0  \n",
       "12830  hg/ha  101672.0    E  Estimated value      IRL  1.0  "
      ]
     },
     "execution_count": 165,
     "metadata": {},
     "output_type": "execute_result"
    }
   ],
   "source": [
    "# Ireland and Wheat only, \n",
    "df_Ire_wh= df_Ire[df_Ire[\"Item\"] == \"Wheat\"]\n",
    "df_Ire_wh.head()\n"
   ]
  },
  {
   "cell_type": "code",
   "execution_count": 166,
   "metadata": {},
   "outputs": [],
   "source": [
    "df_Ire_wh.to_csv('DATAOUTPUTS/df_Ire_wh.csv', index=False)"
   ]
  },
  {
   "cell_type": "code",
   "execution_count": 167,
   "metadata": {},
   "outputs": [
    {
     "name": "stdout",
     "output_type": "stream",
     "text": [
      "Element  Area harvested  Production     Yield\n",
      "Year                                         \n",
      "2017            67047.0    681679.0  101672.0\n",
      "2018            57980.0    485480.0   83732.0\n",
      "2019            63480.0    595360.0   93787.0\n",
      "2020            46990.0    364920.0   77659.0\n"
     ]
    }
   ],
   "source": [
    "# Creative pivot table with all three elements\n",
    "df_Ire_wh_pivot = pd.pivot_table(df_Ire_wh, index='Year', columns='Element', values='Value', aggfunc='sum',)\n",
    "print(df_Ire_wh_pivot)\n",
    "# pd.pivot_table(df_Ire_wh, index='Year', columns=['A', 'B', 'C'], values='v3', aggfunc='count')    "
   ]
  },
  {
   "cell_type": "code",
   "execution_count": null,
   "metadata": {},
   "outputs": [],
   "source": []
  },
  {
   "cell_type": "code",
   "execution_count": 168,
   "metadata": {},
   "outputs": [
    {
     "data": {
      "text/html": [
       "<div>\n",
       "<style scoped>\n",
       "    .dataframe tbody tr th:only-of-type {\n",
       "        vertical-align: middle;\n",
       "    }\n",
       "\n",
       "    .dataframe tbody tr th {\n",
       "        vertical-align: top;\n",
       "    }\n",
       "\n",
       "    .dataframe thead th {\n",
       "        text-align: right;\n",
       "    }\n",
       "</style>\n",
       "<table border=\"1\" class=\"dataframe\">\n",
       "  <thead>\n",
       "    <tr style=\"text-align: right;\">\n",
       "      <th></th>\n",
       "    </tr>\n",
       "    <tr>\n",
       "      <th>Year</th>\n",
       "    </tr>\n",
       "  </thead>\n",
       "  <tbody>\n",
       "  </tbody>\n",
       "</table>\n",
       "</div>"
      ],
      "text/plain": [
       "Empty DataFrame\n",
       "Columns: []\n",
       "Index: []"
      ]
     },
     "execution_count": 168,
     "metadata": {},
     "output_type": "execute_result"
    }
   ],
   "source": [
    "df_Ire[df_Ire.Domain == 'Wheat'].pivot_table(index='Year', values=['Element'],\n",
    "                                 aggfunc='sum')"
   ]
  },
  {
   "cell_type": "code",
   "execution_count": 169,
   "metadata": {},
   "outputs": [
    {
     "data": {
      "text/plain": [
       "array([2017, 2018, 2019, 2020], dtype=int64)"
      ]
     },
     "execution_count": 169,
     "metadata": {},
     "output_type": "execute_result"
    }
   ],
   "source": [
    "# Check how many years of data do we have? \n",
    "df_Ire_wh.Year.unique()"
   ]
  },
  {
   "cell_type": "code",
   "execution_count": 170,
   "metadata": {},
   "outputs": [
    {
     "data": {
      "text/plain": [
       "array(['Area harvested', 'Yield', 'Production'], dtype=object)"
      ]
     },
     "execution_count": 170,
     "metadata": {},
     "output_type": "execute_result"
    }
   ],
   "source": [
    "# df.team.unique()\n",
    "df_Ire_wh.Element.unique()"
   ]
  },
  {
   "cell_type": "code",
   "execution_count": 171,
   "metadata": {},
   "outputs": [
    {
     "data": {
      "text/html": [
       "<div>\n",
       "<style scoped>\n",
       "    .dataframe tbody tr th:only-of-type {\n",
       "        vertical-align: middle;\n",
       "    }\n",
       "\n",
       "    .dataframe tbody tr th {\n",
       "        vertical-align: top;\n",
       "    }\n",
       "\n",
       "    .dataframe thead th {\n",
       "        text-align: right;\n",
       "    }\n",
       "</style>\n",
       "<table border=\"1\" class=\"dataframe\">\n",
       "  <thead>\n",
       "    <tr style=\"text-align: right;\">\n",
       "      <th></th>\n",
       "      <th>Domain Code</th>\n",
       "      <th>Domain</th>\n",
       "      <th>Area Code (M49)</th>\n",
       "      <th>Area</th>\n",
       "      <th>Element Code</th>\n",
       "      <th>Element</th>\n",
       "      <th>Item Code (CPC)</th>\n",
       "      <th>Item</th>\n",
       "      <th>Year Code</th>\n",
       "      <th>Year</th>\n",
       "      <th>Unit</th>\n",
       "      <th>Value</th>\n",
       "      <th>Flag</th>\n",
       "      <th>Flag Description</th>\n",
       "      <th>LOCATION</th>\n",
       "      <th>EU</th>\n",
       "    </tr>\n",
       "  </thead>\n",
       "  <tbody>\n",
       "    <tr>\n",
       "      <th>12830</th>\n",
       "      <td>QCL</td>\n",
       "      <td>Crops and livestock products</td>\n",
       "      <td>372</td>\n",
       "      <td>Ireland</td>\n",
       "      <td>5419</td>\n",
       "      <td>Yield</td>\n",
       "      <td>111</td>\n",
       "      <td>Wheat</td>\n",
       "      <td>2017</td>\n",
       "      <td>2017</td>\n",
       "      <td>hg/ha</td>\n",
       "      <td>101672.0</td>\n",
       "      <td>E</td>\n",
       "      <td>Estimated value</td>\n",
       "      <td>IRL</td>\n",
       "      <td>1.0</td>\n",
       "    </tr>\n",
       "    <tr>\n",
       "      <th>12831</th>\n",
       "      <td>QCL</td>\n",
       "      <td>Crops and livestock products</td>\n",
       "      <td>372</td>\n",
       "      <td>Ireland</td>\n",
       "      <td>5419</td>\n",
       "      <td>Yield</td>\n",
       "      <td>111</td>\n",
       "      <td>Wheat</td>\n",
       "      <td>2018</td>\n",
       "      <td>2018</td>\n",
       "      <td>hg/ha</td>\n",
       "      <td>83732.0</td>\n",
       "      <td>E</td>\n",
       "      <td>Estimated value</td>\n",
       "      <td>IRL</td>\n",
       "      <td>1.0</td>\n",
       "    </tr>\n",
       "    <tr>\n",
       "      <th>12832</th>\n",
       "      <td>QCL</td>\n",
       "      <td>Crops and livestock products</td>\n",
       "      <td>372</td>\n",
       "      <td>Ireland</td>\n",
       "      <td>5419</td>\n",
       "      <td>Yield</td>\n",
       "      <td>111</td>\n",
       "      <td>Wheat</td>\n",
       "      <td>2019</td>\n",
       "      <td>2019</td>\n",
       "      <td>hg/ha</td>\n",
       "      <td>93787.0</td>\n",
       "      <td>E</td>\n",
       "      <td>Estimated value</td>\n",
       "      <td>IRL</td>\n",
       "      <td>1.0</td>\n",
       "    </tr>\n",
       "    <tr>\n",
       "      <th>12833</th>\n",
       "      <td>QCL</td>\n",
       "      <td>Crops and livestock products</td>\n",
       "      <td>372</td>\n",
       "      <td>Ireland</td>\n",
       "      <td>5419</td>\n",
       "      <td>Yield</td>\n",
       "      <td>111</td>\n",
       "      <td>Wheat</td>\n",
       "      <td>2020</td>\n",
       "      <td>2020</td>\n",
       "      <td>hg/ha</td>\n",
       "      <td>77659.0</td>\n",
       "      <td>E</td>\n",
       "      <td>Estimated value</td>\n",
       "      <td>IRL</td>\n",
       "      <td>1.0</td>\n",
       "    </tr>\n",
       "  </tbody>\n",
       "</table>\n",
       "</div>"
      ],
      "text/plain": [
       "      Domain Code                        Domain  Area Code (M49)     Area  \\\n",
       "12830         QCL  Crops and livestock products              372  Ireland   \n",
       "12831         QCL  Crops and livestock products              372  Ireland   \n",
       "12832         QCL  Crops and livestock products              372  Ireland   \n",
       "12833         QCL  Crops and livestock products              372  Ireland   \n",
       "\n",
       "       Element Code Element Item Code (CPC)   Item  Year Code  Year   Unit  \\\n",
       "12830          5419   Yield             111  Wheat       2017  2017  hg/ha   \n",
       "12831          5419   Yield             111  Wheat       2018  2018  hg/ha   \n",
       "12832          5419   Yield             111  Wheat       2019  2019  hg/ha   \n",
       "12833          5419   Yield             111  Wheat       2020  2020  hg/ha   \n",
       "\n",
       "          Value Flag Flag Description LOCATION   EU  \n",
       "12830  101672.0    E  Estimated value      IRL  1.0  \n",
       "12831   83732.0    E  Estimated value      IRL  1.0  \n",
       "12832   93787.0    E  Estimated value      IRL  1.0  \n",
       "12833   77659.0    E  Estimated value      IRL  1.0  "
      ]
     },
     "execution_count": 171,
     "metadata": {},
     "output_type": "execute_result"
    }
   ],
   "source": [
    "df_Ire_wh_y= df_Ire_wh[df_Ire_wh[\"Element\"] == \"Yield\"]\n",
    "df_Ire_wh_y.head()"
   ]
  },
  {
   "cell_type": "code",
   "execution_count": 172,
   "metadata": {},
   "outputs": [
    {
     "data": {
      "text/html": [
       "<div>\n",
       "<style scoped>\n",
       "    .dataframe tbody tr th:only-of-type {\n",
       "        vertical-align: middle;\n",
       "    }\n",
       "\n",
       "    .dataframe tbody tr th {\n",
       "        vertical-align: top;\n",
       "    }\n",
       "\n",
       "    .dataframe thead th {\n",
       "        text-align: right;\n",
       "    }\n",
       "</style>\n",
       "<table border=\"1\" class=\"dataframe\">\n",
       "  <thead>\n",
       "    <tr style=\"text-align: right;\">\n",
       "      <th></th>\n",
       "      <th>Domain Code</th>\n",
       "      <th>Domain</th>\n",
       "      <th>Area Code (M49)</th>\n",
       "      <th>Area</th>\n",
       "      <th>Element Code</th>\n",
       "      <th>Element</th>\n",
       "      <th>Item Code (CPC)</th>\n",
       "      <th>Item</th>\n",
       "      <th>Year Code</th>\n",
       "      <th>Year</th>\n",
       "      <th>Unit</th>\n",
       "      <th>Value</th>\n",
       "      <th>Flag</th>\n",
       "      <th>Flag Description</th>\n",
       "      <th>LOCATION</th>\n",
       "      <th>EU</th>\n",
       "    </tr>\n",
       "  </thead>\n",
       "  <tbody>\n",
       "    <tr>\n",
       "      <th>12826</th>\n",
       "      <td>QCL</td>\n",
       "      <td>Crops and livestock products</td>\n",
       "      <td>372</td>\n",
       "      <td>Ireland</td>\n",
       "      <td>5312</td>\n",
       "      <td>Area harvested</td>\n",
       "      <td>111</td>\n",
       "      <td>Wheat</td>\n",
       "      <td>2017</td>\n",
       "      <td>2017</td>\n",
       "      <td>ha</td>\n",
       "      <td>67047.0</td>\n",
       "      <td>A</td>\n",
       "      <td>Official figure</td>\n",
       "      <td>IRL</td>\n",
       "      <td>1.0</td>\n",
       "    </tr>\n",
       "    <tr>\n",
       "      <th>12827</th>\n",
       "      <td>QCL</td>\n",
       "      <td>Crops and livestock products</td>\n",
       "      <td>372</td>\n",
       "      <td>Ireland</td>\n",
       "      <td>5312</td>\n",
       "      <td>Area harvested</td>\n",
       "      <td>111</td>\n",
       "      <td>Wheat</td>\n",
       "      <td>2018</td>\n",
       "      <td>2018</td>\n",
       "      <td>ha</td>\n",
       "      <td>57980.0</td>\n",
       "      <td>A</td>\n",
       "      <td>Official figure</td>\n",
       "      <td>IRL</td>\n",
       "      <td>1.0</td>\n",
       "    </tr>\n",
       "    <tr>\n",
       "      <th>12828</th>\n",
       "      <td>QCL</td>\n",
       "      <td>Crops and livestock products</td>\n",
       "      <td>372</td>\n",
       "      <td>Ireland</td>\n",
       "      <td>5312</td>\n",
       "      <td>Area harvested</td>\n",
       "      <td>111</td>\n",
       "      <td>Wheat</td>\n",
       "      <td>2019</td>\n",
       "      <td>2019</td>\n",
       "      <td>ha</td>\n",
       "      <td>63480.0</td>\n",
       "      <td>A</td>\n",
       "      <td>Official figure</td>\n",
       "      <td>IRL</td>\n",
       "      <td>1.0</td>\n",
       "    </tr>\n",
       "    <tr>\n",
       "      <th>12829</th>\n",
       "      <td>QCL</td>\n",
       "      <td>Crops and livestock products</td>\n",
       "      <td>372</td>\n",
       "      <td>Ireland</td>\n",
       "      <td>5312</td>\n",
       "      <td>Area harvested</td>\n",
       "      <td>111</td>\n",
       "      <td>Wheat</td>\n",
       "      <td>2020</td>\n",
       "      <td>2020</td>\n",
       "      <td>ha</td>\n",
       "      <td>46990.0</td>\n",
       "      <td>A</td>\n",
       "      <td>Official figure</td>\n",
       "      <td>IRL</td>\n",
       "      <td>1.0</td>\n",
       "    </tr>\n",
       "  </tbody>\n",
       "</table>\n",
       "</div>"
      ],
      "text/plain": [
       "      Domain Code                        Domain  Area Code (M49)     Area  \\\n",
       "12826         QCL  Crops and livestock products              372  Ireland   \n",
       "12827         QCL  Crops and livestock products              372  Ireland   \n",
       "12828         QCL  Crops and livestock products              372  Ireland   \n",
       "12829         QCL  Crops and livestock products              372  Ireland   \n",
       "\n",
       "       Element Code         Element Item Code (CPC)   Item  Year Code  Year  \\\n",
       "12826          5312  Area harvested             111  Wheat       2017  2017   \n",
       "12827          5312  Area harvested             111  Wheat       2018  2018   \n",
       "12828          5312  Area harvested             111  Wheat       2019  2019   \n",
       "12829          5312  Area harvested             111  Wheat       2020  2020   \n",
       "\n",
       "      Unit    Value Flag Flag Description LOCATION   EU  \n",
       "12826   ha  67047.0    A  Official figure      IRL  1.0  \n",
       "12827   ha  57980.0    A  Official figure      IRL  1.0  \n",
       "12828   ha  63480.0    A  Official figure      IRL  1.0  \n",
       "12829   ha  46990.0    A  Official figure      IRL  1.0  "
      ]
     },
     "execution_count": 172,
     "metadata": {},
     "output_type": "execute_result"
    }
   ],
   "source": [
    "df_Ire_wh_h= df_Ire_wh[df_Ire_wh[\"Element\"] == \"Area harvested\"]\n",
    "df_Ire_wh_h.head()"
   ]
  },
  {
   "cell_type": "code",
   "execution_count": null,
   "metadata": {},
   "outputs": [],
   "source": []
  },
  {
   "cell_type": "code",
   "execution_count": 173,
   "metadata": {},
   "outputs": [],
   "source": [
    "df_price_eu_ppi_wh_Ire_Cro = pd.read_csv(\"DATAOUTPUTS/df_price_eu_ppi_wh_Ire_Cro.csv\")\n",
    "df_price_eu_ppi_wh = pd.read_csv(\"DATAOUTPUTS/df_price_eu_ppi_wh.csv\")"
   ]
  },
  {
   "cell_type": "code",
   "execution_count": 183,
   "metadata": {},
   "outputs": [
    {
     "data": {
      "text/html": [
       "<div>\n",
       "<style scoped>\n",
       "    .dataframe tbody tr th:only-of-type {\n",
       "        vertical-align: middle;\n",
       "    }\n",
       "\n",
       "    .dataframe tbody tr th {\n",
       "        vertical-align: top;\n",
       "    }\n",
       "\n",
       "    .dataframe thead th {\n",
       "        text-align: right;\n",
       "    }\n",
       "</style>\n",
       "<table border=\"1\" class=\"dataframe\">\n",
       "  <thead>\n",
       "    <tr style=\"text-align: right;\">\n",
       "      <th></th>\n",
       "      <th>Area Code</th>\n",
       "      <th>Area Code (M49)</th>\n",
       "      <th>Area</th>\n",
       "      <th>eu_member</th>\n",
       "      <th>Item Code</th>\n",
       "      <th>Item Code (CPC)</th>\n",
       "      <th>Item</th>\n",
       "      <th>Element Code</th>\n",
       "      <th>Element</th>\n",
       "      <th>Months Code</th>\n",
       "      <th>...</th>\n",
       "      <th>Y2012</th>\n",
       "      <th>Y2013</th>\n",
       "      <th>Y2014</th>\n",
       "      <th>Y2015</th>\n",
       "      <th>Y2016</th>\n",
       "      <th>Y2017</th>\n",
       "      <th>Y2018</th>\n",
       "      <th>Y2019</th>\n",
       "      <th>Y2020</th>\n",
       "      <th>Y2021</th>\n",
       "    </tr>\n",
       "  </thead>\n",
       "  <tbody>\n",
       "    <tr>\n",
       "      <th>0</th>\n",
       "      <td>11</td>\n",
       "      <td>'040</td>\n",
       "      <td>Austria</td>\n",
       "      <td>1</td>\n",
       "      <td>15</td>\n",
       "      <td>'0111</td>\n",
       "      <td>Wheat</td>\n",
       "      <td>5539</td>\n",
       "      <td>Producer Price Index (2014-2016 = 100)</td>\n",
       "      <td>7021</td>\n",
       "      <td>...</td>\n",
       "      <td>163.57</td>\n",
       "      <td>114.73</td>\n",
       "      <td>104.65</td>\n",
       "      <td>106.20</td>\n",
       "      <td>89.15</td>\n",
       "      <td>112.40</td>\n",
       "      <td>119.38</td>\n",
       "      <td>113.18</td>\n",
       "      <td>107.75</td>\n",
       "      <td>102.33</td>\n",
       "    </tr>\n",
       "    <tr>\n",
       "      <th>1</th>\n",
       "      <td>255</td>\n",
       "      <td>'056</td>\n",
       "      <td>Belgium</td>\n",
       "      <td>1</td>\n",
       "      <td>15</td>\n",
       "      <td>'0111</td>\n",
       "      <td>Wheat</td>\n",
       "      <td>5539</td>\n",
       "      <td>Producer Price Index (2014-2016 = 100)</td>\n",
       "      <td>7021</td>\n",
       "      <td>...</td>\n",
       "      <td>148.00</td>\n",
       "      <td>131.71</td>\n",
       "      <td>109.25</td>\n",
       "      <td>102.34</td>\n",
       "      <td>88.41</td>\n",
       "      <td>93.70</td>\n",
       "      <td>110.42</td>\n",
       "      <td>103.35</td>\n",
       "      <td>115.65</td>\n",
       "      <td>119.20</td>\n",
       "    </tr>\n",
       "    <tr>\n",
       "      <th>2</th>\n",
       "      <td>27</td>\n",
       "      <td>'100</td>\n",
       "      <td>Bulgaria</td>\n",
       "      <td>1</td>\n",
       "      <td>15</td>\n",
       "      <td>'0111</td>\n",
       "      <td>Wheat</td>\n",
       "      <td>5539</td>\n",
       "      <td>Producer Price Index (2014-2016 = 100)</td>\n",
       "      <td>7021</td>\n",
       "      <td>...</td>\n",
       "      <td>135.58</td>\n",
       "      <td>105.71</td>\n",
       "      <td>105.38</td>\n",
       "      <td>102.34</td>\n",
       "      <td>92.29</td>\n",
       "      <td>100.95</td>\n",
       "      <td>102.25</td>\n",
       "      <td>99.84</td>\n",
       "      <td>110.01</td>\n",
       "      <td>116.45</td>\n",
       "    </tr>\n",
       "    <tr>\n",
       "      <th>3</th>\n",
       "      <td>98</td>\n",
       "      <td>'191</td>\n",
       "      <td>Croatia</td>\n",
       "      <td>1</td>\n",
       "      <td>15</td>\n",
       "      <td>'0111</td>\n",
       "      <td>Wheat</td>\n",
       "      <td>5539</td>\n",
       "      <td>Producer Price Index (2014-2016 = 100)</td>\n",
       "      <td>7021</td>\n",
       "      <td>...</td>\n",
       "      <td>127.50</td>\n",
       "      <td>102.58</td>\n",
       "      <td>110.09</td>\n",
       "      <td>105.96</td>\n",
       "      <td>83.95</td>\n",
       "      <td>94.75</td>\n",
       "      <td>99.02</td>\n",
       "      <td>101.58</td>\n",
       "      <td>96.01</td>\n",
       "      <td>90.51</td>\n",
       "    </tr>\n",
       "    <tr>\n",
       "      <th>4</th>\n",
       "      <td>50</td>\n",
       "      <td>'196</td>\n",
       "      <td>Cyprus</td>\n",
       "      <td>1</td>\n",
       "      <td>15</td>\n",
       "      <td>'0111</td>\n",
       "      <td>Wheat</td>\n",
       "      <td>5539</td>\n",
       "      <td>Producer Price Index (2014-2016 = 100)</td>\n",
       "      <td>7021</td>\n",
       "      <td>...</td>\n",
       "      <td>93.15</td>\n",
       "      <td>89.49</td>\n",
       "      <td>94.62</td>\n",
       "      <td>90.95</td>\n",
       "      <td>114.43</td>\n",
       "      <td>79.95</td>\n",
       "      <td>95.46</td>\n",
       "      <td>84.13</td>\n",
       "      <td>90.26</td>\n",
       "      <td>94.19</td>\n",
       "    </tr>\n",
       "  </tbody>\n",
       "</table>\n",
       "<p>5 rows × 43 columns</p>\n",
       "</div>"
      ],
      "text/plain": [
       "   Area Code Area Code (M49)      Area  eu_member  Item Code Item Code (CPC)  \\\n",
       "0         11            '040   Austria          1         15           '0111   \n",
       "1        255            '056   Belgium          1         15           '0111   \n",
       "2         27            '100  Bulgaria          1         15           '0111   \n",
       "3         98            '191   Croatia          1         15           '0111   \n",
       "4         50            '196    Cyprus          1         15           '0111   \n",
       "\n",
       "    Item  Element Code                                 Element  Months Code  \\\n",
       "0  Wheat          5539  Producer Price Index (2014-2016 = 100)         7021   \n",
       "1  Wheat          5539  Producer Price Index (2014-2016 = 100)         7021   \n",
       "2  Wheat          5539  Producer Price Index (2014-2016 = 100)         7021   \n",
       "3  Wheat          5539  Producer Price Index (2014-2016 = 100)         7021   \n",
       "4  Wheat          5539  Producer Price Index (2014-2016 = 100)         7021   \n",
       "\n",
       "   ...   Y2012   Y2013   Y2014   Y2015   Y2016   Y2017   Y2018   Y2019  \\\n",
       "0  ...  163.57  114.73  104.65  106.20   89.15  112.40  119.38  113.18   \n",
       "1  ...  148.00  131.71  109.25  102.34   88.41   93.70  110.42  103.35   \n",
       "2  ...  135.58  105.71  105.38  102.34   92.29  100.95  102.25   99.84   \n",
       "3  ...  127.50  102.58  110.09  105.96   83.95   94.75   99.02  101.58   \n",
       "4  ...   93.15   89.49   94.62   90.95  114.43   79.95   95.46   84.13   \n",
       "\n",
       "    Y2020   Y2021  \n",
       "0  107.75  102.33  \n",
       "1  115.65  119.20  \n",
       "2  110.01  116.45  \n",
       "3   96.01   90.51  \n",
       "4   90.26   94.19  \n",
       "\n",
       "[5 rows x 43 columns]"
      ]
     },
     "execution_count": 183,
     "metadata": {},
     "output_type": "execute_result"
    }
   ],
   "source": [
    "# f_price_eu_ppi_wh_Ire_Cro.head()\n",
    "# df_price_eu_ppi_wh.head()"
   ]
  },
  {
   "cell_type": "code",
   "execution_count": 185,
   "metadata": {},
   "outputs": [
    {
     "data": {
      "text/html": [
       "<div>\n",
       "<style scoped>\n",
       "    .dataframe tbody tr th:only-of-type {\n",
       "        vertical-align: middle;\n",
       "    }\n",
       "\n",
       "    .dataframe tbody tr th {\n",
       "        vertical-align: top;\n",
       "    }\n",
       "\n",
       "    .dataframe thead th {\n",
       "        text-align: right;\n",
       "    }\n",
       "</style>\n",
       "<table border=\"1\" class=\"dataframe\">\n",
       "  <thead>\n",
       "    <tr style=\"text-align: right;\">\n",
       "      <th></th>\n",
       "      <th>Area</th>\n",
       "      <th>Y1992</th>\n",
       "      <th>Y1993</th>\n",
       "      <th>Y1994</th>\n",
       "      <th>Y1995</th>\n",
       "      <th>Y1996</th>\n",
       "      <th>Y1997</th>\n",
       "      <th>Y1998</th>\n",
       "      <th>Y1999</th>\n",
       "      <th>Y2000</th>\n",
       "      <th>...</th>\n",
       "      <th>Y2012</th>\n",
       "      <th>Y2013</th>\n",
       "      <th>Y2014</th>\n",
       "      <th>Y2015</th>\n",
       "      <th>Y2016</th>\n",
       "      <th>Y2017</th>\n",
       "      <th>Y2018</th>\n",
       "      <th>Y2019</th>\n",
       "      <th>Y2020</th>\n",
       "      <th>Y2021</th>\n",
       "    </tr>\n",
       "  </thead>\n",
       "  <tbody>\n",
       "    <tr>\n",
       "      <th>0</th>\n",
       "      <td>Croatia</td>\n",
       "      <td>4.61</td>\n",
       "      <td>54.92</td>\n",
       "      <td>85.17</td>\n",
       "      <td>78.68</td>\n",
       "      <td>101.16</td>\n",
       "      <td>100.43</td>\n",
       "      <td>95.22</td>\n",
       "      <td>85.99</td>\n",
       "      <td>81.33</td>\n",
       "      <td>...</td>\n",
       "      <td>127.50</td>\n",
       "      <td>102.58</td>\n",
       "      <td>110.09</td>\n",
       "      <td>105.96</td>\n",
       "      <td>83.95</td>\n",
       "      <td>94.75</td>\n",
       "      <td>99.02</td>\n",
       "      <td>101.58</td>\n",
       "      <td>96.01</td>\n",
       "      <td>90.51</td>\n",
       "    </tr>\n",
       "    <tr>\n",
       "      <th>1</th>\n",
       "      <td>Ireland</td>\n",
       "      <td>89.20</td>\n",
       "      <td>89.20</td>\n",
       "      <td>75.29</td>\n",
       "      <td>94.11</td>\n",
       "      <td>76.93</td>\n",
       "      <td>63.83</td>\n",
       "      <td>65.47</td>\n",
       "      <td>69.56</td>\n",
       "      <td>66.29</td>\n",
       "      <td>...</td>\n",
       "      <td>142.18</td>\n",
       "      <td>100.78</td>\n",
       "      <td>126.75</td>\n",
       "      <td>83.18</td>\n",
       "      <td>90.07</td>\n",
       "      <td>95.99</td>\n",
       "      <td>131.16</td>\n",
       "      <td>96.00</td>\n",
       "      <td>111.38</td>\n",
       "      <td>119.68</td>\n",
       "    </tr>\n",
       "  </tbody>\n",
       "</table>\n",
       "<p>2 rows × 31 columns</p>\n",
       "</div>"
      ],
      "text/plain": [
       "      Area  Y1992  Y1993  Y1994  Y1995   Y1996   Y1997  Y1998  Y1999  Y2000  \\\n",
       "0  Croatia   4.61  54.92  85.17  78.68  101.16  100.43  95.22  85.99  81.33   \n",
       "1  Ireland  89.20  89.20  75.29  94.11   76.93   63.83  65.47  69.56  66.29   \n",
       "\n",
       "   ...   Y2012   Y2013   Y2014   Y2015  Y2016  Y2017   Y2018   Y2019   Y2020  \\\n",
       "0  ...  127.50  102.58  110.09  105.96  83.95  94.75   99.02  101.58   96.01   \n",
       "1  ...  142.18  100.78  126.75   83.18  90.07  95.99  131.16   96.00  111.38   \n",
       "\n",
       "    Y2021  \n",
       "0   90.51  \n",
       "1  119.68  \n",
       "\n",
       "[2 rows x 31 columns]"
      ]
     },
     "execution_count": 185,
     "metadata": {},
     "output_type": "execute_result"
    }
   ],
   "source": [
    "df_price_eu_ppi_wh_Ire_Cro_sm = pd.read_csv(\"DATAOUTPUTS/df_price_eu_ppi_wh_Ire_Cro_sm.csv\")\n",
    "df_price_eu_ppi_wh_Ire_Cro_sm.head()"
   ]
  },
  {
   "cell_type": "code",
   "execution_count": 385,
   "metadata": {},
   "outputs": [
    {
     "data": {
      "text/html": [
       "<div>\n",
       "<style scoped>\n",
       "    .dataframe tbody tr th:only-of-type {\n",
       "        vertical-align: middle;\n",
       "    }\n",
       "\n",
       "    .dataframe tbody tr th {\n",
       "        vertical-align: top;\n",
       "    }\n",
       "\n",
       "    .dataframe thead th {\n",
       "        text-align: right;\n",
       "    }\n",
       "</style>\n",
       "<table border=\"1\" class=\"dataframe\">\n",
       "  <thead>\n",
       "    <tr style=\"text-align: right;\">\n",
       "      <th>Area</th>\n",
       "      <th>Croatia</th>\n",
       "      <th>Ireland</th>\n",
       "      <th>Year</th>\n",
       "    </tr>\n",
       "  </thead>\n",
       "  <tbody>\n",
       "    <tr>\n",
       "      <th>Y1992</th>\n",
       "      <td>4.61</td>\n",
       "      <td>89.20</td>\n",
       "      <td>Y1992</td>\n",
       "    </tr>\n",
       "    <tr>\n",
       "      <th>Y1993</th>\n",
       "      <td>54.92</td>\n",
       "      <td>89.20</td>\n",
       "      <td>Y1993</td>\n",
       "    </tr>\n",
       "    <tr>\n",
       "      <th>Y1994</th>\n",
       "      <td>85.17</td>\n",
       "      <td>75.29</td>\n",
       "      <td>Y1994</td>\n",
       "    </tr>\n",
       "    <tr>\n",
       "      <th>Y1995</th>\n",
       "      <td>78.68</td>\n",
       "      <td>94.11</td>\n",
       "      <td>Y1995</td>\n",
       "    </tr>\n",
       "    <tr>\n",
       "      <th>Y1996</th>\n",
       "      <td>101.16</td>\n",
       "      <td>76.93</td>\n",
       "      <td>Y1996</td>\n",
       "    </tr>\n",
       "    <tr>\n",
       "      <th>Y1997</th>\n",
       "      <td>100.43</td>\n",
       "      <td>63.83</td>\n",
       "      <td>Y1997</td>\n",
       "    </tr>\n",
       "    <tr>\n",
       "      <th>Y1998</th>\n",
       "      <td>95.22</td>\n",
       "      <td>65.47</td>\n",
       "      <td>Y1998</td>\n",
       "    </tr>\n",
       "    <tr>\n",
       "      <th>Y1999</th>\n",
       "      <td>85.99</td>\n",
       "      <td>69.56</td>\n",
       "      <td>Y1999</td>\n",
       "    </tr>\n",
       "    <tr>\n",
       "      <th>Y2000</th>\n",
       "      <td>81.33</td>\n",
       "      <td>66.29</td>\n",
       "      <td>Y2000</td>\n",
       "    </tr>\n",
       "    <tr>\n",
       "      <th>Y2001</th>\n",
       "      <td>88.19</td>\n",
       "      <td>76.11</td>\n",
       "      <td>Y2001</td>\n",
       "    </tr>\n",
       "    <tr>\n",
       "      <th>Y2002</th>\n",
       "      <td>84.62</td>\n",
       "      <td>62.52</td>\n",
       "      <td>Y2002</td>\n",
       "    </tr>\n",
       "    <tr>\n",
       "      <th>Y2003</th>\n",
       "      <td>91.57</td>\n",
       "      <td>77.34</td>\n",
       "      <td>Y2003</td>\n",
       "    </tr>\n",
       "    <tr>\n",
       "      <th>Y2004</th>\n",
       "      <td>93.21</td>\n",
       "      <td>69.61</td>\n",
       "      <td>Y2004</td>\n",
       "    </tr>\n",
       "    <tr>\n",
       "      <th>Y2005</th>\n",
       "      <td>85.17</td>\n",
       "      <td>67.68</td>\n",
       "      <td>Y2005</td>\n",
       "    </tr>\n",
       "    <tr>\n",
       "      <th>Y2006</th>\n",
       "      <td>77.77</td>\n",
       "      <td>78.63</td>\n",
       "      <td>Y2006</td>\n",
       "    </tr>\n",
       "    <tr>\n",
       "      <th>Y2007</th>\n",
       "      <td>96.50</td>\n",
       "      <td>129.55</td>\n",
       "      <td>Y2007</td>\n",
       "    </tr>\n",
       "    <tr>\n",
       "      <th>Y2008</th>\n",
       "      <td>138.91</td>\n",
       "      <td>88.30</td>\n",
       "      <td>Y2008</td>\n",
       "    </tr>\n",
       "    <tr>\n",
       "      <th>Y2009</th>\n",
       "      <td>76.67</td>\n",
       "      <td>67.68</td>\n",
       "      <td>Y2009</td>\n",
       "    </tr>\n",
       "    <tr>\n",
       "      <th>Y2010</th>\n",
       "      <td>105.73</td>\n",
       "      <td>102.52</td>\n",
       "      <td>Y2010</td>\n",
       "    </tr>\n",
       "    <tr>\n",
       "      <th>Y2011</th>\n",
       "      <td>127.76</td>\n",
       "      <td>105.42</td>\n",
       "      <td>Y2011</td>\n",
       "    </tr>\n",
       "    <tr>\n",
       "      <th>Y2012</th>\n",
       "      <td>127.50</td>\n",
       "      <td>142.18</td>\n",
       "      <td>Y2012</td>\n",
       "    </tr>\n",
       "    <tr>\n",
       "      <th>Y2013</th>\n",
       "      <td>102.58</td>\n",
       "      <td>100.78</td>\n",
       "      <td>Y2013</td>\n",
       "    </tr>\n",
       "    <tr>\n",
       "      <th>Y2014</th>\n",
       "      <td>110.09</td>\n",
       "      <td>126.75</td>\n",
       "      <td>Y2014</td>\n",
       "    </tr>\n",
       "    <tr>\n",
       "      <th>Y2015</th>\n",
       "      <td>105.96</td>\n",
       "      <td>83.18</td>\n",
       "      <td>Y2015</td>\n",
       "    </tr>\n",
       "    <tr>\n",
       "      <th>Y2016</th>\n",
       "      <td>83.95</td>\n",
       "      <td>90.07</td>\n",
       "      <td>Y2016</td>\n",
       "    </tr>\n",
       "    <tr>\n",
       "      <th>Y2017</th>\n",
       "      <td>94.75</td>\n",
       "      <td>95.99</td>\n",
       "      <td>Y2017</td>\n",
       "    </tr>\n",
       "    <tr>\n",
       "      <th>Y2018</th>\n",
       "      <td>99.02</td>\n",
       "      <td>131.16</td>\n",
       "      <td>Y2018</td>\n",
       "    </tr>\n",
       "    <tr>\n",
       "      <th>Y2019</th>\n",
       "      <td>101.58</td>\n",
       "      <td>96.00</td>\n",
       "      <td>Y2019</td>\n",
       "    </tr>\n",
       "    <tr>\n",
       "      <th>Y2020</th>\n",
       "      <td>96.01</td>\n",
       "      <td>111.38</td>\n",
       "      <td>Y2020</td>\n",
       "    </tr>\n",
       "    <tr>\n",
       "      <th>Y2021</th>\n",
       "      <td>90.51</td>\n",
       "      <td>119.68</td>\n",
       "      <td>Y2021</td>\n",
       "    </tr>\n",
       "    <tr>\n",
       "      <th>Year</th>\n",
       "      <td>0.00</td>\n",
       "      <td>1.00</td>\n",
       "      <td>Year</td>\n",
       "    </tr>\n",
       "  </tbody>\n",
       "</table>\n",
       "</div>"
      ],
      "text/plain": [
       "Area   Croatia  Ireland   Year\n",
       "Y1992     4.61    89.20  Y1992\n",
       "Y1993    54.92    89.20  Y1993\n",
       "Y1994    85.17    75.29  Y1994\n",
       "Y1995    78.68    94.11  Y1995\n",
       "Y1996   101.16    76.93  Y1996\n",
       "Y1997   100.43    63.83  Y1997\n",
       "Y1998    95.22    65.47  Y1998\n",
       "Y1999    85.99    69.56  Y1999\n",
       "Y2000    81.33    66.29  Y2000\n",
       "Y2001    88.19    76.11  Y2001\n",
       "Y2002    84.62    62.52  Y2002\n",
       "Y2003    91.57    77.34  Y2003\n",
       "Y2004    93.21    69.61  Y2004\n",
       "Y2005    85.17    67.68  Y2005\n",
       "Y2006    77.77    78.63  Y2006\n",
       "Y2007    96.50   129.55  Y2007\n",
       "Y2008   138.91    88.30  Y2008\n",
       "Y2009    76.67    67.68  Y2009\n",
       "Y2010   105.73   102.52  Y2010\n",
       "Y2011   127.76   105.42  Y2011\n",
       "Y2012   127.50   142.18  Y2012\n",
       "Y2013   102.58   100.78  Y2013\n",
       "Y2014   110.09   126.75  Y2014\n",
       "Y2015   105.96    83.18  Y2015\n",
       "Y2016    83.95    90.07  Y2016\n",
       "Y2017    94.75    95.99  Y2017\n",
       "Y2018    99.02   131.16  Y2018\n",
       "Y2019   101.58    96.00  Y2019\n",
       "Y2020    96.01   111.38  Y2020\n",
       "Y2021    90.51   119.68  Y2021\n",
       "Year      0.00     1.00   Year"
      ]
     },
     "execution_count": 385,
     "metadata": {},
     "output_type": "execute_result"
    }
   ],
   "source": [
    "df_price_eu_ppi_wh_Ire_Cro_sm_trans = df_price_eu_ppi_wh_Ire_Cro_sm.set_index('Area').transpose()\n",
    "df_price_eu_ppi_wh_Ire_Cro_sm_trans['Year'] = df_price_eu_ppi_wh_Ire_Cro_sm_trans.index\n",
    "df_price_eu_ppi_wh_Ire_Cro_sm_trans.head(50)\n",
    "cro_ire_year_ppi_df = df_price_eu_ppi_wh_Ire_Cro_sm_trans\n",
    "cro_ire_year_ppi_df.head(50)\n",
    "# df.set_index('fruit').transpose(): https://stackoverflow.com/questions/38148877/how-to-remove-the-extra-row-or-column-after-transpose-in-pandas "
   ]
  },
  {
   "cell_type": "code",
   "execution_count": 386,
   "metadata": {},
   "outputs": [
    {
     "data": {
      "text/html": [
       "<div>\n",
       "<style scoped>\n",
       "    .dataframe tbody tr th:only-of-type {\n",
       "        vertical-align: middle;\n",
       "    }\n",
       "\n",
       "    .dataframe tbody tr th {\n",
       "        vertical-align: top;\n",
       "    }\n",
       "\n",
       "    .dataframe thead th {\n",
       "        text-align: right;\n",
       "    }\n",
       "</style>\n",
       "<table border=\"1\" class=\"dataframe\">\n",
       "  <thead>\n",
       "    <tr style=\"text-align: right;\">\n",
       "      <th>Area</th>\n",
       "      <th>Croatia</th>\n",
       "      <th>Ireland</th>\n",
       "      <th>Year</th>\n",
       "    </tr>\n",
       "  </thead>\n",
       "  <tbody>\n",
       "    <tr>\n",
       "      <th>Y2017</th>\n",
       "      <td>94.75</td>\n",
       "      <td>95.99</td>\n",
       "      <td>Y2017</td>\n",
       "    </tr>\n",
       "    <tr>\n",
       "      <th>Y2018</th>\n",
       "      <td>99.02</td>\n",
       "      <td>131.16</td>\n",
       "      <td>Y2018</td>\n",
       "    </tr>\n",
       "    <tr>\n",
       "      <th>Y2019</th>\n",
       "      <td>101.58</td>\n",
       "      <td>96.00</td>\n",
       "      <td>Y2019</td>\n",
       "    </tr>\n",
       "    <tr>\n",
       "      <th>Y2020</th>\n",
       "      <td>96.01</td>\n",
       "      <td>111.38</td>\n",
       "      <td>Y2020</td>\n",
       "    </tr>\n",
       "    <tr>\n",
       "      <th>Y2021</th>\n",
       "      <td>90.51</td>\n",
       "      <td>119.68</td>\n",
       "      <td>Y2021</td>\n",
       "    </tr>\n",
       "  </tbody>\n",
       "</table>\n",
       "</div>"
      ],
      "text/plain": [
       "Area   Croatia  Ireland   Year\n",
       "Y2017    94.75    95.99  Y2017\n",
       "Y2018    99.02   131.16  Y2018\n",
       "Y2019   101.58    96.00  Y2019\n",
       "Y2020    96.01   111.38  Y2020\n",
       "Y2021    90.51   119.68  Y2021"
      ]
     },
     "execution_count": 386,
     "metadata": {},
     "output_type": "execute_result"
    }
   ],
   "source": [
    "# Only run these once for getting rig of labels in the last row. \n",
    "# df_price_eu_ppi_wh_Ire_Cro_sm_trans = df_price_eu_ppi_wh_Ire_Cro_sm_trans[:-1]\n",
    "df_price_eu_ppi_wh_Ire_Cro_sm_trans.tail()\n",
    "# cro_ire_year_ppi_df = cro_ire_year_ppi_df[:-1]\n",
    "cro_ire_year_ppi_df.tail()"
   ]
  },
  {
   "cell_type": "markdown",
   "metadata": {},
   "source": [
    "# Line graph"
   ]
  },
  {
   "cell_type": "code",
   "execution_count": 220,
   "metadata": {},
   "outputs": [
    {
     "data": {
      "text/plain": [
       "<matplotlib.legend.Legend at 0x2bd1e3c2d60>"
      ]
     },
     "execution_count": 220,
     "metadata": {},
     "output_type": "execute_result"
    },
    {
     "data": {
      "image/png": "[encoded data removed]",
      "text/plain": [
       "<Figure size 1800x432 with 1 Axes>"
      ]
     },
     "metadata": {},
     "output_type": "display_data"
    }
   ],
   "source": [
    "plt.figure(figsize=(25,6))\n",
    "sns.set_style(\"darkgrid\")\n",
    "p = sns.lineplot(data=df_price_eu_ppi_wh_Ire_Cro_sm_trans, x=\"Year\", y=\"Ireland\", ci=None, color=\"green\", label = \"Ireland\", marker='o')\n",
    "p = sns.lineplot(data=df_price_eu_ppi_wh_Ire_Cro_sm_trans, x=\"Year\", y=\"Croatia\", ci=None, color=\"red\", label = \"Croatia\", marker='o')\n",
    "p.set_xlabel(\"Year\")\n",
    "p.set_ylabel(\"PPI Wheat\")\n",
    "p.set_title(\"PPI Wheat - Ireland and Croatia\") \n",
    "p.legend()"
   ]
  },
  {
   "cell_type": "code",
   "execution_count": 175,
   "metadata": {},
   "outputs": [],
   "source": [
    "# #plot\n",
    "# # import pandas as pd\n",
    "# from matplotlib import pyplot as plt\n",
    "\n",
    "# data = pd.df_Ire_wh_p({\"Year\":\"Value\"})\n",
    "# data.plot(xticks=data.Year)\n",
    "# plt.show()"
   ]
  },
  {
   "cell_type": "code",
   "execution_count": 221,
   "metadata": {},
   "outputs": [],
   "source": [
    "# #plot\n",
    "# # import pandas as pd\n",
    "# from matplotlib import pyplot as plt\n",
    "\n",
    "# data = df_price_eu_ppi_wh_Ire_Cro({\"Year\":\"Value\"})\n",
    "# data.plot(xticks=data.Year)\n",
    "# plt.show()"
   ]
  },
  {
   "cell_type": "code",
   "execution_count": 222,
   "metadata": {},
   "outputs": [],
   "source": [
    "# test_list = [[2020, 10],[2021, 20],[2022, 30]]\n",
    "\n",
    "# df_test = pd.DataFrame(test_list, columns =['Year', 'Value'])\n",
    "# df_test.head()"
   ]
  },
  {
   "cell_type": "code",
   "execution_count": 223,
   "metadata": {},
   "outputs": [],
   "source": [
    "# # Plot Wheat Production \n",
    "# plt.figure(figsize=(25,6))\n",
    "# sns.set_style(\"darkgrid\")\n",
    "# sns.lineplot(data=df_test, x=\"Year\", y=\"Value\", ci=None, color=\"green\", marker='o')"
   ]
  },
  {
   "cell_type": "code",
   "execution_count": null,
   "metadata": {},
   "outputs": [],
   "source": [
    "# df_Ire_wh_p.head()"
   ]
  },
  {
   "cell_type": "code",
   "execution_count": null,
   "metadata": {},
   "outputs": [],
   "source": [
    "# # Plot Wheat Yeild \n",
    "# plt.figure(figsize=(25,6))\n",
    "# sns.set_style(\"darkgrid\")\n",
    "# sns.lineplot(data=df_Ire_wh_y, x=\"Year\", y=\"Value\", ci=None, color=\"blue\", marker='o')"
   ]
  },
  {
   "cell_type": "code",
   "execution_count": null,
   "metadata": {},
   "outputs": [],
   "source": [
    "# # Plot Wheat Area-Harvested  \n",
    "# plt.figure(figsize=(25,6))\n",
    "# sns.set_style(\"darkgrid\")\n",
    "# sns.lineplot(data=df_Ire_wh_h, x=\"Year\", y=\"Value\", ci=None, color=\"purple\", marker='o')"
   ]
  },
  {
   "cell_type": "code",
   "execution_count": null,
   "metadata": {},
   "outputs": [],
   "source": [
    "# #histogram of harvested \n",
    "# sns.distplot(df_Ire_wh_h.Value)"
   ]
  },
  {
   "cell_type": "code",
   "execution_count": null,
   "metadata": {},
   "outputs": [],
   "source": [
    "# #histogram of produced  \n",
    "# sns.distplot(df_Ire_wh_p.Value)"
   ]
  },
  {
   "cell_type": "code",
   "execution_count": 233,
   "metadata": {},
   "outputs": [],
   "source": [
    "\n",
    "\n",
    "# # plt.subplot(2,3,1)  # if use subplot\n",
    "# # df = pd.read_csv('documents',low_memory=False)\n",
    "# df_price_eu_ppi_wh_Ire_Cro_sm_trans['Ireland'].hist()\n",
    "# plt.title('your title')"
   ]
  },
  {
   "cell_type": "code",
   "execution_count": 238,
   "metadata": {},
   "outputs": [
    {
     "name": "stderr",
     "output_type": "stream",
     "text": [
      "C:\\ProgramData\\Anaconda3\\lib\\site-packages\\seaborn\\distributions.py:2619: FutureWarning: `distplot` is a deprecated function and will be removed in a future version. Please adapt your code to use either `displot` (a figure-level function with similar flexibility) or `histplot` (an axes-level function for histograms).\n",
      "  warnings.warn(msg, FutureWarning)\n"
     ]
    },
    {
     "data": {
      "text/plain": [
       "Text(0.5, 1.0, 'Ireland PPI Wheat Distribution')"
      ]
     },
     "execution_count": 238,
     "metadata": {},
     "output_type": "execute_result"
    },
    {
     "data": {
      "image/png": "[encoded data removed]",
      "text/plain": [
       "<Figure size 432x288 with 1 Axes>"
      ]
     },
     "metadata": {},
     "output_type": "display_data"
    }
   ],
   "source": [
    "#histogram of PPI Ireland Wheat   \n",
    "sns.distplot(df_price_eu_ppi_wh_Ire_Cro_sm_trans.Ireland, color = \"green\")\n",
    "plt.title(\"Ireland PPI Wheat Distribution\")"
   ]
  },
  {
   "cell_type": "code",
   "execution_count": 239,
   "metadata": {},
   "outputs": [
    {
     "name": "stderr",
     "output_type": "stream",
     "text": [
      "C:\\ProgramData\\Anaconda3\\lib\\site-packages\\seaborn\\distributions.py:2619: FutureWarning: `distplot` is a deprecated function and will be removed in a future version. Please adapt your code to use either `displot` (a figure-level function with similar flexibility) or `histplot` (an axes-level function for histograms).\n",
      "  warnings.warn(msg, FutureWarning)\n"
     ]
    },
    {
     "data": {
      "text/plain": [
       "Text(0.5, 1.0, 'Croatia PPI Wheat Distribution')"
      ]
     },
     "execution_count": 239,
     "metadata": {},
     "output_type": "execute_result"
    },
    {
     "data": {
      "image/png": "[encoded data removed]",
      "text/plain": [
       "<Figure size 432x288 with 1 Axes>"
      ]
     },
     "metadata": {},
     "output_type": "display_data"
    }
   ],
   "source": [
    "#histogram of PPI C Wheroatiaat   \n",
    "sns.distplot(df_price_eu_ppi_wh_Ire_Cro_sm_trans.Croatia, color= \"red\")\n",
    "plt.title(\"Croatia PPI Wheat Distribution\")"
   ]
  },
  {
   "cell_type": "code",
   "execution_count": 240,
   "metadata": {},
   "outputs": [],
   "source": [
    "#create df for correlation matrix\n",
    "df_CA_correl = df_price_eu_ppi_wh_Ire_Cro_sm_trans.drop(['Year'], axis=1)"
   ]
  },
  {
   "cell_type": "code",
   "execution_count": 241,
   "metadata": {},
   "outputs": [
    {
     "data": {
      "text/html": [
       "<div>\n",
       "<style scoped>\n",
       "    .dataframe tbody tr th:only-of-type {\n",
       "        vertical-align: middle;\n",
       "    }\n",
       "\n",
       "    .dataframe tbody tr th {\n",
       "        vertical-align: top;\n",
       "    }\n",
       "\n",
       "    .dataframe thead th {\n",
       "        text-align: right;\n",
       "    }\n",
       "</style>\n",
       "<table border=\"1\" class=\"dataframe\">\n",
       "  <thead>\n",
       "    <tr style=\"text-align: right;\">\n",
       "      <th>Area</th>\n",
       "      <th>Croatia</th>\n",
       "      <th>Ireland</th>\n",
       "    </tr>\n",
       "    <tr>\n",
       "      <th>Area</th>\n",
       "      <th></th>\n",
       "      <th></th>\n",
       "    </tr>\n",
       "  </thead>\n",
       "  <tbody>\n",
       "    <tr>\n",
       "      <th>Croatia</th>\n",
       "      <td>1.000000</td>\n",
       "      <td>0.311628</td>\n",
       "    </tr>\n",
       "    <tr>\n",
       "      <th>Ireland</th>\n",
       "      <td>0.311628</td>\n",
       "      <td>1.000000</td>\n",
       "    </tr>\n",
       "  </tbody>\n",
       "</table>\n",
       "</div>"
      ],
      "text/plain": [
       "Area      Croatia   Ireland\n",
       "Area                       \n",
       "Croatia  1.000000  0.311628\n",
       "Ireland  0.311628  1.000000"
      ]
     },
     "execution_count": 241,
     "metadata": {},
     "output_type": "execute_result"
    }
   ],
   "source": [
    "# correl table \n",
    "df_CA_correl.corr()\n"
   ]
  },
  {
   "cell_type": "code",
   "execution_count": 277,
   "metadata": {},
   "outputs": [],
   "source": [
    "# # correl matrix\n",
    "# sns.heatmap(df_CA_correl.corr());"
   ]
  },
  {
   "cell_type": "code",
   "execution_count": 278,
   "metadata": {},
   "outputs": [
    {
     "data": {
      "image/png": "[encoded data removed]",
      "text/plain": [
       "<Figure size 1152x432 with 2 Axes>"
      ]
     },
     "metadata": {},
     "output_type": "display_data"
    }
   ],
   "source": [
    "# Increase the size of the heatmap.\n",
    "plt.figure(figsize=(16, 6))\n",
    "# Store heatmap object in a variable to easily access it when you want to include more features (such as title).\n",
    "# Set the range of values to be displayed on the colormap from -1 to 1, and set the annotation to True to display the correlation values on the heatmap.\n",
    "heatmap = sns.heatmap(df_CA_correl.corr(), vmin=-1, vmax=1, annot=True, )\n",
    "# Give a title to the heatmap. Pad defines the distance of the title from the top of the heatmap.\n",
    "heatmap.set_title('Correlation Heatmap Ireland & Croatia PPI Wheat', fontdict={'fontsize':12}, pad=12);"
   ]
  },
  {
   "cell_type": "code",
   "execution_count": null,
   "metadata": {},
   "outputs": [],
   "source": [
    "# #find line of best fit\n",
    "# a, b = np.polyfit(X, y, 1)\n",
    "\n",
    "# #add points to plot\n",
    "# plt.scatter(X, y)\n",
    "\n",
    "# #add line of best fit to plot\n",
    "# plt.plot(x, a*x+b)"
   ]
  },
  {
   "cell_type": "code",
   "execution_count": null,
   "metadata": {},
   "outputs": [],
   "source": [
    "import matplotlib.pyplot as plt\n",
    "\n",
    "#plt.plot(df[\"Rank\"], df[\"P75th\"])\n",
    "\n",
    "# .area()\n",
    "# .bar()\n",
    "# .barh()\n",
    "# .box()\n",
    "# .hexbin()\n",
    "# .hist()\n",
    "# .kde()\n",
    "# .density()\n",
    "# .line()\n",
    "# .pie()\n",
    "# .scatter()"
   ]
  },
  {
   "cell_type": "code",
   "execution_count": null,
   "metadata": {},
   "outputs": [],
   "source": [
    "# plt.plot(df_CA[\"Capel_Street_avg\"], df_CA[\"P75th\"])\n",
    "# df_CA.area()\n",
    "df_farm_eu.plot(subplots=True, figsize=(12, 30)); "
   ]
  },
  {
   "cell_type": "code",
   "execution_count": null,
   "metadata": {},
   "outputs": [],
   "source": [
    "df_farm_eu.plot(subplots=True, figsize=(8, 8)); "
   ]
  },
  {
   "cell_type": "code",
   "execution_count": null,
   "metadata": {},
   "outputs": [],
   "source": [
    "# df_farm_eu.boxplot()"
   ]
  },
  {
   "cell_type": "code",
   "execution_count": 248,
   "metadata": {},
   "outputs": [
    {
     "data": {
      "text/plain": [
       "<AxesSubplot:title={'center':'Ireland PPI Wheat Boxplot'}>"
      ]
     },
     "execution_count": 248,
     "metadata": {},
     "output_type": "execute_result"
    },
    {
     "data": {
      "image/png": "[encoded data removed]",
      "text/plain": [
       "<Figure size 432x288 with 1 Axes>"
      ]
     },
     "metadata": {},
     "output_type": "display_data"
    }
   ],
   "source": [
    "df_price_eu_ppi_wh_Ire_Cro_sm_trans.Ireland.plot.box(title = \"Ireland PPI Wheat Boxplot\", color = \"green\")"
   ]
  },
  {
   "cell_type": "code",
   "execution_count": 249,
   "metadata": {
    "scrolled": true
   },
   "outputs": [
    {
     "data": {
      "text/plain": [
       "<AxesSubplot:title={'center':'Croatia PPI Wheat Boxplot'}>"
      ]
     },
     "execution_count": 249,
     "metadata": {},
     "output_type": "execute_result"
    },
    {
     "data": {
      "image/png": "[encoded data removed]",
      "text/plain": [
       "<Figure size 432x288 with 1 Axes>"
      ]
     },
     "metadata": {},
     "output_type": "display_data"
    }
   ],
   "source": [
    "df_price_eu_ppi_wh_Ire_Cro_sm_trans.Croatia.plot.box(title = \"Croatia PPI Wheat Boxplot\", color = \"red\")"
   ]
  },
  {
   "cell_type": "code",
   "execution_count": null,
   "metadata": {},
   "outputs": [],
   "source": [
    "# df_farm_eu.maxtp_avg.plot.box(title = \"Max Temp\")"
   ]
  },
  {
   "cell_type": "code",
   "execution_count": null,
   "metadata": {},
   "outputs": [],
   "source": [
    "#df_farm_eu.rain_avg.plot.box(title = \"rain\")"
   ]
  },
  {
   "cell_type": "code",
   "execution_count": 272,
   "metadata": {},
   "outputs": [
    {
     "name": "stdout",
     "output_type": "stream",
     "text": [
      "Treland vs Croatia PPI Wheat\n"
     ]
    },
    {
     "data": {
      "text/plain": [
       "<AxesSubplot:xlabel='Ireland', ylabel='Croatia'>"
      ]
     },
     "execution_count": 272,
     "metadata": {},
     "output_type": "execute_result"
    },
    {
     "data": {
      "image/png": "[encoded data removed]",
      "text/plain": [
       "<Figure size 432x288 with 1 Axes>"
      ]
     },
     "metadata": {},
     "output_type": "display_data"
    }
   ],
   "source": [
    "# First, we can use Seaborn’s regplot() function to make scatter plot. And regplot() by default adds regression line with confidence interval. \n",
    "# https://datavizpyr.com/how-to-make-scatter-plot-with-regression-line-using-seaborn-in-python/ \n",
    "\n",
    "print(\"Treland vs Croatia PPI Wheat\")\n",
    "sns.regplot(x=\"Ireland\",\n",
    "            y=\"Croatia\",\n",
    "            data=df_price_eu_ppi_wh_Ire_Cro_sm_trans, label = \"Treland vs Croatia PPI Wheat\", color = \"blue\")"
   ]
  },
  {
   "cell_type": "code",
   "execution_count": null,
   "metadata": {},
   "outputs": [],
   "source": [
    "# Now let's do rain \n",
    "sns.regplot(x=\"rain_avg\",\n",
    "            y=\"Capel_Street_avg\", \n",
    "            data=df_farm_eu);"
   ]
  },
  {
   "cell_type": "code",
   "execution_count": null,
   "metadata": {},
   "outputs": [],
   "source": [
    "\n",
    "sns.lmplot(x=\"maxtp_avg\",\n",
    "           y=\"Capel_Street_avg\", \n",
    "           data=df_farm_eu);"
   ]
  },
  {
   "cell_type": "code",
   "execution_count": null,
   "metadata": {},
   "outputs": [],
   "source": [
    "sns.lmplot(x=\"rain_avg\",\n",
    "           y=\"Capel_Street_avg\", \n",
    "           data=df_farm_eu);"
   ]
  },
  {
   "cell_type": "code",
   "execution_count": null,
   "metadata": {},
   "outputs": [],
   "source": [
    "ax=df_farm_eu.plot.scatter(x=\"maxtp_avg\", y=\"Capel_Street_avg\", color=\"red\", marker=\"*\", s=100)"
   ]
  },
  {
   "cell_type": "code",
   "execution_count": null,
   "metadata": {},
   "outputs": [],
   "source": [
    "ax=df_farm_eu.plot.scatter(x=\"maxtp_avg\", y=\"Capel_Street_avg\", color=\"blue\")"
   ]
  },
  {
   "cell_type": "code",
   "execution_count": null,
   "metadata": {},
   "outputs": [],
   "source": []
  },
  {
   "cell_type": "code",
   "execution_count": null,
   "metadata": {},
   "outputs": [],
   "source": [
    "#get shape of data\n",
    "df_farm_eu.shape"
   ]
  },
  {
   "cell_type": "code",
   "execution_count": null,
   "metadata": {},
   "outputs": [],
   "source": [
    "# Check info of data \n",
    "df_farm_eu.info()"
   ]
  },
  {
   "cell_type": "code",
   "execution_count": null,
   "metadata": {},
   "outputs": [],
   "source": []
  },
  {
   "cell_type": "code",
   "execution_count": null,
   "metadata": {},
   "outputs": [],
   "source": []
  },
  {
   "cell_type": "code",
   "execution_count": null,
   "metadata": {},
   "outputs": [],
   "source": []
  },
  {
   "cell_type": "code",
   "execution_count": null,
   "metadata": {},
   "outputs": [],
   "source": []
  },
  {
   "cell_type": "markdown",
   "metadata": {},
   "source": [
    "# Statistics "
   ]
  },
  {
   "cell_type": "markdown",
   "metadata": {},
   "source": [
    "# T-Test, two populations"
   ]
  },
  {
   "cell_type": "code",
   "execution_count": null,
   "metadata": {},
   "outputs": [],
   "source": [
    "# # T-Test, two populations\n",
    "\n",
    "# # We want to know if, on average, there are differences between the Wheat PPI by Ireland and Croatia. \n",
    "# # At a 5% significante level. \n",
    "\n",
    "# # Importing the dataset\\n\",\n",
    "# # dataset = pd.read_csv('C:/Users/miant/Desktop/Python/trip_advisor_stars.csv')\n",
    "# # dataset.head(5)\n",
    "\n",
    "\n",
    "# #We group the data according to the categories requested by the company\n",
    "\n",
    "# families = dataset.query('Traveler_type == \"Families\"')['Hotel_stars_given']\n",
    "# business = dataset.query('Traveler_type == \"Business\"')['Hotel_stars_given']\n",
    "\n",
    "# #We perform the test assuming as H0 that mu1 = mu2 (family rate = business rate)\n",
    "# test = stats.ttest_ind(families, business, \n",
    "#                       equal_var=True)\n",
    "\n",
    "# display(test)\n",
    "\n",
    "# test = stats.ttest_ind(families, business, \n",
    "#                       equal_var=False)\n",
    "\n",
    "# display(test)\n",
    "\n"
   ]
  },
  {
   "cell_type": "code",
   "execution_count": 387,
   "metadata": {},
   "outputs": [
    {
     "data": {
      "text/html": [
       "<div>\n",
       "<style scoped>\n",
       "    .dataframe tbody tr th:only-of-type {\n",
       "        vertical-align: middle;\n",
       "    }\n",
       "\n",
       "    .dataframe tbody tr th {\n",
       "        vertical-align: top;\n",
       "    }\n",
       "\n",
       "    .dataframe thead th {\n",
       "        text-align: right;\n",
       "    }\n",
       "</style>\n",
       "<table border=\"1\" class=\"dataframe\">\n",
       "  <thead>\n",
       "    <tr style=\"text-align: right;\">\n",
       "      <th>Area</th>\n",
       "      <th>Croatia</th>\n",
       "      <th>Ireland</th>\n",
       "      <th>Year</th>\n",
       "    </tr>\n",
       "  </thead>\n",
       "  <tbody>\n",
       "    <tr>\n",
       "      <th>Y1992</th>\n",
       "      <td>4.61</td>\n",
       "      <td>89.20</td>\n",
       "      <td>Y1992</td>\n",
       "    </tr>\n",
       "    <tr>\n",
       "      <th>Y1993</th>\n",
       "      <td>54.92</td>\n",
       "      <td>89.20</td>\n",
       "      <td>Y1993</td>\n",
       "    </tr>\n",
       "    <tr>\n",
       "      <th>Y1994</th>\n",
       "      <td>85.17</td>\n",
       "      <td>75.29</td>\n",
       "      <td>Y1994</td>\n",
       "    </tr>\n",
       "    <tr>\n",
       "      <th>Y1995</th>\n",
       "      <td>78.68</td>\n",
       "      <td>94.11</td>\n",
       "      <td>Y1995</td>\n",
       "    </tr>\n",
       "    <tr>\n",
       "      <th>Y1996</th>\n",
       "      <td>101.16</td>\n",
       "      <td>76.93</td>\n",
       "      <td>Y1996</td>\n",
       "    </tr>\n",
       "  </tbody>\n",
       "</table>\n",
       "</div>"
      ],
      "text/plain": [
       "Area   Croatia  Ireland   Year\n",
       "Y1992     4.61    89.20  Y1992\n",
       "Y1993    54.92    89.20  Y1993\n",
       "Y1994    85.17    75.29  Y1994\n",
       "Y1995    78.68    94.11  Y1995\n",
       "Y1996   101.16    76.93  Y1996"
      ]
     },
     "execution_count": 387,
     "metadata": {},
     "output_type": "execute_result"
    }
   ],
   "source": [
    "#create df for correlation matrix\n",
    "cro_ire_year_ppi_df.head()"
   ]
  },
  {
   "cell_type": "code",
   "execution_count": 390,
   "metadata": {},
   "outputs": [
    {
     "data": {
      "text/html": [
       "<div>\n",
       "<style scoped>\n",
       "    .dataframe tbody tr th:only-of-type {\n",
       "        vertical-align: middle;\n",
       "    }\n",
       "\n",
       "    .dataframe tbody tr th {\n",
       "        vertical-align: top;\n",
       "    }\n",
       "\n",
       "    .dataframe thead th {\n",
       "        text-align: right;\n",
       "    }\n",
       "</style>\n",
       "<table border=\"1\" class=\"dataframe\">\n",
       "  <thead>\n",
       "    <tr style=\"text-align: right;\">\n",
       "      <th>Area</th>\n",
       "      <th>Croatia</th>\n",
       "      <th>Ireland</th>\n",
       "    </tr>\n",
       "  </thead>\n",
       "  <tbody>\n",
       "    <tr>\n",
       "      <th>count</th>\n",
       "      <td>30.000000</td>\n",
       "      <td>30.000000</td>\n",
       "    </tr>\n",
       "    <tr>\n",
       "      <th>mean</th>\n",
       "      <td>92.185333</td>\n",
       "      <td>90.413667</td>\n",
       "    </tr>\n",
       "    <tr>\n",
       "      <th>std</th>\n",
       "      <td>23.429420</td>\n",
       "      <td>22.451664</td>\n",
       "    </tr>\n",
       "    <tr>\n",
       "      <th>min</th>\n",
       "      <td>4.610000</td>\n",
       "      <td>62.520000</td>\n",
       "    </tr>\n",
       "    <tr>\n",
       "      <th>25%</th>\n",
       "      <td>84.757500</td>\n",
       "      <td>71.030000</td>\n",
       "    </tr>\n",
       "    <tr>\n",
       "      <th>50%</th>\n",
       "      <td>93.980000</td>\n",
       "      <td>88.750000</td>\n",
       "    </tr>\n",
       "    <tr>\n",
       "      <th>75%</th>\n",
       "      <td>101.475000</td>\n",
       "      <td>102.085000</td>\n",
       "    </tr>\n",
       "    <tr>\n",
       "      <th>max</th>\n",
       "      <td>138.910000</td>\n",
       "      <td>142.180000</td>\n",
       "    </tr>\n",
       "  </tbody>\n",
       "</table>\n",
       "</div>"
      ],
      "text/plain": [
       "Area      Croatia     Ireland\n",
       "count   30.000000   30.000000\n",
       "mean    92.185333   90.413667\n",
       "std     23.429420   22.451664\n",
       "min      4.610000   62.520000\n",
       "25%     84.757500   71.030000\n",
       "50%     93.980000   88.750000\n",
       "75%    101.475000  102.085000\n",
       "max    138.910000  142.180000"
      ]
     },
     "execution_count": 390,
     "metadata": {},
     "output_type": "execute_result"
    }
   ],
   "source": [
    "cro_ire_year_ppi_df.describe()\n"
   ]
  },
  {
   "cell_type": "code",
   "execution_count": null,
   "metadata": {},
   "outputs": [],
   "source": []
  },
  {
   "cell_type": "code",
   "execution_count": 292,
   "metadata": {},
   "outputs": [],
   "source": [
    "# # Importing the dataset\\n\",\n",
    "# dataset = pd.read_csv('C:/Users/miant/Desktop/Python/trip_advisor_stars.csv')\n",
    "# dataset.head(5)\n"
   ]
  },
  {
   "cell_type": "code",
   "execution_count": 293,
   "metadata": {},
   "outputs": [
    {
     "data": {
      "text/plain": [
       "Y1992     89.20\n",
       "Y1993     89.20\n",
       "Y1994     75.29\n",
       "Y1995     94.11\n",
       "Y1996     76.93\n",
       "Y1997     63.83\n",
       "Y1998     65.47\n",
       "Y1999     69.56\n",
       "Y2000     66.29\n",
       "Y2001     76.11\n",
       "Y2002     62.52\n",
       "Y2003     77.34\n",
       "Y2004     69.61\n",
       "Y2005     67.68\n",
       "Y2006     78.63\n",
       "Y2007    129.55\n",
       "Y2008     88.30\n",
       "Y2009     67.68\n",
       "Y2010    102.52\n",
       "Y2011    105.42\n",
       "Y2012    142.18\n",
       "Y2013    100.78\n",
       "Y2014    126.75\n",
       "Y2015     83.18\n",
       "Y2016     90.07\n",
       "Y2017     95.99\n",
       "Y2018    131.16\n",
       "Y2019     96.00\n",
       "Y2020    111.38\n",
       "Y2021    119.68\n",
       "Name: Ireland, dtype: float64"
      ]
     },
     "execution_count": 293,
     "metadata": {},
     "output_type": "execute_result"
    }
   ],
   "source": [
    "#We group the data according to the categories requested by the company\n",
    "\n",
    "ireland = cro_ire_year_ppi_df['Ireland']\n",
    "# croatia = cro_ire_year_ppi_df.query('Traveler_type == \"Business\"')['Hotel_stars_given']\n",
    "ireland"
   ]
  },
  {
   "cell_type": "code",
   "execution_count": 294,
   "metadata": {},
   "outputs": [
    {
     "data": {
      "text/plain": [
       "Y1992      4.61\n",
       "Y1993     54.92\n",
       "Y1994     85.17\n",
       "Y1995     78.68\n",
       "Y1996    101.16\n",
       "Y1997    100.43\n",
       "Y1998     95.22\n",
       "Y1999     85.99\n",
       "Y2000     81.33\n",
       "Y2001     88.19\n",
       "Y2002     84.62\n",
       "Y2003     91.57\n",
       "Y2004     93.21\n",
       "Y2005     85.17\n",
       "Y2006     77.77\n",
       "Y2007     96.50\n",
       "Y2008    138.91\n",
       "Y2009     76.67\n",
       "Y2010    105.73\n",
       "Y2011    127.76\n",
       "Y2012    127.50\n",
       "Y2013    102.58\n",
       "Y2014    110.09\n",
       "Y2015    105.96\n",
       "Y2016     83.95\n",
       "Y2017     94.75\n",
       "Y2018     99.02\n",
       "Y2019    101.58\n",
       "Y2020     96.01\n",
       "Y2021     90.51\n",
       "Name: Croatia, dtype: float64"
      ]
     },
     "execution_count": 294,
     "metadata": {},
     "output_type": "execute_result"
    }
   ],
   "source": [
    "#We group the data according to the categories requested by the company\n",
    "\n",
    "croatia = cro_ire_year_ppi_df['Croatia']\n",
    "# croatia = cro_ire_year_ppi_df.query('Traveler_type == \"Business\"')['Hotel_stars_given']\n",
    "croatia"
   ]
  },
  {
   "cell_type": "code",
   "execution_count": null,
   "metadata": {},
   "outputs": [],
   "source": [
    "ireland"
   ]
  },
  {
   "cell_type": "code",
   "execution_count": 297,
   "metadata": {},
   "outputs": [
    {
     "data": {
      "text/plain": [
       "Ttest_indResult(statistic=-0.29903730751464225, pvalue=0.7659804713502208)"
      ]
     },
     "metadata": {},
     "output_type": "display_data"
    }
   ],
   "source": [
    "# # T-Test, two populations\n",
    "#We perform the test assuming as H0 that mu1 = mu2 (croatia ppi = Ireland ppi )\n",
    "test = stats.ttest_ind(ireland, croatia,\n",
    "                      equal_var=True)\n",
    "\n",
    "display(test)"
   ]
  },
  {
   "cell_type": "code",
   "execution_count": 296,
   "metadata": {},
   "outputs": [
    {
     "data": {
      "text/plain": [
       "Ttest_indResult(statistic=-0.2990373075146422, pvalue=0.7659824066465554)"
      ]
     },
     "metadata": {},
     "output_type": "display_data"
    }
   ],
   "source": [
    "test = stats.ttest_ind(ireland, croatia, \n",
    "                      equal_var=False)\n",
    "\n",
    "display(test)"
   ]
  },
  {
   "cell_type": "code",
   "execution_count": 299,
   "metadata": {},
   "outputs": [],
   "source": [
    "# Notes on t- test\n",
    "\n",
    "# “ Because the p-value is less than 0.000, which is less than the significance level of 0.05, the decision is to reject the null hypothesis and conclude that the ratings of the countries are different. “\n",
    "# Because the p-value is more than 0.05, which is the significance level, the decision is to accept the null hypothesis, therefore we are unable to conclude that the PPI of Wheat in Ireland and Croatia are different. \n",
    "# To determine whether the difference between the population means is statistically significant, compare the p-value to the significance level. Usually, a significance level (denoted as α or alpha) of 0.05 works well. A significance level of 0.05 indicates a 5% risk of concluding that a difference exists when there is no actual difference.\n",
    "# P-value ≤ α: The difference between the means is statistically significantly (Reject H0)\n",
    "# If the p-value is less than or equal to the significance level, the decision is to reject the null hypothesis. You can conclude that the difference between the population means does not equal the hypothesized difference. If you did not specify a hypothesized difference, Minitab tests whether there is no difference between the means (Hypothesized difference = 0). Use your specialized knowledge to determine whether the difference is practically significant. For more information, go to Statistical and practical significance.\n",
    "# P-value > α: The difference between the means is not statistically significant (Fail to reject H0)\n",
    "# If the p-value is greater than the significance level, the decision is to fail to reject the null hypothesis. You do not have enough evidence to conclude that the difference between the population means is statistically significant. You should make sure that your test has enough power to detect a difference that is practically significant. For more information, go to Power and Sample Size for 2-Sample t.\n"
   ]
  },
  {
   "cell_type": "code",
   "execution_count": null,
   "metadata": {},
   "outputs": [],
   "source": []
  },
  {
   "cell_type": "markdown",
   "metadata": {},
   "source": [
    "# Statistics "
   ]
  },
  {
   "cell_type": "markdown",
   "metadata": {},
   "source": [
    "# Shapiro-Wilk Test  \n"
   ]
  },
  {
   "cell_type": "code",
   "execution_count": 365,
   "metadata": {},
   "outputs": [
    {
     "data": {
      "text/plain": [
       "ShapiroResult(statistic=0.8473369479179382, pvalue=0.0005456056678667665)"
      ]
     },
     "execution_count": 365,
     "metadata": {},
     "output_type": "execute_result"
    }
   ],
   "source": [
    "# https://www.statology.org/normality-test-python/ \n",
    "# Check the distribution of my data with stats tests \n",
    "# Perform a Shapiro-Wilk Test\n",
    "# The following code shows how to perform a Shapiro-Wilk for a dataset that follows a log-normal distribution:\n",
    "\n",
    "import math\n",
    "import numpy as np\n",
    "from scipy.stats import shapiro \n",
    "from scipy.stats import lognorm\n",
    "\n",
    "#make this example reproducible\n",
    "np.random.seed(1)\n",
    "\n",
    "# #generate dataset that contains 1000 log-normal distributed values\n",
    "# lognorm_dataset = lognorm.rvs(s=.5, scale=math.exp(1), size=1000)\n",
    "\n",
    "#perform Shapiro-Wilk test for normality\n",
    "shapiro(cro_ire_year_ppi_df.Croatia)\n",
    "\n",
    "# ShapiroResult(statistic=0.8573324680328369, pvalue=3.880663073872444e-29)"
   ]
  },
  {
   "cell_type": "code",
   "execution_count": null,
   "metadata": {},
   "outputs": [],
   "source": [
    "# # Hpw to interperate: \n",
    "# EXAMPLE: From the output we can see that the test statistic is 0.857 and the \n",
    "# corresponding p-value is 3.88e-29 (extremely close to zero).\n",
    "# Since the p-value is less than .05, we reject the null hypothesis of the Shapiro-Wilk test.\n",
    "# This means we have sufficient evidence to say that the sample data does not come from a normal distribution."
   ]
  },
  {
   "cell_type": "markdown",
   "metadata": {},
   "source": [
    "# POISSON"
   ]
  },
  {
   "cell_type": "code",
   "execution_count": 321,
   "metadata": {},
   "outputs": [],
   "source": [
    "# However I don't think Poisson is relevent here. Poisson Elements, in a place, in a period of time. "
   ]
  },
  {
   "cell_type": "code",
   "execution_count": 300,
   "metadata": {},
   "outputs": [],
   "source": [
    "from scipy.stats import poisson"
   ]
  },
  {
   "cell_type": "code",
   "execution_count": 304,
   "metadata": {},
   "outputs": [
    {
     "name": "stdout",
     "output_type": "stream",
     "text": [
      "90.41366666666666\n"
     ]
    }
   ],
   "source": [
    "# Get the average PPI for Ireland\n",
    "mu = cro_ire_year_ppi_df[\"Ireland\"].mean()\n",
    "print(mu)"
   ]
  },
  {
   "cell_type": "code",
   "execution_count": 309,
   "metadata": {},
   "outputs": [
    {
     "data": {
      "text/plain": [
       "0.0"
      ]
     },
     "execution_count": 309,
     "metadata": {},
     "output_type": "execute_result"
    }
   ],
   "source": [
    "#The probability of exactly 3 accidents happening in one day\n",
    "# Where k thing we're looking for \n",
    "# mu = mean\n",
    "\n",
    "#EXACT NUMBER\n",
    "\n",
    "poisson.pmf(k = 90.41, mu = 90.41)"
   ]
  },
  {
   "cell_type": "code",
   "execution_count": 313,
   "metadata": {},
   "outputs": [
    {
     "data": {
      "text/plain": [
       "0.0"
      ]
     },
     "execution_count": 313,
     "metadata": {},
     "output_type": "execute_result"
    }
   ],
   "source": [
    "#The probability of exactly 3 accidents happening in one day\n",
    "\n",
    "#EXACT NUMBER\n",
    "\n",
    "poisson.pmf(k = 90.41, mu = 90.41)"
   ]
  },
  {
   "cell_type": "code",
   "execution_count": 316,
   "metadata": {},
   "outputs": [
    {
     "name": "stdout",
     "output_type": "stream",
     "text": [
      "0.510774942762589\n"
     ]
    }
   ],
   "source": [
    "#The probability of less than 3 accidents happening in one day\n",
    "\n",
    "#LESS OR EQUALS\n",
    "\n",
    "p_1 = poisson.cdf(k = 90.41, mu = 90.41)\n",
    "print(p_1)"
   ]
  },
  {
   "cell_type": "code",
   "execution_count": 317,
   "metadata": {},
   "outputs": [
    {
     "name": "stdout",
     "output_type": "stream",
     "text": [
      "0.489225057237411\n"
     ]
    }
   ],
   "source": [
    "#The probability of more than 2 accidents happening in one day\n",
    "\n",
    "#MORE\n",
    "\n",
    "p_2 = poisson.sf(k = 90.41, mu = 90.41)\n",
    "print(p_2)"
   ]
  },
  {
   "cell_type": "code",
   "execution_count": 319,
   "metadata": {},
   "outputs": [
    {
     "data": {
      "text/plain": [
       "1.0"
      ]
     },
     "execution_count": 319,
     "metadata": {},
     "output_type": "execute_result"
    }
   ],
   "source": [
    "# Check = 100% \n",
    "p_1 + p_2"
   ]
  },
  {
   "cell_type": "code",
   "execution_count": 7,
   "metadata": {},
   "outputs": [
    {
     "data": {
      "text/plain": [
       "0.5774305418095476"
      ]
     },
     "execution_count": 7,
     "metadata": {},
     "output_type": "execute_result"
    }
   ],
   "source": [
    "#The probability of between 2 and 5 accidents inclusive\n",
    "\n",
    "# poisson.cdf(k = 5, mu = 2) - poisson.cdf(k = 1, mu = 2)"
   ]
  },
  {
   "cell_type": "markdown",
   "metadata": {},
   "source": [
    "# Normal Distribution "
   ]
  },
  {
   "cell_type": "code",
   "execution_count": 332,
   "metadata": {},
   "outputs": [
    {
     "data": {
      "text/html": [
       "<div>\n",
       "<style scoped>\n",
       "    .dataframe tbody tr th:only-of-type {\n",
       "        vertical-align: middle;\n",
       "    }\n",
       "\n",
       "    .dataframe tbody tr th {\n",
       "        vertical-align: top;\n",
       "    }\n",
       "\n",
       "    .dataframe thead th {\n",
       "        text-align: right;\n",
       "    }\n",
       "</style>\n",
       "<table border=\"1\" class=\"dataframe\">\n",
       "  <thead>\n",
       "    <tr style=\"text-align: right;\">\n",
       "      <th>Area</th>\n",
       "      <th>Croatia</th>\n",
       "      <th>Ireland</th>\n",
       "      <th>Year</th>\n",
       "    </tr>\n",
       "  </thead>\n",
       "  <tbody>\n",
       "    <tr>\n",
       "      <th>Y1992</th>\n",
       "      <td>4.61</td>\n",
       "      <td>89.20</td>\n",
       "      <td>Y1992</td>\n",
       "    </tr>\n",
       "    <tr>\n",
       "      <th>Y1993</th>\n",
       "      <td>54.92</td>\n",
       "      <td>89.20</td>\n",
       "      <td>Y1993</td>\n",
       "    </tr>\n",
       "    <tr>\n",
       "      <th>Y1994</th>\n",
       "      <td>85.17</td>\n",
       "      <td>75.29</td>\n",
       "      <td>Y1994</td>\n",
       "    </tr>\n",
       "    <tr>\n",
       "      <th>Y1995</th>\n",
       "      <td>78.68</td>\n",
       "      <td>94.11</td>\n",
       "      <td>Y1995</td>\n",
       "    </tr>\n",
       "    <tr>\n",
       "      <th>Y1996</th>\n",
       "      <td>101.16</td>\n",
       "      <td>76.93</td>\n",
       "      <td>Y1996</td>\n",
       "    </tr>\n",
       "  </tbody>\n",
       "</table>\n",
       "</div>"
      ],
      "text/plain": [
       "Area   Croatia  Ireland   Year\n",
       "Y1992     4.61    89.20  Y1992\n",
       "Y1993    54.92    89.20  Y1993\n",
       "Y1994    85.17    75.29  Y1994\n",
       "Y1995    78.68    94.11  Y1995\n",
       "Y1996   101.16    76.93  Y1996"
      ]
     },
     "execution_count": 332,
     "metadata": {},
     "output_type": "execute_result"
    }
   ],
   "source": [
    "from scipy.stats import boxcox, shapiro\n",
    "df = cro_ire_year_ppi_df\n",
    "df.head()\n"
   ]
  },
  {
   "cell_type": "code",
   "execution_count": 333,
   "metadata": {},
   "outputs": [
    {
     "name": "stderr",
     "output_type": "stream",
     "text": [
      "C:\\Users\\megan.c.mchugh\\AppData\\Local\\Temp\\ipykernel_19880\\3479812524.py:9: FutureWarning: Dropping of nuisance columns in DataFrame reductions (with 'numeric_only=None') is deprecated; in a future version this will raise TypeError.  Select only valid columns before calling the reduction.\n",
      "  df.skew()\n"
     ]
    },
    {
     "data": {
      "text/plain": [
       "Area\n",
       "Croatia   -1.523123\n",
       "Ireland    0.752542\n",
       "dtype: float64"
      ]
     },
     "execution_count": 333,
     "metadata": {},
     "output_type": "execute_result"
    }
   ],
   "source": [
    "# reference: https://www.analyticsvidhya.com/blog/2021/05/how-to-transform-features-into-normal-gaussian-distribution/ \n",
    "# Check Skewness of Ireland erprate The variables with skewness > 1 are highly positively skewed.\n",
    "# The variables with skewness < -1 are highly negatively skewed.\n",
    "# The variables with 0.5 < skewness < 1  are moderately positively skewed.\n",
    "# The variables with -0.5 < skewness < -1  are moderately negatively skewed.\n",
    "# And, the variables with -0.5 < skewness < 0.5 are symmetric i.e normally distributed \n",
    "# # How to int\n",
    "\n",
    "df.skew()"
   ]
  },
  {
   "cell_type": "code",
   "execution_count": 350,
   "metadata": {},
   "outputs": [],
   "source": [
    "# # Want to standardise data so avg = 0 \n",
    "# df_sd = (df-df.mean())/df.std()\n",
    "# df_sd.head()"
   ]
  },
  {
   "cell_type": "code",
   "execution_count": 349,
   "metadata": {},
   "outputs": [
    {
     "data": {
      "text/plain": [
       "5.773159728050814e-16"
      ]
     },
     "execution_count": 349,
     "metadata": {},
     "output_type": "execute_result"
    }
   ],
   "source": [
    "df_sd.Ireland.mean()"
   ]
  },
  {
   "cell_type": "code",
   "execution_count": 348,
   "metadata": {},
   "outputs": [
    {
     "data": {
      "image/png": "[encoded data removed]",
      "text/plain": [
       "<Figure size 432x288 with 1 Axes>"
      ]
     },
     "metadata": {},
     "output_type": "display_data"
    }
   ],
   "source": [
    "plt.hist(df_sd.Ireland)\n",
    "plt.show()"
   ]
  },
  {
   "cell_type": "code",
   "execution_count": 355,
   "metadata": {},
   "outputs": [
    {
     "data": {
      "text/plain": [
       "Y1992   -0.054057\n",
       "Y1993   -0.054057\n",
       "Y1994   -0.673610\n",
       "Y1995    0.164635\n",
       "Y1996   -0.600564\n",
       "Name: Ireland, dtype: float64"
      ]
     },
     "execution_count": 355,
     "metadata": {},
     "output_type": "execute_result"
    }
   ],
   "source": [
    "# # Importing the library\n",
    "# import pandas as pd\n",
    "\n",
    "# # Creating the data frame\n",
    "# details = {\n",
    "# \t'Ireland': [1, 3, 5, 7, 9],\n",
    "# \t'col2': [7, 4, 35, 14, 56]\n",
    "# }\n",
    "\n",
    "# # creating a Dataframe object\n",
    "# df = pd.DataFrame(details)\n",
    "\n",
    "# Z-Score using pandas\n",
    "df_sd2 = df['Ireland'] = (df['Ireland'] - df['Ireland'].mean()) / df['Ireland'].std()\n",
    "df_sd2.head()"
   ]
  },
  {
   "cell_type": "code",
   "execution_count": 357,
   "metadata": {},
   "outputs": [
    {
     "data": {
      "image/png": "[encoded data removed]",
      "text/plain": [
       "<Figure size 432x288 with 1 Axes>"
      ]
     },
     "metadata": {},
     "output_type": "display_data"
    }
   ],
   "source": [
    "plt.hist(df_sd2)\n",
    "plt.show()"
   ]
  },
  {
   "cell_type": "code",
   "execution_count": null,
   "metadata": {},
   "outputs": [],
   "source": []
  },
  {
   "cell_type": "code",
   "execution_count": null,
   "metadata": {},
   "outputs": [],
   "source": []
  },
  {
   "cell_type": "code",
   "execution_count": null,
   "metadata": {},
   "outputs": [],
   "source": []
  },
  {
   "cell_type": "code",
   "execution_count": null,
   "metadata": {},
   "outputs": [],
   "source": []
  },
  {
   "cell_type": "code",
   "execution_count": null,
   "metadata": {},
   "outputs": [],
   "source": []
  },
  {
   "cell_type": "code",
   "execution_count": null,
   "metadata": {},
   "outputs": [],
   "source": []
  },
  {
   "cell_type": "code",
   "execution_count": 338,
   "metadata": {},
   "outputs": [],
   "source": [
    "# df_norm = df.apply(lambda x: boxcox(x)[0])\n",
    "# print(df_norm)"
   ]
  },
  {
   "cell_type": "code",
   "execution_count": 335,
   "metadata": {},
   "outputs": [],
   "source": [
    "# NExt "
   ]
  },
  {
   "cell_type": "code",
   "execution_count": null,
   "metadata": {},
   "outputs": [],
   "source": []
  },
  {
   "cell_type": "markdown",
   "metadata": {},
   "source": [
    "# BINOMIAL"
   ]
  },
  {
   "cell_type": "code",
   "execution_count": 371,
   "metadata": {},
   "outputs": [],
   "source": [
    "\n",
    "\n",
    "from scipy.stats import binom\n"
   ]
  },
  {
   "cell_type": "code",
   "execution_count": null,
   "metadata": {},
   "outputs": [],
   "source": [
    "# The probability of exactly 3, when n=10 and p= 0.20\n",
    "\n",
    "binom.pmf(k = 3, n = 10, p = 0.20 )"
   ]
  },
  {
   "cell_type": "code",
   "execution_count": null,
   "metadata": {},
   "outputs": [],
   "source": [
    "#The probability of less than 2, when n=10 and p= 0.20\n",
    "\n",
    "binom.cdf(k = 2, n = 10, p = 0.20)"
   ]
  },
  {
   "cell_type": "code",
   "execution_count": null,
   "metadata": {},
   "outputs": [],
   "source": [
    "# The probability of more than 3, when n=10 and p= 0.20\n",
    "\n",
    "binom.sf(k = 3, n = 10, p = 0.20)"
   ]
  },
  {
   "cell_type": "markdown",
   "metadata": {},
   "source": [
    "# Mann Whitney U Test - For non-normal data"
   ]
  },
  {
   "cell_type": "code",
   "execution_count": 374,
   "metadata": {},
   "outputs": [],
   "source": [
    "# Mann and Whitney’s U-test or Wilcoxon rank-sum test is the non-parametric \n",
    "# statistic hypothesis test that is used to analyze the difference between two independent samples of ordinal data. "
   ]
  },
  {
   "cell_type": "code",
   "execution_count": 373,
   "metadata": {},
   "outputs": [
    {
     "name": "stdout",
     "output_type": "stream",
     "text": [
      "Statistics=0.00, p=0.00\n",
      "Reject Null Hypothesis (Significant difference between two samples)\n"
     ]
    }
   ],
   "source": [
    "# code for Mann-Whitney U test\n",
    "from scipy.stats import mannwhitneyu\n",
    "# # Take batch 1 and batch 2 data as per above example\n",
    "# batch_1 =[3, 4, 2, 6, 2, 5]\n",
    "# batch_2 =[9, 7, 5, 10, 8, 6]\n",
    "\n",
    "# perform mann whitney test\n",
    "stat, p_value = mannwhitneyu(df.Ireland, df.Croatia)\n",
    "print('Statistics=%.2f, p=%.2f' % (stat, p_value))\n",
    "# Level of significance\n",
    "alpha = 0.05\n",
    "# conclusion\n",
    "if p_value < alpha:\n",
    "\tprint('Reject Null Hypothesis (Significant difference between two samples)')\n",
    "else:\n",
    "\tprint('Do not Reject Null Hypothesis (No significant difference between two samples)')\n"
   ]
  },
  {
   "cell_type": "markdown",
   "metadata": {},
   "source": [
    "# Chi-Squared \n"
   ]
  },
  {
   "cell_type": "code",
   "execution_count": 379,
   "metadata": {},
   "outputs": [],
   "source": [
    "## Ecampkle, is there a relationship between  relationship between age and political party. Not relevent here. \n",
    "\n",
    "# Could do with EU and price? \n",
    "\n",
    "# import pandas as pd\n",
    "# import scipy.stats as stats\n",
    "\n",
    "# # create sample data according to survey\n",
    "# data = [['18-29', 'Conservative'] for i in range(141)] + \\\n",
    "#         [['18-29', 'Socialist'] for i in range(68)] + \\\n",
    "#         [['18-29', 'Other'] for i in range(4)] + \\\n",
    "#         [['30-44', 'Conservative'] for i in range(179)] + \\\n",
    "#         [['30-44', 'Socialist'] for i in range(159)] + \\\n",
    "#         [['30-44', 'Other'] for i in range(7)] + \\\n",
    "#         [['45-65', 'Conservative'] for i in range(220)] + \\\n",
    "#         [['45-65', 'Socialist'] for i in range(216)] + \\\n",
    "#         [['45-65', 'Other'] for i in range(4)] + \\\n",
    "#         [['65 & older', 'Conservative'] for i in range(86)] + \\\n",
    "#         [['65 & older', 'Socialist'] for i in range(101)] + \\\n",
    "#         [['65 & older', 'Other'] for i in range(4)]\n",
    "# df = pd.DataFrame(data, columns = ['Age Group', 'Political Affiliation']) \n",
    "\n",
    "# # create contingency table\n",
    "# data_crosstab = pd.crosstab(df['Age Group'],\n",
    "#                             df['Political Affiliation'],\n",
    "#                            margins=True, margins_name=\"Total\")\n",
    "\n",
    "# # significance level\n",
    "# alpha = 0.05\n",
    "\n",
    "# # Calcualtion of Chisquare\n",
    "# chi_square = 0\n",
    "# rows = df['Age Group'].unique()\n",
    "# columns = df['Political Affiliation'].unique()\n",
    "# for i in columns:\n",
    "#     for j in rows:\n",
    "#         O = data_crosstab[i][j]\n",
    "#         E = data_crosstab[i]['Total'] * data_crosstab['Total'][j] / data_crosstab['Total']['Total']\n",
    "#         chi_square += (O-E)**2/E\n",
    "\n",
    "# # The p-value approach\n",
    "# print(\"Approach 1: The p-value approach to hypothesis testing in the decision rule\")\n",
    "# p_value = 1 - stats.chi2.cdf(chi_square, (len(rows)-1)*(len(columns)-1))\n",
    "# conclusion = \"Failed to reject the null hypothesis.\"\n",
    "# if p_value <= alpha:\n",
    "#     conclusion = \"Null Hypothesis is rejected.\"\n",
    "        \n",
    "# print(\"chisquare-score is:\", chi_square, \" and p value is:\", p_value)\n",
    "# print(conclusion)\n",
    "    \n",
    "# # The critical value approach\n",
    "# print(\"\\n--------------------------------------------------------------------------------------\")\n",
    "# print(\"Approach 2: The critical value approach to hypothesis testing in the decision rule\")\n",
    "# critical_value = stats.chi2.ppf(1-alpha, (len(rows)-1)*(len(columns)-1))\n",
    "# conclusion = \"Failed to reject the null hypothesis.\"\n",
    "# if chi_square > critical_value:\n",
    "#     conclusion = \"Null Hypothesis is rejected.\"\n",
    "        \n",
    "# print(\"chisquare-score is:\", chi_square, \" and critical value is:\", critical_value)\n",
    "# print(conclusion)"
   ]
  },
  {
   "cell_type": "markdown",
   "metadata": {},
   "source": [
    "# Wilcoxon Test "
   ]
  },
  {
   "cell_type": "code",
   "execution_count": 380,
   "metadata": {},
   "outputs": [],
   "source": [
    "# Wilcoxon signed-rank test, also known as Wilcoxon matched pair test is a \n",
    "# non-parametric hypothesis test that compares the median of two paired groups and \n",
    "# tells if they are identically distributed or not. "
   ]
  },
  {
   "cell_type": "code",
   "execution_count": 381,
   "metadata": {},
   "outputs": [
    {
     "data": {
      "text/plain": [
       "WilcoxonResult(statistic=0.0, pvalue=1.7343976283205784e-06)"
      ]
     },
     "execution_count": 381,
     "metadata": {},
     "output_type": "execute_result"
    }
   ],
   "source": [
    "# Create data\n",
    "import scipy.stats as stats\n",
    "\n",
    "# conduct the Wilcoxon-Signed Rank Test\n",
    "stats.wilcoxon(df.Ireland, df.Croatia)\n"
   ]
  },
  {
   "cell_type": "code",
   "execution_count": 382,
   "metadata": {},
   "outputs": [],
   "source": [
    "# eg. Interpretation \n",
    "# https://www.statology.org/wilcoxon-signed-rank-test-python/\n",
    "\n",
    "# In this example, the Wilcoxon Signed-Rank Test uses the following null and alternative hypotheses:\n",
    "\n",
    "# H0: The mpg is equal between the two groups\n",
    "# HA: The mpg is not equal between the two groups\n",
    "# Since the p-value is less than 0.05, we reject the null hypothesis. \n",
    "# We have sufficient evidence to say that the true mean  is not equal between the two groups."
   ]
  },
  {
   "cell_type": "markdown",
   "metadata": {},
   "source": [
    "# ANOVA or Analysis of Variance Test"
   ]
  },
  {
   "cell_type": "code",
   "execution_count": null,
   "metadata": {},
   "outputs": [],
   "source": [
    "\n",
    "# https://www.reneshbedre.com/blog/anova.html\n",
    "    \n",
    "# ANOVA HypothesesPermalink\n",
    "# Null hypothesis: Groups means are equal (no variation in means of groups)\n",
    "# H0: μ1=μ2=…=μp\n",
    "# Alternative hypothesis: At least, one group mean is different from other groups\n",
    "# H1: All μ are not equal"
   ]
  },
  {
   "cell_type": "code",
   "execution_count": 398,
   "metadata": {},
   "outputs": [],
   "source": [
    "# import pandas as pd\n",
    "# # # load data file\n",
    "# # df = pd.read_csv(\"https://reneshbedre.github.io/assets/posts/anova/onewayanova.txt\", sep=\"\\t\")\n",
    "# # # reshape the d dataframe suitable for statsmodels package \n",
    "# # df_melt = pd.melt(df.reset_index(), id_vars=['index'], value_vars=['A', 'B', 'C', 'D'])\n",
    "# # # replace column names\n",
    "# # df_melt.columns = ['index', 'treatments', 'value']\n",
    "\n",
    "# # # generate a boxplot to see the data distribution by treatments. Using boxplot, we can \n",
    "# # # easily detect the differences between different treatments\n",
    "# import matplotlib.pyplot as plt\n",
    "# import seaborn as sns\n",
    "\n"
   ]
  },
  {
   "cell_type": "code",
   "execution_count": 404,
   "metadata": {},
   "outputs": [
    {
     "data": {
      "text/html": [
       "<div>\n",
       "<style scoped>\n",
       "    .dataframe tbody tr th:only-of-type {\n",
       "        vertical-align: middle;\n",
       "    }\n",
       "\n",
       "    .dataframe tbody tr th {\n",
       "        vertical-align: top;\n",
       "    }\n",
       "\n",
       "    .dataframe thead th {\n",
       "        text-align: right;\n",
       "    }\n",
       "</style>\n",
       "<table border=\"1\" class=\"dataframe\">\n",
       "  <thead>\n",
       "    <tr style=\"text-align: right;\">\n",
       "      <th>Area</th>\n",
       "      <th>Croatia</th>\n",
       "      <th>Ireland</th>\n",
       "      <th>Year</th>\n",
       "    </tr>\n",
       "  </thead>\n",
       "  <tbody>\n",
       "    <tr>\n",
       "      <th>Y1992</th>\n",
       "      <td>4.61</td>\n",
       "      <td>-0.054057</td>\n",
       "      <td>Y1992</td>\n",
       "    </tr>\n",
       "    <tr>\n",
       "      <th>Y1993</th>\n",
       "      <td>54.92</td>\n",
       "      <td>-0.054057</td>\n",
       "      <td>Y1993</td>\n",
       "    </tr>\n",
       "    <tr>\n",
       "      <th>Y1994</th>\n",
       "      <td>85.17</td>\n",
       "      <td>-0.673610</td>\n",
       "      <td>Y1994</td>\n",
       "    </tr>\n",
       "    <tr>\n",
       "      <th>Y1995</th>\n",
       "      <td>78.68</td>\n",
       "      <td>0.164635</td>\n",
       "      <td>Y1995</td>\n",
       "    </tr>\n",
       "    <tr>\n",
       "      <th>Y1996</th>\n",
       "      <td>101.16</td>\n",
       "      <td>-0.600564</td>\n",
       "      <td>Y1996</td>\n",
       "    </tr>\n",
       "  </tbody>\n",
       "</table>\n",
       "</div>"
      ],
      "text/plain": [
       "Area   Croatia   Ireland   Year\n",
       "Y1992     4.61 -0.054057  Y1992\n",
       "Y1993    54.92 -0.054057  Y1993\n",
       "Y1994    85.17 -0.673610  Y1994\n",
       "Y1995    78.68  0.164635  Y1995\n",
       "Y1996   101.16 -0.600564  Y1996"
      ]
     },
     "execution_count": 404,
     "metadata": {},
     "output_type": "execute_result"
    }
   ],
   "source": [
    "df.head()"
   ]
  },
  {
   "cell_type": "code",
   "execution_count": 406,
   "metadata": {},
   "outputs": [],
   "source": [
    "import pandas as pd\n",
    "# load data file\n",
    "\n",
    "df_melt = pd.melt(df.reset_index(), id_vars=['index'], value_vars=['Ireland', 'Croatia', 'Year'])\n"
   ]
  },
  {
   "cell_type": "code",
   "execution_count": 412,
   "metadata": {},
   "outputs": [],
   "source": [
    "# replace column names\n",
    "df_melt.columns = ['index', 'Ireland', 'Croatia']\n",
    "\n"
   ]
  },
  {
   "cell_type": "code",
   "execution_count": 408,
   "metadata": {},
   "outputs": [],
   "source": [
    "# generate a boxplot to see the data distribution by treatments. Using boxplot, we can \n",
    "# easily detect the differences between different treatments\n",
    "import matplotlib.pyplot as plt\n",
    "import seaborn as sns\n"
   ]
  },
  {
   "cell_type": "code",
   "execution_count": 414,
   "metadata": {},
   "outputs": [],
   "source": [
    "# ax = sns.boxplot(x='Ireland', y='value', data=df_melt, color='green')\n",
    "# ax = sns.swarmplot(x=\"Croatia\", y=\"value\", data=df_melt, color='red')\n",
    "# plt.show()"
   ]
  },
  {
   "cell_type": "code",
   "execution_count": 421,
   "metadata": {},
   "outputs": [],
   "source": [
    "# The one-way ANOVA tests the null hypothesis that two or more groups have the same population mean. \n",
    "# The test is applied to samples from two or more groups, possibly with differing sizes."
   ]
  },
  {
   "cell_type": "code",
   "execution_count": 423,
   "metadata": {},
   "outputs": [],
   "source": [
    "# # The null hypothesis (H0) is that there is no difference between the groups and \n",
    "# equality between means (walruses weigh the same in different months). \n",
    "# The alternative hypothesis (H1) is that there is a difference between the means and groups \n",
    "# (walruses have different weights in different months) "
   ]
  },
  {
   "cell_type": "code",
   "execution_count": 415,
   "metadata": {},
   "outputs": [
    {
     "name": "stdout",
     "output_type": "stream",
     "text": [
      "463.58716072515034 2.3987378561643514e-29\n"
     ]
    }
   ],
   "source": [
    "import scipy.stats as stats\n",
    "# stats f_oneway functions takes the groups as input and returns ANOVA F and p value\n",
    "fvalue, pvalue = stats.f_oneway(df['Ireland'], df['Croatia'])\n",
    "print(fvalue, pvalue)\n",
    "\n"
   ]
  },
  {
   "cell_type": "code",
   "execution_count": 422,
   "metadata": {},
   "outputs": [],
   "source": [
    "# Usually, if a p value is .10 or less, we can reject the null hypothesis. ANOVA tables are sometimes produced with p values. The lower the p value is for a given ratio, the more reliably we can reject the null hypothesis that a particular source or model or parameter is not significant.  "
   ]
  },
  {
   "cell_type": "code",
   "execution_count": null,
   "metadata": {},
   "outputs": [],
   "source": []
  },
  {
   "cell_type": "code",
   "execution_count": null,
   "metadata": {},
   "outputs": [],
   "source": []
  },
  {
   "cell_type": "code",
   "execution_count": 416,
   "metadata": {},
   "outputs": [],
   "source": [
    "\n",
    "# get ANOVA table as R like output\n",
    "import statsmodels.api as sm\n",
    "from statsmodels.formula.api import ols\n"
   ]
  },
  {
   "cell_type": "code",
   "execution_count": 420,
   "metadata": {},
   "outputs": [
    {
     "ename": "PatsyError",
     "evalue": "Error evaluating factor: NameError: name 'Ireland' is not defined\n    value ~ C(Ireland)\n            ^^^^^^^^^^",
     "output_type": "error",
     "traceback": [
      "\u001b[1;31m---------------------------------------------------------------------------\u001b[0m",
      "\u001b[1;31mNameError\u001b[0m                                 Traceback (most recent call last)",
      "File \u001b[1;32mC:\\ProgramData\\Anaconda3\\lib\\site-packages\\patsy\\compat.py:36\u001b[0m, in \u001b[0;36mcall_and_wrap_exc\u001b[1;34m(msg, origin, f, *args, **kwargs)\u001b[0m\n\u001b[0;32m     35\u001b[0m \u001b[38;5;28;01mtry\u001b[39;00m:\n\u001b[1;32m---> 36\u001b[0m     \u001b[38;5;28;01mreturn\u001b[39;00m f(\u001b[38;5;241m*\u001b[39margs, \u001b[38;5;241m*\u001b[39m\u001b[38;5;241m*\u001b[39mkwargs)\n\u001b[0;32m     37\u001b[0m \u001b[38;5;28;01mexcept\u001b[39;00m \u001b[38;5;167;01mException\u001b[39;00m \u001b[38;5;28;01mas\u001b[39;00m e:\n",
      "File \u001b[1;32mC:\\ProgramData\\Anaconda3\\lib\\site-packages\\patsy\\eval.py:165\u001b[0m, in \u001b[0;36mEvalEnvironment.eval\u001b[1;34m(self, expr, source_name, inner_namespace)\u001b[0m\n\u001b[0;32m    164\u001b[0m code \u001b[38;5;241m=\u001b[39m \u001b[38;5;28mcompile\u001b[39m(expr, source_name, \u001b[38;5;124m\"\u001b[39m\u001b[38;5;124meval\u001b[39m\u001b[38;5;124m\"\u001b[39m, \u001b[38;5;28mself\u001b[39m\u001b[38;5;241m.\u001b[39mflags, \u001b[38;5;28;01mFalse\u001b[39;00m)\n\u001b[1;32m--> 165\u001b[0m \u001b[38;5;28;01mreturn\u001b[39;00m \u001b[38;5;28;43meval\u001b[39;49m\u001b[43m(\u001b[49m\u001b[43mcode\u001b[49m\u001b[43m,\u001b[49m\u001b[43m \u001b[49m\u001b[43m{\u001b[49m\u001b[43m}\u001b[49m\u001b[43m,\u001b[49m\u001b[43m \u001b[49m\u001b[43mVarLookupDict\u001b[49m\u001b[43m(\u001b[49m\u001b[43m[\u001b[49m\u001b[43minner_namespace\u001b[49m\u001b[43m]\u001b[49m\n\u001b[0;32m    166\u001b[0m \u001b[43m                                    \u001b[49m\u001b[38;5;241;43m+\u001b[39;49m\u001b[43m \u001b[49m\u001b[38;5;28;43mself\u001b[39;49m\u001b[38;5;241;43m.\u001b[39;49m\u001b[43m_namespaces\u001b[49m\u001b[43m)\u001b[49m\u001b[43m)\u001b[49m\n",
      "File \u001b[1;32m<string>:1\u001b[0m, in \u001b[0;36m<module>\u001b[1;34m\u001b[0m\n",
      "\u001b[1;31mNameError\u001b[0m: name 'Ireland' is not defined",
      "\nThe above exception was the direct cause of the following exception:\n",
      "\u001b[1;31mPatsyError\u001b[0m                                Traceback (most recent call last)",
      "Input \u001b[1;32mIn [420]\u001b[0m, in \u001b[0;36m<cell line: 2>\u001b[1;34m()\u001b[0m\n\u001b[0;32m      1\u001b[0m \u001b[38;5;66;03m# Ordinary Least Squares (OLS) model\u001b[39;00m\n\u001b[1;32m----> 2\u001b[0m model \u001b[38;5;241m=\u001b[39m \u001b[43mols\u001b[49m\u001b[43m(\u001b[49m\u001b[38;5;124;43m'\u001b[39;49m\u001b[38;5;124;43mvalue ~ C(Ireland)\u001b[39;49m\u001b[38;5;124;43m'\u001b[39;49m\u001b[43m,\u001b[49m\u001b[43m \u001b[49m\u001b[43mdata\u001b[49m\u001b[38;5;241;43m=\u001b[39;49m\u001b[43mdf\u001b[49m\u001b[38;5;241;43m.\u001b[39;49m\u001b[43mIreland\u001b[49m\u001b[43m)\u001b[49m\u001b[38;5;241m.\u001b[39mfit()\n",
      "File \u001b[1;32mC:\\ProgramData\\Anaconda3\\lib\\site-packages\\statsmodels\\base\\model.py:200\u001b[0m, in \u001b[0;36mModel.from_formula\u001b[1;34m(cls, formula, data, subset, drop_cols, *args, **kwargs)\u001b[0m\n\u001b[0;32m    197\u001b[0m \u001b[38;5;28;01mif\u001b[39;00m missing \u001b[38;5;241m==\u001b[39m \u001b[38;5;124m'\u001b[39m\u001b[38;5;124mnone\u001b[39m\u001b[38;5;124m'\u001b[39m:  \u001b[38;5;66;03m# with patsy it's drop or raise. let's raise.\u001b[39;00m\n\u001b[0;32m    198\u001b[0m     missing \u001b[38;5;241m=\u001b[39m \u001b[38;5;124m'\u001b[39m\u001b[38;5;124mraise\u001b[39m\u001b[38;5;124m'\u001b[39m\n\u001b[1;32m--> 200\u001b[0m tmp \u001b[38;5;241m=\u001b[39m \u001b[43mhandle_formula_data\u001b[49m\u001b[43m(\u001b[49m\u001b[43mdata\u001b[49m\u001b[43m,\u001b[49m\u001b[43m \u001b[49m\u001b[38;5;28;43;01mNone\u001b[39;49;00m\u001b[43m,\u001b[49m\u001b[43m \u001b[49m\u001b[43mformula\u001b[49m\u001b[43m,\u001b[49m\u001b[43m \u001b[49m\u001b[43mdepth\u001b[49m\u001b[38;5;241;43m=\u001b[39;49m\u001b[43meval_env\u001b[49m\u001b[43m,\u001b[49m\n\u001b[0;32m    201\u001b[0m \u001b[43m                          \u001b[49m\u001b[43mmissing\u001b[49m\u001b[38;5;241;43m=\u001b[39;49m\u001b[43mmissing\u001b[49m\u001b[43m)\u001b[49m\n\u001b[0;32m    202\u001b[0m ((endog, exog), missing_idx, design_info) \u001b[38;5;241m=\u001b[39m tmp\n\u001b[0;32m    203\u001b[0m max_endog \u001b[38;5;241m=\u001b[39m \u001b[38;5;28mcls\u001b[39m\u001b[38;5;241m.\u001b[39m_formula_max_endog\n",
      "File \u001b[1;32mC:\\ProgramData\\Anaconda3\\lib\\site-packages\\statsmodels\\formula\\formulatools.py:63\u001b[0m, in \u001b[0;36mhandle_formula_data\u001b[1;34m(Y, X, formula, depth, missing)\u001b[0m\n\u001b[0;32m     61\u001b[0m \u001b[38;5;28;01melse\u001b[39;00m:\n\u001b[0;32m     62\u001b[0m     \u001b[38;5;28;01mif\u001b[39;00m data_util\u001b[38;5;241m.\u001b[39m_is_using_pandas(Y, \u001b[38;5;28;01mNone\u001b[39;00m):\n\u001b[1;32m---> 63\u001b[0m         result \u001b[38;5;241m=\u001b[39m \u001b[43mdmatrices\u001b[49m\u001b[43m(\u001b[49m\u001b[43mformula\u001b[49m\u001b[43m,\u001b[49m\u001b[43m \u001b[49m\u001b[43mY\u001b[49m\u001b[43m,\u001b[49m\u001b[43m \u001b[49m\u001b[43mdepth\u001b[49m\u001b[43m,\u001b[49m\u001b[43m \u001b[49m\u001b[43mreturn_type\u001b[49m\u001b[38;5;241;43m=\u001b[39;49m\u001b[38;5;124;43m'\u001b[39;49m\u001b[38;5;124;43mdataframe\u001b[39;49m\u001b[38;5;124;43m'\u001b[39;49m\u001b[43m,\u001b[49m\n\u001b[0;32m     64\u001b[0m \u001b[43m                           \u001b[49m\u001b[43mNA_action\u001b[49m\u001b[38;5;241;43m=\u001b[39;49m\u001b[43mna_action\u001b[49m\u001b[43m)\u001b[49m\n\u001b[0;32m     65\u001b[0m     \u001b[38;5;28;01melse\u001b[39;00m:\n\u001b[0;32m     66\u001b[0m         result \u001b[38;5;241m=\u001b[39m dmatrices(formula, Y, depth, return_type\u001b[38;5;241m=\u001b[39m\u001b[38;5;124m'\u001b[39m\u001b[38;5;124mdataframe\u001b[39m\u001b[38;5;124m'\u001b[39m,\n\u001b[0;32m     67\u001b[0m                            NA_action\u001b[38;5;241m=\u001b[39mna_action)\n",
      "File \u001b[1;32mC:\\ProgramData\\Anaconda3\\lib\\site-packages\\patsy\\highlevel.py:309\u001b[0m, in \u001b[0;36mdmatrices\u001b[1;34m(formula_like, data, eval_env, NA_action, return_type)\u001b[0m\n\u001b[0;32m    299\u001b[0m \u001b[38;5;124;03m\"\"\"Construct two design matrices given a formula_like and data.\u001b[39;00m\n\u001b[0;32m    300\u001b[0m \n\u001b[0;32m    301\u001b[0m \u001b[38;5;124;03mThis function is identical to :func:`dmatrix`, except that it requires\u001b[39;00m\n\u001b[1;32m   (...)\u001b[0m\n\u001b[0;32m    306\u001b[0m \u001b[38;5;124;03mSee :func:`dmatrix` for details.\u001b[39;00m\n\u001b[0;32m    307\u001b[0m \u001b[38;5;124;03m\"\"\"\u001b[39;00m\n\u001b[0;32m    308\u001b[0m eval_env \u001b[38;5;241m=\u001b[39m EvalEnvironment\u001b[38;5;241m.\u001b[39mcapture(eval_env, reference\u001b[38;5;241m=\u001b[39m\u001b[38;5;241m1\u001b[39m)\n\u001b[1;32m--> 309\u001b[0m (lhs, rhs) \u001b[38;5;241m=\u001b[39m \u001b[43m_do_highlevel_design\u001b[49m\u001b[43m(\u001b[49m\u001b[43mformula_like\u001b[49m\u001b[43m,\u001b[49m\u001b[43m \u001b[49m\u001b[43mdata\u001b[49m\u001b[43m,\u001b[49m\u001b[43m \u001b[49m\u001b[43meval_env\u001b[49m\u001b[43m,\u001b[49m\n\u001b[0;32m    310\u001b[0m \u001b[43m                                  \u001b[49m\u001b[43mNA_action\u001b[49m\u001b[43m,\u001b[49m\u001b[43m \u001b[49m\u001b[43mreturn_type\u001b[49m\u001b[43m)\u001b[49m\n\u001b[0;32m    311\u001b[0m \u001b[38;5;28;01mif\u001b[39;00m lhs\u001b[38;5;241m.\u001b[39mshape[\u001b[38;5;241m1\u001b[39m] \u001b[38;5;241m==\u001b[39m \u001b[38;5;241m0\u001b[39m:\n\u001b[0;32m    312\u001b[0m     \u001b[38;5;28;01mraise\u001b[39;00m PatsyError(\u001b[38;5;124m\"\u001b[39m\u001b[38;5;124mmodel is missing required outcome variables\u001b[39m\u001b[38;5;124m\"\u001b[39m)\n",
      "File \u001b[1;32mC:\\ProgramData\\Anaconda3\\lib\\site-packages\\patsy\\highlevel.py:164\u001b[0m, in \u001b[0;36m_do_highlevel_design\u001b[1;34m(formula_like, data, eval_env, NA_action, return_type)\u001b[0m\n\u001b[0;32m    162\u001b[0m \u001b[38;5;28;01mdef\u001b[39;00m \u001b[38;5;21mdata_iter_maker\u001b[39m():\n\u001b[0;32m    163\u001b[0m     \u001b[38;5;28;01mreturn\u001b[39;00m \u001b[38;5;28miter\u001b[39m([data])\n\u001b[1;32m--> 164\u001b[0m design_infos \u001b[38;5;241m=\u001b[39m \u001b[43m_try_incr_builders\u001b[49m\u001b[43m(\u001b[49m\u001b[43mformula_like\u001b[49m\u001b[43m,\u001b[49m\u001b[43m \u001b[49m\u001b[43mdata_iter_maker\u001b[49m\u001b[43m,\u001b[49m\u001b[43m \u001b[49m\u001b[43meval_env\u001b[49m\u001b[43m,\u001b[49m\n\u001b[0;32m    165\u001b[0m \u001b[43m                                  \u001b[49m\u001b[43mNA_action\u001b[49m\u001b[43m)\u001b[49m\n\u001b[0;32m    166\u001b[0m \u001b[38;5;28;01mif\u001b[39;00m design_infos \u001b[38;5;129;01mis\u001b[39;00m \u001b[38;5;129;01mnot\u001b[39;00m \u001b[38;5;28;01mNone\u001b[39;00m:\n\u001b[0;32m    167\u001b[0m     \u001b[38;5;28;01mreturn\u001b[39;00m build_design_matrices(design_infos, data,\n\u001b[0;32m    168\u001b[0m                                  NA_action\u001b[38;5;241m=\u001b[39mNA_action,\n\u001b[0;32m    169\u001b[0m                                  return_type\u001b[38;5;241m=\u001b[39mreturn_type)\n",
      "File \u001b[1;32mC:\\ProgramData\\Anaconda3\\lib\\site-packages\\patsy\\highlevel.py:66\u001b[0m, in \u001b[0;36m_try_incr_builders\u001b[1;34m(formula_like, data_iter_maker, eval_env, NA_action)\u001b[0m\n\u001b[0;32m     64\u001b[0m \u001b[38;5;28;01mif\u001b[39;00m \u001b[38;5;28misinstance\u001b[39m(formula_like, ModelDesc):\n\u001b[0;32m     65\u001b[0m     \u001b[38;5;28;01massert\u001b[39;00m \u001b[38;5;28misinstance\u001b[39m(eval_env, EvalEnvironment)\n\u001b[1;32m---> 66\u001b[0m     \u001b[38;5;28;01mreturn\u001b[39;00m \u001b[43mdesign_matrix_builders\u001b[49m\u001b[43m(\u001b[49m\u001b[43m[\u001b[49m\u001b[43mformula_like\u001b[49m\u001b[38;5;241;43m.\u001b[39;49m\u001b[43mlhs_termlist\u001b[49m\u001b[43m,\u001b[49m\n\u001b[0;32m     67\u001b[0m \u001b[43m                                   \u001b[49m\u001b[43mformula_like\u001b[49m\u001b[38;5;241;43m.\u001b[39;49m\u001b[43mrhs_termlist\u001b[49m\u001b[43m]\u001b[49m\u001b[43m,\u001b[49m\n\u001b[0;32m     68\u001b[0m \u001b[43m                                  \u001b[49m\u001b[43mdata_iter_maker\u001b[49m\u001b[43m,\u001b[49m\n\u001b[0;32m     69\u001b[0m \u001b[43m                                  \u001b[49m\u001b[43meval_env\u001b[49m\u001b[43m,\u001b[49m\n\u001b[0;32m     70\u001b[0m \u001b[43m                                  \u001b[49m\u001b[43mNA_action\u001b[49m\u001b[43m)\u001b[49m\n\u001b[0;32m     71\u001b[0m \u001b[38;5;28;01melse\u001b[39;00m:\n\u001b[0;32m     72\u001b[0m     \u001b[38;5;28;01mreturn\u001b[39;00m \u001b[38;5;28;01mNone\u001b[39;00m\n",
      "File \u001b[1;32mC:\\ProgramData\\Anaconda3\\lib\\site-packages\\patsy\\build.py:693\u001b[0m, in \u001b[0;36mdesign_matrix_builders\u001b[1;34m(termlists, data_iter_maker, eval_env, NA_action)\u001b[0m\n\u001b[0;32m    689\u001b[0m factor_states \u001b[38;5;241m=\u001b[39m _factors_memorize(all_factors, data_iter_maker, eval_env)\n\u001b[0;32m    690\u001b[0m \u001b[38;5;66;03m# Now all the factors have working eval methods, so we can evaluate them\u001b[39;00m\n\u001b[0;32m    691\u001b[0m \u001b[38;5;66;03m# on some data to find out what type of data they return.\u001b[39;00m\n\u001b[0;32m    692\u001b[0m (num_column_counts,\n\u001b[1;32m--> 693\u001b[0m  cat_levels_contrasts) \u001b[38;5;241m=\u001b[39m \u001b[43m_examine_factor_types\u001b[49m\u001b[43m(\u001b[49m\u001b[43mall_factors\u001b[49m\u001b[43m,\u001b[49m\n\u001b[0;32m    694\u001b[0m \u001b[43m                                               \u001b[49m\u001b[43mfactor_states\u001b[49m\u001b[43m,\u001b[49m\n\u001b[0;32m    695\u001b[0m \u001b[43m                                               \u001b[49m\u001b[43mdata_iter_maker\u001b[49m\u001b[43m,\u001b[49m\n\u001b[0;32m    696\u001b[0m \u001b[43m                                               \u001b[49m\u001b[43mNA_action\u001b[49m\u001b[43m)\u001b[49m\n\u001b[0;32m    697\u001b[0m \u001b[38;5;66;03m# Now we need the factor infos, which encapsulate the knowledge of\u001b[39;00m\n\u001b[0;32m    698\u001b[0m \u001b[38;5;66;03m# how to turn any given factor into a chunk of data:\u001b[39;00m\n\u001b[0;32m    699\u001b[0m factor_infos \u001b[38;5;241m=\u001b[39m {}\n",
      "File \u001b[1;32mC:\\ProgramData\\Anaconda3\\lib\\site-packages\\patsy\\build.py:443\u001b[0m, in \u001b[0;36m_examine_factor_types\u001b[1;34m(factors, factor_states, data_iter_maker, NA_action)\u001b[0m\n\u001b[0;32m    441\u001b[0m \u001b[38;5;28;01mfor\u001b[39;00m data \u001b[38;5;129;01min\u001b[39;00m data_iter_maker():\n\u001b[0;32m    442\u001b[0m     \u001b[38;5;28;01mfor\u001b[39;00m factor \u001b[38;5;129;01min\u001b[39;00m \u001b[38;5;28mlist\u001b[39m(examine_needed):\n\u001b[1;32m--> 443\u001b[0m         value \u001b[38;5;241m=\u001b[39m \u001b[43mfactor\u001b[49m\u001b[38;5;241;43m.\u001b[39;49m\u001b[43meval\u001b[49m\u001b[43m(\u001b[49m\u001b[43mfactor_states\u001b[49m\u001b[43m[\u001b[49m\u001b[43mfactor\u001b[49m\u001b[43m]\u001b[49m\u001b[43m,\u001b[49m\u001b[43m \u001b[49m\u001b[43mdata\u001b[49m\u001b[43m)\u001b[49m\n\u001b[0;32m    444\u001b[0m         \u001b[38;5;28;01mif\u001b[39;00m factor \u001b[38;5;129;01min\u001b[39;00m cat_sniffers \u001b[38;5;129;01mor\u001b[39;00m guess_categorical(value):\n\u001b[0;32m    445\u001b[0m             \u001b[38;5;28;01mif\u001b[39;00m factor \u001b[38;5;129;01mnot\u001b[39;00m \u001b[38;5;129;01min\u001b[39;00m cat_sniffers:\n",
      "File \u001b[1;32mC:\\ProgramData\\Anaconda3\\lib\\site-packages\\patsy\\eval.py:564\u001b[0m, in \u001b[0;36mEvalFactor.eval\u001b[1;34m(self, memorize_state, data)\u001b[0m\n\u001b[0;32m    563\u001b[0m \u001b[38;5;28;01mdef\u001b[39;00m \u001b[38;5;21meval\u001b[39m(\u001b[38;5;28mself\u001b[39m, memorize_state, data):\n\u001b[1;32m--> 564\u001b[0m     \u001b[38;5;28;01mreturn\u001b[39;00m \u001b[38;5;28;43mself\u001b[39;49m\u001b[38;5;241;43m.\u001b[39;49m\u001b[43m_eval\u001b[49m\u001b[43m(\u001b[49m\u001b[43mmemorize_state\u001b[49m\u001b[43m[\u001b[49m\u001b[38;5;124;43m\"\u001b[39;49m\u001b[38;5;124;43meval_code\u001b[39;49m\u001b[38;5;124;43m\"\u001b[39;49m\u001b[43m]\u001b[49m\u001b[43m,\u001b[49m\n\u001b[0;32m    565\u001b[0m \u001b[43m                      \u001b[49m\u001b[43mmemorize_state\u001b[49m\u001b[43m,\u001b[49m\n\u001b[0;32m    566\u001b[0m \u001b[43m                      \u001b[49m\u001b[43mdata\u001b[49m\u001b[43m)\u001b[49m\n",
      "File \u001b[1;32mC:\\ProgramData\\Anaconda3\\lib\\site-packages\\patsy\\eval.py:547\u001b[0m, in \u001b[0;36mEvalFactor._eval\u001b[1;34m(self, code, memorize_state, data)\u001b[0m\n\u001b[0;32m    545\u001b[0m \u001b[38;5;28;01mdef\u001b[39;00m \u001b[38;5;21m_eval\u001b[39m(\u001b[38;5;28mself\u001b[39m, code, memorize_state, data):\n\u001b[0;32m    546\u001b[0m     inner_namespace \u001b[38;5;241m=\u001b[39m VarLookupDict([data, memorize_state[\u001b[38;5;124m\"\u001b[39m\u001b[38;5;124mtransforms\u001b[39m\u001b[38;5;124m\"\u001b[39m]])\n\u001b[1;32m--> 547\u001b[0m     \u001b[38;5;28;01mreturn\u001b[39;00m \u001b[43mcall_and_wrap_exc\u001b[49m\u001b[43m(\u001b[49m\u001b[38;5;124;43m\"\u001b[39;49m\u001b[38;5;124;43mError evaluating factor\u001b[39;49m\u001b[38;5;124;43m\"\u001b[39;49m\u001b[43m,\u001b[49m\n\u001b[0;32m    548\u001b[0m \u001b[43m                             \u001b[49m\u001b[38;5;28;43mself\u001b[39;49m\u001b[43m,\u001b[49m\n\u001b[0;32m    549\u001b[0m \u001b[43m                             \u001b[49m\u001b[43mmemorize_state\u001b[49m\u001b[43m[\u001b[49m\u001b[38;5;124;43m\"\u001b[39;49m\u001b[38;5;124;43meval_env\u001b[39;49m\u001b[38;5;124;43m\"\u001b[39;49m\u001b[43m]\u001b[49m\u001b[38;5;241;43m.\u001b[39;49m\u001b[43meval\u001b[49m\u001b[43m,\u001b[49m\n\u001b[0;32m    550\u001b[0m \u001b[43m                             \u001b[49m\u001b[43mcode\u001b[49m\u001b[43m,\u001b[49m\n\u001b[0;32m    551\u001b[0m \u001b[43m                             \u001b[49m\u001b[43minner_namespace\u001b[49m\u001b[38;5;241;43m=\u001b[39;49m\u001b[43minner_namespace\u001b[49m\u001b[43m)\u001b[49m\n",
      "File \u001b[1;32mC:\\ProgramData\\Anaconda3\\lib\\site-packages\\patsy\\compat.py:43\u001b[0m, in \u001b[0;36mcall_and_wrap_exc\u001b[1;34m(msg, origin, f, *args, **kwargs)\u001b[0m\n\u001b[0;32m     39\u001b[0m     new_exc \u001b[38;5;241m=\u001b[39m PatsyError(\u001b[38;5;124m\"\u001b[39m\u001b[38;5;132;01m%s\u001b[39;00m\u001b[38;5;124m: \u001b[39m\u001b[38;5;132;01m%s\u001b[39;00m\u001b[38;5;124m: \u001b[39m\u001b[38;5;132;01m%s\u001b[39;00m\u001b[38;5;124m\"\u001b[39m\n\u001b[0;32m     40\u001b[0m                          \u001b[38;5;241m%\u001b[39m (msg, e\u001b[38;5;241m.\u001b[39m\u001b[38;5;18m__class__\u001b[39m\u001b[38;5;241m.\u001b[39m\u001b[38;5;18m__name__\u001b[39m, e),\n\u001b[0;32m     41\u001b[0m                          origin)\n\u001b[0;32m     42\u001b[0m     \u001b[38;5;66;03m# Use 'exec' to hide this syntax from the Python 2 parser:\u001b[39;00m\n\u001b[1;32m---> 43\u001b[0m     \u001b[43mexec\u001b[49m\u001b[43m(\u001b[49m\u001b[38;5;124;43m\"\u001b[39;49m\u001b[38;5;124;43mraise new_exc from e\u001b[39;49m\u001b[38;5;124;43m\"\u001b[39;49m\u001b[43m)\u001b[49m\n\u001b[0;32m     44\u001b[0m \u001b[38;5;28;01melse\u001b[39;00m:\n\u001b[0;32m     45\u001b[0m     \u001b[38;5;66;03m# In python 2, we just let the original exception escape -- better\u001b[39;00m\n\u001b[0;32m     46\u001b[0m     \u001b[38;5;66;03m# than destroying the traceback. But if it's a PatsyError, we can\u001b[39;00m\n\u001b[0;32m     47\u001b[0m     \u001b[38;5;66;03m# at least set the origin properly.\u001b[39;00m\n\u001b[0;32m     48\u001b[0m     \u001b[38;5;28;01mif\u001b[39;00m \u001b[38;5;28misinstance\u001b[39m(e, PatsyError):\n",
      "File \u001b[1;32m<string>:1\u001b[0m, in \u001b[0;36m<module>\u001b[1;34m\u001b[0m\n",
      "\u001b[1;31mPatsyError\u001b[0m: Error evaluating factor: NameError: name 'Ireland' is not defined\n    value ~ C(Ireland)\n            ^^^^^^^^^^"
     ]
    }
   ],
   "source": [
    "\n",
    "# Ordinary Least Squares (OLS) model\n",
    "model = ols('value ~ C(Ireland)', data=df).fit()\n",
    "# anova_table = sm.stats.anova_lm(model, typ=2)\n",
    "# anova_table\n"
   ]
  },
  {
   "cell_type": "code",
   "execution_count": null,
   "metadata": {},
   "outputs": [],
   "source": [
    "# output (ANOVA F and p value)\n",
    "                sum_sq    df         F    PR(>F)\n",
    "C(treatments)  3010.95   3.0  17.49281  0.000026\n",
    "Residual        918.00  16.0       NaN       NaN\n",
    "\n"
   ]
  },
  {
   "cell_type": "code",
   "execution_count": null,
   "metadata": {},
   "outputs": [],
   "source": [
    "# ANOVA table using bioinfokit v1.0.3 or later (it uses wrapper script for anova_lm)\n",
    "from bioinfokit.analys import stat\n",
    "res = stat()\n",
    "res.anova_stat(df=df_melt, res_var='value', anova_model='value ~ C(treatments)')\n",
    "res.anova_summary\n"
   ]
  },
  {
   "cell_type": "code",
   "execution_count": null,
   "metadata": {},
   "outputs": [],
   "source": [
    "# output (ANOVA F and p value)\n",
    "                 df   sum_sq   mean_sq         F    PR(>F)\n",
    "C(treatments)   3.0  3010.95  1003.650  17.49281  0.000026\n",
    "Residual       16.0   918.00    57.375       NaN       NaN\n",
    "\n",
    "# note: if the data is balanced (equal sample size for each group), Type 1, 2, and 3 sums of squares\n",
    "# (typ parameter) will produce similar results."
   ]
  },
  {
   "cell_type": "code",
   "execution_count": null,
   "metadata": {},
   "outputs": [],
   "source": []
  },
  {
   "cell_type": "code",
   "execution_count": null,
   "metadata": {},
   "outputs": [],
   "source": []
  },
  {
   "cell_type": "code",
   "execution_count": null,
   "metadata": {},
   "outputs": [],
   "source": [
    "\n",
    "# Print the result\n",
    "print(result)"
   ]
  },
  {
   "cell_type": "code",
   "execution_count": null,
   "metadata": {},
   "outputs": [],
   "source": []
  },
  {
   "cell_type": "code",
   "execution_count": null,
   "metadata": {},
   "outputs": [],
   "source": []
  },
  {
   "cell_type": "markdown",
   "metadata": {},
   "source": [
    "# Descion Tree"
   ]
  },
  {
   "cell_type": "code",
   "execution_count": 428,
   "metadata": {},
   "outputs": [],
   "source": [
    "# Q: can we predict if a country is a member of the EU based on their wheat PPI? "
   ]
  },
  {
   "cell_type": "markdown",
   "metadata": {},
   "source": [
    "# Decsion Tree 3"
   ]
  },
  {
   "cell_type": "code",
   "execution_count": 457,
   "metadata": {},
   "outputs": [],
   "source": [
    " # Import rewuirement \n",
    "import pandas as pd\n",
    "from sklearn.tree import DecisionTreeClassifier\n",
    "from sklearn.model_selection import train_test_split\n",
    "from sklearn.metrics import accuracy_score\n",
    "import joblib\n",
    "from sklearn import tree\n",
    "\n",
    "import matplotlib as plt\n",
    "from matplotlib import pyplot\n",
    "import datetime\n",
    "import numpy as np\n",
    "\n",
    "import seaborn as sns\n",
    "import matplotlib.pyplot as plt\n"
   ]
  },
  {
   "cell_type": "code",
   "execution_count": 458,
   "metadata": {},
   "outputs": [],
   "source": [
    " # Import rewuirement \n",
    "from sklearn.tree import export_graphviz\n",
    "# from sklearn.externals.six import StringIO  \n",
    "from six import StringIO\n",
    "from IPython.display import Image  \n",
    "\n",
    "\n",
    "# from pycaret.classification import *"
   ]
  },
  {
   "cell_type": "code",
   "execution_count": 459,
   "metadata": {},
   "outputs": [],
   "source": [
    " # Import rewuirement \n",
    "import os\n",
    "from sklearn.preprocessing import LabelEncoder\n",
    "from sklearn.model_selection import train_test_split\n",
    "from sklearn.model_selection import RandomizedSearchCV, GridSearchCV\n",
    "from sklearn import tree\n",
    "from sklearn.metrics import accuracy_score,confusion_matrix\n",
    "import seaborn as sns\n",
    "import matplotlib.pyplot as plt"
   ]
  },
  {
   "cell_type": "code",
   "execution_count": 528,
   "metadata": {
    "scrolled": true
   },
   "outputs": [
    {
     "data": {
      "text/html": [
       "<div>\n",
       "<style scoped>\n",
       "    .dataframe tbody tr th:only-of-type {\n",
       "        vertical-align: middle;\n",
       "    }\n",
       "\n",
       "    .dataframe tbody tr th {\n",
       "        vertical-align: top;\n",
       "    }\n",
       "\n",
       "    .dataframe thead th {\n",
       "        text-align: right;\n",
       "    }\n",
       "</style>\n",
       "<table border=\"1\" class=\"dataframe\">\n",
       "  <thead>\n",
       "    <tr style=\"text-align: right;\">\n",
       "      <th></th>\n",
       "      <th>LOCATION</th>\n",
       "      <th>Area</th>\n",
       "      <th>eu_member</th>\n",
       "      <th>GDP</th>\n",
       "      <th>wheat_PPI</th>\n",
       "      <th>TIME</th>\n",
       "      <th>YEAR</th>\n",
       "      <th>YEAR_INT</th>\n",
       "    </tr>\n",
       "  </thead>\n",
       "  <tbody>\n",
       "    <tr>\n",
       "      <th>0</th>\n",
       "      <td>AUT</td>\n",
       "      <td>Austria</td>\n",
       "      <td>1</td>\n",
       "      <td>29380.031110</td>\n",
       "      <td>85.69</td>\n",
       "      <td>2000</td>\n",
       "      <td>Y2000</td>\n",
       "      <td>2000</td>\n",
       "    </tr>\n",
       "    <tr>\n",
       "      <th>1</th>\n",
       "      <td>AUT</td>\n",
       "      <td>Austria</td>\n",
       "      <td>1</td>\n",
       "      <td>29707.462264</td>\n",
       "      <td>82.98</td>\n",
       "      <td>2001</td>\n",
       "      <td>Y2001</td>\n",
       "      <td>2001</td>\n",
       "    </tr>\n",
       "    <tr>\n",
       "      <th>2</th>\n",
       "      <td>AUT</td>\n",
       "      <td>Austria</td>\n",
       "      <td>1</td>\n",
       "      <td>31178.051444</td>\n",
       "      <td>75.97</td>\n",
       "      <td>2002</td>\n",
       "      <td>Y2002</td>\n",
       "      <td>2002</td>\n",
       "    </tr>\n",
       "    <tr>\n",
       "      <th>3</th>\n",
       "      <td>AUT</td>\n",
       "      <td>Austria</td>\n",
       "      <td>1</td>\n",
       "      <td>32158.225907</td>\n",
       "      <td>83.72</td>\n",
       "      <td>2003</td>\n",
       "      <td>Y2003</td>\n",
       "      <td>2003</td>\n",
       "    </tr>\n",
       "    <tr>\n",
       "      <th>4</th>\n",
       "      <td>AUT</td>\n",
       "      <td>Austria</td>\n",
       "      <td>1</td>\n",
       "      <td>33784.432645</td>\n",
       "      <td>68.22</td>\n",
       "      <td>2004</td>\n",
       "      <td>Y2004</td>\n",
       "      <td>2004</td>\n",
       "    </tr>\n",
       "  </tbody>\n",
       "</table>\n",
       "</div>"
      ],
      "text/plain": [
       "  LOCATION     Area  eu_member           GDP  wheat_PPI  TIME   YEAR  YEAR_INT\n",
       "0      AUT  Austria          1  29380.031110      85.69  2000  Y2000      2000\n",
       "1      AUT  Austria          1  29707.462264      82.98  2001  Y2001      2001\n",
       "2      AUT  Austria          1  31178.051444      75.97  2002  Y2002      2002\n",
       "3      AUT  Austria          1  32158.225907      83.72  2003  Y2003      2003\n",
       "4      AUT  Austria          1  33784.432645      68.22  2004  Y2004      2004"
      ]
     },
     "execution_count": 528,
     "metadata": {},
     "output_type": "execute_result"
    }
   ],
   "source": [
    "# Import Dataset - already processed\n",
    "df_all_gdp_ppi_final = pd.read_csv(\"DATAOUTPUTS/df_all_gdp_ppi_final.csv\")\n",
    "df_all_gdp_ppi_final.head()"
   ]
  },
  {
   "cell_type": "code",
   "execution_count": 463,
   "metadata": {},
   "outputs": [],
   "source": [
    "# df_all_gdp_ppi_final.info()"
   ]
  },
  {
   "cell_type": "code",
   "execution_count": null,
   "metadata": {},
   "outputs": [],
   "source": [
    "######### NA here \n",
    "\n",
    "# convert the 'Date' column to datetime format\n",
    "# df_CA_p['wc_m']= pd.to_datetime(df_CA_p['wc_m'], format='%d/%m/%Y')\n",
    " \n",
    "# # Check the format of 'Date' column\n",
    "# df_CA_p.info()"
   ]
  },
  {
   "cell_type": "code",
   "execution_count": 462,
   "metadata": {},
   "outputs": [
    {
     "name": "stdout",
     "output_type": "stream",
     "text": [
      "     wheat_PPI\n",
      "0        85.69\n",
      "1        82.98\n",
      "2        75.97\n",
      "3        83.72\n",
      "4        68.22\n",
      "..         ...\n",
      "677      91.55\n",
      "678      95.77\n",
      "679     102.82\n",
      "680     111.27\n",
      "681     119.72\n",
      "\n",
      "[682 rows x 1 columns]\n"
     ]
    }
   ],
   "source": [
    "# set x \n",
    "X = df_all_gdp_ppi_final.drop(columns = ['LOCATION', 'Area', 'GDP', 'TIME', 'YEAR', 'YEAR_INT', 'eu_member'])\n",
    "print(X)"
   ]
  },
  {
   "cell_type": "code",
   "execution_count": 478,
   "metadata": {},
   "outputs": [
    {
     "name": "stdout",
     "output_type": "stream",
     "text": [
      "0      1\n",
      "1      1\n",
      "2      1\n",
      "3      1\n",
      "4      1\n",
      "      ..\n",
      "677    1\n",
      "678    1\n",
      "679    1\n",
      "680    1\n",
      "681    1\n",
      "Name: eu_member, Length: 682, dtype: int64\n"
     ]
    }
   ],
   "source": [
    "# set y\n",
    "y = df_all_gdp_ppi_final['eu_member']\n",
    "print(y)"
   ]
  },
  {
   "cell_type": "code",
   "execution_count": 483,
   "metadata": {},
   "outputs": [
    {
     "name": "stdout",
     "output_type": "stream",
     "text": [
      "(511, 1)\n",
      "(171, 1)\n"
     ]
    }
   ],
   "source": [
    "# split into train and test sets \n",
    "x_train,x_test,y_train,y_test = train_test_split(X,y,stratify=y)\n",
    "print(x_train.shape)\n",
    "print(x_test.shape)\n",
    "\n",
    "# https://github.com/davidsbatista/text-classification/issues/1 \n",
    "\n",
    "# x_train, x_test, y_train, y_test = train_test_split(X,y,test_size=0.33, random_state=42)\n",
    "# print(x_train.shape)\n",
    "# print(x_test.shape)"
   ]
  },
  {
   "cell_type": "code",
   "execution_count": 484,
   "metadata": {},
   "outputs": [],
   "source": [
    "# from sklearn import preprocessing\n",
    "# from sklearn import utils\n",
    "\n",
    "# #convert y values to categorical values\n",
    "# lab = preprocessing.LabelEncoder()\n",
    "# x_transformed = lab.fit_transform(X)\n",
    "\n",
    "# #view transformed values\n",
    "# print(x_transformed)"
   ]
  },
  {
   "cell_type": "code",
   "execution_count": 485,
   "metadata": {},
   "outputs": [],
   "source": [
    "#  First we will fit a normal decision tree without any fine tuning and check the results \n",
    "## Then I reran this with a max_depth = 3\n",
    "\n",
    "clf = tree.DecisionTreeClassifier(random_state=0, max_depth=3)\n",
    "clf.fit(x_train,y_train)\n",
    "y_train_pred = clf.predict(x_train)\n",
    "y_test_pred = clf.predict(x_test)"
   ]
  },
  {
   "cell_type": "code",
   "execution_count": 494,
   "metadata": {},
   "outputs": [
    {
     "data": {
      "image/png": "[encoded data removed]",
      "text/plain": [
       "<Figure size 1440x1440 with 1 Axes>"
      ]
     },
     "metadata": {},
     "output_type": "display_data"
    }
   ],
   "source": [
    "# Plot tree\n",
    "plt.figure(figsize=(20,20))\n",
    "features = X.columns\n",
    "classes = ['Not EU Member','EU Member']\n",
    "tree.plot_tree(clf,feature_names=features,class_names=classes,filled=True)\n",
    "plt.show()"
   ]
  },
  {
   "cell_type": "code",
   "execution_count": 495,
   "metadata": {},
   "outputs": [],
   "source": [
    "# helper function\n",
    "def plot_confusionmatrix(y_train_pred,y_train,dom):\n",
    "    print(f'{dom} Confusion matrix')\n",
    "    cf = confusion_matrix(y_train_pred,y_train)\n",
    "    sns.heatmap(cf,annot=True,yticklabels=classes\n",
    "               ,xticklabels=classes,cmap='Blues', fmt='g')\n",
    "    plt.tight_layout()\n",
    "    plt.show()"
   ]
  },
  {
   "cell_type": "code",
   "execution_count": 496,
   "metadata": {},
   "outputs": [
    {
     "name": "stdout",
     "output_type": "stream",
     "text": [
      "Accuracy Train score 0.8904109589041096\n",
      "Accuracy Test score 0.8947368421052632\n",
      "Train Confusion matrix\n"
     ]
    },
    {
     "data": {
      "image/png": "[encoded data removed]",
      "text/plain": [
       "<Figure size 432x288 with 2 Axes>"
      ]
     },
     "metadata": {},
     "output_type": "display_data"
    },
    {
     "name": "stdout",
     "output_type": "stream",
     "text": [
      "Test Confusion matrix\n"
     ]
    },
    {
     "data": {
      "image/png": "[encoded data removed]",
      "text/plain": [
       "<Figure size 432x288 with 2 Axes>"
      ]
     },
     "metadata": {},
     "output_type": "display_data"
    }
   ],
   "source": [
    "# Get and print results\n",
    "print(f'Accuracy Train score {accuracy_score(y_train_pred,y_train)}')\n",
    "print(f'Accuracy Test score {accuracy_score(y_test_pred,y_test)}')\n",
    "# print(f'Recall score {recall_score(y_train_pred,y_train)}')\n",
    "# print(f'Recall score {recall_score(y_test_pred,y_test)}')\n",
    "plot_confusionmatrix(y_train_pred,y_train,dom='Train')\n",
    "plot_confusionmatrix(y_test_pred,y_test,dom='Test')"
   ]
  },
  {
   "cell_type": "markdown",
   "metadata": {},
   "source": [
    "# GridSearchCV"
   ]
  },
  {
   "cell_type": "code",
   "execution_count": 514,
   "metadata": {},
   "outputs": [],
   "source": [
    "# https://www.mygreatlearning.com/blog/gridsearchcv/#:~:text=GridSearchCV%20is%20a%20technique%20for,parameter%20values%2C%20predictions%20are%20made.\n",
    "\n",
    "#import all necessary libraries\n",
    "import sklearn\n",
    "from sklearn.datasets import load_breast_cancer\n",
    "from sklearn.metrics import classification_report, confusion_matrix \n",
    "from sklearn.datasets import load_breast_cancer \n",
    "from sklearn.svm import SVC \n",
    "from sklearn.model_selection import GridSearchCV\n",
    "from sklearn.model_selection import train_test_split \n",
    " \n"
   ]
  },
  {
   "cell_type": "code",
   "execution_count": 506,
   "metadata": {},
   "outputs": [],
   "source": [
    "#load the dataset and split it into training and testing sets\n",
    "dataset = load_breast_cancer()\n",
    "X=dataset.data\n",
    "Y=dataset.target\n",
    "X_train, X_test, y_train, y_test = train_test_split( \n",
    "                        X,Y,test_size = 0.30, random_state = 101) \n"
   ]
  },
  {
   "cell_type": "code",
   "execution_count": 507,
   "metadata": {},
   "outputs": [
    {
     "data": {
      "text/plain": [
       "SVC()"
      ]
     },
     "execution_count": 507,
     "metadata": {},
     "output_type": "execute_result"
    }
   ],
   "source": [
    "# train the model on train set without using GridSearchCV \n",
    "model = SVC() \n",
    "model.fit(X_train, y_train) \n",
    "   \n"
   ]
  },
  {
   "cell_type": "code",
   "execution_count": 508,
   "metadata": {},
   "outputs": [
    {
     "name": "stdout",
     "output_type": "stream",
     "text": [
      "              precision    recall  f1-score   support\n",
      "\n",
      "           0       0.95      0.85      0.90        66\n",
      "           1       0.91      0.97      0.94       105\n",
      "\n",
      "    accuracy                           0.92       171\n",
      "   macro avg       0.93      0.91      0.92       171\n",
      "weighted avg       0.93      0.92      0.92       171\n",
      "\n"
     ]
    }
   ],
   "source": [
    "# print prediction results \n",
    "predictions = model.predict(X_test) \n",
    "print(classification_report(y_test, predictions)) "
   ]
  },
  {
   "cell_type": "code",
   "execution_count": 509,
   "metadata": {},
   "outputs": [],
   "source": [
    "# defining parameter range \n",
    "param_grid = {'C': [0.1, 1, 10, 100],  \n",
    "              'gamma': [1, 0.1, 0.01, 0.001, 0.0001], \n",
    "              'gamma':['scale', 'auto'],\n",
    "              'kernel': ['linear']}  \n",
    "   \n"
   ]
  },
  {
   "cell_type": "code",
   "execution_count": 510,
   "metadata": {},
   "outputs": [],
   "source": [
    "grid = GridSearchCV(SVC(), param_grid, refit = True, verbose = 3,n_jobs=-1) \n",
    "   \n"
   ]
  },
  {
   "cell_type": "code",
   "execution_count": 511,
   "metadata": {},
   "outputs": [
    {
     "name": "stdout",
     "output_type": "stream",
     "text": [
      "Fitting 5 folds for each of 8 candidates, totalling 40 fits\n"
     ]
    },
    {
     "data": {
      "text/plain": [
       "GridSearchCV(estimator=SVC(), n_jobs=-1,\n",
       "             param_grid={'C': [0.1, 1, 10, 100], 'gamma': ['scale', 'auto'],\n",
       "                         'kernel': ['linear']},\n",
       "             verbose=3)"
      ]
     },
     "execution_count": 511,
     "metadata": {},
     "output_type": "execute_result"
    }
   ],
   "source": [
    "# fitting the model for grid search \n",
    "grid.fit(X_train, y_train) \n",
    " \n"
   ]
  },
  {
   "cell_type": "code",
   "execution_count": 512,
   "metadata": {},
   "outputs": [
    {
     "name": "stdout",
     "output_type": "stream",
     "text": [
      "{'C': 100, 'gamma': 'scale', 'kernel': 'linear'}\n"
     ]
    }
   ],
   "source": [
    "# print best parameter after tuning \n",
    "print(grid.best_params_) \n",
    "grid_predictions = grid.predict(X_test) \n",
    "   \n"
   ]
  },
  {
   "cell_type": "code",
   "execution_count": 513,
   "metadata": {},
   "outputs": [
    {
     "name": "stdout",
     "output_type": "stream",
     "text": [
      "              precision    recall  f1-score   support\n",
      "\n",
      "           0       0.95      0.89      0.92        66\n",
      "           1       0.94      0.97      0.95       105\n",
      "\n",
      "    accuracy                           0.94       171\n",
      "   macro avg       0.94      0.93      0.94       171\n",
      "weighted avg       0.94      0.94      0.94       171\n",
      "\n"
     ]
    }
   ],
   "source": [
    "# print classification report \n",
    "print(classification_report(y_test, grid_predictions)) \n"
   ]
  },
  {
   "cell_type": "code",
   "execution_count": null,
   "metadata": {},
   "outputs": [],
   "source": []
  },
  {
   "cell_type": "code",
   "execution_count": null,
   "metadata": {},
   "outputs": [],
   "source": []
  },
  {
   "cell_type": "markdown",
   "metadata": {},
   "source": [
    "# K-Means Clustering "
   ]
  },
  {
   "cell_type": "code",
   "execution_count": 499,
   "metadata": {},
   "outputs": [],
   "source": [
    "# https://www.askpython.com/python/examples/cluster-analysis-in-python\n",
    "\n",
    "from copy import deepcopy\n",
    "import numpy as np \n",
    "import pandas as pd \n",
    "from matplotlib import pyplot as plt"
   ]
  },
  {
   "cell_type": "code",
   "execution_count": 529,
   "metadata": {},
   "outputs": [
    {
     "data": {
      "text/html": [
       "<div>\n",
       "<style scoped>\n",
       "    .dataframe tbody tr th:only-of-type {\n",
       "        vertical-align: middle;\n",
       "    }\n",
       "\n",
       "    .dataframe tbody tr th {\n",
       "        vertical-align: top;\n",
       "    }\n",
       "\n",
       "    .dataframe thead th {\n",
       "        text-align: right;\n",
       "    }\n",
       "</style>\n",
       "<table border=\"1\" class=\"dataframe\">\n",
       "  <thead>\n",
       "    <tr style=\"text-align: right;\">\n",
       "      <th></th>\n",
       "      <th>LOCATION</th>\n",
       "      <th>Area</th>\n",
       "      <th>eu_member</th>\n",
       "      <th>GDP</th>\n",
       "      <th>wheat_PPI</th>\n",
       "      <th>TIME</th>\n",
       "      <th>YEAR</th>\n",
       "      <th>YEAR_INT</th>\n",
       "    </tr>\n",
       "  </thead>\n",
       "  <tbody>\n",
       "    <tr>\n",
       "      <th>0</th>\n",
       "      <td>AUT</td>\n",
       "      <td>Austria</td>\n",
       "      <td>1</td>\n",
       "      <td>29380.031110</td>\n",
       "      <td>85.69</td>\n",
       "      <td>2000</td>\n",
       "      <td>Y2000</td>\n",
       "      <td>2000</td>\n",
       "    </tr>\n",
       "    <tr>\n",
       "      <th>1</th>\n",
       "      <td>AUT</td>\n",
       "      <td>Austria</td>\n",
       "      <td>1</td>\n",
       "      <td>29707.462264</td>\n",
       "      <td>82.98</td>\n",
       "      <td>2001</td>\n",
       "      <td>Y2001</td>\n",
       "      <td>2001</td>\n",
       "    </tr>\n",
       "    <tr>\n",
       "      <th>2</th>\n",
       "      <td>AUT</td>\n",
       "      <td>Austria</td>\n",
       "      <td>1</td>\n",
       "      <td>31178.051444</td>\n",
       "      <td>75.97</td>\n",
       "      <td>2002</td>\n",
       "      <td>Y2002</td>\n",
       "      <td>2002</td>\n",
       "    </tr>\n",
       "    <tr>\n",
       "      <th>3</th>\n",
       "      <td>AUT</td>\n",
       "      <td>Austria</td>\n",
       "      <td>1</td>\n",
       "      <td>32158.225907</td>\n",
       "      <td>83.72</td>\n",
       "      <td>2003</td>\n",
       "      <td>Y2003</td>\n",
       "      <td>2003</td>\n",
       "    </tr>\n",
       "    <tr>\n",
       "      <th>4</th>\n",
       "      <td>AUT</td>\n",
       "      <td>Austria</td>\n",
       "      <td>1</td>\n",
       "      <td>33784.432645</td>\n",
       "      <td>68.22</td>\n",
       "      <td>2004</td>\n",
       "      <td>Y2004</td>\n",
       "      <td>2004</td>\n",
       "    </tr>\n",
       "  </tbody>\n",
       "</table>\n",
       "</div>"
      ],
      "text/plain": [
       "  LOCATION     Area  eu_member           GDP  wheat_PPI  TIME   YEAR  YEAR_INT\n",
       "0      AUT  Austria          1  29380.031110      85.69  2000  Y2000      2000\n",
       "1      AUT  Austria          1  29707.462264      82.98  2001  Y2001      2001\n",
       "2      AUT  Austria          1  31178.051444      75.97  2002  Y2002      2002\n",
       "3      AUT  Austria          1  32158.225907      83.72  2003  Y2003      2003\n",
       "4      AUT  Austria          1  33784.432645      68.22  2004  Y2004      2004"
      ]
     },
     "execution_count": 529,
     "metadata": {},
     "output_type": "execute_result"
    }
   ],
   "source": [
    "df_all_gdp_ppi_final.head()"
   ]
  },
  {
   "cell_type": "code",
   "execution_count": 591,
   "metadata": {},
   "outputs": [
    {
     "data": {
      "text/html": [
       "<div>\n",
       "<style scoped>\n",
       "    .dataframe tbody tr th:only-of-type {\n",
       "        vertical-align: middle;\n",
       "    }\n",
       "\n",
       "    .dataframe tbody tr th {\n",
       "        vertical-align: top;\n",
       "    }\n",
       "\n",
       "    .dataframe thead th {\n",
       "        text-align: right;\n",
       "    }\n",
       "</style>\n",
       "<table border=\"1\" class=\"dataframe\">\n",
       "  <thead>\n",
       "    <tr style=\"text-align: right;\">\n",
       "      <th></th>\n",
       "      <th>eu_member</th>\n",
       "      <th>GDP</th>\n",
       "      <th>wheat_PPI</th>\n",
       "    </tr>\n",
       "  </thead>\n",
       "  <tbody>\n",
       "    <tr>\n",
       "      <th>677</th>\n",
       "      <td>1</td>\n",
       "      <td>27135.977062</td>\n",
       "      <td>91.55</td>\n",
       "    </tr>\n",
       "    <tr>\n",
       "      <th>678</th>\n",
       "      <td>1</td>\n",
       "      <td>29337.903177</td>\n",
       "      <td>95.77</td>\n",
       "    </tr>\n",
       "    <tr>\n",
       "      <th>679</th>\n",
       "      <td>1</td>\n",
       "      <td>32909.566163</td>\n",
       "      <td>102.82</td>\n",
       "    </tr>\n",
       "    <tr>\n",
       "      <th>680</th>\n",
       "      <td>1</td>\n",
       "      <td>33080.128126</td>\n",
       "      <td>111.27</td>\n",
       "    </tr>\n",
       "    <tr>\n",
       "      <th>681</th>\n",
       "      <td>1</td>\n",
       "      <td>35946.765464</td>\n",
       "      <td>119.72</td>\n",
       "    </tr>\n",
       "  </tbody>\n",
       "</table>\n",
       "</div>"
      ],
      "text/plain": [
       "     eu_member           GDP  wheat_PPI\n",
       "677          1  27135.977062      91.55\n",
       "678          1  29337.903177      95.77\n",
       "679          1  32909.566163     102.82\n",
       "680          1  33080.128126     111.27\n",
       "681          1  35946.765464     119.72"
      ]
     },
     "execution_count": 591,
     "metadata": {},
     "output_type": "execute_result"
    }
   ],
   "source": [
    "df_all_gdp_ppi_final_clean = df_all_gdp_ppi_final.drop(columns = ['LOCATION', 'Area', 'TIME', 'YEAR', 'YEAR_INT'])\n",
    "df_all_gdp_ppi_final_clean.tail()"
   ]
  },
  {
   "cell_type": "code",
   "execution_count": 589,
   "metadata": {},
   "outputs": [],
   "source": [
    "df_all_gdp_ppi_final_clean_na = df_all_gdp_ppi_final_clean.eu_member.fillna(0)"
   ]
  },
  {
   "cell_type": "code",
   "execution_count": 592,
   "metadata": {},
   "outputs": [
    {
     "name": "stdout",
     "output_type": "stream",
     "text": [
      "[1 0]\n"
     ]
    }
   ],
   "source": [
    "# Print Unique\n",
    "print(df_all_gdp_ppi_final_clean['eu_member'].unique())"
   ]
  },
  {
   "cell_type": "code",
   "execution_count": 598,
   "metadata": {},
   "outputs": [
    {
     "name": "stdout",
     "output_type": "stream",
     "text": [
      "False\n"
     ]
    }
   ],
   "source": [
    "# # importing libraries\n",
    "# import pandas as pd\n",
    "# import numpy as np\n",
    "\n",
    "\n",
    "# num = {'Integers': [10, 15, 30, 40, 55, np.nan,\n",
    "# \t\t\t\t\t75, np.nan, 90, 150, np.nan]}\n",
    "\n",
    "# # Create the dataframe\n",
    "# df = pd.DataFrame(num, columns=['Integers'])\n",
    "\n",
    "# Applying the method\n",
    "check_nan = df_all_gdp_ppi_final_clean['eu_member'].isnull().values.any()\n",
    "\n",
    "# printing the result\n",
    "print(check_nan)\n"
   ]
  },
  {
   "cell_type": "code",
   "execution_count": null,
   "metadata": {},
   "outputs": [],
   "source": []
  },
  {
   "cell_type": "code",
   "execution_count": 560,
   "metadata": {},
   "outputs": [],
   "source": [
    "df_all_gdp_ppi_final_clean_KM = df_all_gdp_ppi_final_clean.apply(lambda col: pd.Series(col.unique()))"
   ]
  },
  {
   "cell_type": "code",
   "execution_count": 567,
   "metadata": {},
   "outputs": [
    {
     "name": "stdout",
     "output_type": "stream",
     "text": [
      "<class 'pandas.core.frame.DataFrame'>\n",
      "RangeIndex: 682 entries, 0 to 681\n",
      "Data columns (total 3 columns):\n",
      " #   Column     Non-Null Count  Dtype  \n",
      "---  ------     --------------  -----  \n",
      " 0   eu_member  2 non-null      float64\n",
      " 1   GDP        682 non-null    float64\n",
      " 2   wheat_PPI  650 non-null    float64\n",
      "dtypes: float64(3)\n",
      "memory usage: 16.1 KB\n"
     ]
    }
   ],
   "source": [
    "df_all_gdp_ppi_final_clean_KM.info()"
   ]
  },
  {
   "cell_type": "code",
   "execution_count": 577,
   "metadata": {},
   "outputs": [
    {
     "data": {
      "text/html": [
       "<div>\n",
       "<style scoped>\n",
       "    .dataframe tbody tr th:only-of-type {\n",
       "        vertical-align: middle;\n",
       "    }\n",
       "\n",
       "    .dataframe tbody tr th {\n",
       "        vertical-align: top;\n",
       "    }\n",
       "\n",
       "    .dataframe thead th {\n",
       "        text-align: right;\n",
       "    }\n",
       "</style>\n",
       "<table border=\"1\" class=\"dataframe\">\n",
       "  <thead>\n",
       "    <tr style=\"text-align: right;\">\n",
       "      <th></th>\n",
       "      <th>GDP</th>\n",
       "      <th>wheat_PPI</th>\n",
       "    </tr>\n",
       "  </thead>\n",
       "  <tbody>\n",
       "    <tr>\n",
       "      <th>0</th>\n",
       "      <td>29380.031110</td>\n",
       "      <td>85.69</td>\n",
       "    </tr>\n",
       "    <tr>\n",
       "      <th>1</th>\n",
       "      <td>29707.462264</td>\n",
       "      <td>82.98</td>\n",
       "    </tr>\n",
       "    <tr>\n",
       "      <th>2</th>\n",
       "      <td>31178.051444</td>\n",
       "      <td>75.97</td>\n",
       "    </tr>\n",
       "    <tr>\n",
       "      <th>3</th>\n",
       "      <td>32158.225907</td>\n",
       "      <td>83.72</td>\n",
       "    </tr>\n",
       "    <tr>\n",
       "      <th>4</th>\n",
       "      <td>33784.432645</td>\n",
       "      <td>68.22</td>\n",
       "    </tr>\n",
       "    <tr>\n",
       "      <th>5</th>\n",
       "      <td>35024.557484</td>\n",
       "      <td>63.57</td>\n",
       "    </tr>\n",
       "    <tr>\n",
       "      <th>6</th>\n",
       "      <td>37659.840674</td>\n",
       "      <td>81.40</td>\n",
       "    </tr>\n",
       "    <tr>\n",
       "      <th>7</th>\n",
       "      <td>39436.420128</td>\n",
       "      <td>146.51</td>\n",
       "    </tr>\n",
       "    <tr>\n",
       "      <th>8</th>\n",
       "      <td>41316.022642</td>\n",
       "      <td>104.65</td>\n",
       "    </tr>\n",
       "    <tr>\n",
       "      <th>9</th>\n",
       "      <td>40929.336746</td>\n",
       "      <td>70.54</td>\n",
       "    </tr>\n",
       "    <tr>\n",
       "      <th>10</th>\n",
       "      <td>42020.550637</td>\n",
       "      <td>142.64</td>\n",
       "    </tr>\n",
       "    <tr>\n",
       "      <th>11</th>\n",
       "      <td>44469.209642</td>\n",
       "      <td>121.71</td>\n",
       "    </tr>\n",
       "    <tr>\n",
       "      <th>12</th>\n",
       "      <td>46477.655075</td>\n",
       "      <td>163.57</td>\n",
       "    </tr>\n",
       "    <tr>\n",
       "      <th>13</th>\n",
       "      <td>47936.677963</td>\n",
       "      <td>114.73</td>\n",
       "    </tr>\n",
       "    <tr>\n",
       "      <th>14</th>\n",
       "      <td>48813.534409</td>\n",
       "      <td>106.20</td>\n",
       "    </tr>\n",
       "    <tr>\n",
       "      <th>15</th>\n",
       "      <td>49942.056293</td>\n",
       "      <td>89.15</td>\n",
       "    </tr>\n",
       "    <tr>\n",
       "      <th>16</th>\n",
       "      <td>52665.087457</td>\n",
       "      <td>112.40</td>\n",
       "    </tr>\n",
       "    <tr>\n",
       "      <th>17</th>\n",
       "      <td>54188.360666</td>\n",
       "      <td>119.38</td>\n",
       "    </tr>\n",
       "    <tr>\n",
       "      <th>18</th>\n",
       "      <td>56956.110562</td>\n",
       "      <td>113.18</td>\n",
       "    </tr>\n",
       "    <tr>\n",
       "      <th>19</th>\n",
       "      <td>59719.331647</td>\n",
       "      <td>107.75</td>\n",
       "    </tr>\n",
       "    <tr>\n",
       "      <th>20</th>\n",
       "      <td>57253.300563</td>\n",
       "      <td>102.33</td>\n",
       "    </tr>\n",
       "    <tr>\n",
       "      <th>21</th>\n",
       "      <td>59976.264665</td>\n",
       "      <td>73.31</td>\n",
       "    </tr>\n",
       "    <tr>\n",
       "      <th>22</th>\n",
       "      <td>27789.053506</td>\n",
       "      <td>71.98</td>\n",
       "    </tr>\n",
       "    <tr>\n",
       "      <th>23</th>\n",
       "      <td>28791.405838</td>\n",
       "      <td>65.62</td>\n",
       "    </tr>\n",
       "    <tr>\n",
       "      <th>24</th>\n",
       "      <td>30281.667989</td>\n",
       "      <td>74.23</td>\n",
       "    </tr>\n",
       "    <tr>\n",
       "      <th>25</th>\n",
       "      <td>30934.598585</td>\n",
       "      <td>72.91</td>\n",
       "    </tr>\n",
       "    <tr>\n",
       "      <th>26</th>\n",
       "      <td>32063.673796</td>\n",
       "      <td>60.98</td>\n",
       "    </tr>\n",
       "    <tr>\n",
       "      <th>27</th>\n",
       "      <td>33176.680884</td>\n",
       "      <td>80.73</td>\n",
       "    </tr>\n",
       "    <tr>\n",
       "      <th>28</th>\n",
       "      <td>35253.923288</td>\n",
       "      <td>118.58</td>\n",
       "    </tr>\n",
       "    <tr>\n",
       "      <th>29</th>\n",
       "      <td>36794.234201</td>\n",
       "      <td>113.41</td>\n",
       "    </tr>\n",
       "  </tbody>\n",
       "</table>\n",
       "</div>"
      ],
      "text/plain": [
       "             GDP  wheat_PPI\n",
       "0   29380.031110      85.69\n",
       "1   29707.462264      82.98\n",
       "2   31178.051444      75.97\n",
       "3   32158.225907      83.72\n",
       "4   33784.432645      68.22\n",
       "5   35024.557484      63.57\n",
       "6   37659.840674      81.40\n",
       "7   39436.420128     146.51\n",
       "8   41316.022642     104.65\n",
       "9   40929.336746      70.54\n",
       "10  42020.550637     142.64\n",
       "11  44469.209642     121.71\n",
       "12  46477.655075     163.57\n",
       "13  47936.677963     114.73\n",
       "14  48813.534409     106.20\n",
       "15  49942.056293      89.15\n",
       "16  52665.087457     112.40\n",
       "17  54188.360666     119.38\n",
       "18  56956.110562     113.18\n",
       "19  59719.331647     107.75\n",
       "20  57253.300563     102.33\n",
       "21  59976.264665      73.31\n",
       "22  27789.053506      71.98\n",
       "23  28791.405838      65.62\n",
       "24  30281.667989      74.23\n",
       "25  30934.598585      72.91\n",
       "26  32063.673796      60.98\n",
       "27  33176.680884      80.73\n",
       "28  35253.923288     118.58\n",
       "29  36794.234201     113.41"
      ]
     },
     "execution_count": 577,
     "metadata": {},
     "output_type": "execute_result"
    }
   ],
   "source": [
    "data = df_all_gdp_ppi_final_clean_KM.drop(columns = ['eu_member'])\n",
    "data.head(30)\n",
    "#data.info()"
   ]
  },
  {
   "cell_type": "code",
   "execution_count": 578,
   "metadata": {},
   "outputs": [
    {
     "data": {
      "text/html": [
       "<div>\n",
       "<style scoped>\n",
       "    .dataframe tbody tr th:only-of-type {\n",
       "        vertical-align: middle;\n",
       "    }\n",
       "\n",
       "    .dataframe tbody tr th {\n",
       "        vertical-align: top;\n",
       "    }\n",
       "\n",
       "    .dataframe thead th {\n",
       "        text-align: right;\n",
       "    }\n",
       "</style>\n",
       "<table border=\"1\" class=\"dataframe\">\n",
       "  <thead>\n",
       "    <tr style=\"text-align: right;\">\n",
       "      <th></th>\n",
       "      <th>eu_member</th>\n",
       "    </tr>\n",
       "  </thead>\n",
       "  <tbody>\n",
       "    <tr>\n",
       "      <th>0</th>\n",
       "      <td>1.0</td>\n",
       "    </tr>\n",
       "    <tr>\n",
       "      <th>1</th>\n",
       "      <td>0.0</td>\n",
       "    </tr>\n",
       "    <tr>\n",
       "      <th>2</th>\n",
       "      <td>NaN</td>\n",
       "    </tr>\n",
       "    <tr>\n",
       "      <th>3</th>\n",
       "      <td>NaN</td>\n",
       "    </tr>\n",
       "    <tr>\n",
       "      <th>4</th>\n",
       "      <td>NaN</td>\n",
       "    </tr>\n",
       "    <tr>\n",
       "      <th>5</th>\n",
       "      <td>NaN</td>\n",
       "    </tr>\n",
       "    <tr>\n",
       "      <th>6</th>\n",
       "      <td>NaN</td>\n",
       "    </tr>\n",
       "    <tr>\n",
       "      <th>7</th>\n",
       "      <td>NaN</td>\n",
       "    </tr>\n",
       "    <tr>\n",
       "      <th>8</th>\n",
       "      <td>NaN</td>\n",
       "    </tr>\n",
       "    <tr>\n",
       "      <th>9</th>\n",
       "      <td>NaN</td>\n",
       "    </tr>\n",
       "    <tr>\n",
       "      <th>10</th>\n",
       "      <td>NaN</td>\n",
       "    </tr>\n",
       "    <tr>\n",
       "      <th>11</th>\n",
       "      <td>NaN</td>\n",
       "    </tr>\n",
       "    <tr>\n",
       "      <th>12</th>\n",
       "      <td>NaN</td>\n",
       "    </tr>\n",
       "    <tr>\n",
       "      <th>13</th>\n",
       "      <td>NaN</td>\n",
       "    </tr>\n",
       "    <tr>\n",
       "      <th>14</th>\n",
       "      <td>NaN</td>\n",
       "    </tr>\n",
       "    <tr>\n",
       "      <th>15</th>\n",
       "      <td>NaN</td>\n",
       "    </tr>\n",
       "    <tr>\n",
       "      <th>16</th>\n",
       "      <td>NaN</td>\n",
       "    </tr>\n",
       "    <tr>\n",
       "      <th>17</th>\n",
       "      <td>NaN</td>\n",
       "    </tr>\n",
       "    <tr>\n",
       "      <th>18</th>\n",
       "      <td>NaN</td>\n",
       "    </tr>\n",
       "    <tr>\n",
       "      <th>19</th>\n",
       "      <td>NaN</td>\n",
       "    </tr>\n",
       "    <tr>\n",
       "      <th>20</th>\n",
       "      <td>NaN</td>\n",
       "    </tr>\n",
       "    <tr>\n",
       "      <th>21</th>\n",
       "      <td>NaN</td>\n",
       "    </tr>\n",
       "    <tr>\n",
       "      <th>22</th>\n",
       "      <td>NaN</td>\n",
       "    </tr>\n",
       "    <tr>\n",
       "      <th>23</th>\n",
       "      <td>NaN</td>\n",
       "    </tr>\n",
       "    <tr>\n",
       "      <th>24</th>\n",
       "      <td>NaN</td>\n",
       "    </tr>\n",
       "    <tr>\n",
       "      <th>25</th>\n",
       "      <td>NaN</td>\n",
       "    </tr>\n",
       "    <tr>\n",
       "      <th>26</th>\n",
       "      <td>NaN</td>\n",
       "    </tr>\n",
       "    <tr>\n",
       "      <th>27</th>\n",
       "      <td>NaN</td>\n",
       "    </tr>\n",
       "    <tr>\n",
       "      <th>28</th>\n",
       "      <td>NaN</td>\n",
       "    </tr>\n",
       "    <tr>\n",
       "      <th>29</th>\n",
       "      <td>NaN</td>\n",
       "    </tr>\n",
       "  </tbody>\n",
       "</table>\n",
       "</div>"
      ],
      "text/plain": [
       "    eu_member\n",
       "0         1.0\n",
       "1         0.0\n",
       "2         NaN\n",
       "3         NaN\n",
       "4         NaN\n",
       "5         NaN\n",
       "6         NaN\n",
       "7         NaN\n",
       "8         NaN\n",
       "9         NaN\n",
       "10        NaN\n",
       "11        NaN\n",
       "12        NaN\n",
       "13        NaN\n",
       "14        NaN\n",
       "15        NaN\n",
       "16        NaN\n",
       "17        NaN\n",
       "18        NaN\n",
       "19        NaN\n",
       "20        NaN\n",
       "21        NaN\n",
       "22        NaN\n",
       "23        NaN\n",
       "24        NaN\n",
       "25        NaN\n",
       "26        NaN\n",
       "27        NaN\n",
       "28        NaN\n",
       "29        NaN"
      ]
     },
     "execution_count": 578,
     "metadata": {},
     "output_type": "execute_result"
    }
   ],
   "source": [
    "category = df_all_gdp_ppi_final_clean_KM.drop(columns = ['GDP', 'wheat_PPI'])\n",
    "category.head(30)\n",
    "#category.info()"
   ]
  },
  {
   "cell_type": "code",
   "execution_count": null,
   "metadata": {},
   "outputs": [],
   "source": []
  },
  {
   "cell_type": "code",
   "execution_count": 599,
   "metadata": {},
   "outputs": [
    {
     "name": "stdout",
     "output_type": "stream",
     "text": [
      "<class 'pandas.core.frame.DataFrame'>\n",
      "Int64Index: 2 entries, 0 to 1\n",
      "Data columns (total 3 columns):\n",
      " #   Column     Non-Null Count  Dtype  \n",
      "---  ------     --------------  -----  \n",
      " 0   eu_member  2 non-null      float64\n",
      " 1   GDP        2 non-null      float64\n",
      " 2   wheat_PPI  2 non-null      float64\n",
      "dtypes: float64(3)\n",
      "memory usage: 64.0 bytes\n"
     ]
    }
   ],
   "source": [
    "df_all_gdp_ppi_final_clean_KM2= df_all_gdp_ppi_final_clean_KM.dropna()\n",
    "df_all_gdp_ppi_final_clean_KM2.info()\n"
   ]
  },
  {
   "cell_type": "code",
   "execution_count": 600,
   "metadata": {},
   "outputs": [
    {
     "data": {
      "text/html": [
       "<div>\n",
       "<style scoped>\n",
       "    .dataframe tbody tr th:only-of-type {\n",
       "        vertical-align: middle;\n",
       "    }\n",
       "\n",
       "    .dataframe tbody tr th {\n",
       "        vertical-align: top;\n",
       "    }\n",
       "\n",
       "    .dataframe thead th {\n",
       "        text-align: right;\n",
       "    }\n",
       "</style>\n",
       "<table border=\"1\" class=\"dataframe\">\n",
       "  <thead>\n",
       "    <tr style=\"text-align: right;\">\n",
       "      <th></th>\n",
       "      <th>GDP</th>\n",
       "      <th>wheat_PPI</th>\n",
       "    </tr>\n",
       "  </thead>\n",
       "  <tbody>\n",
       "    <tr>\n",
       "      <th>0</th>\n",
       "      <td>29380.031110</td>\n",
       "      <td>85.69</td>\n",
       "    </tr>\n",
       "    <tr>\n",
       "      <th>1</th>\n",
       "      <td>29707.462264</td>\n",
       "      <td>82.98</td>\n",
       "    </tr>\n",
       "  </tbody>\n",
       "</table>\n",
       "</div>"
      ],
      "text/plain": [
       "            GDP  wheat_PPI\n",
       "0  29380.031110      85.69\n",
       "1  29707.462264      82.98"
      ]
     },
     "execution_count": 600,
     "metadata": {},
     "output_type": "execute_result"
    }
   ],
   "source": [
    "data = df_all_gdp_ppi_final_clean_KM2.drop(columns = ['eu_member'])\n",
    "data.head(30)\n",
    "#data.info()"
   ]
  },
  {
   "cell_type": "code",
   "execution_count": 601,
   "metadata": {},
   "outputs": [
    {
     "data": {
      "text/html": [
       "<div>\n",
       "<style scoped>\n",
       "    .dataframe tbody tr th:only-of-type {\n",
       "        vertical-align: middle;\n",
       "    }\n",
       "\n",
       "    .dataframe tbody tr th {\n",
       "        vertical-align: top;\n",
       "    }\n",
       "\n",
       "    .dataframe thead th {\n",
       "        text-align: right;\n",
       "    }\n",
       "</style>\n",
       "<table border=\"1\" class=\"dataframe\">\n",
       "  <thead>\n",
       "    <tr style=\"text-align: right;\">\n",
       "      <th></th>\n",
       "      <th>eu_member</th>\n",
       "    </tr>\n",
       "  </thead>\n",
       "  <tbody>\n",
       "    <tr>\n",
       "      <th>0</th>\n",
       "      <td>1.0</td>\n",
       "    </tr>\n",
       "    <tr>\n",
       "      <th>1</th>\n",
       "      <td>0.0</td>\n",
       "    </tr>\n",
       "  </tbody>\n",
       "</table>\n",
       "</div>"
      ],
      "text/plain": [
       "   eu_member\n",
       "0        1.0\n",
       "1        0.0"
      ]
     },
     "execution_count": 601,
     "metadata": {},
     "output_type": "execute_result"
    }
   ],
   "source": [
    "category = df_all_gdp_ppi_final_clean_KM2.drop(columns = ['GDP', 'wheat_PPI'])\n",
    "category.head(30)\n",
    "#category.info()"
   ]
  },
  {
   "cell_type": "code",
   "execution_count": null,
   "metadata": {},
   "outputs": [],
   "source": []
  },
  {
   "cell_type": "code",
   "execution_count": null,
   "metadata": {},
   "outputs": [],
   "source": []
  },
  {
   "cell_type": "code",
   "execution_count": 603,
   "metadata": {},
   "outputs": [],
   "source": [
    "k = 2"
   ]
  },
  {
   "cell_type": "code",
   "execution_count": 604,
   "metadata": {},
   "outputs": [],
   "source": [
    "# Training data\n",
    "n = data.shape[0]\n",
    " \n"
   ]
  },
  {
   "cell_type": "code",
   "execution_count": 607,
   "metadata": {},
   "outputs": [
    {
     "ename": "IndexError",
     "evalue": "tuple index out of range",
     "output_type": "error",
     "traceback": [
      "\u001b[1;31m---------------------------------------------------------------------------\u001b[0m",
      "\u001b[1;31mIndexError\u001b[0m                                Traceback (most recent call last)",
      "Input \u001b[1;32mIn [607]\u001b[0m, in \u001b[0;36m<cell line: 2>\u001b[1;34m()\u001b[0m\n\u001b[0;32m      1\u001b[0m \u001b[38;5;66;03m# Number of features in the data\u001b[39;00m\n\u001b[1;32m----> 2\u001b[0m c \u001b[38;5;241m=\u001b[39m \u001b[43mdata\u001b[49m\u001b[38;5;241;43m.\u001b[39;49m\u001b[43mshape\u001b[49m\u001b[43m[\u001b[49m\u001b[38;5;241;43m2\u001b[39;49m\u001b[43m]\u001b[49m\n",
      "\u001b[1;31mIndexError\u001b[0m: tuple index out of range"
     ]
    }
   ],
   "source": [
    "# Number of features in the data\n",
    "c = data.shape[2]\n",
    " \n"
   ]
  },
  {
   "cell_type": "code",
   "execution_count": 608,
   "metadata": {},
   "outputs": [
    {
     "ename": "ValueError",
     "evalue": "Data must be 1-dimensional",
     "output_type": "error",
     "traceback": [
      "\u001b[1;31m---------------------------------------------------------------------------\u001b[0m",
      "\u001b[1;31mValueError\u001b[0m                                Traceback (most recent call last)",
      "Input \u001b[1;32mIn [608]\u001b[0m, in \u001b[0;36m<cell line: 4>\u001b[1;34m()\u001b[0m\n\u001b[0;32m      2\u001b[0m mean \u001b[38;5;241m=\u001b[39m np\u001b[38;5;241m.\u001b[39mmean(data, axis \u001b[38;5;241m=\u001b[39m \u001b[38;5;241m0\u001b[39m)\n\u001b[0;32m      3\u001b[0m std \u001b[38;5;241m=\u001b[39m np\u001b[38;5;241m.\u001b[39mstd(data, axis \u001b[38;5;241m=\u001b[39m \u001b[38;5;241m0\u001b[39m)\n\u001b[1;32m----> 4\u001b[0m centers \u001b[38;5;241m=\u001b[39m \u001b[43mnp\u001b[49m\u001b[38;5;241;43m.\u001b[39;49m\u001b[43mrandom\u001b[49m\u001b[38;5;241;43m.\u001b[39;49m\u001b[43mrandn\u001b[49m\u001b[43m(\u001b[49m\u001b[43mk\u001b[49m\u001b[43m,\u001b[49m\u001b[43mc\u001b[49m\u001b[43m)\u001b[49m\u001b[38;5;241;43m*\u001b[39;49m\u001b[43mstd\u001b[49m \u001b[38;5;241m+\u001b[39m mean\n",
      "File \u001b[1;32mC:\\ProgramData\\Anaconda3\\lib\\site-packages\\pandas\\core\\generic.py:2101\u001b[0m, in \u001b[0;36mNDFrame.__array_ufunc__\u001b[1;34m(self, ufunc, method, *inputs, **kwargs)\u001b[0m\n\u001b[0;32m   2097\u001b[0m \u001b[38;5;129m@final\u001b[39m\n\u001b[0;32m   2098\u001b[0m \u001b[38;5;28;01mdef\u001b[39;00m \u001b[38;5;21m__array_ufunc__\u001b[39m(\n\u001b[0;32m   2099\u001b[0m     \u001b[38;5;28mself\u001b[39m, ufunc: np\u001b[38;5;241m.\u001b[39mufunc, method: \u001b[38;5;28mstr\u001b[39m, \u001b[38;5;241m*\u001b[39minputs: Any, \u001b[38;5;241m*\u001b[39m\u001b[38;5;241m*\u001b[39mkwargs: Any\n\u001b[0;32m   2100\u001b[0m ):\n\u001b[1;32m-> 2101\u001b[0m     \u001b[38;5;28;01mreturn\u001b[39;00m arraylike\u001b[38;5;241m.\u001b[39marray_ufunc(\u001b[38;5;28mself\u001b[39m, ufunc, method, \u001b[38;5;241m*\u001b[39minputs, \u001b[38;5;241m*\u001b[39m\u001b[38;5;241m*\u001b[39mkwargs)\n",
      "File \u001b[1;32mC:\\ProgramData\\Anaconda3\\lib\\site-packages\\pandas\\core\\arraylike.py:263\u001b[0m, in \u001b[0;36marray_ufunc\u001b[1;34m(self, ufunc, method, *inputs, **kwargs)\u001b[0m\n\u001b[0;32m    260\u001b[0m     \u001b[38;5;28;01mreturn\u001b[39;00m result\n\u001b[0;32m    262\u001b[0m \u001b[38;5;66;03m# for binary ops, use our custom dunder methods\u001b[39;00m\n\u001b[1;32m--> 263\u001b[0m result \u001b[38;5;241m=\u001b[39m maybe_dispatch_ufunc_to_dunder_op(\u001b[38;5;28mself\u001b[39m, ufunc, method, \u001b[38;5;241m*\u001b[39minputs, \u001b[38;5;241m*\u001b[39m\u001b[38;5;241m*\u001b[39mkwargs)\n\u001b[0;32m    264\u001b[0m \u001b[38;5;28;01mif\u001b[39;00m result \u001b[38;5;129;01mis\u001b[39;00m \u001b[38;5;129;01mnot\u001b[39;00m \u001b[38;5;28mNotImplemented\u001b[39m:\n\u001b[0;32m    265\u001b[0m     \u001b[38;5;28;01mreturn\u001b[39;00m result\n",
      "File \u001b[1;32mC:\\ProgramData\\Anaconda3\\lib\\site-packages\\pandas\\_libs\\ops_dispatch.pyx:113\u001b[0m, in \u001b[0;36mpandas._libs.ops_dispatch.maybe_dispatch_ufunc_to_dunder_op\u001b[1;34m()\u001b[0m\n",
      "File \u001b[1;32mC:\\ProgramData\\Anaconda3\\lib\\site-packages\\pandas\\core\\ops\\common.py:70\u001b[0m, in \u001b[0;36m_unpack_zerodim_and_defer.<locals>.new_method\u001b[1;34m(self, other)\u001b[0m\n\u001b[0;32m     66\u001b[0m             \u001b[38;5;28;01mreturn\u001b[39;00m \u001b[38;5;28mNotImplemented\u001b[39m\n\u001b[0;32m     68\u001b[0m other \u001b[38;5;241m=\u001b[39m item_from_zerodim(other)\n\u001b[1;32m---> 70\u001b[0m \u001b[38;5;28;01mreturn\u001b[39;00m \u001b[43mmethod\u001b[49m\u001b[43m(\u001b[49m\u001b[38;5;28;43mself\u001b[39;49m\u001b[43m,\u001b[49m\u001b[43m \u001b[49m\u001b[43mother\u001b[49m\u001b[43m)\u001b[49m\n",
      "File \u001b[1;32mC:\\ProgramData\\Anaconda3\\lib\\site-packages\\pandas\\core\\arraylike.py:120\u001b[0m, in \u001b[0;36mOpsMixin.__rmul__\u001b[1;34m(self, other)\u001b[0m\n\u001b[0;32m    118\u001b[0m \u001b[38;5;129m@unpack_zerodim_and_defer\u001b[39m(\u001b[38;5;124m\"\u001b[39m\u001b[38;5;124m__rmul__\u001b[39m\u001b[38;5;124m\"\u001b[39m)\n\u001b[0;32m    119\u001b[0m \u001b[38;5;28;01mdef\u001b[39;00m \u001b[38;5;21m__rmul__\u001b[39m(\u001b[38;5;28mself\u001b[39m, other):\n\u001b[1;32m--> 120\u001b[0m     \u001b[38;5;28;01mreturn\u001b[39;00m \u001b[38;5;28;43mself\u001b[39;49m\u001b[38;5;241;43m.\u001b[39;49m\u001b[43m_arith_method\u001b[49m\u001b[43m(\u001b[49m\u001b[43mother\u001b[49m\u001b[43m,\u001b[49m\u001b[43m \u001b[49m\u001b[43mroperator\u001b[49m\u001b[38;5;241;43m.\u001b[39;49m\u001b[43mrmul\u001b[49m\u001b[43m)\u001b[49m\n",
      "File \u001b[1;32mC:\\ProgramData\\Anaconda3\\lib\\site-packages\\pandas\\core\\series.py:5639\u001b[0m, in \u001b[0;36mSeries._arith_method\u001b[1;34m(self, other, op)\u001b[0m\n\u001b[0;32m   5637\u001b[0m \u001b[38;5;28;01mdef\u001b[39;00m \u001b[38;5;21m_arith_method\u001b[39m(\u001b[38;5;28mself\u001b[39m, other, op):\n\u001b[0;32m   5638\u001b[0m     \u001b[38;5;28mself\u001b[39m, other \u001b[38;5;241m=\u001b[39m ops\u001b[38;5;241m.\u001b[39malign_method_SERIES(\u001b[38;5;28mself\u001b[39m, other)\n\u001b[1;32m-> 5639\u001b[0m     \u001b[38;5;28;01mreturn\u001b[39;00m \u001b[43mbase\u001b[49m\u001b[38;5;241;43m.\u001b[39;49m\u001b[43mIndexOpsMixin\u001b[49m\u001b[38;5;241;43m.\u001b[39;49m\u001b[43m_arith_method\u001b[49m\u001b[43m(\u001b[49m\u001b[38;5;28;43mself\u001b[39;49m\u001b[43m,\u001b[49m\u001b[43m \u001b[49m\u001b[43mother\u001b[49m\u001b[43m,\u001b[49m\u001b[43m \u001b[49m\u001b[43mop\u001b[49m\u001b[43m)\u001b[49m\n",
      "File \u001b[1;32mC:\\ProgramData\\Anaconda3\\lib\\site-packages\\pandas\\core\\base.py:1297\u001b[0m, in \u001b[0;36mIndexOpsMixin._arith_method\u001b[1;34m(self, other, op)\u001b[0m\n\u001b[0;32m   1294\u001b[0m \u001b[38;5;28;01mwith\u001b[39;00m np\u001b[38;5;241m.\u001b[39merrstate(\u001b[38;5;28mall\u001b[39m\u001b[38;5;241m=\u001b[39m\u001b[38;5;124m\"\u001b[39m\u001b[38;5;124mignore\u001b[39m\u001b[38;5;124m\"\u001b[39m):\n\u001b[0;32m   1295\u001b[0m     result \u001b[38;5;241m=\u001b[39m ops\u001b[38;5;241m.\u001b[39marithmetic_op(lvalues, rvalues, op)\n\u001b[1;32m-> 1297\u001b[0m \u001b[38;5;28;01mreturn\u001b[39;00m \u001b[38;5;28;43mself\u001b[39;49m\u001b[38;5;241;43m.\u001b[39;49m\u001b[43m_construct_result\u001b[49m\u001b[43m(\u001b[49m\u001b[43mresult\u001b[49m\u001b[43m,\u001b[49m\u001b[43m \u001b[49m\u001b[43mname\u001b[49m\u001b[38;5;241;43m=\u001b[39;49m\u001b[43mres_name\u001b[49m\u001b[43m)\u001b[49m\n",
      "File \u001b[1;32mC:\\ProgramData\\Anaconda3\\lib\\site-packages\\pandas\\core\\series.py:3017\u001b[0m, in \u001b[0;36mSeries._construct_result\u001b[1;34m(self, result, name)\u001b[0m\n\u001b[0;32m   3013\u001b[0m     \u001b[38;5;28;01mreturn\u001b[39;00m (res1, res2)\n\u001b[0;32m   3015\u001b[0m \u001b[38;5;66;03m# We do not pass dtype to ensure that the Series constructor\u001b[39;00m\n\u001b[0;32m   3016\u001b[0m \u001b[38;5;66;03m#  does inference in the case where `result` has object-dtype.\u001b[39;00m\n\u001b[1;32m-> 3017\u001b[0m out \u001b[38;5;241m=\u001b[39m \u001b[38;5;28;43mself\u001b[39;49m\u001b[38;5;241;43m.\u001b[39;49m\u001b[43m_constructor\u001b[49m\u001b[43m(\u001b[49m\u001b[43mresult\u001b[49m\u001b[43m,\u001b[49m\u001b[43m \u001b[49m\u001b[43mindex\u001b[49m\u001b[38;5;241;43m=\u001b[39;49m\u001b[38;5;28;43mself\u001b[39;49m\u001b[38;5;241;43m.\u001b[39;49m\u001b[43mindex\u001b[49m\u001b[43m)\u001b[49m\n\u001b[0;32m   3018\u001b[0m out \u001b[38;5;241m=\u001b[39m out\u001b[38;5;241m.\u001b[39m__finalize__(\u001b[38;5;28mself\u001b[39m)\n\u001b[0;32m   3020\u001b[0m \u001b[38;5;66;03m# Set the result's name after __finalize__ is called because __finalize__\u001b[39;00m\n\u001b[0;32m   3021\u001b[0m \u001b[38;5;66;03m#  would set it back to self.name\u001b[39;00m\n",
      "File \u001b[1;32mC:\\ProgramData\\Anaconda3\\lib\\site-packages\\pandas\\core\\series.py:451\u001b[0m, in \u001b[0;36mSeries.__init__\u001b[1;34m(self, data, index, dtype, name, copy, fastpath)\u001b[0m\n\u001b[0;32m    449\u001b[0m         data \u001b[38;5;241m=\u001b[39m data\u001b[38;5;241m.\u001b[39mcopy()\n\u001b[0;32m    450\u001b[0m \u001b[38;5;28;01melse\u001b[39;00m:\n\u001b[1;32m--> 451\u001b[0m     data \u001b[38;5;241m=\u001b[39m \u001b[43msanitize_array\u001b[49m\u001b[43m(\u001b[49m\u001b[43mdata\u001b[49m\u001b[43m,\u001b[49m\u001b[43m \u001b[49m\u001b[43mindex\u001b[49m\u001b[43m,\u001b[49m\u001b[43m \u001b[49m\u001b[43mdtype\u001b[49m\u001b[43m,\u001b[49m\u001b[43m \u001b[49m\u001b[43mcopy\u001b[49m\u001b[43m)\u001b[49m\n\u001b[0;32m    453\u001b[0m     manager \u001b[38;5;241m=\u001b[39m get_option(\u001b[38;5;124m\"\u001b[39m\u001b[38;5;124mmode.data_manager\u001b[39m\u001b[38;5;124m\"\u001b[39m)\n\u001b[0;32m    454\u001b[0m     \u001b[38;5;28;01mif\u001b[39;00m manager \u001b[38;5;241m==\u001b[39m \u001b[38;5;124m\"\u001b[39m\u001b[38;5;124mblock\u001b[39m\u001b[38;5;124m\"\u001b[39m:\n",
      "File \u001b[1;32mC:\\ProgramData\\Anaconda3\\lib\\site-packages\\pandas\\core\\construction.py:598\u001b[0m, in \u001b[0;36msanitize_array\u001b[1;34m(data, index, dtype, copy, raise_cast_failure, allow_2d)\u001b[0m\n\u001b[0;32m    595\u001b[0m             subarr \u001b[38;5;241m=\u001b[39m cast(np\u001b[38;5;241m.\u001b[39mndarray, subarr)\n\u001b[0;32m    596\u001b[0m             subarr \u001b[38;5;241m=\u001b[39m maybe_infer_to_datetimelike(subarr)\n\u001b[1;32m--> 598\u001b[0m subarr \u001b[38;5;241m=\u001b[39m \u001b[43m_sanitize_ndim\u001b[49m\u001b[43m(\u001b[49m\u001b[43msubarr\u001b[49m\u001b[43m,\u001b[49m\u001b[43m \u001b[49m\u001b[43mdata\u001b[49m\u001b[43m,\u001b[49m\u001b[43m \u001b[49m\u001b[43mdtype\u001b[49m\u001b[43m,\u001b[49m\u001b[43m \u001b[49m\u001b[43mindex\u001b[49m\u001b[43m,\u001b[49m\u001b[43m \u001b[49m\u001b[43mallow_2d\u001b[49m\u001b[38;5;241;43m=\u001b[39;49m\u001b[43mallow_2d\u001b[49m\u001b[43m)\u001b[49m\n\u001b[0;32m    600\u001b[0m \u001b[38;5;28;01mif\u001b[39;00m \u001b[38;5;28misinstance\u001b[39m(subarr, np\u001b[38;5;241m.\u001b[39mndarray):\n\u001b[0;32m    601\u001b[0m     \u001b[38;5;66;03m# at this point we should have dtype be None or subarr.dtype == dtype\u001b[39;00m\n\u001b[0;32m    602\u001b[0m     dtype \u001b[38;5;241m=\u001b[39m cast(np\u001b[38;5;241m.\u001b[39mdtype, dtype)\n",
      "File \u001b[1;32mC:\\ProgramData\\Anaconda3\\lib\\site-packages\\pandas\\core\\construction.py:649\u001b[0m, in \u001b[0;36m_sanitize_ndim\u001b[1;34m(result, data, dtype, index, allow_2d)\u001b[0m\n\u001b[0;32m    647\u001b[0m     \u001b[38;5;28;01mif\u001b[39;00m allow_2d:\n\u001b[0;32m    648\u001b[0m         \u001b[38;5;28;01mreturn\u001b[39;00m result\n\u001b[1;32m--> 649\u001b[0m     \u001b[38;5;28;01mraise\u001b[39;00m \u001b[38;5;167;01mValueError\u001b[39;00m(\u001b[38;5;124m\"\u001b[39m\u001b[38;5;124mData must be 1-dimensional\u001b[39m\u001b[38;5;124m\"\u001b[39m)\n\u001b[0;32m    650\u001b[0m \u001b[38;5;28;01mif\u001b[39;00m is_object_dtype(dtype) \u001b[38;5;129;01mand\u001b[39;00m \u001b[38;5;28misinstance\u001b[39m(dtype, ExtensionDtype):\n\u001b[0;32m    651\u001b[0m     \u001b[38;5;66;03m# i.e. PandasDtype(\"O\")\u001b[39;00m\n\u001b[0;32m    653\u001b[0m     result \u001b[38;5;241m=\u001b[39m com\u001b[38;5;241m.\u001b[39masarray_tuplesafe(data, dtype\u001b[38;5;241m=\u001b[39mnp\u001b[38;5;241m.\u001b[39mdtype(\u001b[38;5;124m\"\u001b[39m\u001b[38;5;124mobject\u001b[39m\u001b[38;5;124m\"\u001b[39m))\n",
      "\u001b[1;31mValueError\u001b[0m: Data must be 1-dimensional"
     ]
    }
   ],
   "source": [
    "# Generating random centers\n",
    "mean = np.mean(data, axis = 0)\n",
    "std = np.std(data, axis = 0)\n",
    "centers = np.random.randn(k,c)*std + mean\n"
   ]
  },
  {
   "cell_type": "code",
   "execution_count": 609,
   "metadata": {},
   "outputs": [
    {
     "ename": "KeyError",
     "evalue": "(0, 0)",
     "output_type": "error",
     "traceback": [
      "\u001b[1;31m---------------------------------------------------------------------------\u001b[0m",
      "\u001b[1;31mKeyError\u001b[0m                                  Traceback (most recent call last)",
      "File \u001b[1;32mC:\\ProgramData\\Anaconda3\\lib\\site-packages\\pandas\\core\\indexes\\base.py:3621\u001b[0m, in \u001b[0;36mIndex.get_loc\u001b[1;34m(self, key, method, tolerance)\u001b[0m\n\u001b[0;32m   3620\u001b[0m \u001b[38;5;28;01mtry\u001b[39;00m:\n\u001b[1;32m-> 3621\u001b[0m     \u001b[38;5;28;01mreturn\u001b[39;00m \u001b[38;5;28;43mself\u001b[39;49m\u001b[38;5;241;43m.\u001b[39;49m\u001b[43m_engine\u001b[49m\u001b[38;5;241;43m.\u001b[39;49m\u001b[43mget_loc\u001b[49m\u001b[43m(\u001b[49m\u001b[43mcasted_key\u001b[49m\u001b[43m)\u001b[49m\n\u001b[0;32m   3622\u001b[0m \u001b[38;5;28;01mexcept\u001b[39;00m \u001b[38;5;167;01mKeyError\u001b[39;00m \u001b[38;5;28;01mas\u001b[39;00m err:\n",
      "File \u001b[1;32mC:\\ProgramData\\Anaconda3\\lib\\site-packages\\pandas\\_libs\\index.pyx:136\u001b[0m, in \u001b[0;36mpandas._libs.index.IndexEngine.get_loc\u001b[1;34m()\u001b[0m\n",
      "File \u001b[1;32mC:\\ProgramData\\Anaconda3\\lib\\site-packages\\pandas\\_libs\\index.pyx:163\u001b[0m, in \u001b[0;36mpandas._libs.index.IndexEngine.get_loc\u001b[1;34m()\u001b[0m\n",
      "File \u001b[1;32mpandas\\_libs\\hashtable_class_helper.pxi:5198\u001b[0m, in \u001b[0;36mpandas._libs.hashtable.PyObjectHashTable.get_item\u001b[1;34m()\u001b[0m\n",
      "File \u001b[1;32mpandas\\_libs\\hashtable_class_helper.pxi:5206\u001b[0m, in \u001b[0;36mpandas._libs.hashtable.PyObjectHashTable.get_item\u001b[1;34m()\u001b[0m\n",
      "\u001b[1;31mKeyError\u001b[0m: (0, 0)",
      "\nThe above exception was the direct cause of the following exception:\n",
      "\u001b[1;31mKeyError\u001b[0m                                  Traceback (most recent call last)",
      "Input \u001b[1;32mIn [609]\u001b[0m, in \u001b[0;36m<cell line: 3>\u001b[1;34m()\u001b[0m\n\u001b[0;32m      2\u001b[0m colors\u001b[38;5;241m=\u001b[39m[\u001b[38;5;124m'\u001b[39m\u001b[38;5;124mblue\u001b[39m\u001b[38;5;124m'\u001b[39m, \u001b[38;5;124m'\u001b[39m\u001b[38;5;124myellow\u001b[39m\u001b[38;5;124m'\u001b[39m, \u001b[38;5;124m'\u001b[39m\u001b[38;5;124mgreen\u001b[39m\u001b[38;5;124m'\u001b[39m]\n\u001b[0;32m      3\u001b[0m \u001b[38;5;28;01mfor\u001b[39;00m i \u001b[38;5;129;01min\u001b[39;00m \u001b[38;5;28mrange\u001b[39m(n):\n\u001b[1;32m----> 4\u001b[0m     plt\u001b[38;5;241m.\u001b[39mscatter(\u001b[43mdata\u001b[49m\u001b[43m[\u001b[49m\u001b[43mi\u001b[49m\u001b[43m,\u001b[49m\u001b[43m \u001b[49m\u001b[38;5;241;43m0\u001b[39;49m\u001b[43m]\u001b[49m, data[i,\u001b[38;5;241m1\u001b[39m], s\u001b[38;5;241m=\u001b[39m\u001b[38;5;241m7\u001b[39m, color \u001b[38;5;241m=\u001b[39m colors[\u001b[38;5;28mint\u001b[39m(category[i])])\n\u001b[0;32m      5\u001b[0m plt\u001b[38;5;241m.\u001b[39mscatter(centers[:,\u001b[38;5;241m0\u001b[39m], centers[:,\u001b[38;5;241m1\u001b[39m], marker\u001b[38;5;241m=\u001b[39m\u001b[38;5;124m'\u001b[39m\u001b[38;5;124m.\u001b[39m\u001b[38;5;124m'\u001b[39m, c\u001b[38;5;241m=\u001b[39m\u001b[38;5;124m'\u001b[39m\u001b[38;5;124mr\u001b[39m\u001b[38;5;124m'\u001b[39m, s\u001b[38;5;241m=\u001b[39m\u001b[38;5;241m150\u001b[39m)\n",
      "File \u001b[1;32mC:\\ProgramData\\Anaconda3\\lib\\site-packages\\pandas\\core\\frame.py:3505\u001b[0m, in \u001b[0;36mDataFrame.__getitem__\u001b[1;34m(self, key)\u001b[0m\n\u001b[0;32m   3503\u001b[0m \u001b[38;5;28;01mif\u001b[39;00m \u001b[38;5;28mself\u001b[39m\u001b[38;5;241m.\u001b[39mcolumns\u001b[38;5;241m.\u001b[39mnlevels \u001b[38;5;241m>\u001b[39m \u001b[38;5;241m1\u001b[39m:\n\u001b[0;32m   3504\u001b[0m     \u001b[38;5;28;01mreturn\u001b[39;00m \u001b[38;5;28mself\u001b[39m\u001b[38;5;241m.\u001b[39m_getitem_multilevel(key)\n\u001b[1;32m-> 3505\u001b[0m indexer \u001b[38;5;241m=\u001b[39m \u001b[38;5;28;43mself\u001b[39;49m\u001b[38;5;241;43m.\u001b[39;49m\u001b[43mcolumns\u001b[49m\u001b[38;5;241;43m.\u001b[39;49m\u001b[43mget_loc\u001b[49m\u001b[43m(\u001b[49m\u001b[43mkey\u001b[49m\u001b[43m)\u001b[49m\n\u001b[0;32m   3506\u001b[0m \u001b[38;5;28;01mif\u001b[39;00m is_integer(indexer):\n\u001b[0;32m   3507\u001b[0m     indexer \u001b[38;5;241m=\u001b[39m [indexer]\n",
      "File \u001b[1;32mC:\\ProgramData\\Anaconda3\\lib\\site-packages\\pandas\\core\\indexes\\base.py:3623\u001b[0m, in \u001b[0;36mIndex.get_loc\u001b[1;34m(self, key, method, tolerance)\u001b[0m\n\u001b[0;32m   3621\u001b[0m     \u001b[38;5;28;01mreturn\u001b[39;00m \u001b[38;5;28mself\u001b[39m\u001b[38;5;241m.\u001b[39m_engine\u001b[38;5;241m.\u001b[39mget_loc(casted_key)\n\u001b[0;32m   3622\u001b[0m \u001b[38;5;28;01mexcept\u001b[39;00m \u001b[38;5;167;01mKeyError\u001b[39;00m \u001b[38;5;28;01mas\u001b[39;00m err:\n\u001b[1;32m-> 3623\u001b[0m     \u001b[38;5;28;01mraise\u001b[39;00m \u001b[38;5;167;01mKeyError\u001b[39;00m(key) \u001b[38;5;28;01mfrom\u001b[39;00m \u001b[38;5;21;01merr\u001b[39;00m\n\u001b[0;32m   3624\u001b[0m \u001b[38;5;28;01mexcept\u001b[39;00m \u001b[38;5;167;01mTypeError\u001b[39;00m:\n\u001b[0;32m   3625\u001b[0m     \u001b[38;5;66;03m# If we have a listlike key, _check_indexing_error will raise\u001b[39;00m\n\u001b[0;32m   3626\u001b[0m     \u001b[38;5;66;03m#  InvalidIndexError. Otherwise we fall through and re-raise\u001b[39;00m\n\u001b[0;32m   3627\u001b[0m     \u001b[38;5;66;03m#  the TypeError.\u001b[39;00m\n\u001b[0;32m   3628\u001b[0m     \u001b[38;5;28mself\u001b[39m\u001b[38;5;241m.\u001b[39m_check_indexing_error(key)\n",
      "\u001b[1;31mKeyError\u001b[0m: (0, 0)"
     ]
    }
   ],
   "source": [
    " \n",
    "# Plotting data \n",
    "colors=['blue', 'yellow', 'green']\n",
    "for i in range(n):\n",
    "    plt.scatter(data[i, 0], data[i,1], s=7, color = colors[int(category[i])])\n",
    "plt.scatter(centers[:,0], centers[:,1], marker='.', c='r', s=150)\n"
   ]
  },
  {
   "cell_type": "markdown",
   "metadata": {},
   "source": [
    "## K means v 2"
   ]
  },
  {
   "cell_type": "code",
   "execution_count": null,
   "metadata": {},
   "outputs": [],
   "source": [
    "# import numpy as np\n",
    "# import pandas as pd \n",
    "# import matplotlib.pyplot as plt\n",
    "# from matplotlib.colors import ListedColormap\n",
    "# %matplotlib inline\n",
    "\n",
    "# blobs = pd.read_csv('kmeans_blobs.csv')\n",
    "# colnames = list(blobs.columns[1:-1])\n",
    "# blobs.head()"
   ]
  },
  {
   "cell_type": "code",
   "execution_count": null,
   "metadata": {},
   "outputs": [],
   "source": [
    "# customcmap = ListedColormap([\"crimson\", \"mediumblue\", \"darkmagenta\"])\n",
    "\n",
    "# fig, ax = plt.subplots(figsize=(8, 6))\n",
    "# plt.scatter(x=blobs['x'], y=blobs['y'], s=150,\n",
    "#             c=blobs['cluster'].astype('category'), \n",
    "#             cmap = customcmap)\n",
    "# ax.set_xlabel(r'x', fontsize=14)\n",
    "# ax.set_ylabel(r'y', fontsize=14)\n",
    "# plt.xticks(fontsize=12)\n",
    "# plt.yticks(fontsize=12)\n",
    "# plt.show()"
   ]
  },
  {
   "cell_type": "code",
   "execution_count": 611,
   "metadata": {},
   "outputs": [],
   "source": [
    "def initiate_centroids(k, dset):\n",
    "    '''\n",
    "    Select k data points as centroids\n",
    "    k: number of centroids\n",
    "    dset: pandas dataframe\n",
    "    '''\n",
    "    centroids = dset.sample(k)\n",
    "    return centroids\n",
    "\n",
    "np.random.seed(42)\n",
    "k=3\n"
   ]
  },
  {
   "cell_type": "code",
   "execution_count": 613,
   "metadata": {},
   "outputs": [],
   "source": [
    "# df = blobs[['x','y']]\n",
    "df_km = [df_all_gdp_ppi_final_clean.GDP], [df_all_gdp_ppi_final_clean.wheat_PPI]\n",
    "\n"
   ]
  },
  {
   "cell_type": "code",
   "execution_count": 615,
   "metadata": {},
   "outputs": [
    {
     "ename": "AttributeError",
     "evalue": "'tuple' object has no attribute 'sample'",
     "output_type": "error",
     "traceback": [
      "\u001b[1;31m---------------------------------------------------------------------------\u001b[0m",
      "\u001b[1;31mAttributeError\u001b[0m                            Traceback (most recent call last)",
      "Input \u001b[1;32mIn [615]\u001b[0m, in \u001b[0;36m<cell line: 1>\u001b[1;34m()\u001b[0m\n\u001b[1;32m----> 1\u001b[0m centroids \u001b[38;5;241m=\u001b[39m \u001b[43minitiate_centroids\u001b[49m\u001b[43m(\u001b[49m\u001b[43mk\u001b[49m\u001b[43m,\u001b[49m\u001b[43m \u001b[49m\u001b[43mdf_km\u001b[49m\u001b[43m)\u001b[49m\n\u001b[0;32m      2\u001b[0m centroids\n",
      "Input \u001b[1;32mIn [611]\u001b[0m, in \u001b[0;36minitiate_centroids\u001b[1;34m(k, dset)\u001b[0m\n\u001b[0;32m      1\u001b[0m \u001b[38;5;28;01mdef\u001b[39;00m \u001b[38;5;21minitiate_centroids\u001b[39m(k, dset):\n\u001b[0;32m      2\u001b[0m     \u001b[38;5;124;03m'''\u001b[39;00m\n\u001b[0;32m      3\u001b[0m \u001b[38;5;124;03m    Select k data points as centroids\u001b[39;00m\n\u001b[0;32m      4\u001b[0m \u001b[38;5;124;03m    k: number of centroids\u001b[39;00m\n\u001b[0;32m      5\u001b[0m \u001b[38;5;124;03m    dset: pandas dataframe\u001b[39;00m\n\u001b[0;32m      6\u001b[0m \u001b[38;5;124;03m    '''\u001b[39;00m\n\u001b[1;32m----> 7\u001b[0m     centroids \u001b[38;5;241m=\u001b[39m \u001b[43mdset\u001b[49m\u001b[38;5;241;43m.\u001b[39;49m\u001b[43msample\u001b[49m(k)\n\u001b[0;32m      8\u001b[0m     \u001b[38;5;28;01mreturn\u001b[39;00m centroids\n",
      "\u001b[1;31mAttributeError\u001b[0m: 'tuple' object has no attribute 'sample'"
     ]
    }
   ],
   "source": [
    "centroids = initiate_centroids(k, df_km)\n",
    "centroids"
   ]
  },
  {
   "cell_type": "code",
   "execution_count": null,
   "metadata": {},
   "outputs": [],
   "source": []
  },
  {
   "cell_type": "code",
   "execution_count": null,
   "metadata": {},
   "outputs": [],
   "source": []
  },
  {
   "cell_type": "code",
   "execution_count": null,
   "metadata": {},
   "outputs": [],
   "source": []
  },
  {
   "cell_type": "markdown",
   "metadata": {},
   "source": [
    "## Archived Code\n"
   ]
  },
  {
   "cell_type": "code",
   "execution_count": 439,
   "metadata": {},
   "outputs": [],
   "source": [
    "# Load libraries\n",
    "import pandas as pd\n",
    "from sklearn.tree import DecisionTreeClassifier # Import Decision Tree Classifier\n",
    "from sklearn.model_selection import train_test_split # Import train_test_split function\n",
    "from sklearn import metrics #Import scikit-learn metrics module for accuracy calculation\n"
   ]
  },
  {
   "cell_type": "code",
   "execution_count": 429,
   "metadata": {},
   "outputs": [],
   "source": [
    "# # Load libraries\n",
    "# import pandas as pd\n",
    "# from sklearn.tree import DecisionTreeClassifier # Import Decision Tree Classifier\n",
    "# from sklearn.model_selection import train_test_split # Import train_test_split function\n",
    "# from sklearn import metrics #Import scikit-learn metrics module for accuracy calculation\n",
    "\n",
    "\n",
    "# set x \n",
    "# X = df_all_gdp_ppi_final.drop(columns = ['wc_m', 'Capel_Street_avg', 'wdsp_avg', 'sun_avg', 'ff_annual_avg', 'Is_busy'])\n",
    "# print(X)\n",
    "\n",
    "# X = df_all_gdp_ppi_final.wheat_PPI\n",
    "# print(X)\n",
    "\n",
    "# X = df_farm_eu['rain_avg', 'maxtp_avg']\n",
    "\n",
    "# X = df_farm_eu.rain_avg\n",
    "\n",
    "# y = df_farm_eu['Is_busier_than_usual']\n",
    "\n",
    "# #Descion tree: ass DecisionTreeClassifier as earlier. \n",
    "# model = DecisionTreeClassifier()\n",
    "# model.fit(X,y)\n",
    "\n",
    "# # # This time add the train_test_split \n",
    "# X_train, X_test, y_train, y_test = train_test_split(X, y, test_size=0.2)\n",
    "\n",
    "# # # note for above, the test size is 20%, i.e.e 80% is for training the model. If you decrease the amount of data for training \n",
    "# # # (i.e.e increase test_size to say, 0.8, the accuracy figure gets a lot worse.)\n",
    "\n",
    "# # # this is asking what the music would be for a 21 yea old male and a 22 YO female. \n",
    "# predictions = model.predict( [ [21,1], [22,0] ] ) \n",
    "# predictions\n",
    "\n",
    "# # model = DecisionTreeClassifier()\n",
    "# # model.fit(X_train, y_train)\n",
    "# # predictions = model.predict(X_test)\n",
    "# # predictions\n",
    "\n",
    "# # score = accuracy_score(y_test, predictions)\n",
    "# # score"
   ]
  },
  {
   "cell_type": "code",
   "execution_count": 443,
   "metadata": {},
   "outputs": [
    {
     "name": "stdout",
     "output_type": "stream",
     "text": [
      "<class 'pandas.core.frame.DataFrame'>\n",
      "RangeIndex: 682 entries, 0 to 681\n",
      "Data columns (total 8 columns):\n",
      " #   Column     Non-Null Count  Dtype  \n",
      "---  ------     --------------  -----  \n",
      " 0   LOCATION   682 non-null    object \n",
      " 1   Area       682 non-null    object \n",
      " 2   eu_member  682 non-null    int64  \n",
      " 3   GDP        682 non-null    float64\n",
      " 4   wheat_PPI  682 non-null    float64\n",
      " 5   TIME       682 non-null    int64  \n",
      " 6   YEAR       682 non-null    object \n",
      " 7   YEAR_INT   682 non-null    int64  \n",
      "dtypes: float64(2), int64(3), object(3)\n",
      "memory usage: 42.8+ KB\n"
     ]
    }
   ],
   "source": [
    "df_all_gdp_ppi_final.info()"
   ]
  },
  {
   "cell_type": "code",
   "execution_count": null,
   "metadata": {},
   "outputs": [],
   "source": [
    "# from sklearn import tree\n",
    "# # >>> X = [[0, 0], [1, 1]]\n",
    "# # >>> Y = [0, 1]\n",
    "# >>> clf = tree.DecisionTreeClassifier()\n",
    "# >>> clf = clf.fit(X, Y)"
   ]
  },
  {
   "cell_type": "code",
   "execution_count": 448,
   "metadata": {},
   "outputs": [
    {
     "name": "stdout",
     "output_type": "stream",
     "text": [
      "     wheat_PPI\n",
      "0        85.69\n",
      "1        82.98\n",
      "2        75.97\n",
      "3        83.72\n",
      "4        68.22\n",
      "..         ...\n",
      "677      91.55\n",
      "678      95.77\n",
      "679     102.82\n",
      "680     111.27\n",
      "681     119.72\n",
      "\n",
      "[682 rows x 1 columns]\n"
     ]
    }
   ],
   "source": [
    "X = df_all_gdp_ppi_final[['wheat_PPI']]\n",
    "print(X)"
   ]
  },
  {
   "cell_type": "code",
   "execution_count": 449,
   "metadata": {},
   "outputs": [
    {
     "name": "stdout",
     "output_type": "stream",
     "text": [
      "     eu_member\n",
      "0            1\n",
      "1            1\n",
      "2            1\n",
      "3            1\n",
      "4            1\n",
      "..         ...\n",
      "677          1\n",
      "678          1\n",
      "679          1\n",
      "680          1\n",
      "681          1\n",
      "\n",
      "[682 rows x 1 columns]\n"
     ]
    }
   ],
   "source": [
    "# set y\n",
    "y = df_all_gdp_ppi_final[['eu_member']]\n",
    "print(y)"
   ]
  },
  {
   "cell_type": "code",
   "execution_count": 450,
   "metadata": {},
   "outputs": [
    {
     "name": "stdout",
     "output_type": "stream",
     "text": [
      "     wheat_PPI\n",
      "0        85.69\n",
      "1        82.98\n",
      "2        75.97\n",
      "3        83.72\n",
      "4        68.22\n",
      "..         ...\n",
      "677      91.55\n",
      "678      95.77\n",
      "679     102.82\n",
      "680     111.27\n",
      "681     119.72\n",
      "\n",
      "[682 rows x 1 columns]      eu_member\n",
      "0            1\n",
      "1            1\n",
      "2            1\n",
      "3            1\n",
      "4            1\n",
      "..         ...\n",
      "677          1\n",
      "678          1\n",
      "679          1\n",
      "680          1\n",
      "681          1\n",
      "\n",
      "[682 rows x 1 columns]\n"
     ]
    }
   ],
   "source": [
    "print (X, y)"
   ]
  },
  {
   "cell_type": "code",
   "execution_count": 451,
   "metadata": {},
   "outputs": [
    {
     "data": {
      "text/plain": [
       "DecisionTreeClassifier()"
      ]
     },
     "execution_count": 451,
     "metadata": {},
     "output_type": "execute_result"
    }
   ],
   "source": [
    "#Descion tree: ass DecisionTreeClassifier as earlier. \n",
    "#model = DecisionTreeClassifier(max_depth = 3)\n",
    "model = DecisionTreeClassifier()\n",
    "model.fit(X,y)\n",
    "\n",
    "\n",
    "\n"
   ]
  },
  {
   "cell_type": "code",
   "execution_count": 452,
   "metadata": {},
   "outputs": [],
   "source": [
    "\n",
    "# # This time add the train_test_split \n",
    "X_train, X_test, y_train, y_test = train_test_split(X, y, test_size=0.2)\n",
    "\n",
    "# # note for above, the test size is 20%, i.e.e 80% is for training the model. If you decrease the amount of data for training \n",
    "# # (i.e.e increase test_size to say, 0.8, the accuracy figure gets a lot worse.)\n",
    "\n"
   ]
  },
  {
   "cell_type": "code",
   "execution_count": 453,
   "metadata": {},
   "outputs": [
    {
     "name": "stderr",
     "output_type": "stream",
     "text": [
      "C:\\ProgramData\\Anaconda3\\lib\\site-packages\\sklearn\\base.py:450: UserWarning: X does not have valid feature names, but DecisionTreeClassifier was fitted with feature names\n",
      "  warnings.warn(\n"
     ]
    },
    {
     "ename": "ValueError",
     "evalue": "X has 2 features, but DecisionTreeClassifier is expecting 1 features as input.",
     "output_type": "error",
     "traceback": [
      "\u001b[1;31m---------------------------------------------------------------------------\u001b[0m",
      "\u001b[1;31mValueError\u001b[0m                                Traceback (most recent call last)",
      "Input \u001b[1;32mIn [453]\u001b[0m, in \u001b[0;36m<cell line: 4>\u001b[1;34m()\u001b[0m\n\u001b[0;32m      1\u001b[0m \u001b[38;5;66;03m# # this is asking is it busier than usual for [maxtp, rain]\u001b[39;00m\n\u001b[0;32m      2\u001b[0m \u001b[38;5;66;03m# Outputs example = is businer than usual, 1 = True, busier than usual. If 0, = False, not busier than usual. \u001b[39;00m\n\u001b[0;32m      3\u001b[0m \u001b[38;5;66;03m# # Outputs = is EU, 1 = True, is EU. If 0, = False, not EU. \u001b[39;00m\n\u001b[1;32m----> 4\u001b[0m predictions \u001b[38;5;241m=\u001b[39m \u001b[43mmodel\u001b[49m\u001b[38;5;241;43m.\u001b[39;49m\u001b[43mpredict\u001b[49m\u001b[43m(\u001b[49m\u001b[43m \u001b[49m\u001b[43m[\u001b[49m\u001b[43m \u001b[49m\u001b[43m[\u001b[49m\u001b[38;5;241;43m12\u001b[39;49m\u001b[43m,\u001b[49m\u001b[38;5;241;43m0\u001b[39;49m\u001b[43m]\u001b[49m\u001b[43m \u001b[49m\u001b[43m]\u001b[49m\u001b[43m \u001b[49m\u001b[43m)\u001b[49m \n\u001b[0;32m      5\u001b[0m \u001b[38;5;28mprint\u001b[39m(predictions)\n",
      "File \u001b[1;32mC:\\ProgramData\\Anaconda3\\lib\\site-packages\\sklearn\\tree\\_classes.py:467\u001b[0m, in \u001b[0;36mBaseDecisionTree.predict\u001b[1;34m(self, X, check_input)\u001b[0m\n\u001b[0;32m    444\u001b[0m \u001b[38;5;124;03m\"\"\"Predict class or regression value for X.\u001b[39;00m\n\u001b[0;32m    445\u001b[0m \n\u001b[0;32m    446\u001b[0m \u001b[38;5;124;03mFor a classification model, the predicted class for each sample in X is\u001b[39;00m\n\u001b[1;32m   (...)\u001b[0m\n\u001b[0;32m    464\u001b[0m \u001b[38;5;124;03m    The predicted classes, or the predict values.\u001b[39;00m\n\u001b[0;32m    465\u001b[0m \u001b[38;5;124;03m\"\"\"\u001b[39;00m\n\u001b[0;32m    466\u001b[0m check_is_fitted(\u001b[38;5;28mself\u001b[39m)\n\u001b[1;32m--> 467\u001b[0m X \u001b[38;5;241m=\u001b[39m \u001b[38;5;28;43mself\u001b[39;49m\u001b[38;5;241;43m.\u001b[39;49m\u001b[43m_validate_X_predict\u001b[49m\u001b[43m(\u001b[49m\u001b[43mX\u001b[49m\u001b[43m,\u001b[49m\u001b[43m \u001b[49m\u001b[43mcheck_input\u001b[49m\u001b[43m)\u001b[49m\n\u001b[0;32m    468\u001b[0m proba \u001b[38;5;241m=\u001b[39m \u001b[38;5;28mself\u001b[39m\u001b[38;5;241m.\u001b[39mtree_\u001b[38;5;241m.\u001b[39mpredict(X)\n\u001b[0;32m    469\u001b[0m n_samples \u001b[38;5;241m=\u001b[39m X\u001b[38;5;241m.\u001b[39mshape[\u001b[38;5;241m0\u001b[39m]\n",
      "File \u001b[1;32mC:\\ProgramData\\Anaconda3\\lib\\site-packages\\sklearn\\tree\\_classes.py:433\u001b[0m, in \u001b[0;36mBaseDecisionTree._validate_X_predict\u001b[1;34m(self, X, check_input)\u001b[0m\n\u001b[0;32m    431\u001b[0m \u001b[38;5;124;03m\"\"\"Validate the training data on predict (probabilities).\"\"\"\u001b[39;00m\n\u001b[0;32m    432\u001b[0m \u001b[38;5;28;01mif\u001b[39;00m check_input:\n\u001b[1;32m--> 433\u001b[0m     X \u001b[38;5;241m=\u001b[39m \u001b[38;5;28;43mself\u001b[39;49m\u001b[38;5;241;43m.\u001b[39;49m\u001b[43m_validate_data\u001b[49m\u001b[43m(\u001b[49m\u001b[43mX\u001b[49m\u001b[43m,\u001b[49m\u001b[43m \u001b[49m\u001b[43mdtype\u001b[49m\u001b[38;5;241;43m=\u001b[39;49m\u001b[43mDTYPE\u001b[49m\u001b[43m,\u001b[49m\u001b[43m \u001b[49m\u001b[43maccept_sparse\u001b[49m\u001b[38;5;241;43m=\u001b[39;49m\u001b[38;5;124;43m\"\u001b[39;49m\u001b[38;5;124;43mcsr\u001b[39;49m\u001b[38;5;124;43m\"\u001b[39;49m\u001b[43m,\u001b[49m\u001b[43m \u001b[49m\u001b[43mreset\u001b[49m\u001b[38;5;241;43m=\u001b[39;49m\u001b[38;5;28;43;01mFalse\u001b[39;49;00m\u001b[43m)\u001b[49m\n\u001b[0;32m    434\u001b[0m     \u001b[38;5;28;01mif\u001b[39;00m issparse(X) \u001b[38;5;129;01mand\u001b[39;00m (\n\u001b[0;32m    435\u001b[0m         X\u001b[38;5;241m.\u001b[39mindices\u001b[38;5;241m.\u001b[39mdtype \u001b[38;5;241m!=\u001b[39m np\u001b[38;5;241m.\u001b[39mintc \u001b[38;5;129;01mor\u001b[39;00m X\u001b[38;5;241m.\u001b[39mindptr\u001b[38;5;241m.\u001b[39mdtype \u001b[38;5;241m!=\u001b[39m np\u001b[38;5;241m.\u001b[39mintc\n\u001b[0;32m    436\u001b[0m     ):\n\u001b[0;32m    437\u001b[0m         \u001b[38;5;28;01mraise\u001b[39;00m \u001b[38;5;167;01mValueError\u001b[39;00m(\u001b[38;5;124m\"\u001b[39m\u001b[38;5;124mNo support for np.int64 index based sparse matrices\u001b[39m\u001b[38;5;124m\"\u001b[39m)\n",
      "File \u001b[1;32mC:\\ProgramData\\Anaconda3\\lib\\site-packages\\sklearn\\base.py:585\u001b[0m, in \u001b[0;36mBaseEstimator._validate_data\u001b[1;34m(self, X, y, reset, validate_separately, **check_params)\u001b[0m\n\u001b[0;32m    582\u001b[0m     out \u001b[38;5;241m=\u001b[39m X, y\n\u001b[0;32m    584\u001b[0m \u001b[38;5;28;01mif\u001b[39;00m \u001b[38;5;129;01mnot\u001b[39;00m no_val_X \u001b[38;5;129;01mand\u001b[39;00m check_params\u001b[38;5;241m.\u001b[39mget(\u001b[38;5;124m\"\u001b[39m\u001b[38;5;124mensure_2d\u001b[39m\u001b[38;5;124m\"\u001b[39m, \u001b[38;5;28;01mTrue\u001b[39;00m):\n\u001b[1;32m--> 585\u001b[0m     \u001b[38;5;28;43mself\u001b[39;49m\u001b[38;5;241;43m.\u001b[39;49m\u001b[43m_check_n_features\u001b[49m\u001b[43m(\u001b[49m\u001b[43mX\u001b[49m\u001b[43m,\u001b[49m\u001b[43m \u001b[49m\u001b[43mreset\u001b[49m\u001b[38;5;241;43m=\u001b[39;49m\u001b[43mreset\u001b[49m\u001b[43m)\u001b[49m\n\u001b[0;32m    587\u001b[0m \u001b[38;5;28;01mreturn\u001b[39;00m out\n",
      "File \u001b[1;32mC:\\ProgramData\\Anaconda3\\lib\\site-packages\\sklearn\\base.py:400\u001b[0m, in \u001b[0;36mBaseEstimator._check_n_features\u001b[1;34m(self, X, reset)\u001b[0m\n\u001b[0;32m    397\u001b[0m     \u001b[38;5;28;01mreturn\u001b[39;00m\n\u001b[0;32m    399\u001b[0m \u001b[38;5;28;01mif\u001b[39;00m n_features \u001b[38;5;241m!=\u001b[39m \u001b[38;5;28mself\u001b[39m\u001b[38;5;241m.\u001b[39mn_features_in_:\n\u001b[1;32m--> 400\u001b[0m     \u001b[38;5;28;01mraise\u001b[39;00m \u001b[38;5;167;01mValueError\u001b[39;00m(\n\u001b[0;32m    401\u001b[0m         \u001b[38;5;124mf\u001b[39m\u001b[38;5;124m\"\u001b[39m\u001b[38;5;124mX has \u001b[39m\u001b[38;5;132;01m{\u001b[39;00mn_features\u001b[38;5;132;01m}\u001b[39;00m\u001b[38;5;124m features, but \u001b[39m\u001b[38;5;132;01m{\u001b[39;00m\u001b[38;5;28mself\u001b[39m\u001b[38;5;241m.\u001b[39m\u001b[38;5;18m__class__\u001b[39m\u001b[38;5;241m.\u001b[39m\u001b[38;5;18m__name__\u001b[39m\u001b[38;5;132;01m}\u001b[39;00m\u001b[38;5;124m \u001b[39m\u001b[38;5;124m\"\u001b[39m\n\u001b[0;32m    402\u001b[0m         \u001b[38;5;124mf\u001b[39m\u001b[38;5;124m\"\u001b[39m\u001b[38;5;124mis expecting \u001b[39m\u001b[38;5;132;01m{\u001b[39;00m\u001b[38;5;28mself\u001b[39m\u001b[38;5;241m.\u001b[39mn_features_in_\u001b[38;5;132;01m}\u001b[39;00m\u001b[38;5;124m features as input.\u001b[39m\u001b[38;5;124m\"\u001b[39m\n\u001b[0;32m    403\u001b[0m     )\n",
      "\u001b[1;31mValueError\u001b[0m: X has 2 features, but DecisionTreeClassifier is expecting 1 features as input."
     ]
    }
   ],
   "source": [
    "# # this is asking is it busier than usual for [maxtp, rain]\n",
    "# Outputs example = is businer than usual, 1 = True, busier than usual. If 0, = False, not busier than usual. \n",
    "# # Outputs = is EU, 1 = True, is EU. If 0, = False, not EU. \n",
    "predictions = model.predict( [ [12,0] ] ) \n",
    "print(predictions)"
   ]
  },
  {
   "cell_type": "code",
   "execution_count": null,
   "metadata": {},
   "outputs": [],
   "source": [
    "# # df_DT= df_farm_eu['maxtp_avg', 'rain_avg', 'Is_busy']\n",
    "# # print(df_DT)\n",
    "# print(df_farm_eu)"
   ]
  },
  {
   "cell_type": "code",
   "execution_count": 454,
   "metadata": {},
   "outputs": [
    {
     "data": {
      "text/plain": [
       "0.7883211678832117"
      ]
     },
     "execution_count": 454,
     "metadata": {},
     "output_type": "execute_result"
    }
   ],
   "source": [
    "\n",
    "# model = DecisionTreeClassifier()\n",
    "model.fit(X_train, y_train)\n",
    "predictions = model.predict(X_test)\n",
    "predictions\n",
    "\n",
    "score = accuracy_score(y_test, predictions)\n",
    "score"
   ]
  },
  {
   "cell_type": "code",
   "execution_count": null,
   "metadata": {},
   "outputs": [],
   "source": [
    "# Model persistance. You want to save the model to run with more data in future. \n",
    "# You don;t have to retrain model. It's already trained - like an intelligent person. \n",
    "# the below will save the model as 'music-recommender.joblib'\n",
    "joblib.dump(model, 'CapelSt_busy.joblib')\n",
    "\n",
    "# Mosh goes back and changes the above to \n",
    "model = joblib.load('CapelSt_busy.joblib')\n",
    "\n",
    "# # Let's see if the model is behaving correctly \n",
    "predictions = model.predict([[25,1]])\n",
    "predictions"
   ]
  },
  {
   "cell_type": "code",
   "execution_count": null,
   "metadata": {},
   "outputs": [],
   "source": [
    "from sklearn.metrics import accuracy_score\n",
    "print('Model accuracy score with criterion entropy: {0:0.4f}'. format(accuracy_score(y_test, y_pred)))\n",
    "y_pred_train = clf.predict(X_train)\n",
    "y_pred_train\n",
    "plt.figure(figsize=(12,8))\n",
    "from sklearn import tree\n",
    "tree.plot_tree(clf.fit(X_train, y_train))"
   ]
  },
  {
   "cell_type": "code",
   "execution_count": 447,
   "metadata": {},
   "outputs": [],
   "source": [
    "#Try again"
   ]
  },
  {
   "cell_type": "code",
   "execution_count": 444,
   "metadata": {},
   "outputs": [],
   "source": [
    "from sklearn import tree\n",
    "\n"
   ]
  },
  {
   "cell_type": "code",
   "execution_count": 445,
   "metadata": {},
   "outputs": [],
   "source": [
    "clf = tree.DecisionTreeClassifier()\n"
   ]
  },
  {
   "cell_type": "code",
   "execution_count": 446,
   "metadata": {},
   "outputs": [
    {
     "ename": "ValueError",
     "evalue": "Expected 2D array, got 1D array instead:\narray=[ 85.69  82.98  75.97  83.72  68.22  63.57  81.4  146.51 104.65  70.54\n 142.64 121.71 163.57 114.73 104.65 106.2   89.15 112.4  119.38 113.18\n 107.75 102.33  73.31  71.98  65.62  74.23  72.91  60.98  80.73 118.58\n 113.41  73.24 103.27 131.47 148.   131.71 109.25 102.34  88.41  93.7\n 110.42 103.35 115.65 119.2   60.37  69.25  79.46  75.91  67.92  52.82\n  54.16  85.19 129.74  97.14  80.97 104.1  112.62 115.6   94.41 103.01\n 102.58 104.1  109.13 106.1  108.28 110.2   80.1   92.6   80.03  79.46\n  91.82  64.7   72.96  99.1  112.97  64.61  74.66 110.23 113.76 120.31\n 117.58  97.21  85.21  87.98  94.2  100.28  96.53 101.03  77.55  77.12\n  68.13  69.7   82.18  65.86  71.45 107.91 132.07  79.03  85.84 126.05\n 134.52 133.38 108.17 100.23  91.6   97.09 109.57 116.98 108.17 119.08\n  82.48  81.04  80.82  77.14  73.47  64.9   67.96  97.96 115.71  80.82\n  90.   120.61 124.29 124.9  104.08 103.47  92.45  97.35 122.45 112.65\n 104.69 116.94  65.84  69.97  63.05  74.12  62.41  60.53  78.72 122.61\n  93.93  72.42 120.43 125.14 143.69 119.17 105.47 100.92  93.61  90.57\n 106.93 106.02 113.61 121.19  73.81  70.89  64.33  70.06  78.98  63.06\n  70.7  111.46 118.47  71.97  95.54 131.85 139.49 129.3  107.64 103.18\n  89.17  96.18 107.26 106.31 109.61 124.2   60.23  67.35  64.49  64.59\n  63.85  63.76  64.63 107.53 108.59  76.14  73.11 101.27 107.   100.54\n 107.33 106.3   86.37  88.77  85.98  91.41 101.36  98.4   60.83  50.21\n  49.96  66.15  51.29  44.8   57.63  95.79  87.8   65.41  85.93 112.05\n 132.32 104.57 105.96 106.54  87.5   95.58 107.24 111.09 120.01 127.92\n  66.29  76.11  62.52  77.34  69.61  67.68  78.63 129.55  88.3   67.68\n 102.52 105.42 142.18 100.78 126.75  83.18  90.07  95.99 131.16  96.\n 111.38 119.68  75.18  84.31  80.74  81.61  79.64  62.94  74.36 116.44\n 144.36  87.6   86.12 124.55 122.82 120.32 121.09  93.41  85.5   90.06\n  99.79 104.26 113.33 120.56 550.54 544.07 535.13 518.79 486.71 491.26\n 505.03 261.18 265.89 290.73 239.02 166.31 116.41 104.19 102.32 111.15\n  86.53 105.67 137.8  134.73 142.3  182.22  87.55  90.89  84.21  89.55\n  78.93  77.06  84.41 135.87  98.57  67.03 106.26 121.3  154.24 112.01\n  99.84 104.25  95.9  100.25 119.83 105.73 114.81 117.62  69.94  71.71\n  63.47  76.42  71.89  62.82  78.05 122.   104.24  71.6  104.08 125.26\n 145.08 126.17 102.35 102.92  94.72  99.78 117.25 109.61 117.57 122.15\n  77.2   76.75  66.26  69.15  71.73  55.78  68.09 107.45  97.57  73.4\n  91.03 124.77 136.02 121.12 103.95 101.67  94.38 101.06 110.33 109.88\n 113.83 120.52  55.22  67.11  60.78  60.67  67.84  71.26  64.98 109.\n 137.6  118.34  86.   104.53 123.53 111.54 101.83 104.74  93.43  96.44\n  98.3  109.26 106.25 108.48  94.16 104.82 101.57  98.82 101.91  85.93\n  89.41 125.46 130.49  79.53 102.14 135.98 141.9  120.49 107.26 105.52\n  87.21  99.84 107.6  109.3  105.19 101.09  66.97  75.84  69.08  71.15\n  73.21  72.18  71.82 108.42 112.85  82.64  89.96 118.63 127.81 110.02\n 108.11 104.35  87.54  95.43  94.91  98.52  99.97 101.46  70.22  74.69\n  70.22  73.54  70.07  65.64  74.58 125.12 129.18  82.27 116.91 129.9\n 137.12 121.96 105.36 101.9   92.74  93.24 133.8  107.46 112.73 117.99\n  56.25  60.75  52.5   63.    64.5   54.75  60.75  96.75 114.    87.\n  99.   137.25 144.75 139.5  117.    93.    90.   107.72 122.01 116.98\n 129.63 140.19  53.04  56.35  72.38  69.06  69.06  69.61  86.74 131.49\n 137.57  98.9  115.47 146.96 158.01 139.23 121.55  99.45  79.01  95.58\n 104.42  92.27 101.66 107.2   66.51  64.75  67.03  70.5   71.33  63.96\n  86.3  137.05  72.83  72.26 125.94 114.18 156.36 118.05 105.34 100.59\n  94.07  95.79 112.95 100.82 109.36 110.96  82.72  75.76  81.96  87.15\n  75.5   67.45  69.44 108.81 113.58  75.96  86.4  122.94 124.53 115.24\n 107.66 107.15  85.19  98.05 101.49 103.9   94.35  85.96  59.45  57.5\n  58.47  61.4   66.27  60.42  76.02 128.64 106.23  77.97 113.05 135.47\n 145.21 125.72 106.16 101.37  92.47 101.37 117.81 111.64 116.68 136.99\n  77.44  78.18  75.57  74.82  67.71  61.16  82.97 128.29 121.35  74.87\n 104.63 133.07 137.07 115.84 101.6  104.75  93.64 100.04 110.89 105.33\n 109.08 116.43  65.44  70.47  54.37  69.13  79.54  51.68  60.41 100.01\n 105.04  70.47  81.88 109.74 135.58 105.71 105.38 102.34  92.29 100.95\n 102.25  99.84 110.01 116.45  81.33  88.19  84.62  91.57  93.21  85.17\n  77.77  96.5  138.91  76.67 105.73 127.76 127.5  102.58 110.09 105.96\n  83.95  94.75  99.02 101.58  96.01  90.51  91.53  90.9   95.92  91.53\n  63.95  60.81  63.32  68.96 165.04 136.43  63.45  97.56  93.15  89.49\n  94.62  90.95 114.43  79.95  95.46  84.13  90.26  94.19  47.63  72.27\n  73.26  71.94  60.73  63.    69.8   92.73  73.27  86.87  74.72  72.2\n  88.7   95.3   82.   106.18 111.81 103.42 101.01 101.48 100.82 100.15\n  47.12  59.42  53.58  92.81  77.89  50.7   47.89  85.92  92.96  66.2\n  83.1  123.94 128.17 119.72 107.04 104.23  88.73  91.55  95.77 102.82\n 111.27 119.72].\nReshape your data either using array.reshape(-1, 1) if your data has a single feature or array.reshape(1, -1) if it contains a single sample.",
     "output_type": "error",
     "traceback": [
      "\u001b[1;31m---------------------------------------------------------------------------\u001b[0m",
      "\u001b[1;31mValueError\u001b[0m                                Traceback (most recent call last)",
      "Input \u001b[1;32mIn [446]\u001b[0m, in \u001b[0;36m<cell line: 1>\u001b[1;34m()\u001b[0m\n\u001b[1;32m----> 1\u001b[0m clf \u001b[38;5;241m=\u001b[39m \u001b[43mclf\u001b[49m\u001b[38;5;241;43m.\u001b[39;49m\u001b[43mfit\u001b[49m\u001b[43m(\u001b[49m\u001b[43mX\u001b[49m\u001b[43m,\u001b[49m\u001b[43m \u001b[49m\u001b[43my\u001b[49m\u001b[43m)\u001b[49m\n",
      "File \u001b[1;32mC:\\ProgramData\\Anaconda3\\lib\\site-packages\\sklearn\\tree\\_classes.py:937\u001b[0m, in \u001b[0;36mDecisionTreeClassifier.fit\u001b[1;34m(self, X, y, sample_weight, check_input, X_idx_sorted)\u001b[0m\n\u001b[0;32m    899\u001b[0m \u001b[38;5;28;01mdef\u001b[39;00m \u001b[38;5;21mfit\u001b[39m(\n\u001b[0;32m    900\u001b[0m     \u001b[38;5;28mself\u001b[39m, X, y, sample_weight\u001b[38;5;241m=\u001b[39m\u001b[38;5;28;01mNone\u001b[39;00m, check_input\u001b[38;5;241m=\u001b[39m\u001b[38;5;28;01mTrue\u001b[39;00m, X_idx_sorted\u001b[38;5;241m=\u001b[39m\u001b[38;5;124m\"\u001b[39m\u001b[38;5;124mdeprecated\u001b[39m\u001b[38;5;124m\"\u001b[39m\n\u001b[0;32m    901\u001b[0m ):\n\u001b[0;32m    902\u001b[0m     \u001b[38;5;124;03m\"\"\"Build a decision tree classifier from the training set (X, y).\u001b[39;00m\n\u001b[0;32m    903\u001b[0m \n\u001b[0;32m    904\u001b[0m \u001b[38;5;124;03m    Parameters\u001b[39;00m\n\u001b[1;32m   (...)\u001b[0m\n\u001b[0;32m    934\u001b[0m \u001b[38;5;124;03m        Fitted estimator.\u001b[39;00m\n\u001b[0;32m    935\u001b[0m \u001b[38;5;124;03m    \"\"\"\u001b[39;00m\n\u001b[1;32m--> 937\u001b[0m     \u001b[38;5;28;43msuper\u001b[39;49m\u001b[43m(\u001b[49m\u001b[43m)\u001b[49m\u001b[38;5;241;43m.\u001b[39;49m\u001b[43mfit\u001b[49m\u001b[43m(\u001b[49m\n\u001b[0;32m    938\u001b[0m \u001b[43m        \u001b[49m\u001b[43mX\u001b[49m\u001b[43m,\u001b[49m\n\u001b[0;32m    939\u001b[0m \u001b[43m        \u001b[49m\u001b[43my\u001b[49m\u001b[43m,\u001b[49m\n\u001b[0;32m    940\u001b[0m \u001b[43m        \u001b[49m\u001b[43msample_weight\u001b[49m\u001b[38;5;241;43m=\u001b[39;49m\u001b[43msample_weight\u001b[49m\u001b[43m,\u001b[49m\n\u001b[0;32m    941\u001b[0m \u001b[43m        \u001b[49m\u001b[43mcheck_input\u001b[49m\u001b[38;5;241;43m=\u001b[39;49m\u001b[43mcheck_input\u001b[49m\u001b[43m,\u001b[49m\n\u001b[0;32m    942\u001b[0m \u001b[43m        \u001b[49m\u001b[43mX_idx_sorted\u001b[49m\u001b[38;5;241;43m=\u001b[39;49m\u001b[43mX_idx_sorted\u001b[49m\u001b[43m,\u001b[49m\n\u001b[0;32m    943\u001b[0m \u001b[43m    \u001b[49m\u001b[43m)\u001b[49m\n\u001b[0;32m    944\u001b[0m     \u001b[38;5;28;01mreturn\u001b[39;00m \u001b[38;5;28mself\u001b[39m\n",
      "File \u001b[1;32mC:\\ProgramData\\Anaconda3\\lib\\site-packages\\sklearn\\tree\\_classes.py:165\u001b[0m, in \u001b[0;36mBaseDecisionTree.fit\u001b[1;34m(self, X, y, sample_weight, check_input, X_idx_sorted)\u001b[0m\n\u001b[0;32m    163\u001b[0m check_X_params \u001b[38;5;241m=\u001b[39m \u001b[38;5;28mdict\u001b[39m(dtype\u001b[38;5;241m=\u001b[39mDTYPE, accept_sparse\u001b[38;5;241m=\u001b[39m\u001b[38;5;124m\"\u001b[39m\u001b[38;5;124mcsc\u001b[39m\u001b[38;5;124m\"\u001b[39m)\n\u001b[0;32m    164\u001b[0m check_y_params \u001b[38;5;241m=\u001b[39m \u001b[38;5;28mdict\u001b[39m(ensure_2d\u001b[38;5;241m=\u001b[39m\u001b[38;5;28;01mFalse\u001b[39;00m, dtype\u001b[38;5;241m=\u001b[39m\u001b[38;5;28;01mNone\u001b[39;00m)\n\u001b[1;32m--> 165\u001b[0m X, y \u001b[38;5;241m=\u001b[39m \u001b[38;5;28;43mself\u001b[39;49m\u001b[38;5;241;43m.\u001b[39;49m\u001b[43m_validate_data\u001b[49m\u001b[43m(\u001b[49m\n\u001b[0;32m    166\u001b[0m \u001b[43m    \u001b[49m\u001b[43mX\u001b[49m\u001b[43m,\u001b[49m\u001b[43m \u001b[49m\u001b[43my\u001b[49m\u001b[43m,\u001b[49m\u001b[43m \u001b[49m\u001b[43mvalidate_separately\u001b[49m\u001b[38;5;241;43m=\u001b[39;49m\u001b[43m(\u001b[49m\u001b[43mcheck_X_params\u001b[49m\u001b[43m,\u001b[49m\u001b[43m \u001b[49m\u001b[43mcheck_y_params\u001b[49m\u001b[43m)\u001b[49m\n\u001b[0;32m    167\u001b[0m \u001b[43m\u001b[49m\u001b[43m)\u001b[49m\n\u001b[0;32m    168\u001b[0m \u001b[38;5;28;01mif\u001b[39;00m issparse(X):\n\u001b[0;32m    169\u001b[0m     X\u001b[38;5;241m.\u001b[39msort_indices()\n",
      "File \u001b[1;32mC:\\ProgramData\\Anaconda3\\lib\\site-packages\\sklearn\\base.py:578\u001b[0m, in \u001b[0;36mBaseEstimator._validate_data\u001b[1;34m(self, X, y, reset, validate_separately, **check_params)\u001b[0m\n\u001b[0;32m    572\u001b[0m \u001b[38;5;28;01mif\u001b[39;00m validate_separately:\n\u001b[0;32m    573\u001b[0m     \u001b[38;5;66;03m# We need this because some estimators validate X and y\u001b[39;00m\n\u001b[0;32m    574\u001b[0m     \u001b[38;5;66;03m# separately, and in general, separately calling check_array()\u001b[39;00m\n\u001b[0;32m    575\u001b[0m     \u001b[38;5;66;03m# on X and y isn't equivalent to just calling check_X_y()\u001b[39;00m\n\u001b[0;32m    576\u001b[0m     \u001b[38;5;66;03m# :(\u001b[39;00m\n\u001b[0;32m    577\u001b[0m     check_X_params, check_y_params \u001b[38;5;241m=\u001b[39m validate_separately\n\u001b[1;32m--> 578\u001b[0m     X \u001b[38;5;241m=\u001b[39m check_array(X, \u001b[38;5;241m*\u001b[39m\u001b[38;5;241m*\u001b[39mcheck_X_params)\n\u001b[0;32m    579\u001b[0m     y \u001b[38;5;241m=\u001b[39m check_array(y, \u001b[38;5;241m*\u001b[39m\u001b[38;5;241m*\u001b[39mcheck_y_params)\n\u001b[0;32m    580\u001b[0m \u001b[38;5;28;01melse\u001b[39;00m:\n",
      "File \u001b[1;32mC:\\ProgramData\\Anaconda3\\lib\\site-packages\\sklearn\\utils\\validation.py:769\u001b[0m, in \u001b[0;36mcheck_array\u001b[1;34m(array, accept_sparse, accept_large_sparse, dtype, order, copy, force_all_finite, ensure_2d, allow_nd, ensure_min_samples, ensure_min_features, estimator)\u001b[0m\n\u001b[0;32m    767\u001b[0m     \u001b[38;5;66;03m# If input is 1D raise error\u001b[39;00m\n\u001b[0;32m    768\u001b[0m     \u001b[38;5;28;01mif\u001b[39;00m array\u001b[38;5;241m.\u001b[39mndim \u001b[38;5;241m==\u001b[39m \u001b[38;5;241m1\u001b[39m:\n\u001b[1;32m--> 769\u001b[0m         \u001b[38;5;28;01mraise\u001b[39;00m \u001b[38;5;167;01mValueError\u001b[39;00m(\n\u001b[0;32m    770\u001b[0m             \u001b[38;5;124m\"\u001b[39m\u001b[38;5;124mExpected 2D array, got 1D array instead:\u001b[39m\u001b[38;5;130;01m\\n\u001b[39;00m\u001b[38;5;124marray=\u001b[39m\u001b[38;5;132;01m{}\u001b[39;00m\u001b[38;5;124m.\u001b[39m\u001b[38;5;130;01m\\n\u001b[39;00m\u001b[38;5;124m\"\u001b[39m\n\u001b[0;32m    771\u001b[0m             \u001b[38;5;124m\"\u001b[39m\u001b[38;5;124mReshape your data either using array.reshape(-1, 1) if \u001b[39m\u001b[38;5;124m\"\u001b[39m\n\u001b[0;32m    772\u001b[0m             \u001b[38;5;124m\"\u001b[39m\u001b[38;5;124myour data has a single feature or array.reshape(1, -1) \u001b[39m\u001b[38;5;124m\"\u001b[39m\n\u001b[0;32m    773\u001b[0m             \u001b[38;5;124m\"\u001b[39m\u001b[38;5;124mif it contains a single sample.\u001b[39m\u001b[38;5;124m\"\u001b[39m\u001b[38;5;241m.\u001b[39mformat(array)\n\u001b[0;32m    774\u001b[0m         )\n\u001b[0;32m    776\u001b[0m \u001b[38;5;66;03m# make sure we actually converted to numeric:\u001b[39;00m\n\u001b[0;32m    777\u001b[0m \u001b[38;5;28;01mif\u001b[39;00m dtype_numeric \u001b[38;5;129;01mand\u001b[39;00m array\u001b[38;5;241m.\u001b[39mdtype\u001b[38;5;241m.\u001b[39mkind \u001b[38;5;129;01min\u001b[39;00m \u001b[38;5;124m\"\u001b[39m\u001b[38;5;124mOUSV\u001b[39m\u001b[38;5;124m\"\u001b[39m:\n",
      "\u001b[1;31mValueError\u001b[0m: Expected 2D array, got 1D array instead:\narray=[ 85.69  82.98  75.97  83.72  68.22  63.57  81.4  146.51 104.65  70.54\n 142.64 121.71 163.57 114.73 104.65 106.2   89.15 112.4  119.38 113.18\n 107.75 102.33  73.31  71.98  65.62  74.23  72.91  60.98  80.73 118.58\n 113.41  73.24 103.27 131.47 148.   131.71 109.25 102.34  88.41  93.7\n 110.42 103.35 115.65 119.2   60.37  69.25  79.46  75.91  67.92  52.82\n  54.16  85.19 129.74  97.14  80.97 104.1  112.62 115.6   94.41 103.01\n 102.58 104.1  109.13 106.1  108.28 110.2   80.1   92.6   80.03  79.46\n  91.82  64.7   72.96  99.1  112.97  64.61  74.66 110.23 113.76 120.31\n 117.58  97.21  85.21  87.98  94.2  100.28  96.53 101.03  77.55  77.12\n  68.13  69.7   82.18  65.86  71.45 107.91 132.07  79.03  85.84 126.05\n 134.52 133.38 108.17 100.23  91.6   97.09 109.57 116.98 108.17 119.08\n  82.48  81.04  80.82  77.14  73.47  64.9   67.96  97.96 115.71  80.82\n  90.   120.61 124.29 124.9  104.08 103.47  92.45  97.35 122.45 112.65\n 104.69 116.94  65.84  69.97  63.05  74.12  62.41  60.53  78.72 122.61\n  93.93  72.42 120.43 125.14 143.69 119.17 105.47 100.92  93.61  90.57\n 106.93 106.02 113.61 121.19  73.81  70.89  64.33  70.06  78.98  63.06\n  70.7  111.46 118.47  71.97  95.54 131.85 139.49 129.3  107.64 103.18\n  89.17  96.18 107.26 106.31 109.61 124.2   60.23  67.35  64.49  64.59\n  63.85  63.76  64.63 107.53 108.59  76.14  73.11 101.27 107.   100.54\n 107.33 106.3   86.37  88.77  85.98  91.41 101.36  98.4   60.83  50.21\n  49.96  66.15  51.29  44.8   57.63  95.79  87.8   65.41  85.93 112.05\n 132.32 104.57 105.96 106.54  87.5   95.58 107.24 111.09 120.01 127.92\n  66.29  76.11  62.52  77.34  69.61  67.68  78.63 129.55  88.3   67.68\n 102.52 105.42 142.18 100.78 126.75  83.18  90.07  95.99 131.16  96.\n 111.38 119.68  75.18  84.31  80.74  81.61  79.64  62.94  74.36 116.44\n 144.36  87.6   86.12 124.55 122.82 120.32 121.09  93.41  85.5   90.06\n  99.79 104.26 113.33 120.56 550.54 544.07 535.13 518.79 486.71 491.26\n 505.03 261.18 265.89 290.73 239.02 166.31 116.41 104.19 102.32 111.15\n  86.53 105.67 137.8  134.73 142.3  182.22  87.55  90.89  84.21  89.55\n  78.93  77.06  84.41 135.87  98.57  67.03 106.26 121.3  154.24 112.01\n  99.84 104.25  95.9  100.25 119.83 105.73 114.81 117.62  69.94  71.71\n  63.47  76.42  71.89  62.82  78.05 122.   104.24  71.6  104.08 125.26\n 145.08 126.17 102.35 102.92  94.72  99.78 117.25 109.61 117.57 122.15\n  77.2   76.75  66.26  69.15  71.73  55.78  68.09 107.45  97.57  73.4\n  91.03 124.77 136.02 121.12 103.95 101.67  94.38 101.06 110.33 109.88\n 113.83 120.52  55.22  67.11  60.78  60.67  67.84  71.26  64.98 109.\n 137.6  118.34  86.   104.53 123.53 111.54 101.83 104.74  93.43  96.44\n  98.3  109.26 106.25 108.48  94.16 104.82 101.57  98.82 101.91  85.93\n  89.41 125.46 130.49  79.53 102.14 135.98 141.9  120.49 107.26 105.52\n  87.21  99.84 107.6  109.3  105.19 101.09  66.97  75.84  69.08  71.15\n  73.21  72.18  71.82 108.42 112.85  82.64  89.96 118.63 127.81 110.02\n 108.11 104.35  87.54  95.43  94.91  98.52  99.97 101.46  70.22  74.69\n  70.22  73.54  70.07  65.64  74.58 125.12 129.18  82.27 116.91 129.9\n 137.12 121.96 105.36 101.9   92.74  93.24 133.8  107.46 112.73 117.99\n  56.25  60.75  52.5   63.    64.5   54.75  60.75  96.75 114.    87.\n  99.   137.25 144.75 139.5  117.    93.    90.   107.72 122.01 116.98\n 129.63 140.19  53.04  56.35  72.38  69.06  69.06  69.61  86.74 131.49\n 137.57  98.9  115.47 146.96 158.01 139.23 121.55  99.45  79.01  95.58\n 104.42  92.27 101.66 107.2   66.51  64.75  67.03  70.5   71.33  63.96\n  86.3  137.05  72.83  72.26 125.94 114.18 156.36 118.05 105.34 100.59\n  94.07  95.79 112.95 100.82 109.36 110.96  82.72  75.76  81.96  87.15\n  75.5   67.45  69.44 108.81 113.58  75.96  86.4  122.94 124.53 115.24\n 107.66 107.15  85.19  98.05 101.49 103.9   94.35  85.96  59.45  57.5\n  58.47  61.4   66.27  60.42  76.02 128.64 106.23  77.97 113.05 135.47\n 145.21 125.72 106.16 101.37  92.47 101.37 117.81 111.64 116.68 136.99\n  77.44  78.18  75.57  74.82  67.71  61.16  82.97 128.29 121.35  74.87\n 104.63 133.07 137.07 115.84 101.6  104.75  93.64 100.04 110.89 105.33\n 109.08 116.43  65.44  70.47  54.37  69.13  79.54  51.68  60.41 100.01\n 105.04  70.47  81.88 109.74 135.58 105.71 105.38 102.34  92.29 100.95\n 102.25  99.84 110.01 116.45  81.33  88.19  84.62  91.57  93.21  85.17\n  77.77  96.5  138.91  76.67 105.73 127.76 127.5  102.58 110.09 105.96\n  83.95  94.75  99.02 101.58  96.01  90.51  91.53  90.9   95.92  91.53\n  63.95  60.81  63.32  68.96 165.04 136.43  63.45  97.56  93.15  89.49\n  94.62  90.95 114.43  79.95  95.46  84.13  90.26  94.19  47.63  72.27\n  73.26  71.94  60.73  63.    69.8   92.73  73.27  86.87  74.72  72.2\n  88.7   95.3   82.   106.18 111.81 103.42 101.01 101.48 100.82 100.15\n  47.12  59.42  53.58  92.81  77.89  50.7   47.89  85.92  92.96  66.2\n  83.1  123.94 128.17 119.72 107.04 104.23  88.73  91.55  95.77 102.82\n 111.27 119.72].\nReshape your data either using array.reshape(-1, 1) if your data has a single feature or array.reshape(1, -1) if it contains a single sample."
     ]
    }
   ],
   "source": [
    "clf = clf.fit(X, y)"
   ]
  },
  {
   "cell_type": "code",
   "execution_count": null,
   "metadata": {},
   "outputs": [],
   "source": []
  },
  {
   "cell_type": "code",
   "execution_count": null,
   "metadata": {},
   "outputs": [],
   "source": []
  },
  {
   "cell_type": "code",
   "execution_count": null,
   "metadata": {},
   "outputs": [],
   "source": []
  },
  {
   "cell_type": "code",
   "execution_count": null,
   "metadata": {},
   "outputs": [],
   "source": [
    "y_pred = classifier.predict(X_test)\n",
    "#Accuracy\n",
    "from sklearn import metrics \n",
    "print('Accuracy Score:', metrics.accuracy_score(y_test,y_pred))"
   ]
  },
  {
   "cell_type": "code",
   "execution_count": null,
   "metadata": {},
   "outputs": [],
   "source": [
    "bb"
   ]
  },
  {
   "cell_type": "code",
   "execution_count": null,
   "metadata": {},
   "outputs": [],
   "source": [
    "# Combined for outputs\n",
    "print(\"Confusion Maxtrix\")\n",
    "from sklearn.metrics import confusion_matrix\n",
    "cm = confusion_matrix(y_test, y_pred)\n",
    "print(cm)\n",
    "\n",
    "#importing accuracy_score, precision_score, recall_score, f1_score\n",
    "from sklearn.metrics import accuracy_score, precision_score, recall_score, f1_score\n",
    "print('\\nAccuracy: {:.2f}\\n'.format(accuracy_score(y_test, y_pred)))\n",
    "\n",
    "print('Micro Precision: {:.2f}'.format(precision_score(y_test, y_pred, average='micro')))\n",
    "print('Micro Recall: {:.2f}'.format(recall_score(y_test, y_pred, average='micro')))\n",
    "print('Micro F1-score: {:.2f}\\n'.format(f1_score(y_test, y_pred, average='micro')))\n",
    "\n",
    "print('Macro Precision: {:.2f}'.format(precision_score(y_test, y_pred, average='macro')))\n",
    "print('Macro Recall: {:.2f}'.format(recall_score(y_test, y_pred, average='macro')))\n",
    "print('Macro F1-score: {:.2f}\\n'.format(f1_score(y_test, y_pred, average='macro')))\n",
    "\n",
    "print('Weighted Precision: {:.2f}'.format(precision_score(y_test, y_pred, average='weighted')))\n",
    "print('Weighted Recall: {:.2f}'.format(recall_score(y_test, y_pred, average='weighted')))\n",
    "print('Weighted F1-score: {:.2f}'.format(f1_score(y_test, y_pred, average='weighted')))\n",
    "\n",
    "from sklearn.metrics import classification_report\n",
    "print('\\nClassification Report\\n')\n",
    "print(classification_report(y_test, y_pred, target_names=['Not Busy', 'Busy']))\n"
   ]
  },
  {
   "cell_type": "code",
   "execution_count": null,
   "metadata": {},
   "outputs": [],
   "source": [
    "################################ Check out for confusion matric and viz ###############\n",
    "## https://www.kaggle.com/code/arunmohan003/pruning-decision-trees-tutorial \n",
    "# Note: class_names : list of strings, bool or None, optional (default=None)\n",
    "   # Names of each of the target classes in ascending numerical order.\n",
    "   # Only relevant for classification and not supported for multi-output.\n",
    "   # If ``True``, shows a symbolic representation of the class name.\n",
    "\n",
    "\n",
    "plt.figure(figsize=(20,20))\n",
    "features = X.columns\n",
    "classes = ['Not Busy','Busy']\n",
    "tree.plot_tree(clf,feature_names=features,class_names=classes,filled=True)\n",
    "plt.show()"
   ]
  },
  {
   "cell_type": "code",
   "execution_count": null,
   "metadata": {},
   "outputs": [],
   "source": [
    "import seaborn as sns\n",
    "import matplotlib.pyplot as plt     \n",
    "\n",
    "ax= plt.subplot()\n",
    "sns.heatmap(cm, annot=True, fmt='g', ax=ax);  #annot=True to annotate cells, ftm='g' to disable scientific notation\n",
    "\n",
    "# labels, title and ticks\n",
    "ax.set_xlabel('Predicted labels');ax.set_ylabel('True labels'); \n",
    "ax.set_title('Confusion Matrix'); \n",
    "ax.xaxis.set_ticklabels(['Not Busy', 'Busy']); ax.yaxis.set_ticklabels(['Busy', 'Not Busy']);\n"
   ]
  },
  {
   "cell_type": "code",
   "execution_count": null,
   "metadata": {},
   "outputs": [],
   "source": []
  },
  {
   "cell_type": "markdown",
   "metadata": {},
   "source": [
    "## ARCHIVED CODE: "
   ]
  },
  {
   "cell_type": "code",
   "execution_count": null,
   "metadata": {},
   "outputs": [],
   "source": [
    "# ML with Mosh example\n",
    " \n",
    "# import pandas as pd\n",
    "# from sklearn.tree import DecisionTreeClassifier\n",
    "# # from sklearn.externals import joblib # this is what Most said, but it dosn't work and Google said to use below instead. \n",
    "# import joblib\n",
    "# from sklearn import tree\n",
    "\n",
    "\n",
    "# # import data\n",
    "# music_data = pd.read_csv('music.csv') \n",
    "# X = music_data.drop(columns = ['genre'])\n",
    "# y = music_data['genre']\n",
    "\n",
    "# # #Create a model \n",
    "# model = DecisionTreeClassifier()\n",
    "\n",
    "# # Train the model\n",
    "# model.fit(X,y)\n",
    "\n",
    "# tree.export_graphviz(model, out_file ='music.recommender.dot', \n",
    "#                      feature_names=['age', 'gender'],\n",
    "#                      class_names=sorted(y.unique()),\n",
    "#                      label='all',\n",
    "#                      rounded = True, \n",
    "#                      filled =True)\n",
    "\n",
    "# ## To visualise this. \n",
    "# # 1. Open VSCode (another application) and \n",
    "# # 2. Drop in the new file 'music.recommender.dot', \n",
    "# # 3. in VSCode, go to extentions and search for dot, install the dot extention from Stehpen. \n",
    "# # 4. On the top of the VS code windw is an ico with 3 dots (like more ...) click this, then click, 'open preview to the slide'\n",
    "# # This will open up the visulisation of the decision tree. The more column you have, the more complicated it is. "
   ]
  },
  {
   "cell_type": "code",
   "execution_count": null,
   "metadata": {},
   "outputs": [],
   "source": [
    "# Vis # From Mosh, but I can't get it work\n",
    "# ## To visualise this. \n",
    "# # 1. Open VSCode (another application) and \n",
    "# # 2. Drop in the new file 'music.recommender.dot', \n",
    "# # 3. in VSCode, go to extentions and search for dot, install the dot extention from Stehpen. \n",
    "# # 4. On the top of the VS code windw is an ico with 3 dots (like more ...) click this, then click, 'open preview to the slide'\n",
    "# # This will open up the visulisation of the decision tree. The more column you have, the more complicated it is. \n",
    "\n",
    "# tree.export_graphviz(model, out_file ='capelSt.busy.dot', \n",
    "#                      feature_names=['maxtp', 'rain'],\n",
    "#                      class_names=sorted(y.unique()),\n",
    "#                      label='all',\n",
    "#                      rounded = True, \n",
    "#                      filled =True)\n",
    "\n",
    "# ## To visualise this. \n",
    "# # 1. Open VSCode (another application) and \n",
    "# # 2. Drop in the new file 'music.recommender.dot', \n",
    "# # 3. in VSCode, go to extentions and search for dot, install the dot extention from Stehpen. \n",
    "# # 4. On the top of the VS code windw is an ico with 3 dots (like more ...) click this, then click, 'open preview to the slide'\n",
    "# # This will open up the visulisation of the decision tree. The more column you have, the more complicated it is. "
   ]
  },
  {
   "cell_type": "code",
   "execution_count": null,
   "metadata": {},
   "outputs": [],
   "source": []
  },
  {
   "cell_type": "code",
   "execution_count": null,
   "metadata": {},
   "outputs": [],
   "source": [
    "# from sklearn.externals.six import StringIO  \n",
    "\n",
    "# from six import StringIO\n",
    "# from IPython.display import Image  \n",
    "# from sklearn.tree import export_graphviz\n",
    "# import pydotplus\n",
    "# dot_data = StringIO()\n",
    "\n",
    "\n",
    "\n",
    "\n",
    "# # export_graphviz(clf, out_file=dot_data,  \n",
    "# #                 filled=True, rounded=True,\n",
    "# #                 special_characters=True, feature_names = feature_cols,class_names=['0','1'])\n",
    "# # graph = pydotplus.graph_from_dot_data(dot_data.getvalue())  \n",
    "# # graph.write_png('diabetes.png')\n",
    "# # Image(graph.create_png())\n"
   ]
  },
  {
   "cell_type": "code",
   "execution_count": null,
   "metadata": {},
   "outputs": [],
   "source": [
    "tree.plot_tree(model);"
   ]
  },
  {
   "cell_type": "code",
   "execution_count": null,
   "metadata": {},
   "outputs": [],
   "source": [
    "## https://towardsdatascience.com/a-look-at-precision-recall-and-f1-score-36b5fd0dd3ec"
   ]
  },
  {
   "cell_type": "code",
   "execution_count": null,
   "metadata": {},
   "outputs": [],
   "source": [
    "print(X)"
   ]
  },
  {
   "cell_type": "code",
   "execution_count": null,
   "metadata": {},
   "outputs": [],
   "source": [
    "print(y)"
   ]
  },
  {
   "cell_type": "code",
   "execution_count": null,
   "metadata": {},
   "outputs": [],
   "source": [
    "# y_pred = classifier.predict(X_test)\n",
    "# #Accuracy\n",
    "# from sklearn import metrics \n",
    "# print('Accuracy Score:', metrics.accuracy_score(y_test,y_pred))"
   ]
  },
  {
   "cell_type": "code",
   "execution_count": null,
   "metadata": {},
   "outputs": [],
   "source": []
  },
  {
   "cell_type": "code",
   "execution_count": null,
   "metadata": {},
   "outputs": [],
   "source": []
  },
  {
   "cell_type": "code",
   "execution_count": null,
   "metadata": {},
   "outputs": [],
   "source": []
  },
  {
   "cell_type": "code",
   "execution_count": null,
   "metadata": {},
   "outputs": [],
   "source": []
  },
  {
   "cell_type": "code",
   "execution_count": null,
   "metadata": {},
   "outputs": [],
   "source": [
    "x_train,x_test,y_train,y_test = train_test_split(X,y,stratify=y)\n",
    "print(x_train.shape)\n",
    "print(x_test.shape)"
   ]
  },
  {
   "cell_type": "code",
   "execution_count": null,
   "metadata": {},
   "outputs": [],
   "source": [
    "clf = tree.DecisionTreeClassifier(random_state=0, max_depth = 3)\n",
    "clf.fit(x_train,y_train)\n",
    "y_train_pred = clf.predict(x_train)\n",
    "y_test_pred = clf.predict(x_test)"
   ]
  },
  {
   "cell_type": "code",
   "execution_count": null,
   "metadata": {},
   "outputs": [],
   "source": [
    "################################ Check out for confusion matric and viz ###############\n",
    "## https://www.kaggle.com/code/arunmohan003/pruning-decision-trees-tutorial \n",
    "# Note: class_names : list of strings, bool or None, optional (default=None)\n",
    "   # Names of each of the target classes in ascending numerical order.\n",
    "   # Only relevant for classification and not supported for multi-output.\n",
    "   # If ``True``, shows a symbolic representation of the class name.\n",
    "\n",
    "\n",
    "plt.figure(figsize=(20,20))\n",
    "features = X.columns\n",
    "classes = ['Not Busy','Busy']\n",
    "tree.plot_tree(clf,feature_names=features,class_names=classes,filled=True)\n",
    "plt.show()"
   ]
  },
  {
   "cell_type": "code",
   "execution_count": null,
   "metadata": {},
   "outputs": [],
   "source": []
  },
  {
   "cell_type": "code",
   "execution_count": null,
   "metadata": {},
   "outputs": [],
   "source": []
  },
  {
   "cell_type": "code",
   "execution_count": null,
   "metadata": {},
   "outputs": [],
   "source": [
    "# from keras.models import load_model\n",
    "\n",
    "classifier = model"
   ]
  },
  {
   "cell_type": "code",
   "execution_count": null,
   "metadata": {},
   "outputs": [],
   "source": [
    "y_pred = classifier.predict(X_test)\n",
    "#Accuracy\n",
    "from sklearn import metrics \n",
    "print('Accuracy Score:', metrics.accuracy_score(y_test,y_pred))"
   ]
  },
  {
   "cell_type": "code",
   "execution_count": null,
   "metadata": {},
   "outputs": [],
   "source": [
    "# from sklearn.metrics import confusion_matrix\n",
    "# cm = confusion_matrix(y_test, y_pred)\n",
    "# print(cm)\n"
   ]
  },
  {
   "cell_type": "code",
   "execution_count": null,
   "metadata": {},
   "outputs": [],
   "source": []
  },
  {
   "cell_type": "code",
   "execution_count": null,
   "metadata": {},
   "outputs": [],
   "source": []
  },
  {
   "cell_type": "code",
   "execution_count": null,
   "metadata": {},
   "outputs": [],
   "source": [
    "# #importing accuracy_score, precision_score, recall_score, f1_score\n",
    "# from sklearn.metrics import accuracy_score, precision_score, recall_score, f1_score\n",
    "# print('\\nAccuracy: {:.2f}\\n'.format(accuracy_score(y_test, y_pred)))"
   ]
  },
  {
   "cell_type": "code",
   "execution_count": null,
   "metadata": {},
   "outputs": [],
   "source": [
    "# cm_list=cm.tolist()\n",
    "# cm_list[0].insert(0,'Real True')\n",
    "# cm_list[1].insert(0,'Real False')\n",
    "# print tabulate(cm_list,headers=['Real/Pred','Pred True', 'Pred False'])"
   ]
  },
  {
   "cell_type": "code",
   "execution_count": null,
   "metadata": {},
   "outputs": [],
   "source": [
    "# print('Micro Precision: {:.2f}'.format(precision_score(y_test, y_pred, average='micro')))\n",
    "# print('Micro Recall: {:.2f}'.format(recall_score(y_test, y_pred, average='micro')))\n",
    "# print('Micro F1-score: {:.2f}\\n'.format(f1_score(y_test, y_pred, average='micro')))\n",
    "\n"
   ]
  },
  {
   "cell_type": "code",
   "execution_count": null,
   "metadata": {},
   "outputs": [],
   "source": [
    "# print('Macro Precision: {:.2f}'.format(precision_score(y_test, y_pred, average='macro')))\n",
    "# print('Macro Recall: {:.2f}'.format(recall_score(y_test, y_pred, average='macro')))\n",
    "# print('Macro F1-score: {:.2f}\\n'.format(f1_score(y_test, y_pred, average='macro')))\n"
   ]
  },
  {
   "cell_type": "code",
   "execution_count": null,
   "metadata": {},
   "outputs": [],
   "source": [
    "\n",
    "# print('Weighted Precision: {:.2f}'.format(precision_score(y_test, y_pred, average='weighted')))\n",
    "# print('Weighted Recall: {:.2f}'.format(recall_score(y_test, y_pred, average='weighted')))\n",
    "# print('Weighted F1-score: {:.2f}'.format(f1_score(y_test, y_pred, average='weighted')))"
   ]
  },
  {
   "cell_type": "code",
   "execution_count": null,
   "metadata": {},
   "outputs": [],
   "source": [
    "# from sklearn.metrics import classification_report\n",
    "# print('\\nClassification Report\\n')\n",
    "# print(classification_report(y_test, y_pred, target_names=['Class 1', 'Class 2']))"
   ]
  },
  {
   "cell_type": "code",
   "execution_count": null,
   "metadata": {},
   "outputs": [],
   "source": [
    "# # Combined for outputs\n",
    "# print(\"Confusion Maxtrix\")\n",
    "# from sklearn.metrics import confusion_matrix\n",
    "# cm = confusion_matrix(y_test, y_pred)\n",
    "# print(cm)\n",
    "\n",
    "# #importing accuracy_score, precision_score, recall_score, f1_score\n",
    "# from sklearn.metrics import accuracy_score, precision_score, recall_score, f1_score\n",
    "# print('\\nAccuracy: {:.2f}\\n'.format(accuracy_score(y_test, y_pred)))\n",
    "\n",
    "# print('Micro Precision: {:.2f}'.format(precision_score(y_test, y_pred, average='micro')))\n",
    "# print('Micro Recall: {:.2f}'.format(recall_score(y_test, y_pred, average='micro')))\n",
    "# print('Micro F1-score: {:.2f}\\n'.format(f1_score(y_test, y_pred, average='micro')))\n",
    "\n",
    "# print('Macro Precision: {:.2f}'.format(precision_score(y_test, y_pred, average='macro')))\n",
    "# print('Macro Recall: {:.2f}'.format(recall_score(y_test, y_pred, average='macro')))\n",
    "# print('Macro F1-score: {:.2f}\\n'.format(f1_score(y_test, y_pred, average='macro')))\n",
    "\n",
    "# print('Weighted Precision: {:.2f}'.format(precision_score(y_test, y_pred, average='weighted')))\n",
    "# print('Weighted Recall: {:.2f}'.format(recall_score(y_test, y_pred, average='weighted')))\n",
    "# print('Weighted F1-score: {:.2f}'.format(f1_score(y_test, y_pred, average='weighted')))\n",
    "\n",
    "# from sklearn.metrics import classification_report\n",
    "# print('\\nClassification Report\\n')\n",
    "# print(classification_report(y_test, y_pred, target_names=['Not Busy', 'Busy']))\n"
   ]
  },
  {
   "cell_type": "code",
   "execution_count": null,
   "metadata": {},
   "outputs": [],
   "source": [
    "# # helper function\n",
    "# def plot_confusionmatrix(y_train_pred,y_train,dom):\n",
    "#     print(f'{dom} Confusion matrix')\n",
    "#     cf = confusion_matrix(y_train_pred,y_train)\n",
    "#     sns.heatmap(cf,annot=True,yticklabels=classes\n",
    "#                ,xticklabels=classes,cmap='Blues', fmt='g')\n",
    "#     plt.tight_layout()\n",
    "#     plt.show()"
   ]
  },
  {
   "cell_type": "code",
   "execution_count": null,
   "metadata": {},
   "outputs": [],
   "source": [
    "# print(f'Train score {accuracy_score(y_train_pred,y_train)}')\n",
    "# print(f'Test score {accuracy_score(y_test_pred,y_test)}')\n",
    "# plot_confusionmatrix(y_train_pred,y_train,dom='Train')\n",
    "# plot_confusionmatrix(y_test_pred,y_test,dom='Test')"
   ]
  },
  {
   "cell_type": "code",
   "execution_count": null,
   "metadata": {},
   "outputs": [],
   "source": [
    "#from sklearn.metrics import mean_squared_error, r2_score\n",
    "#model_train_mse = mean_squared_error(y_train, y_model_train_pred)\n",
    "#model_train_r2 = r2_score(y_train, y_model_train_pred)\n",
    "#model_test_mse = mean_squared_error(y_test, y_model_test_pred)\n",
    "##model_test_r2 = r2_score(y_test, y_model_test_pred)"
   ]
  },
  {
   "cell_type": "code",
   "execution_count": null,
   "metadata": {},
   "outputs": [],
   "source": [
    "import seaborn as sns\n",
    "import matplotlib.pyplot as plt     \n",
    "\n",
    "ax= plt.subplot()\n",
    "sns.heatmap(cm, annot=True, fmt='g', ax=ax);  #annot=True to annotate cells, ftm='g' to disable scientific notation\n",
    "\n",
    "# labels, title and ticks\n",
    "ax.set_xlabel('Predicted labels');ax.set_ylabel('True labels'); \n",
    "ax.set_title('Confusion Matrix'); \n",
    "ax.xaxis.set_ticklabels(['Not Busy', 'Busy']); ax.yaxis.set_ticklabels(['Busy', 'Not Busy']);\n"
   ]
  },
  {
   "cell_type": "code",
   "execution_count": null,
   "metadata": {},
   "outputs": [],
   "source": [
    "from sklearn.metrics import confusion_matrix\n",
    "\n",
    "labels = ['business', 'health']\n",
    "cm = confusion_matrix(y_test, pred, labels)\n",
    "print(cm)\n",
    "fig = plt.figure()\n",
    "ax = fig.add_subplot(111)\n",
    "cax = ax.matshow(cm)\n",
    "plt.title('Confusion matrix of the classifier')\n",
    "fig.colorbar(cax)\n",
    "ax.set_xticklabels([''] + labels)\n",
    "ax.set_yticklabels([''] + labels)\n",
    "plt.xlabel('Predicted')\n",
    "plt.ylabel('True')\n",
    "plt.show()"
   ]
  },
  {
   "cell_type": "code",
   "execution_count": null,
   "metadata": {},
   "outputs": [],
   "source": []
  },
  {
   "cell_type": "code",
   "execution_count": null,
   "metadata": {},
   "outputs": [],
   "source": []
  },
  {
   "cell_type": "code",
   "execution_count": null,
   "metadata": {},
   "outputs": [],
   "source": [
    "# import matplotlib.pyplot as plt\n",
    "# from sklearn.datasets import load_iris\n",
    "# from sklearn.datasets import load_breast_cancer\n",
    "# from sklearn.tree import DecisionTreeClassifier\n",
    "# from sklearn.ensemble import RandomForestClassifier\n",
    "# from sklearn.model_selection import train_test_split\n",
    "# import pandas as pd\n",
    "# import numpy as np\n",
    "# from sklearn import tree"
   ]
  },
  {
   "cell_type": "code",
   "execution_count": null,
   "metadata": {},
   "outputs": [],
   "source": [
    "# from sklearn.tree import export_graphviz\n",
    "# from sklearn.externals.six import StringIO  \n",
    "# from IPython.display import Image  \n",
    "# import pydotplus\n",
    "\n",
    "# dot_data = StringIO()\n",
    "# export_graphviz(clf, out_file=dot_data,  \n",
    "#                 filled=True, rounded=True,\n",
    "#                 special_characters=True,feature_names = feature_cols,class_names=['0','1'])\n",
    "# graph = pydotplus.graph_from_dot_data(dot_data.getvalue())  \n",
    "# graph.write_png('diabetes.png')\n",
    "# Image(graph.create_png())\n"
   ]
  },
  {
   "cell_type": "code",
   "execution_count": null,
   "metadata": {},
   "outputs": [],
   "source": [
    "# fn=['maxtp','rain']\n",
    "# cn=['1', '0']fig, axes = plt.subplots(nrows = 1,ncols = 1,figsize = (4,4), dpi=300)tree.plot_tree(model,\n",
    "#                feature_names = fn, \n",
    "#                class_names=cn,\n",
    "#                filled = True);fig.savefig('capelst.png')"
   ]
  },
  {
   "cell_type": "code",
   "execution_count": null,
   "metadata": {},
   "outputs": [],
   "source": [
    "# tree.export_graphviz(model,\n",
    "#                      out_file=\"tree.dot\",\n",
    "#                      feature_names = X\n",
    "#                      class_names= y,\n",
    "#                      filled = True)"
   ]
  },
  {
   "cell_type": "markdown",
   "metadata": {},
   "source": [
    "# Try wtih max depth (i.e. Pruning)"
   ]
  },
  {
   "cell_type": "code",
   "execution_count": null,
   "metadata": {},
   "outputs": [],
   "source": [
    "\n",
    "  #  https://towardsdatascience.com/an-exhaustive-guide-to-classification-using-decision-trees-8d472e77223f"
   ]
  },
  {
   "cell_type": "code",
   "execution_count": null,
   "metadata": {},
   "outputs": [],
   "source": [
    "from sklearn.tree import DecisionTreeClassifier\n",
    "clf_en = DecisionTreeClassifier(criterion='entropy', max_depth=3, random_state=0)\n",
    "clf_en.fit(X_train, y_train)\n",
    "y_pred_en = clf_en.predict(X_test)"
   ]
  },
  {
   "cell_type": "code",
   "execution_count": null,
   "metadata": {},
   "outputs": [],
   "source": [
    "from sklearn.metrics import accuracy_score\n",
    "print('Model accuracy score with criterion entropy: {0:0.4f}'. format(accuracy_score(y_test, y_pred_en)))\n",
    "y_pred_train_en = clf_en.predict(X_train)\n",
    "y_pred_train_en\n",
    "plt.figure(figsize=(12,8))\n",
    "from sklearn import tree\n",
    "tree.plot_tree(clf_en.fit(X_train, y_train))"
   ]
  },
  {
   "cell_type": "code",
   "execution_count": null,
   "metadata": {},
   "outputs": [],
   "source": [
    "from sklearn.metrics import confusion_matrix\n",
    "cm = confusion_matrix(y_test, y_pred_en)\n",
    "print('Confusion matrix\\n\\n', cm)"
   ]
  },
  {
   "cell_type": "code",
   "execution_count": null,
   "metadata": {},
   "outputs": [],
   "source": [
    "# as belfore with pruning"
   ]
  },
  {
   "cell_type": "code",
   "execution_count": null,
   "metadata": {},
   "outputs": [],
   "source": [
    "#Descion tree: ass DecisionTreeClassifier as earlier. \n",
    "model = DecisionTreeClassifier(max_depth = 3)\n",
    "model.fit(X,y)\n",
    "\n"
   ]
  },
  {
   "cell_type": "code",
   "execution_count": null,
   "metadata": {},
   "outputs": [],
   "source": [
    "\n",
    "# # This time add the train_test_split \n",
    "X_train, X_test, y_train, y_test = train_test_split(X, y, test_size=0.2)\n"
   ]
  },
  {
   "cell_type": "code",
   "execution_count": null,
   "metadata": {},
   "outputs": [],
   "source": [
    "\n",
    "# # note for above, the test size is 20%, i.e.e 80% is for training the model. If you decrease the amount of data for training \n",
    "# # (i.e.e increase test_size to say, 0.8, the accuracy figure gets a lot worse.)\n",
    "#\n",
    "\n",
    "\n",
    "\n",
    "\n"
   ]
  },
  {
   "cell_type": "code",
   "execution_count": null,
   "metadata": {},
   "outputs": [],
   "source": [
    "\n",
    "# # this is asking is it busier than usual for [maxtp, rain]\n",
    "# Outputs = is businer than usual, 1 = True, busier than usual. If 0, = False, not busier than usual. \n",
    "predictions = model.predict( [ [12,0] ] ) \n",
    "print(predictions)\n"
   ]
  },
  {
   "cell_type": "code",
   "execution_count": null,
   "metadata": {},
   "outputs": [],
   "source": [
    "\n",
    "#\n",
    "\n",
    "# model = DecisionTreeClassifier()\n",
    "model.fit(X_train, y_train)\n",
    "predictions = model.predict(X_test)\n",
    "predictions\n",
    "\n",
    "score = accuracy_score(y_test, predictions)\n",
    "score\n"
   ]
  },
  {
   "cell_type": "code",
   "execution_count": null,
   "metadata": {},
   "outputs": [],
   "source": [
    "\n",
    "#\n",
    "# Model persistance. You want to save the model to run with more data in future. \n",
    "# You don;t have to retrain model. It's already trained - like an intelligent person. \n",
    "# the below will save the model as 'music-recommender.joblib'\n",
    "joblib.dump(model, 'CapelSt_busy.joblib')\n"
   ]
  },
  {
   "cell_type": "code",
   "execution_count": null,
   "metadata": {},
   "outputs": [],
   "source": [
    "\n",
    "# Mosh goes back and changes the above to \n",
    "model = joblib.load('CapelSt_busy.joblib')\n"
   ]
  },
  {
   "cell_type": "code",
   "execution_count": null,
   "metadata": {},
   "outputs": [],
   "source": [
    "\n",
    "# # Let's see if the model is behaving correctly \n",
    "predictions = model.predict([[25,1]])\n",
    "predictions\n",
    "\n",
    "#"
   ]
  },
  {
   "cell_type": "code",
   "execution_count": null,
   "metadata": {},
   "outputs": [],
   "source": [
    "\n",
    "\n",
    "tree.plot_tree(model);\n",
    "\n",
    "#"
   ]
  },
  {
   "cell_type": "code",
   "execution_count": null,
   "metadata": {},
   "outputs": [],
   "source": [
    "print(y)"
   ]
  },
  {
   "cell_type": "code",
   "execution_count": null,
   "metadata": {},
   "outputs": [],
   "source": [
    "\n",
    "\n",
    "################################ Check out for confusion matric and viz ###############\n",
    "## https://www.kaggle.com/code/arunmohan003/pruning-decision-trees-tutorial \n",
    "# Note: class_names : list of strings, bool or None, optional (default=None)\n",
    "   # Names of each of the target classes in ascending numerical order.\n",
    "   # Only relevant for classification and not supported for multi-output.\n",
    "   # If ``True``, shows a symbolic representation of the class name.\n",
    "\n",
    "plt.figure(figsize=(20,20))\n",
    "features = df_farm_eu.columns\n",
    "classes = ['Not Busy','Busy']\n",
    "tree.plot_tree(model,feature_names=features,class_names=classes,filled=True)\n",
    "plt.show()"
   ]
  },
  {
   "cell_type": "code",
   "execution_count": null,
   "metadata": {},
   "outputs": [],
   "source": []
  },
  {
   "cell_type": "markdown",
   "metadata": {},
   "source": [
    "### Part 2: Machine Learning 2 \n",
    "\n",
    "# Based on: # Based on: https://www.datacamp.com/tutorial/tutorial-time-series-forecasting "
   ]
  },
  {
   "cell_type": "code",
   "execution_count": null,
   "metadata": {},
   "outputs": [],
   "source": [
    "# sample  \n",
    "\n",
    "## extract month and year from dates\n",
    "# df_farm_eu2 = df_farm_eu['Month'] = [i.month for i in df_farm_eu['Date']]\n",
    "# df_farm_eu2 = df_farm_eu['Year'] = [i.year for i in df_farm_eu['Date']]\n",
    "\n",
    "# # create a sequence of numbers\n",
    "# data['Series'] = np.arange(1,len(data)+1)\n",
    "\n",
    "# # drop unnecessary columns and re-arrange\n",
    "# data.drop(['Date', 'MA12'], axis=1, inplace=True)\n",
    "# data = data[['Series', 'Year', 'Month', 'Passengers']]\n",
    "\n",
    "# # check the head of the dataset\n",
    "# data.head()"
   ]
  },
  {
   "cell_type": "code",
   "execution_count": null,
   "metadata": {},
   "outputs": [],
   "source": [
    "df_farm_eu.describe()"
   ]
  },
  {
   "cell_type": "code",
   "execution_count": null,
   "metadata": {},
   "outputs": [],
   "source": [
    "\n",
    "# # extract month and year from dates\n",
    "# df_farm_eu['Month'] = [i.month for i in df_farm_eu['Date']]\n",
    "# df_farm_eu['Year'] = [i.year for i in df_farm_eu['Date']]\n",
    "\n",
    "# # # create a sequence of numbers\n",
    "# df_farm_eu['Series'] = np.arange(1,len(df_farm_eu)+1)\n",
    "\n",
    "# # # drop unnecessary columns and re-arrange\n",
    "# df_farm_eu.drop(['Date', 'Capel_Street_avg','Is_busier_than_usual','Date', 'IN', 'OUT'], axis=1, inplace=True)\n",
    "# df_farm_eu_trimmed = df_farm_eu[['Series', 'Capel_Street_avg', 'Year', 'Month', 'maxtp', 'mintp', 'rain', 'wdsp', 'sun']]\n",
    "\n",
    "# # # check the head of the dataset\n",
    "# df_farm_eu_trimmed.head()\n"
   ]
  },
  {
   "cell_type": "code",
   "execution_count": null,
   "metadata": {},
   "outputs": [],
   "source": [
    "# # install pycaret\n",
    "# # pip install pycaret\n",
    "\n",
    "# pip install\n"
   ]
  },
  {
   "cell_type": "code",
   "execution_count": null,
   "metadata": {},
   "outputs": [],
   "source": [
    "import warnings\n",
    "\n",
    "import numpy as np\n",
    "import pandas as pd\n",
    "\n",
    "# hide warnings\n",
    "warnings.filterwarnings(\"ignore\")"
   ]
  },
  {
   "cell_type": "code",
   "execution_count": null,
   "metadata": {},
   "outputs": [],
   "source": [
    "# from sktime.datasets import load_airline\n",
    "# from sktime.utils.plotting import plot_series"
   ]
  },
  {
   "cell_type": "code",
   "execution_count": null,
   "metadata": {},
   "outputs": [],
   "source": [
    "\n",
    "\n",
    "# # plotting for visualization\n",
    "# plot_series(y)\n"
   ]
  },
  {
   "cell_type": "markdown",
   "metadata": {},
   "source": [
    "## New approach: https://www.kaggle.com/code/tuannguyenvananh/traffic-prediction-and-some-analysis/notebook "
   ]
  },
  {
   "cell_type": "code",
   "execution_count": null,
   "metadata": {},
   "outputs": [],
   "source": [
    "\n",
    "\n",
    "import seaborn as sns\n",
    "import matplotlib.pyplot as plt\n",
    "from matplotlib.dates import DateFormatter\n",
    "from datetime import datetime, timedelta, date\n",
    "from scipy import stats\n",
    "from sklearn.preprocessing import StandardScaler\n",
    "from sklearn.model_selection import train_test_split\n",
    "from sklearn.ensemble import RandomForestRegressor\n",
    "from sklearn.ensemble import GradientBoostingRegressor\n",
    "from sklearn.metrics import r2_score, mean_squared_error\n",
    "from statsmodels.graphics.tsaplots import plot_acf, plot_pacf\n",
    "\n"
   ]
  },
  {
   "cell_type": "code",
   "execution_count": null,
   "metadata": {},
   "outputs": [],
   "source": [
    "\n",
    "\n",
    "# Don't need this as I alreay have my data frame\n",
    "# df = pd.read_csv('../input/traffic-prediction-dataset/traffic.csv', parse_dates=True, index_col='DateTime')\n",
    "\n",
    "df_farm_eu2 = pd.read_csv('df_farm_eu2.csv', parse_dates=True, index_col='Date') \n",
    "\n",
    "df_farm_eu2.head()\n",
    "\n"
   ]
  },
  {
   "cell_type": "code",
   "execution_count": null,
   "metadata": {},
   "outputs": [],
   "source": [
    "df_farm_eu2.describe"
   ]
  },
  {
   "cell_type": "code",
   "execution_count": null,
   "metadata": {},
   "outputs": [],
   "source": [
    "df_farm_eu2.info()"
   ]
  },
  {
   "cell_type": "code",
   "execution_count": null,
   "metadata": {},
   "outputs": [],
   "source": [
    "### did all this manually \n",
    "\n",
    "# extract year from date\n",
    "# df_farm_eu2['year'] = pd.Series(df_farm_eu.index).apply(lambda x: x.year).to_list()\n",
    "\n",
    "# # extract month from date\n",
    "# df_farm_eu['month'] = pd.Series(df.index).apply(lambda x: x.month).to_list()\n",
    "\n",
    "# # extract day from date\n",
    "# df_farm_eu['day_of_month'] = pd.Series(df.index).apply(lambda x: x.day).to_list()\n",
    "\n",
    "# # extract hour from date\n",
    "# df_farm_eu['Hour'] = pd.Series(df.index).apply(lambda x: x.hour).to_list()\n",
    "\n"
   ]
  },
  {
   "cell_type": "code",
   "execution_count": null,
   "metadata": {},
   "outputs": [],
   "source": [
    "# example code\n",
    "\n",
    "# def make_hist(junction=1):\n",
    "#     data = df[df['Junction'] == junction]\n",
    "#     f, ax = plt.subplots(figsize=(17, 5))\n",
    "#     ax = sns.histplot(data['Vehicles'], kde=True, stat='probability')\n",
    "#     ax.set_title(f'Plot show the distribution of data in junction {junction}')\n",
    "#     ax.grid(True, ls='-.', alpha=0.75)\n",
    "#     plt.show()\n",
    "\n"
   ]
  },
  {
   "cell_type": "code",
   "execution_count": null,
   "metadata": {},
   "outputs": [],
   "source": [
    "\n",
    "\n",
    "def make_hist()\n",
    "    data = df_farm_eu2[df_farm_eu2['Capel_Street_avg'] == Capel_Street_avg]\n",
    "    f, ax = plt.subplots(figsize=(17, 5))\n",
    "    ax = sns.histplot(data['Capel_Street_avg'], kde=True, stat='probability')\n",
    "    ax.set_title(f'Plot show the distribution of data in Capel_Street_avg {Capel_Street_avg}')\n",
    "    ax.grid(True, ls='-.', alpha=0.75)\n",
    "    plt.show()\n",
    "\n"
   ]
  },
  {
   "cell_type": "code",
   "execution_count": null,
   "metadata": {},
   "outputs": [],
   "source": [
    "make_hist(1)"
   ]
  },
  {
   "cell_type": "code",
   "execution_count": null,
   "metadata": {},
   "outputs": [],
   "source": []
  },
  {
   "cell_type": "code",
   "execution_count": null,
   "metadata": {},
   "outputs": [],
   "source": [
    "import pandas as pd\n",
    "\n",
    "# Histogram \n",
    "# Source: https://realpython.com/python-histograms/ \n",
    "## Maybe make a function of this. Maybe see above code? \n",
    "\n",
    "df_farm_eu2.Capel_Street_avg.plot.hist(grid=True, bins=20, rwidth=0.9,\n",
    "                   color='#607c8e')\n",
    "plt.title('Capel Street Daily Footfall')\n",
    "plt.xlabel('Counts')\n",
    "plt.ylabel('Capel Street Footfall')\n",
    "plt.grid(axis='y', alpha=0.75)\n"
   ]
  },
  {
   "cell_type": "code",
   "execution_count": null,
   "metadata": {},
   "outputs": [],
   "source": [
    "df_farm_eu2.maxtp.plot.hist(grid=True, bins=20, rwidth=0.9,\n",
    "                   color='#607c8e')\n",
    "plt.title('maxtp')\n",
    "plt.xlabel('Counts')\n",
    "plt.ylabel('maxtp')\n",
    "plt.grid(axis='y', alpha=0.75)"
   ]
  },
  {
   "cell_type": "code",
   "execution_count": null,
   "metadata": {},
   "outputs": [],
   "source": [
    "### Rain is skewed. Can't get negative rainfall. Does that matter? \n",
    "\n",
    "df_farm_eu2.rain.plot.hist(grid=True, bins=20, rwidth=0.9,\n",
    "                   color='#607c8e')\n",
    "plt.title('rain')\n",
    "plt.xlabel('Counts')\n",
    "plt.ylabel('rain')\n",
    "plt.grid(axis='y', alpha=0.75)"
   ]
  },
  {
   "cell_type": "code",
   "execution_count": null,
   "metadata": {},
   "outputs": [],
   "source": [
    "df_farm_eu2.head()"
   ]
  },
  {
   "cell_type": "code",
   "execution_count": null,
   "metadata": {},
   "outputs": [],
   "source": [
    "## Sample code\n",
    "\n",
    "# def make_time_series_plot(junction=1):\n",
    "#     f, ax = plt.subplots(figsize=(17, 5))\n",
    "#     data=df[df.Junction == junction]\n",
    "#     ax = sns.lineplot(data=data, y='Vehicles', x='DateTime', ax=ax)\n",
    "#     start = data.head(1)\n",
    "#     end = data.tail(1)\n",
    "#     ax.set_title(f'Plot show amounts of Vehicles in junction {junction} from {start.Month[0]}-{start.Year[0]} to {end.Month[0]}-{end.Year[0]}', fontsize=15)\n",
    "#     ax.grid(True, ls='-.', alpha=0.75)\n",
    "#     plt.show()\n",
    "\n",
    "df_farm_eu.head()\n",
    "\n",
    "## Sample code\n",
    "\n",
    "def make_time_series_plot():\n",
    "    f, ax = plt.subplots(figsize=(17, 5))\n",
    "    ax = sns.lineplot(data=df_farm_eu, y='Capel_Street_avg', x='Date', ax=ax)\n",
    "    start = df_farm_eu.head(1)\n",
    "    end = df_farm_eu.tail(1)\n",
    "    ax.set_title(f'Capel Street Footfall from {start.month[0]}-{start.year[0]} to {end.month[0]}-{end.year[0]}', fontsize=15)\n",
    "    ax.grid(True, ls='-.', alpha=0.75)\n",
    "    plt.show()\n",
    "\n"
   ]
  },
  {
   "cell_type": "code",
   "execution_count": null,
   "metadata": {},
   "outputs": [],
   "source": [
    "make_time_series_plot()"
   ]
  },
  {
   "cell_type": "code",
   "execution_count": null,
   "metadata": {},
   "outputs": [],
   "source": [
    "\n",
    "\n",
    "standardization = lambda x: StandardScaler().fit_transform(x)"
   ]
  },
  {
   "cell_type": "code",
   "execution_count": null,
   "metadata": {},
   "outputs": [],
   "source": [
    "\n",
    "z_df_farm_eu2 = df_farm_eu2.copy()\n",
    "z_df_farm_eu2['Capel_Street_avg'] = standardization(z_df_farm_eu2.Capel_Street_avg.values.reshape(-1, 1))\n",
    "z_df_farm_eu2.head()\n",
    "\n"
   ]
  },
  {
   "cell_type": "code",
   "execution_count": null,
   "metadata": {},
   "outputs": [],
   "source": [
    "## Add is capel street as dummy variable \n",
    "# del df_farm_eu2['Is_Capel_Street_avg']\n",
    "df_farm_eu2['Is_Capel_Street_avg']=1\n",
    "df_farm_eu2.head()"
   ]
  },
  {
   "cell_type": "code",
   "execution_count": null,
   "metadata": {},
   "outputs": [],
   "source": [
    "# Sample code \n",
    "# f, axis = plt.subplots(3, 4, figsize=(20, 10))\n",
    "\n",
    "# for i, year in enumerate(range(2015, 2018)):\n",
    "#   for j, junction in enumerate(range(1, 5)):\n",
    "#     sns.histplot(z_df[(z_df.Junction == junction) & (z_df.Year == year)]['Vehicles'], kde=True, ax=axis[i, j], stat='probability')\n",
    "#     axis[i, j].grid(True, alpha=0.75, ls='-.')\n",
    "    \n",
    "# plt.xlabel('Year')\n",
    "# plt.ylabel('Junction')\n",
    "# f.suptitle('Histogram showing the distribution of Vehicles by Year and by Junction when data transfrom to Z Score', fontsize=20)\n",
    "# plt.show()"
   ]
  },
  {
   "cell_type": "code",
   "execution_count": null,
   "metadata": {},
   "outputs": [],
   "source": [
    "# Sample code \n",
    "\n",
    "## Junction = (nothing) or Is_Capel_Street_avg \n",
    "## vechiles = Capel_St\n",
    "\n",
    "# f, axis = plt.subplots(3, 4, figsize=(20, 10))\n",
    "\n",
    "# for i, year in enumerate(range(2015, 2018)):\n",
    "#   for j, junction in enumerate(range(1, 5)):\n",
    "#     sns.histplot(z_df[(z_df.Junction == junction) & (z_df.Year == year)]['Vehicles'], kde=True, ax=axis[i, j], stat='probability')\n",
    "#     axis[i, j].grid(True, alpha=0.75, ls='-.')\n",
    "    \n",
    "# plt.xlabel('Year')\n",
    "# plt.ylabel('Junction')\n",
    "# f.suptitle('Histogram showing the distribution of Vehicles by Year and by Junction when data transfrom to Z Score', fontsize=20)\n",
    "# plt.show()\n",
    "\n"
   ]
  },
  {
   "cell_type": "code",
   "execution_count": null,
   "metadata": {},
   "outputs": [],
   "source": [
    "\n",
    "\n",
    "# Boxplot for Vehicles\n",
    "\n",
    "#     In boxplot, we can see a lot of outliers (those which is the dot)\n",
    "\n",
    "# f, axis = plt.subplots(3, 4, figsize=(20, 10))\n",
    "\n",
    "# for i, year in zip(range(3), range(2015, 2018)):\n",
    "#   for j, junction in zip(range(4), range(1, 5)):\n",
    "#     sns.boxplot(x=df[(df.Junction == junction) & (df.Year == year)]['Vehicles'], ax=axis[i, j])\n",
    "#     axis[i, j].grid(True, alpha=0.75, ls='-.')\n",
    "\n",
    "# plt.xlabel('Year')\n",
    "# plt.ylabel('Junction')\n",
    "# f.suptitle('Boxplot showing the range of amounts Vehicles by Year and by Junction', fontsize=20)\n",
    "# plt.show()\n",
    "\n"
   ]
  },
  {
   "cell_type": "code",
   "execution_count": null,
   "metadata": {},
   "outputs": [],
   "source": [
    "\n",
    "\n",
    "f, axis = plt.subplots(3, 4, figsize=(20, 10))\n",
    "\n",
    "for i, year in zip(range(3), range(2015, 2018)):\n",
    "  for i, is_Capel_Street_avg in zip(range(4), range(1, 5)):\n",
    "    sns.boxplot(x=df_farm_eu2[(df_farm_eu2.Is_caple_street == is_Capel_Street_avg & (df_farm_eu2.year == year)]['Capel_Street_avg'], ax=axis[i, j])\n",
    "    axis[i, j].grid(True, alpha=0.75, ls='-.')\n",
    "\n",
    "plt.xlabel('Year')\n",
    "plt.ylabel('Capel Street')\n",
    "f.suptitle('Boxplot showing the range of amounts Footfall on Capel Street by Year', fontsize=20)\n",
    "plt.show()\n",
    "\n"
   ]
  },
  {
   "cell_type": "code",
   "execution_count": null,
   "metadata": {},
   "outputs": [],
   "source": [
    "\n",
    "\n",
    "# f, axis = plt.subplots(3, 4, figsize=(20, 10))\n",
    "\n",
    "# #for i, year in zip(range(3), range(2015, 2018)):\n",
    "#  # for i, junction in zip(range(4), range(1, 5)):\n",
    "# sns.boxplot(x=df_farm_eu2[(df_farm_eu2.year == year)]['Capel_Street_avg'], ax=axis[i, j])\n",
    "# axis[i, j].grid(True, alpha=0.75, ls='-.')\n",
    "\n",
    "# plt.xlabel('Year')\n",
    "# plt.ylabel('Capel Street')\n",
    "# f.suptitle('Boxplot showing the range of amounts Footfall in Capel Street', fontsize=20)\n",
    "# plt.show()"
   ]
  },
  {
   "cell_type": "code",
   "execution_count": null,
   "metadata": {},
   "outputs": [],
   "source": [
    "### https://www.geeksforgeeks.org/box-plot-in-python-using-matplotlib/\n",
    "\n",
    "# Import libraries\n",
    "import matplotlib.pyplot as plt\n",
    "import numpy as np\n",
    " \n",
    " \n",
    " \n",
    "fig = plt.figure(figsize =(10, 7))\n",
    " \n",
    "# Creating plot\n",
    "plt.boxplot(df_farm_eu2.Capel_Street_avg)\n",
    " \n",
    "# show plot\n",
    "plt.show()\n",
    "\n"
   ]
  },
  {
   "cell_type": "code",
   "execution_count": null,
   "metadata": {},
   "outputs": [],
   "source": [
    "### https://www.geeksforgeeks.org/regression-classification-supervised-machine-learning/?ref=gcse\n",
    "\n",
    "# # Python code to illustrate\n",
    "# # regression using data set\n",
    "# import matplotlib\n",
    "# matplotlib.use('GTKAgg')\n",
    "\n",
    "# import matplotlib.pyplot as plt\n",
    "# import numpy as np\n",
    "# from sklearn import datasets, linear_model\n",
    "# import pandas as pd\n",
    "\n",
    "# # Load CSV and columns\n",
    "# df = pd.read_csv(\"Housing.csv\")\n",
    "\n",
    "# Y = df['price']\n",
    "# X = df['lotsize']\n",
    "\n",
    "# X=X.values.reshape(len(X),1)\n",
    "# Y=Y.values.reshape(len(Y),1)\n",
    "\n",
    "# # Split the data into training/testing sets\n",
    "# X_train = X[:-250]\n",
    "# X_test = X[-250:]\n",
    "\n",
    "# # Split the targets into training/testing sets\n",
    "# Y_train = Y[:-250]\n",
    "# Y_test = Y[-250:]\n",
    "\n",
    "# # Plot outputs\n",
    "# plt.scatter(X_test, Y_test, color='black')\n",
    "# plt.title('Test Data')\n",
    "# plt.xlabel('Size')\n",
    "# plt.ylabel('Price')\n",
    "# plt.xticks(())\n",
    "# plt.yticks(())\n",
    "\n",
    "\n",
    "# # Create linear regression object\n",
    "# regr = linear_model.LinearRegression()\n",
    "\n",
    "# # Train the model using the training sets\n",
    "# regr.fit(X_train, Y_train)\n",
    "\n",
    "# # Plot outputs\n",
    "# plt.plot(X_test, regr.predict(X_test), color='red',linewidth=3)\n",
    "# plt.show()\n"
   ]
  },
  {
   "cell_type": "code",
   "execution_count": null,
   "metadata": {},
   "outputs": [],
   "source": [
    "### https://www.geeksforgeeks.org/regression-classification-supervised-machine-learning/?ref=gcse\n",
    "\n",
    "# Python code to illustrate\n",
    "# regression using data set\n",
    "import matplotlib\n",
    "\n",
    "\n",
    "################################################# Can't get these to work. Ignoring and hoping for best. \n",
    "# import pycairo\n",
    "# import cairocffiis \n",
    "# matplotlib.use('GTK3Cairo')\n",
    "\n",
    "\n",
    "\n",
    "import matplotlib.pyplot as plt\n",
    "import numpy as np\n",
    "from sklearn import datasets, linear_model\n",
    "import pandas as pd\n",
    "\n",
    "# # Load CSV and columns\n",
    "# df = pd.read_csv(\"Housing.csv\")\n",
    "\n",
    "\n",
    "# y_maxtp = df_farm_eu['Capel_Street_avg']\n",
    "\n",
    "# #  y = dependant variable \n",
    "# Y_Capel_Street_avg = df_farm_eu2['Capel_Street_avg']\n",
    "\n",
    "# # x = explainatory variables \n",
    "# X_maxtp = df_farm_eu['maxtp']\n",
    "# X_rain = df_farm_eu['rain']\n",
    "\n",
    "\n",
    "# # Y = df['price']\n",
    "# # X = df['lotsize']\n",
    "\n",
    "# # X=X.values.reshape(len(X),1)\n",
    "# # y=y.values.reshape(len(y),1)\n",
    "\n",
    "# # # # Split the data into training/testing sets\n",
    "# # X_train = X[:-250]\n",
    "# # X_test = X[-250:]\n",
    "\n",
    "# # # # Split the targets into training/testing sets\n",
    "# # y_train = y[:-250]\n",
    "# # y_test = y[-250:]\n",
    "\n",
    "# # # # Plot outputs\n",
    "# # plt.scatter(X_test, y_test, color='black')\n",
    "# # plt.title('Test Data')\n",
    "# # plt.xlabel('Date')\n",
    "# # plt.ylabel('Footfall')\n",
    "# # plt.xticks(())\n",
    "# # plt.yticks(())\n",
    "\n",
    "\n",
    "# Create linear regression object\n",
    "regr = linear_model.LinearRegression()\n",
    "\n",
    "# Train the model using the training sets\n",
    "regr.fit(X_train, y_train)\n",
    "\n",
    "# Plot outputs\n",
    "# plt.plot(X_test, regr.predict(X_test), color='red',linewidth=3)\n",
    "# plt.show()\n",
    "\n",
    "plt.plot(X_test, regr.predict(X_test))\n",
    "plt.show()\n"
   ]
  },
  {
   "cell_type": "code",
   "execution_count": null,
   "metadata": {},
   "outputs": [],
   "source": [
    "print(Y_Capel_Street_avg)"
   ]
  },
  {
   "cell_type": "code",
   "execution_count": null,
   "metadata": {},
   "outputs": [],
   "source": [
    "print(X_maxtp)"
   ]
  },
  {
   "cell_type": "code",
   "execution_count": null,
   "metadata": {},
   "outputs": [],
   "source": [
    "print(X_rain)"
   ]
  },
  {
   "cell_type": "code",
   "execution_count": null,
   "metadata": {},
   "outputs": [],
   "source": [
    "\n",
    "\n",
    "\n",
    "# X=X.values.reshape(len(X),1)\n",
    "# y=y.values.reshape(len(y),1)\n",
    "\n",
    "# # Split the data into training/testing sets\n",
    "# First rain \n",
    "\n",
    "X_rain_train = X[0.8]\n",
    "X_rain_test = X[0.2]\n",
    "\n",
    "# # Split the targets into training/testing sets\n",
    "y_Capel_Street_avg_train = y[0.8]\n",
    "y_Capel_Street_avg_test = y[0.2]\n",
    "\n",
    "# # Plot outputs\n",
    "plt.scatter(X_rain_test, y_Capel_Street_avg_test, color='black')\n",
    "plt.title('Rain Data')\n",
    "plt.xlabel('Date')\n",
    "plt.ylabel('Footfall')\n",
    "plt.xticks(())\n",
    "plt.yticks(())\n",
    "\n",
    "\n",
    "# # Create linear regression object\n",
    "# regr = linear_model.LinearRegression()\n",
    "\n",
    "# # Train the model using the training sets\n",
    "# regr.fit(X_train, Y_train)\n",
    "\n",
    "# # Plot outputs\n",
    "# plt.plot(X_test, regr.predict(X_test), color='red',linewidth=3)\n",
    "# plt.show()\n"
   ]
  },
  {
   "cell_type": "code",
   "execution_count": null,
   "metadata": {},
   "outputs": [],
   "source": [
    "12*.8"
   ]
  },
  {
   "cell_type": "markdown",
   "metadata": {},
   "source": [
    "##https://www.datacamp.com/tutorial/tutorial-time-series-forecasting "
   ]
  },
  {
   "cell_type": "code",
   "execution_count": null,
   "metadata": {},
   "outputs": [],
   "source": [
    "\n",
    "\n",
    "# split data into train-test set\n",
    "train = df_farm_eu2[df_farm_eu2['month'] < 9]\n",
    "test = df_farm_eu2[df_farm_eu2['month'] >= 9]\n",
    "\n",
    "# # check shape\n",
    "train.shape, test.shape\n"
   ]
  },
  {
   "cell_type": "code",
   "execution_count": null,
   "metadata": {},
   "outputs": [],
   "source": [
    "# install pycaret\n",
    "!pip install --pre pycaret\n"
   ]
  },
  {
   "cell_type": "code",
   "execution_count": null,
   "metadata": {},
   "outputs": [],
   "source": [
    "pip install orbit-ml"
   ]
  },
  {
   "cell_type": "code",
   "execution_count": null,
   "metadata": {},
   "outputs": [],
   "source": [
    "pip install pycaret[full]"
   ]
  },
  {
   "cell_type": "code",
   "execution_count": null,
   "metadata": {},
   "outputs": [],
   "source": []
  }
 ],
 "metadata": {
  "kernelspec": {
   "display_name": "Python 3 (ipykernel)",
   "language": "python",
   "name": "python3"
  },
  "language_info": {
   "codemirror_mode": {
    "name": "ipython",
    "version": 3
   },
   "file_extension": ".py",
   "mimetype": "text/x-python",
   "name": "python",
   "nbconvert_exporter": "python",
   "pygments_lexer": "ipython3",
   "version": "3.9.12"
  }
 },
 "nbformat": 4,
 "nbformat_minor": 4
}
