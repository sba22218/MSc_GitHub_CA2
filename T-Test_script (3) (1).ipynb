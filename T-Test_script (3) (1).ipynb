{
 "cells": [
  {
   "cell_type": "code",
   "execution_count": 2,
   "id": "b8be40ab",
   "metadata": {},
   "outputs": [],
   "source": [
    "# Importing libraries\n",
    "import numpy as np\n",
    "import matplotlib.pyplot as plt\n",
    "import pandas as pd\n",
    "import scipy.stats as stats\n",
    "from statsmodels.stats import weightstats"
   ]
  },
  {
   "cell_type": "markdown",
   "id": "89675e5d",
   "metadata": {},
   "source": [
    "# T-Test, one population"
   ]
  },
  {
   "cell_type": "markdown",
   "id": "73b0da1b",
   "metadata": {},
   "source": [
    "An auditor wants to know the average salary of the employees at a certain company. The owner of the company claims that the salary is, in average, 88K yearly. The auditor wants to verify if this afirmation is true, and he takes a sample of 30 employees and handle the data collected to you to perform a test and prove the claim. At a 5% significance level, could you verify the affirmation?\n",
    " "
   ]
  },
  {
   "cell_type": "code",
   "execution_count": 3,
   "id": "29336f29",
   "metadata": {},
   "outputs": [
    {
     "data": {
      "text/html": [
       "<div>\n",
       "<style scoped>\n",
       "    .dataframe tbody tr th:only-of-type {\n",
       "        vertical-align: middle;\n",
       "    }\n",
       "\n",
       "    .dataframe tbody tr th {\n",
       "        vertical-align: top;\n",
       "    }\n",
       "\n",
       "    .dataframe thead th {\n",
       "        text-align: right;\n",
       "    }\n",
       "</style>\n",
       "<table border=\"1\" class=\"dataframe\">\n",
       "  <thead>\n",
       "    <tr style=\"text-align: right;\">\n",
       "      <th></th>\n",
       "      <th>YearsExperience</th>\n",
       "      <th>Salary</th>\n",
       "    </tr>\n",
       "  </thead>\n",
       "  <tbody>\n",
       "    <tr>\n",
       "      <th>0</th>\n",
       "      <td>1.1</td>\n",
       "      <td>39343.0</td>\n",
       "    </tr>\n",
       "    <tr>\n",
       "      <th>1</th>\n",
       "      <td>1.3</td>\n",
       "      <td>46205.0</td>\n",
       "    </tr>\n",
       "    <tr>\n",
       "      <th>2</th>\n",
       "      <td>1.5</td>\n",
       "      <td>37731.0</td>\n",
       "    </tr>\n",
       "    <tr>\n",
       "      <th>3</th>\n",
       "      <td>2.0</td>\n",
       "      <td>43525.0</td>\n",
       "    </tr>\n",
       "    <tr>\n",
       "      <th>4</th>\n",
       "      <td>2.2</td>\n",
       "      <td>39891.0</td>\n",
       "    </tr>\n",
       "  </tbody>\n",
       "</table>\n",
       "</div>"
      ],
      "text/plain": [
       "   YearsExperience   Salary\n",
       "0              1.1  39343.0\n",
       "1              1.3  46205.0\n",
       "2              1.5  37731.0\n",
       "3              2.0  43525.0\n",
       "4              2.2  39891.0"
      ]
     },
     "execution_count": 3,
     "metadata": {},
     "output_type": "execute_result"
    }
   ],
   "source": [
    "# Importing the dataset\n",
    "dataset = pd.read_csv('C:/Users/miant/Desktop/Python/Salary_Data.csv')\n",
    "dataset.head(5)"
   ]
  },
  {
   "cell_type": "code",
   "execution_count": 4,
   "id": "0781cd20",
   "metadata": {},
   "outputs": [
    {
     "data": {
      "text/plain": [
       "0      39343.0\n",
       "1      46205.0\n",
       "2      37731.0\n",
       "3      43525.0\n",
       "4      39891.0\n",
       "5      56642.0\n",
       "6      60150.0\n",
       "7      54445.0\n",
       "8      64445.0\n",
       "9      57189.0\n",
       "10     63218.0\n",
       "11     55794.0\n",
       "12     56957.0\n",
       "13     57081.0\n",
       "14     61111.0\n",
       "15     67938.0\n",
       "16     66029.0\n",
       "17     83088.0\n",
       "18     81363.0\n",
       "19     93940.0\n",
       "20     91738.0\n",
       "21     98273.0\n",
       "22    101302.0\n",
       "23    113812.0\n",
       "24    109431.0\n",
       "25    105582.0\n",
       "26    116969.0\n",
       "27    112635.0\n",
       "28    122391.0\n",
       "29    121872.0\n",
       "Name: Salary, dtype: float64"
      ]
     },
     "execution_count": 4,
     "metadata": {},
     "output_type": "execute_result"
    }
   ],
   "source": [
    "# Define the variable \n",
    "#x = salary of the group (in euros)\n",
    "X = dataset['Salary']; X"
   ]
  },
  {
   "cell_type": "code",
   "execution_count": 27,
   "id": "08004da7",
   "metadata": {},
   "outputs": [
    {
     "data": {
      "text/plain": [
       "Ttest_1sampResult(statistic=2.1983281606019975, pvalue=0.03605756109651702)"
      ]
     },
     "execution_count": 27,
     "metadata": {},
     "output_type": "execute_result"
    }
   ],
   "source": [
    "#H0 : u = 65000\n",
    "#H1 : u =! 65000\n",
    "#stats.ttest_1samp(X,mu of H0)\n",
    "stats.ttest_1samp(X,65000)\n"
   ]
  },
  {
   "cell_type": "markdown",
   "id": "5de42bf7",
   "metadata": {},
   "source": [
    "We reject H0 ---> We accept H1, so there is enough evidence to say that the average salary is not 65k yearly."
   ]
  },
  {
   "cell_type": "markdown",
   "id": "2b5859c3",
   "metadata": {},
   "source": [
    "Suppose that the auditor wants to know if the salary is, in average, less than 66K. Calculate the test at a 5% significance level."
   ]
  },
  {
   "cell_type": "code",
   "execution_count": 32,
   "id": "444ebbe5",
   "metadata": {},
   "outputs": [
    {
     "data": {
      "text/plain": [
       "0.01802878054825851"
      ]
     },
     "execution_count": 32,
     "metadata": {},
     "output_type": "execute_result"
    }
   ],
   "source": [
    "#H1 : u > 65000\n",
    "stats.t.sf(2.1983281606019975, 29)\n"
   ]
  },
  {
   "cell_type": "markdown",
   "id": "5f4b0ede",
   "metadata": {},
   "source": [
    "We reject H0, thus, there is enough evidence to say that the salaries are not in average greater than 65000."
   ]
  },
  {
   "cell_type": "markdown",
   "id": "9018d541",
   "metadata": {},
   "source": [
    "# T-Test, two populations"
   ]
  },
  {
   "cell_type": "markdown",
   "id": "d6857c55",
   "metadata": {},
   "source": [
    "Trip advisor wants to know if, in average, there are differences between the star rates received by the guests according to the type of travelers they hosted. The company hires you as an analyst to verify if the stars received are similar, in order to plan future modifications. At a 5% significante level, solve the request of the company. "
   ]
  },
  {
   "cell_type": "code",
   "execution_count": 43,
   "id": "96d567a4",
   "metadata": {},
   "outputs": [
    {
     "data": {
      "text/html": [
       "<div>\n",
       "<style scoped>\n",
       "    .dataframe tbody tr th:only-of-type {\n",
       "        vertical-align: middle;\n",
       "    }\n",
       "\n",
       "    .dataframe tbody tr th {\n",
       "        vertical-align: top;\n",
       "    }\n",
       "\n",
       "    .dataframe thead th {\n",
       "        text-align: right;\n",
       "    }\n",
       "</style>\n",
       "<table border=\"1\" class=\"dataframe\">\n",
       "  <thead>\n",
       "    <tr style=\"text-align: right;\">\n",
       "      <th></th>\n",
       "      <th>Traveler_type</th>\n",
       "      <th>Hotel_stars_given</th>\n",
       "    </tr>\n",
       "  </thead>\n",
       "  <tbody>\n",
       "    <tr>\n",
       "      <th>0</th>\n",
       "      <td>Families</td>\n",
       "      <td>3</td>\n",
       "    </tr>\n",
       "    <tr>\n",
       "      <th>1</th>\n",
       "      <td>Business</td>\n",
       "      <td>3</td>\n",
       "    </tr>\n",
       "    <tr>\n",
       "      <th>2</th>\n",
       "      <td>Families</td>\n",
       "      <td>3</td>\n",
       "    </tr>\n",
       "    <tr>\n",
       "      <th>3</th>\n",
       "      <td>Families</td>\n",
       "      <td>3</td>\n",
       "    </tr>\n",
       "    <tr>\n",
       "      <th>4</th>\n",
       "      <td>Business</td>\n",
       "      <td>3</td>\n",
       "    </tr>\n",
       "  </tbody>\n",
       "</table>\n",
       "</div>"
      ],
      "text/plain": [
       "  Traveler_type  Hotel_stars_given\n",
       "0      Families                  3\n",
       "1      Business                  3\n",
       "2      Families                  3\n",
       "3      Families                  3\n",
       "4      Business                  3"
      ]
     },
     "execution_count": 43,
     "metadata": {},
     "output_type": "execute_result"
    }
   ],
   "source": [
    "# Importing the dataset\\n\",\n",
    "dataset = pd.read_csv('C:/Users/miant/Desktop/Python/trip_advisor_stars.csv')\n",
    "dataset.head(5)\n"
   ]
  },
  {
   "cell_type": "code",
   "execution_count": 44,
   "id": "e90ef072",
   "metadata": {},
   "outputs": [],
   "source": [
    "#We group the data according to the categories requested by the company\n",
    "\n",
    "families = dataset.query('Traveler_type == \"Families\"')['Hotel_stars_given']\n",
    "business = dataset.query('Traveler_type == \"Business\"')['Hotel_stars_given']"
   ]
  },
  {
   "cell_type": "code",
   "execution_count": 45,
   "id": "8a459850",
   "metadata": {},
   "outputs": [
    {
     "data": {
      "text/plain": [
       "Ttest_indResult(statistic=-0.044372088608790855, pvalue=0.9646254540887074)"
      ]
     },
     "metadata": {},
     "output_type": "display_data"
    }
   ],
   "source": [
    "#We perform the test assuming as H0 that mu1 = mu2 (family rate = business rate)\n",
    "test = stats.ttest_ind(families, business, \n",
    "                      equal_var=True)\n",
    "\n",
    "display(test)"
   ]
  },
  {
   "cell_type": "code",
   "execution_count": 46,
   "id": "64e970ae",
   "metadata": {},
   "outputs": [
    {
     "data": {
      "text/plain": [
       "Ttest_indResult(statistic=-0.04451747410407884, pvalue=0.9645519335242811)"
      ]
     },
     "metadata": {},
     "output_type": "display_data"
    }
   ],
   "source": [
    "test = stats.ttest_ind(families, business, \n",
    "                      equal_var=False)\n",
    "\n",
    "display(test)"
   ]
  },
  {
   "cell_type": "code",
   "execution_count": null,
   "id": "601e1004",
   "metadata": {},
   "outputs": [],
   "source": []
  }
 ],
 "metadata": {
  "kernelspec": {
   "display_name": "Python 3 (ipykernel)",
   "language": "python",
   "name": "python3"
  },
  "language_info": {
   "codemirror_mode": {
    "name": "ipython",
    "version": 3
   },
   "file_extension": ".py",
   "mimetype": "text/x-python",
   "name": "python",
   "nbconvert_exporter": "python",
   "pygments_lexer": "ipython3",
   "version": "3.9.12"
  }
 },
 "nbformat": 4,
 "nbformat_minor": 5
}
